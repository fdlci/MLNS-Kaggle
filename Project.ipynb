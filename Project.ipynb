{
  "nbformat": 4,
  "nbformat_minor": 0,
  "metadata": {
    "language_info": {
      "codemirror_mode": {
        "name": "ipython",
        "version": 3
      },
      "file_extension": ".py",
      "mimetype": "text/x-python",
      "name": "python",
      "nbconvert_exporter": "python",
      "pygments_lexer": "ipython3",
      "version": "3.8.0-final"
    },
    "orig_nbformat": 2,
    "kernelspec": {
      "name": "python3",
      "display_name": "Python 3.8.0 64-bit",
      "metadata": {
        "interpreter": {
          "hash": "ecbb290622efe6a108e88b8a5dccb3aa582d66a3ed03b3b3ca754b0c02090994"
        }
      }
    },
    "colab": {
      "name": "Project.ipynb",
      "provenance": [],
      "collapsed_sections": [],
      "toc_visible": true
    },
    "widgets": {
      "application/vnd.jupyter.widget-state+json": {
        "f6f0187100a545229f06727f2cb04411": {
          "model_module": "@jupyter-widgets/controls",
          "model_name": "HBoxModel",
          "state": {
            "_view_name": "HBoxView",
            "_dom_classes": [],
            "_model_name": "HBoxModel",
            "_view_module": "@jupyter-widgets/controls",
            "_model_module_version": "1.5.0",
            "_view_count": null,
            "_view_module_version": "1.5.0",
            "box_style": "",
            "layout": "IPY_MODEL_b938d7d1e85f4c4082473fa03b59976d",
            "_model_module": "@jupyter-widgets/controls",
            "children": [
              "IPY_MODEL_c545cb370dd44c73b15bfb75044c8262",
              "IPY_MODEL_96dc0fdcbfff416e86a8ab7404d8c31a"
            ]
          }
        },
        "b938d7d1e85f4c4082473fa03b59976d": {
          "model_module": "@jupyter-widgets/base",
          "model_name": "LayoutModel",
          "state": {
            "_view_name": "LayoutView",
            "grid_template_rows": null,
            "right": null,
            "justify_content": null,
            "_view_module": "@jupyter-widgets/base",
            "overflow": null,
            "_model_module_version": "1.2.0",
            "_view_count": null,
            "flex_flow": null,
            "width": null,
            "min_width": null,
            "border": null,
            "align_items": null,
            "bottom": null,
            "_model_module": "@jupyter-widgets/base",
            "top": null,
            "grid_column": null,
            "overflow_y": null,
            "overflow_x": null,
            "grid_auto_flow": null,
            "grid_area": null,
            "grid_template_columns": null,
            "flex": null,
            "_model_name": "LayoutModel",
            "justify_items": null,
            "grid_row": null,
            "max_height": null,
            "align_content": null,
            "visibility": null,
            "align_self": null,
            "height": null,
            "min_height": null,
            "padding": null,
            "grid_auto_rows": null,
            "grid_gap": null,
            "max_width": null,
            "order": null,
            "_view_module_version": "1.2.0",
            "grid_template_areas": null,
            "object_position": null,
            "object_fit": null,
            "grid_auto_columns": null,
            "margin": null,
            "display": null,
            "left": null
          }
        },
        "c545cb370dd44c73b15bfb75044c8262": {
          "model_module": "@jupyter-widgets/controls",
          "model_name": "FloatProgressModel",
          "state": {
            "_view_name": "ProgressView",
            "style": "IPY_MODEL_b5263241506e44a2a40da7ab62cddbde",
            "_dom_classes": [],
            "description": " 25%",
            "_model_name": "FloatProgressModel",
            "bar_style": "danger",
            "max": 31668,
            "_view_module": "@jupyter-widgets/controls",
            "_model_module_version": "1.5.0",
            "value": 7955,
            "_view_count": null,
            "_view_module_version": "1.5.0",
            "orientation": "horizontal",
            "min": 0,
            "description_tooltip": null,
            "_model_module": "@jupyter-widgets/controls",
            "layout": "IPY_MODEL_b792bd78d4724e09862cc13e1bd86938"
          }
        },
        "96dc0fdcbfff416e86a8ab7404d8c31a": {
          "model_module": "@jupyter-widgets/controls",
          "model_name": "HTMLModel",
          "state": {
            "_view_name": "HTMLView",
            "style": "IPY_MODEL_6f6dc39f45354ee291c83317dde604ce",
            "_dom_classes": [],
            "description": "",
            "_model_name": "HTMLModel",
            "placeholder": "​",
            "_view_module": "@jupyter-widgets/controls",
            "_model_module_version": "1.5.0",
            "value": " 7955/31668 [07:20&lt;20:31, 19.26it/s]",
            "_view_count": null,
            "_view_module_version": "1.5.0",
            "description_tooltip": null,
            "_model_module": "@jupyter-widgets/controls",
            "layout": "IPY_MODEL_ba9755827861462fa358496c68869eec"
          }
        },
        "b5263241506e44a2a40da7ab62cddbde": {
          "model_module": "@jupyter-widgets/controls",
          "model_name": "ProgressStyleModel",
          "state": {
            "_view_name": "StyleView",
            "_model_name": "ProgressStyleModel",
            "description_width": "initial",
            "_view_module": "@jupyter-widgets/base",
            "_model_module_version": "1.5.0",
            "_view_count": null,
            "_view_module_version": "1.2.0",
            "bar_color": null,
            "_model_module": "@jupyter-widgets/controls"
          }
        },
        "b792bd78d4724e09862cc13e1bd86938": {
          "model_module": "@jupyter-widgets/base",
          "model_name": "LayoutModel",
          "state": {
            "_view_name": "LayoutView",
            "grid_template_rows": null,
            "right": null,
            "justify_content": null,
            "_view_module": "@jupyter-widgets/base",
            "overflow": null,
            "_model_module_version": "1.2.0",
            "_view_count": null,
            "flex_flow": null,
            "width": null,
            "min_width": null,
            "border": null,
            "align_items": null,
            "bottom": null,
            "_model_module": "@jupyter-widgets/base",
            "top": null,
            "grid_column": null,
            "overflow_y": null,
            "overflow_x": null,
            "grid_auto_flow": null,
            "grid_area": null,
            "grid_template_columns": null,
            "flex": null,
            "_model_name": "LayoutModel",
            "justify_items": null,
            "grid_row": null,
            "max_height": null,
            "align_content": null,
            "visibility": null,
            "align_self": null,
            "height": null,
            "min_height": null,
            "padding": null,
            "grid_auto_rows": null,
            "grid_gap": null,
            "max_width": null,
            "order": null,
            "_view_module_version": "1.2.0",
            "grid_template_areas": null,
            "object_position": null,
            "object_fit": null,
            "grid_auto_columns": null,
            "margin": null,
            "display": null,
            "left": null
          }
        },
        "6f6dc39f45354ee291c83317dde604ce": {
          "model_module": "@jupyter-widgets/controls",
          "model_name": "DescriptionStyleModel",
          "state": {
            "_view_name": "StyleView",
            "_model_name": "DescriptionStyleModel",
            "description_width": "",
            "_view_module": "@jupyter-widgets/base",
            "_model_module_version": "1.5.0",
            "_view_count": null,
            "_view_module_version": "1.2.0",
            "_model_module": "@jupyter-widgets/controls"
          }
        },
        "ba9755827861462fa358496c68869eec": {
          "model_module": "@jupyter-widgets/base",
          "model_name": "LayoutModel",
          "state": {
            "_view_name": "LayoutView",
            "grid_template_rows": null,
            "right": null,
            "justify_content": null,
            "_view_module": "@jupyter-widgets/base",
            "overflow": null,
            "_model_module_version": "1.2.0",
            "_view_count": null,
            "flex_flow": null,
            "width": null,
            "min_width": null,
            "border": null,
            "align_items": null,
            "bottom": null,
            "_model_module": "@jupyter-widgets/base",
            "top": null,
            "grid_column": null,
            "overflow_y": null,
            "overflow_x": null,
            "grid_auto_flow": null,
            "grid_area": null,
            "grid_template_columns": null,
            "flex": null,
            "_model_name": "LayoutModel",
            "justify_items": null,
            "grid_row": null,
            "max_height": null,
            "align_content": null,
            "visibility": null,
            "align_self": null,
            "height": null,
            "min_height": null,
            "padding": null,
            "grid_auto_rows": null,
            "grid_gap": null,
            "max_width": null,
            "order": null,
            "_view_module_version": "1.2.0",
            "grid_template_areas": null,
            "object_position": null,
            "object_fit": null,
            "grid_auto_columns": null,
            "margin": null,
            "display": null,
            "left": null
          }
        },
        "c8415d35cb76452ea93fe421383dd221": {
          "model_module": "@jupyter-widgets/controls",
          "model_name": "HBoxModel",
          "state": {
            "_view_name": "HBoxView",
            "_dom_classes": [],
            "_model_name": "HBoxModel",
            "_view_module": "@jupyter-widgets/controls",
            "_model_module_version": "1.5.0",
            "_view_count": null,
            "_view_module_version": "1.5.0",
            "box_style": "",
            "layout": "IPY_MODEL_b3352199e31c46cab94aa2fb694dbab3",
            "_model_module": "@jupyter-widgets/controls",
            "children": [
              "IPY_MODEL_f8c1f0881afe42ee99b39671c5c7831a",
              "IPY_MODEL_894e5c6657c842a3b2ce6c11268d3da5"
            ]
          }
        },
        "b3352199e31c46cab94aa2fb694dbab3": {
          "model_module": "@jupyter-widgets/base",
          "model_name": "LayoutModel",
          "state": {
            "_view_name": "LayoutView",
            "grid_template_rows": null,
            "right": null,
            "justify_content": null,
            "_view_module": "@jupyter-widgets/base",
            "overflow": null,
            "_model_module_version": "1.2.0",
            "_view_count": null,
            "flex_flow": null,
            "width": null,
            "min_width": null,
            "border": null,
            "align_items": null,
            "bottom": null,
            "_model_module": "@jupyter-widgets/base",
            "top": null,
            "grid_column": null,
            "overflow_y": null,
            "overflow_x": null,
            "grid_auto_flow": null,
            "grid_area": null,
            "grid_template_columns": null,
            "flex": null,
            "_model_name": "LayoutModel",
            "justify_items": null,
            "grid_row": null,
            "max_height": null,
            "align_content": null,
            "visibility": null,
            "align_self": null,
            "height": null,
            "min_height": null,
            "padding": null,
            "grid_auto_rows": null,
            "grid_gap": null,
            "max_width": null,
            "order": null,
            "_view_module_version": "1.2.0",
            "grid_template_areas": null,
            "object_position": null,
            "object_fit": null,
            "grid_auto_columns": null,
            "margin": null,
            "display": null,
            "left": null
          }
        },
        "f8c1f0881afe42ee99b39671c5c7831a": {
          "model_module": "@jupyter-widgets/controls",
          "model_name": "FloatProgressModel",
          "state": {
            "_view_name": "ProgressView",
            "style": "IPY_MODEL_a01c429f63244a9dbca1c03b412ebb31",
            "_dom_classes": [],
            "description": "100%",
            "_model_name": "FloatProgressModel",
            "bar_style": "success",
            "max": 50670,
            "_view_module": "@jupyter-widgets/controls",
            "_model_module_version": "1.5.0",
            "value": 50670,
            "_view_count": null,
            "_view_module_version": "1.5.0",
            "orientation": "horizontal",
            "min": 0,
            "description_tooltip": null,
            "_model_module": "@jupyter-widgets/controls",
            "layout": "IPY_MODEL_b4d6b9bee3774989bccb4bbdcca824a6"
          }
        },
        "894e5c6657c842a3b2ce6c11268d3da5": {
          "model_module": "@jupyter-widgets/controls",
          "model_name": "HTMLModel",
          "state": {
            "_view_name": "HTMLView",
            "style": "IPY_MODEL_8c4e5fbdf2e54713a965154c23c28893",
            "_dom_classes": [],
            "description": "",
            "_model_name": "HTMLModel",
            "placeholder": "​",
            "_view_module": "@jupyter-widgets/controls",
            "_model_module_version": "1.5.0",
            "value": " 50670/50670 [04:04&lt;00:00, 207.58it/s]",
            "_view_count": null,
            "_view_module_version": "1.5.0",
            "description_tooltip": null,
            "_model_module": "@jupyter-widgets/controls",
            "layout": "IPY_MODEL_f49a89520a3647158d80a02b884acd5f"
          }
        },
        "a01c429f63244a9dbca1c03b412ebb31": {
          "model_module": "@jupyter-widgets/controls",
          "model_name": "ProgressStyleModel",
          "state": {
            "_view_name": "StyleView",
            "_model_name": "ProgressStyleModel",
            "description_width": "initial",
            "_view_module": "@jupyter-widgets/base",
            "_model_module_version": "1.5.0",
            "_view_count": null,
            "_view_module_version": "1.2.0",
            "bar_color": null,
            "_model_module": "@jupyter-widgets/controls"
          }
        },
        "b4d6b9bee3774989bccb4bbdcca824a6": {
          "model_module": "@jupyter-widgets/base",
          "model_name": "LayoutModel",
          "state": {
            "_view_name": "LayoutView",
            "grid_template_rows": null,
            "right": null,
            "justify_content": null,
            "_view_module": "@jupyter-widgets/base",
            "overflow": null,
            "_model_module_version": "1.2.0",
            "_view_count": null,
            "flex_flow": null,
            "width": null,
            "min_width": null,
            "border": null,
            "align_items": null,
            "bottom": null,
            "_model_module": "@jupyter-widgets/base",
            "top": null,
            "grid_column": null,
            "overflow_y": null,
            "overflow_x": null,
            "grid_auto_flow": null,
            "grid_area": null,
            "grid_template_columns": null,
            "flex": null,
            "_model_name": "LayoutModel",
            "justify_items": null,
            "grid_row": null,
            "max_height": null,
            "align_content": null,
            "visibility": null,
            "align_self": null,
            "height": null,
            "min_height": null,
            "padding": null,
            "grid_auto_rows": null,
            "grid_gap": null,
            "max_width": null,
            "order": null,
            "_view_module_version": "1.2.0",
            "grid_template_areas": null,
            "object_position": null,
            "object_fit": null,
            "grid_auto_columns": null,
            "margin": null,
            "display": null,
            "left": null
          }
        },
        "8c4e5fbdf2e54713a965154c23c28893": {
          "model_module": "@jupyter-widgets/controls",
          "model_name": "DescriptionStyleModel",
          "state": {
            "_view_name": "StyleView",
            "_model_name": "DescriptionStyleModel",
            "description_width": "",
            "_view_module": "@jupyter-widgets/base",
            "_model_module_version": "1.5.0",
            "_view_count": null,
            "_view_module_version": "1.2.0",
            "_model_module": "@jupyter-widgets/controls"
          }
        },
        "f49a89520a3647158d80a02b884acd5f": {
          "model_module": "@jupyter-widgets/base",
          "model_name": "LayoutModel",
          "state": {
            "_view_name": "LayoutView",
            "grid_template_rows": null,
            "right": null,
            "justify_content": null,
            "_view_module": "@jupyter-widgets/base",
            "overflow": null,
            "_model_module_version": "1.2.0",
            "_view_count": null,
            "flex_flow": null,
            "width": null,
            "min_width": null,
            "border": null,
            "align_items": null,
            "bottom": null,
            "_model_module": "@jupyter-widgets/base",
            "top": null,
            "grid_column": null,
            "overflow_y": null,
            "overflow_x": null,
            "grid_auto_flow": null,
            "grid_area": null,
            "grid_template_columns": null,
            "flex": null,
            "_model_name": "LayoutModel",
            "justify_items": null,
            "grid_row": null,
            "max_height": null,
            "align_content": null,
            "visibility": null,
            "align_self": null,
            "height": null,
            "min_height": null,
            "padding": null,
            "grid_auto_rows": null,
            "grid_gap": null,
            "max_width": null,
            "order": null,
            "_view_module_version": "1.2.0",
            "grid_template_areas": null,
            "object_position": null,
            "object_fit": null,
            "grid_auto_columns": null,
            "margin": null,
            "display": null,
            "left": null
          }
        },
        "a8695dcd1c8749708ea7fd6f1cba4cea": {
          "model_module": "@jupyter-widgets/controls",
          "model_name": "HBoxModel",
          "state": {
            "_view_name": "HBoxView",
            "_dom_classes": [],
            "_model_name": "HBoxModel",
            "_view_module": "@jupyter-widgets/controls",
            "_model_module_version": "1.5.0",
            "_view_count": null,
            "_view_module_version": "1.5.0",
            "box_style": "",
            "layout": "IPY_MODEL_1ac5ff7e5d514dd7bac5a8996624db8c",
            "_model_module": "@jupyter-widgets/controls",
            "children": [
              "IPY_MODEL_79fc7144fcf643aa8e2242786116288c",
              "IPY_MODEL_c98489b9560d45ddbd5cbaf0d583ac4e"
            ]
          }
        },
        "1ac5ff7e5d514dd7bac5a8996624db8c": {
          "model_module": "@jupyter-widgets/base",
          "model_name": "LayoutModel",
          "state": {
            "_view_name": "LayoutView",
            "grid_template_rows": null,
            "right": null,
            "justify_content": null,
            "_view_module": "@jupyter-widgets/base",
            "overflow": null,
            "_model_module_version": "1.2.0",
            "_view_count": null,
            "flex_flow": null,
            "width": null,
            "min_width": null,
            "border": null,
            "align_items": null,
            "bottom": null,
            "_model_module": "@jupyter-widgets/base",
            "top": null,
            "grid_column": null,
            "overflow_y": null,
            "overflow_x": null,
            "grid_auto_flow": null,
            "grid_area": null,
            "grid_template_columns": null,
            "flex": null,
            "_model_name": "LayoutModel",
            "justify_items": null,
            "grid_row": null,
            "max_height": null,
            "align_content": null,
            "visibility": null,
            "align_self": null,
            "height": null,
            "min_height": null,
            "padding": null,
            "grid_auto_rows": null,
            "grid_gap": null,
            "max_width": null,
            "order": null,
            "_view_module_version": "1.2.0",
            "grid_template_areas": null,
            "object_position": null,
            "object_fit": null,
            "grid_auto_columns": null,
            "margin": null,
            "display": null,
            "left": null
          }
        },
        "79fc7144fcf643aa8e2242786116288c": {
          "model_module": "@jupyter-widgets/controls",
          "model_name": "FloatProgressModel",
          "state": {
            "_view_name": "ProgressView",
            "style": "IPY_MODEL_755130f32b9f4e799b13ae59e8c55c19",
            "_dom_classes": [],
            "description": "100%",
            "_model_name": "FloatProgressModel",
            "bar_style": "success",
            "max": 12666,
            "_view_module": "@jupyter-widgets/controls",
            "_model_module_version": "1.5.0",
            "value": 12666,
            "_view_count": null,
            "_view_module_version": "1.5.0",
            "orientation": "horizontal",
            "min": 0,
            "description_tooltip": null,
            "_model_module": "@jupyter-widgets/controls",
            "layout": "IPY_MODEL_9890ad1d73974f9c9f469c15aa066228"
          }
        },
        "c98489b9560d45ddbd5cbaf0d583ac4e": {
          "model_module": "@jupyter-widgets/controls",
          "model_name": "HTMLModel",
          "state": {
            "_view_name": "HTMLView",
            "style": "IPY_MODEL_c06330c8ce584edab696e667fe5ecdb2",
            "_dom_classes": [],
            "description": "",
            "_model_name": "HTMLModel",
            "placeholder": "​",
            "_view_module": "@jupyter-widgets/controls",
            "_model_module_version": "1.5.0",
            "value": " 12666/12666 [01:21&lt;00:00, 155.63it/s]",
            "_view_count": null,
            "_view_module_version": "1.5.0",
            "description_tooltip": null,
            "_model_module": "@jupyter-widgets/controls",
            "layout": "IPY_MODEL_888bfaa34ea849fab77f73ab4f87f714"
          }
        },
        "755130f32b9f4e799b13ae59e8c55c19": {
          "model_module": "@jupyter-widgets/controls",
          "model_name": "ProgressStyleModel",
          "state": {
            "_view_name": "StyleView",
            "_model_name": "ProgressStyleModel",
            "description_width": "initial",
            "_view_module": "@jupyter-widgets/base",
            "_model_module_version": "1.5.0",
            "_view_count": null,
            "_view_module_version": "1.2.0",
            "bar_color": null,
            "_model_module": "@jupyter-widgets/controls"
          }
        },
        "9890ad1d73974f9c9f469c15aa066228": {
          "model_module": "@jupyter-widgets/base",
          "model_name": "LayoutModel",
          "state": {
            "_view_name": "LayoutView",
            "grid_template_rows": null,
            "right": null,
            "justify_content": null,
            "_view_module": "@jupyter-widgets/base",
            "overflow": null,
            "_model_module_version": "1.2.0",
            "_view_count": null,
            "flex_flow": null,
            "width": null,
            "min_width": null,
            "border": null,
            "align_items": null,
            "bottom": null,
            "_model_module": "@jupyter-widgets/base",
            "top": null,
            "grid_column": null,
            "overflow_y": null,
            "overflow_x": null,
            "grid_auto_flow": null,
            "grid_area": null,
            "grid_template_columns": null,
            "flex": null,
            "_model_name": "LayoutModel",
            "justify_items": null,
            "grid_row": null,
            "max_height": null,
            "align_content": null,
            "visibility": null,
            "align_self": null,
            "height": null,
            "min_height": null,
            "padding": null,
            "grid_auto_rows": null,
            "grid_gap": null,
            "max_width": null,
            "order": null,
            "_view_module_version": "1.2.0",
            "grid_template_areas": null,
            "object_position": null,
            "object_fit": null,
            "grid_auto_columns": null,
            "margin": null,
            "display": null,
            "left": null
          }
        },
        "c06330c8ce584edab696e667fe5ecdb2": {
          "model_module": "@jupyter-widgets/controls",
          "model_name": "DescriptionStyleModel",
          "state": {
            "_view_name": "StyleView",
            "_model_name": "DescriptionStyleModel",
            "description_width": "",
            "_view_module": "@jupyter-widgets/base",
            "_model_module_version": "1.5.0",
            "_view_count": null,
            "_view_module_version": "1.2.0",
            "_model_module": "@jupyter-widgets/controls"
          }
        },
        "888bfaa34ea849fab77f73ab4f87f714": {
          "model_module": "@jupyter-widgets/base",
          "model_name": "LayoutModel",
          "state": {
            "_view_name": "LayoutView",
            "grid_template_rows": null,
            "right": null,
            "justify_content": null,
            "_view_module": "@jupyter-widgets/base",
            "overflow": null,
            "_model_module_version": "1.2.0",
            "_view_count": null,
            "flex_flow": null,
            "width": null,
            "min_width": null,
            "border": null,
            "align_items": null,
            "bottom": null,
            "_model_module": "@jupyter-widgets/base",
            "top": null,
            "grid_column": null,
            "overflow_y": null,
            "overflow_x": null,
            "grid_auto_flow": null,
            "grid_area": null,
            "grid_template_columns": null,
            "flex": null,
            "_model_name": "LayoutModel",
            "justify_items": null,
            "grid_row": null,
            "max_height": null,
            "align_content": null,
            "visibility": null,
            "align_self": null,
            "height": null,
            "min_height": null,
            "padding": null,
            "grid_auto_rows": null,
            "grid_gap": null,
            "max_width": null,
            "order": null,
            "_view_module_version": "1.2.0",
            "grid_template_areas": null,
            "object_position": null,
            "object_fit": null,
            "grid_auto_columns": null,
            "margin": null,
            "display": null,
            "left": null
          }
        }
      }
    }
  },
  "cells": [
    {
      "cell_type": "code",
      "metadata": {
        "id": "IO285KLTtjqw"
      },
      "source": [
        "%matplotlib inline\n",
        "import os\n",
        "import networkx as nx\n",
        "import numpy as np\n",
        "import matplotlib.pyplot as plt\n",
        "from scipy.sparse import *\n",
        "from sklearn.linear_model import LogisticRegression\n",
        "from sklearn.metrics import roc_auc_score, roc_curve, auc\n",
        "import pandas as pd\n",
        "import csv\n",
        "from sklearn import svm\n",
        "from sklearn.feature_extraction.text import TfidfVectorizer\n",
        "from sklearn.metrics.pairwise import linear_kernel\n",
        "from sklearn import preprocessing\n",
        "from sklearn.metrics.pairwise import cosine_similarity\n",
        "import nltk\n",
        "import random\n",
        "from sklearn.metrics import accuracy_score, f1_score\n",
        "from tqdm.notebook import tqdm"
      ],
      "execution_count": 1,
      "outputs": []
    },
    {
      "cell_type": "code",
      "metadata": {
        "colab": {
          "base_uri": "https://localhost:8080/"
        },
        "id": "09TZq7WAtjqy",
        "outputId": "073edea1-a7e3-4207-d535-7d76cd4544fa"
      },
      "source": [
        "nltk.download('punkt') # for tokenization\n",
        "nltk.download('stopwords')\n",
        "stpwds = set(nltk.corpus.stopwords.words(\"english\"))\n",
        "stemmer = nltk.stem.PorterStemmer()"
      ],
      "execution_count": 2,
      "outputs": [
        {
          "output_type": "stream",
          "name": "stderr",
          "text": [
            "[nltk_data] Downloading package punkt to\n[nltk_data]     C:\\Users\\inesp\\AppData\\Roaming\\nltk_data...\n[nltk_data]   Package punkt is already up-to-date!\n[nltk_data] Downloading package stopwords to\n[nltk_data]     C:\\Users\\inesp\\AppData\\Roaming\\nltk_data...\n[nltk_data]   Package stopwords is already up-to-date!\n"
          ]
        }
      ]
    },
    {
      "cell_type": "code",
      "metadata": {
        "id": "7CrhWJTOtjqz"
      },
      "source": [
        "# Info of the graph\n",
        "def compute_network_characteristics(graph):\n",
        "    prop = {}\n",
        "    prop['N'] =  graph.number_of_nodes() # number of nodes\n",
        "    prop['M'] = graph.number_of_edges() # number of edges\n",
        "    degrees = [degree for node, degree in graph.degree()] # degree list\n",
        "    prop['min_degree'] =  np.min(degrees) # minimum degree\n",
        "    prop['max_degree'] =  np.max(degrees) # maximum degree\n",
        "    prop['mean_degree'] = np.mean(degrees) # mean of node degrees\n",
        "    prop['median_degree'] = np.median(degrees) # median of node degrees\n",
        "    prop['density'] =  nx.density(graph) # density of the graph\n",
        "    return prop"
      ],
      "execution_count": 3,
      "outputs": []
    },
    {
      "cell_type": "markdown",
      "metadata": {
        "id": "smMzjjgltjqz"
      },
      "source": [
        "# Turning the training data into a graph"
      ]
    },
    {
      "cell_type": "code",
      "metadata": {
        "id": "_LNDYxKntjqz"
      },
      "source": [
        "def get_training_graph(csv_file, column_names=['source', 'target', 'connected']):\n",
        "\n",
        "    # Pandas dataframe\n",
        "    df = pd.read_csv(csv_file, sep=' ', names=column_names)\n",
        "    edges = df.loc[df['connected'] == 1]\n",
        "\n",
        "    # Number of edges\n",
        "    print(f'There are {len(edges)} edges and {len(df) - len(edges)} non edges')\n",
        "\n",
        "    # networkx graph\n",
        "    Graphtype = nx.DiGraph()\n",
        "    G = nx.from_pandas_edgelist(edges, create_using=Graphtype)\n",
        "    \n",
        "    return G"
      ],
      "execution_count": 4,
      "outputs": []
    },
    {
      "cell_type": "code",
      "metadata": {
        "colab": {
          "base_uri": "https://localhost:8080/"
        },
        "id": "P7uaxXrStjq0",
        "outputId": "03aa46bb-0aed-44ba-895d-54001e6361e9"
      },
      "source": [
        "training_graph = get_training_graph('training_set.txt')"
      ],
      "execution_count": 5,
      "outputs": [
        {
          "output_type": "stream",
          "name": "stdout",
          "text": [
            "There are 335130 edges and 280382 non edges\n"
          ]
        }
      ]
    },
    {
      "cell_type": "code",
      "metadata": {
        "colab": {
          "base_uri": "https://localhost:8080/"
        },
        "id": "rm1We2Ejtjq0",
        "outputId": "e488f416-4db1-4440-dedc-a5a72628d491"
      },
      "source": [
        "compute_network_characteristics(graph=training_graph)"
      ],
      "execution_count": 6,
      "outputs": [
        {
          "output_type": "execute_result",
          "data": {
            "text/plain": [
              "{'N': 27684,\n",
              " 'M': 335130,\n",
              " 'min_degree': 1,\n",
              " 'max_degree': 2346,\n",
              " 'mean_degree': 24.211096662332032,\n",
              " 'median_degree': 14.0,\n",
              " 'density': 0.0004372917794735403}"
            ]
          },
          "metadata": {},
          "execution_count": 6
        }
      ]
    },
    {
      "cell_type": "markdown",
      "metadata": {
        "id": "i40osmhatjq0"
      },
      "source": [
        "## For now let's focus on a smaller graph"
      ]
    },
    {
      "cell_type": "code",
      "metadata": {
        "id": "k4MwiQsctjq0"
      },
      "source": [
        "with open(\"training_set.txt\", \"r\") as f:\n",
        "    reader = csv.reader(f)\n",
        "    training_set  = list(reader)\n",
        "\n",
        "training_set = [element[0].split(\" \") for element in training_set]"
      ],
      "execution_count": 7,
      "outputs": []
    },
    {
      "cell_type": "code",
      "metadata": {
        "colab": {
          "base_uri": "https://localhost:8080/"
        },
        "id": "iHj23Uy6tjq1",
        "outputId": "129284e9-8a61-432e-ce01-3acf51082e40"
      },
      "source": [
        "random.seed(10)\n",
        "to_keep = random.sample(range(len(training_set)), k=int(round(len(training_set)*0.05)))\n",
        "training_set_reduced = [training_set[i] for i in to_keep]\n",
        "print(f'We are only working on {len(training_set_reduced)} nodes of the dataset')"
      ],
      "execution_count": 9,
      "outputs": [
        {
          "output_type": "stream",
          "name": "stdout",
          "text": [
            "We are only working on 30776 nodes of the dataset\n"
          ]
        }
      ]
    },
    {
      "cell_type": "code",
      "metadata": {
        "colab": {
          "base_uri": "https://localhost:8080/"
        },
        "id": "-NPXj8Rqtjq1",
        "outputId": "e3506558-8182-4193-c7af-3c0d2c4c7902"
      },
      "source": [
        "# Pandas dataframe\n",
        "df = pd.DataFrame(training_set_reduced, columns=['source', 'target', 'connected'])\n",
        "edges = df.loc[df['connected'] == '1']\n",
        "\n",
        "# Number of edges\n",
        "print(f'There are {len(edges)} edges and {len(df) - len(edges)} non edges')\n",
        "\n",
        "# networkx graph !!!!!!! The graph is directed\n",
        "Graphtype = nx.DiGraph()\n",
        "G = nx.from_pandas_edgelist(edges, create_using=Graphtype)\n",
        "\n",
        "# Take the largest weakly conected component\n",
        "nodes = max(nx.weakly_connected_components(G), key=len) \n",
        "G0 = G.subgraph(nodes)\n",
        "\n",
        "# Make that graph undirected\n",
        "G0 = G0.to_undirected()\n",
        "nx.is_connected(G0)"
      ],
      "execution_count": 10,
      "outputs": [
        {
          "output_type": "stream",
          "name": "stdout",
          "text": [
            "There are 16734 edges and 14042 non edges\n"
          ]
        },
        {
          "output_type": "execute_result",
          "data": {
            "text/plain": [
              "True"
            ]
          },
          "metadata": {},
          "execution_count": 10
        }
      ]
    },
    {
      "cell_type": "code",
      "metadata": {
        "colab": {
          "base_uri": "https://localhost:8080/"
        },
        "id": "91MyWPm2tjq1",
        "outputId": "710120f3-19eb-446a-bfea-3cb3876028f5"
      },
      "source": [
        "compute_network_characteristics(G0)"
      ],
      "execution_count": 20,
      "outputs": [
        {
          "output_type": "execute_result",
          "data": {
            "text/plain": [
              "{'N': 10030,\n",
              " 'M': 14065,\n",
              " 'min_degree': 1,\n",
              " 'max_degree': 137,\n",
              " 'mean_degree': 2.8045862412761715,\n",
              " 'median_degree': 2.0,\n",
              " 'density': 0.0002796476459543495}"
            ]
          },
          "metadata": {},
          "execution_count": 20
        }
      ]
    },
    {
      "cell_type": "markdown",
      "metadata": {
        "id": "JkPe4bJotjq1"
      },
      "source": [
        "## Generate Samples"
      ]
    },
    {
      "cell_type": "code",
      "metadata": {
        "id": "kGRwLwbytjq2"
      },
      "source": [
        "def generate_samples(graph, train_set_ratio):\n",
        "    \"\"\"\n",
        "    Graph pre-processing step required to perform supervised link prediction\n",
        "    Create training and test sets\n",
        "    \"\"\"\n",
        "        \n",
        "    # --- Step 0: The graph must be connected ---\n",
        "    if nx.is_connected(graph) is not True:\n",
        "        raise ValueError(\"The graph contains more than one connected component!\")\n",
        "       \n",
        "    \n",
        "    # --- Step 1: Generate positive edge samples for testing set ---\n",
        "    residual_g = graph.copy()\n",
        "    test_pos_samples = []\n",
        "      \n",
        "    # Store the shuffled list of current edges of the graph\n",
        "    edges = list(residual_g.edges())\n",
        "    np.random.shuffle(edges)\n",
        "    \n",
        "    # Define number of positive test samples desired\n",
        "    test_set_size = int((1.0 - train_set_ratio) * graph.number_of_edges())\n",
        "    train_set_size = graph.number_of_edges() - test_set_size\n",
        "    num_of_pos_test_samples = 0\n",
        "    \n",
        "    # Remove random edges from the graph, leaving it connected\n",
        "    # Fill in the blanks\n",
        "    for edge in tqdm(edges):\n",
        "        \n",
        "        # Remove the edge\n",
        "        residual_g.remove_edge(edge[0], edge[1])\n",
        "        \n",
        "        # Add the removed edge to the positive sample list if the network is still connected\n",
        "        if nx.is_connected(residual_g):\n",
        "            num_of_pos_test_samples += 1\n",
        "            test_pos_samples.append(edge)\n",
        "        # Otherwise, re-add the edge to the network\n",
        "        else: \n",
        "            residual_g.add_edge(edge[0], edge[1])\n",
        "        \n",
        "        # If we have collected enough number of edges for testing set, we can terminate the loop\n",
        "        if num_of_pos_test_samples == test_set_size:\n",
        "            break\n",
        "    \n",
        "    # Check if we have the desired number of positive samples for testing set \n",
        "    if num_of_pos_test_samples != test_set_size:\n",
        "        raise ValueError(\"Enough positive edge samples could not be found!\")\n",
        "\n",
        "        \n",
        "    # --- Step 2: Generate positive edge samples for training set ---\n",
        "    # The remaining edges are simply considered for positive samples of the training set\n",
        "    train_pos_samples = list(residual_g.edges())\n",
        "        \n",
        "        \n",
        "    # --- Step 3: Generate the negative samples for testing and training sets ---\n",
        "    # Fill in the blanks\n",
        "    non_edges = list(nx.non_edges(graph))\n",
        "    random.seed(10)\n",
        "    np.random.shuffle(non_edges)\n",
        "    \n",
        "    train_neg_samples = non_edges[:train_set_size] \n",
        "    test_neg_samples = non_edges[train_set_size:train_set_size + test_set_size]\n",
        "\n",
        "    \n",
        "    # --- Step 4: Combine sample lists and create corresponding labels ---\n",
        "    # For training set\n",
        "    train_samples = train_pos_samples + train_neg_samples\n",
        "    train_labels = [1 for _ in train_pos_samples] + [0 for _ in train_neg_samples]\n",
        "    # For testing set\n",
        "    test_samples = test_pos_samples + test_neg_samples\n",
        "    test_labels = [1 for _ in test_pos_samples] + [0 for _ in test_neg_samples]\n",
        "    \n",
        "    return residual_g, train_samples, train_labels, test_samples, test_labels\n"
      ],
      "execution_count": 21,
      "outputs": []
    },
    {
      "cell_type": "code",
      "metadata": {
        "colab": {
          "base_uri": "https://localhost:8080/",
          "height": 49,
          "referenced_widgets": [
            "f6f0187100a545229f06727f2cb04411",
            "b938d7d1e85f4c4082473fa03b59976d",
            "c545cb370dd44c73b15bfb75044c8262",
            "96dc0fdcbfff416e86a8ab7404d8c31a",
            "b5263241506e44a2a40da7ab62cddbde",
            "b792bd78d4724e09862cc13e1bd86938",
            "6f6dc39f45354ee291c83317dde604ce",
            "ba9755827861462fa358496c68869eec"
          ]
        },
        "id": "4dSSZK6Itjq2",
        "outputId": "b4e16caf-0398-4905-faf4-cd6178a010af"
      },
      "source": [
        "residual_g, train_samples, train_labels, test_samples, test_labels = generate_samples(G0, train_set_ratio=0.8)"
      ],
      "execution_count": 22,
      "outputs": [
        {
          "output_type": "display_data",
          "data": {
            "text/plain": "HBox(children=(FloatProgress(value=0.0, max=14065.0), HTML(value='')))",
            "application/vnd.jupyter.widget-view+json": {
              "version_major": 2,
              "version_minor": 0,
              "model_id": "8e30173e7eb14adf9c7a5b159d7501db"
            }
          },
          "metadata": {}
        },
        {
          "output_type": "stream",
          "name": "stdout",
          "text": [
            "\n"
          ]
        }
      ]
    },
    {
      "cell_type": "markdown",
      "metadata": {
        "id": "W3ui8XLPtjq3"
      },
      "source": [
        "## Get the feature Vector"
      ]
    },
    {
      "cell_type": "code",
      "metadata": {
        "colab": {
          "base_uri": "https://localhost:8080/"
        },
        "id": "-B2nHrakKsNc",
        "outputId": "db9ec6e3-1488-4037-95cf-1940bfb0370a"
      },
      "source": [
        "print(\"degree centrality\")\n",
        "deg_centrality = nx.degree_centrality(G0)\n",
        "print(\"done!\")\n",
        "\n",
        "katz_cent = nx.katz_centrality(G)\n",
        "  \n",
        "# print('betweeness_centrality')\n",
        "# betweeness_centrality = nx.betweenness_centrality(G0)\n",
        "# print('done!')"
      ],
      "execution_count": 24,
      "outputs": [
        {
          "output_type": "stream",
          "name": "stdout",
          "text": [
            "degree centrality\ndone!\n"
          ]
        }
      ]
    },
    {
      "cell_type": "code",
      "metadata": {
        "id": "3cztGi7_tjq3"
      },
      "source": [
        "def feature_extractor(graph, samples, deg_centrality):\n",
        "    \"\"\"\n",
        "    Creates a feature vector for each edge of the graph contained in samples \n",
        "    \"\"\"\n",
        "    feature_vector = []\n",
        "    number_nodes_out = 0\n",
        "\n",
        "    for edge in tqdm(samples):\n",
        "        source_node, target_node = edge[0], edge[1]\n",
        "\n",
        "        # Degree Centrality\n",
        "        if (source_node not in list(deg_centrality.keys())) or (target_node not in list(deg_centrality.keys())):\n",
        "            feature_vector.append(np.array([0, 0, 0, 0, 0, 0, 0, 0]))\n",
        "            number_nodes_out += 1\n",
        "\n",
        "        else:\n",
        "\n",
        "            source_degree_centrality = deg_centrality[source_node]\n",
        "            target_degree_centrality = deg_centrality[target_node]\n",
        "            source_katz_cent = katz_cent[source_node]\n",
        "            target_katz_cent = katz_cent[target_node]\n",
        "            \n",
        "            # # Betweeness centrality measure \n",
        "            #diff_bt = betweeness_centrality[target_node] - betweeness_centrality[source_node]\n",
        "\n",
        "            # Preferential Attachement \n",
        "            pref_attach = list(nx.preferential_attachment(graph, [(source_node, target_node)]))[0][2]\n",
        "\n",
        "            # AdamicAdar\n",
        "            aai = list(nx.adamic_adar_index(graph, [(source_node, target_node)]))[0][2]\n",
        "\n",
        "            # Jaccard\n",
        "            jacard_coeff = list(nx.jaccard_coefficient(graph, [(source_node, target_node)]))[0][2]\n",
        "            # Ressource allocation index\n",
        "            res_all = list(nx.resource_allocation_index(graph, [(source_node, target_node)]))[0][2]\n",
        "            \n",
        "            # Create edge feature vector with all metric computed above\n",
        "            feature_vector.append(np.array([source_degree_centrality, target_degree_centrality, source_katz_cent, target_katz_cent, pref_attach, aai, jacard_coeff, res_all]) ) \n",
        "    print(number_nodes_out)\n",
        "        \n",
        "    return np.array(feature_vector)"
      ],
      "execution_count": 49,
      "outputs": []
    },
    {
      "cell_type": "code",
      "metadata": {
        "colab": {
          "base_uri": "https://localhost:8080/",
          "height": 149,
          "referenced_widgets": [
            "c8415d35cb76452ea93fe421383dd221",
            "b3352199e31c46cab94aa2fb694dbab3",
            "f8c1f0881afe42ee99b39671c5c7831a",
            "894e5c6657c842a3b2ce6c11268d3da5",
            "a01c429f63244a9dbca1c03b412ebb31",
            "b4d6b9bee3774989bccb4bbdcca824a6",
            "8c4e5fbdf2e54713a965154c23c28893",
            "f49a89520a3647158d80a02b884acd5f",
            "a8695dcd1c8749708ea7fd6f1cba4cea",
            "1ac5ff7e5d514dd7bac5a8996624db8c",
            "79fc7144fcf643aa8e2242786116288c",
            "c98489b9560d45ddbd5cbaf0d583ac4e",
            "755130f32b9f4e799b13ae59e8c55c19",
            "9890ad1d73974f9c9f469c15aa066228",
            "c06330c8ce584edab696e667fe5ecdb2",
            "888bfaa34ea849fab77f73ab4f87f714"
          ]
        },
        "id": "R25kXICGtjq3",
        "outputId": "743c7f58-a91c-4f78-bb23-d8bfde0ac673"
      },
      "source": [
        "train_features = feature_extractor(G0, train_samples, deg_centrality)\n",
        "test_features = feature_extractor(G0, test_samples, deg_centrality)"
      ],
      "execution_count": 28,
      "outputs": [
        {
          "output_type": "display_data",
          "data": {
            "text/plain": "HBox(children=(FloatProgress(value=0.0, max=22506.0), HTML(value='')))",
            "application/vnd.jupyter.widget-view+json": {
              "version_major": 2,
              "version_minor": 0,
              "model_id": "bd6c950f3009488c942ee10de7b80412"
            }
          },
          "metadata": {}
        },
        {
          "output_type": "stream",
          "name": "stdout",
          "text": [
            "\n0\n"
          ]
        },
        {
          "output_type": "display_data",
          "data": {
            "text/plain": "HBox(children=(FloatProgress(value=0.0, max=5624.0), HTML(value='')))",
            "application/vnd.jupyter.widget-view+json": {
              "version_major": 2,
              "version_minor": 0,
              "model_id": "035658e8cdcb4d3ba87c1f8935f3ed5d"
            }
          },
          "metadata": {}
        },
        {
          "output_type": "stream",
          "name": "stdout",
          "text": [
            "\n0\n"
          ]
        }
      ]
    },
    {
      "cell_type": "code",
      "metadata": {
        "id": "5uqy9HOQtjq3"
      },
      "source": [
        "feat_train = pd.DataFrame(train_features, columns=['source_degree_centrality', 'target_degree_centrality', 'source_katz_cent', 'target_katz_cent', 'pref_attach', 'aai', 'jacard_coeff', 'res_all'])\n",
        "feat_test = pd.DataFrame(test_features, columns=['source_degree_centrality', 'target_degree_centrality', 'source_katz_cent', 'target_katz_cent', 'pref_attach', 'aai', 'jacard_coeff', 'res_all'])"
      ],
      "execution_count": 29,
      "outputs": []
    },
    {
      "cell_type": "code",
      "metadata": {
        "colab": {
          "base_uri": "https://localhost:8080/",
          "height": 204
        },
        "id": "eD27sVzrtjq4",
        "outputId": "15e54dc8-9efd-458a-a547-55ef5dcf414d"
      },
      "source": [
        "feat_train.head()"
      ],
      "execution_count": 30,
      "outputs": [
        {
          "output_type": "execute_result",
          "data": {
            "text/plain": [
              "   source_degree_centrality  target_degree_centrality  source_katz_cent  \\\n",
              "0                  0.000100                  0.000199          0.007114   \n",
              "1                  0.000199                  0.000399          0.007825   \n",
              "2                  0.000199                  0.002991          0.007114   \n",
              "3                  0.000997                  0.000399          0.015121   \n",
              "4                  0.000997                  0.000399          0.015121   \n",
              "\n",
              "   target_katz_cent  pref_attach  aai  jacard_coeff  res_all  \n",
              "0          0.007825          2.0  0.0           0.0      0.0  \n",
              "1          0.010102          8.0  0.0           0.0      0.0  \n",
              "2          0.035279         60.0  0.0           0.0      0.0  \n",
              "3          0.012599         40.0  0.0           0.0      0.0  \n",
              "4          0.007976         40.0  0.0           0.0      0.0  "
            ],
            "text/html": "<div>\n<style scoped>\n    .dataframe tbody tr th:only-of-type {\n        vertical-align: middle;\n    }\n\n    .dataframe tbody tr th {\n        vertical-align: top;\n    }\n\n    .dataframe thead th {\n        text-align: right;\n    }\n</style>\n<table border=\"1\" class=\"dataframe\">\n  <thead>\n    <tr style=\"text-align: right;\">\n      <th></th>\n      <th>source_degree_centrality</th>\n      <th>target_degree_centrality</th>\n      <th>source_katz_cent</th>\n      <th>target_katz_cent</th>\n      <th>pref_attach</th>\n      <th>aai</th>\n      <th>jacard_coeff</th>\n      <th>res_all</th>\n    </tr>\n  </thead>\n  <tbody>\n    <tr>\n      <th>0</th>\n      <td>0.000100</td>\n      <td>0.000199</td>\n      <td>0.007114</td>\n      <td>0.007825</td>\n      <td>2.0</td>\n      <td>0.0</td>\n      <td>0.0</td>\n      <td>0.0</td>\n    </tr>\n    <tr>\n      <th>1</th>\n      <td>0.000199</td>\n      <td>0.000399</td>\n      <td>0.007825</td>\n      <td>0.010102</td>\n      <td>8.0</td>\n      <td>0.0</td>\n      <td>0.0</td>\n      <td>0.0</td>\n    </tr>\n    <tr>\n      <th>2</th>\n      <td>0.000199</td>\n      <td>0.002991</td>\n      <td>0.007114</td>\n      <td>0.035279</td>\n      <td>60.0</td>\n      <td>0.0</td>\n      <td>0.0</td>\n      <td>0.0</td>\n    </tr>\n    <tr>\n      <th>3</th>\n      <td>0.000997</td>\n      <td>0.000399</td>\n      <td>0.015121</td>\n      <td>0.012599</td>\n      <td>40.0</td>\n      <td>0.0</td>\n      <td>0.0</td>\n      <td>0.0</td>\n    </tr>\n    <tr>\n      <th>4</th>\n      <td>0.000997</td>\n      <td>0.000399</td>\n      <td>0.015121</td>\n      <td>0.007976</td>\n      <td>40.0</td>\n      <td>0.0</td>\n      <td>0.0</td>\n      <td>0.0</td>\n    </tr>\n  </tbody>\n</table>\n</div>"
          },
          "metadata": {},
          "execution_count": 30
        }
      ]
    },
    {
      "cell_type": "code",
      "metadata": {
        "id": "nwCqPK3ctjq4"
      },
      "source": [
        "t_set_red = {}\n",
        "for source, target, lab in training_set_reduced:\n",
        "    t_set_red[(source, target)] = lab"
      ],
      "execution_count": 31,
      "outputs": []
    },
    {
      "cell_type": "code",
      "metadata": {
        "id": "rwwJxagEtjq4"
      },
      "source": [
        "def get_true_test_labels(test_samples):\n",
        "    real_test_labels = []\n",
        "\n",
        "    for edge in test_samples:\n",
        "        if (edge[0], edge[1]) in list(t_set_red.keys()):\n",
        "            real_test_labels.append(int(t_set_red[(edge[0], edge[1])]))\n",
        "        else:\n",
        "            real_test_labels.append(0)\n",
        "    return real_test_labels"
      ],
      "execution_count": 32,
      "outputs": []
    },
    {
      "cell_type": "code",
      "metadata": {
        "id": "uNCgm9bftjq4"
      },
      "source": [
        "real_test_labels = get_true_test_labels(test_samples)"
      ],
      "execution_count": 33,
      "outputs": []
    },
    {
      "cell_type": "code",
      "metadata": {
        "id": "8VTyZey5tjq5"
      },
      "source": [
        "def prediction(graph, train_features, test_features, train_labels, test_labels):\n",
        "    \"\"\"\n",
        "    Downstream ML task using edge embeddings to classify them \n",
        "    \"\"\"\n",
        "    \n",
        "    # --- Build the model and train it ---\n",
        "    # Fill in the blanks\n",
        "    clf = LogisticRegression()\n",
        "    clf.fit(train_features, train_labels)\n",
        "\n",
        "    train_preds = clf.predict_proba(train_features)[:, 1]\n",
        "    test_preds = clf.predict_proba(test_features)[:, 1]\n",
        "    labels_pred = clf.predict(test_features)\n",
        "\n",
        "    print(f'Accuracy: {accuracy_score(test_labels, labels_pred)}')\n",
        "    print(f'F1 score: {f1_score(test_labels, labels_pred)}')\n",
        "\n",
        "    # --- Compute Area Under the Receiver Operating Characteristic Curve (ROC AUC) from predictions ---\n",
        "    # Fill in the blanks\n",
        "    fpr, tpr, _ = roc_curve(test_labels, test_preds)\n",
        "    roc_auc = auc(fpr, tpr)\n",
        "    \n",
        "    plt.figure(figsize=(6,6))\n",
        "    plt.plot(fpr, tpr, color='darkred', label='ROC curve (area = %0.3f)' % roc_auc)\n",
        "    plt.plot([0, 1], [0, 1], color='lightgray', linestyle='--')\n",
        "    plt.xlim([0.0, 1.0])\n",
        "    plt.ylim([0.0, 1.05])\n",
        "    plt.xlabel('False Positive Rate')\n",
        "    plt.ylabel('True Positive Rate')\n",
        "    plt.title('Receiver Operating Characteristic Curve')\n",
        "    plt.legend(loc=\"lower right\")\n",
        "    plt.show()\n",
        "    \n",
        "    return roc_auc"
      ],
      "execution_count": 34,
      "outputs": []
    },
    {
      "cell_type": "code",
      "metadata": {
        "colab": {
          "base_uri": "https://localhost:8080/",
          "height": 455
        },
        "id": "LAmVyzNStjq5",
        "outputId": "197712c9-cbee-45e1-de66-4edbb123babd"
      },
      "source": [
        "prediction(G0, train_features, test_features, train_labels, real_test_labels)"
      ],
      "execution_count": 35,
      "outputs": [
        {
          "output_type": "stream",
          "name": "stdout",
          "text": [
            "Accuracy: 0.6347795163584637\nF1 score: 0.45138888888888895\n"
          ]
        },
        {
          "output_type": "display_data",
          "data": {
            "text/plain": "<Figure size 432x432 with 1 Axes>",
            "image/svg+xml": "<?xml version=\"1.0\" encoding=\"utf-8\" standalone=\"no\"?>\r\n<!DOCTYPE svg PUBLIC \"-//W3C//DTD SVG 1.1//EN\"\r\n  \"http://www.w3.org/Graphics/SVG/1.1/DTD/svg11.dtd\">\r\n<!-- Created with matplotlib (https://matplotlib.org/) -->\r\n<svg height=\"386.034375pt\" version=\"1.1\" viewBox=\"0 0 393.732813 386.034375\" width=\"393.732813pt\" xmlns=\"http://www.w3.org/2000/svg\" xmlns:xlink=\"http://www.w3.org/1999/xlink\">\r\n <metadata>\r\n  <rdf:RDF xmlns:cc=\"http://creativecommons.org/ns#\" xmlns:dc=\"http://purl.org/dc/elements/1.1/\" xmlns:rdf=\"http://www.w3.org/1999/02/22-rdf-syntax-ns#\">\r\n   <cc:Work>\r\n    <dc:type rdf:resource=\"http://purl.org/dc/dcmitype/StillImage\"/>\r\n    <dc:date>2021-03-18T11:55:18.618511</dc:date>\r\n    <dc:format>image/svg+xml</dc:format>\r\n    <dc:creator>\r\n     <cc:Agent>\r\n      <dc:title>Matplotlib v3.3.2, https://matplotlib.org/</dc:title>\r\n     </cc:Agent>\r\n    </dc:creator>\r\n   </cc:Work>\r\n  </rdf:RDF>\r\n </metadata>\r\n <defs>\r\n  <style type=\"text/css\">*{stroke-linecap:butt;stroke-linejoin:round;}</style>\r\n </defs>\r\n <g id=\"figure_1\">\r\n  <g id=\"patch_1\">\r\n   <path d=\"M 0 386.034375 \r\nL 393.732813 386.034375 \r\nL 393.732813 0 \r\nL 0 0 \r\nz\r\n\" style=\"fill:none;\"/>\r\n  </g>\r\n  <g id=\"axes_1\">\r\n   <g id=\"patch_2\">\r\n    <path d=\"M 43.78125 348.478125 \r\nL 378.58125 348.478125 \r\nL 378.58125 22.318125 \r\nL 43.78125 22.318125 \r\nz\r\n\" style=\"fill:#ffffff;\"/>\r\n   </g>\r\n   <g id=\"matplotlib.axis_1\">\r\n    <g id=\"xtick_1\">\r\n     <g id=\"line2d_1\">\r\n      <defs>\r\n       <path d=\"M 0 0 \r\nL 0 3.5 \r\n\" id=\"m1880501137\" style=\"stroke:#000000;stroke-width:0.8;\"/>\r\n      </defs>\r\n      <g>\r\n       <use style=\"stroke:#000000;stroke-width:0.8;\" x=\"43.78125\" xlink:href=\"#m1880501137\" y=\"348.478125\"/>\r\n      </g>\r\n     </g>\r\n     <g id=\"text_1\">\r\n      <!-- 0.0 -->\r\n      <g transform=\"translate(35.829688 363.076562)scale(0.1 -0.1)\">\r\n       <defs>\r\n        <path d=\"M 31.78125 66.40625 \r\nQ 24.171875 66.40625 20.328125 58.90625 \r\nQ 16.5 51.421875 16.5 36.375 \r\nQ 16.5 21.390625 20.328125 13.890625 \r\nQ 24.171875 6.390625 31.78125 6.390625 \r\nQ 39.453125 6.390625 43.28125 13.890625 \r\nQ 47.125 21.390625 47.125 36.375 \r\nQ 47.125 51.421875 43.28125 58.90625 \r\nQ 39.453125 66.40625 31.78125 66.40625 \r\nz\r\nM 31.78125 74.21875 \r\nQ 44.046875 74.21875 50.515625 64.515625 \r\nQ 56.984375 54.828125 56.984375 36.375 \r\nQ 56.984375 17.96875 50.515625 8.265625 \r\nQ 44.046875 -1.421875 31.78125 -1.421875 \r\nQ 19.53125 -1.421875 13.0625 8.265625 \r\nQ 6.59375 17.96875 6.59375 36.375 \r\nQ 6.59375 54.828125 13.0625 64.515625 \r\nQ 19.53125 74.21875 31.78125 74.21875 \r\nz\r\n\" id=\"DejaVuSans-48\"/>\r\n        <path d=\"M 10.6875 12.40625 \r\nL 21 12.40625 \r\nL 21 0 \r\nL 10.6875 0 \r\nz\r\n\" id=\"DejaVuSans-46\"/>\r\n       </defs>\r\n       <use xlink:href=\"#DejaVuSans-48\"/>\r\n       <use x=\"63.623047\" xlink:href=\"#DejaVuSans-46\"/>\r\n       <use x=\"95.410156\" xlink:href=\"#DejaVuSans-48\"/>\r\n      </g>\r\n     </g>\r\n    </g>\r\n    <g id=\"xtick_2\">\r\n     <g id=\"line2d_2\">\r\n      <g>\r\n       <use style=\"stroke:#000000;stroke-width:0.8;\" x=\"110.74125\" xlink:href=\"#m1880501137\" y=\"348.478125\"/>\r\n      </g>\r\n     </g>\r\n     <g id=\"text_2\">\r\n      <!-- 0.2 -->\r\n      <g transform=\"translate(102.789688 363.076562)scale(0.1 -0.1)\">\r\n       <defs>\r\n        <path d=\"M 19.1875 8.296875 \r\nL 53.609375 8.296875 \r\nL 53.609375 0 \r\nL 7.328125 0 \r\nL 7.328125 8.296875 \r\nQ 12.9375 14.109375 22.625 23.890625 \r\nQ 32.328125 33.6875 34.8125 36.53125 \r\nQ 39.546875 41.84375 41.421875 45.53125 \r\nQ 43.3125 49.21875 43.3125 52.78125 \r\nQ 43.3125 58.59375 39.234375 62.25 \r\nQ 35.15625 65.921875 28.609375 65.921875 \r\nQ 23.96875 65.921875 18.8125 64.3125 \r\nQ 13.671875 62.703125 7.8125 59.421875 \r\nL 7.8125 69.390625 \r\nQ 13.765625 71.78125 18.9375 73 \r\nQ 24.125 74.21875 28.421875 74.21875 \r\nQ 39.75 74.21875 46.484375 68.546875 \r\nQ 53.21875 62.890625 53.21875 53.421875 \r\nQ 53.21875 48.921875 51.53125 44.890625 \r\nQ 49.859375 40.875 45.40625 35.40625 \r\nQ 44.1875 33.984375 37.640625 27.21875 \r\nQ 31.109375 20.453125 19.1875 8.296875 \r\nz\r\n\" id=\"DejaVuSans-50\"/>\r\n       </defs>\r\n       <use xlink:href=\"#DejaVuSans-48\"/>\r\n       <use x=\"63.623047\" xlink:href=\"#DejaVuSans-46\"/>\r\n       <use x=\"95.410156\" xlink:href=\"#DejaVuSans-50\"/>\r\n      </g>\r\n     </g>\r\n    </g>\r\n    <g id=\"xtick_3\">\r\n     <g id=\"line2d_3\">\r\n      <g>\r\n       <use style=\"stroke:#000000;stroke-width:0.8;\" x=\"177.70125\" xlink:href=\"#m1880501137\" y=\"348.478125\"/>\r\n      </g>\r\n     </g>\r\n     <g id=\"text_3\">\r\n      <!-- 0.4 -->\r\n      <g transform=\"translate(169.749688 363.076562)scale(0.1 -0.1)\">\r\n       <defs>\r\n        <path d=\"M 37.796875 64.3125 \r\nL 12.890625 25.390625 \r\nL 37.796875 25.390625 \r\nz\r\nM 35.203125 72.90625 \r\nL 47.609375 72.90625 \r\nL 47.609375 25.390625 \r\nL 58.015625 25.390625 \r\nL 58.015625 17.1875 \r\nL 47.609375 17.1875 \r\nL 47.609375 0 \r\nL 37.796875 0 \r\nL 37.796875 17.1875 \r\nL 4.890625 17.1875 \r\nL 4.890625 26.703125 \r\nz\r\n\" id=\"DejaVuSans-52\"/>\r\n       </defs>\r\n       <use xlink:href=\"#DejaVuSans-48\"/>\r\n       <use x=\"63.623047\" xlink:href=\"#DejaVuSans-46\"/>\r\n       <use x=\"95.410156\" xlink:href=\"#DejaVuSans-52\"/>\r\n      </g>\r\n     </g>\r\n    </g>\r\n    <g id=\"xtick_4\">\r\n     <g id=\"line2d_4\">\r\n      <g>\r\n       <use style=\"stroke:#000000;stroke-width:0.8;\" x=\"244.66125\" xlink:href=\"#m1880501137\" y=\"348.478125\"/>\r\n      </g>\r\n     </g>\r\n     <g id=\"text_4\">\r\n      <!-- 0.6 -->\r\n      <g transform=\"translate(236.709688 363.076562)scale(0.1 -0.1)\">\r\n       <defs>\r\n        <path d=\"M 33.015625 40.375 \r\nQ 26.375 40.375 22.484375 35.828125 \r\nQ 18.609375 31.296875 18.609375 23.390625 \r\nQ 18.609375 15.53125 22.484375 10.953125 \r\nQ 26.375 6.390625 33.015625 6.390625 \r\nQ 39.65625 6.390625 43.53125 10.953125 \r\nQ 47.40625 15.53125 47.40625 23.390625 \r\nQ 47.40625 31.296875 43.53125 35.828125 \r\nQ 39.65625 40.375 33.015625 40.375 \r\nz\r\nM 52.59375 71.296875 \r\nL 52.59375 62.3125 \r\nQ 48.875 64.0625 45.09375 64.984375 \r\nQ 41.3125 65.921875 37.59375 65.921875 \r\nQ 27.828125 65.921875 22.671875 59.328125 \r\nQ 17.53125 52.734375 16.796875 39.40625 \r\nQ 19.671875 43.65625 24.015625 45.921875 \r\nQ 28.375 48.1875 33.59375 48.1875 \r\nQ 44.578125 48.1875 50.953125 41.515625 \r\nQ 57.328125 34.859375 57.328125 23.390625 \r\nQ 57.328125 12.15625 50.6875 5.359375 \r\nQ 44.046875 -1.421875 33.015625 -1.421875 \r\nQ 20.359375 -1.421875 13.671875 8.265625 \r\nQ 6.984375 17.96875 6.984375 36.375 \r\nQ 6.984375 53.65625 15.1875 63.9375 \r\nQ 23.390625 74.21875 37.203125 74.21875 \r\nQ 40.921875 74.21875 44.703125 73.484375 \r\nQ 48.484375 72.75 52.59375 71.296875 \r\nz\r\n\" id=\"DejaVuSans-54\"/>\r\n       </defs>\r\n       <use xlink:href=\"#DejaVuSans-48\"/>\r\n       <use x=\"63.623047\" xlink:href=\"#DejaVuSans-46\"/>\r\n       <use x=\"95.410156\" xlink:href=\"#DejaVuSans-54\"/>\r\n      </g>\r\n     </g>\r\n    </g>\r\n    <g id=\"xtick_5\">\r\n     <g id=\"line2d_5\">\r\n      <g>\r\n       <use style=\"stroke:#000000;stroke-width:0.8;\" x=\"311.62125\" xlink:href=\"#m1880501137\" y=\"348.478125\"/>\r\n      </g>\r\n     </g>\r\n     <g id=\"text_5\">\r\n      <!-- 0.8 -->\r\n      <g transform=\"translate(303.669688 363.076562)scale(0.1 -0.1)\">\r\n       <defs>\r\n        <path d=\"M 31.78125 34.625 \r\nQ 24.75 34.625 20.71875 30.859375 \r\nQ 16.703125 27.09375 16.703125 20.515625 \r\nQ 16.703125 13.921875 20.71875 10.15625 \r\nQ 24.75 6.390625 31.78125 6.390625 \r\nQ 38.8125 6.390625 42.859375 10.171875 \r\nQ 46.921875 13.96875 46.921875 20.515625 \r\nQ 46.921875 27.09375 42.890625 30.859375 \r\nQ 38.875 34.625 31.78125 34.625 \r\nz\r\nM 21.921875 38.8125 \r\nQ 15.578125 40.375 12.03125 44.71875 \r\nQ 8.5 49.078125 8.5 55.328125 \r\nQ 8.5 64.0625 14.71875 69.140625 \r\nQ 20.953125 74.21875 31.78125 74.21875 \r\nQ 42.671875 74.21875 48.875 69.140625 \r\nQ 55.078125 64.0625 55.078125 55.328125 \r\nQ 55.078125 49.078125 51.53125 44.71875 \r\nQ 48 40.375 41.703125 38.8125 \r\nQ 48.828125 37.15625 52.796875 32.3125 \r\nQ 56.78125 27.484375 56.78125 20.515625 \r\nQ 56.78125 9.90625 50.3125 4.234375 \r\nQ 43.84375 -1.421875 31.78125 -1.421875 \r\nQ 19.734375 -1.421875 13.25 4.234375 \r\nQ 6.78125 9.90625 6.78125 20.515625 \r\nQ 6.78125 27.484375 10.78125 32.3125 \r\nQ 14.796875 37.15625 21.921875 38.8125 \r\nz\r\nM 18.3125 54.390625 \r\nQ 18.3125 48.734375 21.84375 45.5625 \r\nQ 25.390625 42.390625 31.78125 42.390625 \r\nQ 38.140625 42.390625 41.71875 45.5625 \r\nQ 45.3125 48.734375 45.3125 54.390625 \r\nQ 45.3125 60.0625 41.71875 63.234375 \r\nQ 38.140625 66.40625 31.78125 66.40625 \r\nQ 25.390625 66.40625 21.84375 63.234375 \r\nQ 18.3125 60.0625 18.3125 54.390625 \r\nz\r\n\" id=\"DejaVuSans-56\"/>\r\n       </defs>\r\n       <use xlink:href=\"#DejaVuSans-48\"/>\r\n       <use x=\"63.623047\" xlink:href=\"#DejaVuSans-46\"/>\r\n       <use x=\"95.410156\" xlink:href=\"#DejaVuSans-56\"/>\r\n      </g>\r\n     </g>\r\n    </g>\r\n    <g id=\"xtick_6\">\r\n     <g id=\"line2d_6\">\r\n      <g>\r\n       <use style=\"stroke:#000000;stroke-width:0.8;\" x=\"378.58125\" xlink:href=\"#m1880501137\" y=\"348.478125\"/>\r\n      </g>\r\n     </g>\r\n     <g id=\"text_6\">\r\n      <!-- 1.0 -->\r\n      <g transform=\"translate(370.629687 363.076562)scale(0.1 -0.1)\">\r\n       <defs>\r\n        <path d=\"M 12.40625 8.296875 \r\nL 28.515625 8.296875 \r\nL 28.515625 63.921875 \r\nL 10.984375 60.40625 \r\nL 10.984375 69.390625 \r\nL 28.421875 72.90625 \r\nL 38.28125 72.90625 \r\nL 38.28125 8.296875 \r\nL 54.390625 8.296875 \r\nL 54.390625 0 \r\nL 12.40625 0 \r\nz\r\n\" id=\"DejaVuSans-49\"/>\r\n       </defs>\r\n       <use xlink:href=\"#DejaVuSans-49\"/>\r\n       <use x=\"63.623047\" xlink:href=\"#DejaVuSans-46\"/>\r\n       <use x=\"95.410156\" xlink:href=\"#DejaVuSans-48\"/>\r\n      </g>\r\n     </g>\r\n    </g>\r\n    <g id=\"text_7\">\r\n     <!-- False Positive Rate -->\r\n     <g transform=\"translate(164.714844 376.754687)scale(0.1 -0.1)\">\r\n      <defs>\r\n       <path d=\"M 9.8125 72.90625 \r\nL 51.703125 72.90625 \r\nL 51.703125 64.59375 \r\nL 19.671875 64.59375 \r\nL 19.671875 43.109375 \r\nL 48.578125 43.109375 \r\nL 48.578125 34.8125 \r\nL 19.671875 34.8125 \r\nL 19.671875 0 \r\nL 9.8125 0 \r\nz\r\n\" id=\"DejaVuSans-70\"/>\r\n       <path d=\"M 34.28125 27.484375 \r\nQ 23.390625 27.484375 19.1875 25 \r\nQ 14.984375 22.515625 14.984375 16.5 \r\nQ 14.984375 11.71875 18.140625 8.90625 \r\nQ 21.296875 6.109375 26.703125 6.109375 \r\nQ 34.1875 6.109375 38.703125 11.40625 \r\nQ 43.21875 16.703125 43.21875 25.484375 \r\nL 43.21875 27.484375 \r\nz\r\nM 52.203125 31.203125 \r\nL 52.203125 0 \r\nL 43.21875 0 \r\nL 43.21875 8.296875 \r\nQ 40.140625 3.328125 35.546875 0.953125 \r\nQ 30.953125 -1.421875 24.3125 -1.421875 \r\nQ 15.921875 -1.421875 10.953125 3.296875 \r\nQ 6 8.015625 6 15.921875 \r\nQ 6 25.140625 12.171875 29.828125 \r\nQ 18.359375 34.515625 30.609375 34.515625 \r\nL 43.21875 34.515625 \r\nL 43.21875 35.40625 \r\nQ 43.21875 41.609375 39.140625 45 \r\nQ 35.0625 48.390625 27.6875 48.390625 \r\nQ 23 48.390625 18.546875 47.265625 \r\nQ 14.109375 46.140625 10.015625 43.890625 \r\nL 10.015625 52.203125 \r\nQ 14.9375 54.109375 19.578125 55.046875 \r\nQ 24.21875 56 28.609375 56 \r\nQ 40.484375 56 46.34375 49.84375 \r\nQ 52.203125 43.703125 52.203125 31.203125 \r\nz\r\n\" id=\"DejaVuSans-97\"/>\r\n       <path d=\"M 9.421875 75.984375 \r\nL 18.40625 75.984375 \r\nL 18.40625 0 \r\nL 9.421875 0 \r\nz\r\n\" id=\"DejaVuSans-108\"/>\r\n       <path d=\"M 44.28125 53.078125 \r\nL 44.28125 44.578125 \r\nQ 40.484375 46.53125 36.375 47.5 \r\nQ 32.28125 48.484375 27.875 48.484375 \r\nQ 21.1875 48.484375 17.84375 46.4375 \r\nQ 14.5 44.390625 14.5 40.28125 \r\nQ 14.5 37.15625 16.890625 35.375 \r\nQ 19.28125 33.59375 26.515625 31.984375 \r\nL 29.59375 31.296875 \r\nQ 39.15625 29.25 43.1875 25.515625 \r\nQ 47.21875 21.78125 47.21875 15.09375 \r\nQ 47.21875 7.46875 41.1875 3.015625 \r\nQ 35.15625 -1.421875 24.609375 -1.421875 \r\nQ 20.21875 -1.421875 15.453125 -0.5625 \r\nQ 10.6875 0.296875 5.421875 2 \r\nL 5.421875 11.28125 \r\nQ 10.40625 8.6875 15.234375 7.390625 \r\nQ 20.0625 6.109375 24.8125 6.109375 \r\nQ 31.15625 6.109375 34.5625 8.28125 \r\nQ 37.984375 10.453125 37.984375 14.40625 \r\nQ 37.984375 18.0625 35.515625 20.015625 \r\nQ 33.0625 21.96875 24.703125 23.78125 \r\nL 21.578125 24.515625 \r\nQ 13.234375 26.265625 9.515625 29.90625 \r\nQ 5.8125 33.546875 5.8125 39.890625 \r\nQ 5.8125 47.609375 11.28125 51.796875 \r\nQ 16.75 56 26.8125 56 \r\nQ 31.78125 56 36.171875 55.265625 \r\nQ 40.578125 54.546875 44.28125 53.078125 \r\nz\r\n\" id=\"DejaVuSans-115\"/>\r\n       <path d=\"M 56.203125 29.59375 \r\nL 56.203125 25.203125 \r\nL 14.890625 25.203125 \r\nQ 15.484375 15.921875 20.484375 11.0625 \r\nQ 25.484375 6.203125 34.421875 6.203125 \r\nQ 39.59375 6.203125 44.453125 7.46875 \r\nQ 49.3125 8.734375 54.109375 11.28125 \r\nL 54.109375 2.78125 \r\nQ 49.265625 0.734375 44.1875 -0.34375 \r\nQ 39.109375 -1.421875 33.890625 -1.421875 \r\nQ 20.796875 -1.421875 13.15625 6.1875 \r\nQ 5.515625 13.8125 5.515625 26.8125 \r\nQ 5.515625 40.234375 12.765625 48.109375 \r\nQ 20.015625 56 32.328125 56 \r\nQ 43.359375 56 49.78125 48.890625 \r\nQ 56.203125 41.796875 56.203125 29.59375 \r\nz\r\nM 47.21875 32.234375 \r\nQ 47.125 39.59375 43.09375 43.984375 \r\nQ 39.0625 48.390625 32.421875 48.390625 \r\nQ 24.90625 48.390625 20.390625 44.140625 \r\nQ 15.875 39.890625 15.1875 32.171875 \r\nz\r\n\" id=\"DejaVuSans-101\"/>\r\n       <path id=\"DejaVuSans-32\"/>\r\n       <path d=\"M 19.671875 64.796875 \r\nL 19.671875 37.40625 \r\nL 32.078125 37.40625 \r\nQ 38.96875 37.40625 42.71875 40.96875 \r\nQ 46.484375 44.53125 46.484375 51.125 \r\nQ 46.484375 57.671875 42.71875 61.234375 \r\nQ 38.96875 64.796875 32.078125 64.796875 \r\nz\r\nM 9.8125 72.90625 \r\nL 32.078125 72.90625 \r\nQ 44.34375 72.90625 50.609375 67.359375 \r\nQ 56.890625 61.8125 56.890625 51.125 \r\nQ 56.890625 40.328125 50.609375 34.8125 \r\nQ 44.34375 29.296875 32.078125 29.296875 \r\nL 19.671875 29.296875 \r\nL 19.671875 0 \r\nL 9.8125 0 \r\nz\r\n\" id=\"DejaVuSans-80\"/>\r\n       <path d=\"M 30.609375 48.390625 \r\nQ 23.390625 48.390625 19.1875 42.75 \r\nQ 14.984375 37.109375 14.984375 27.296875 \r\nQ 14.984375 17.484375 19.15625 11.84375 \r\nQ 23.34375 6.203125 30.609375 6.203125 \r\nQ 37.796875 6.203125 41.984375 11.859375 \r\nQ 46.1875 17.53125 46.1875 27.296875 \r\nQ 46.1875 37.015625 41.984375 42.703125 \r\nQ 37.796875 48.390625 30.609375 48.390625 \r\nz\r\nM 30.609375 56 \r\nQ 42.328125 56 49.015625 48.375 \r\nQ 55.71875 40.765625 55.71875 27.296875 \r\nQ 55.71875 13.875 49.015625 6.21875 \r\nQ 42.328125 -1.421875 30.609375 -1.421875 \r\nQ 18.84375 -1.421875 12.171875 6.21875 \r\nQ 5.515625 13.875 5.515625 27.296875 \r\nQ 5.515625 40.765625 12.171875 48.375 \r\nQ 18.84375 56 30.609375 56 \r\nz\r\n\" id=\"DejaVuSans-111\"/>\r\n       <path d=\"M 9.421875 54.6875 \r\nL 18.40625 54.6875 \r\nL 18.40625 0 \r\nL 9.421875 0 \r\nz\r\nM 9.421875 75.984375 \r\nL 18.40625 75.984375 \r\nL 18.40625 64.59375 \r\nL 9.421875 64.59375 \r\nz\r\n\" id=\"DejaVuSans-105\"/>\r\n       <path d=\"M 18.3125 70.21875 \r\nL 18.3125 54.6875 \r\nL 36.8125 54.6875 \r\nL 36.8125 47.703125 \r\nL 18.3125 47.703125 \r\nL 18.3125 18.015625 \r\nQ 18.3125 11.328125 20.140625 9.421875 \r\nQ 21.96875 7.515625 27.59375 7.515625 \r\nL 36.8125 7.515625 \r\nL 36.8125 0 \r\nL 27.59375 0 \r\nQ 17.1875 0 13.234375 3.875 \r\nQ 9.28125 7.765625 9.28125 18.015625 \r\nL 9.28125 47.703125 \r\nL 2.6875 47.703125 \r\nL 2.6875 54.6875 \r\nL 9.28125 54.6875 \r\nL 9.28125 70.21875 \r\nz\r\n\" id=\"DejaVuSans-116\"/>\r\n       <path d=\"M 2.984375 54.6875 \r\nL 12.5 54.6875 \r\nL 29.59375 8.796875 \r\nL 46.6875 54.6875 \r\nL 56.203125 54.6875 \r\nL 35.6875 0 \r\nL 23.484375 0 \r\nz\r\n\" id=\"DejaVuSans-118\"/>\r\n       <path d=\"M 44.390625 34.1875 \r\nQ 47.5625 33.109375 50.5625 29.59375 \r\nQ 53.5625 26.078125 56.59375 19.921875 \r\nL 66.609375 0 \r\nL 56 0 \r\nL 46.6875 18.703125 \r\nQ 43.0625 26.03125 39.671875 28.421875 \r\nQ 36.28125 30.8125 30.421875 30.8125 \r\nL 19.671875 30.8125 \r\nL 19.671875 0 \r\nL 9.8125 0 \r\nL 9.8125 72.90625 \r\nL 32.078125 72.90625 \r\nQ 44.578125 72.90625 50.734375 67.671875 \r\nQ 56.890625 62.453125 56.890625 51.90625 \r\nQ 56.890625 45.015625 53.6875 40.46875 \r\nQ 50.484375 35.9375 44.390625 34.1875 \r\nz\r\nM 19.671875 64.796875 \r\nL 19.671875 38.921875 \r\nL 32.078125 38.921875 \r\nQ 39.203125 38.921875 42.84375 42.21875 \r\nQ 46.484375 45.515625 46.484375 51.90625 \r\nQ 46.484375 58.296875 42.84375 61.546875 \r\nQ 39.203125 64.796875 32.078125 64.796875 \r\nz\r\n\" id=\"DejaVuSans-82\"/>\r\n      </defs>\r\n      <use xlink:href=\"#DejaVuSans-70\"/>\r\n      <use x=\"48.394531\" xlink:href=\"#DejaVuSans-97\"/>\r\n      <use x=\"109.673828\" xlink:href=\"#DejaVuSans-108\"/>\r\n      <use x=\"137.457031\" xlink:href=\"#DejaVuSans-115\"/>\r\n      <use x=\"189.556641\" xlink:href=\"#DejaVuSans-101\"/>\r\n      <use x=\"251.080078\" xlink:href=\"#DejaVuSans-32\"/>\r\n      <use x=\"282.867188\" xlink:href=\"#DejaVuSans-80\"/>\r\n      <use x=\"339.544922\" xlink:href=\"#DejaVuSans-111\"/>\r\n      <use x=\"400.726562\" xlink:href=\"#DejaVuSans-115\"/>\r\n      <use x=\"452.826172\" xlink:href=\"#DejaVuSans-105\"/>\r\n      <use x=\"480.609375\" xlink:href=\"#DejaVuSans-116\"/>\r\n      <use x=\"519.818359\" xlink:href=\"#DejaVuSans-105\"/>\r\n      <use x=\"547.601562\" xlink:href=\"#DejaVuSans-118\"/>\r\n      <use x=\"606.78125\" xlink:href=\"#DejaVuSans-101\"/>\r\n      <use x=\"668.304688\" xlink:href=\"#DejaVuSans-32\"/>\r\n      <use x=\"700.091797\" xlink:href=\"#DejaVuSans-82\"/>\r\n      <use x=\"767.324219\" xlink:href=\"#DejaVuSans-97\"/>\r\n      <use x=\"828.603516\" xlink:href=\"#DejaVuSans-116\"/>\r\n      <use x=\"867.8125\" xlink:href=\"#DejaVuSans-101\"/>\r\n     </g>\r\n    </g>\r\n   </g>\r\n   <g id=\"matplotlib.axis_2\">\r\n    <g id=\"ytick_1\">\r\n     <g id=\"line2d_7\">\r\n      <defs>\r\n       <path d=\"M 0 0 \r\nL -3.5 0 \r\n\" id=\"m8367554407\" style=\"stroke:#000000;stroke-width:0.8;\"/>\r\n      </defs>\r\n      <g>\r\n       <use style=\"stroke:#000000;stroke-width:0.8;\" x=\"43.78125\" xlink:href=\"#m8367554407\" y=\"348.478125\"/>\r\n      </g>\r\n     </g>\r\n     <g id=\"text_8\">\r\n      <!-- 0.0 -->\r\n      <g transform=\"translate(20.878125 352.277344)scale(0.1 -0.1)\">\r\n       <use xlink:href=\"#DejaVuSans-48\"/>\r\n       <use x=\"63.623047\" xlink:href=\"#DejaVuSans-46\"/>\r\n       <use x=\"95.410156\" xlink:href=\"#DejaVuSans-48\"/>\r\n      </g>\r\n     </g>\r\n    </g>\r\n    <g id=\"ytick_2\">\r\n     <g id=\"line2d_8\">\r\n      <g>\r\n       <use style=\"stroke:#000000;stroke-width:0.8;\" x=\"43.78125\" xlink:href=\"#m8367554407\" y=\"286.352411\"/>\r\n      </g>\r\n     </g>\r\n     <g id=\"text_9\">\r\n      <!-- 0.2 -->\r\n      <g transform=\"translate(20.878125 290.151629)scale(0.1 -0.1)\">\r\n       <use xlink:href=\"#DejaVuSans-48\"/>\r\n       <use x=\"63.623047\" xlink:href=\"#DejaVuSans-46\"/>\r\n       <use x=\"95.410156\" xlink:href=\"#DejaVuSans-50\"/>\r\n      </g>\r\n     </g>\r\n    </g>\r\n    <g id=\"ytick_3\">\r\n     <g id=\"line2d_9\">\r\n      <g>\r\n       <use style=\"stroke:#000000;stroke-width:0.8;\" x=\"43.78125\" xlink:href=\"#m8367554407\" y=\"224.226696\"/>\r\n      </g>\r\n     </g>\r\n     <g id=\"text_10\">\r\n      <!-- 0.4 -->\r\n      <g transform=\"translate(20.878125 228.025915)scale(0.1 -0.1)\">\r\n       <use xlink:href=\"#DejaVuSans-48\"/>\r\n       <use x=\"63.623047\" xlink:href=\"#DejaVuSans-46\"/>\r\n       <use x=\"95.410156\" xlink:href=\"#DejaVuSans-52\"/>\r\n      </g>\r\n     </g>\r\n    </g>\r\n    <g id=\"ytick_4\">\r\n     <g id=\"line2d_10\">\r\n      <g>\r\n       <use style=\"stroke:#000000;stroke-width:0.8;\" x=\"43.78125\" xlink:href=\"#m8367554407\" y=\"162.100982\"/>\r\n      </g>\r\n     </g>\r\n     <g id=\"text_11\">\r\n      <!-- 0.6 -->\r\n      <g transform=\"translate(20.878125 165.900201)scale(0.1 -0.1)\">\r\n       <use xlink:href=\"#DejaVuSans-48\"/>\r\n       <use x=\"63.623047\" xlink:href=\"#DejaVuSans-46\"/>\r\n       <use x=\"95.410156\" xlink:href=\"#DejaVuSans-54\"/>\r\n      </g>\r\n     </g>\r\n    </g>\r\n    <g id=\"ytick_5\">\r\n     <g id=\"line2d_11\">\r\n      <g>\r\n       <use style=\"stroke:#000000;stroke-width:0.8;\" x=\"43.78125\" xlink:href=\"#m8367554407\" y=\"99.975268\"/>\r\n      </g>\r\n     </g>\r\n     <g id=\"text_12\">\r\n      <!-- 0.8 -->\r\n      <g transform=\"translate(20.878125 103.774487)scale(0.1 -0.1)\">\r\n       <use xlink:href=\"#DejaVuSans-48\"/>\r\n       <use x=\"63.623047\" xlink:href=\"#DejaVuSans-46\"/>\r\n       <use x=\"95.410156\" xlink:href=\"#DejaVuSans-56\"/>\r\n      </g>\r\n     </g>\r\n    </g>\r\n    <g id=\"ytick_6\">\r\n     <g id=\"line2d_12\">\r\n      <g>\r\n       <use style=\"stroke:#000000;stroke-width:0.8;\" x=\"43.78125\" xlink:href=\"#m8367554407\" y=\"37.849554\"/>\r\n      </g>\r\n     </g>\r\n     <g id=\"text_13\">\r\n      <!-- 1.0 -->\r\n      <g transform=\"translate(20.878125 41.648772)scale(0.1 -0.1)\">\r\n       <use xlink:href=\"#DejaVuSans-49\"/>\r\n       <use x=\"63.623047\" xlink:href=\"#DejaVuSans-46\"/>\r\n       <use x=\"95.410156\" xlink:href=\"#DejaVuSans-48\"/>\r\n      </g>\r\n     </g>\r\n    </g>\r\n    <g id=\"text_14\">\r\n     <!-- True Positive Rate -->\r\n     <g transform=\"translate(14.798438 229.927812)rotate(-90)scale(0.1 -0.1)\">\r\n      <defs>\r\n       <path d=\"M -0.296875 72.90625 \r\nL 61.375 72.90625 \r\nL 61.375 64.59375 \r\nL 35.5 64.59375 \r\nL 35.5 0 \r\nL 25.59375 0 \r\nL 25.59375 64.59375 \r\nL -0.296875 64.59375 \r\nz\r\n\" id=\"DejaVuSans-84\"/>\r\n       <path d=\"M 41.109375 46.296875 \r\nQ 39.59375 47.171875 37.8125 47.578125 \r\nQ 36.03125 48 33.890625 48 \r\nQ 26.265625 48 22.1875 43.046875 \r\nQ 18.109375 38.09375 18.109375 28.8125 \r\nL 18.109375 0 \r\nL 9.078125 0 \r\nL 9.078125 54.6875 \r\nL 18.109375 54.6875 \r\nL 18.109375 46.1875 \r\nQ 20.953125 51.171875 25.484375 53.578125 \r\nQ 30.03125 56 36.53125 56 \r\nQ 37.453125 56 38.578125 55.875 \r\nQ 39.703125 55.765625 41.0625 55.515625 \r\nz\r\n\" id=\"DejaVuSans-114\"/>\r\n       <path d=\"M 8.5 21.578125 \r\nL 8.5 54.6875 \r\nL 17.484375 54.6875 \r\nL 17.484375 21.921875 \r\nQ 17.484375 14.15625 20.5 10.265625 \r\nQ 23.53125 6.390625 29.59375 6.390625 \r\nQ 36.859375 6.390625 41.078125 11.03125 \r\nQ 45.3125 15.671875 45.3125 23.6875 \r\nL 45.3125 54.6875 \r\nL 54.296875 54.6875 \r\nL 54.296875 0 \r\nL 45.3125 0 \r\nL 45.3125 8.40625 \r\nQ 42.046875 3.421875 37.71875 1 \r\nQ 33.40625 -1.421875 27.6875 -1.421875 \r\nQ 18.265625 -1.421875 13.375 4.4375 \r\nQ 8.5 10.296875 8.5 21.578125 \r\nz\r\nM 31.109375 56 \r\nz\r\n\" id=\"DejaVuSans-117\"/>\r\n      </defs>\r\n      <use xlink:href=\"#DejaVuSans-84\"/>\r\n      <use x=\"46.333984\" xlink:href=\"#DejaVuSans-114\"/>\r\n      <use x=\"87.447266\" xlink:href=\"#DejaVuSans-117\"/>\r\n      <use x=\"150.826172\" xlink:href=\"#DejaVuSans-101\"/>\r\n      <use x=\"212.349609\" xlink:href=\"#DejaVuSans-32\"/>\r\n      <use x=\"244.136719\" xlink:href=\"#DejaVuSans-80\"/>\r\n      <use x=\"300.814453\" xlink:href=\"#DejaVuSans-111\"/>\r\n      <use x=\"361.996094\" xlink:href=\"#DejaVuSans-115\"/>\r\n      <use x=\"414.095703\" xlink:href=\"#DejaVuSans-105\"/>\r\n      <use x=\"441.878906\" xlink:href=\"#DejaVuSans-116\"/>\r\n      <use x=\"481.087891\" xlink:href=\"#DejaVuSans-105\"/>\r\n      <use x=\"508.871094\" xlink:href=\"#DejaVuSans-118\"/>\r\n      <use x=\"568.050781\" xlink:href=\"#DejaVuSans-101\"/>\r\n      <use x=\"629.574219\" xlink:href=\"#DejaVuSans-32\"/>\r\n      <use x=\"661.361328\" xlink:href=\"#DejaVuSans-82\"/>\r\n      <use x=\"728.59375\" xlink:href=\"#DejaVuSans-97\"/>\r\n      <use x=\"789.873047\" xlink:href=\"#DejaVuSans-116\"/>\r\n      <use x=\"829.082031\" xlink:href=\"#DejaVuSans-101\"/>\r\n     </g>\r\n    </g>\r\n   </g>\r\n   <g id=\"line2d_13\">\r\n    <path clip-path=\"url(#pcd51091681)\" d=\"M 43.78125 348.478125 \r\nL 44.855557 346.507444 \r\nL 45.009029 346.507444 \r\nL 45.162501 346.261109 \r\nL 46.160072 346.261109 \r\nL 46.160072 345.768439 \r\nL 46.850698 345.768439 \r\nL 46.927434 345.275769 \r\nL 47.541323 345.275769 \r\nL 47.541323 345.029433 \r\nL 48.078477 345.029433 \r\nL 48.078477 344.536763 \r\nL 48.922575 344.536763 \r\nL 48.999311 344.044093 \r\nL 49.306256 344.044093 \r\nL 49.306256 343.797758 \r\nL 50.764243 343.797758 \r\nL 50.764243 343.305088 \r\nL 53.066329 343.305088 \r\nL 53.143065 342.319747 \r\nL 53.833691 342.319747 \r\nL 53.833691 342.073412 \r\nL 54.140636 342.073412 \r\nL 54.140636 341.827077 \r\nL 54.217372 341.827077 \r\nL 54.447581 341.827077 \r\nL 54.447581 341.580742 \r\nL 54.831261 341.580742 \r\nL 54.831261 341.088072 \r\nL 55.214942 341.088072 \r\nL 55.214942 340.841737 \r\nL 55.67536 340.841737 \r\nL 55.67536 340.595402 \r\nL 55.982304 340.595402 \r\nL 55.982304 340.349066 \r\nL 56.212513 340.349066 \r\nL 56.212513 339.610061 \r\nL 56.442721 339.610061 \r\nL 56.442721 339.363726 \r\nL 56.979875 339.363726 \r\nL 56.979875 339.117391 \r\nL 57.133347 339.117391 \r\nL 57.133347 338.624721 \r\nL 57.28682 338.624721 \r\nL 57.28682 338.378386 \r\nL 58.361126 338.378386 \r\nL 58.437862 337.14671 \r\nL 58.514599 337.14671 \r\nL 58.514599 336.900375 \r\nL 58.744807 336.900375 \r\nL 58.821543 335.668699 \r\nL 59.051752 335.668699 \r\nL 59.128488 334.683359 \r\nL 59.512169 334.683359 \r\nL 59.512169 334.437024 \r\nL 59.972586 334.437024 \r\nL 60.049322 333.451683 \r\nL 60.126059 333.451683 \r\nL 60.202795 332.712678 \r\nL 60.356267 332.712678 \r\nL 60.356267 332.466343 \r\nL 60.586476 332.466343 \r\nL 60.586476 332.220008 \r\nL 60.663212 332.220008 \r\nL 60.970157 332.220008 \r\nL 60.970157 331.481003 \r\nL 61.430574 331.481003 \r\nL 61.430574 330.988332 \r\nL 61.660782 330.988332 \r\nL 61.660782 330.741997 \r\nL 61.890991 330.741997 \r\nL 61.890991 330.249327 \r\nL 62.044463 330.249327 \r\nL 62.1212 328.771316 \r\nL 62.504881 328.771316 \r\nL 62.504881 328.278646 \r\nL 63.042034 328.278646 \r\nL 63.042034 328.032311 \r\nL 63.11877 328.032311 \r\nL 63.348979 328.032311 \r\nL 63.348979 327.785976 \r\nL 63.579187 327.785976 \r\nL 63.579187 326.307965 \r\nL 64.039604 326.307965 \r\nL 64.039604 326.06163 \r\nL 64.193077 326.06163 \r\nL 64.269813 325.56896 \r\nL 64.73023 325.56896 \r\nL 64.73023 325.07629 \r\nL 64.960439 325.07629 \r\nL 64.960439 324.829955 \r\nL 65.267383 324.829955 \r\nL 65.267383 324.337284 \r\nL 65.727801 324.337284 \r\nL 65.804537 323.844614 \r\nL 65.881273 323.844614 \r\nL 65.958009 322.366604 \r\nL 66.188218 322.366604 \r\nL 66.188218 322.120268 \r\nL 66.495162 322.120268 \r\nL 66.571899 321.381263 \r\nL 66.725371 321.381263 \r\nL 66.725371 320.149588 \r\nL 67.032316 320.149588 \r\nL 67.109052 319.656917 \r\nL 67.339261 319.656917 \r\nL 67.339261 319.164247 \r\nL 67.492733 319.164247 \r\nL 67.492733 318.917912 \r\nL 68.106622 318.917912 \r\nL 68.106622 317.932572 \r\nL 68.797248 317.932572 \r\nL 68.797248 317.686236 \r\nL 68.950721 317.686236 \r\nL 68.950721 317.439901 \r\nL 69.104193 317.439901 \r\nL 69.180929 315.715556 \r\nL 69.257665 315.715556 \r\nL 69.257665 315.469221 \r\nL 69.411138 315.469221 \r\nL 69.487874 314.97655 \r\nL 69.948291 314.97655 \r\nL 69.948291 314.730215 \r\nL 70.1785 314.730215 \r\nL 70.1785 313.99121 \r\nL 70.331972 313.99121 \r\nL 70.331972 313.744875 \r\nL 70.638917 313.744875 \r\nL 70.638917 313.49854 \r\nL 70.792389 313.49854 \r\nL 70.792389 313.252205 \r\nL 70.945862 313.252205 \r\nL 70.945862 313.005869 \r\nL 72.173641 313.005869 \r\nL 72.250377 312.513199 \r\nL 72.403849 312.513199 \r\nL 72.480585 311.527859 \r\nL 73.708364 311.527859 \r\nL 73.708364 311.281524 \r\nL 74.092045 311.281524 \r\nL 74.168782 310.788853 \r\nL 74.245518 310.788853 \r\nL 74.322254 310.296183 \r\nL 74.39899 310.296183 \r\nL 74.475726 309.557178 \r\nL 74.552462 309.557178 \r\nL 74.552462 308.818173 \r\nL 75.089616 308.818173 \r\nL 75.166352 306.601157 \r\nL 75.780242 306.601157 \r\nL 75.856978 306.108486 \r\nL 76.01045 306.108486 \r\nL 76.01045 305.123146 \r\nL 76.163922 305.123146 \r\nL 76.163922 304.384141 \r\nL 76.394131 304.384141 \r\nL 76.394131 304.137806 \r\nL 76.547603 304.137806 \r\nL 76.547603 303.645135 \r\nL 76.701076 303.645135 \r\nL 76.701076 303.3988 \r\nL 77.391702 303.3988 \r\nL 77.391702 302.167125 \r\nL 77.928855 302.167125 \r\nL 77.928855 301.92079 \r\nL 78.389272 301.92079 \r\nL 78.389272 301.674454 \r\nL 78.772953 301.674454 \r\nL 78.772953 301.428119 \r\nL 79.079898 301.428119 \r\nL 79.156634 299.703774 \r\nL 79.23337 299.703774 \r\nL 79.23337 299.211103 \r\nL 79.386842 299.211103 \r\nL 79.386842 298.718433 \r\nL 79.463579 298.718433 \r\nL 79.693787 298.718433 \r\nL 79.693787 298.225763 \r\nL 79.84726 298.225763 \r\nL 79.84726 297.979428 \r\nL 80.614622 297.979428 \r\nL 80.614622 297.733093 \r\nL 80.768094 297.733093 \r\nL 80.768094 297.486758 \r\nL 81.381983 297.486758 \r\nL 81.381983 297.240422 \r\nL 81.535456 297.240422 \r\nL 81.535456 296.994087 \r\nL 82.072609 296.994087 \r\nL 82.072609 296.501417 \r\nL 82.533026 296.501417 \r\nL 82.533026 296.255082 \r\nL 83.453861 296.255082 \r\nL 83.530597 295.269742 \r\nL 83.837542 295.269742 \r\nL 83.837542 295.023407 \r\nL 84.06775 295.023407 \r\nL 84.144486 292.806391 \r\nL 84.221222 292.806391 \r\nL 84.221222 292.560055 \r\nL 84.758376 292.560055 \r\nL 84.758376 292.31372 \r\nL 85.065321 292.31372 \r\nL 85.065321 292.067385 \r\nL 85.832683 292.067385 \r\nL 85.832683 291.82105 \r\nL 86.062891 291.82105 \r\nL 86.062891 291.574715 \r\nL 86.2931 291.574715 \r\nL 86.2931 290.83571 \r\nL 87.060462 290.83571 \r\nL 87.137198 290.096704 \r\nL 87.367406 290.096704 \r\nL 87.444143 288.126023 \r\nL 87.520879 288.126023 \r\nL 87.520879 287.879688 \r\nL 88.90213 287.879688 \r\nL 88.90213 287.633353 \r\nL 89.055603 287.633353 \r\nL 89.132339 285.416337 \r\nL 89.209075 285.416337 \r\nL 89.209075 284.184662 \r\nL 89.746228 284.184662 \r\nL 89.746228 283.938327 \r\nL 91.511161 283.938327 \r\nL 91.511161 282.460316 \r\nL 92.355259 282.460316 \r\nL 92.431995 280.982305 \r\nL 93.352829 280.982305 \r\nL 93.429565 280.489635 \r\nL 94.580608 280.489635 \r\nL 94.580608 279.996965 \r\nL 94.810817 279.996965 \r\nL 94.810817 279.75063 \r\nL 94.964289 279.75063 \r\nL 94.964289 279.504295 \r\nL 95.194498 279.504295 \r\nL 95.271234 279.011624 \r\nL 95.501443 279.011624 \r\nL 95.501443 275.562933 \r\nL 95.578179 275.562933 \r\nL 97.036166 275.562933 \r\nL 97.036166 275.316598 \r\nL 97.57332 275.316598 \r\nL 97.57332 275.070263 \r\nL 98.033737 275.070263 \r\nL 98.033737 274.577593 \r\nL 98.187209 274.577593 \r\nL 98.263945 273.838587 \r\nL 98.647626 273.838587 \r\nL 98.647626 272.853247 \r\nL 98.877835 272.853247 \r\nL 98.954571 270.143561 \r\nL 99.031307 270.143561 \r\nL 99.108043 268.66555 \r\nL 99.261516 268.66555 \r\nL 99.338252 268.17288 \r\nL 99.414988 268.17288 \r\nL 99.491724 267.433874 \r\nL 99.798669 267.433874 \r\nL 99.798669 266.941204 \r\nL 99.875405 266.941204 \r\nL 100.105614 266.941204 \r\nL 100.105614 266.694869 \r\nL 101.717074 266.694869 \r\nL 101.717074 266.202199 \r\nL 102.100755 266.202199 \r\nL 102.100755 265.955864 \r\nL 102.484436 265.955864 \r\nL 102.484436 265.709529 \r\nL 102.714644 265.709529 \r\nL 102.714644 264.724188 \r\nL 102.868117 264.724188 \r\nL 102.944853 264.231518 \r\nL 103.021589 264.231518 \r\nL 103.098325 263.492513 \r\nL 103.175062 263.492513 \r\nL 103.175062 261.029162 \r\nL 103.328534 261.029162 \r\nL 103.328534 260.536491 \r\nL 104.01916 260.536491 \r\nL 104.095896 260.043821 \r\nL 104.249368 260.043821 \r\nL 104.249368 259.797486 \r\nL 104.479577 259.797486 \r\nL 104.556313 258.565811 \r\nL 104.633049 258.565811 \r\nL 104.633049 257.826805 \r\nL 104.786522 257.826805 \r\nL 104.786522 257.58047 \r\nL 105.01673 257.58047 \r\nL 105.093466 254.870784 \r\nL 106.014301 254.870784 \r\nL 106.014301 254.624449 \r\nL 106.244509 254.624449 \r\nL 106.244509 254.131779 \r\nL 106.397982 254.131779 \r\nL 106.397982 253.392773 \r\nL 106.551454 253.392773 \r\nL 106.62819 252.900103 \r\nL 106.704926 252.900103 \r\nL 106.704926 252.653768 \r\nL 106.858399 252.653768 \r\nL 106.858399 252.407433 \r\nL 107.011871 252.407433 \r\nL 107.011871 251.914763 \r\nL 107.779233 251.914763 \r\nL 107.779233 251.668427 \r\nL 107.932705 251.668427 \r\nL 108.009442 250.929422 \r\nL 108.086178 250.929422 \r\nL 108.086178 250.436752 \r\nL 108.23965 250.436752 \r\nL 108.316386 249.697747 \r\nL 108.776804 249.697747 \r\nL 108.85354 249.205076 \r\nL 109.083748 249.205076 \r\nL 109.160484 246.00272 \r\nL 112.767085 246.00272 \r\nL 112.843822 245.263715 \r\nL 113.150766 245.263715 \r\nL 113.150766 244.771044 \r\nL 113.304239 244.771044 \r\nL 113.304239 244.278374 \r\nL 113.457711 244.278374 \r\nL 113.534447 242.061358 \r\nL 113.68792 242.061358 \r\nL 113.764656 236.888321 \r\nL 113.841392 236.888321 \r\nL 113.841392 236.641986 \r\nL 115.606324 236.641986 \r\nL 115.606324 236.395651 \r\nL 116.220214 236.395651 \r\nL 116.220214 235.902981 \r\nL 116.527159 235.902981 \r\nL 116.603895 235.41031 \r\nL 116.680631 235.41031 \r\nL 116.680631 235.163975 \r\nL 116.757367 235.163975 \r\nL 117.371257 235.163975 \r\nL 117.371257 234.178635 \r\nL 117.90841 234.178635 \r\nL 117.90841 233.685965 \r\nL 118.061883 233.685965 \r\nL 118.138619 233.193294 \r\nL 118.215355 233.193294 \r\nL 118.292091 232.700624 \r\nL 118.368827 232.700624 \r\nL 118.445564 231.961619 \r\nL 118.599036 231.961619 \r\nL 118.599036 231.715284 \r\nL 118.752508 231.715284 \r\nL 118.829244 229.005598 \r\nL 118.905981 229.005598 \r\nL 118.905981 228.759262 \r\nL 120.517441 228.759262 \r\nL 120.517441 228.512927 \r\nL 121.13133 228.512927 \r\nL 121.13133 228.266592 \r\nL 121.284803 228.266592 \r\nL 121.361539 227.281252 \r\nL 121.515011 227.281252 \r\nL 121.515011 227.034917 \r\nL 121.821956 227.034917 \r\nL 121.821956 226.788582 \r\nL 121.975428 226.788582 \r\nL 121.975428 226.295911 \r\nL 122.74279 226.295911 \r\nL 122.74279 226.049576 \r\nL 122.896263 226.049576 \r\nL 122.896263 225.803241 \r\nL 123.126471 225.803241 \r\nL 123.126471 225.556906 \r\nL 123.35668 225.556906 \r\nL 123.433416 224.817901 \r\nL 123.510152 224.817901 \r\nL 123.510152 221.615544 \r\nL 123.663625 221.615544 \r\nL 123.740361 220.383869 \r\nL 123.817097 220.383869 \r\nL 123.817097 219.644863 \r\nL 124.891404 219.644863 \r\nL 124.891404 219.398528 \r\nL 124.96814 219.398528 \r\nL 127.040017 219.398528 \r\nL 127.040017 219.152193 \r\nL 127.57717 219.152193 \r\nL 127.57717 218.905858 \r\nL 128.19106 218.905858 \r\nL 128.19106 218.659523 \r\nL 128.728213 218.659523 \r\nL 128.728213 217.920518 \r\nL 129.18863 217.920518 \r\nL 129.18863 217.427847 \r\nL 129.649047 217.427847 \r\nL 129.725784 216.688842 \r\nL 129.879256 216.688842 \r\nL 129.879256 216.196172 \r\nL 130.032728 216.196172 \r\nL 130.032728 215.703502 \r\nL 130.186201 215.703502 \r\nL 130.186201 215.210831 \r\nL 130.493145 215.210831 \r\nL 130.493145 212.993815 \r\nL 130.80009 212.993815 \r\nL 130.80009 210.7768 \r\nL 130.953563 210.7768 \r\nL 131.030299 208.559784 \r\nL 131.107035 208.559784 \r\nL 131.183771 206.342768 \r\nL 132.718495 206.342768 \r\nL 132.718495 205.603762 \r\nL 134.329955 205.603762 \r\nL 134.329955 205.357427 \r\nL 134.560164 205.357427 \r\nL 134.6369 204.125752 \r\nL 134.713636 204.125752 \r\nL 134.790372 203.633081 \r\nL 134.867108 203.633081 \r\nL 134.867108 202.894076 \r\nL 135.020581 202.894076 \r\nL 135.020581 202.647741 \r\nL 135.327525 202.647741 \r\nL 135.404262 201.16973 \r\nL 135.480998 201.16973 \r\nL 135.557734 198.952714 \r\nL 135.63447 198.952714 \r\nL 135.63447 198.706379 \r\nL 137.092458 198.706379 \r\nL 137.092458 198.460044 \r\nL 138.013292 198.460044 \r\nL 138.013292 198.213709 \r\nL 138.550446 198.213709 \r\nL 138.550446 197.967374 \r\nL 139.164335 197.967374 \r\nL 139.164335 197.721039 \r\nL 139.854961 197.721039 \r\nL 139.931697 197.228369 \r\nL 140.161906 197.228369 \r\nL 140.238642 195.750358 \r\nL 140.392114 195.750358 \r\nL 140.46885 195.257688 \r\nL 140.775795 195.257688 \r\nL 140.852531 194.026012 \r\nL 140.929267 194.026012 \r\nL 141.006004 191.808996 \r\nL 141.08274 191.808996 \r\nL 141.159476 191.316326 \r\nL 141.236212 191.316326 \r\nL 141.236212 190.577321 \r\nL 141.312948 190.577321 \r\nL 141.389685 190.08465 \r\nL 141.466421 188.60664 \r\nL 141.543157 188.60664 \r\nL 141.619893 187.867634 \r\nL 141.696629 187.867634 \r\nL 141.773366 187.128629 \r\nL 141.850102 187.128629 \r\nL 141.926838 183.679938 \r\nL 142.003574 183.679938 \r\nL 142.003574 182.694597 \r\nL 142.157046 182.694597 \r\nL 142.157046 182.448262 \r\nL 142.387255 182.448262 \r\nL 142.387255 182.201927 \r\nL 145.30323 182.201927 \r\nL 145.379966 181.709257 \r\nL 145.993856 181.709257 \r\nL 145.993856 181.216587 \r\nL 146.300801 181.216587 \r\nL 146.300801 180.970251 \r\nL 146.454273 180.970251 \r\nL 146.531009 180.477581 \r\nL 146.607746 180.477581 \r\nL 146.684482 179.492241 \r\nL 146.91469 179.492241 \r\nL 146.991426 178.999571 \r\nL 147.52858 178.999571 \r\nL 147.52858 177.767895 \r\nL 147.682052 177.767895 \r\nL 147.682052 176.782555 \r\nL 147.835525 176.782555 \r\nL 147.835525 176.536219 \r\nL 147.988997 176.536219 \r\nL 148.065733 176.043549 \r\nL 148.219206 176.043549 \r\nL 148.295942 172.348523 \r\nL 148.52615 172.348523 \r\nL 148.602886 171.855852 \r\nL 148.756359 171.855852 \r\nL 148.833095 171.116847 \r\nL 149.063304 171.116847 \r\nL 149.063304 170.870512 \r\nL 151.979279 170.870512 \r\nL 151.979279 170.624177 \r\nL 154.051156 170.624177 \r\nL 154.051156 170.377842 \r\nL 154.204628 170.377842 \r\nL 154.204628 170.131507 \r\nL 154.281365 170.131507 \r\nL 154.511573 170.131507 \r\nL 154.511573 169.392501 \r\nL 154.741782 169.392501 \r\nL 154.741782 169.146166 \r\nL 155.355671 169.146166 \r\nL 155.355671 168.899831 \r\nL 155.509144 168.899831 \r\nL 155.509144 168.653496 \r\nL 155.892825 168.653496 \r\nL 155.892825 168.407161 \r\nL 156.046297 168.407161 \r\nL 156.123033 167.175485 \r\nL 156.276506 167.175485 \r\nL 156.276506 166.92915 \r\nL 156.429978 166.92915 \r\nL 156.429978 165.204805 \r\nL 156.58345 165.204805 \r\nL 156.660187 162.248783 \r\nL 156.736923 162.248783 \r\nL 156.813659 161.263443 \r\nL 156.890395 161.263443 \r\nL 156.890395 160.770773 \r\nL 157.043867 160.770773 \r\nL 157.043867 159.539097 \r\nL 157.350812 159.539097 \r\nL 157.350812 159.292762 \r\nL 157.581021 159.292762 \r\nL 157.581021 159.046427 \r\nL 160.650468 159.046427 \r\nL 160.727205 158.553757 \r\nL 162.261928 158.553757 \r\nL 162.261928 158.307421 \r\nL 163.182763 158.307421 \r\nL 163.182763 157.814751 \r\nL 163.489707 157.814751 \r\nL 163.489707 157.322081 \r\nL 163.950125 157.322081 \r\nL 163.950125 157.075746 \r\nL 164.257069 157.075746 \r\nL 164.333806 155.84407 \r\nL 164.410542 155.84407 \r\nL 164.487278 155.3514 \r\nL 164.564014 155.3514 \r\nL 164.64075 152.395379 \r\nL 164.947695 148.700352 \r\nL 165.024431 146.483336 \r\nL 165.101167 146.483336 \r\nL 165.101167 145.251661 \r\nL 167.019572 145.251661 \r\nL 167.096308 144.758991 \r\nL 167.326517 144.758991 \r\nL 167.326517 144.26632 \r\nL 167.940407 144.26632 \r\nL 167.940407 143.527315 \r\nL 168.017143 143.527315 \r\nL 168.324087 143.527315 \r\nL 168.400824 142.295639 \r\nL 168.861241 142.295639 \r\nL 168.937977 142.049304 \r\nL 168.937977 141.556634 \r\nL 169.091449 141.556634 \r\nL 169.168186 140.571294 \r\nL 169.244922 140.571294 \r\nL 169.244922 140.324959 \r\nL 169.321658 140.324959 \r\nL 171.163327 140.324959 \r\nL 171.163327 140.078623 \r\nL 174.616455 140.078623 \r\nL 174.616455 139.585953 \r\nL 174.693191 139.585953 \r\nL 174.9234 139.585953 \r\nL 174.9234 139.339618 \r\nL 175.537289 139.339618 \r\nL 175.537289 139.093283 \r\nL 175.767498 139.093283 \r\nL 175.844234 138.354278 \r\nL 177.53243 138.354278 \r\nL 177.53243 138.107943 \r\nL 177.992848 138.107943 \r\nL 177.992848 137.861607 \r\nL 178.14632 137.861607 \r\nL 178.14632 137.615272 \r\nL 178.223056 137.615272 \r\nL 178.376528 137.615272 \r\nL 178.453265 136.629932 \r\nL 178.530001 136.629932 \r\nL 178.530001 136.383597 \r\nL 178.760209 136.383597 \r\nL 178.760209 136.137262 \r\nL 179.374099 136.137262 \r\nL 179.374099 135.890927 \r\nL 179.911252 135.890927 \r\nL 179.911252 135.398256 \r\nL 180.448406 135.398256 \r\nL 180.448406 134.905586 \r\nL 180.678614 134.905586 \r\nL 180.75535 132.934905 \r\nL 180.985559 132.934905 \r\nL 180.985559 132.68857 \r\nL 181.139031 132.68857 \r\nL 181.215768 131.21056 \r\nL 181.36924 131.21056 \r\nL 181.36924 130.964224 \r\nL 181.445976 130.964224 \r\nL 181.676185 130.964224 \r\nL 181.676185 130.717889 \r\nL 182.136602 130.717889 \r\nL 182.136602 129.978884 \r\nL 182.443547 129.978884 \r\nL 182.520283 129.486214 \r\nL 182.597019 129.486214 \r\nL 182.673755 128.008203 \r\nL 182.750491 128.008203 \r\nL 182.750491 127.761868 \r\nL 183.210908 124.066841 \r\nL 183.287645 124.066841 \r\nL 183.364381 121.849825 \r\nL 183.441117 121.849825 \r\nL 183.441117 119.632809 \r\nL 183.517853 119.632809 \r\nL 183.671326 118.154799 \r\nL 183.824798 117.908464 \r\nL 183.824798 116.430453 \r\nL 183.97827 116.430453 \r\nL 184.055007 115.691448 \r\nL 184.285215 115.691448 \r\nL 184.438688 115.198778 \r\nL 184.668896 114.706107 \r\nL 184.668896 113.967102 \r\nL 184.822368 113.967102 \r\nL 184.822368 112.981762 \r\nL 184.975841 112.981762 \r\nL 184.975841 112.735426 \r\nL 185.129313 112.735426 \r\nL 185.129313 112.242756 \r\nL 188.889387 112.242756 \r\nL 188.889387 111.996421 \r\nL 189.119595 111.996421 \r\nL 189.119595 111.503751 \r\nL 189.963693 111.503751 \r\nL 190.040429 111.011081 \r\nL 190.884528 111.011081 \r\nL 190.884528 110.764746 \r\nL 190.961264 110.764746 \r\nL 191.575153 110.764746 \r\nL 191.575153 110.51841 \r\nL 191.728626 110.51841 \r\nL 191.805362 110.02574 \r\nL 192.03557 110.02574 \r\nL 192.03557 109.286735 \r\nL 192.879669 109.286735 \r\nL 192.879669 108.54773 \r\nL 193.109877 108.54773 \r\nL 193.109877 108.301395 \r\nL 193.263349 108.301395 \r\nL 193.263349 107.562389 \r\nL 193.800503 107.562389 \r\nL 193.877239 106.577049 \r\nL 194.414392 106.577049 \r\nL 194.491129 105.345373 \r\nL 194.874809 104.113698 \r\nL 195.335227 104.113698 \r\nL 195.335227 103.621027 \r\nL 195.488699 103.621027 \r\nL 195.488699 103.128357 \r\nL 195.795644 103.128357 \r\nL 195.87238 101.157676 \r\nL 199.862662 101.157676 \r\nL 199.862662 100.911341 \r\nL 200.860232 100.911341 \r\nL 200.860232 100.665006 \r\nL 201.70433 100.665006 \r\nL 201.70433 99.926001 \r\nL 201.781067 99.926001 \r\nL 202.088011 99.926001 \r\nL 202.164748 99.433331 \r\nL 202.241484 99.433331 \r\nL 202.394956 98.694325 \r\nL 202.855373 98.694325 \r\nL 202.855373 98.44799 \r\nL 202.93211 98.44799 \r\nL 203.162318 97.95532 \r\nL 203.699471 97.95532 \r\nL 203.776208 97.46265 \r\nL 203.92968 95.984639 \r\nL 204.083152 94.506628 \r\nL 204.236625 94.506628 \r\nL 204.697042 92.043277 \r\nL 205.234195 90.318932 \r\nL 205.234195 89.579926 \r\nL 211.603299 89.579926 \r\nL 211.603299 89.087256 \r\nL 211.680035 89.087256 \r\nL 212.217189 89.087256 \r\nL 212.217189 88.840921 \r\nL 212.447397 88.840921 \r\nL 212.447397 88.594586 \r\nL 212.524133 88.594586 \r\nL 213.982121 88.594586 \r\nL 213.982121 88.348251 \r\nL 214.289066 88.348251 \r\nL 214.289066 88.101916 \r\nL 214.59601 88.101916 \r\nL 214.59601 87.855581 \r\nL 214.826219 87.855581 \r\nL 214.826219 87.116575 \r\nL 215.133164 87.116575 \r\nL 215.133164 86.87024 \r\nL 215.2099 86.87024 \r\nL 215.670317 86.87024 \r\nL 215.670317 86.623905 \r\nL 215.747053 86.623905 \r\nL 216.360943 86.623905 \r\nL 216.360943 86.131235 \r\nL 216.514415 86.131235 \r\nL 216.514415 85.8849 \r\nL 216.591151 85.8849 \r\nL 216.974832 85.8849 \r\nL 216.974832 82.928878 \r\nL 217.128305 82.928878 \r\nL 217.128305 82.682543 \r\nL 217.43525 82.682543 \r\nL 217.511986 82.189873 \r\nL 219.353654 82.189873 \r\nL 219.507127 80.465527 \r\nL 219.890808 79.972857 \r\nL 220.04428 79.972857 \r\nL 220.04428 79.480187 \r\nL 220.351225 79.480187 \r\nL 220.351225 78.248511 \r\nL 220.965114 76.524166 \r\nL 221.348795 73.814479 \r\nL 221.579004 73.814479 \r\nL 221.65574 72.829139 \r\nL 221.885949 72.090134 \r\nL 222.039421 72.090134 \r\nL 222.039421 71.104793 \r\nL 224.648451 71.104793 \r\nL 224.648451 70.858458 \r\nL 232.091862 70.858458 \r\nL 232.091862 70.612123 \r\nL 233.396377 70.612123 \r\nL 233.396377 69.873118 \r\nL 237.693604 69.873118 \r\nL 237.693604 69.626783 \r\nL 238.38423 69.626783 \r\nL 238.38423 69.380447 \r\nL 239.151592 69.380447 \r\nL 239.228328 68.887777 \r\nL 239.3818 68.887777 \r\nL 239.458536 68.641442 \r\nL 239.918953 68.641442 \r\nL 239.918953 68.395107 \r\nL 240.149162 68.395107 \r\nL 240.149162 68.148772 \r\nL 240.225898 68.148772 \r\nL 240.686315 68.148772 \r\nL 240.686315 67.902437 \r\nL 240.916524 67.902437 \r\nL 241.069996 67.409767 \r\nL 241.300205 67.409767 \r\nL 241.300205 67.163431 \r\nL 241.376941 67.163431 \r\nL 244.83007 67.163431 \r\nL 244.83007 66.670761 \r\nL 244.906806 66.670761 \r\nL 245.137014 66.670761 \r\nL 245.213751 65.685421 \r\nL 245.367223 65.685421 \r\nL 246.211321 62.236729 \r\nL 246.825211 58.295368 \r\nL 248.129726 58.295368 \r\nL 248.129726 58.049032 \r\nL 248.359934 56.817357 \r\nL 248.897088 53.861336 \r\nL 249.05056 53.615 \r\nL 249.05056 53.12233 \r\nL 249.357505 53.12233 \r\nL 249.357505 52.62966 \r\nL 249.587713 52.62966 \r\nL 249.587713 52.13699 \r\nL 249.817922 52.13699 \r\nL 249.817922 51.890655 \r\nL 250.124867 51.151649 \r\nL 250.124867 50.166309 \r\nL 250.278339 50.166309 \r\nL 250.355075 49.919974 \r\nL 250.508548 49.919974 \r\nL 250.585284 49.673639 \r\nL 273.145724 49.673639 \r\nL 273.145724 49.427304 \r\nL 273.606141 49.427304 \r\nL 273.606141 49.180969 \r\nL 273.682877 49.180969 \r\nL 274.066558 49.180969 \r\nL 274.066558 48.934633 \r\nL 275.524546 48.934633 \r\nL 275.678018 48.441963 \r\nL 276.522116 48.441963 \r\nL 276.522116 48.195628 \r\nL 276.675589 47.949293 \r\nL 276.829061 47.949293 \r\nL 276.829061 47.702958 \r\nL 277.826632 47.702958 \r\nL 277.826632 47.456623 \r\nL 282.277331 47.456623 \r\nL 284.042263 42.776256 \r\nL 286.11414 42.776256 \r\nL 287.034975 40.805575 \r\nL 287.265183 39.820234 \r\nL 287.495392 39.820234 \r\nL 287.495392 39.081229 \r\nL 287.7256 39.081229 \r\nL 287.7256 38.834894 \r\nL 287.879073 38.834894 \r\nL 287.879073 38.588559 \r\nL 288.032545 38.588559 \r\nL 288.032545 38.342224 \r\nL 288.723171 38.342224 \r\nL 288.723171 38.095889 \r\nL 288.799907 38.095889 \r\nL 289.95095 38.095889 \r\nL 289.95095 37.849554 \r\nL 378.58125 37.849554 \r\nL 378.58125 37.849554 \r\n\" style=\"fill:none;stroke:#8b0000;stroke-linecap:square;stroke-width:1.5;\"/>\r\n   </g>\r\n   <g id=\"line2d_14\">\r\n    <path clip-path=\"url(#pcd51091681)\" d=\"M 43.78125 348.478125 \r\nL 378.58125 37.849554 \r\n\" style=\"fill:none;stroke:#d3d3d3;stroke-dasharray:5.55,2.4;stroke-dashoffset:0;stroke-width:1.5;\"/>\r\n   </g>\r\n   <g id=\"patch_3\">\r\n    <path d=\"M 43.78125 348.478125 \r\nL 43.78125 22.318125 \r\n\" style=\"fill:none;stroke:#000000;stroke-linecap:square;stroke-linejoin:miter;stroke-width:0.8;\"/>\r\n   </g>\r\n   <g id=\"patch_4\">\r\n    <path d=\"M 378.58125 348.478125 \r\nL 378.58125 22.318125 \r\n\" style=\"fill:none;stroke:#000000;stroke-linecap:square;stroke-linejoin:miter;stroke-width:0.8;\"/>\r\n   </g>\r\n   <g id=\"patch_5\">\r\n    <path d=\"M 43.78125 348.478125 \r\nL 378.58125 348.478125 \r\n\" style=\"fill:none;stroke:#000000;stroke-linecap:square;stroke-linejoin:miter;stroke-width:0.8;\"/>\r\n   </g>\r\n   <g id=\"patch_6\">\r\n    <path d=\"M 43.78125 22.318125 \r\nL 378.58125 22.318125 \r\n\" style=\"fill:none;stroke:#000000;stroke-linecap:square;stroke-linejoin:miter;stroke-width:0.8;\"/>\r\n   </g>\r\n   <g id=\"text_15\">\r\n    <!-- Receiver Operating Characteristic Curve -->\r\n    <g transform=\"translate(90.069375 16.318125)scale(0.12 -0.12)\">\r\n     <defs>\r\n      <path d=\"M 48.78125 52.59375 \r\nL 48.78125 44.1875 \r\nQ 44.96875 46.296875 41.140625 47.34375 \r\nQ 37.3125 48.390625 33.40625 48.390625 \r\nQ 24.65625 48.390625 19.8125 42.84375 \r\nQ 14.984375 37.3125 14.984375 27.296875 \r\nQ 14.984375 17.28125 19.8125 11.734375 \r\nQ 24.65625 6.203125 33.40625 6.203125 \r\nQ 37.3125 6.203125 41.140625 7.25 \r\nQ 44.96875 8.296875 48.78125 10.40625 \r\nL 48.78125 2.09375 \r\nQ 45.015625 0.34375 40.984375 -0.53125 \r\nQ 36.96875 -1.421875 32.421875 -1.421875 \r\nQ 20.0625 -1.421875 12.78125 6.34375 \r\nQ 5.515625 14.109375 5.515625 27.296875 \r\nQ 5.515625 40.671875 12.859375 48.328125 \r\nQ 20.21875 56 33.015625 56 \r\nQ 37.15625 56 41.109375 55.140625 \r\nQ 45.0625 54.296875 48.78125 52.59375 \r\nz\r\n\" id=\"DejaVuSans-99\"/>\r\n      <path d=\"M 39.40625 66.21875 \r\nQ 28.65625 66.21875 22.328125 58.203125 \r\nQ 16.015625 50.203125 16.015625 36.375 \r\nQ 16.015625 22.609375 22.328125 14.59375 \r\nQ 28.65625 6.59375 39.40625 6.59375 \r\nQ 50.140625 6.59375 56.421875 14.59375 \r\nQ 62.703125 22.609375 62.703125 36.375 \r\nQ 62.703125 50.203125 56.421875 58.203125 \r\nQ 50.140625 66.21875 39.40625 66.21875 \r\nz\r\nM 39.40625 74.21875 \r\nQ 54.734375 74.21875 63.90625 63.9375 \r\nQ 73.09375 53.65625 73.09375 36.375 \r\nQ 73.09375 19.140625 63.90625 8.859375 \r\nQ 54.734375 -1.421875 39.40625 -1.421875 \r\nQ 24.03125 -1.421875 14.8125 8.828125 \r\nQ 5.609375 19.09375 5.609375 36.375 \r\nQ 5.609375 53.65625 14.8125 63.9375 \r\nQ 24.03125 74.21875 39.40625 74.21875 \r\nz\r\n\" id=\"DejaVuSans-79\"/>\r\n      <path d=\"M 18.109375 8.203125 \r\nL 18.109375 -20.796875 \r\nL 9.078125 -20.796875 \r\nL 9.078125 54.6875 \r\nL 18.109375 54.6875 \r\nL 18.109375 46.390625 \r\nQ 20.953125 51.265625 25.265625 53.625 \r\nQ 29.59375 56 35.59375 56 \r\nQ 45.5625 56 51.78125 48.09375 \r\nQ 58.015625 40.1875 58.015625 27.296875 \r\nQ 58.015625 14.40625 51.78125 6.484375 \r\nQ 45.5625 -1.421875 35.59375 -1.421875 \r\nQ 29.59375 -1.421875 25.265625 0.953125 \r\nQ 20.953125 3.328125 18.109375 8.203125 \r\nz\r\nM 48.6875 27.296875 \r\nQ 48.6875 37.203125 44.609375 42.84375 \r\nQ 40.53125 48.484375 33.40625 48.484375 \r\nQ 26.265625 48.484375 22.1875 42.84375 \r\nQ 18.109375 37.203125 18.109375 27.296875 \r\nQ 18.109375 17.390625 22.1875 11.75 \r\nQ 26.265625 6.109375 33.40625 6.109375 \r\nQ 40.53125 6.109375 44.609375 11.75 \r\nQ 48.6875 17.390625 48.6875 27.296875 \r\nz\r\n\" id=\"DejaVuSans-112\"/>\r\n      <path d=\"M 54.890625 33.015625 \r\nL 54.890625 0 \r\nL 45.90625 0 \r\nL 45.90625 32.71875 \r\nQ 45.90625 40.484375 42.875 44.328125 \r\nQ 39.84375 48.1875 33.796875 48.1875 \r\nQ 26.515625 48.1875 22.3125 43.546875 \r\nQ 18.109375 38.921875 18.109375 30.90625 \r\nL 18.109375 0 \r\nL 9.078125 0 \r\nL 9.078125 54.6875 \r\nL 18.109375 54.6875 \r\nL 18.109375 46.1875 \r\nQ 21.34375 51.125 25.703125 53.5625 \r\nQ 30.078125 56 35.796875 56 \r\nQ 45.21875 56 50.046875 50.171875 \r\nQ 54.890625 44.34375 54.890625 33.015625 \r\nz\r\n\" id=\"DejaVuSans-110\"/>\r\n      <path d=\"M 45.40625 27.984375 \r\nQ 45.40625 37.75 41.375 43.109375 \r\nQ 37.359375 48.484375 30.078125 48.484375 \r\nQ 22.859375 48.484375 18.828125 43.109375 \r\nQ 14.796875 37.75 14.796875 27.984375 \r\nQ 14.796875 18.265625 18.828125 12.890625 \r\nQ 22.859375 7.515625 30.078125 7.515625 \r\nQ 37.359375 7.515625 41.375 12.890625 \r\nQ 45.40625 18.265625 45.40625 27.984375 \r\nz\r\nM 54.390625 6.78125 \r\nQ 54.390625 -7.171875 48.1875 -13.984375 \r\nQ 42 -20.796875 29.203125 -20.796875 \r\nQ 24.46875 -20.796875 20.265625 -20.09375 \r\nQ 16.0625 -19.390625 12.109375 -17.921875 \r\nL 12.109375 -9.1875 \r\nQ 16.0625 -11.328125 19.921875 -12.34375 \r\nQ 23.78125 -13.375 27.78125 -13.375 \r\nQ 36.625 -13.375 41.015625 -8.765625 \r\nQ 45.40625 -4.15625 45.40625 5.171875 \r\nL 45.40625 9.625 \r\nQ 42.625 4.78125 38.28125 2.390625 \r\nQ 33.9375 0 27.875 0 \r\nQ 17.828125 0 11.671875 7.65625 \r\nQ 5.515625 15.328125 5.515625 27.984375 \r\nQ 5.515625 40.671875 11.671875 48.328125 \r\nQ 17.828125 56 27.875 56 \r\nQ 33.9375 56 38.28125 53.609375 \r\nQ 42.625 51.21875 45.40625 46.390625 \r\nL 45.40625 54.6875 \r\nL 54.390625 54.6875 \r\nz\r\n\" id=\"DejaVuSans-103\"/>\r\n      <path d=\"M 64.40625 67.28125 \r\nL 64.40625 56.890625 \r\nQ 59.421875 61.53125 53.78125 63.8125 \r\nQ 48.140625 66.109375 41.796875 66.109375 \r\nQ 29.296875 66.109375 22.65625 58.46875 \r\nQ 16.015625 50.828125 16.015625 36.375 \r\nQ 16.015625 21.96875 22.65625 14.328125 \r\nQ 29.296875 6.6875 41.796875 6.6875 \r\nQ 48.140625 6.6875 53.78125 8.984375 \r\nQ 59.421875 11.28125 64.40625 15.921875 \r\nL 64.40625 5.609375 \r\nQ 59.234375 2.09375 53.4375 0.328125 \r\nQ 47.65625 -1.421875 41.21875 -1.421875 \r\nQ 24.65625 -1.421875 15.125 8.703125 \r\nQ 5.609375 18.84375 5.609375 36.375 \r\nQ 5.609375 53.953125 15.125 64.078125 \r\nQ 24.65625 74.21875 41.21875 74.21875 \r\nQ 47.75 74.21875 53.53125 72.484375 \r\nQ 59.328125 70.75 64.40625 67.28125 \r\nz\r\n\" id=\"DejaVuSans-67\"/>\r\n      <path d=\"M 54.890625 33.015625 \r\nL 54.890625 0 \r\nL 45.90625 0 \r\nL 45.90625 32.71875 \r\nQ 45.90625 40.484375 42.875 44.328125 \r\nQ 39.84375 48.1875 33.796875 48.1875 \r\nQ 26.515625 48.1875 22.3125 43.546875 \r\nQ 18.109375 38.921875 18.109375 30.90625 \r\nL 18.109375 0 \r\nL 9.078125 0 \r\nL 9.078125 75.984375 \r\nL 18.109375 75.984375 \r\nL 18.109375 46.1875 \r\nQ 21.34375 51.125 25.703125 53.5625 \r\nQ 30.078125 56 35.796875 56 \r\nQ 45.21875 56 50.046875 50.171875 \r\nQ 54.890625 44.34375 54.890625 33.015625 \r\nz\r\n\" id=\"DejaVuSans-104\"/>\r\n     </defs>\r\n     <use xlink:href=\"#DejaVuSans-82\"/>\r\n     <use x=\"64.982422\" xlink:href=\"#DejaVuSans-101\"/>\r\n     <use x=\"126.505859\" xlink:href=\"#DejaVuSans-99\"/>\r\n     <use x=\"181.486328\" xlink:href=\"#DejaVuSans-101\"/>\r\n     <use x=\"243.009766\" xlink:href=\"#DejaVuSans-105\"/>\r\n     <use x=\"270.792969\" xlink:href=\"#DejaVuSans-118\"/>\r\n     <use x=\"329.972656\" xlink:href=\"#DejaVuSans-101\"/>\r\n     <use x=\"391.496094\" xlink:href=\"#DejaVuSans-114\"/>\r\n     <use x=\"432.609375\" xlink:href=\"#DejaVuSans-32\"/>\r\n     <use x=\"464.396484\" xlink:href=\"#DejaVuSans-79\"/>\r\n     <use x=\"543.107422\" xlink:href=\"#DejaVuSans-112\"/>\r\n     <use x=\"606.583984\" xlink:href=\"#DejaVuSans-101\"/>\r\n     <use x=\"668.107422\" xlink:href=\"#DejaVuSans-114\"/>\r\n     <use x=\"709.220703\" xlink:href=\"#DejaVuSans-97\"/>\r\n     <use x=\"770.5\" xlink:href=\"#DejaVuSans-116\"/>\r\n     <use x=\"809.708984\" xlink:href=\"#DejaVuSans-105\"/>\r\n     <use x=\"837.492188\" xlink:href=\"#DejaVuSans-110\"/>\r\n     <use x=\"900.871094\" xlink:href=\"#DejaVuSans-103\"/>\r\n     <use x=\"964.347656\" xlink:href=\"#DejaVuSans-32\"/>\r\n     <use x=\"996.134766\" xlink:href=\"#DejaVuSans-67\"/>\r\n     <use x=\"1065.958984\" xlink:href=\"#DejaVuSans-104\"/>\r\n     <use x=\"1129.337891\" xlink:href=\"#DejaVuSans-97\"/>\r\n     <use x=\"1190.617188\" xlink:href=\"#DejaVuSans-114\"/>\r\n     <use x=\"1231.730469\" xlink:href=\"#DejaVuSans-97\"/>\r\n     <use x=\"1293.009766\" xlink:href=\"#DejaVuSans-99\"/>\r\n     <use x=\"1347.990234\" xlink:href=\"#DejaVuSans-116\"/>\r\n     <use x=\"1387.199219\" xlink:href=\"#DejaVuSans-101\"/>\r\n     <use x=\"1448.722656\" xlink:href=\"#DejaVuSans-114\"/>\r\n     <use x=\"1489.835938\" xlink:href=\"#DejaVuSans-105\"/>\r\n     <use x=\"1517.619141\" xlink:href=\"#DejaVuSans-115\"/>\r\n     <use x=\"1569.71875\" xlink:href=\"#DejaVuSans-116\"/>\r\n     <use x=\"1608.927734\" xlink:href=\"#DejaVuSans-105\"/>\r\n     <use x=\"1636.710938\" xlink:href=\"#DejaVuSans-99\"/>\r\n     <use x=\"1691.691406\" xlink:href=\"#DejaVuSans-32\"/>\r\n     <use x=\"1723.478516\" xlink:href=\"#DejaVuSans-67\"/>\r\n     <use x=\"1793.302734\" xlink:href=\"#DejaVuSans-117\"/>\r\n     <use x=\"1856.681641\" xlink:href=\"#DejaVuSans-114\"/>\r\n     <use x=\"1897.794922\" xlink:href=\"#DejaVuSans-118\"/>\r\n     <use x=\"1956.974609\" xlink:href=\"#DejaVuSans-101\"/>\r\n    </g>\r\n   </g>\r\n   <g id=\"legend_1\">\r\n    <g id=\"patch_7\">\r\n     <path d=\"M 209.940625 343.478125 \r\nL 371.58125 343.478125 \r\nQ 373.58125 343.478125 373.58125 341.478125 \r\nL 373.58125 327.8 \r\nQ 373.58125 325.8 371.58125 325.8 \r\nL 209.940625 325.8 \r\nQ 207.940625 325.8 207.940625 327.8 \r\nL 207.940625 341.478125 \r\nQ 207.940625 343.478125 209.940625 343.478125 \r\nz\r\n\" style=\"fill:#ffffff;opacity:0.8;stroke:#cccccc;stroke-linejoin:miter;\"/>\r\n    </g>\r\n    <g id=\"line2d_15\">\r\n     <path d=\"M 211.940625 333.898437 \r\nL 231.940625 333.898437 \r\n\" style=\"fill:none;stroke:#8b0000;stroke-linecap:square;stroke-width:1.5;\"/>\r\n    </g>\r\n    <g id=\"line2d_16\"/>\r\n    <g id=\"text_16\">\r\n     <!-- ROC curve (area = 0.694) -->\r\n     <g transform=\"translate(239.940625 337.398437)scale(0.1 -0.1)\">\r\n      <defs>\r\n       <path d=\"M 31 75.875 \r\nQ 24.46875 64.65625 21.28125 53.65625 \r\nQ 18.109375 42.671875 18.109375 31.390625 \r\nQ 18.109375 20.125 21.3125 9.0625 \r\nQ 24.515625 -2 31 -13.1875 \r\nL 23.1875 -13.1875 \r\nQ 15.875 -1.703125 12.234375 9.375 \r\nQ 8.59375 20.453125 8.59375 31.390625 \r\nQ 8.59375 42.28125 12.203125 53.3125 \r\nQ 15.828125 64.359375 23.1875 75.875 \r\nz\r\n\" id=\"DejaVuSans-40\"/>\r\n       <path d=\"M 10.59375 45.40625 \r\nL 73.1875 45.40625 \r\nL 73.1875 37.203125 \r\nL 10.59375 37.203125 \r\nz\r\nM 10.59375 25.484375 \r\nL 73.1875 25.484375 \r\nL 73.1875 17.1875 \r\nL 10.59375 17.1875 \r\nz\r\n\" id=\"DejaVuSans-61\"/>\r\n       <path d=\"M 10.984375 1.515625 \r\nL 10.984375 10.5 \r\nQ 14.703125 8.734375 18.5 7.8125 \r\nQ 22.3125 6.890625 25.984375 6.890625 \r\nQ 35.75 6.890625 40.890625 13.453125 \r\nQ 46.046875 20.015625 46.78125 33.40625 \r\nQ 43.953125 29.203125 39.59375 26.953125 \r\nQ 35.25 24.703125 29.984375 24.703125 \r\nQ 19.046875 24.703125 12.671875 31.3125 \r\nQ 6.296875 37.9375 6.296875 49.421875 \r\nQ 6.296875 60.640625 12.9375 67.421875 \r\nQ 19.578125 74.21875 30.609375 74.21875 \r\nQ 43.265625 74.21875 49.921875 64.515625 \r\nQ 56.59375 54.828125 56.59375 36.375 \r\nQ 56.59375 19.140625 48.40625 8.859375 \r\nQ 40.234375 -1.421875 26.421875 -1.421875 \r\nQ 22.703125 -1.421875 18.890625 -0.6875 \r\nQ 15.09375 0.046875 10.984375 1.515625 \r\nz\r\nM 30.609375 32.421875 \r\nQ 37.25 32.421875 41.125 36.953125 \r\nQ 45.015625 41.5 45.015625 49.421875 \r\nQ 45.015625 57.28125 41.125 61.84375 \r\nQ 37.25 66.40625 30.609375 66.40625 \r\nQ 23.96875 66.40625 20.09375 61.84375 \r\nQ 16.21875 57.28125 16.21875 49.421875 \r\nQ 16.21875 41.5 20.09375 36.953125 \r\nQ 23.96875 32.421875 30.609375 32.421875 \r\nz\r\n\" id=\"DejaVuSans-57\"/>\r\n       <path d=\"M 8.015625 75.875 \r\nL 15.828125 75.875 \r\nQ 23.140625 64.359375 26.78125 53.3125 \r\nQ 30.421875 42.28125 30.421875 31.390625 \r\nQ 30.421875 20.453125 26.78125 9.375 \r\nQ 23.140625 -1.703125 15.828125 -13.1875 \r\nL 8.015625 -13.1875 \r\nQ 14.5 -2 17.703125 9.0625 \r\nQ 20.90625 20.125 20.90625 31.390625 \r\nQ 20.90625 42.671875 17.703125 53.65625 \r\nQ 14.5 64.65625 8.015625 75.875 \r\nz\r\n\" id=\"DejaVuSans-41\"/>\r\n      </defs>\r\n      <use xlink:href=\"#DejaVuSans-82\"/>\r\n      <use x=\"69.482422\" xlink:href=\"#DejaVuSans-79\"/>\r\n      <use x=\"148.193359\" xlink:href=\"#DejaVuSans-67\"/>\r\n      <use x=\"218.017578\" xlink:href=\"#DejaVuSans-32\"/>\r\n      <use x=\"249.804688\" xlink:href=\"#DejaVuSans-99\"/>\r\n      <use x=\"304.785156\" xlink:href=\"#DejaVuSans-117\"/>\r\n      <use x=\"368.164062\" xlink:href=\"#DejaVuSans-114\"/>\r\n      <use x=\"409.277344\" xlink:href=\"#DejaVuSans-118\"/>\r\n      <use x=\"468.457031\" xlink:href=\"#DejaVuSans-101\"/>\r\n      <use x=\"529.980469\" xlink:href=\"#DejaVuSans-32\"/>\r\n      <use x=\"561.767578\" xlink:href=\"#DejaVuSans-40\"/>\r\n      <use x=\"600.78125\" xlink:href=\"#DejaVuSans-97\"/>\r\n      <use x=\"662.060547\" xlink:href=\"#DejaVuSans-114\"/>\r\n      <use x=\"700.923828\" xlink:href=\"#DejaVuSans-101\"/>\r\n      <use x=\"762.447266\" xlink:href=\"#DejaVuSans-97\"/>\r\n      <use x=\"823.726562\" xlink:href=\"#DejaVuSans-32\"/>\r\n      <use x=\"855.513672\" xlink:href=\"#DejaVuSans-61\"/>\r\n      <use x=\"939.302734\" xlink:href=\"#DejaVuSans-32\"/>\r\n      <use x=\"971.089844\" xlink:href=\"#DejaVuSans-48\"/>\r\n      <use x=\"1034.712891\" xlink:href=\"#DejaVuSans-46\"/>\r\n      <use x=\"1066.5\" xlink:href=\"#DejaVuSans-54\"/>\r\n      <use x=\"1130.123047\" xlink:href=\"#DejaVuSans-57\"/>\r\n      <use x=\"1193.746094\" xlink:href=\"#DejaVuSans-52\"/>\r\n      <use x=\"1257.369141\" xlink:href=\"#DejaVuSans-41\"/>\r\n     </g>\r\n    </g>\r\n   </g>\r\n  </g>\r\n </g>\r\n <defs>\r\n  <clipPath id=\"pcd51091681\">\r\n   <rect height=\"326.16\" width=\"334.8\" x=\"43.78125\" y=\"22.318125\"/>\r\n  </clipPath>\r\n </defs>\r\n</svg>\r\n",
            "image/png": "[encoded data removed]"
          },
          "metadata": {
            "needs_background": "light"
          }
        },
        {
          "output_type": "execute_result",
          "data": {
            "text/plain": [
              "0.6938333906182096"
            ]
          },
          "metadata": {},
          "execution_count": 35
        }
      ]
    },
    {
      "cell_type": "markdown",
      "metadata": {
        "id": "9ggsEHPetjq5"
      },
      "source": [
        "# Adding additional information"
      ]
    },
    {
      "cell_type": "code",
      "metadata": {
        "colab": {
          "base_uri": "https://localhost:8080/",
          "height": 204
        },
        "id": "Z_5S6UVItjq5",
        "outputId": "9b970b78-8efa-4ca1-db77-86b889c9c01c"
      },
      "source": [
        "column_names = ['id', 'year', 'title', 'authors', 'journal', 'abstract']\n",
        "info = pd.read_csv('node_information.csv', sep=',', names=column_names)\n",
        "info.head()"
      ],
      "execution_count": 36,
      "outputs": [
        {
          "output_type": "execute_result",
          "data": {
            "text/plain": [
              "     id  year                                              title  \\\n",
              "0  1001  2000              compactification geometry and duality   \n",
              "1  1002  2000  domain walls and massive gauged supergravity p...   \n",
              "2  1003  2000     comment on metric fluctuations in brane worlds   \n",
              "3  1004  2000         moving mirrors and thermodynamic paradoxes   \n",
              "4  1005  2000  bundles of chiral blocks and boundary conditio...   \n",
              "\n",
              "                       authors            journal  \\\n",
              "0            Paul S. Aspinwall                NaN   \n",
              "1  M. Cvetic, H. Lu, C.N. Pope  Class.Quant.Grav.   \n",
              "2     Y.S. Myung, Gungwon Kang                NaN   \n",
              "3               Adam D. Helfer          Phys.Rev.   \n",
              "4      J. Fuchs, C. Schweigert                NaN   \n",
              "\n",
              "                                            abstract  \n",
              "0  these are notes based on lectures given at tas...  \n",
              "1  we point out that massive gauged supergravity ...  \n",
              "2  recently ivanov and volovich hep-th 9912242 cl...  \n",
              "3  quantum fields responding to moving mirrors ha...  \n",
              "4  proceedings of lie iii clausthal july 1999 var...  "
            ],
            "text/html": "<div>\n<style scoped>\n    .dataframe tbody tr th:only-of-type {\n        vertical-align: middle;\n    }\n\n    .dataframe tbody tr th {\n        vertical-align: top;\n    }\n\n    .dataframe thead th {\n        text-align: right;\n    }\n</style>\n<table border=\"1\" class=\"dataframe\">\n  <thead>\n    <tr style=\"text-align: right;\">\n      <th></th>\n      <th>id</th>\n      <th>year</th>\n      <th>title</th>\n      <th>authors</th>\n      <th>journal</th>\n      <th>abstract</th>\n    </tr>\n  </thead>\n  <tbody>\n    <tr>\n      <th>0</th>\n      <td>1001</td>\n      <td>2000</td>\n      <td>compactification geometry and duality</td>\n      <td>Paul S. Aspinwall</td>\n      <td>NaN</td>\n      <td>these are notes based on lectures given at tas...</td>\n    </tr>\n    <tr>\n      <th>1</th>\n      <td>1002</td>\n      <td>2000</td>\n      <td>domain walls and massive gauged supergravity p...</td>\n      <td>M. Cvetic, H. Lu, C.N. Pope</td>\n      <td>Class.Quant.Grav.</td>\n      <td>we point out that massive gauged supergravity ...</td>\n    </tr>\n    <tr>\n      <th>2</th>\n      <td>1003</td>\n      <td>2000</td>\n      <td>comment on metric fluctuations in brane worlds</td>\n      <td>Y.S. Myung, Gungwon Kang</td>\n      <td>NaN</td>\n      <td>recently ivanov and volovich hep-th 9912242 cl...</td>\n    </tr>\n    <tr>\n      <th>3</th>\n      <td>1004</td>\n      <td>2000</td>\n      <td>moving mirrors and thermodynamic paradoxes</td>\n      <td>Adam D. Helfer</td>\n      <td>Phys.Rev.</td>\n      <td>quantum fields responding to moving mirrors ha...</td>\n    </tr>\n    <tr>\n      <th>4</th>\n      <td>1005</td>\n      <td>2000</td>\n      <td>bundles of chiral blocks and boundary conditio...</td>\n      <td>J. Fuchs, C. Schweigert</td>\n      <td>NaN</td>\n      <td>proceedings of lie iii clausthal july 1999 var...</td>\n    </tr>\n  </tbody>\n</table>\n</div>"
          },
          "metadata": {},
          "execution_count": 36
        }
      ]
    },
    {
      "cell_type": "code",
      "metadata": {
        "id": "7XuO08d_tjq5"
      },
      "source": [
        "with open(\"node_information.csv\", \"r\") as f:\n",
        "    reader = csv.reader(f)\n",
        "    node_info  = list(reader)\n",
        "\n",
        "IDs = [element[0] for element in node_info]"
      ],
      "execution_count": 37,
      "outputs": []
    },
    {
      "cell_type": "code",
      "metadata": {
        "id": "GpJ246nytjq5"
      },
      "source": [
        "vect = TfidfVectorizer(stop_words=\"english\")\n",
        "abstract_vectorized = vect.fit_transform(info['abstract'])"
      ],
      "execution_count": 38,
      "outputs": []
    },
    {
      "cell_type": "code",
      "metadata": {
        "id": "mkMQnVAEtjq6"
      },
      "source": [
        "def preprocessing_info(sample, abstract_vectorized):\n",
        "    # number of overlapping words in title\n",
        "    overlap_title = []\n",
        "\n",
        "    # temporal distance between the papers\n",
        "    temp_diff = []\n",
        "\n",
        "    # number of common authors\n",
        "    comm_auth = []\n",
        "\n",
        "    # Cosine sim between abstracts\n",
        "    cosine_sim = []\n",
        "\n",
        "    dense_matrix = abstract_vectorized.todense()\n",
        "\n",
        "    counter = 0\n",
        "    for i in range(len(sample)):\n",
        "        source = sample[i][0]\n",
        "        target = sample[i][1]\n",
        "        \n",
        "        index_source = IDs.index(source)\n",
        "        index_target = IDs.index(target)\n",
        "        \n",
        "        source_info = [element for element in node_info if element[0]==source][0]\n",
        "        target_info = [element for element in node_info if element[0]==target][0]\n",
        "        \n",
        "        # convert to lowercase and tokenize\n",
        "        source_title = source_info[2].lower().split(\" \")\n",
        "        # remove stopwords\n",
        "        source_title = [token for token in source_title if token not in stpwds]\n",
        "        source_title = [stemmer.stem(token) for token in source_title]\n",
        "        \n",
        "        target_title = target_info[2].lower().split(\" \")\n",
        "        target_title = [token for token in target_title if token not in stpwds]\n",
        "        target_title = [stemmer.stem(token) for token in target_title]\n",
        "        \n",
        "        source_auth = source_info[3].split(\",\")\n",
        "        target_auth = target_info[3].split(\",\")\n",
        "        \n",
        "        overlap_title.append(len(set(source_title).intersection(set(target_title))))\n",
        "        temp_diff.append(int(source_info[1]) - int(target_info[1]))\n",
        "        comm_auth.append(len(set(source_auth).intersection(set(target_auth))))\n",
        "\n",
        "        v1 = dense_matrix[index_source,:]\n",
        "        v2 = dense_matrix[index_target,:]\n",
        "\n",
        "        sim = cosine_similarity(v1, v2)\n",
        "        cosine_sim.append(sim[0][0])\n",
        "    \n",
        "        counter += 1\n",
        "        if counter % 1000 == True:\n",
        "            print(counter, \"training examples processsed\")\n",
        "\n",
        "    return overlap_title, temp_diff, comm_auth, cosine_sim"
      ],
      "execution_count": 39,
      "outputs": []
    },
    {
      "cell_type": "code",
      "metadata": {
        "colab": {
          "base_uri": "https://localhost:8080/"
        },
        "id": "DCx1j_DMtjq6",
        "outputId": "f6ce2810-b996-4be0-8787-01ee4b51f61a"
      },
      "source": [
        "overlap_title_train, temp_diff_train, comm_auth_train, cosine_sim_train = preprocessing_info(train_samples, abstract_vectorized)"
      ],
      "execution_count": 40,
      "outputs": [
        {
          "output_type": "stream",
          "name": "stdout",
          "text": [
            "1 training examples processsed\n",
            "1001 training examples processsed\n",
            "2001 training examples processsed\n",
            "3001 training examples processsed\n",
            "4001 training examples processsed\n",
            "5001 training examples processsed\n",
            "6001 training examples processsed\n",
            "7001 training examples processsed\n",
            "8001 training examples processsed\n",
            "9001 training examples processsed\n",
            "10001 training examples processsed\n",
            "11001 training examples processsed\n",
            "12001 training examples processsed\n",
            "13001 training examples processsed\n",
            "14001 training examples processsed\n",
            "15001 training examples processsed\n",
            "16001 training examples processsed\n",
            "17001 training examples processsed\n",
            "18001 training examples processsed\n",
            "19001 training examples processsed\n",
            "20001 training examples processsed\n",
            "21001 training examples processsed\n",
            "22001 training examples processsed\n"
          ]
        }
      ]
    },
    {
      "cell_type": "code",
      "metadata": {
        "colab": {
          "base_uri": "https://localhost:8080/"
        },
        "id": "jOT8Qyx6tjq6",
        "outputId": "63eec709-edcb-4a33-94d2-18b00498db8c"
      },
      "source": [
        "overlap_title_test, temp_diff_test, comm_auth_test, cosine_sim_test = preprocessing_info(test_samples, abstract_vectorized)"
      ],
      "execution_count": 41,
      "outputs": [
        {
          "output_type": "stream",
          "name": "stdout",
          "text": [
            "1 training examples processsed\n",
            "1001 training examples processsed\n",
            "2001 training examples processsed\n",
            "3001 training examples processsed\n",
            "4001 training examples processsed\n",
            "5001 training examples processsed\n"
          ]
        }
      ]
    },
    {
      "cell_type": "code",
      "metadata": {
        "id": "CATVmyX-tjq6"
      },
      "source": [
        "def get_training_features(overlap_title, temp_diff, comm_auth, sim):\n",
        "    training_features = np.array([overlap_title, temp_diff, comm_auth, sim]).T\n",
        "    training_features = preprocessing.scale(training_features)\n",
        "    df = pd.DataFrame(training_features, columns=['overl_title', 'temp_diff', 'comm_author', 'sim'])\n",
        "    return training_features, df"
      ],
      "execution_count": 42,
      "outputs": []
    },
    {
      "cell_type": "code",
      "metadata": {
        "id": "uXJuIDI0tjq6"
      },
      "source": [
        "training_add_feat = get_training_features(overlap_title_train, temp_diff_train, comm_auth_train, cosine_sim_train)[1]\n",
        "testing_add_feat = get_training_features(overlap_title_test, temp_diff_test, comm_auth_test, cosine_sim_test)[1]"
      ],
      "execution_count": 43,
      "outputs": []
    },
    {
      "cell_type": "code",
      "metadata": {
        "id": "cbozE9ddtjq6"
      },
      "source": [
        "all_train_feat = pd.concat([feat_train, training_add_feat], axis=1)\n",
        "all_test_feat = pd.concat([feat_test, testing_add_feat], axis=1)"
      ],
      "execution_count": 44,
      "outputs": []
    },
    {
      "cell_type": "code",
      "metadata": {
        "colab": {
          "base_uri": "https://localhost:8080/",
          "height": 204
        },
        "id": "2hFybXE8tjq7",
        "outputId": "cfdda170-4344-4ea0-a635-ec93fc4ef346"
      },
      "source": [
        "all_train_feat.head()"
      ],
      "execution_count": 45,
      "outputs": [
        {
          "output_type": "execute_result",
          "data": {
            "text/plain": [
              "   source_degree_centrality  target_degree_centrality  source_katz_cent  \\\n",
              "0                  0.000100                  0.000199          0.007114   \n",
              "1                  0.000199                  0.000399          0.007825   \n",
              "2                  0.000199                  0.002991          0.007114   \n",
              "3                  0.000997                  0.000399          0.015121   \n",
              "4                  0.000997                  0.000399          0.015121   \n",
              "\n",
              "   target_katz_cent  pref_attach  aai  jacard_coeff  res_all  overl_title  \\\n",
              "0          0.007825          2.0  0.0           0.0      0.0    -0.564055   \n",
              "1          0.010102          8.0  0.0           0.0      0.0    -0.564055   \n",
              "2          0.035279         60.0  0.0           0.0      0.0    -0.564055   \n",
              "3          0.012599         40.0  0.0           0.0      0.0     0.582808   \n",
              "4          0.007976         40.0  0.0           0.0      0.0     0.582808   \n",
              "\n",
              "   temp_diff  comm_author       sim  \n",
              "0   0.331331     -0.20986 -0.231864  \n",
              "1   0.622402     -0.20986  0.152005  \n",
              "2   0.913473     -0.20986 -0.123473  \n",
              "3   0.040261     -0.20986  0.350380  \n",
              "4  -1.124023     -0.20986 -0.889942  "
            ],
            "text/html": "<div>\n<style scoped>\n    .dataframe tbody tr th:only-of-type {\n        vertical-align: middle;\n    }\n\n    .dataframe tbody tr th {\n        vertical-align: top;\n    }\n\n    .dataframe thead th {\n        text-align: right;\n    }\n</style>\n<table border=\"1\" class=\"dataframe\">\n  <thead>\n    <tr style=\"text-align: right;\">\n      <th></th>\n      <th>source_degree_centrality</th>\n      <th>target_degree_centrality</th>\n      <th>source_katz_cent</th>\n      <th>target_katz_cent</th>\n      <th>pref_attach</th>\n      <th>aai</th>\n      <th>jacard_coeff</th>\n      <th>res_all</th>\n      <th>overl_title</th>\n      <th>temp_diff</th>\n      <th>comm_author</th>\n      <th>sim</th>\n    </tr>\n  </thead>\n  <tbody>\n    <tr>\n      <th>0</th>\n      <td>0.000100</td>\n      <td>0.000199</td>\n      <td>0.007114</td>\n      <td>0.007825</td>\n      <td>2.0</td>\n      <td>0.0</td>\n      <td>0.0</td>\n      <td>0.0</td>\n      <td>-0.564055</td>\n      <td>0.331331</td>\n      <td>-0.20986</td>\n      <td>-0.231864</td>\n    </tr>\n    <tr>\n      <th>1</th>\n      <td>0.000199</td>\n      <td>0.000399</td>\n      <td>0.007825</td>\n      <td>0.010102</td>\n      <td>8.0</td>\n      <td>0.0</td>\n      <td>0.0</td>\n      <td>0.0</td>\n      <td>-0.564055</td>\n      <td>0.622402</td>\n      <td>-0.20986</td>\n      <td>0.152005</td>\n    </tr>\n    <tr>\n      <th>2</th>\n      <td>0.000199</td>\n      <td>0.002991</td>\n      <td>0.007114</td>\n      <td>0.035279</td>\n      <td>60.0</td>\n      <td>0.0</td>\n      <td>0.0</td>\n      <td>0.0</td>\n      <td>-0.564055</td>\n      <td>0.913473</td>\n      <td>-0.20986</td>\n      <td>-0.123473</td>\n    </tr>\n    <tr>\n      <th>3</th>\n      <td>0.000997</td>\n      <td>0.000399</td>\n      <td>0.015121</td>\n      <td>0.012599</td>\n      <td>40.0</td>\n      <td>0.0</td>\n      <td>0.0</td>\n      <td>0.0</td>\n      <td>0.582808</td>\n      <td>0.040261</td>\n      <td>-0.20986</td>\n      <td>0.350380</td>\n    </tr>\n    <tr>\n      <th>4</th>\n      <td>0.000997</td>\n      <td>0.000399</td>\n      <td>0.015121</td>\n      <td>0.007976</td>\n      <td>40.0</td>\n      <td>0.0</td>\n      <td>0.0</td>\n      <td>0.0</td>\n      <td>0.582808</td>\n      <td>-1.124023</td>\n      <td>-0.20986</td>\n      <td>-0.889942</td>\n    </tr>\n  </tbody>\n</table>\n</div>"
          },
          "metadata": {},
          "execution_count": 45
        }
      ]
    },
    {
      "cell_type": "code",
      "metadata": {
        "colab": {
          "base_uri": "https://localhost:8080/",
          "height": 455
        },
        "id": "s1WXtRkEtjq7",
        "outputId": "345125e3-93e1-46be-ed71-086f97215e87"
      },
      "source": [
        "prediction(G0, all_train_feat.to_numpy(), all_test_feat.to_numpy(), train_labels, real_test_labels)"
      ],
      "execution_count": 46,
      "outputs": [
        {
          "output_type": "stream",
          "name": "stderr",
          "text": [
            "C:\\Users\\inesp\\AppData\\Local\\Programs\\Python\\Python38\\lib\\site-packages\\sklearn\\linear_model\\_logistic.py:762: ConvergenceWarning: lbfgs failed to converge (status=1):\n",
            "STOP: TOTAL NO. of ITERATIONS REACHED LIMIT.\n",
            "\n",
            "Increase the number of iterations (max_iter) or scale the data as shown in:\n",
            "    https://scikit-learn.org/stable/modules/preprocessing.html\n",
            "Please also refer to the documentation for alternative solver options:\n",
            "    https://scikit-learn.org/stable/modules/linear_model.html#logistic-regression\n",
            "  n_iter_i = _check_optimize_result(\n",
            "Accuracy: 0.6548719772403983\n",
            "F1 score: 0.5141426783479349\n"
          ]
        },
        {
          "output_type": "display_data",
          "data": {
            "text/plain": "<Figure size 432x432 with 1 Axes>",
            "image/svg+xml": "<?xml version=\"1.0\" encoding=\"utf-8\" standalone=\"no\"?>\r\n<!DOCTYPE svg PUBLIC \"-//W3C//DTD SVG 1.1//EN\"\r\n  \"http://www.w3.org/Graphics/SVG/1.1/DTD/svg11.dtd\">\r\n<!-- Created with matplotlib (https://matplotlib.org/) -->\r\n<svg height=\"386.034375pt\" version=\"1.1\" viewBox=\"0 0 393.732813 386.034375\" width=\"393.732813pt\" xmlns=\"http://www.w3.org/2000/svg\" xmlns:xlink=\"http://www.w3.org/1999/xlink\">\r\n <metadata>\r\n  <rdf:RDF xmlns:cc=\"http://creativecommons.org/ns#\" xmlns:dc=\"http://purl.org/dc/elements/1.1/\" xmlns:rdf=\"http://www.w3.org/1999/02/22-rdf-syntax-ns#\">\r\n   <cc:Work>\r\n    <dc:type rdf:resource=\"http://purl.org/dc/dcmitype/StillImage\"/>\r\n    <dc:date>2021-03-18T12:00:16.665306</dc:date>\r\n    <dc:format>image/svg+xml</dc:format>\r\n    <dc:creator>\r\n     <cc:Agent>\r\n      <dc:title>Matplotlib v3.3.2, https://matplotlib.org/</dc:title>\r\n     </cc:Agent>\r\n    </dc:creator>\r\n   </cc:Work>\r\n  </rdf:RDF>\r\n </metadata>\r\n <defs>\r\n  <style type=\"text/css\">*{stroke-linecap:butt;stroke-linejoin:round;}</style>\r\n </defs>\r\n <g id=\"figure_1\">\r\n  <g id=\"patch_1\">\r\n   <path d=\"M 0 386.034375 \r\nL 393.732813 386.034375 \r\nL 393.732813 0 \r\nL 0 0 \r\nz\r\n\" style=\"fill:none;\"/>\r\n  </g>\r\n  <g id=\"axes_1\">\r\n   <g id=\"patch_2\">\r\n    <path d=\"M 43.78125 348.478125 \r\nL 378.58125 348.478125 \r\nL 378.58125 22.318125 \r\nL 43.78125 22.318125 \r\nz\r\n\" style=\"fill:#ffffff;\"/>\r\n   </g>\r\n   <g id=\"matplotlib.axis_1\">\r\n    <g id=\"xtick_1\">\r\n     <g id=\"line2d_1\">\r\n      <defs>\r\n       <path d=\"M 0 0 \r\nL 0 3.5 \r\n\" id=\"m6bf0005f58\" style=\"stroke:#000000;stroke-width:0.8;\"/>\r\n      </defs>\r\n      <g>\r\n       <use style=\"stroke:#000000;stroke-width:0.8;\" x=\"43.78125\" xlink:href=\"#m6bf0005f58\" y=\"348.478125\"/>\r\n      </g>\r\n     </g>\r\n     <g id=\"text_1\">\r\n      <!-- 0.0 -->\r\n      <g transform=\"translate(35.829688 363.076562)scale(0.1 -0.1)\">\r\n       <defs>\r\n        <path d=\"M 31.78125 66.40625 \r\nQ 24.171875 66.40625 20.328125 58.90625 \r\nQ 16.5 51.421875 16.5 36.375 \r\nQ 16.5 21.390625 20.328125 13.890625 \r\nQ 24.171875 6.390625 31.78125 6.390625 \r\nQ 39.453125 6.390625 43.28125 13.890625 \r\nQ 47.125 21.390625 47.125 36.375 \r\nQ 47.125 51.421875 43.28125 58.90625 \r\nQ 39.453125 66.40625 31.78125 66.40625 \r\nz\r\nM 31.78125 74.21875 \r\nQ 44.046875 74.21875 50.515625 64.515625 \r\nQ 56.984375 54.828125 56.984375 36.375 \r\nQ 56.984375 17.96875 50.515625 8.265625 \r\nQ 44.046875 -1.421875 31.78125 -1.421875 \r\nQ 19.53125 -1.421875 13.0625 8.265625 \r\nQ 6.59375 17.96875 6.59375 36.375 \r\nQ 6.59375 54.828125 13.0625 64.515625 \r\nQ 19.53125 74.21875 31.78125 74.21875 \r\nz\r\n\" id=\"DejaVuSans-48\"/>\r\n        <path d=\"M 10.6875 12.40625 \r\nL 21 12.40625 \r\nL 21 0 \r\nL 10.6875 0 \r\nz\r\n\" id=\"DejaVuSans-46\"/>\r\n       </defs>\r\n       <use xlink:href=\"#DejaVuSans-48\"/>\r\n       <use x=\"63.623047\" xlink:href=\"#DejaVuSans-46\"/>\r\n       <use x=\"95.410156\" xlink:href=\"#DejaVuSans-48\"/>\r\n      </g>\r\n     </g>\r\n    </g>\r\n    <g id=\"xtick_2\">\r\n     <g id=\"line2d_2\">\r\n      <g>\r\n       <use style=\"stroke:#000000;stroke-width:0.8;\" x=\"110.74125\" xlink:href=\"#m6bf0005f58\" y=\"348.478125\"/>\r\n      </g>\r\n     </g>\r\n     <g id=\"text_2\">\r\n      <!-- 0.2 -->\r\n      <g transform=\"translate(102.789688 363.076562)scale(0.1 -0.1)\">\r\n       <defs>\r\n        <path d=\"M 19.1875 8.296875 \r\nL 53.609375 8.296875 \r\nL 53.609375 0 \r\nL 7.328125 0 \r\nL 7.328125 8.296875 \r\nQ 12.9375 14.109375 22.625 23.890625 \r\nQ 32.328125 33.6875 34.8125 36.53125 \r\nQ 39.546875 41.84375 41.421875 45.53125 \r\nQ 43.3125 49.21875 43.3125 52.78125 \r\nQ 43.3125 58.59375 39.234375 62.25 \r\nQ 35.15625 65.921875 28.609375 65.921875 \r\nQ 23.96875 65.921875 18.8125 64.3125 \r\nQ 13.671875 62.703125 7.8125 59.421875 \r\nL 7.8125 69.390625 \r\nQ 13.765625 71.78125 18.9375 73 \r\nQ 24.125 74.21875 28.421875 74.21875 \r\nQ 39.75 74.21875 46.484375 68.546875 \r\nQ 53.21875 62.890625 53.21875 53.421875 \r\nQ 53.21875 48.921875 51.53125 44.890625 \r\nQ 49.859375 40.875 45.40625 35.40625 \r\nQ 44.1875 33.984375 37.640625 27.21875 \r\nQ 31.109375 20.453125 19.1875 8.296875 \r\nz\r\n\" id=\"DejaVuSans-50\"/>\r\n       </defs>\r\n       <use xlink:href=\"#DejaVuSans-48\"/>\r\n       <use x=\"63.623047\" xlink:href=\"#DejaVuSans-46\"/>\r\n       <use x=\"95.410156\" xlink:href=\"#DejaVuSans-50\"/>\r\n      </g>\r\n     </g>\r\n    </g>\r\n    <g id=\"xtick_3\">\r\n     <g id=\"line2d_3\">\r\n      <g>\r\n       <use style=\"stroke:#000000;stroke-width:0.8;\" x=\"177.70125\" xlink:href=\"#m6bf0005f58\" y=\"348.478125\"/>\r\n      </g>\r\n     </g>\r\n     <g id=\"text_3\">\r\n      <!-- 0.4 -->\r\n      <g transform=\"translate(169.749688 363.076562)scale(0.1 -0.1)\">\r\n       <defs>\r\n        <path d=\"M 37.796875 64.3125 \r\nL 12.890625 25.390625 \r\nL 37.796875 25.390625 \r\nz\r\nM 35.203125 72.90625 \r\nL 47.609375 72.90625 \r\nL 47.609375 25.390625 \r\nL 58.015625 25.390625 \r\nL 58.015625 17.1875 \r\nL 47.609375 17.1875 \r\nL 47.609375 0 \r\nL 37.796875 0 \r\nL 37.796875 17.1875 \r\nL 4.890625 17.1875 \r\nL 4.890625 26.703125 \r\nz\r\n\" id=\"DejaVuSans-52\"/>\r\n       </defs>\r\n       <use xlink:href=\"#DejaVuSans-48\"/>\r\n       <use x=\"63.623047\" xlink:href=\"#DejaVuSans-46\"/>\r\n       <use x=\"95.410156\" xlink:href=\"#DejaVuSans-52\"/>\r\n      </g>\r\n     </g>\r\n    </g>\r\n    <g id=\"xtick_4\">\r\n     <g id=\"line2d_4\">\r\n      <g>\r\n       <use style=\"stroke:#000000;stroke-width:0.8;\" x=\"244.66125\" xlink:href=\"#m6bf0005f58\" y=\"348.478125\"/>\r\n      </g>\r\n     </g>\r\n     <g id=\"text_4\">\r\n      <!-- 0.6 -->\r\n      <g transform=\"translate(236.709688 363.076562)scale(0.1 -0.1)\">\r\n       <defs>\r\n        <path d=\"M 33.015625 40.375 \r\nQ 26.375 40.375 22.484375 35.828125 \r\nQ 18.609375 31.296875 18.609375 23.390625 \r\nQ 18.609375 15.53125 22.484375 10.953125 \r\nQ 26.375 6.390625 33.015625 6.390625 \r\nQ 39.65625 6.390625 43.53125 10.953125 \r\nQ 47.40625 15.53125 47.40625 23.390625 \r\nQ 47.40625 31.296875 43.53125 35.828125 \r\nQ 39.65625 40.375 33.015625 40.375 \r\nz\r\nM 52.59375 71.296875 \r\nL 52.59375 62.3125 \r\nQ 48.875 64.0625 45.09375 64.984375 \r\nQ 41.3125 65.921875 37.59375 65.921875 \r\nQ 27.828125 65.921875 22.671875 59.328125 \r\nQ 17.53125 52.734375 16.796875 39.40625 \r\nQ 19.671875 43.65625 24.015625 45.921875 \r\nQ 28.375 48.1875 33.59375 48.1875 \r\nQ 44.578125 48.1875 50.953125 41.515625 \r\nQ 57.328125 34.859375 57.328125 23.390625 \r\nQ 57.328125 12.15625 50.6875 5.359375 \r\nQ 44.046875 -1.421875 33.015625 -1.421875 \r\nQ 20.359375 -1.421875 13.671875 8.265625 \r\nQ 6.984375 17.96875 6.984375 36.375 \r\nQ 6.984375 53.65625 15.1875 63.9375 \r\nQ 23.390625 74.21875 37.203125 74.21875 \r\nQ 40.921875 74.21875 44.703125 73.484375 \r\nQ 48.484375 72.75 52.59375 71.296875 \r\nz\r\n\" id=\"DejaVuSans-54\"/>\r\n       </defs>\r\n       <use xlink:href=\"#DejaVuSans-48\"/>\r\n       <use x=\"63.623047\" xlink:href=\"#DejaVuSans-46\"/>\r\n       <use x=\"95.410156\" xlink:href=\"#DejaVuSans-54\"/>\r\n      </g>\r\n     </g>\r\n    </g>\r\n    <g id=\"xtick_5\">\r\n     <g id=\"line2d_5\">\r\n      <g>\r\n       <use style=\"stroke:#000000;stroke-width:0.8;\" x=\"311.62125\" xlink:href=\"#m6bf0005f58\" y=\"348.478125\"/>\r\n      </g>\r\n     </g>\r\n     <g id=\"text_5\">\r\n      <!-- 0.8 -->\r\n      <g transform=\"translate(303.669688 363.076562)scale(0.1 -0.1)\">\r\n       <defs>\r\n        <path d=\"M 31.78125 34.625 \r\nQ 24.75 34.625 20.71875 30.859375 \r\nQ 16.703125 27.09375 16.703125 20.515625 \r\nQ 16.703125 13.921875 20.71875 10.15625 \r\nQ 24.75 6.390625 31.78125 6.390625 \r\nQ 38.8125 6.390625 42.859375 10.171875 \r\nQ 46.921875 13.96875 46.921875 20.515625 \r\nQ 46.921875 27.09375 42.890625 30.859375 \r\nQ 38.875 34.625 31.78125 34.625 \r\nz\r\nM 21.921875 38.8125 \r\nQ 15.578125 40.375 12.03125 44.71875 \r\nQ 8.5 49.078125 8.5 55.328125 \r\nQ 8.5 64.0625 14.71875 69.140625 \r\nQ 20.953125 74.21875 31.78125 74.21875 \r\nQ 42.671875 74.21875 48.875 69.140625 \r\nQ 55.078125 64.0625 55.078125 55.328125 \r\nQ 55.078125 49.078125 51.53125 44.71875 \r\nQ 48 40.375 41.703125 38.8125 \r\nQ 48.828125 37.15625 52.796875 32.3125 \r\nQ 56.78125 27.484375 56.78125 20.515625 \r\nQ 56.78125 9.90625 50.3125 4.234375 \r\nQ 43.84375 -1.421875 31.78125 -1.421875 \r\nQ 19.734375 -1.421875 13.25 4.234375 \r\nQ 6.78125 9.90625 6.78125 20.515625 \r\nQ 6.78125 27.484375 10.78125 32.3125 \r\nQ 14.796875 37.15625 21.921875 38.8125 \r\nz\r\nM 18.3125 54.390625 \r\nQ 18.3125 48.734375 21.84375 45.5625 \r\nQ 25.390625 42.390625 31.78125 42.390625 \r\nQ 38.140625 42.390625 41.71875 45.5625 \r\nQ 45.3125 48.734375 45.3125 54.390625 \r\nQ 45.3125 60.0625 41.71875 63.234375 \r\nQ 38.140625 66.40625 31.78125 66.40625 \r\nQ 25.390625 66.40625 21.84375 63.234375 \r\nQ 18.3125 60.0625 18.3125 54.390625 \r\nz\r\n\" id=\"DejaVuSans-56\"/>\r\n       </defs>\r\n       <use xlink:href=\"#DejaVuSans-48\"/>\r\n       <use x=\"63.623047\" xlink:href=\"#DejaVuSans-46\"/>\r\n       <use x=\"95.410156\" xlink:href=\"#DejaVuSans-56\"/>\r\n      </g>\r\n     </g>\r\n    </g>\r\n    <g id=\"xtick_6\">\r\n     <g id=\"line2d_6\">\r\n      <g>\r\n       <use style=\"stroke:#000000;stroke-width:0.8;\" x=\"378.58125\" xlink:href=\"#m6bf0005f58\" y=\"348.478125\"/>\r\n      </g>\r\n     </g>\r\n     <g id=\"text_6\">\r\n      <!-- 1.0 -->\r\n      <g transform=\"translate(370.629687 363.076562)scale(0.1 -0.1)\">\r\n       <defs>\r\n        <path d=\"M 12.40625 8.296875 \r\nL 28.515625 8.296875 \r\nL 28.515625 63.921875 \r\nL 10.984375 60.40625 \r\nL 10.984375 69.390625 \r\nL 28.421875 72.90625 \r\nL 38.28125 72.90625 \r\nL 38.28125 8.296875 \r\nL 54.390625 8.296875 \r\nL 54.390625 0 \r\nL 12.40625 0 \r\nz\r\n\" id=\"DejaVuSans-49\"/>\r\n       </defs>\r\n       <use xlink:href=\"#DejaVuSans-49\"/>\r\n       <use x=\"63.623047\" xlink:href=\"#DejaVuSans-46\"/>\r\n       <use x=\"95.410156\" xlink:href=\"#DejaVuSans-48\"/>\r\n      </g>\r\n     </g>\r\n    </g>\r\n    <g id=\"text_7\">\r\n     <!-- False Positive Rate -->\r\n     <g transform=\"translate(164.714844 376.754687)scale(0.1 -0.1)\">\r\n      <defs>\r\n       <path d=\"M 9.8125 72.90625 \r\nL 51.703125 72.90625 \r\nL 51.703125 64.59375 \r\nL 19.671875 64.59375 \r\nL 19.671875 43.109375 \r\nL 48.578125 43.109375 \r\nL 48.578125 34.8125 \r\nL 19.671875 34.8125 \r\nL 19.671875 0 \r\nL 9.8125 0 \r\nz\r\n\" id=\"DejaVuSans-70\"/>\r\n       <path d=\"M 34.28125 27.484375 \r\nQ 23.390625 27.484375 19.1875 25 \r\nQ 14.984375 22.515625 14.984375 16.5 \r\nQ 14.984375 11.71875 18.140625 8.90625 \r\nQ 21.296875 6.109375 26.703125 6.109375 \r\nQ 34.1875 6.109375 38.703125 11.40625 \r\nQ 43.21875 16.703125 43.21875 25.484375 \r\nL 43.21875 27.484375 \r\nz\r\nM 52.203125 31.203125 \r\nL 52.203125 0 \r\nL 43.21875 0 \r\nL 43.21875 8.296875 \r\nQ 40.140625 3.328125 35.546875 0.953125 \r\nQ 30.953125 -1.421875 24.3125 -1.421875 \r\nQ 15.921875 -1.421875 10.953125 3.296875 \r\nQ 6 8.015625 6 15.921875 \r\nQ 6 25.140625 12.171875 29.828125 \r\nQ 18.359375 34.515625 30.609375 34.515625 \r\nL 43.21875 34.515625 \r\nL 43.21875 35.40625 \r\nQ 43.21875 41.609375 39.140625 45 \r\nQ 35.0625 48.390625 27.6875 48.390625 \r\nQ 23 48.390625 18.546875 47.265625 \r\nQ 14.109375 46.140625 10.015625 43.890625 \r\nL 10.015625 52.203125 \r\nQ 14.9375 54.109375 19.578125 55.046875 \r\nQ 24.21875 56 28.609375 56 \r\nQ 40.484375 56 46.34375 49.84375 \r\nQ 52.203125 43.703125 52.203125 31.203125 \r\nz\r\n\" id=\"DejaVuSans-97\"/>\r\n       <path d=\"M 9.421875 75.984375 \r\nL 18.40625 75.984375 \r\nL 18.40625 0 \r\nL 9.421875 0 \r\nz\r\n\" id=\"DejaVuSans-108\"/>\r\n       <path d=\"M 44.28125 53.078125 \r\nL 44.28125 44.578125 \r\nQ 40.484375 46.53125 36.375 47.5 \r\nQ 32.28125 48.484375 27.875 48.484375 \r\nQ 21.1875 48.484375 17.84375 46.4375 \r\nQ 14.5 44.390625 14.5 40.28125 \r\nQ 14.5 37.15625 16.890625 35.375 \r\nQ 19.28125 33.59375 26.515625 31.984375 \r\nL 29.59375 31.296875 \r\nQ 39.15625 29.25 43.1875 25.515625 \r\nQ 47.21875 21.78125 47.21875 15.09375 \r\nQ 47.21875 7.46875 41.1875 3.015625 \r\nQ 35.15625 -1.421875 24.609375 -1.421875 \r\nQ 20.21875 -1.421875 15.453125 -0.5625 \r\nQ 10.6875 0.296875 5.421875 2 \r\nL 5.421875 11.28125 \r\nQ 10.40625 8.6875 15.234375 7.390625 \r\nQ 20.0625 6.109375 24.8125 6.109375 \r\nQ 31.15625 6.109375 34.5625 8.28125 \r\nQ 37.984375 10.453125 37.984375 14.40625 \r\nQ 37.984375 18.0625 35.515625 20.015625 \r\nQ 33.0625 21.96875 24.703125 23.78125 \r\nL 21.578125 24.515625 \r\nQ 13.234375 26.265625 9.515625 29.90625 \r\nQ 5.8125 33.546875 5.8125 39.890625 \r\nQ 5.8125 47.609375 11.28125 51.796875 \r\nQ 16.75 56 26.8125 56 \r\nQ 31.78125 56 36.171875 55.265625 \r\nQ 40.578125 54.546875 44.28125 53.078125 \r\nz\r\n\" id=\"DejaVuSans-115\"/>\r\n       <path d=\"M 56.203125 29.59375 \r\nL 56.203125 25.203125 \r\nL 14.890625 25.203125 \r\nQ 15.484375 15.921875 20.484375 11.0625 \r\nQ 25.484375 6.203125 34.421875 6.203125 \r\nQ 39.59375 6.203125 44.453125 7.46875 \r\nQ 49.3125 8.734375 54.109375 11.28125 \r\nL 54.109375 2.78125 \r\nQ 49.265625 0.734375 44.1875 -0.34375 \r\nQ 39.109375 -1.421875 33.890625 -1.421875 \r\nQ 20.796875 -1.421875 13.15625 6.1875 \r\nQ 5.515625 13.8125 5.515625 26.8125 \r\nQ 5.515625 40.234375 12.765625 48.109375 \r\nQ 20.015625 56 32.328125 56 \r\nQ 43.359375 56 49.78125 48.890625 \r\nQ 56.203125 41.796875 56.203125 29.59375 \r\nz\r\nM 47.21875 32.234375 \r\nQ 47.125 39.59375 43.09375 43.984375 \r\nQ 39.0625 48.390625 32.421875 48.390625 \r\nQ 24.90625 48.390625 20.390625 44.140625 \r\nQ 15.875 39.890625 15.1875 32.171875 \r\nz\r\n\" id=\"DejaVuSans-101\"/>\r\n       <path id=\"DejaVuSans-32\"/>\r\n       <path d=\"M 19.671875 64.796875 \r\nL 19.671875 37.40625 \r\nL 32.078125 37.40625 \r\nQ 38.96875 37.40625 42.71875 40.96875 \r\nQ 46.484375 44.53125 46.484375 51.125 \r\nQ 46.484375 57.671875 42.71875 61.234375 \r\nQ 38.96875 64.796875 32.078125 64.796875 \r\nz\r\nM 9.8125 72.90625 \r\nL 32.078125 72.90625 \r\nQ 44.34375 72.90625 50.609375 67.359375 \r\nQ 56.890625 61.8125 56.890625 51.125 \r\nQ 56.890625 40.328125 50.609375 34.8125 \r\nQ 44.34375 29.296875 32.078125 29.296875 \r\nL 19.671875 29.296875 \r\nL 19.671875 0 \r\nL 9.8125 0 \r\nz\r\n\" id=\"DejaVuSans-80\"/>\r\n       <path d=\"M 30.609375 48.390625 \r\nQ 23.390625 48.390625 19.1875 42.75 \r\nQ 14.984375 37.109375 14.984375 27.296875 \r\nQ 14.984375 17.484375 19.15625 11.84375 \r\nQ 23.34375 6.203125 30.609375 6.203125 \r\nQ 37.796875 6.203125 41.984375 11.859375 \r\nQ 46.1875 17.53125 46.1875 27.296875 \r\nQ 46.1875 37.015625 41.984375 42.703125 \r\nQ 37.796875 48.390625 30.609375 48.390625 \r\nz\r\nM 30.609375 56 \r\nQ 42.328125 56 49.015625 48.375 \r\nQ 55.71875 40.765625 55.71875 27.296875 \r\nQ 55.71875 13.875 49.015625 6.21875 \r\nQ 42.328125 -1.421875 30.609375 -1.421875 \r\nQ 18.84375 -1.421875 12.171875 6.21875 \r\nQ 5.515625 13.875 5.515625 27.296875 \r\nQ 5.515625 40.765625 12.171875 48.375 \r\nQ 18.84375 56 30.609375 56 \r\nz\r\n\" id=\"DejaVuSans-111\"/>\r\n       <path d=\"M 9.421875 54.6875 \r\nL 18.40625 54.6875 \r\nL 18.40625 0 \r\nL 9.421875 0 \r\nz\r\nM 9.421875 75.984375 \r\nL 18.40625 75.984375 \r\nL 18.40625 64.59375 \r\nL 9.421875 64.59375 \r\nz\r\n\" id=\"DejaVuSans-105\"/>\r\n       <path d=\"M 18.3125 70.21875 \r\nL 18.3125 54.6875 \r\nL 36.8125 54.6875 \r\nL 36.8125 47.703125 \r\nL 18.3125 47.703125 \r\nL 18.3125 18.015625 \r\nQ 18.3125 11.328125 20.140625 9.421875 \r\nQ 21.96875 7.515625 27.59375 7.515625 \r\nL 36.8125 7.515625 \r\nL 36.8125 0 \r\nL 27.59375 0 \r\nQ 17.1875 0 13.234375 3.875 \r\nQ 9.28125 7.765625 9.28125 18.015625 \r\nL 9.28125 47.703125 \r\nL 2.6875 47.703125 \r\nL 2.6875 54.6875 \r\nL 9.28125 54.6875 \r\nL 9.28125 70.21875 \r\nz\r\n\" id=\"DejaVuSans-116\"/>\r\n       <path d=\"M 2.984375 54.6875 \r\nL 12.5 54.6875 \r\nL 29.59375 8.796875 \r\nL 46.6875 54.6875 \r\nL 56.203125 54.6875 \r\nL 35.6875 0 \r\nL 23.484375 0 \r\nz\r\n\" id=\"DejaVuSans-118\"/>\r\n       <path d=\"M 44.390625 34.1875 \r\nQ 47.5625 33.109375 50.5625 29.59375 \r\nQ 53.5625 26.078125 56.59375 19.921875 \r\nL 66.609375 0 \r\nL 56 0 \r\nL 46.6875 18.703125 \r\nQ 43.0625 26.03125 39.671875 28.421875 \r\nQ 36.28125 30.8125 30.421875 30.8125 \r\nL 19.671875 30.8125 \r\nL 19.671875 0 \r\nL 9.8125 0 \r\nL 9.8125 72.90625 \r\nL 32.078125 72.90625 \r\nQ 44.578125 72.90625 50.734375 67.671875 \r\nQ 56.890625 62.453125 56.890625 51.90625 \r\nQ 56.890625 45.015625 53.6875 40.46875 \r\nQ 50.484375 35.9375 44.390625 34.1875 \r\nz\r\nM 19.671875 64.796875 \r\nL 19.671875 38.921875 \r\nL 32.078125 38.921875 \r\nQ 39.203125 38.921875 42.84375 42.21875 \r\nQ 46.484375 45.515625 46.484375 51.90625 \r\nQ 46.484375 58.296875 42.84375 61.546875 \r\nQ 39.203125 64.796875 32.078125 64.796875 \r\nz\r\n\" id=\"DejaVuSans-82\"/>\r\n      </defs>\r\n      <use xlink:href=\"#DejaVuSans-70\"/>\r\n      <use x=\"48.394531\" xlink:href=\"#DejaVuSans-97\"/>\r\n      <use x=\"109.673828\" xlink:href=\"#DejaVuSans-108\"/>\r\n      <use x=\"137.457031\" xlink:href=\"#DejaVuSans-115\"/>\r\n      <use x=\"189.556641\" xlink:href=\"#DejaVuSans-101\"/>\r\n      <use x=\"251.080078\" xlink:href=\"#DejaVuSans-32\"/>\r\n      <use x=\"282.867188\" xlink:href=\"#DejaVuSans-80\"/>\r\n      <use x=\"339.544922\" xlink:href=\"#DejaVuSans-111\"/>\r\n      <use x=\"400.726562\" xlink:href=\"#DejaVuSans-115\"/>\r\n      <use x=\"452.826172\" xlink:href=\"#DejaVuSans-105\"/>\r\n      <use x=\"480.609375\" xlink:href=\"#DejaVuSans-116\"/>\r\n      <use x=\"519.818359\" xlink:href=\"#DejaVuSans-105\"/>\r\n      <use x=\"547.601562\" xlink:href=\"#DejaVuSans-118\"/>\r\n      <use x=\"606.78125\" xlink:href=\"#DejaVuSans-101\"/>\r\n      <use x=\"668.304688\" xlink:href=\"#DejaVuSans-32\"/>\r\n      <use x=\"700.091797\" xlink:href=\"#DejaVuSans-82\"/>\r\n      <use x=\"767.324219\" xlink:href=\"#DejaVuSans-97\"/>\r\n      <use x=\"828.603516\" xlink:href=\"#DejaVuSans-116\"/>\r\n      <use x=\"867.8125\" xlink:href=\"#DejaVuSans-101\"/>\r\n     </g>\r\n    </g>\r\n   </g>\r\n   <g id=\"matplotlib.axis_2\">\r\n    <g id=\"ytick_1\">\r\n     <g id=\"line2d_7\">\r\n      <defs>\r\n       <path d=\"M 0 0 \r\nL -3.5 0 \r\n\" id=\"m5bcecec0a1\" style=\"stroke:#000000;stroke-width:0.8;\"/>\r\n      </defs>\r\n      <g>\r\n       <use style=\"stroke:#000000;stroke-width:0.8;\" x=\"43.78125\" xlink:href=\"#m5bcecec0a1\" y=\"348.478125\"/>\r\n      </g>\r\n     </g>\r\n     <g id=\"text_8\">\r\n      <!-- 0.0 -->\r\n      <g transform=\"translate(20.878125 352.277344)scale(0.1 -0.1)\">\r\n       <use xlink:href=\"#DejaVuSans-48\"/>\r\n       <use x=\"63.623047\" xlink:href=\"#DejaVuSans-46\"/>\r\n       <use x=\"95.410156\" xlink:href=\"#DejaVuSans-48\"/>\r\n      </g>\r\n     </g>\r\n    </g>\r\n    <g id=\"ytick_2\">\r\n     <g id=\"line2d_8\">\r\n      <g>\r\n       <use style=\"stroke:#000000;stroke-width:0.8;\" x=\"43.78125\" xlink:href=\"#m5bcecec0a1\" y=\"286.352411\"/>\r\n      </g>\r\n     </g>\r\n     <g id=\"text_9\">\r\n      <!-- 0.2 -->\r\n      <g transform=\"translate(20.878125 290.151629)scale(0.1 -0.1)\">\r\n       <use xlink:href=\"#DejaVuSans-48\"/>\r\n       <use x=\"63.623047\" xlink:href=\"#DejaVuSans-46\"/>\r\n       <use x=\"95.410156\" xlink:href=\"#DejaVuSans-50\"/>\r\n      </g>\r\n     </g>\r\n    </g>\r\n    <g id=\"ytick_3\">\r\n     <g id=\"line2d_9\">\r\n      <g>\r\n       <use style=\"stroke:#000000;stroke-width:0.8;\" x=\"43.78125\" xlink:href=\"#m5bcecec0a1\" y=\"224.226696\"/>\r\n      </g>\r\n     </g>\r\n     <g id=\"text_10\">\r\n      <!-- 0.4 -->\r\n      <g transform=\"translate(20.878125 228.025915)scale(0.1 -0.1)\">\r\n       <use xlink:href=\"#DejaVuSans-48\"/>\r\n       <use x=\"63.623047\" xlink:href=\"#DejaVuSans-46\"/>\r\n       <use x=\"95.410156\" xlink:href=\"#DejaVuSans-52\"/>\r\n      </g>\r\n     </g>\r\n    </g>\r\n    <g id=\"ytick_4\">\r\n     <g id=\"line2d_10\">\r\n      <g>\r\n       <use style=\"stroke:#000000;stroke-width:0.8;\" x=\"43.78125\" xlink:href=\"#m5bcecec0a1\" y=\"162.100982\"/>\r\n      </g>\r\n     </g>\r\n     <g id=\"text_11\">\r\n      <!-- 0.6 -->\r\n      <g transform=\"translate(20.878125 165.900201)scale(0.1 -0.1)\">\r\n       <use xlink:href=\"#DejaVuSans-48\"/>\r\n       <use x=\"63.623047\" xlink:href=\"#DejaVuSans-46\"/>\r\n       <use x=\"95.410156\" xlink:href=\"#DejaVuSans-54\"/>\r\n      </g>\r\n     </g>\r\n    </g>\r\n    <g id=\"ytick_5\">\r\n     <g id=\"line2d_11\">\r\n      <g>\r\n       <use style=\"stroke:#000000;stroke-width:0.8;\" x=\"43.78125\" xlink:href=\"#m5bcecec0a1\" y=\"99.975268\"/>\r\n      </g>\r\n     </g>\r\n     <g id=\"text_12\">\r\n      <!-- 0.8 -->\r\n      <g transform=\"translate(20.878125 103.774487)scale(0.1 -0.1)\">\r\n       <use xlink:href=\"#DejaVuSans-48\"/>\r\n       <use x=\"63.623047\" xlink:href=\"#DejaVuSans-46\"/>\r\n       <use x=\"95.410156\" xlink:href=\"#DejaVuSans-56\"/>\r\n      </g>\r\n     </g>\r\n    </g>\r\n    <g id=\"ytick_6\">\r\n     <g id=\"line2d_12\">\r\n      <g>\r\n       <use style=\"stroke:#000000;stroke-width:0.8;\" x=\"43.78125\" xlink:href=\"#m5bcecec0a1\" y=\"37.849554\"/>\r\n      </g>\r\n     </g>\r\n     <g id=\"text_13\">\r\n      <!-- 1.0 -->\r\n      <g transform=\"translate(20.878125 41.648772)scale(0.1 -0.1)\">\r\n       <use xlink:href=\"#DejaVuSans-49\"/>\r\n       <use x=\"63.623047\" xlink:href=\"#DejaVuSans-46\"/>\r\n       <use x=\"95.410156\" xlink:href=\"#DejaVuSans-48\"/>\r\n      </g>\r\n     </g>\r\n    </g>\r\n    <g id=\"text_14\">\r\n     <!-- True Positive Rate -->\r\n     <g transform=\"translate(14.798438 229.927812)rotate(-90)scale(0.1 -0.1)\">\r\n      <defs>\r\n       <path d=\"M -0.296875 72.90625 \r\nL 61.375 72.90625 \r\nL 61.375 64.59375 \r\nL 35.5 64.59375 \r\nL 35.5 0 \r\nL 25.59375 0 \r\nL 25.59375 64.59375 \r\nL -0.296875 64.59375 \r\nz\r\n\" id=\"DejaVuSans-84\"/>\r\n       <path d=\"M 41.109375 46.296875 \r\nQ 39.59375 47.171875 37.8125 47.578125 \r\nQ 36.03125 48 33.890625 48 \r\nQ 26.265625 48 22.1875 43.046875 \r\nQ 18.109375 38.09375 18.109375 28.8125 \r\nL 18.109375 0 \r\nL 9.078125 0 \r\nL 9.078125 54.6875 \r\nL 18.109375 54.6875 \r\nL 18.109375 46.1875 \r\nQ 20.953125 51.171875 25.484375 53.578125 \r\nQ 30.03125 56 36.53125 56 \r\nQ 37.453125 56 38.578125 55.875 \r\nQ 39.703125 55.765625 41.0625 55.515625 \r\nz\r\n\" id=\"DejaVuSans-114\"/>\r\n       <path d=\"M 8.5 21.578125 \r\nL 8.5 54.6875 \r\nL 17.484375 54.6875 \r\nL 17.484375 21.921875 \r\nQ 17.484375 14.15625 20.5 10.265625 \r\nQ 23.53125 6.390625 29.59375 6.390625 \r\nQ 36.859375 6.390625 41.078125 11.03125 \r\nQ 45.3125 15.671875 45.3125 23.6875 \r\nL 45.3125 54.6875 \r\nL 54.296875 54.6875 \r\nL 54.296875 0 \r\nL 45.3125 0 \r\nL 45.3125 8.40625 \r\nQ 42.046875 3.421875 37.71875 1 \r\nQ 33.40625 -1.421875 27.6875 -1.421875 \r\nQ 18.265625 -1.421875 13.375 4.4375 \r\nQ 8.5 10.296875 8.5 21.578125 \r\nz\r\nM 31.109375 56 \r\nz\r\n\" id=\"DejaVuSans-117\"/>\r\n      </defs>\r\n      <use xlink:href=\"#DejaVuSans-84\"/>\r\n      <use x=\"46.333984\" xlink:href=\"#DejaVuSans-114\"/>\r\n      <use x=\"87.447266\" xlink:href=\"#DejaVuSans-117\"/>\r\n      <use x=\"150.826172\" xlink:href=\"#DejaVuSans-101\"/>\r\n      <use x=\"212.349609\" xlink:href=\"#DejaVuSans-32\"/>\r\n      <use x=\"244.136719\" xlink:href=\"#DejaVuSans-80\"/>\r\n      <use x=\"300.814453\" xlink:href=\"#DejaVuSans-111\"/>\r\n      <use x=\"361.996094\" xlink:href=\"#DejaVuSans-115\"/>\r\n      <use x=\"414.095703\" xlink:href=\"#DejaVuSans-105\"/>\r\n      <use x=\"441.878906\" xlink:href=\"#DejaVuSans-116\"/>\r\n      <use x=\"481.087891\" xlink:href=\"#DejaVuSans-105\"/>\r\n      <use x=\"508.871094\" xlink:href=\"#DejaVuSans-118\"/>\r\n      <use x=\"568.050781\" xlink:href=\"#DejaVuSans-101\"/>\r\n      <use x=\"629.574219\" xlink:href=\"#DejaVuSans-32\"/>\r\n      <use x=\"661.361328\" xlink:href=\"#DejaVuSans-82\"/>\r\n      <use x=\"728.59375\" xlink:href=\"#DejaVuSans-97\"/>\r\n      <use x=\"789.873047\" xlink:href=\"#DejaVuSans-116\"/>\r\n      <use x=\"829.082031\" xlink:href=\"#DejaVuSans-101\"/>\r\n     </g>\r\n    </g>\r\n   </g>\r\n   <g id=\"line2d_13\">\r\n    <path clip-path=\"url(#p2c2479fd82)\" d=\"M 43.78125 348.478125 \r\nL 44.702084 347.000114 \r\nL 44.702084 346.261109 \r\nL 46.39028 346.261109 \r\nL 46.467017 345.768439 \r\nL 47.080906 345.768439 \r\nL 47.080906 345.275769 \r\nL 47.541323 345.275769 \r\nL 47.61806 344.536763 \r\nL 48.308685 344.536763 \r\nL 48.308685 344.290428 \r\nL 48.538894 344.290428 \r\nL 48.538894 344.044093 \r\nL 49.152783 344.044093 \r\nL 49.152783 343.797758 \r\nL 49.689937 343.797758 \r\nL 49.689937 343.551423 \r\nL 49.920145 343.551423 \r\nL 49.920145 343.058753 \r\nL 50.073618 343.058753 \r\nL 50.073618 342.812418 \r\nL 50.22709 342.812418 \r\nL 50.303826 342.319747 \r\nL 50.687507 342.319747 \r\nL 50.687507 342.073412 \r\nL 51.071188 342.073412 \r\nL 51.071188 341.580742 \r\nL 51.454869 341.580742 \r\nL 51.454869 340.841737 \r\nL 51.608341 340.841737 \r\nL 51.608341 340.349066 \r\nL 51.992022 340.349066 \r\nL 51.992022 340.102731 \r\nL 52.145495 340.102731 \r\nL 52.145495 339.856396 \r\nL 52.45244 339.856396 \r\nL 52.529176 339.117391 \r\nL 52.836121 339.117391 \r\nL 52.836121 338.624721 \r\nL 53.219801 338.624721 \r\nL 53.219801 338.13205 \r\nL 53.526746 338.13205 \r\nL 53.526746 337.14671 \r\nL 53.680219 337.14671 \r\nL 53.680219 336.65404 \r\nL 53.833691 336.65404 \r\nL 53.910427 336.16137 \r\nL 54.217372 336.16137 \r\nL 54.217372 335.422364 \r\nL 54.677789 335.422364 \r\nL 54.754525 334.683359 \r\nL 54.907998 334.683359 \r\nL 54.907998 334.437024 \r\nL 55.291679 334.437024 \r\nL 55.368415 333.205348 \r\nL 55.521887 333.205348 \r\nL 55.598623 332.466343 \r\nL 56.135777 332.466343 \r\nL 56.135777 331.727338 \r\nL 56.365985 331.727338 \r\nL 56.442721 330.002992 \r\nL 56.519458 330.002992 \r\nL 56.519458 329.263987 \r\nL 56.67293 329.263987 \r\nL 56.67293 329.017651 \r\nL 56.979875 329.017651 \r\nL 57.056611 328.032311 \r\nL 57.133347 328.032311 \r\nL 57.210083 327.539641 \r\nL 57.28682 327.539641 \r\nL 57.363556 327.046971 \r\nL 57.517028 327.046971 \r\nL 57.517028 326.800635 \r\nL 57.747237 326.800635 \r\nL 57.747237 326.5543 \r\nL 57.900709 326.5543 \r\nL 57.977445 325.56896 \r\nL 58.514599 325.56896 \r\nL 58.591335 325.07629 \r\nL 59.051752 325.07629 \r\nL 59.128488 324.090949 \r\nL 59.205224 324.090949 \r\nL 59.205224 323.844614 \r\nL 59.358697 323.844614 \r\nL 59.358697 323.598279 \r\nL 59.512169 323.598279 \r\nL 59.588905 322.366604 \r\nL 60.356267 322.366604 \r\nL 60.433003 321.627598 \r\nL 60.50974 321.627598 \r\nL 60.586476 321.134928 \r\nL 60.816684 321.134928 \r\nL 60.816684 320.888593 \r\nL 61.046893 320.888593 \r\nL 61.046893 320.395923 \r\nL 61.200365 320.395923 \r\nL 61.277101 319.903252 \r\nL 61.660782 319.903252 \r\nL 61.737519 319.164247 \r\nL 61.967727 319.164247 \r\nL 61.967727 318.917912 \r\nL 62.428144 318.917912 \r\nL 62.428144 318.671577 \r\nL 62.658353 318.671577 \r\nL 62.658353 318.425242 \r\nL 63.042034 318.425242 \r\nL 63.042034 318.178907 \r\nL 63.195506 318.178907 \r\nL 63.272242 317.686236 \r\nL 63.348979 317.686236 \r\nL 63.348979 317.439901 \r\nL 63.502451 317.439901 \r\nL 63.502451 316.700896 \r\nL 63.655923 316.700896 \r\nL 63.73266 315.715556 \r\nL 63.886132 315.715556 \r\nL 63.886132 315.469221 \r\nL 64.039604 315.469221 \r\nL 64.039604 315.222885 \r\nL 64.269813 315.222885 \r\nL 64.346549 314.48388 \r\nL 64.576758 314.48388 \r\nL 64.576758 314.237545 \r\nL 65.037175 314.237545 \r\nL 65.113911 313.49854 \r\nL 65.267383 313.49854 \r\nL 65.34412 312.513199 \r\nL 65.574328 312.513199 \r\nL 65.651064 312.020529 \r\nL 65.727801 312.020529 \r\nL 65.727801 311.774194 \r\nL 65.881273 311.774194 \r\nL 65.881273 311.527859 \r\nL 66.034745 311.527859 \r\nL 66.034745 311.281524 \r\nL 66.188218 311.281524 \r\nL 66.188218 311.035189 \r\nL 66.495162 311.035189 \r\nL 66.571899 309.557178 \r\nL 66.725371 309.557178 \r\nL 66.802107 308.818173 \r\nL 67.109052 308.818173 \r\nL 67.185788 308.079167 \r\nL 67.262524 308.079167 \r\nL 67.262524 307.832832 \r\nL 67.415997 307.832832 \r\nL 67.492733 306.601157 \r\nL 67.569469 306.601157 \r\nL 67.646205 305.615816 \r\nL 68.183359 305.615816 \r\nL 68.260095 305.123146 \r\nL 68.413567 305.123146 \r\nL 68.413567 304.876811 \r\nL 68.56704 304.876811 \r\nL 68.643776 304.384141 \r\nL 68.873984 304.384141 \r\nL 68.873984 304.137806 \r\nL 69.027457 304.137806 \r\nL 69.104193 303.3988 \r\nL 69.334402 303.3988 \r\nL 69.334402 302.90613 \r\nL 69.487874 302.90613 \r\nL 69.56461 302.41346 \r\nL 70.025027 302.41346 \r\nL 70.025027 301.92079 \r\nL 70.255236 301.92079 \r\nL 70.255236 301.674454 \r\nL 71.636487 301.674454 \r\nL 71.636487 300.689114 \r\nL 71.78996 300.689114 \r\nL 71.78996 300.196444 \r\nL 71.943432 300.196444 \r\nL 71.943432 299.703774 \r\nL 72.250377 299.703774 \r\nL 72.327113 299.211103 \r\nL 72.480585 299.211103 \r\nL 72.557322 298.718433 \r\nL 72.864266 298.718433 \r\nL 72.864266 298.472098 \r\nL 73.017739 298.472098 \r\nL 73.017739 298.225763 \r\nL 73.171211 298.225763 \r\nL 73.171211 297.979428 \r\nL 73.324683 297.979428 \r\nL 73.324683 297.733093 \r\nL 73.478156 297.733093 \r\nL 73.478156 296.747752 \r\nL 73.861837 296.747752 \r\nL 73.938573 295.269742 \r\nL 74.092045 295.269742 \r\nL 74.168782 292.806391 \r\nL 74.322254 292.806391 \r\nL 74.322254 292.067385 \r\nL 74.475726 292.067385 \r\nL 74.552462 291.574715 \r\nL 74.705935 291.574715 \r\nL 74.705935 290.83571 \r\nL 74.859407 290.83571 \r\nL 74.936143 289.850369 \r\nL 75.243088 289.850369 \r\nL 75.243088 289.604034 \r\nL 75.473297 289.604034 \r\nL 75.473297 288.618694 \r\nL 75.626769 288.618694 \r\nL 75.703505 288.126023 \r\nL 75.780242 288.126023 \r\nL 75.780242 286.401678 \r\nL 75.933714 286.401678 \r\nL 76.01045 285.909008 \r\nL 76.163922 285.909008 \r\nL 76.163922 285.170002 \r\nL 76.470867 285.170002 \r\nL 76.470867 284.923667 \r\nL 76.777812 284.923667 \r\nL 76.777812 284.677332 \r\nL 77.545174 284.677332 \r\nL 77.545174 284.184662 \r\nL 77.698646 284.184662 \r\nL 77.698646 283.199321 \r\nL 77.928855 283.199321 \r\nL 77.928855 282.706651 \r\nL 78.159063 282.706651 \r\nL 78.159063 282.213981 \r\nL 78.389272 282.213981 \r\nL 78.466008 281.22864 \r\nL 78.849689 281.22864 \r\nL 78.849689 280.982305 \r\nL 79.003162 280.982305 \r\nL 79.003162 280.73597 \r\nL 79.156634 280.73597 \r\nL 79.23337 280.2433 \r\nL 79.310106 280.2433 \r\nL 79.386842 279.75063 \r\nL 79.617051 279.75063 \r\nL 79.693787 278.518954 \r\nL 79.770523 278.518954 \r\nL 79.770523 278.272619 \r\nL 80.384413 278.272619 \r\nL 80.384413 278.026284 \r\nL 80.537885 278.026284 \r\nL 80.537885 277.779949 \r\nL 80.768094 277.779949 \r\nL 80.768094 277.040944 \r\nL 80.921566 277.040944 \r\nL 80.998302 276.055603 \r\nL 81.075039 276.055603 \r\nL 81.075039 275.070263 \r\nL 81.305247 275.070263 \r\nL 81.305247 274.823928 \r\nL 81.612192 274.823928 \r\nL 81.612192 274.577593 \r\nL 81.842401 274.577593 \r\nL 81.919137 273.345917 \r\nL 82.072609 273.345917 \r\nL 82.072609 272.853247 \r\nL 82.226082 272.853247 \r\nL 82.226082 272.606912 \r\nL 82.533026 272.606912 \r\nL 82.533026 272.360577 \r\nL 82.763235 272.360577 \r\nL 82.763235 271.867906 \r\nL 82.916707 271.867906 \r\nL 82.916707 270.143561 \r\nL 83.07018 270.143561 \r\nL 83.07018 269.897225 \r\nL 83.223652 269.897225 \r\nL 83.300388 269.15822 \r\nL 83.453861 269.15822 \r\nL 83.453861 268.911885 \r\nL 83.684069 268.911885 \r\nL 83.760805 267.68021 \r\nL 83.837542 267.68021 \r\nL 83.837542 267.187539 \r\nL 84.06775 267.187539 \r\nL 84.06775 266.941204 \r\nL 84.221222 266.941204 \r\nL 84.221222 266.448534 \r\nL 84.451431 266.448534 \r\nL 84.451431 265.709529 \r\nL 84.911848 265.709529 \r\nL 84.988584 265.216858 \r\nL 85.602474 265.216858 \r\nL 85.602474 264.724188 \r\nL 85.909419 264.724188 \r\nL 85.986155 263.246178 \r\nL 86.446572 263.246178 \r\nL 86.523308 262.753507 \r\nL 86.600044 262.753507 \r\nL 86.600044 262.507172 \r\nL 86.753517 262.507172 \r\nL 86.830253 262.014502 \r\nL 87.137198 262.014502 \r\nL 87.137198 261.521832 \r\nL 87.597615 261.521832 \r\nL 87.674351 261.029162 \r\nL 87.751087 261.029162 \r\nL 87.751087 259.797486 \r\nL 87.981296 259.797486 \r\nL 87.981296 259.551151 \r\nL 88.748658 259.551151 \r\nL 88.748658 259.304816 \r\nL 89.209075 259.304816 \r\nL 89.209075 259.058481 \r\nL 89.362547 259.058481 \r\nL 89.362547 258.812146 \r\nL 89.746228 258.812146 \r\nL 89.746228 258.319475 \r\nL 89.899701 258.319475 \r\nL 89.899701 258.07314 \r\nL 90.053173 258.07314 \r\nL 90.129909 256.841465 \r\nL 90.206645 256.841465 \r\nL 90.206645 256.59513 \r\nL 90.360118 256.59513 \r\nL 90.360118 256.348795 \r\nL 90.743799 256.348795 \r\nL 90.743799 255.856124 \r\nL 91.280952 255.856124 \r\nL 91.280952 255.609789 \r\nL 91.587897 255.609789 \r\nL 91.587897 255.117119 \r\nL 91.741369 255.117119 \r\nL 91.741369 254.624449 \r\nL 91.894842 254.624449 \r\nL 91.971578 253.392773 \r\nL 92.048314 253.392773 \r\nL 92.12505 252.900103 \r\nL 92.278523 252.900103 \r\nL 92.355259 251.914763 \r\nL 92.508731 251.914763 \r\nL 92.508731 250.683087 \r\nL 92.662203 250.683087 \r\nL 92.662203 250.190417 \r\nL 92.815676 250.190417 \r\nL 92.815676 249.944082 \r\nL 93.045884 249.944082 \r\nL 93.122621 249.451412 \r\nL 93.276093 249.451412 \r\nL 93.276093 248.958741 \r\nL 93.429565 248.958741 \r\nL 93.429565 248.712406 \r\nL 93.73651 248.712406 \r\nL 93.73651 248.219736 \r\nL 93.966719 248.219736 \r\nL 93.966719 247.480731 \r\nL 94.503872 247.480731 \r\nL 94.503872 246.741725 \r\nL 94.657344 246.741725 \r\nL 94.734081 245.756385 \r\nL 94.887553 245.756385 \r\nL 94.964289 245.01738 \r\nL 95.271234 245.01738 \r\nL 95.271234 244.524709 \r\nL 95.424706 244.524709 \r\nL 95.424706 244.032039 \r\nL 95.654915 244.032039 \r\nL 95.654915 243.785704 \r\nL 95.808387 243.785704 \r\nL 95.885123 242.800364 \r\nL 96.115332 242.800364 \r\nL 96.192068 242.307693 \r\nL 96.345541 242.307693 \r\nL 96.422277 241.815023 \r\nL 96.729222 241.815023 \r\nL 96.729222 241.568688 \r\nL 96.882694 241.568688 \r\nL 96.882694 241.076018 \r\nL 97.189639 241.076018 \r\nL 97.189639 240.829683 \r\nL 97.57332 240.829683 \r\nL 97.650056 240.337013 \r\nL 97.803528 240.337013 \r\nL 97.803528 240.090677 \r\nL 98.263945 240.090677 \r\nL 98.340682 238.859002 \r\nL 98.417418 238.859002 \r\nL 98.494154 238.119997 \r\nL 98.801099 238.119997 \r\nL 98.877835 236.395651 \r\nL 98.954571 236.395651 \r\nL 99.031307 235.656645 \r\nL 99.108043 235.656645 \r\nL 99.108043 235.41031 \r\nL 99.414988 235.41031 \r\nL 99.414988 234.91764 \r\nL 100.028878 234.91764 \r\nL 100.028878 234.42497 \r\nL 100.335823 234.42497 \r\nL 100.335823 234.178635 \r\nL 100.566031 234.178635 \r\nL 100.566031 233.9323 \r\nL 100.719503 233.9323 \r\nL 100.719503 233.439629 \r\nL 101.103184 233.439629 \r\nL 101.179921 232.946959 \r\nL 101.410129 232.946959 \r\nL 101.410129 232.207954 \r\nL 101.563602 232.207954 \r\nL 101.640338 231.715284 \r\nL 101.79381 231.715284 \r\nL 101.79381 230.976278 \r\nL 102.024019 230.976278 \r\nL 102.024019 230.237273 \r\nL 102.177491 230.237273 \r\nL 102.254227 228.759262 \r\nL 102.561172 228.759262 \r\nL 102.637908 228.020257 \r\nL 102.944853 228.020257 \r\nL 102.944853 227.527587 \r\nL 103.098325 227.527587 \r\nL 103.098325 227.281252 \r\nL 103.251798 227.281252 \r\nL 103.328534 226.788582 \r\nL 103.40527 226.788582 \r\nL 103.40527 226.542246 \r\nL 103.558743 226.542246 \r\nL 103.635479 225.803241 \r\nL 103.865687 225.803241 \r\nL 103.865687 225.556906 \r\nL 104.095896 225.556906 \r\nL 104.095896 225.310571 \r\nL 104.326104 225.310571 \r\nL 104.326104 224.817901 \r\nL 104.479577 224.817901 \r\nL 104.479577 224.32523 \r\nL 104.633049 224.32523 \r\nL 104.709785 223.83256 \r\nL 104.786522 223.83256 \r\nL 104.863258 222.600885 \r\nL 104.939994 222.600885 \r\nL 104.939994 222.35455 \r\nL 105.093466 222.35455 \r\nL 105.170203 221.369209 \r\nL 105.400411 221.369209 \r\nL 105.400411 220.876539 \r\nL 105.63062 220.876539 \r\nL 105.63062 220.630204 \r\nL 105.860828 220.630204 \r\nL 105.937564 220.137534 \r\nL 106.014301 220.137534 \r\nL 106.014301 219.891199 \r\nL 106.167773 219.891199 \r\nL 106.167773 219.398528 \r\nL 106.474718 219.398528 \r\nL 106.474718 219.152193 \r\nL 106.704926 219.152193 \r\nL 106.704926 218.659523 \r\nL 106.935135 218.659523 \r\nL 106.935135 218.166853 \r\nL 107.395552 218.166853 \r\nL 107.472288 216.688842 \r\nL 107.549024 216.688842 \r\nL 107.625761 215.949837 \r\nL 107.702497 215.949837 \r\nL 107.779233 215.210831 \r\nL 107.932705 215.210831 \r\nL 107.932705 214.718161 \r\nL 108.162914 214.718161 \r\nL 108.23965 212.993815 \r\nL 108.316386 212.993815 \r\nL 108.393123 211.76214 \r\nL 108.623331 211.76214 \r\nL 108.623331 211.515805 \r\nL 108.85354 211.515805 \r\nL 108.85354 211.26947 \r\nL 109.007012 211.26947 \r\nL 109.083748 210.284129 \r\nL 109.774374 210.284129 \r\nL 109.85111 209.791459 \r\nL 110.004583 209.791459 \r\nL 110.004583 209.545124 \r\nL 110.158055 209.545124 \r\nL 110.158055 209.298789 \r\nL 110.311527 209.298789 \r\nL 110.311527 208.806119 \r\nL 110.618472 208.806119 \r\nL 110.618472 208.559784 \r\nL 110.925417 208.559784 \r\nL 110.925417 208.313448 \r\nL 111.232362 208.313448 \r\nL 111.232362 207.820778 \r\nL 111.385834 207.820778 \r\nL 111.385834 207.574443 \r\nL 111.769515 207.574443 \r\nL 111.846251 207.081773 \r\nL 112.153196 207.081773 \r\nL 112.229932 205.850097 \r\nL 112.383404 205.850097 \r\nL 112.460141 205.357427 \r\nL 112.767085 205.357427 \r\nL 112.843822 204.864757 \r\nL 113.150766 204.864757 \r\nL 113.227503 203.140411 \r\nL 113.304239 203.140411 \r\nL 113.380975 202.401406 \r\nL 113.841392 202.401406 \r\nL 113.918128 201.908736 \r\nL 114.071601 201.908736 \r\nL 114.071601 201.662401 \r\nL 114.378545 201.662401 \r\nL 114.378545 201.416065 \r\nL 114.532018 201.416065 \r\nL 114.608754 200.923395 \r\nL 115.069171 200.923395 \r\nL 115.069171 200.67706 \r\nL 115.222644 200.67706 \r\nL 115.222644 200.18439 \r\nL 115.452852 200.18439 \r\nL 115.529588 198.952714 \r\nL 115.606324 198.952714 \r\nL 115.683061 198.213709 \r\nL 115.759797 198.213709 \r\nL 115.759797 197.721039 \r\nL 115.913269 197.721039 \r\nL 115.913269 197.474704 \r\nL 116.680631 197.474704 \r\nL 116.680631 196.735698 \r\nL 116.834104 196.735698 \r\nL 116.834104 196.489363 \r\nL 116.987576 196.489363 \r\nL 117.064312 195.996693 \r\nL 117.141048 195.996693 \r\nL 117.141048 194.272347 \r\nL 117.601465 194.272347 \r\nL 117.678202 193.287007 \r\nL 117.831674 193.287007 \r\nL 117.831674 193.040672 \r\nL 117.985146 193.040672 \r\nL 117.985146 192.548002 \r\nL 118.138619 192.548002 \r\nL 118.138619 192.301666 \r\nL 118.292091 192.301666 \r\nL 118.292091 191.808996 \r\nL 118.445564 191.808996 \r\nL 118.5223 191.069991 \r\nL 118.829244 191.069991 \r\nL 118.905981 190.330986 \r\nL 119.212925 190.330986 \r\nL 119.212925 189.838315 \r\nL 119.596606 189.838315 \r\nL 119.596606 189.345645 \r\nL 119.750079 189.345645 \r\nL 119.826815 188.852975 \r\nL 120.057024 188.852975 \r\nL 120.13376 188.360305 \r\nL 120.287232 188.360305 \r\nL 120.287232 187.867634 \r\nL 120.901122 187.867634 \r\nL 120.901122 187.374964 \r\nL 121.054594 187.374964 \r\nL 121.13133 186.143289 \r\nL 121.515011 186.143289 \r\nL 121.515011 185.896954 \r\nL 121.821956 185.896954 \r\nL 121.821956 185.650618 \r\nL 122.205637 185.650618 \r\nL 122.205637 185.404283 \r\nL 122.435845 185.404283 \r\nL 122.435845 185.157948 \r\nL 122.74279 185.157948 \r\nL 122.74279 184.665278 \r\nL 122.896263 184.665278 \r\nL 122.896263 184.418943 \r\nL 123.740361 184.418943 \r\nL 123.740361 184.172608 \r\nL 123.893833 184.172608 \r\nL 123.893833 183.679938 \r\nL 124.124042 183.679938 \r\nL 124.200778 182.448262 \r\nL 124.277514 182.448262 \r\nL 124.277514 182.201927 \r\nL 124.430986 182.201927 \r\nL 124.430986 181.955592 \r\nL 124.661195 181.955592 \r\nL 124.661195 181.462922 \r\nL 125.044876 181.462922 \r\nL 125.121612 180.477581 \r\nL 125.275085 180.477581 \r\nL 125.351821 179.738576 \r\nL 125.582029 179.738576 \r\nL 125.582029 179.492241 \r\nL 125.812238 179.492241 \r\nL 125.888974 178.5069 \r\nL 125.96571 178.5069 \r\nL 126.042446 177.275225 \r\nL 126.195919 177.275225 \r\nL 126.195919 176.536219 \r\nL 126.502864 176.536219 \r\nL 126.502864 175.797214 \r\nL 126.656336 175.797214 \r\nL 126.733072 175.304544 \r\nL 127.040017 175.304544 \r\nL 127.040017 174.811874 \r\nL 127.500434 174.811874 \r\nL 127.57717 173.333863 \r\nL 127.807379 173.333863 \r\nL 127.807379 173.087528 \r\nL 127.960851 173.087528 \r\nL 127.960851 172.841193 \r\nL 128.421268 172.841193 \r\nL 128.421268 172.594858 \r\nL 128.574741 172.594858 \r\nL 128.574741 172.348523 \r\nL 128.881685 172.348523 \r\nL 128.958422 171.363182 \r\nL 129.111894 171.363182 \r\nL 129.111894 171.116847 \r\nL 129.265366 171.116847 \r\nL 129.265366 170.870512 \r\nL 129.418839 170.870512 \r\nL 129.418839 170.377842 \r\nL 129.649047 170.377842 \r\nL 129.649047 170.131507 \r\nL 129.879256 170.131507 \r\nL 129.955992 169.392501 \r\nL 130.032728 169.392501 \r\nL 130.109465 168.653496 \r\nL 130.262937 168.653496 \r\nL 130.339673 167.175485 \r\nL 130.493145 167.175485 \r\nL 130.569882 166.43648 \r\nL 130.80009 166.43648 \r\nL 130.80009 166.190145 \r\nL 131.260507 166.190145 \r\nL 131.260507 165.94381 \r\nL 131.41398 165.94381 \r\nL 131.41398 165.697475 \r\nL 131.797661 165.697475 \r\nL 131.797661 164.958469 \r\nL 131.951133 164.958469 \r\nL 131.951133 164.465799 \r\nL 132.104605 164.465799 \r\nL 132.181342 163.973129 \r\nL 132.334814 163.973129 \r\nL 132.41155 163.234124 \r\nL 132.641759 163.234124 \r\nL 132.641759 162.741453 \r\nL 132.795231 162.741453 \r\nL 132.871967 162.002448 \r\nL 133.02544 162.002448 \r\nL 133.102176 161.263443 \r\nL 133.178912 161.263443 \r\nL 133.178912 160.770773 \r\nL 133.485857 160.770773 \r\nL 133.485857 160.278102 \r\nL 133.716065 160.278102 \r\nL 133.792802 159.785432 \r\nL 133.869538 159.785432 \r\nL 133.946274 158.800092 \r\nL 134.253219 158.800092 \r\nL 134.329955 158.307421 \r\nL 134.406691 158.307421 \r\nL 134.483427 157.814751 \r\nL 134.560164 157.814751 \r\nL 134.560164 157.568416 \r\nL 134.713636 157.568416 \r\nL 134.713636 157.322081 \r\nL 134.867108 157.322081 \r\nL 134.867108 157.075746 \r\nL 135.097317 157.075746 \r\nL 135.097317 156.090406 \r\nL 135.327525 156.090406 \r\nL 135.327525 155.84407 \r\nL 135.480998 155.84407 \r\nL 135.480998 155.597735 \r\nL 135.864679 155.597735 \r\nL 135.941415 154.85873 \r\nL 136.094887 154.85873 \r\nL 136.094887 154.612395 \r\nL 136.401832 154.612395 \r\nL 136.401832 154.36606 \r\nL 137.399403 154.36606 \r\nL 137.476139 152.641714 \r\nL 137.629611 152.641714 \r\nL 137.706347 151.656374 \r\nL 137.783084 151.656374 \r\nL 137.85982 149.932028 \r\nL 138.013292 149.932028 \r\nL 138.013292 149.685693 \r\nL 138.550446 149.685693 \r\nL 138.550446 149.439358 \r\nL 138.85739 149.439358 \r\nL 138.85739 148.946687 \r\nL 139.164335 148.946687 \r\nL 139.241071 148.454017 \r\nL 139.548016 148.454017 \r\nL 139.624752 147.961347 \r\nL 139.854961 147.961347 \r\nL 139.854961 147.468677 \r\nL 140.085169 147.468677 \r\nL 140.161906 146.729671 \r\nL 140.238642 146.729671 \r\nL 140.238642 146.483336 \r\nL 140.392114 146.483336 \r\nL 140.392114 146.237001 \r\nL 140.545586 146.237001 \r\nL 140.545586 145.497996 \r\nL 140.775795 145.497996 \r\nL 140.775795 145.251661 \r\nL 140.929267 145.251661 \r\nL 140.929267 145.005326 \r\nL 141.466421 145.005326 \r\nL 141.543157 143.77365 \r\nL 141.850102 143.77365 \r\nL 141.850102 143.527315 \r\nL 142.003574 143.527315 \r\nL 142.08031 142.78831 \r\nL 142.387255 142.78831 \r\nL 142.463991 141.310299 \r\nL 142.540727 141.310299 \r\nL 142.540727 140.817629 \r\nL 142.6942 140.817629 \r\nL 142.6942 140.571294 \r\nL 142.924408 140.571294 \r\nL 143.001145 139.585953 \r\nL 143.077881 139.585953 \r\nL 143.077881 139.339618 \r\nL 143.231353 139.339618 \r\nL 143.308089 138.107943 \r\nL 143.461562 138.107943 \r\nL 143.461562 137.861607 \r\nL 144.228924 137.861607 \r\nL 144.30566 136.629932 \r\nL 144.535868 136.629932 \r\nL 144.612605 136.137262 \r\nL 144.842813 136.137262 \r\nL 144.842813 135.890927 \r\nL 145.149758 135.890927 \r\nL 145.149758 134.905586 \r\nL 145.763647 134.905586 \r\nL 145.763647 134.412916 \r\nL 145.91712 134.412916 \r\nL 145.91712 133.920246 \r\nL 146.300801 133.920246 \r\nL 146.377537 132.68857 \r\nL 146.607746 132.68857 \r\nL 146.607746 132.442235 \r\nL 147.221635 132.442235 \r\nL 147.298371 131.21056 \r\nL 147.451844 131.21056 \r\nL 147.451844 130.964224 \r\nL 147.605316 130.964224 \r\nL 147.682052 130.225219 \r\nL 147.758788 130.225219 \r\nL 147.758788 129.978884 \r\nL 147.912261 129.978884 \r\nL 147.912261 129.486214 \r\nL 148.142469 129.486214 \r\nL 148.219206 128.008203 \r\nL 148.295942 128.008203 \r\nL 148.295942 127.761868 \r\nL 148.449414 127.761868 \r\nL 148.449414 127.515533 \r\nL 148.756359 127.515533 \r\nL 148.756359 127.022863 \r\nL 149.14004 127.022863 \r\nL 149.216776 126.530193 \r\nL 149.293512 126.530193 \r\nL 149.293512 126.283857 \r\nL 150.060874 126.283857 \r\nL 150.060874 126.037522 \r\nL 150.214346 126.037522 \r\nL 150.291083 125.298517 \r\nL 150.444555 125.298517 \r\nL 150.444555 125.052182 \r\nL 150.598027 125.052182 \r\nL 150.598027 124.805847 \r\nL 150.828236 124.805847 \r\nL 150.828236 124.559512 \r\nL 151.058445 124.559512 \r\nL 151.135181 124.066841 \r\nL 151.365389 124.066841 \r\nL 151.442126 123.574171 \r\nL 152.056015 123.574171 \r\nL 152.132751 123.081501 \r\nL 152.209487 123.081501 \r\nL 152.209487 122.588831 \r\nL 152.516432 122.588831 \r\nL 152.516432 122.342496 \r\nL 153.053586 122.342496 \r\nL 153.053586 121.60349 \r\nL 153.590739 121.60349 \r\nL 153.590739 121.357155 \r\nL 153.97442 121.357155 \r\nL 153.97442 120.864485 \r\nL 154.588309 120.864485 \r\nL 154.588309 120.61815 \r\nL 154.741782 120.61815 \r\nL 154.741782 120.371815 \r\nL 154.895254 120.371815 \r\nL 154.895254 120.12548 \r\nL 155.278935 120.12548 \r\nL 155.278935 119.879145 \r\nL 155.739352 119.879145 \r\nL 155.739352 119.632809 \r\nL 155.969561 119.632809 \r\nL 155.969561 118.647469 \r\nL 156.199769 118.647469 \r\nL 156.199769 118.401134 \r\nL 156.429978 118.401134 \r\nL 156.429978 118.154799 \r\nL 156.660187 118.154799 \r\nL 156.736923 117.415794 \r\nL 156.813659 117.415794 \r\nL 156.813659 116.923123 \r\nL 157.274076 116.923123 \r\nL 157.274076 116.676788 \r\nL 157.811229 116.676788 \r\nL 157.811229 116.184118 \r\nL 158.041438 116.184118 \r\nL 158.041438 115.937783 \r\nL 158.501855 115.937783 \r\nL 158.501855 115.691448 \r\nL 158.8088 115.691448 \r\nL 158.8088 115.198778 \r\nL 159.039008 115.198778 \r\nL 159.039008 114.952442 \r\nL 159.80637 114.952442 \r\nL 159.80637 114.459772 \r\nL 160.113315 114.459772 \r\nL 160.113315 114.213437 \r\nL 160.266787 114.213437 \r\nL 160.343524 113.720767 \r\nL 160.42026 113.720767 \r\nL 160.496996 113.228097 \r\nL 160.727205 113.228097 \r\nL 160.803941 112.489091 \r\nL 160.957413 112.489091 \r\nL 160.957413 111.996421 \r\nL 161.41783 111.996421 \r\nL 161.494567 111.257416 \r\nL 161.571303 111.257416 \r\nL 161.648039 109.779405 \r\nL 161.878247 109.779405 \r\nL 161.878247 109.286735 \r\nL 162.645609 109.286735 \r\nL 162.645609 109.0404 \r\nL 162.799082 109.0404 \r\nL 162.875818 108.301395 \r\nL 163.182763 108.301395 \r\nL 163.259499 107.808724 \r\nL 163.336235 107.808724 \r\nL 163.336235 107.316054 \r\nL 163.566444 107.316054 \r\nL 163.64318 106.330714 \r\nL 164.180333 106.330714 \r\nL 164.180333 106.084379 \r\nL 164.410542 106.084379 \r\nL 164.487278 105.591708 \r\nL 164.717487 105.591708 \r\nL 164.717487 105.099038 \r\nL 165.024431 105.099038 \r\nL 165.101167 104.360033 \r\nL 165.25464 104.360033 \r\nL 165.331376 103.374692 \r\nL 165.484848 103.374692 \r\nL 165.561585 102.635687 \r\nL 166.405683 102.635687 \r\nL 166.405683 102.389352 \r\nL 166.635891 102.389352 \r\nL 166.635891 102.143017 \r\nL 167.019572 102.143017 \r\nL 167.019572 101.896682 \r\nL 167.403253 101.896682 \r\nL 167.403253 101.650347 \r\nL 168.170615 101.650347 \r\nL 168.170615 101.404011 \r\nL 168.554296 101.404011 \r\nL 168.554296 101.157676 \r\nL 168.937977 101.157676 \r\nL 169.014713 100.665006 \r\nL 169.091449 100.665006 \r\nL 169.168186 99.926001 \r\nL 169.244922 99.926001 \r\nL 169.244922 99.679666 \r\nL 170.242492 99.679666 \r\nL 170.242492 99.186996 \r\nL 170.395965 99.186996 \r\nL 170.395965 98.94066 \r\nL 170.933118 98.94066 \r\nL 171.009854 98.44799 \r\nL 171.163327 98.44799 \r\nL 171.163327 97.95532 \r\nL 171.393535 97.95532 \r\nL 171.393535 97.708985 \r\nL 171.547008 97.708985 \r\nL 171.547008 97.46265 \r\nL 171.70048 97.46265 \r\nL 171.70048 97.216315 \r\nL 172.851523 97.216315 \r\nL 172.851523 96.723644 \r\nL 173.31194 96.723644 \r\nL 173.388676 96.230974 \r\nL 174.232774 96.230974 \r\nL 174.232774 95.738304 \r\nL 174.386247 95.738304 \r\nL 174.386247 95.491969 \r\nL 175.076872 95.491969 \r\nL 175.076872 95.245634 \r\nL 175.460553 95.245634 \r\nL 175.460553 94.752964 \r\nL 175.614026 94.752964 \r\nL 175.690762 94.013958 \r\nL 175.767498 94.013958 \r\nL 175.767498 93.767623 \r\nL 176.765068 93.767623 \r\nL 176.765068 93.521288 \r\nL 177.148749 93.521288 \r\nL 177.148749 93.274953 \r\nL 177.302222 93.274953 \r\nL 177.302222 93.028618 \r\nL 177.455694 93.028618 \r\nL 177.53243 92.289612 \r\nL 177.916111 92.289612 \r\nL 177.916111 91.796942 \r\nL 178.376528 91.796942 \r\nL 178.376528 91.550607 \r\nL 178.683473 91.550607 \r\nL 178.683473 91.057937 \r\nL 179.297363 91.057937 \r\nL 179.297363 90.811602 \r\nL 179.604308 90.811602 \r\nL 179.604308 90.565267 \r\nL 180.218197 90.565267 \r\nL 180.294933 89.826261 \r\nL 180.75535 89.826261 \r\nL 180.75535 89.579926 \r\nL 181.445976 89.579926 \r\nL 181.445976 89.333591 \r\nL 181.599448 89.333591 \r\nL 181.599448 88.840921 \r\nL 181.752921 88.840921 \r\nL 181.752921 88.594586 \r\nL 181.983129 88.594586 \r\nL 181.983129 88.348251 \r\nL 182.136602 88.348251 \r\nL 182.136602 87.855581 \r\nL 182.903964 87.855581 \r\nL 182.903964 87.609245 \r\nL 183.671326 87.609245 \r\nL 183.671326 87.36291 \r\nL 184.055007 87.36291 \r\nL 184.131743 86.87024 \r\nL 184.285215 86.87024 \r\nL 184.285215 86.623905 \r\nL 184.438688 86.623905 \r\nL 184.438688 86.37757 \r\nL 185.206049 86.37757 \r\nL 185.206049 86.131235 \r\nL 185.743203 86.131235 \r\nL 185.743203 85.8849 \r\nL 186.280356 85.8849 \r\nL 186.280356 85.392229 \r\nL 186.587301 85.392229 \r\nL 186.587301 85.145894 \r\nL 186.970982 85.145894 \r\nL 187.047718 84.653224 \r\nL 187.277927 84.653224 \r\nL 187.354663 83.914219 \r\nL 187.81508 83.914219 \r\nL 187.81508 83.667884 \r\nL 188.122025 83.667884 \r\nL 188.198761 82.436208 \r\nL 189.349804 82.436208 \r\nL 189.42654 81.204533 \r\nL 189.886957 81.204533 \r\nL 189.963693 80.219192 \r\nL 190.270638 80.219192 \r\nL 190.270638 79.972857 \r\nL 190.42411 79.972857 \r\nL 190.42411 79.726522 \r\nL 190.731055 79.726522 \r\nL 190.731055 79.480187 \r\nL 190.884528 79.480187 \r\nL 190.884528 78.987517 \r\nL 191.268209 78.987517 \r\nL 191.268209 78.248511 \r\nL 191.651889 78.248511 \r\nL 191.728626 77.755841 \r\nL 191.882098 77.755841 \r\nL 191.882098 77.263171 \r\nL 192.802932 77.263171 \r\nL 192.802932 76.770501 \r\nL 193.877239 76.770501 \r\nL 193.877239 76.27783 \r\nL 194.26092 76.27783 \r\nL 194.26092 76.031495 \r\nL 194.491129 76.031495 \r\nL 194.567865 75.29249 \r\nL 195.028282 75.29249 \r\nL 195.028282 75.046155 \r\nL 195.718908 75.046155 \r\nL 195.795644 74.553485 \r\nL 196.409533 74.553485 \r\nL 196.409533 74.060814 \r\nL 196.563006 74.060814 \r\nL 196.563006 73.568144 \r\nL 196.716478 73.568144 \r\nL 196.716478 73.321809 \r\nL 197.330368 73.321809 \r\nL 197.330368 73.075474 \r\nL 197.637312 73.075474 \r\nL 197.637312 72.582804 \r\nL 198.251202 72.582804 \r\nL 198.251202 72.336469 \r\nL 198.404674 72.336469 \r\nL 198.48141 71.843799 \r\nL 198.711619 71.843799 \r\nL 198.788355 70.612123 \r\nL 198.865091 70.612123 \r\nL 198.941828 69.873118 \r\nL 199.018564 69.873118 \r\nL 199.018564 69.626783 \r\nL 199.555717 69.626783 \r\nL 199.632453 69.134112 \r\nL 200.016134 69.134112 \r\nL 200.016134 68.887777 \r\nL 200.169607 68.887777 \r\nL 200.169607 68.641442 \r\nL 200.476551 68.641442 \r\nL 200.476551 68.395107 \r\nL 200.783496 68.395107 \r\nL 200.783496 68.148772 \r\nL 201.320649 68.148772 \r\nL 201.397386 67.656102 \r\nL 201.781067 67.656102 \r\nL 201.781067 67.409767 \r\nL 202.471692 67.409767 \r\nL 202.548429 66.917096 \r\nL 203.852944 66.917096 \r\nL 203.852944 66.670761 \r\nL 204.006416 66.670761 \r\nL 204.083152 66.178091 \r\nL 204.159889 66.178091 \r\nL 204.159889 65.931756 \r\nL 205.464404 65.931756 \r\nL 205.464404 65.685421 \r\nL 205.694612 65.685421 \r\nL 205.694612 65.439086 \r\nL 206.385238 65.439086 \r\nL 206.385238 64.946415 \r\nL 206.53871 64.946415 \r\nL 206.53871 64.70008 \r\nL 207.229336 64.70008 \r\nL 207.229336 64.453745 \r\nL 207.382809 64.453745 \r\nL 207.382809 64.20741 \r\nL 207.613017 64.20741 \r\nL 207.613017 63.961075 \r\nL 207.996698 63.961075 \r\nL 208.073434 63.468405 \r\nL 208.533851 63.468405 \r\nL 208.533851 63.22207 \r\nL 209.224477 63.22207 \r\nL 209.301213 62.729399 \r\nL 210.068575 62.729399 \r\nL 210.068575 62.483064 \r\nL 210.835937 62.483064 \r\nL 210.835937 62.236729 \r\nL 211.449827 62.236729 \r\nL 211.449827 61.990394 \r\nL 211.680035 61.990394 \r\nL 211.680035 61.744059 \r\nL 211.833508 61.744059 \r\nL 211.833508 61.497724 \r\nL 212.217189 61.497724 \r\nL 212.217189 61.251389 \r\nL 212.370661 61.251389 \r\nL 212.370661 61.005054 \r\nL 212.60087 61.005054 \r\nL 212.60087 60.758719 \r\nL 212.754342 60.758719 \r\nL 212.754342 60.512384 \r\nL 213.444968 60.512384 \r\nL 213.444968 60.266048 \r\nL 213.828649 60.266048 \r\nL 213.828649 60.019713 \r\nL 214.365802 60.019713 \r\nL 214.365802 59.773378 \r\nL 214.826219 59.773378 \r\nL 214.826219 59.527043 \r\nL 216.130734 59.527043 \r\nL 216.130734 59.034373 \r\nL 216.284207 59.034373 \r\nL 216.284207 58.788038 \r\nL 216.667888 58.788038 \r\nL 216.667888 58.541703 \r\nL 216.898096 58.541703 \r\nL 216.898096 58.295368 \r\nL 217.128305 58.295368 \r\nL 217.128305 58.049032 \r\nL 217.742194 58.049032 \r\nL 217.81893 57.556362 \r\nL 217.972403 57.556362 \r\nL 217.972403 57.310027 \r\nL 218.969973 57.310027 \r\nL 218.969973 57.063692 \r\nL 220.581433 57.063692 \r\nL 220.581433 56.817357 \r\nL 221.195323 56.817357 \r\nL 221.195323 56.571022 \r\nL 221.885949 56.571022 \r\nL 221.885949 56.324687 \r\nL 222.730047 56.324687 \r\nL 222.730047 56.078352 \r\nL 223.804353 56.078352 \r\nL 223.804353 55.832016 \r\nL 224.111298 55.832016 \r\nL 224.111298 55.339346 \r\nL 224.494979 55.339346 \r\nL 224.494979 55.093011 \r\nL 224.801924 55.093011 \r\nL 224.801924 54.846676 \r\nL 226.643592 54.846676 \r\nL 226.643592 54.600341 \r\nL 226.950537 54.600341 \r\nL 226.950537 54.354006 \r\nL 230.710611 54.354006 \r\nL 230.710611 53.861336 \r\nL 231.171028 53.861336 \r\nL 231.171028 53.615 \r\nL 231.401236 53.615 \r\nL 231.401236 53.368665 \r\nL 231.554709 53.368665 \r\nL 231.554709 53.12233 \r\nL 231.784917 53.12233 \r\nL 231.784917 52.875995 \r\nL 234.854365 52.875995 \r\nL 234.854365 52.62966 \r\nL 235.621727 52.62966 \r\nL 235.621727 52.383325 \r\nL 236.542561 52.383325 \r\nL 236.542561 52.13699 \r\nL 238.614438 52.13699 \r\nL 238.614438 51.890655 \r\nL 240.225898 51.890655 \r\nL 240.225898 51.64432 \r\nL 240.839788 51.64432 \r\nL 240.839788 51.397985 \r\nL 242.758192 51.397985 \r\nL 242.758192 51.151649 \r\nL 243.909235 51.151649 \r\nL 243.909235 50.905314 \r\nL 244.83007 50.905314 \r\nL 244.83007 50.412644 \r\nL 246.364793 50.412644 \r\nL 246.44153 49.919974 \r\nL 246.748474 49.919974 \r\nL 246.825211 49.427304 \r\nL 246.978683 49.427304 \r\nL 246.978683 49.180969 \r\nL 247.362364 49.180969 \r\nL 247.362364 48.934633 \r\nL 248.973824 48.934633 \r\nL 248.973824 48.688298 \r\nL 251.352646 48.688298 \r\nL 251.352646 48.441963 \r\nL 253.271051 48.441963 \r\nL 253.271051 48.195628 \r\nL 254.959247 48.195628 \r\nL 254.959247 47.949293 \r\nL 255.112719 47.949293 \r\nL 255.112719 47.702958 \r\nL 255.4964 47.702958 \r\nL 255.4964 47.456623 \r\nL 255.649873 47.456623 \r\nL 255.649873 46.717617 \r\nL 255.803345 46.717617 \r\nL 255.803345 46.471282 \r\nL 258.796056 46.471282 \r\nL 258.796056 46.224947 \r\nL 259.409946 46.224947 \r\nL 259.409946 45.978612 \r\nL 264.704743 45.978612 \r\nL 264.704743 45.732277 \r\nL 264.934952 45.732277 \r\nL 264.934952 45.485942 \r\nL 265.77905 45.485942 \r\nL 265.77905 45.239607 \r\nL 266.239467 45.239607 \r\nL 266.239467 44.993272 \r\nL 268.004399 44.993272 \r\nL 268.004399 44.746937 \r\nL 270.306485 44.746937 \r\nL 270.306485 44.500601 \r\nL 270.843638 44.500601 \r\nL 270.843638 44.254266 \r\nL 277.136006 44.254266 \r\nL 277.136006 44.007931 \r\nL 277.673159 44.007931 \r\nL 277.673159 43.761596 \r\nL 281.126288 43.761596 \r\nL 281.126288 43.515261 \r\nL 284.042263 43.515261 \r\nL 284.042263 43.268926 \r\nL 284.349208 43.268926 \r\nL 284.349208 43.022591 \r\nL 284.656153 43.022591 \r\nL 284.656153 42.776256 \r\nL 286.11414 42.776256 \r\nL 286.11414 42.529921 \r\nL 291.639146 42.529921 \r\nL 291.639146 42.283586 \r\nL 292.483244 42.283586 \r\nL 292.483244 42.03725 \r\nL 295.7829 42.03725 \r\nL 295.7829 41.790915 \r\nL 298.161722 41.790915 \r\nL 298.161722 41.54458 \r\nL 299.312765 41.54458 \r\nL 299.312765 41.298245 \r\nL 301.384642 41.298245 \r\nL 301.384642 41.05191 \r\nL 302.458949 41.05191 \r\nL 302.458949 40.805575 \r\nL 303.303047 40.805575 \r\nL 303.303047 40.55924 \r\nL 306.756176 40.55924 \r\nL 306.756176 40.312905 \r\nL 306.909648 40.312905 \r\nL 306.909648 40.06657 \r\nL 310.976666 40.06657 \r\nL 310.976666 39.820234 \r\nL 311.820764 39.820234 \r\nL 311.820764 39.573899 \r\nL 316.962089 39.573899 \r\nL 316.962089 39.327564 \r\nL 322.717303 39.327564 \r\nL 322.794039 38.834894 \r\nL 325.326334 38.834894 \r\nL 325.326334 38.588559 \r\nL 330.007241 38.588559 \r\nL 330.007241 38.342224 \r\nL 337.604124 38.342224 \r\nL 337.604124 38.095889 \r\nL 353.258307 38.095889 \r\nL 353.258307 37.849554 \r\nL 378.58125 37.849554 \r\nL 378.58125 37.849554 \r\n\" style=\"fill:none;stroke:#8b0000;stroke-linecap:square;stroke-width:1.5;\"/>\r\n   </g>\r\n   <g id=\"line2d_14\">\r\n    <path clip-path=\"url(#p2c2479fd82)\" d=\"M 43.78125 348.478125 \r\nL 378.58125 37.849554 \r\n\" style=\"fill:none;stroke:#d3d3d3;stroke-dasharray:5.55,2.4;stroke-dashoffset:0;stroke-width:1.5;\"/>\r\n   </g>\r\n   <g id=\"patch_3\">\r\n    <path d=\"M 43.78125 348.478125 \r\nL 43.78125 22.318125 \r\n\" style=\"fill:none;stroke:#000000;stroke-linecap:square;stroke-linejoin:miter;stroke-width:0.8;\"/>\r\n   </g>\r\n   <g id=\"patch_4\">\r\n    <path d=\"M 378.58125 348.478125 \r\nL 378.58125 22.318125 \r\n\" style=\"fill:none;stroke:#000000;stroke-linecap:square;stroke-linejoin:miter;stroke-width:0.8;\"/>\r\n   </g>\r\n   <g id=\"patch_5\">\r\n    <path d=\"M 43.78125 348.478125 \r\nL 378.58125 348.478125 \r\n\" style=\"fill:none;stroke:#000000;stroke-linecap:square;stroke-linejoin:miter;stroke-width:0.8;\"/>\r\n   </g>\r\n   <g id=\"patch_6\">\r\n    <path d=\"M 43.78125 22.318125 \r\nL 378.58125 22.318125 \r\n\" style=\"fill:none;stroke:#000000;stroke-linecap:square;stroke-linejoin:miter;stroke-width:0.8;\"/>\r\n   </g>\r\n   <g id=\"text_15\">\r\n    <!-- Receiver Operating Characteristic Curve -->\r\n    <g transform=\"translate(90.069375 16.318125)scale(0.12 -0.12)\">\r\n     <defs>\r\n      <path d=\"M 48.78125 52.59375 \r\nL 48.78125 44.1875 \r\nQ 44.96875 46.296875 41.140625 47.34375 \r\nQ 37.3125 48.390625 33.40625 48.390625 \r\nQ 24.65625 48.390625 19.8125 42.84375 \r\nQ 14.984375 37.3125 14.984375 27.296875 \r\nQ 14.984375 17.28125 19.8125 11.734375 \r\nQ 24.65625 6.203125 33.40625 6.203125 \r\nQ 37.3125 6.203125 41.140625 7.25 \r\nQ 44.96875 8.296875 48.78125 10.40625 \r\nL 48.78125 2.09375 \r\nQ 45.015625 0.34375 40.984375 -0.53125 \r\nQ 36.96875 -1.421875 32.421875 -1.421875 \r\nQ 20.0625 -1.421875 12.78125 6.34375 \r\nQ 5.515625 14.109375 5.515625 27.296875 \r\nQ 5.515625 40.671875 12.859375 48.328125 \r\nQ 20.21875 56 33.015625 56 \r\nQ 37.15625 56 41.109375 55.140625 \r\nQ 45.0625 54.296875 48.78125 52.59375 \r\nz\r\n\" id=\"DejaVuSans-99\"/>\r\n      <path d=\"M 39.40625 66.21875 \r\nQ 28.65625 66.21875 22.328125 58.203125 \r\nQ 16.015625 50.203125 16.015625 36.375 \r\nQ 16.015625 22.609375 22.328125 14.59375 \r\nQ 28.65625 6.59375 39.40625 6.59375 \r\nQ 50.140625 6.59375 56.421875 14.59375 \r\nQ 62.703125 22.609375 62.703125 36.375 \r\nQ 62.703125 50.203125 56.421875 58.203125 \r\nQ 50.140625 66.21875 39.40625 66.21875 \r\nz\r\nM 39.40625 74.21875 \r\nQ 54.734375 74.21875 63.90625 63.9375 \r\nQ 73.09375 53.65625 73.09375 36.375 \r\nQ 73.09375 19.140625 63.90625 8.859375 \r\nQ 54.734375 -1.421875 39.40625 -1.421875 \r\nQ 24.03125 -1.421875 14.8125 8.828125 \r\nQ 5.609375 19.09375 5.609375 36.375 \r\nQ 5.609375 53.65625 14.8125 63.9375 \r\nQ 24.03125 74.21875 39.40625 74.21875 \r\nz\r\n\" id=\"DejaVuSans-79\"/>\r\n      <path d=\"M 18.109375 8.203125 \r\nL 18.109375 -20.796875 \r\nL 9.078125 -20.796875 \r\nL 9.078125 54.6875 \r\nL 18.109375 54.6875 \r\nL 18.109375 46.390625 \r\nQ 20.953125 51.265625 25.265625 53.625 \r\nQ 29.59375 56 35.59375 56 \r\nQ 45.5625 56 51.78125 48.09375 \r\nQ 58.015625 40.1875 58.015625 27.296875 \r\nQ 58.015625 14.40625 51.78125 6.484375 \r\nQ 45.5625 -1.421875 35.59375 -1.421875 \r\nQ 29.59375 -1.421875 25.265625 0.953125 \r\nQ 20.953125 3.328125 18.109375 8.203125 \r\nz\r\nM 48.6875 27.296875 \r\nQ 48.6875 37.203125 44.609375 42.84375 \r\nQ 40.53125 48.484375 33.40625 48.484375 \r\nQ 26.265625 48.484375 22.1875 42.84375 \r\nQ 18.109375 37.203125 18.109375 27.296875 \r\nQ 18.109375 17.390625 22.1875 11.75 \r\nQ 26.265625 6.109375 33.40625 6.109375 \r\nQ 40.53125 6.109375 44.609375 11.75 \r\nQ 48.6875 17.390625 48.6875 27.296875 \r\nz\r\n\" id=\"DejaVuSans-112\"/>\r\n      <path d=\"M 54.890625 33.015625 \r\nL 54.890625 0 \r\nL 45.90625 0 \r\nL 45.90625 32.71875 \r\nQ 45.90625 40.484375 42.875 44.328125 \r\nQ 39.84375 48.1875 33.796875 48.1875 \r\nQ 26.515625 48.1875 22.3125 43.546875 \r\nQ 18.109375 38.921875 18.109375 30.90625 \r\nL 18.109375 0 \r\nL 9.078125 0 \r\nL 9.078125 54.6875 \r\nL 18.109375 54.6875 \r\nL 18.109375 46.1875 \r\nQ 21.34375 51.125 25.703125 53.5625 \r\nQ 30.078125 56 35.796875 56 \r\nQ 45.21875 56 50.046875 50.171875 \r\nQ 54.890625 44.34375 54.890625 33.015625 \r\nz\r\n\" id=\"DejaVuSans-110\"/>\r\n      <path d=\"M 45.40625 27.984375 \r\nQ 45.40625 37.75 41.375 43.109375 \r\nQ 37.359375 48.484375 30.078125 48.484375 \r\nQ 22.859375 48.484375 18.828125 43.109375 \r\nQ 14.796875 37.75 14.796875 27.984375 \r\nQ 14.796875 18.265625 18.828125 12.890625 \r\nQ 22.859375 7.515625 30.078125 7.515625 \r\nQ 37.359375 7.515625 41.375 12.890625 \r\nQ 45.40625 18.265625 45.40625 27.984375 \r\nz\r\nM 54.390625 6.78125 \r\nQ 54.390625 -7.171875 48.1875 -13.984375 \r\nQ 42 -20.796875 29.203125 -20.796875 \r\nQ 24.46875 -20.796875 20.265625 -20.09375 \r\nQ 16.0625 -19.390625 12.109375 -17.921875 \r\nL 12.109375 -9.1875 \r\nQ 16.0625 -11.328125 19.921875 -12.34375 \r\nQ 23.78125 -13.375 27.78125 -13.375 \r\nQ 36.625 -13.375 41.015625 -8.765625 \r\nQ 45.40625 -4.15625 45.40625 5.171875 \r\nL 45.40625 9.625 \r\nQ 42.625 4.78125 38.28125 2.390625 \r\nQ 33.9375 0 27.875 0 \r\nQ 17.828125 0 11.671875 7.65625 \r\nQ 5.515625 15.328125 5.515625 27.984375 \r\nQ 5.515625 40.671875 11.671875 48.328125 \r\nQ 17.828125 56 27.875 56 \r\nQ 33.9375 56 38.28125 53.609375 \r\nQ 42.625 51.21875 45.40625 46.390625 \r\nL 45.40625 54.6875 \r\nL 54.390625 54.6875 \r\nz\r\n\" id=\"DejaVuSans-103\"/>\r\n      <path d=\"M 64.40625 67.28125 \r\nL 64.40625 56.890625 \r\nQ 59.421875 61.53125 53.78125 63.8125 \r\nQ 48.140625 66.109375 41.796875 66.109375 \r\nQ 29.296875 66.109375 22.65625 58.46875 \r\nQ 16.015625 50.828125 16.015625 36.375 \r\nQ 16.015625 21.96875 22.65625 14.328125 \r\nQ 29.296875 6.6875 41.796875 6.6875 \r\nQ 48.140625 6.6875 53.78125 8.984375 \r\nQ 59.421875 11.28125 64.40625 15.921875 \r\nL 64.40625 5.609375 \r\nQ 59.234375 2.09375 53.4375 0.328125 \r\nQ 47.65625 -1.421875 41.21875 -1.421875 \r\nQ 24.65625 -1.421875 15.125 8.703125 \r\nQ 5.609375 18.84375 5.609375 36.375 \r\nQ 5.609375 53.953125 15.125 64.078125 \r\nQ 24.65625 74.21875 41.21875 74.21875 \r\nQ 47.75 74.21875 53.53125 72.484375 \r\nQ 59.328125 70.75 64.40625 67.28125 \r\nz\r\n\" id=\"DejaVuSans-67\"/>\r\n      <path d=\"M 54.890625 33.015625 \r\nL 54.890625 0 \r\nL 45.90625 0 \r\nL 45.90625 32.71875 \r\nQ 45.90625 40.484375 42.875 44.328125 \r\nQ 39.84375 48.1875 33.796875 48.1875 \r\nQ 26.515625 48.1875 22.3125 43.546875 \r\nQ 18.109375 38.921875 18.109375 30.90625 \r\nL 18.109375 0 \r\nL 9.078125 0 \r\nL 9.078125 75.984375 \r\nL 18.109375 75.984375 \r\nL 18.109375 46.1875 \r\nQ 21.34375 51.125 25.703125 53.5625 \r\nQ 30.078125 56 35.796875 56 \r\nQ 45.21875 56 50.046875 50.171875 \r\nQ 54.890625 44.34375 54.890625 33.015625 \r\nz\r\n\" id=\"DejaVuSans-104\"/>\r\n     </defs>\r\n     <use xlink:href=\"#DejaVuSans-82\"/>\r\n     <use x=\"64.982422\" xlink:href=\"#DejaVuSans-101\"/>\r\n     <use x=\"126.505859\" xlink:href=\"#DejaVuSans-99\"/>\r\n     <use x=\"181.486328\" xlink:href=\"#DejaVuSans-101\"/>\r\n     <use x=\"243.009766\" xlink:href=\"#DejaVuSans-105\"/>\r\n     <use x=\"270.792969\" xlink:href=\"#DejaVuSans-118\"/>\r\n     <use x=\"329.972656\" xlink:href=\"#DejaVuSans-101\"/>\r\n     <use x=\"391.496094\" xlink:href=\"#DejaVuSans-114\"/>\r\n     <use x=\"432.609375\" xlink:href=\"#DejaVuSans-32\"/>\r\n     <use x=\"464.396484\" xlink:href=\"#DejaVuSans-79\"/>\r\n     <use x=\"543.107422\" xlink:href=\"#DejaVuSans-112\"/>\r\n     <use x=\"606.583984\" xlink:href=\"#DejaVuSans-101\"/>\r\n     <use x=\"668.107422\" xlink:href=\"#DejaVuSans-114\"/>\r\n     <use x=\"709.220703\" xlink:href=\"#DejaVuSans-97\"/>\r\n     <use x=\"770.5\" xlink:href=\"#DejaVuSans-116\"/>\r\n     <use x=\"809.708984\" xlink:href=\"#DejaVuSans-105\"/>\r\n     <use x=\"837.492188\" xlink:href=\"#DejaVuSans-110\"/>\r\n     <use x=\"900.871094\" xlink:href=\"#DejaVuSans-103\"/>\r\n     <use x=\"964.347656\" xlink:href=\"#DejaVuSans-32\"/>\r\n     <use x=\"996.134766\" xlink:href=\"#DejaVuSans-67\"/>\r\n     <use x=\"1065.958984\" xlink:href=\"#DejaVuSans-104\"/>\r\n     <use x=\"1129.337891\" xlink:href=\"#DejaVuSans-97\"/>\r\n     <use x=\"1190.617188\" xlink:href=\"#DejaVuSans-114\"/>\r\n     <use x=\"1231.730469\" xlink:href=\"#DejaVuSans-97\"/>\r\n     <use x=\"1293.009766\" xlink:href=\"#DejaVuSans-99\"/>\r\n     <use x=\"1347.990234\" xlink:href=\"#DejaVuSans-116\"/>\r\n     <use x=\"1387.199219\" xlink:href=\"#DejaVuSans-101\"/>\r\n     <use x=\"1448.722656\" xlink:href=\"#DejaVuSans-114\"/>\r\n     <use x=\"1489.835938\" xlink:href=\"#DejaVuSans-105\"/>\r\n     <use x=\"1517.619141\" xlink:href=\"#DejaVuSans-115\"/>\r\n     <use x=\"1569.71875\" xlink:href=\"#DejaVuSans-116\"/>\r\n     <use x=\"1608.927734\" xlink:href=\"#DejaVuSans-105\"/>\r\n     <use x=\"1636.710938\" xlink:href=\"#DejaVuSans-99\"/>\r\n     <use x=\"1691.691406\" xlink:href=\"#DejaVuSans-32\"/>\r\n     <use x=\"1723.478516\" xlink:href=\"#DejaVuSans-67\"/>\r\n     <use x=\"1793.302734\" xlink:href=\"#DejaVuSans-117\"/>\r\n     <use x=\"1856.681641\" xlink:href=\"#DejaVuSans-114\"/>\r\n     <use x=\"1897.794922\" xlink:href=\"#DejaVuSans-118\"/>\r\n     <use x=\"1956.974609\" xlink:href=\"#DejaVuSans-101\"/>\r\n    </g>\r\n   </g>\r\n   <g id=\"legend_1\">\r\n    <g id=\"patch_7\">\r\n     <path d=\"M 209.940625 343.478125 \r\nL 371.58125 343.478125 \r\nQ 373.58125 343.478125 373.58125 341.478125 \r\nL 373.58125 327.8 \r\nQ 373.58125 325.8 371.58125 325.8 \r\nL 209.940625 325.8 \r\nQ 207.940625 325.8 207.940625 327.8 \r\nL 207.940625 341.478125 \r\nQ 207.940625 343.478125 209.940625 343.478125 \r\nz\r\n\" style=\"fill:#ffffff;opacity:0.8;stroke:#cccccc;stroke-linejoin:miter;\"/>\r\n    </g>\r\n    <g id=\"line2d_15\">\r\n     <path d=\"M 211.940625 333.898437 \r\nL 231.940625 333.898437 \r\n\" style=\"fill:none;stroke:#8b0000;stroke-linecap:square;stroke-width:1.5;\"/>\r\n    </g>\r\n    <g id=\"line2d_16\"/>\r\n    <g id=\"text_16\">\r\n     <!-- ROC curve (area = 0.751) -->\r\n     <g transform=\"translate(239.940625 337.398437)scale(0.1 -0.1)\">\r\n      <defs>\r\n       <path d=\"M 31 75.875 \r\nQ 24.46875 64.65625 21.28125 53.65625 \r\nQ 18.109375 42.671875 18.109375 31.390625 \r\nQ 18.109375 20.125 21.3125 9.0625 \r\nQ 24.515625 -2 31 -13.1875 \r\nL 23.1875 -13.1875 \r\nQ 15.875 -1.703125 12.234375 9.375 \r\nQ 8.59375 20.453125 8.59375 31.390625 \r\nQ 8.59375 42.28125 12.203125 53.3125 \r\nQ 15.828125 64.359375 23.1875 75.875 \r\nz\r\n\" id=\"DejaVuSans-40\"/>\r\n       <path d=\"M 10.59375 45.40625 \r\nL 73.1875 45.40625 \r\nL 73.1875 37.203125 \r\nL 10.59375 37.203125 \r\nz\r\nM 10.59375 25.484375 \r\nL 73.1875 25.484375 \r\nL 73.1875 17.1875 \r\nL 10.59375 17.1875 \r\nz\r\n\" id=\"DejaVuSans-61\"/>\r\n       <path d=\"M 8.203125 72.90625 \r\nL 55.078125 72.90625 \r\nL 55.078125 68.703125 \r\nL 28.609375 0 \r\nL 18.3125 0 \r\nL 43.21875 64.59375 \r\nL 8.203125 64.59375 \r\nz\r\n\" id=\"DejaVuSans-55\"/>\r\n       <path d=\"M 10.796875 72.90625 \r\nL 49.515625 72.90625 \r\nL 49.515625 64.59375 \r\nL 19.828125 64.59375 \r\nL 19.828125 46.734375 \r\nQ 21.96875 47.46875 24.109375 47.828125 \r\nQ 26.265625 48.1875 28.421875 48.1875 \r\nQ 40.625 48.1875 47.75 41.5 \r\nQ 54.890625 34.8125 54.890625 23.390625 \r\nQ 54.890625 11.625 47.5625 5.09375 \r\nQ 40.234375 -1.421875 26.90625 -1.421875 \r\nQ 22.3125 -1.421875 17.546875 -0.640625 \r\nQ 12.796875 0.140625 7.71875 1.703125 \r\nL 7.71875 11.625 \r\nQ 12.109375 9.234375 16.796875 8.0625 \r\nQ 21.484375 6.890625 26.703125 6.890625 \r\nQ 35.15625 6.890625 40.078125 11.328125 \r\nQ 45.015625 15.765625 45.015625 23.390625 \r\nQ 45.015625 31 40.078125 35.4375 \r\nQ 35.15625 39.890625 26.703125 39.890625 \r\nQ 22.75 39.890625 18.8125 39.015625 \r\nQ 14.890625 38.140625 10.796875 36.28125 \r\nz\r\n\" id=\"DejaVuSans-53\"/>\r\n       <path d=\"M 8.015625 75.875 \r\nL 15.828125 75.875 \r\nQ 23.140625 64.359375 26.78125 53.3125 \r\nQ 30.421875 42.28125 30.421875 31.390625 \r\nQ 30.421875 20.453125 26.78125 9.375 \r\nQ 23.140625 -1.703125 15.828125 -13.1875 \r\nL 8.015625 -13.1875 \r\nQ 14.5 -2 17.703125 9.0625 \r\nQ 20.90625 20.125 20.90625 31.390625 \r\nQ 20.90625 42.671875 17.703125 53.65625 \r\nQ 14.5 64.65625 8.015625 75.875 \r\nz\r\n\" id=\"DejaVuSans-41\"/>\r\n      </defs>\r\n      <use xlink:href=\"#DejaVuSans-82\"/>\r\n      <use x=\"69.482422\" xlink:href=\"#DejaVuSans-79\"/>\r\n      <use x=\"148.193359\" xlink:href=\"#DejaVuSans-67\"/>\r\n      <use x=\"218.017578\" xlink:href=\"#DejaVuSans-32\"/>\r\n      <use x=\"249.804688\" xlink:href=\"#DejaVuSans-99\"/>\r\n      <use x=\"304.785156\" xlink:href=\"#DejaVuSans-117\"/>\r\n      <use x=\"368.164062\" xlink:href=\"#DejaVuSans-114\"/>\r\n      <use x=\"409.277344\" xlink:href=\"#DejaVuSans-118\"/>\r\n      <use x=\"468.457031\" xlink:href=\"#DejaVuSans-101\"/>\r\n      <use x=\"529.980469\" xlink:href=\"#DejaVuSans-32\"/>\r\n      <use x=\"561.767578\" xlink:href=\"#DejaVuSans-40\"/>\r\n      <use x=\"600.78125\" xlink:href=\"#DejaVuSans-97\"/>\r\n      <use x=\"662.060547\" xlink:href=\"#DejaVuSans-114\"/>\r\n      <use x=\"700.923828\" xlink:href=\"#DejaVuSans-101\"/>\r\n      <use x=\"762.447266\" xlink:href=\"#DejaVuSans-97\"/>\r\n      <use x=\"823.726562\" xlink:href=\"#DejaVuSans-32\"/>\r\n      <use x=\"855.513672\" xlink:href=\"#DejaVuSans-61\"/>\r\n      <use x=\"939.302734\" xlink:href=\"#DejaVuSans-32\"/>\r\n      <use x=\"971.089844\" xlink:href=\"#DejaVuSans-48\"/>\r\n      <use x=\"1034.712891\" xlink:href=\"#DejaVuSans-46\"/>\r\n      <use x=\"1066.5\" xlink:href=\"#DejaVuSans-55\"/>\r\n      <use x=\"1130.123047\" xlink:href=\"#DejaVuSans-53\"/>\r\n      <use x=\"1193.746094\" xlink:href=\"#DejaVuSans-49\"/>\r\n      <use x=\"1257.369141\" xlink:href=\"#DejaVuSans-41\"/>\r\n     </g>\r\n    </g>\r\n   </g>\r\n  </g>\r\n </g>\r\n <defs>\r\n  <clipPath id=\"p2c2479fd82\">\r\n   <rect height=\"326.16\" width=\"334.8\" x=\"43.78125\" y=\"22.318125\"/>\r\n  </clipPath>\r\n </defs>\r\n</svg>\r\n",
            "image/png": "[encoded data removed]"
          },
          "metadata": {
            "needs_background": "light"
          }
        },
        {
          "output_type": "execute_result",
          "data": {
            "text/plain": [
              "0.7514685800481775"
            ]
          },
          "metadata": {},
          "execution_count": 46
        }
      ]
    },
    {
      "cell_type": "markdown",
      "metadata": {
        "id": "cU5TYtkztjq7"
      },
      "source": [
        "# Getting the features of the test set"
      ]
    },
    {
      "cell_type": "code",
      "metadata": {
        "id": "8qefGIA7tjq7"
      },
      "source": [
        "with open(\"testing_set.txt\", \"r\") as f:\n",
        "    reader = csv.reader(f)\n",
        "    testing_set  = list(reader)\n",
        "\n",
        "testing_set = [element[0].split(\" \") for element in testing_set]"
      ],
      "execution_count": 47,
      "outputs": []
    },
    {
      "cell_type": "code",
      "metadata": {
        "colab": {
          "base_uri": "https://localhost:8080/"
        },
        "id": "9c9D3nWAtjq7",
        "outputId": "b4d82f38-fe32-4cc9-c6d5-3bf8f15f2c41"
      },
      "source": [
        "overlap_title_test = []\n",
        "temp_diff_test = []\n",
        "comm_auth_test = []\n",
        "cosine_sim_test = []\n",
        "dense_matrix = abstract_vectorized.todense()\n",
        "   \n",
        "counter = 0\n",
        "for i in range(len(testing_set)):\n",
        "\n",
        "    source = testing_set[i][0]\n",
        "    target = testing_set[i][1]\n",
        "    \n",
        "    index_source = IDs.index(source)\n",
        "    index_target = IDs.index(target)\n",
        "    \n",
        "    source_info = [element for element in node_info if element[0]==source][0]\n",
        "    target_info = [element for element in node_info if element[0]==target][0]\n",
        "    \n",
        "    source_title = source_info[2].lower().split(\" \")\n",
        "    source_title = [token for token in source_title if token not in stpwds]\n",
        "    source_title = [stemmer.stem(token) for token in source_title]\n",
        "    \n",
        "    target_title = target_info[2].lower().split(\" \")\n",
        "    target_title = [token for token in target_title if token not in stpwds]\n",
        "    target_title = [stemmer.stem(token) for token in target_title]\n",
        "    \n",
        "    source_auth = source_info[3].split(\",\")\n",
        "    target_auth = target_info[3].split(\",\")\n",
        "    \n",
        "    overlap_title_test.append(len(set(source_title).intersection(set(target_title))))\n",
        "    temp_diff_test.append(int(source_info[1]) - int(target_info[1]))\n",
        "    comm_auth_test.append(len(set(source_auth).intersection(set(target_auth))))\n",
        "\n",
        "    v1 = dense_matrix[index_source,:]\n",
        "    v2 = dense_matrix[index_target,:]\n",
        "\n",
        "    sim = cosine_similarity(v1, v2)\n",
        "    cosine_sim_test.append(sim[0][0])\n",
        "   \n",
        "    counter += 1\n",
        "    if counter % 1000 == True:\n",
        "        print(counter, \"testing examples processsed\")"
      ],
      "execution_count": 48,
      "outputs": [
        {
          "output_type": "stream",
          "name": "stdout",
          "text": [
            "1 testing examples processsed\n",
            "1001 testing examples processsed\n",
            "2001 testing examples processsed\n",
            "3001 testing examples processsed\n",
            "4001 testing examples processsed\n",
            "5001 testing examples processsed\n",
            "6001 testing examples processsed\n",
            "7001 testing examples processsed\n",
            "8001 testing examples processsed\n",
            "9001 testing examples processsed\n",
            "10001 testing examples processsed\n",
            "11001 testing examples processsed\n",
            "12001 testing examples processsed\n",
            "13001 testing examples processsed\n",
            "14001 testing examples processsed\n",
            "15001 testing examples processsed\n",
            "16001 testing examples processsed\n",
            "17001 testing examples processsed\n",
            "18001 testing examples processsed\n",
            "19001 testing examples processsed\n",
            "20001 testing examples processsed\n",
            "21001 testing examples processsed\n",
            "22001 testing examples processsed\n",
            "23001 testing examples processsed\n",
            "24001 testing examples processsed\n",
            "25001 testing examples processsed\n",
            "26001 testing examples processsed\n",
            "27001 testing examples processsed\n",
            "28001 testing examples processsed\n",
            "29001 testing examples processsed\n",
            "30001 testing examples processsed\n",
            "31001 testing examples processsed\n",
            "32001 testing examples processsed\n"
          ]
        }
      ]
    },
    {
      "cell_type": "code",
      "metadata": {
        "tags": [],
        "id": "8OmhI74Atjq7"
      },
      "source": [
        "testing_features = np.array([overlap_title_test,temp_diff_test,comm_auth_test, cosine_sim_test]).T\n",
        "\n",
        "testing_features = preprocessing.scale(testing_features)"
      ],
      "execution_count": 50,
      "outputs": []
    },
    {
      "cell_type": "code",
      "metadata": {
        "id": "Z5yTxPUitjq8"
      },
      "source": [
        "test_feat = pd.DataFrame(testing_features, columns=['overl_title', 'temp_diff', 'comm_author', 'sim'])"
      ],
      "execution_count": 51,
      "outputs": []
    },
    {
      "cell_type": "code",
      "metadata": {
        "id": "A8kKAycttjq8"
      },
      "source": [
        "test_graph_feat = feature_extractor(G0, testing_set, deg_centrality)"
      ],
      "execution_count": 53,
      "outputs": [
        {
          "output_type": "display_data",
          "data": {
            "text/plain": "HBox(children=(FloatProgress(value=0.0, max=32648.0), HTML(value='')))",
            "application/vnd.jupyter.widget-view+json": {
              "version_major": 2,
              "version_minor": 0,
              "model_id": "3b0c6d189ced44f9b54cabed87917d91"
            }
          },
          "metadata": {}
        },
        {
          "output_type": "stream",
          "name": "stdout",
          "text": [
            "\n21001\n"
          ]
        }
      ]
    },
    {
      "cell_type": "code",
      "metadata": {
        "id": "qfKW8YKxoALO"
      },
      "source": [
        "test_graph_feat = pd.DataFrame(test_graph_feat, columns=['source_degree_centrality', 'target_degree_centrality', 'source_katz_cent', 'target_katz_cent', 'pref_attach', 'aai', 'jacard_coeff', 'res_all'])"
      ],
      "execution_count": 54,
      "outputs": []
    },
    {
      "cell_type": "code",
      "metadata": {
        "id": "hHKP7pIitjq8"
      },
      "source": [
        "total_test_feat = pd.concat([test_graph_feat, test_feat], axis=1)"
      ],
      "execution_count": 55,
      "outputs": []
    },
    {
      "cell_type": "code",
      "metadata": {
        "colab": {
          "base_uri": "https://localhost:8080/",
          "height": 204
        },
        "id": "ZM8UjM8htjq8",
        "outputId": "634a13e3-0d3c-4b4b-829c-108a8ce7a815"
      },
      "source": [
        "total_test_feat.head()"
      ],
      "execution_count": 56,
      "outputs": [
        {
          "output_type": "execute_result",
          "data": {
            "text/plain": [
              "   source_degree_centrality  target_degree_centrality  source_katz_cent  \\\n",
              "0                  0.000000                  0.000000          0.000000   \n",
              "1                  0.001994                  0.000199          0.013730   \n",
              "2                  0.001296                  0.004886          0.016399   \n",
              "3                  0.000199                  0.000199          0.007114   \n",
              "4                  0.000000                  0.000000          0.000000   \n",
              "\n",
              "   target_katz_cent  pref_attach  aai  jacard_coeff  res_all  overl_title  \\\n",
              "0          0.000000          0.0  0.0           0.0      0.0    -0.566312   \n",
              "1          0.009519         40.0  0.0           0.0      0.0     1.635671   \n",
              "2          0.051252        637.0  0.0           0.0      0.0     0.534679   \n",
              "3          0.007114          4.0  0.0           0.0      0.0     0.534679   \n",
              "4          0.000000          0.0  0.0           0.0      0.0    -0.566312   \n",
              "\n",
              "   temp_diff  comm_author       sim  \n",
              "0  -0.317649    -0.233924  0.007732  \n",
              "1  -0.036092    -0.233924  1.109139  \n",
              "2   0.245466    -0.233924  0.702924  \n",
              "3  -0.317649    -0.233924  0.486097  \n",
              "4   1.090138    -0.233924  2.608261  "
            ],
            "text/html": "<div>\n<style scoped>\n    .dataframe tbody tr th:only-of-type {\n        vertical-align: middle;\n    }\n\n    .dataframe tbody tr th {\n        vertical-align: top;\n    }\n\n    .dataframe thead th {\n        text-align: right;\n    }\n</style>\n<table border=\"1\" class=\"dataframe\">\n  <thead>\n    <tr style=\"text-align: right;\">\n      <th></th>\n      <th>source_degree_centrality</th>\n      <th>target_degree_centrality</th>\n      <th>source_katz_cent</th>\n      <th>target_katz_cent</th>\n      <th>pref_attach</th>\n      <th>aai</th>\n      <th>jacard_coeff</th>\n      <th>res_all</th>\n      <th>overl_title</th>\n      <th>temp_diff</th>\n      <th>comm_author</th>\n      <th>sim</th>\n    </tr>\n  </thead>\n  <tbody>\n    <tr>\n      <th>0</th>\n      <td>0.000000</td>\n      <td>0.000000</td>\n      <td>0.000000</td>\n      <td>0.000000</td>\n      <td>0.0</td>\n      <td>0.0</td>\n      <td>0.0</td>\n      <td>0.0</td>\n      <td>-0.566312</td>\n      <td>-0.317649</td>\n      <td>-0.233924</td>\n      <td>0.007732</td>\n    </tr>\n    <tr>\n      <th>1</th>\n      <td>0.001994</td>\n      <td>0.000199</td>\n      <td>0.013730</td>\n      <td>0.009519</td>\n      <td>40.0</td>\n      <td>0.0</td>\n      <td>0.0</td>\n      <td>0.0</td>\n      <td>1.635671</td>\n      <td>-0.036092</td>\n      <td>-0.233924</td>\n      <td>1.109139</td>\n    </tr>\n    <tr>\n      <th>2</th>\n      <td>0.001296</td>\n      <td>0.004886</td>\n      <td>0.016399</td>\n      <td>0.051252</td>\n      <td>637.0</td>\n      <td>0.0</td>\n      <td>0.0</td>\n      <td>0.0</td>\n      <td>0.534679</td>\n      <td>0.245466</td>\n      <td>-0.233924</td>\n      <td>0.702924</td>\n    </tr>\n    <tr>\n      <th>3</th>\n      <td>0.000199</td>\n      <td>0.000199</td>\n      <td>0.007114</td>\n      <td>0.007114</td>\n      <td>4.0</td>\n      <td>0.0</td>\n      <td>0.0</td>\n      <td>0.0</td>\n      <td>0.534679</td>\n      <td>-0.317649</td>\n      <td>-0.233924</td>\n      <td>0.486097</td>\n    </tr>\n    <tr>\n      <th>4</th>\n      <td>0.000000</td>\n      <td>0.000000</td>\n      <td>0.000000</td>\n      <td>0.000000</td>\n      <td>0.0</td>\n      <td>0.0</td>\n      <td>0.0</td>\n      <td>0.0</td>\n      <td>-0.566312</td>\n      <td>1.090138</td>\n      <td>-0.233924</td>\n      <td>2.608261</td>\n    </tr>\n  </tbody>\n</table>\n</div>"
          },
          "metadata": {},
          "execution_count": 56
        }
      ]
    },
    {
      "cell_type": "code",
      "metadata": {
        "colab": {
          "base_uri": "https://localhost:8080/"
        },
        "id": "ibIvrbN8tjq8",
        "outputId": "c10127b3-6c0f-4b58-c071-2d62f6defff1"
      },
      "source": [
        "# initialize basic SVM\n",
        "classifier = svm.LinearSVC(max_iter=50000)\n",
        "\n",
        "# train\n",
        "classifier.fit(all_train_feat.to_numpy(), train_labels)"
      ],
      "execution_count": 59,
      "outputs": [
        {
          "output_type": "stream",
          "name": "stderr",
          "text": [
            "C:\\Users\\inesp\\AppData\\Local\\Programs\\Python\\Python38\\lib\\site-packages\\sklearn\\svm\\_base.py:976: ConvergenceWarning: Liblinear failed to converge, increase the number of iterations.\n  warnings.warn(\"Liblinear failed to converge, increase \"\n"
          ]
        },
        {
          "output_type": "execute_result",
          "data": {
            "text/plain": [
              "LinearSVC(max_iter=50000)"
            ]
          },
          "metadata": {},
          "execution_count": 59
        }
      ]
    },
    {
      "cell_type": "code",
      "metadata": {
        "id": "i4MROL0ntjq8"
      },
      "source": [
        "predictions_SVM = list(classifier.predict(total_test_feat.to_numpy()))\n",
        "\n",
        "predictions_SVM = zip(range(len(testing_set)), predictions_SVM)"
      ],
      "execution_count": 60,
      "outputs": []
    },
    {
      "cell_type": "code",
      "metadata": {
        "id": "IDCQJStbtjq9"
      },
      "source": [
        "with open(\"improved_predictions_full_5%_with_katz.csv\",\"w\", newline='') as pred1:\n",
        "    csv_out = csv.writer(pred1)\n",
        "    for row in predictions_SVM:\n",
        "        csv_out.writerow(row)"
      ],
      "execution_count": 61,
      "outputs": []
    }
  ]
}