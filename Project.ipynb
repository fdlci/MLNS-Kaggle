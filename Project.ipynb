{
 "metadata": {
  "language_info": {
   "codemirror_mode": {
    "name": "ipython",
    "version": 3
   },
   "file_extension": ".py",
   "mimetype": "text/x-python",
   "name": "python",
   "nbconvert_exporter": "python",
   "pygments_lexer": "ipython3",
   "version": "3.8.0-final"
  },
  "orig_nbformat": 2,
  "kernelspec": {
   "name": "python3",
   "display_name": "Python 3.8.0 64-bit",
   "metadata": {
    "interpreter": {
     "hash": "ecbb290622efe6a108e88b8a5dccb3aa582d66a3ed03b3b3ca754b0c02090994"
    }
   }
  }
 },
 "nbformat": 4,
 "nbformat_minor": 2,
 "cells": [
  {
   "cell_type": "code",
   "execution_count": 41,
   "metadata": {},
   "outputs": [],
   "source": [
    "%matplotlib inline\n",
    "import os\n",
    "import networkx as nx\n",
    "import numpy as np\n",
    "import matplotlib.pyplot as plt\n",
    "from scipy.sparse import *\n",
    "from sklearn.linear_model import LogisticRegression\n",
    "from sklearn.metrics import roc_auc_score, roc_curve, auc\n",
    "import pandas as pd\n",
    "import csv\n",
    "from sklearn import svm\n",
    "from sklearn.feature_extraction.text import TfidfVectorizer\n",
    "from sklearn.metrics.pairwise import linear_kernel\n",
    "from sklearn import preprocessing\n",
    "from sklearn.metrics.pairwise import cosine_similarity\n",
    "import nltk\n",
    "import random\n",
    "from sklearn.metrics import accuracy_score, f1_score\n",
    "from tqdm.notebook import tqdm"
   ]
  },
  {
   "cell_type": "code",
   "execution_count": 2,
   "metadata": {},
   "outputs": [
    {
     "output_type": "stream",
     "name": "stderr",
     "text": [
      "[nltk_data] Downloading package punkt to\n[nltk_data]     C:\\Users\\inesp\\AppData\\Roaming\\nltk_data...\n[nltk_data]   Package punkt is already up-to-date!\n[nltk_data] Downloading package stopwords to\n[nltk_data]     C:\\Users\\inesp\\AppData\\Roaming\\nltk_data...\n[nltk_data]   Package stopwords is already up-to-date!\n"
     ]
    }
   ],
   "source": [
    "nltk.download('punkt') # for tokenization\n",
    "nltk.download('stopwords')\n",
    "stpwds = set(nltk.corpus.stopwords.words(\"english\"))\n",
    "stemmer = nltk.stem.PorterStemmer()"
   ]
  },
  {
   "cell_type": "code",
   "execution_count": 3,
   "metadata": {},
   "outputs": [],
   "source": [
    "# Info of the graph\n",
    "def compute_network_characteristics(graph):\n",
    "    prop = {}\n",
    "    prop['N'] =  graph.number_of_nodes() # number of nodes\n",
    "    prop['M'] = graph.number_of_edges() # number of edges\n",
    "    degrees = [degree for node, degree in graph.degree()] # degree list\n",
    "    prop['min_degree'] =  np.min(degrees) # minimum degree\n",
    "    prop['max_degree'] =  np.max(degrees) # maximum degree\n",
    "    prop['mean_degree'] = np.mean(degrees) # mean of node degrees\n",
    "    prop['median_degree'] = np.median(degrees) # median of node degrees\n",
    "    prop['density'] =  nx.density(graph) # density of the graph\n",
    "    return prop"
   ]
  },
  {
   "source": [
    "# Turning the training data into a graph"
   ],
   "cell_type": "markdown",
   "metadata": {}
  },
  {
   "cell_type": "code",
   "execution_count": 4,
   "metadata": {},
   "outputs": [],
   "source": [
    "def get_training_graph(csv_file, column_names=['source', 'target', 'connected']):\n",
    "\n",
    "    # Pandas dataframe\n",
    "    df = pd.read_csv(csv_file, sep=' ', names=column_names)\n",
    "    edges = df.loc[df['connected'] == 1]\n",
    "\n",
    "    # Number of edges\n",
    "    print(f'There are {len(edges)} edges and {len(df) - len(edges)} non edges')\n",
    "\n",
    "    # networkx graph\n",
    "    Graphtype = nx.DiGraph()\n",
    "    G = nx.from_pandas_edgelist(edges, create_using=Graphtype)\n",
    "    \n",
    "    return G"
   ]
  },
  {
   "cell_type": "code",
   "execution_count": 5,
   "metadata": {},
   "outputs": [
    {
     "output_type": "stream",
     "name": "stdout",
     "text": [
      "There are 335130 edges and 280382 non edges\n"
     ]
    }
   ],
   "source": [
    "training_graph = get_training_graph('training_set.txt')"
   ]
  },
  {
   "cell_type": "code",
   "execution_count": 6,
   "metadata": {},
   "outputs": [
    {
     "output_type": "execute_result",
     "data": {
      "text/plain": [
       "{'N': 27684,\n",
       " 'M': 335130,\n",
       " 'min_degree': 1,\n",
       " 'max_degree': 2346,\n",
       " 'mean_degree': 24.211096662332032,\n",
       " 'median_degree': 14.0,\n",
       " 'density': 0.0004372917794735403}"
      ]
     },
     "metadata": {},
     "execution_count": 6
    }
   ],
   "source": [
    "compute_network_characteristics(graph=training_graph)"
   ]
  },
  {
   "source": [
    "## For now let's focus on a smaller graph"
   ],
   "cell_type": "markdown",
   "metadata": {}
  },
  {
   "cell_type": "code",
   "execution_count": 7,
   "metadata": {},
   "outputs": [],
   "source": [
    "with open(\"training_set.txt\", \"r\") as f:\n",
    "    reader = csv.reader(f)\n",
    "    training_set  = list(reader)\n",
    "\n",
    "training_set = [element[0].split(\" \") for element in training_set]"
   ]
  },
  {
   "cell_type": "code",
   "execution_count": 65,
   "metadata": {},
   "outputs": [
    {
     "output_type": "stream",
     "name": "stdout",
     "text": [
      "We are only working on 61551 nodes of the dataset\n"
     ]
    }
   ],
   "source": [
    "random.seed(10)\n",
    "to_keep = random.sample(range(len(training_set)), k=int(round(len(training_set)*0.1)))\n",
    "training_set_reduced = [training_set[i] for i in to_keep]\n",
    "print(f'We are only working on {len(training_set_reduced)} nodes of the dataset')"
   ]
  },
  {
   "cell_type": "code",
   "execution_count": 66,
   "metadata": {},
   "outputs": [
    {
     "output_type": "stream",
     "name": "stdout",
     "text": [
      "There are 33464 edges and 28087 non edges\n"
     ]
    },
    {
     "output_type": "execute_result",
     "data": {
      "text/plain": [
       "True"
      ]
     },
     "metadata": {},
     "execution_count": 66
    }
   ],
   "source": [
    "# Pandas dataframe\n",
    "df = pd.DataFrame(training_set_reduced, columns=['source', 'target', 'connected'])\n",
    "edges = df.loc[df['connected'] == '1']\n",
    "\n",
    "# Number of edges\n",
    "print(f'There are {len(edges)} edges and {len(df) - len(edges)} non edges')\n",
    "\n",
    "# networkx graph !!!!!!! The graph is directed\n",
    "Graphtype = nx.DiGraph()\n",
    "G = nx.from_pandas_edgelist(edges, create_using=Graphtype)\n",
    "\n",
    "# Take the largest weakly conected component\n",
    "nodes = max(nx.weakly_connected_components(G), key=len) \n",
    "G0 = G.subgraph(nodes)\n",
    "\n",
    "# Make that graph undirected\n",
    "G0 = G0.to_undirected()\n",
    "nx.is_connected(G0)"
   ]
  },
  {
   "cell_type": "code",
   "execution_count": 67,
   "metadata": {},
   "outputs": [
    {
     "output_type": "execute_result",
     "data": {
      "text/plain": [
       "{'N': 16081,\n",
       " 'M': 31668,\n",
       " 'min_degree': 1,\n",
       " 'max_degree': 262,\n",
       " 'mean_degree': 3.93856103476152,\n",
       " 'median_degree': 3.0,\n",
       " 'density': 0.00024493538773392537}"
      ]
     },
     "metadata": {},
     "execution_count": 67
    }
   ],
   "source": [
    "compute_network_characteristics(G0)"
   ]
  },
  {
   "source": [
    "## Generate Samples"
   ],
   "cell_type": "markdown",
   "metadata": {}
  },
  {
   "cell_type": "code",
   "execution_count": 68,
   "metadata": {},
   "outputs": [],
   "source": [
    "def generate_samples(graph, train_set_ratio):\n",
    "    \"\"\"\n",
    "    Graph pre-processing step required to perform supervised link prediction\n",
    "    Create training and test sets\n",
    "    \"\"\"\n",
    "        \n",
    "    # --- Step 0: The graph must be connected ---\n",
    "    if nx.is_connected(graph) is not True:\n",
    "        raise ValueError(\"The graph contains more than one connected component!\")\n",
    "       \n",
    "    \n",
    "    # --- Step 1: Generate positive edge samples for testing set ---\n",
    "    residual_g = graph.copy()\n",
    "    test_pos_samples = []\n",
    "      \n",
    "    # Store the shuffled list of current edges of the graph\n",
    "    edges = list(residual_g.edges())\n",
    "    np.random.shuffle(edges)\n",
    "    \n",
    "    # Define number of positive test samples desired\n",
    "    test_set_size = int((1.0 - train_set_ratio) * graph.number_of_edges())\n",
    "    train_set_size = graph.number_of_edges() - test_set_size\n",
    "    num_of_pos_test_samples = 0\n",
    "    \n",
    "    # Remove random edges from the graph, leaving it connected\n",
    "    # Fill in the blanks\n",
    "    for edge in tqdm(edges):\n",
    "        \n",
    "        # Remove the edge\n",
    "        residual_g.remove_edge(edge[0], edge[1])\n",
    "        \n",
    "        # Add the removed edge to the positive sample list if the network is still connected\n",
    "        if nx.is_connected(residual_g):\n",
    "            num_of_pos_test_samples += 1\n",
    "            test_pos_samples.append(edge)\n",
    "        # Otherwise, re-add the edge to the network\n",
    "        else: \n",
    "            residual_g.add_edge(edge[0], edge[1])\n",
    "        \n",
    "        # If we have collected enough number of edges for testing set, we can terminate the loop\n",
    "        if num_of_pos_test_samples == test_set_size:\n",
    "            break\n",
    "    \n",
    "    # Check if we have the desired number of positive samples for testing set \n",
    "    if num_of_pos_test_samples != test_set_size:\n",
    "        raise ValueError(\"Enough positive edge samples could not be found!\")\n",
    "\n",
    "        \n",
    "    # --- Step 2: Generate positive edge samples for training set ---\n",
    "    # The remaining edges are simply considered for positive samples of the training set\n",
    "    train_pos_samples = list(residual_g.edges())\n",
    "        \n",
    "        \n",
    "    # --- Step 3: Generate the negative samples for testing and training sets ---\n",
    "    # Fill in the blanks\n",
    "    non_edges = list(nx.non_edges(graph))\n",
    "    random.seed(10)\n",
    "    np.random.shuffle(non_edges)\n",
    "    \n",
    "    train_neg_samples = non_edges[:train_set_size] \n",
    "    test_neg_samples = non_edges[train_set_size:train_set_size + test_set_size]\n",
    "\n",
    "    \n",
    "    # --- Step 4: Combine sample lists and create corresponding labels ---\n",
    "    # For training set\n",
    "    train_samples = train_pos_samples + train_neg_samples\n",
    "    train_labels = [1 for _ in train_pos_samples] + [0 for _ in train_neg_samples]\n",
    "    # For testing set\n",
    "    test_samples = test_pos_samples + test_neg_samples\n",
    "    test_labels = [1 for _ in test_pos_samples] + [0 for _ in test_neg_samples]\n",
    "    \n",
    "    return residual_g, train_samples, train_labels, test_samples, test_labels\n"
   ]
  },
  {
   "cell_type": "code",
   "execution_count": 69,
   "metadata": {},
   "outputs": [
    {
     "output_type": "display_data",
     "data": {
      "text/plain": "HBox(children=(FloatProgress(value=0.0, max=31668.0), HTML(value='')))",
      "application/vnd.jupyter.widget-view+json": {
       "version_major": 2,
       "version_minor": 0,
       "model_id": "0189c55b3a014321a131f8b90f0dd2ca"
      }
     },
     "metadata": {}
    },
    {
     "output_type": "stream",
     "name": "stdout",
     "text": [
      "\n"
     ]
    }
   ],
   "source": [
    "residual_g, train_samples, train_labels, test_samples, test_labels = generate_samples(G0, train_set_ratio=0.8)"
   ]
  },
  {
   "source": [
    "## Get the feature Vector"
   ],
   "cell_type": "markdown",
   "metadata": {}
  },
  {
   "cell_type": "code",
   "execution_count": 103,
   "metadata": {},
   "outputs": [],
   "source": [
    "def feature_extractor(graph, samples):\n",
    "    \"\"\"\n",
    "    Creates a feature vector for each edge of the graph contained in samples \n",
    "    \"\"\"\n",
    "    feature_vector = []\n",
    "    number_nodes_out = 0\n",
    "    \n",
    "    # --- Extract manually diverse features relative to each edge contained in samples --- \n",
    "    # Fill in the blanks\n",
    "\n",
    "    # Degree Centrality measure\n",
    "    deg_centrality = nx.degree_centrality(graph)\n",
    "    \n",
    "    # # Betweeness centrality measure\n",
    "    # betweeness_centrality = nx.betweenness_centrality(graph)\n",
    "\n",
    "    for edge in tqdm(samples):\n",
    "        source_node, target_node = edge[0], edge[1]\n",
    "\n",
    "        # Degree Centrality\n",
    "        if source_node or target_node not in list(deg_centrality.keys()):\n",
    "            feature_vector.append(np.array([0, 0, 0, 0, 0, 0]) )\n",
    "            number_nodes_out += 1\n",
    "\n",
    "        else:\n",
    "\n",
    "            source_degree_centrality = deg_centrality[source_node]\n",
    "            target_degree_centrality = deg_centrality[target_node]\n",
    "            \n",
    "            # # Betweeness centrality measure \n",
    "            # diff_bt = betweeness_centrality[target_node] - betweeness_centrality[source_node]\n",
    "\n",
    "            # Preferential Attachement \n",
    "            pref_attach = list(nx.preferential_attachment(graph, [(source_node, target_node)]))[0][2]\n",
    "\n",
    "            # AdamicAdar\n",
    "            aai = list(nx.adamic_adar_index(graph, [(source_node, target_node)]))[0][2]\n",
    "\n",
    "            # Jaccard\n",
    "            jacard_coeff = list(nx.jaccard_coefficient(graph, [(source_node, target_node)]))[0][2]\n",
    "            # Ressource allocation index\n",
    "            res_all = list(nx.resource_allocation_index(graph, [(source_node, target_node)]))[0][2]\n",
    "            \n",
    "            # Create edge feature vector with all metric computed above\n",
    "            feature_vector.append(np.array([source_degree_centrality, target_degree_centrality, pref_attach, aai, jacard_coeff, res_all]) ) \n",
    "    print(number_nodes_out)\n",
    "        \n",
    "    return np.array(feature_vector)"
   ]
  },
  {
   "cell_type": "code",
   "execution_count": 71,
   "metadata": {},
   "outputs": [
    {
     "output_type": "display_data",
     "data": {
      "text/plain": "HBox(children=(FloatProgress(value=0.0, max=50670.0), HTML(value='')))",
      "application/vnd.jupyter.widget-view+json": {
       "version_major": 2,
       "version_minor": 0,
       "model_id": "f39ee1572363491b8f7d07f763760574"
      }
     },
     "metadata": {}
    },
    {
     "output_type": "stream",
     "name": "stdout",
     "text": [
      "\n"
     ]
    },
    {
     "output_type": "display_data",
     "data": {
      "text/plain": "HBox(children=(FloatProgress(value=0.0, max=12666.0), HTML(value='')))",
      "application/vnd.jupyter.widget-view+json": {
       "version_major": 2,
       "version_minor": 0,
       "model_id": "e72660c097db4df997b68520d2e5d175"
      }
     },
     "metadata": {}
    },
    {
     "output_type": "stream",
     "name": "stdout",
     "text": [
      "\n"
     ]
    }
   ],
   "source": [
    "train_features = feature_extractor(G0, train_samples)\n",
    "test_features = feature_extractor(G0, test_samples)"
   ]
  },
  {
   "cell_type": "code",
   "execution_count": 72,
   "metadata": {},
   "outputs": [],
   "source": [
    "feat_train = pd.DataFrame(train_features, columns=['source_degree_centrality', 'target_degree_centrality', 'pref_attach', 'aai', 'jacard_coeff', 'res_all'])\n",
    "feat_test = pd.DataFrame(test_features, columns=['source_degree_centrality', 'target_degree_centrality', 'pref_attach', 'aai', 'jacard_coeff', 'res_all'])"
   ]
  },
  {
   "cell_type": "code",
   "execution_count": 73,
   "metadata": {},
   "outputs": [
    {
     "output_type": "execute_result",
     "data": {
      "text/plain": [
       "   source_degree_centrality  target_degree_centrality  pref_attach  aai  \\\n",
       "0                  0.000124                  0.000124          4.0  0.0   \n",
       "1                  0.000124                  0.000124          4.0  0.0   \n",
       "2                  0.000124                  0.001244         40.0  0.0   \n",
       "3                  0.000124                  0.004042        130.0  0.0   \n",
       "4                  0.001244                  0.000498        160.0  0.0   \n",
       "\n",
       "   jacard_coeff  res_all  \n",
       "0           0.0      0.0  \n",
       "1           0.0      0.0  \n",
       "2           0.0      0.0  \n",
       "3           0.0      0.0  \n",
       "4           0.0      0.0  "
      ],
      "text/html": "<div>\n<style scoped>\n    .dataframe tbody tr th:only-of-type {\n        vertical-align: middle;\n    }\n\n    .dataframe tbody tr th {\n        vertical-align: top;\n    }\n\n    .dataframe thead th {\n        text-align: right;\n    }\n</style>\n<table border=\"1\" class=\"dataframe\">\n  <thead>\n    <tr style=\"text-align: right;\">\n      <th></th>\n      <th>source_degree_centrality</th>\n      <th>target_degree_centrality</th>\n      <th>pref_attach</th>\n      <th>aai</th>\n      <th>jacard_coeff</th>\n      <th>res_all</th>\n    </tr>\n  </thead>\n  <tbody>\n    <tr>\n      <th>0</th>\n      <td>0.000124</td>\n      <td>0.000124</td>\n      <td>4.0</td>\n      <td>0.0</td>\n      <td>0.0</td>\n      <td>0.0</td>\n    </tr>\n    <tr>\n      <th>1</th>\n      <td>0.000124</td>\n      <td>0.000124</td>\n      <td>4.0</td>\n      <td>0.0</td>\n      <td>0.0</td>\n      <td>0.0</td>\n    </tr>\n    <tr>\n      <th>2</th>\n      <td>0.000124</td>\n      <td>0.001244</td>\n      <td>40.0</td>\n      <td>0.0</td>\n      <td>0.0</td>\n      <td>0.0</td>\n    </tr>\n    <tr>\n      <th>3</th>\n      <td>0.000124</td>\n      <td>0.004042</td>\n      <td>130.0</td>\n      <td>0.0</td>\n      <td>0.0</td>\n      <td>0.0</td>\n    </tr>\n    <tr>\n      <th>4</th>\n      <td>0.001244</td>\n      <td>0.000498</td>\n      <td>160.0</td>\n      <td>0.0</td>\n      <td>0.0</td>\n      <td>0.0</td>\n    </tr>\n  </tbody>\n</table>\n</div>"
     },
     "metadata": {},
     "execution_count": 73
    }
   ],
   "source": [
    "feat_train.head()"
   ]
  },
  {
   "cell_type": "code",
   "execution_count": 74,
   "metadata": {},
   "outputs": [],
   "source": [
    "t_set_red = {}\n",
    "for source, target, lab in training_set_reduced:\n",
    "    t_set_red[(source, target)] = lab"
   ]
  },
  {
   "cell_type": "code",
   "execution_count": 75,
   "metadata": {},
   "outputs": [],
   "source": [
    "def get_true_test_labels(test_samples):\n",
    "    real_test_labels = []\n",
    "\n",
    "    for edge in test_samples:\n",
    "        if (edge[0], edge[1]) in list(t_set_red.keys()):\n",
    "            real_test_labels.append(int(t_set_red[(edge[0], edge[1])]))\n",
    "        else:\n",
    "            real_test_labels.append(0)\n",
    "    return real_test_labels"
   ]
  },
  {
   "cell_type": "code",
   "execution_count": 76,
   "metadata": {},
   "outputs": [],
   "source": [
    "real_test_labels = get_true_test_labels(test_samples)"
   ]
  },
  {
   "cell_type": "code",
   "execution_count": 77,
   "metadata": {},
   "outputs": [],
   "source": [
    "def prediction(graph, train_features, test_features, train_labels, test_labels):\n",
    "    \"\"\"\n",
    "    Downstream ML task using edge embeddings to classify them \n",
    "    \"\"\"\n",
    "    \n",
    "    # --- Build the model and train it ---\n",
    "    # Fill in the blanks\n",
    "    clf = LogisticRegression()\n",
    "    clf.fit(train_features, train_labels)\n",
    "\n",
    "    train_preds = clf.predict_proba(train_features)[:, 1]\n",
    "    test_preds = clf.predict_proba(test_features)[:, 1]\n",
    "    labels_pred = clf.predict(test_features)\n",
    "\n",
    "    print(f'Accuracy: {accuracy_score(test_labels, labels_pred)}')\n",
    "    print(f'F1 score: {f1_score(test_labels, labels_pred)}')\n",
    "\n",
    "    # --- Compute Area Under the Receiver Operating Characteristic Curve (ROC AUC) from predictions ---\n",
    "    # Fill in the blanks\n",
    "    fpr, tpr, _ = roc_curve(test_labels, test_preds)\n",
    "    roc_auc = auc(fpr, tpr)\n",
    "    \n",
    "    plt.figure(figsize=(6,6))\n",
    "    plt.plot(fpr, tpr, color='darkred', label='ROC curve (area = %0.3f)' % roc_auc)\n",
    "    plt.plot([0, 1], [0, 1], color='lightgray', linestyle='--')\n",
    "    plt.xlim([0.0, 1.0])\n",
    "    plt.ylim([0.0, 1.05])\n",
    "    plt.xlabel('False Positive Rate')\n",
    "    plt.ylabel('True Positive Rate')\n",
    "    plt.title('Receiver Operating Characteristic Curve')\n",
    "    plt.legend(loc=\"lower right\")\n",
    "    plt.show()\n",
    "    \n",
    "    return roc_auc"
   ]
  },
  {
   "cell_type": "code",
   "execution_count": 78,
   "metadata": {},
   "outputs": [
    {
     "output_type": "stream",
     "name": "stdout",
     "text": [
      "Accuracy: 0.6542712774356545\nF1 score: 0.4306332076452997\n"
     ]
    },
    {
     "output_type": "display_data",
     "data": {
      "text/plain": "<Figure size 432x432 with 1 Axes>",
      "image/svg+xml": "<?xml version=\"1.0\" encoding=\"utf-8\" standalone=\"no\"?>\r\n<!DOCTYPE svg PUBLIC \"-//W3C//DTD SVG 1.1//EN\"\r\n  \"http://www.w3.org/Graphics/SVG/1.1/DTD/svg11.dtd\">\r\n<!-- Created with matplotlib (https://matplotlib.org/) -->\r\n<svg height=\"386.034375pt\" version=\"1.1\" viewBox=\"0 0 393.732813 386.034375\" width=\"393.732813pt\" xmlns=\"http://www.w3.org/2000/svg\" xmlns:xlink=\"http://www.w3.org/1999/xlink\">\r\n <metadata>\r\n  <rdf:RDF xmlns:cc=\"http://creativecommons.org/ns#\" xmlns:dc=\"http://purl.org/dc/elements/1.1/\" xmlns:rdf=\"http://www.w3.org/1999/02/22-rdf-syntax-ns#\">\r\n   <cc:Work>\r\n    <dc:type rdf:resource=\"http://purl.org/dc/dcmitype/StillImage\"/>\r\n    <dc:date>2021-03-16T20:25:37.498976</dc:date>\r\n    <dc:format>image/svg+xml</dc:format>\r\n    <dc:creator>\r\n     <cc:Agent>\r\n      <dc:title>Matplotlib v3.3.2, https://matplotlib.org/</dc:title>\r\n     </cc:Agent>\r\n    </dc:creator>\r\n   </cc:Work>\r\n  </rdf:RDF>\r\n </metadata>\r\n <defs>\r\n  <style type=\"text/css\">*{stroke-linecap:butt;stroke-linejoin:round;}</style>\r\n </defs>\r\n <g id=\"figure_1\">\r\n  <g id=\"patch_1\">\r\n   <path d=\"M 0 386.034375 \r\nL 393.732813 386.034375 \r\nL 393.732813 0 \r\nL 0 0 \r\nz\r\n\" style=\"fill:none;\"/>\r\n  </g>\r\n  <g id=\"axes_1\">\r\n   <g id=\"patch_2\">\r\n    <path d=\"M 43.78125 348.478125 \r\nL 378.58125 348.478125 \r\nL 378.58125 22.318125 \r\nL 43.78125 22.318125 \r\nz\r\n\" style=\"fill:#ffffff;\"/>\r\n   </g>\r\n   <g id=\"matplotlib.axis_1\">\r\n    <g id=\"xtick_1\">\r\n     <g id=\"line2d_1\">\r\n      <defs>\r\n       <path d=\"M 0 0 \r\nL 0 3.5 \r\n\" id=\"m1baa4b812c\" style=\"stroke:#000000;stroke-width:0.8;\"/>\r\n      </defs>\r\n      <g>\r\n       <use style=\"stroke:#000000;stroke-width:0.8;\" x=\"43.78125\" xlink:href=\"#m1baa4b812c\" y=\"348.478125\"/>\r\n      </g>\r\n     </g>\r\n     <g id=\"text_1\">\r\n      <!-- 0.0 -->\r\n      <g transform=\"translate(35.829688 363.076562)scale(0.1 -0.1)\">\r\n       <defs>\r\n        <path d=\"M 31.78125 66.40625 \r\nQ 24.171875 66.40625 20.328125 58.90625 \r\nQ 16.5 51.421875 16.5 36.375 \r\nQ 16.5 21.390625 20.328125 13.890625 \r\nQ 24.171875 6.390625 31.78125 6.390625 \r\nQ 39.453125 6.390625 43.28125 13.890625 \r\nQ 47.125 21.390625 47.125 36.375 \r\nQ 47.125 51.421875 43.28125 58.90625 \r\nQ 39.453125 66.40625 31.78125 66.40625 \r\nz\r\nM 31.78125 74.21875 \r\nQ 44.046875 74.21875 50.515625 64.515625 \r\nQ 56.984375 54.828125 56.984375 36.375 \r\nQ 56.984375 17.96875 50.515625 8.265625 \r\nQ 44.046875 -1.421875 31.78125 -1.421875 \r\nQ 19.53125 -1.421875 13.0625 8.265625 \r\nQ 6.59375 17.96875 6.59375 36.375 \r\nQ 6.59375 54.828125 13.0625 64.515625 \r\nQ 19.53125 74.21875 31.78125 74.21875 \r\nz\r\n\" id=\"DejaVuSans-48\"/>\r\n        <path d=\"M 10.6875 12.40625 \r\nL 21 12.40625 \r\nL 21 0 \r\nL 10.6875 0 \r\nz\r\n\" id=\"DejaVuSans-46\"/>\r\n       </defs>\r\n       <use xlink:href=\"#DejaVuSans-48\"/>\r\n       <use x=\"63.623047\" xlink:href=\"#DejaVuSans-46\"/>\r\n       <use x=\"95.410156\" xlink:href=\"#DejaVuSans-48\"/>\r\n      </g>\r\n     </g>\r\n    </g>\r\n    <g id=\"xtick_2\">\r\n     <g id=\"line2d_2\">\r\n      <g>\r\n       <use style=\"stroke:#000000;stroke-width:0.8;\" x=\"110.74125\" xlink:href=\"#m1baa4b812c\" y=\"348.478125\"/>\r\n      </g>\r\n     </g>\r\n     <g id=\"text_2\">\r\n      <!-- 0.2 -->\r\n      <g transform=\"translate(102.789688 363.076562)scale(0.1 -0.1)\">\r\n       <defs>\r\n        <path d=\"M 19.1875 8.296875 \r\nL 53.609375 8.296875 \r\nL 53.609375 0 \r\nL 7.328125 0 \r\nL 7.328125 8.296875 \r\nQ 12.9375 14.109375 22.625 23.890625 \r\nQ 32.328125 33.6875 34.8125 36.53125 \r\nQ 39.546875 41.84375 41.421875 45.53125 \r\nQ 43.3125 49.21875 43.3125 52.78125 \r\nQ 43.3125 58.59375 39.234375 62.25 \r\nQ 35.15625 65.921875 28.609375 65.921875 \r\nQ 23.96875 65.921875 18.8125 64.3125 \r\nQ 13.671875 62.703125 7.8125 59.421875 \r\nL 7.8125 69.390625 \r\nQ 13.765625 71.78125 18.9375 73 \r\nQ 24.125 74.21875 28.421875 74.21875 \r\nQ 39.75 74.21875 46.484375 68.546875 \r\nQ 53.21875 62.890625 53.21875 53.421875 \r\nQ 53.21875 48.921875 51.53125 44.890625 \r\nQ 49.859375 40.875 45.40625 35.40625 \r\nQ 44.1875 33.984375 37.640625 27.21875 \r\nQ 31.109375 20.453125 19.1875 8.296875 \r\nz\r\n\" id=\"DejaVuSans-50\"/>\r\n       </defs>\r\n       <use xlink:href=\"#DejaVuSans-48\"/>\r\n       <use x=\"63.623047\" xlink:href=\"#DejaVuSans-46\"/>\r\n       <use x=\"95.410156\" xlink:href=\"#DejaVuSans-50\"/>\r\n      </g>\r\n     </g>\r\n    </g>\r\n    <g id=\"xtick_3\">\r\n     <g id=\"line2d_3\">\r\n      <g>\r\n       <use style=\"stroke:#000000;stroke-width:0.8;\" x=\"177.70125\" xlink:href=\"#m1baa4b812c\" y=\"348.478125\"/>\r\n      </g>\r\n     </g>\r\n     <g id=\"text_3\">\r\n      <!-- 0.4 -->\r\n      <g transform=\"translate(169.749688 363.076562)scale(0.1 -0.1)\">\r\n       <defs>\r\n        <path d=\"M 37.796875 64.3125 \r\nL 12.890625 25.390625 \r\nL 37.796875 25.390625 \r\nz\r\nM 35.203125 72.90625 \r\nL 47.609375 72.90625 \r\nL 47.609375 25.390625 \r\nL 58.015625 25.390625 \r\nL 58.015625 17.1875 \r\nL 47.609375 17.1875 \r\nL 47.609375 0 \r\nL 37.796875 0 \r\nL 37.796875 17.1875 \r\nL 4.890625 17.1875 \r\nL 4.890625 26.703125 \r\nz\r\n\" id=\"DejaVuSans-52\"/>\r\n       </defs>\r\n       <use xlink:href=\"#DejaVuSans-48\"/>\r\n       <use x=\"63.623047\" xlink:href=\"#DejaVuSans-46\"/>\r\n       <use x=\"95.410156\" xlink:href=\"#DejaVuSans-52\"/>\r\n      </g>\r\n     </g>\r\n    </g>\r\n    <g id=\"xtick_4\">\r\n     <g id=\"line2d_4\">\r\n      <g>\r\n       <use style=\"stroke:#000000;stroke-width:0.8;\" x=\"244.66125\" xlink:href=\"#m1baa4b812c\" y=\"348.478125\"/>\r\n      </g>\r\n     </g>\r\n     <g id=\"text_4\">\r\n      <!-- 0.6 -->\r\n      <g transform=\"translate(236.709688 363.076562)scale(0.1 -0.1)\">\r\n       <defs>\r\n        <path d=\"M 33.015625 40.375 \r\nQ 26.375 40.375 22.484375 35.828125 \r\nQ 18.609375 31.296875 18.609375 23.390625 \r\nQ 18.609375 15.53125 22.484375 10.953125 \r\nQ 26.375 6.390625 33.015625 6.390625 \r\nQ 39.65625 6.390625 43.53125 10.953125 \r\nQ 47.40625 15.53125 47.40625 23.390625 \r\nQ 47.40625 31.296875 43.53125 35.828125 \r\nQ 39.65625 40.375 33.015625 40.375 \r\nz\r\nM 52.59375 71.296875 \r\nL 52.59375 62.3125 \r\nQ 48.875 64.0625 45.09375 64.984375 \r\nQ 41.3125 65.921875 37.59375 65.921875 \r\nQ 27.828125 65.921875 22.671875 59.328125 \r\nQ 17.53125 52.734375 16.796875 39.40625 \r\nQ 19.671875 43.65625 24.015625 45.921875 \r\nQ 28.375 48.1875 33.59375 48.1875 \r\nQ 44.578125 48.1875 50.953125 41.515625 \r\nQ 57.328125 34.859375 57.328125 23.390625 \r\nQ 57.328125 12.15625 50.6875 5.359375 \r\nQ 44.046875 -1.421875 33.015625 -1.421875 \r\nQ 20.359375 -1.421875 13.671875 8.265625 \r\nQ 6.984375 17.96875 6.984375 36.375 \r\nQ 6.984375 53.65625 15.1875 63.9375 \r\nQ 23.390625 74.21875 37.203125 74.21875 \r\nQ 40.921875 74.21875 44.703125 73.484375 \r\nQ 48.484375 72.75 52.59375 71.296875 \r\nz\r\n\" id=\"DejaVuSans-54\"/>\r\n       </defs>\r\n       <use xlink:href=\"#DejaVuSans-48\"/>\r\n       <use x=\"63.623047\" xlink:href=\"#DejaVuSans-46\"/>\r\n       <use x=\"95.410156\" xlink:href=\"#DejaVuSans-54\"/>\r\n      </g>\r\n     </g>\r\n    </g>\r\n    <g id=\"xtick_5\">\r\n     <g id=\"line2d_5\">\r\n      <g>\r\n       <use style=\"stroke:#000000;stroke-width:0.8;\" x=\"311.62125\" xlink:href=\"#m1baa4b812c\" y=\"348.478125\"/>\r\n      </g>\r\n     </g>\r\n     <g id=\"text_5\">\r\n      <!-- 0.8 -->\r\n      <g transform=\"translate(303.669688 363.076562)scale(0.1 -0.1)\">\r\n       <defs>\r\n        <path d=\"M 31.78125 34.625 \r\nQ 24.75 34.625 20.71875 30.859375 \r\nQ 16.703125 27.09375 16.703125 20.515625 \r\nQ 16.703125 13.921875 20.71875 10.15625 \r\nQ 24.75 6.390625 31.78125 6.390625 \r\nQ 38.8125 6.390625 42.859375 10.171875 \r\nQ 46.921875 13.96875 46.921875 20.515625 \r\nQ 46.921875 27.09375 42.890625 30.859375 \r\nQ 38.875 34.625 31.78125 34.625 \r\nz\r\nM 21.921875 38.8125 \r\nQ 15.578125 40.375 12.03125 44.71875 \r\nQ 8.5 49.078125 8.5 55.328125 \r\nQ 8.5 64.0625 14.71875 69.140625 \r\nQ 20.953125 74.21875 31.78125 74.21875 \r\nQ 42.671875 74.21875 48.875 69.140625 \r\nQ 55.078125 64.0625 55.078125 55.328125 \r\nQ 55.078125 49.078125 51.53125 44.71875 \r\nQ 48 40.375 41.703125 38.8125 \r\nQ 48.828125 37.15625 52.796875 32.3125 \r\nQ 56.78125 27.484375 56.78125 20.515625 \r\nQ 56.78125 9.90625 50.3125 4.234375 \r\nQ 43.84375 -1.421875 31.78125 -1.421875 \r\nQ 19.734375 -1.421875 13.25 4.234375 \r\nQ 6.78125 9.90625 6.78125 20.515625 \r\nQ 6.78125 27.484375 10.78125 32.3125 \r\nQ 14.796875 37.15625 21.921875 38.8125 \r\nz\r\nM 18.3125 54.390625 \r\nQ 18.3125 48.734375 21.84375 45.5625 \r\nQ 25.390625 42.390625 31.78125 42.390625 \r\nQ 38.140625 42.390625 41.71875 45.5625 \r\nQ 45.3125 48.734375 45.3125 54.390625 \r\nQ 45.3125 60.0625 41.71875 63.234375 \r\nQ 38.140625 66.40625 31.78125 66.40625 \r\nQ 25.390625 66.40625 21.84375 63.234375 \r\nQ 18.3125 60.0625 18.3125 54.390625 \r\nz\r\n\" id=\"DejaVuSans-56\"/>\r\n       </defs>\r\n       <use xlink:href=\"#DejaVuSans-48\"/>\r\n       <use x=\"63.623047\" xlink:href=\"#DejaVuSans-46\"/>\r\n       <use x=\"95.410156\" xlink:href=\"#DejaVuSans-56\"/>\r\n      </g>\r\n     </g>\r\n    </g>\r\n    <g id=\"xtick_6\">\r\n     <g id=\"line2d_6\">\r\n      <g>\r\n       <use style=\"stroke:#000000;stroke-width:0.8;\" x=\"378.58125\" xlink:href=\"#m1baa4b812c\" y=\"348.478125\"/>\r\n      </g>\r\n     </g>\r\n     <g id=\"text_6\">\r\n      <!-- 1.0 -->\r\n      <g transform=\"translate(370.629687 363.076562)scale(0.1 -0.1)\">\r\n       <defs>\r\n        <path d=\"M 12.40625 8.296875 \r\nL 28.515625 8.296875 \r\nL 28.515625 63.921875 \r\nL 10.984375 60.40625 \r\nL 10.984375 69.390625 \r\nL 28.421875 72.90625 \r\nL 38.28125 72.90625 \r\nL 38.28125 8.296875 \r\nL 54.390625 8.296875 \r\nL 54.390625 0 \r\nL 12.40625 0 \r\nz\r\n\" id=\"DejaVuSans-49\"/>\r\n       </defs>\r\n       <use xlink:href=\"#DejaVuSans-49\"/>\r\n       <use x=\"63.623047\" xlink:href=\"#DejaVuSans-46\"/>\r\n       <use x=\"95.410156\" xlink:href=\"#DejaVuSans-48\"/>\r\n      </g>\r\n     </g>\r\n    </g>\r\n    <g id=\"text_7\">\r\n     <!-- False Positive Rate -->\r\n     <g transform=\"translate(164.714844 376.754687)scale(0.1 -0.1)\">\r\n      <defs>\r\n       <path d=\"M 9.8125 72.90625 \r\nL 51.703125 72.90625 \r\nL 51.703125 64.59375 \r\nL 19.671875 64.59375 \r\nL 19.671875 43.109375 \r\nL 48.578125 43.109375 \r\nL 48.578125 34.8125 \r\nL 19.671875 34.8125 \r\nL 19.671875 0 \r\nL 9.8125 0 \r\nz\r\n\" id=\"DejaVuSans-70\"/>\r\n       <path d=\"M 34.28125 27.484375 \r\nQ 23.390625 27.484375 19.1875 25 \r\nQ 14.984375 22.515625 14.984375 16.5 \r\nQ 14.984375 11.71875 18.140625 8.90625 \r\nQ 21.296875 6.109375 26.703125 6.109375 \r\nQ 34.1875 6.109375 38.703125 11.40625 \r\nQ 43.21875 16.703125 43.21875 25.484375 \r\nL 43.21875 27.484375 \r\nz\r\nM 52.203125 31.203125 \r\nL 52.203125 0 \r\nL 43.21875 0 \r\nL 43.21875 8.296875 \r\nQ 40.140625 3.328125 35.546875 0.953125 \r\nQ 30.953125 -1.421875 24.3125 -1.421875 \r\nQ 15.921875 -1.421875 10.953125 3.296875 \r\nQ 6 8.015625 6 15.921875 \r\nQ 6 25.140625 12.171875 29.828125 \r\nQ 18.359375 34.515625 30.609375 34.515625 \r\nL 43.21875 34.515625 \r\nL 43.21875 35.40625 \r\nQ 43.21875 41.609375 39.140625 45 \r\nQ 35.0625 48.390625 27.6875 48.390625 \r\nQ 23 48.390625 18.546875 47.265625 \r\nQ 14.109375 46.140625 10.015625 43.890625 \r\nL 10.015625 52.203125 \r\nQ 14.9375 54.109375 19.578125 55.046875 \r\nQ 24.21875 56 28.609375 56 \r\nQ 40.484375 56 46.34375 49.84375 \r\nQ 52.203125 43.703125 52.203125 31.203125 \r\nz\r\n\" id=\"DejaVuSans-97\"/>\r\n       <path d=\"M 9.421875 75.984375 \r\nL 18.40625 75.984375 \r\nL 18.40625 0 \r\nL 9.421875 0 \r\nz\r\n\" id=\"DejaVuSans-108\"/>\r\n       <path d=\"M 44.28125 53.078125 \r\nL 44.28125 44.578125 \r\nQ 40.484375 46.53125 36.375 47.5 \r\nQ 32.28125 48.484375 27.875 48.484375 \r\nQ 21.1875 48.484375 17.84375 46.4375 \r\nQ 14.5 44.390625 14.5 40.28125 \r\nQ 14.5 37.15625 16.890625 35.375 \r\nQ 19.28125 33.59375 26.515625 31.984375 \r\nL 29.59375 31.296875 \r\nQ 39.15625 29.25 43.1875 25.515625 \r\nQ 47.21875 21.78125 47.21875 15.09375 \r\nQ 47.21875 7.46875 41.1875 3.015625 \r\nQ 35.15625 -1.421875 24.609375 -1.421875 \r\nQ 20.21875 -1.421875 15.453125 -0.5625 \r\nQ 10.6875 0.296875 5.421875 2 \r\nL 5.421875 11.28125 \r\nQ 10.40625 8.6875 15.234375 7.390625 \r\nQ 20.0625 6.109375 24.8125 6.109375 \r\nQ 31.15625 6.109375 34.5625 8.28125 \r\nQ 37.984375 10.453125 37.984375 14.40625 \r\nQ 37.984375 18.0625 35.515625 20.015625 \r\nQ 33.0625 21.96875 24.703125 23.78125 \r\nL 21.578125 24.515625 \r\nQ 13.234375 26.265625 9.515625 29.90625 \r\nQ 5.8125 33.546875 5.8125 39.890625 \r\nQ 5.8125 47.609375 11.28125 51.796875 \r\nQ 16.75 56 26.8125 56 \r\nQ 31.78125 56 36.171875 55.265625 \r\nQ 40.578125 54.546875 44.28125 53.078125 \r\nz\r\n\" id=\"DejaVuSans-115\"/>\r\n       <path d=\"M 56.203125 29.59375 \r\nL 56.203125 25.203125 \r\nL 14.890625 25.203125 \r\nQ 15.484375 15.921875 20.484375 11.0625 \r\nQ 25.484375 6.203125 34.421875 6.203125 \r\nQ 39.59375 6.203125 44.453125 7.46875 \r\nQ 49.3125 8.734375 54.109375 11.28125 \r\nL 54.109375 2.78125 \r\nQ 49.265625 0.734375 44.1875 -0.34375 \r\nQ 39.109375 -1.421875 33.890625 -1.421875 \r\nQ 20.796875 -1.421875 13.15625 6.1875 \r\nQ 5.515625 13.8125 5.515625 26.8125 \r\nQ 5.515625 40.234375 12.765625 48.109375 \r\nQ 20.015625 56 32.328125 56 \r\nQ 43.359375 56 49.78125 48.890625 \r\nQ 56.203125 41.796875 56.203125 29.59375 \r\nz\r\nM 47.21875 32.234375 \r\nQ 47.125 39.59375 43.09375 43.984375 \r\nQ 39.0625 48.390625 32.421875 48.390625 \r\nQ 24.90625 48.390625 20.390625 44.140625 \r\nQ 15.875 39.890625 15.1875 32.171875 \r\nz\r\n\" id=\"DejaVuSans-101\"/>\r\n       <path id=\"DejaVuSans-32\"/>\r\n       <path d=\"M 19.671875 64.796875 \r\nL 19.671875 37.40625 \r\nL 32.078125 37.40625 \r\nQ 38.96875 37.40625 42.71875 40.96875 \r\nQ 46.484375 44.53125 46.484375 51.125 \r\nQ 46.484375 57.671875 42.71875 61.234375 \r\nQ 38.96875 64.796875 32.078125 64.796875 \r\nz\r\nM 9.8125 72.90625 \r\nL 32.078125 72.90625 \r\nQ 44.34375 72.90625 50.609375 67.359375 \r\nQ 56.890625 61.8125 56.890625 51.125 \r\nQ 56.890625 40.328125 50.609375 34.8125 \r\nQ 44.34375 29.296875 32.078125 29.296875 \r\nL 19.671875 29.296875 \r\nL 19.671875 0 \r\nL 9.8125 0 \r\nz\r\n\" id=\"DejaVuSans-80\"/>\r\n       <path d=\"M 30.609375 48.390625 \r\nQ 23.390625 48.390625 19.1875 42.75 \r\nQ 14.984375 37.109375 14.984375 27.296875 \r\nQ 14.984375 17.484375 19.15625 11.84375 \r\nQ 23.34375 6.203125 30.609375 6.203125 \r\nQ 37.796875 6.203125 41.984375 11.859375 \r\nQ 46.1875 17.53125 46.1875 27.296875 \r\nQ 46.1875 37.015625 41.984375 42.703125 \r\nQ 37.796875 48.390625 30.609375 48.390625 \r\nz\r\nM 30.609375 56 \r\nQ 42.328125 56 49.015625 48.375 \r\nQ 55.71875 40.765625 55.71875 27.296875 \r\nQ 55.71875 13.875 49.015625 6.21875 \r\nQ 42.328125 -1.421875 30.609375 -1.421875 \r\nQ 18.84375 -1.421875 12.171875 6.21875 \r\nQ 5.515625 13.875 5.515625 27.296875 \r\nQ 5.515625 40.765625 12.171875 48.375 \r\nQ 18.84375 56 30.609375 56 \r\nz\r\n\" id=\"DejaVuSans-111\"/>\r\n       <path d=\"M 9.421875 54.6875 \r\nL 18.40625 54.6875 \r\nL 18.40625 0 \r\nL 9.421875 0 \r\nz\r\nM 9.421875 75.984375 \r\nL 18.40625 75.984375 \r\nL 18.40625 64.59375 \r\nL 9.421875 64.59375 \r\nz\r\n\" id=\"DejaVuSans-105\"/>\r\n       <path d=\"M 18.3125 70.21875 \r\nL 18.3125 54.6875 \r\nL 36.8125 54.6875 \r\nL 36.8125 47.703125 \r\nL 18.3125 47.703125 \r\nL 18.3125 18.015625 \r\nQ 18.3125 11.328125 20.140625 9.421875 \r\nQ 21.96875 7.515625 27.59375 7.515625 \r\nL 36.8125 7.515625 \r\nL 36.8125 0 \r\nL 27.59375 0 \r\nQ 17.1875 0 13.234375 3.875 \r\nQ 9.28125 7.765625 9.28125 18.015625 \r\nL 9.28125 47.703125 \r\nL 2.6875 47.703125 \r\nL 2.6875 54.6875 \r\nL 9.28125 54.6875 \r\nL 9.28125 70.21875 \r\nz\r\n\" id=\"DejaVuSans-116\"/>\r\n       <path d=\"M 2.984375 54.6875 \r\nL 12.5 54.6875 \r\nL 29.59375 8.796875 \r\nL 46.6875 54.6875 \r\nL 56.203125 54.6875 \r\nL 35.6875 0 \r\nL 23.484375 0 \r\nz\r\n\" id=\"DejaVuSans-118\"/>\r\n       <path d=\"M 44.390625 34.1875 \r\nQ 47.5625 33.109375 50.5625 29.59375 \r\nQ 53.5625 26.078125 56.59375 19.921875 \r\nL 66.609375 0 \r\nL 56 0 \r\nL 46.6875 18.703125 \r\nQ 43.0625 26.03125 39.671875 28.421875 \r\nQ 36.28125 30.8125 30.421875 30.8125 \r\nL 19.671875 30.8125 \r\nL 19.671875 0 \r\nL 9.8125 0 \r\nL 9.8125 72.90625 \r\nL 32.078125 72.90625 \r\nQ 44.578125 72.90625 50.734375 67.671875 \r\nQ 56.890625 62.453125 56.890625 51.90625 \r\nQ 56.890625 45.015625 53.6875 40.46875 \r\nQ 50.484375 35.9375 44.390625 34.1875 \r\nz\r\nM 19.671875 64.796875 \r\nL 19.671875 38.921875 \r\nL 32.078125 38.921875 \r\nQ 39.203125 38.921875 42.84375 42.21875 \r\nQ 46.484375 45.515625 46.484375 51.90625 \r\nQ 46.484375 58.296875 42.84375 61.546875 \r\nQ 39.203125 64.796875 32.078125 64.796875 \r\nz\r\n\" id=\"DejaVuSans-82\"/>\r\n      </defs>\r\n      <use xlink:href=\"#DejaVuSans-70\"/>\r\n      <use x=\"48.394531\" xlink:href=\"#DejaVuSans-97\"/>\r\n      <use x=\"109.673828\" xlink:href=\"#DejaVuSans-108\"/>\r\n      <use x=\"137.457031\" xlink:href=\"#DejaVuSans-115\"/>\r\n      <use x=\"189.556641\" xlink:href=\"#DejaVuSans-101\"/>\r\n      <use x=\"251.080078\" xlink:href=\"#DejaVuSans-32\"/>\r\n      <use x=\"282.867188\" xlink:href=\"#DejaVuSans-80\"/>\r\n      <use x=\"339.544922\" xlink:href=\"#DejaVuSans-111\"/>\r\n      <use x=\"400.726562\" xlink:href=\"#DejaVuSans-115\"/>\r\n      <use x=\"452.826172\" xlink:href=\"#DejaVuSans-105\"/>\r\n      <use x=\"480.609375\" xlink:href=\"#DejaVuSans-116\"/>\r\n      <use x=\"519.818359\" xlink:href=\"#DejaVuSans-105\"/>\r\n      <use x=\"547.601562\" xlink:href=\"#DejaVuSans-118\"/>\r\n      <use x=\"606.78125\" xlink:href=\"#DejaVuSans-101\"/>\r\n      <use x=\"668.304688\" xlink:href=\"#DejaVuSans-32\"/>\r\n      <use x=\"700.091797\" xlink:href=\"#DejaVuSans-82\"/>\r\n      <use x=\"767.324219\" xlink:href=\"#DejaVuSans-97\"/>\r\n      <use x=\"828.603516\" xlink:href=\"#DejaVuSans-116\"/>\r\n      <use x=\"867.8125\" xlink:href=\"#DejaVuSans-101\"/>\r\n     </g>\r\n    </g>\r\n   </g>\r\n   <g id=\"matplotlib.axis_2\">\r\n    <g id=\"ytick_1\">\r\n     <g id=\"line2d_7\">\r\n      <defs>\r\n       <path d=\"M 0 0 \r\nL -3.5 0 \r\n\" id=\"m34172af2f2\" style=\"stroke:#000000;stroke-width:0.8;\"/>\r\n      </defs>\r\n      <g>\r\n       <use style=\"stroke:#000000;stroke-width:0.8;\" x=\"43.78125\" xlink:href=\"#m34172af2f2\" y=\"348.478125\"/>\r\n      </g>\r\n     </g>\r\n     <g id=\"text_8\">\r\n      <!-- 0.0 -->\r\n      <g transform=\"translate(20.878125 352.277344)scale(0.1 -0.1)\">\r\n       <use xlink:href=\"#DejaVuSans-48\"/>\r\n       <use x=\"63.623047\" xlink:href=\"#DejaVuSans-46\"/>\r\n       <use x=\"95.410156\" xlink:href=\"#DejaVuSans-48\"/>\r\n      </g>\r\n     </g>\r\n    </g>\r\n    <g id=\"ytick_2\">\r\n     <g id=\"line2d_8\">\r\n      <g>\r\n       <use style=\"stroke:#000000;stroke-width:0.8;\" x=\"43.78125\" xlink:href=\"#m34172af2f2\" y=\"286.352411\"/>\r\n      </g>\r\n     </g>\r\n     <g id=\"text_9\">\r\n      <!-- 0.2 -->\r\n      <g transform=\"translate(20.878125 290.151629)scale(0.1 -0.1)\">\r\n       <use xlink:href=\"#DejaVuSans-48\"/>\r\n       <use x=\"63.623047\" xlink:href=\"#DejaVuSans-46\"/>\r\n       <use x=\"95.410156\" xlink:href=\"#DejaVuSans-50\"/>\r\n      </g>\r\n     </g>\r\n    </g>\r\n    <g id=\"ytick_3\">\r\n     <g id=\"line2d_9\">\r\n      <g>\r\n       <use style=\"stroke:#000000;stroke-width:0.8;\" x=\"43.78125\" xlink:href=\"#m34172af2f2\" y=\"224.226696\"/>\r\n      </g>\r\n     </g>\r\n     <g id=\"text_10\">\r\n      <!-- 0.4 -->\r\n      <g transform=\"translate(20.878125 228.025915)scale(0.1 -0.1)\">\r\n       <use xlink:href=\"#DejaVuSans-48\"/>\r\n       <use x=\"63.623047\" xlink:href=\"#DejaVuSans-46\"/>\r\n       <use x=\"95.410156\" xlink:href=\"#DejaVuSans-52\"/>\r\n      </g>\r\n     </g>\r\n    </g>\r\n    <g id=\"ytick_4\">\r\n     <g id=\"line2d_10\">\r\n      <g>\r\n       <use style=\"stroke:#000000;stroke-width:0.8;\" x=\"43.78125\" xlink:href=\"#m34172af2f2\" y=\"162.100982\"/>\r\n      </g>\r\n     </g>\r\n     <g id=\"text_11\">\r\n      <!-- 0.6 -->\r\n      <g transform=\"translate(20.878125 165.900201)scale(0.1 -0.1)\">\r\n       <use xlink:href=\"#DejaVuSans-48\"/>\r\n       <use x=\"63.623047\" xlink:href=\"#DejaVuSans-46\"/>\r\n       <use x=\"95.410156\" xlink:href=\"#DejaVuSans-54\"/>\r\n      </g>\r\n     </g>\r\n    </g>\r\n    <g id=\"ytick_5\">\r\n     <g id=\"line2d_11\">\r\n      <g>\r\n       <use style=\"stroke:#000000;stroke-width:0.8;\" x=\"43.78125\" xlink:href=\"#m34172af2f2\" y=\"99.975268\"/>\r\n      </g>\r\n     </g>\r\n     <g id=\"text_12\">\r\n      <!-- 0.8 -->\r\n      <g transform=\"translate(20.878125 103.774487)scale(0.1 -0.1)\">\r\n       <use xlink:href=\"#DejaVuSans-48\"/>\r\n       <use x=\"63.623047\" xlink:href=\"#DejaVuSans-46\"/>\r\n       <use x=\"95.410156\" xlink:href=\"#DejaVuSans-56\"/>\r\n      </g>\r\n     </g>\r\n    </g>\r\n    <g id=\"ytick_6\">\r\n     <g id=\"line2d_12\">\r\n      <g>\r\n       <use style=\"stroke:#000000;stroke-width:0.8;\" x=\"43.78125\" xlink:href=\"#m34172af2f2\" y=\"37.849554\"/>\r\n      </g>\r\n     </g>\r\n     <g id=\"text_13\">\r\n      <!-- 1.0 -->\r\n      <g transform=\"translate(20.878125 41.648772)scale(0.1 -0.1)\">\r\n       <use xlink:href=\"#DejaVuSans-49\"/>\r\n       <use x=\"63.623047\" xlink:href=\"#DejaVuSans-46\"/>\r\n       <use x=\"95.410156\" xlink:href=\"#DejaVuSans-48\"/>\r\n      </g>\r\n     </g>\r\n    </g>\r\n    <g id=\"text_14\">\r\n     <!-- True Positive Rate -->\r\n     <g transform=\"translate(14.798438 229.927812)rotate(-90)scale(0.1 -0.1)\">\r\n      <defs>\r\n       <path d=\"M -0.296875 72.90625 \r\nL 61.375 72.90625 \r\nL 61.375 64.59375 \r\nL 35.5 64.59375 \r\nL 35.5 0 \r\nL 25.59375 0 \r\nL 25.59375 64.59375 \r\nL -0.296875 64.59375 \r\nz\r\n\" id=\"DejaVuSans-84\"/>\r\n       <path d=\"M 41.109375 46.296875 \r\nQ 39.59375 47.171875 37.8125 47.578125 \r\nQ 36.03125 48 33.890625 48 \r\nQ 26.265625 48 22.1875 43.046875 \r\nQ 18.109375 38.09375 18.109375 28.8125 \r\nL 18.109375 0 \r\nL 9.078125 0 \r\nL 9.078125 54.6875 \r\nL 18.109375 54.6875 \r\nL 18.109375 46.1875 \r\nQ 20.953125 51.171875 25.484375 53.578125 \r\nQ 30.03125 56 36.53125 56 \r\nQ 37.453125 56 38.578125 55.875 \r\nQ 39.703125 55.765625 41.0625 55.515625 \r\nz\r\n\" id=\"DejaVuSans-114\"/>\r\n       <path d=\"M 8.5 21.578125 \r\nL 8.5 54.6875 \r\nL 17.484375 54.6875 \r\nL 17.484375 21.921875 \r\nQ 17.484375 14.15625 20.5 10.265625 \r\nQ 23.53125 6.390625 29.59375 6.390625 \r\nQ 36.859375 6.390625 41.078125 11.03125 \r\nQ 45.3125 15.671875 45.3125 23.6875 \r\nL 45.3125 54.6875 \r\nL 54.296875 54.6875 \r\nL 54.296875 0 \r\nL 45.3125 0 \r\nL 45.3125 8.40625 \r\nQ 42.046875 3.421875 37.71875 1 \r\nQ 33.40625 -1.421875 27.6875 -1.421875 \r\nQ 18.265625 -1.421875 13.375 4.4375 \r\nQ 8.5 10.296875 8.5 21.578125 \r\nz\r\nM 31.109375 56 \r\nz\r\n\" id=\"DejaVuSans-117\"/>\r\n      </defs>\r\n      <use xlink:href=\"#DejaVuSans-84\"/>\r\n      <use x=\"46.333984\" xlink:href=\"#DejaVuSans-114\"/>\r\n      <use x=\"87.447266\" xlink:href=\"#DejaVuSans-117\"/>\r\n      <use x=\"150.826172\" xlink:href=\"#DejaVuSans-101\"/>\r\n      <use x=\"212.349609\" xlink:href=\"#DejaVuSans-32\"/>\r\n      <use x=\"244.136719\" xlink:href=\"#DejaVuSans-80\"/>\r\n      <use x=\"300.814453\" xlink:href=\"#DejaVuSans-111\"/>\r\n      <use x=\"361.996094\" xlink:href=\"#DejaVuSans-115\"/>\r\n      <use x=\"414.095703\" xlink:href=\"#DejaVuSans-105\"/>\r\n      <use x=\"441.878906\" xlink:href=\"#DejaVuSans-116\"/>\r\n      <use x=\"481.087891\" xlink:href=\"#DejaVuSans-105\"/>\r\n      <use x=\"508.871094\" xlink:href=\"#DejaVuSans-118\"/>\r\n      <use x=\"568.050781\" xlink:href=\"#DejaVuSans-101\"/>\r\n      <use x=\"629.574219\" xlink:href=\"#DejaVuSans-32\"/>\r\n      <use x=\"661.361328\" xlink:href=\"#DejaVuSans-82\"/>\r\n      <use x=\"728.59375\" xlink:href=\"#DejaVuSans-97\"/>\r\n      <use x=\"789.873047\" xlink:href=\"#DejaVuSans-116\"/>\r\n      <use x=\"829.082031\" xlink:href=\"#DejaVuSans-101\"/>\r\n     </g>\r\n    </g>\r\n   </g>\r\n   <g id=\"line2d_13\">\r\n    <path clip-path=\"url(#p9fec4952f5)\" d=\"M 43.78125 348.478125 \r\nL 45.938423 347.568857 \r\nL 46.241776 347.568857 \r\nL 46.241776 347.455199 \r\nL 46.342893 347.455199 \r\nL 46.511422 347.455199 \r\nL 46.814775 347.000565 \r\nL 46.882186 346.432273 \r\nL 46.915892 346.432273 \r\nL 47.050715 346.432273 \r\nL 47.151833 346.091297 \r\nL 47.320362 346.091297 \r\nL 47.320362 345.86398 \r\nL 48.365243 345.86398 \r\nL 48.803419 345.523005 \r\nL 49.005654 345.523005 \r\nL 49.005654 345.409347 \r\nL 49.207888 345.409347 \r\nL 49.207888 345.295688 \r\nL 49.2753 345.295688 \r\nL 49.376418 345.295688 \r\nL 49.443829 344.954713 \r\nL 50.421298 344.954713 \r\nL 50.48871 344.613737 \r\nL 50.589827 344.613737 \r\nL 50.657239 344.272762 \r\nL 51.028003 344.272762 \r\nL 51.162827 344.159104 \r\nL 51.263944 344.159104 \r\nL 51.263944 344.045445 \r\nL 51.29765 344.045445 \r\nL 51.499885 344.045445 \r\nL 51.533591 343.590811 \r\nL 51.70212 343.590811 \r\nL 51.70212 343.477153 \r\nL 51.803237 343.477153 \r\nL 51.870649 343.477153 \r\nL 51.938061 343.022519 \r\nL 52.005472 343.022519 \r\nL 52.10659 342.795202 \r\nL 52.174001 342.795202 \r\nL 52.443648 342.22691 \r\nL 52.477354 342.22691 \r\nL 52.477354 342.113251 \r\nL 53.084059 342.113251 \r\nL 53.15147 341.772276 \r\nL 53.218882 341.772276 \r\nL 53.55594 341.4313 \r\nL 53.926705 341.4313 \r\nL 53.994116 341.203984 \r\nL 54.061528 341.203984 \r\nL 54.12894 340.74935 \r\nL 54.230057 340.74935 \r\nL 54.263763 340.294716 \r\nL 54.297469 340.294716 \r\nL 54.432292 340.294716 \r\nL 54.465998 339.95374 \r\nL 54.634527 339.95374 \r\nL 54.634527 339.726424 \r\nL 54.701939 339.726424 \r\nL 54.76935 339.726424 \r\nL 54.836762 339.27179 \r\nL 55.038997 339.27179 \r\nL 55.140114 338.930814 \r\nL 55.308644 338.930814 \r\nL 55.342349 338.476181 \r\nL 55.443467 338.476181 \r\nL 55.443467 338.362522 \r\nL 55.477173 338.362522 \r\nL 55.780525 338.362522 \r\nL 55.881643 337.907888 \r\nL 55.949054 337.907888 \r\nL 55.949054 337.680571 \r\nL 56.083878 337.680571 \r\nL 56.184995 336.998621 \r\nL 56.252407 336.998621 \r\nL 56.319818 336.771304 \r\nL 56.454642 336.771304 \r\nL 56.454642 335.634719 \r\nL 56.522053 335.634719 \r\nL 56.757994 335.634719 \r\nL 56.825406 335.407402 \r\nL 57.027641 335.407402 \r\nL 57.095052 334.952768 \r\nL 57.263582 334.952768 \r\nL 57.398405 334.725451 \r\nL 57.465817 334.725451 \r\nL 57.533228 334.384476 \r\nL 57.60064 334.384476 \r\nL 57.769169 333.816184 \r\nL 57.903992 333.816184 \r\nL 57.971404 333.475208 \r\nL 58.038816 333.475208 \r\nL 58.139933 333.020574 \r\nL 58.207345 333.020574 \r\nL 58.308462 332.679599 \r\nL 58.375874 332.679599 \r\nL 58.443286 332.111307 \r\nL 58.578109 332.111307 \r\nL 58.645521 331.88399 \r\nL 58.712932 331.88399 \r\nL 58.780344 331.315698 \r\nL 58.915167 331.315698 \r\nL 58.982579 330.40643 \r\nL 59.21852 330.40643 \r\nL 59.285931 330.065454 \r\nL 59.353343 330.065454 \r\nL 59.454461 329.724479 \r\nL 59.656695 329.724479 \r\nL 59.656695 329.610821 \r\nL 59.757813 329.610821 \r\nL 60.499341 329.610821 \r\nL 60.499341 329.497162 \r\nL 60.566753 329.497162 \r\nL 60.634165 329.497162 \r\nL 60.735282 329.156187 \r\nL 60.802694 329.156187 \r\nL 60.903811 328.587894 \r\nL 61.173458 328.019602 \r\nL 61.443104 328.019602 \r\nL 61.544222 327.678627 \r\nL 61.577928 327.678627 \r\nL 61.679045 327.223993 \r\nL 61.712751 327.223993 \r\nL 61.780163 326.769359 \r\nL 61.948692 326.769359 \r\nL 62.049809 326.428384 \r\nL 62.117221 326.428384 \r\nL 62.117221 326.314725 \r\nL 62.252044 326.314725 \r\nL 62.319456 325.860091 \r\nL 62.386868 325.860091 \r\nL 62.454279 325.519116 \r\nL 62.521691 325.519116 \r\nL 62.555397 325.291799 \r\nL 62.892455 325.291799 \r\nL 62.993573 324.950824 \r\nL 63.195808 324.950824 \r\nL 63.364337 324.723507 \r\nL 63.431748 324.723507 \r\nL 63.49916 324.382531 \r\nL 63.532866 324.382531 \r\nL 63.600277 324.268873 \r\nL 63.701395 324.268873 \r\nL 63.701395 324.155215 \r\nL 63.768807 324.155215 \r\nL 63.836218 324.155215 \r\nL 63.90363 323.586922 \r\nL 63.937336 323.586922 \r\nL 64.004747 323.245947 \r\nL 64.072159 322.791313 \r\nL 64.105865 322.791313 \r\nL 64.173277 322.791313 \r\nL 64.173277 322.563996 \r\nL 64.206982 322.563996 \r\nL 64.409217 322.563996 \r\nL 64.510335 322.109362 \r\nL 64.611452 322.109362 \r\nL 64.71257 321.654728 \r\nL 64.779982 321.654728 \r\nL 64.881099 320.745461 \r\nL 64.982216 320.745461 \r\nL 65.083334 320.404485 \r\nL 65.218157 320.177168 \r\nL 65.420392 320.177168 \r\nL 65.420392 319.836193 \r\nL 65.487804 319.836193 \r\nL 65.757451 319.040584 \r\nL 66.16192 319.040584 \r\nL 66.263038 318.472292 \r\nL 66.296744 318.472292 \r\nL 66.802331 317.10839 \r\nL 66.869743 317.10839 \r\nL 66.97086 316.426439 \r\nL 67.240507 316.426439 \r\nL 67.240507 315.971805 \r\nL 67.307919 315.971805 \r\nL 67.442742 315.971805 \r\nL 67.510154 315.744488 \r\nL 67.644977 315.744488 \r\nL 67.678683 315.289855 \r\nL 68.285388 315.289855 \r\nL 68.285388 315.176196 \r\nL 68.352799 315.176196 \r\nL 68.521329 315.176196 \r\nL 68.521329 315.062538 \r\nL 68.555034 315.062538 \r\nL 68.757269 314.721562 \r\nL 68.824681 314.380587 \r\nL 68.892093 314.380587 \r\nL 68.959504 313.698636 \r\nL 68.99321 313.698636 \r\nL 69.262857 313.698636 \r\nL 69.363974 313.244002 \r\nL 69.80215 313.244002 \r\nL 69.869562 312.67571 \r\nL 70.004385 312.67571 \r\nL 70.038091 312.334735 \r\nL 70.071797 312.334735 \r\nL 70.240326 312.334735 \r\nL 70.307737 312.221076 \r\nL 70.307737 311.993759 \r\nL 70.408855 311.993759 \r\nL 70.847031 310.743516 \r\nL 71.01556 310.743516 \r\nL 71.01556 310.629858 \r\nL 71.049266 310.629858 \r\nL 71.386324 309.947907 \r\nL 71.42003 309.72059 \r\nL 71.588559 309.72059 \r\nL 71.689676 309.265956 \r\nL 71.723382 309.265956 \r\nL 71.723382 309.152298 \r\nL 71.8245 309.152298 \r\nL 71.858206 309.152298 \r\nL 71.959323 309.038639 \r\nL 72.026735 309.038639 \r\nL 72.195264 308.811322 \r\nL 72.262676 308.697664 \r\nL 72.397499 308.697664 \r\nL 72.498616 308.356689 \r\nL 72.532322 308.356689 \r\nL 72.532322 308.129372 \r\nL 72.599734 308.129372 \r\nL 72.734557 308.129372 \r\nL 72.734557 308.015713 \r\nL 72.768263 308.015713 \r\nL 73.139027 307.447421 \r\nL 73.307556 307.447421 \r\nL 73.476085 307.220104 \r\nL 73.914261 305.515227 \r\nL 73.981673 304.946935 \r\nL 74.015379 304.946935 \r\nL 74.150202 304.492301 \r\nL 74.150202 304.151326 \r\nL 74.285025 304.151326 \r\nL 74.386143 303.696692 \r\nL 74.453554 303.696692 \r\nL 74.48726 303.014741 \r\nL 74.554672 303.014741 \r\nL 74.89173 302.446449 \r\nL 75.127671 302.446449 \r\nL 75.228789 301.878156 \r\nL 75.363612 301.878156 \r\nL 75.431023 301.423523 \r\nL 75.565847 301.423523 \r\nL 75.565847 301.309864 \r\nL 75.599553 301.309864 \r\nL 75.734376 301.309864 \r\nL 76.172552 299.945963 \r\nL 76.374787 299.945963 \r\nL 76.644433 299.718646 \r\nL 76.678139 299.150353 \r\nL 76.779257 299.150353 \r\nL 76.880374 297.90011 \r\nL 76.91408 297.90011 \r\nL 76.981492 296.990843 \r\nL 77.150021 296.763526 \r\nL 77.217432 296.536209 \r\nL 77.352256 296.42255 \r\nL 77.419667 295.967916 \r\nL 77.487079 295.967916 \r\nL 77.487079 295.854258 \r\nL 77.588197 295.854258 \r\nL 77.790432 295.854258 \r\nL 77.824137 295.7406 \r\nL 77.992666 295.7406 \r\nL 78.093784 294.94499 \r\nL 78.12749 294.94499 \r\nL 78.262313 294.490356 \r\nL 78.329725 294.490356 \r\nL 78.329725 294.376698 \r\nL 78.430842 294.376698 \r\nL 78.53196 294.376698 \r\nL 78.565666 294.26304 \r\nL 78.734195 294.26304 \r\nL 78.734195 294.149381 \r\nL 78.869018 294.149381 \r\nL 78.970136 293.694747 \r\nL 79.037547 293.694747 \r\nL 79.104959 292.78548 \r\nL 79.239782 292.78548 \r\nL 79.273488 292.558163 \r\nL 79.307194 292.558163 \r\nL 79.408311 292.330846 \r\nL 79.610546 292.330846 \r\nL 79.779075 292.103529 \r\nL 79.913899 291.648895 \r\nL 80.116134 291.194261 \r\nL 80.520604 291.194261 \r\nL 80.621721 291.080603 \r\nL 80.621721 289.375726 \r\nL 80.655427 289.375726 \r\nL 80.857662 289.375726 \r\nL 80.857662 289.262067 \r\nL 81.059897 289.262067 \r\nL 81.363249 287.898166 \r\nL 81.59919 287.898166 \r\nL 81.700308 287.784507 \r\nL 81.902543 286.988898 \r\nL 82.071072 286.87524 \r\nL 82.340718 285.852313 \r\nL 82.40813 285.852313 \r\nL 82.441836 285.284021 \r\nL 82.542953 285.284021 \r\nL 82.576659 285.170363 \r\nL 82.745188 285.056704 \r\nL 83.014835 284.488412 \r\nL 83.318187 284.261095 \r\nL 83.453011 284.261095 \r\nL 83.688952 283.92012 \r\nL 83.722657 283.92012 \r\nL 83.992304 283.010852 \r\nL 84.127127 283.010852 \r\nL 84.127127 282.44256 \r\nL 84.160833 282.44256 \r\nL 84.531597 281.987926 \r\nL 84.700126 280.851341 \r\nL 84.733832 280.851341 \r\nL 84.83495 280.283049 \r\nL 84.868656 280.283049 \r\nL 84.868656 279.828415 \r\nL 84.936067 279.828415 \r\nL 85.205714 279.828415 \r\nL 85.205714 279.032806 \r\nL 85.306831 279.032806 \r\nL 85.407949 279.032806 \r\nL 85.610184 278.805489 \r\nL 85.64389 278.578172 \r\nL 85.980948 278.464514 \r\nL 86.04836 278.123538 \r\nL 86.082065 278.123538 \r\nL 86.2843 277.782563 \r\nL 86.45283 277.441587 \r\nL 86.45283 276.873295 \r\nL 86.520241 276.873295 \r\nL 86.621359 276.759637 \r\nL 87.126946 276.53232 \r\nL 87.160652 276.077686 \r\nL 87.329181 275.964027 \r\nL 87.49771 275.509394 \r\nL 87.598828 275.282077 \r\nL 87.733651 275.282077 \r\nL 87.935886 275.168418 \r\nL 88.138121 272.895249 \r\nL 88.576297 272.895249 \r\nL 88.576297 272.667932 \r\nL 88.744826 272.667932 \r\nL 88.744826 272.554274 \r\nL 88.947061 272.554274 \r\nL 88.980767 272.09964 \r\nL 89.048178 272.09964 \r\nL 89.183002 271.872323 \r\nL 89.385237 271.872323 \r\nL 89.621178 271.645006 \r\nL 90.160471 271.531348 \r\nL 90.463823 270.394763 \r\nL 90.598647 270.281104 \r\nL 90.598647 270.053788 \r\nL 91.036822 270.053788 \r\nL 91.13794 269.940129 \r\nL 91.239057 269.599154 \r\nL 91.677233 269.599154 \r\nL 91.812056 269.485495 \r\nL 92.081703 269.030861 \r\nL 92.115409 268.689886 \r\nL 92.149115 268.689886 \r\nL 92.620996 268.462569 \r\nL 92.890643 268.121594 \r\nL 92.99176 267.098668 \r\nL 93.16029 267.098668 \r\nL 93.56476 266.985009 \r\nL 93.8007 266.416717 \r\nL 93.868112 265.848425 \r\nL 94.070347 265.848425 \r\nL 94.272582 265.507449 \r\nL 94.441111 265.507449 \r\nL 94.643346 265.393791 \r\nL 94.778169 264.71184 \r\nL 94.845581 264.71184 \r\nL 94.845581 264.598181 \r\nL 94.879287 264.598181 \r\nL 95.047816 264.484523 \r\nL 95.721933 264.370865 \r\nL 96.092697 263.688914 \r\nL 96.092697 263.006963 \r\nL 96.193814 263.006963 \r\nL 96.429755 263.006963 \r\nL 96.497167 261.529403 \r\nL 96.766813 261.415745 \r\nL 96.969048 260.620135 \r\nL 97.339812 259.369892 \r\nL 97.811694 259.028917 \r\nL 97.811694 258.460625 \r\nL 97.879106 258.460625 \r\nL 98.013929 258.233308 \r\nL 98.283576 258.119649 \r\nL 98.620634 257.778674 \r\nL 98.991398 257.210382 \r\nL 99.261045 255.732822 \r\nL 99.766632 255.732822 \r\nL 99.766632 255.505505 \r\nL 99.834044 255.505505 \r\nL 100.137396 255.391846 \r\nL 100.541866 254.823554 \r\nL 100.845219 254.596237 \r\nL 101.148571 253.914286 \r\nL 101.215983 253.345994 \r\nL 101.72157 252.550385 \r\nL 101.957511 252.550385 \r\nL 102.766451 250.618191 \r\nL 102.867568 250.618191 \r\nL 102.867568 250.277215 \r\nL 102.968686 250.277215 \r\nL 103.406862 249.708923 \r\nL 103.946155 249.254289 \r\nL 104.215801 249.026972 \r\nL 104.418036 248.572339 \r\nL 104.856212 245.958194 \r\nL 105.294388 245.958194 \r\nL 105.530329 245.617219 \r\nL 105.901093 244.366976 \r\nL 106.137034 244.026 \r\nL 106.271857 243.344049 \r\nL 106.372975 243.344049 \r\nL 106.608915 243.230391 \r\nL 106.844856 242.889416 \r\nL 106.912268 242.207465 \r\nL 107.485267 240.502588 \r\nL 108.02456 240.388929 \r\nL 108.058266 240.047954 \r\nL 108.294207 240.047954 \r\nL 108.563853 239.934296 \r\nL 108.732383 239.59332 \r\nL 109.406499 239.59332 \r\nL 110.889556 236.524542 \r\nL 110.956967 236.524542 \r\nL 111.597378 236.297225 \r\nL 111.934436 234.251373 \r\nL 112.237789 233.228446 \r\nL 112.3052 232.546496 \r\nL 112.743376 232.546496 \r\nL 113.248964 231.637228 \r\nL 113.855669 230.273327 \r\nL 114.024198 229.364059 \r\nL 114.091609 229.364059 \r\nL 114.496079 228.909425 \r\nL 114.630903 228.113816 \r\nL 115.001667 227.77284 \r\nL 115.642078 226.408939 \r\nL 116.484723 225.272354 \r\nL 116.855487 223.567477 \r\nL 118.271132 223.567477 \r\nL 119.01266 222.771868 \r\nL 119.8216 222.089917 \r\nL 120.124953 221.635284 \r\nL 120.495717 219.816748 \r\nL 120.596834 219.816748 \r\nL 120.765364 219.70309 \r\nL 120.933893 219.362114 \r\nL 121.43948 218.793822 \r\nL 122.65289 214.815776 \r\nL 122.65289 214.247484 \r\nL 122.686596 214.247484 \r\nL 123.327007 213.565533 \r\nL 123.765182 211.746998 \r\nL 124.169652 211.746998 \r\nL 124.877475 210.269438 \r\nL 125.147121 208.678219 \r\nL 125.686415 208.109927 \r\nL 126.259414 206.973342 \r\nL 127.506529 205.495782 \r\nL 127.843588 204.131881 \r\nL 128.652528 202.086028 \r\nL 128.854763 202.086028 \r\nL 129.090703 201.517736 \r\nL 129.798526 201.063102 \r\nL 131.011936 197.880665 \r\nL 131.348994 197.426032 \r\nL 131.686052 197.312373 \r\nL 132.326463 196.971398 \r\nL 133.00058 195.607496 \r\nL 133.742108 193.220669 \r\nL 133.978049 193.220669 \r\nL 135.022929 192.425059 \r\nL 135.461105 191.288475 \r\nL 135.66334 191.174816 \r\nL 136.337457 190.947499 \r\nL 137.314926 187.992379 \r\nL 138.562041 185.946527 \r\nL 138.764276 185.946527 \r\nL 139.640628 184.582626 \r\nL 140.921449 183.446041 \r\nL 141.494448 181.400189 \r\nL 142.033742 180.604579 \r\nL 142.707858 180.263604 \r\nL 142.876387 179.922629 \r\nL 143.213446 179.80897 \r\nL 143.314563 179.467995 \r\nL 143.786445 179.467995 \r\nL 144.629091 179.013361 \r\nL 145.539148 177.308484 \r\nL 147.089616 172.989463 \r\nL 147.527792 172.307512 \r\nL 149.213083 170.375318 \r\nL 150.257964 168.215807 \r\nL 150.69614 167.98849 \r\nL 151.842138 166.169955 \r\nL 152.111785 165.488004 \r\nL 152.448843 165.260687 \r\nL 153.931899 162.646543 \r\nL 155.044192 160.259715 \r\nL 155.549779 160.259715 \r\nL 157.066541 159.12313 \r\nL 158.785539 155.145084 \r\nL 160.504536 150.826063 \r\nL 161.448299 149.916795 \r\nL 162.021298 149.689478 \r\nL 163.976236 146.734358 \r\nL 165.054823 144.688506 \r\nL 165.459293 144.574848 \r\nL 167.009761 143.551921 \r\nL 167.784995 141.960703 \r\nL 168.324288 141.847045 \r\nL 168.492818 141.506069 \r\nL 170.616285 138.323632 \r\nL 171.324107 137.868998 \r\nL 172.908281 136.164122 \r\nL 174.896925 133.209002 \r\nL 175.975512 129.799248 \r\nL 177.290039 127.41242 \r\nL 177.391156 127.41242 \r\nL 179.110154 126.389494 \r\nL 181.907737 124.002666 \r\nL 183.053736 122.411448 \r\nL 183.087441 122.411448 \r\nL 184.705321 121.50218 \r\nL 187.132141 117.637793 \r\nL 190.704959 113.205113 \r\nL 190.873488 113.205113 \r\nL 192.727309 112.63682 \r\nL 195.727127 108.772433 \r\nL 197.513536 105.135362 \r\nL 198.828064 104.680728 \r\nL 199.232534 104.680728 \r\nL 200.917825 103.316827 \r\nL 204.153585 97.17927 \r\nL 205.366994 95.929027 \r\nL 205.80517 95.929027 \r\nL 210.456575 92.519273 \r\nL 213.793452 88.882202 \r\nL 214.299039 88.882202 \r\nL 216.894388 86.950008 \r\nL 218.714503 85.927082 \r\nL 219.725678 85.927082 \r\nL 223.332201 83.88123 \r\nL 228.017312 77.289039 \r\nL 234.65736 70.58319 \r\nL 236.780827 70.58319 \r\nL 241.432232 66.605144 \r\nL 245.106167 64.559292 \r\nL 246.656635 64.559292 \r\nL 253.397801 57.057833 \r\nL 255.554974 57.057833 \r\nL 261.925376 53.64808 \r\nL 267.149779 50.579301 \r\nL 275.980706 50.579301 \r\nL 284.171223 45.578329 \r\nL 291.620211 41.8276 \r\nL 307.832715 41.8276 \r\nL 318.146699 37.849554 \r\nL 378.58125 37.849554 \r\nL 378.58125 37.849554 \r\n\" style=\"fill:none;stroke:#8b0000;stroke-linecap:square;stroke-width:1.5;\"/>\r\n   </g>\r\n   <g id=\"line2d_14\">\r\n    <path clip-path=\"url(#p9fec4952f5)\" d=\"M 43.78125 348.478125 \r\nL 378.58125 37.849554 \r\n\" style=\"fill:none;stroke:#d3d3d3;stroke-dasharray:5.55,2.4;stroke-dashoffset:0;stroke-width:1.5;\"/>\r\n   </g>\r\n   <g id=\"patch_3\">\r\n    <path d=\"M 43.78125 348.478125 \r\nL 43.78125 22.318125 \r\n\" style=\"fill:none;stroke:#000000;stroke-linecap:square;stroke-linejoin:miter;stroke-width:0.8;\"/>\r\n   </g>\r\n   <g id=\"patch_4\">\r\n    <path d=\"M 378.58125 348.478125 \r\nL 378.58125 22.318125 \r\n\" style=\"fill:none;stroke:#000000;stroke-linecap:square;stroke-linejoin:miter;stroke-width:0.8;\"/>\r\n   </g>\r\n   <g id=\"patch_5\">\r\n    <path d=\"M 43.78125 348.478125 \r\nL 378.58125 348.478125 \r\n\" style=\"fill:none;stroke:#000000;stroke-linecap:square;stroke-linejoin:miter;stroke-width:0.8;\"/>\r\n   </g>\r\n   <g id=\"patch_6\">\r\n    <path d=\"M 43.78125 22.318125 \r\nL 378.58125 22.318125 \r\n\" style=\"fill:none;stroke:#000000;stroke-linecap:square;stroke-linejoin:miter;stroke-width:0.8;\"/>\r\n   </g>\r\n   <g id=\"text_15\">\r\n    <!-- Receiver Operating Characteristic Curve -->\r\n    <g transform=\"translate(90.069375 16.318125)scale(0.12 -0.12)\">\r\n     <defs>\r\n      <path d=\"M 48.78125 52.59375 \r\nL 48.78125 44.1875 \r\nQ 44.96875 46.296875 41.140625 47.34375 \r\nQ 37.3125 48.390625 33.40625 48.390625 \r\nQ 24.65625 48.390625 19.8125 42.84375 \r\nQ 14.984375 37.3125 14.984375 27.296875 \r\nQ 14.984375 17.28125 19.8125 11.734375 \r\nQ 24.65625 6.203125 33.40625 6.203125 \r\nQ 37.3125 6.203125 41.140625 7.25 \r\nQ 44.96875 8.296875 48.78125 10.40625 \r\nL 48.78125 2.09375 \r\nQ 45.015625 0.34375 40.984375 -0.53125 \r\nQ 36.96875 -1.421875 32.421875 -1.421875 \r\nQ 20.0625 -1.421875 12.78125 6.34375 \r\nQ 5.515625 14.109375 5.515625 27.296875 \r\nQ 5.515625 40.671875 12.859375 48.328125 \r\nQ 20.21875 56 33.015625 56 \r\nQ 37.15625 56 41.109375 55.140625 \r\nQ 45.0625 54.296875 48.78125 52.59375 \r\nz\r\n\" id=\"DejaVuSans-99\"/>\r\n      <path d=\"M 39.40625 66.21875 \r\nQ 28.65625 66.21875 22.328125 58.203125 \r\nQ 16.015625 50.203125 16.015625 36.375 \r\nQ 16.015625 22.609375 22.328125 14.59375 \r\nQ 28.65625 6.59375 39.40625 6.59375 \r\nQ 50.140625 6.59375 56.421875 14.59375 \r\nQ 62.703125 22.609375 62.703125 36.375 \r\nQ 62.703125 50.203125 56.421875 58.203125 \r\nQ 50.140625 66.21875 39.40625 66.21875 \r\nz\r\nM 39.40625 74.21875 \r\nQ 54.734375 74.21875 63.90625 63.9375 \r\nQ 73.09375 53.65625 73.09375 36.375 \r\nQ 73.09375 19.140625 63.90625 8.859375 \r\nQ 54.734375 -1.421875 39.40625 -1.421875 \r\nQ 24.03125 -1.421875 14.8125 8.828125 \r\nQ 5.609375 19.09375 5.609375 36.375 \r\nQ 5.609375 53.65625 14.8125 63.9375 \r\nQ 24.03125 74.21875 39.40625 74.21875 \r\nz\r\n\" id=\"DejaVuSans-79\"/>\r\n      <path d=\"M 18.109375 8.203125 \r\nL 18.109375 -20.796875 \r\nL 9.078125 -20.796875 \r\nL 9.078125 54.6875 \r\nL 18.109375 54.6875 \r\nL 18.109375 46.390625 \r\nQ 20.953125 51.265625 25.265625 53.625 \r\nQ 29.59375 56 35.59375 56 \r\nQ 45.5625 56 51.78125 48.09375 \r\nQ 58.015625 40.1875 58.015625 27.296875 \r\nQ 58.015625 14.40625 51.78125 6.484375 \r\nQ 45.5625 -1.421875 35.59375 -1.421875 \r\nQ 29.59375 -1.421875 25.265625 0.953125 \r\nQ 20.953125 3.328125 18.109375 8.203125 \r\nz\r\nM 48.6875 27.296875 \r\nQ 48.6875 37.203125 44.609375 42.84375 \r\nQ 40.53125 48.484375 33.40625 48.484375 \r\nQ 26.265625 48.484375 22.1875 42.84375 \r\nQ 18.109375 37.203125 18.109375 27.296875 \r\nQ 18.109375 17.390625 22.1875 11.75 \r\nQ 26.265625 6.109375 33.40625 6.109375 \r\nQ 40.53125 6.109375 44.609375 11.75 \r\nQ 48.6875 17.390625 48.6875 27.296875 \r\nz\r\n\" id=\"DejaVuSans-112\"/>\r\n      <path d=\"M 54.890625 33.015625 \r\nL 54.890625 0 \r\nL 45.90625 0 \r\nL 45.90625 32.71875 \r\nQ 45.90625 40.484375 42.875 44.328125 \r\nQ 39.84375 48.1875 33.796875 48.1875 \r\nQ 26.515625 48.1875 22.3125 43.546875 \r\nQ 18.109375 38.921875 18.109375 30.90625 \r\nL 18.109375 0 \r\nL 9.078125 0 \r\nL 9.078125 54.6875 \r\nL 18.109375 54.6875 \r\nL 18.109375 46.1875 \r\nQ 21.34375 51.125 25.703125 53.5625 \r\nQ 30.078125 56 35.796875 56 \r\nQ 45.21875 56 50.046875 50.171875 \r\nQ 54.890625 44.34375 54.890625 33.015625 \r\nz\r\n\" id=\"DejaVuSans-110\"/>\r\n      <path d=\"M 45.40625 27.984375 \r\nQ 45.40625 37.75 41.375 43.109375 \r\nQ 37.359375 48.484375 30.078125 48.484375 \r\nQ 22.859375 48.484375 18.828125 43.109375 \r\nQ 14.796875 37.75 14.796875 27.984375 \r\nQ 14.796875 18.265625 18.828125 12.890625 \r\nQ 22.859375 7.515625 30.078125 7.515625 \r\nQ 37.359375 7.515625 41.375 12.890625 \r\nQ 45.40625 18.265625 45.40625 27.984375 \r\nz\r\nM 54.390625 6.78125 \r\nQ 54.390625 -7.171875 48.1875 -13.984375 \r\nQ 42 -20.796875 29.203125 -20.796875 \r\nQ 24.46875 -20.796875 20.265625 -20.09375 \r\nQ 16.0625 -19.390625 12.109375 -17.921875 \r\nL 12.109375 -9.1875 \r\nQ 16.0625 -11.328125 19.921875 -12.34375 \r\nQ 23.78125 -13.375 27.78125 -13.375 \r\nQ 36.625 -13.375 41.015625 -8.765625 \r\nQ 45.40625 -4.15625 45.40625 5.171875 \r\nL 45.40625 9.625 \r\nQ 42.625 4.78125 38.28125 2.390625 \r\nQ 33.9375 0 27.875 0 \r\nQ 17.828125 0 11.671875 7.65625 \r\nQ 5.515625 15.328125 5.515625 27.984375 \r\nQ 5.515625 40.671875 11.671875 48.328125 \r\nQ 17.828125 56 27.875 56 \r\nQ 33.9375 56 38.28125 53.609375 \r\nQ 42.625 51.21875 45.40625 46.390625 \r\nL 45.40625 54.6875 \r\nL 54.390625 54.6875 \r\nz\r\n\" id=\"DejaVuSans-103\"/>\r\n      <path d=\"M 64.40625 67.28125 \r\nL 64.40625 56.890625 \r\nQ 59.421875 61.53125 53.78125 63.8125 \r\nQ 48.140625 66.109375 41.796875 66.109375 \r\nQ 29.296875 66.109375 22.65625 58.46875 \r\nQ 16.015625 50.828125 16.015625 36.375 \r\nQ 16.015625 21.96875 22.65625 14.328125 \r\nQ 29.296875 6.6875 41.796875 6.6875 \r\nQ 48.140625 6.6875 53.78125 8.984375 \r\nQ 59.421875 11.28125 64.40625 15.921875 \r\nL 64.40625 5.609375 \r\nQ 59.234375 2.09375 53.4375 0.328125 \r\nQ 47.65625 -1.421875 41.21875 -1.421875 \r\nQ 24.65625 -1.421875 15.125 8.703125 \r\nQ 5.609375 18.84375 5.609375 36.375 \r\nQ 5.609375 53.953125 15.125 64.078125 \r\nQ 24.65625 74.21875 41.21875 74.21875 \r\nQ 47.75 74.21875 53.53125 72.484375 \r\nQ 59.328125 70.75 64.40625 67.28125 \r\nz\r\n\" id=\"DejaVuSans-67\"/>\r\n      <path d=\"M 54.890625 33.015625 \r\nL 54.890625 0 \r\nL 45.90625 0 \r\nL 45.90625 32.71875 \r\nQ 45.90625 40.484375 42.875 44.328125 \r\nQ 39.84375 48.1875 33.796875 48.1875 \r\nQ 26.515625 48.1875 22.3125 43.546875 \r\nQ 18.109375 38.921875 18.109375 30.90625 \r\nL 18.109375 0 \r\nL 9.078125 0 \r\nL 9.078125 75.984375 \r\nL 18.109375 75.984375 \r\nL 18.109375 46.1875 \r\nQ 21.34375 51.125 25.703125 53.5625 \r\nQ 30.078125 56 35.796875 56 \r\nQ 45.21875 56 50.046875 50.171875 \r\nQ 54.890625 44.34375 54.890625 33.015625 \r\nz\r\n\" id=\"DejaVuSans-104\"/>\r\n     </defs>\r\n     <use xlink:href=\"#DejaVuSans-82\"/>\r\n     <use x=\"64.982422\" xlink:href=\"#DejaVuSans-101\"/>\r\n     <use x=\"126.505859\" xlink:href=\"#DejaVuSans-99\"/>\r\n     <use x=\"181.486328\" xlink:href=\"#DejaVuSans-101\"/>\r\n     <use x=\"243.009766\" xlink:href=\"#DejaVuSans-105\"/>\r\n     <use x=\"270.792969\" xlink:href=\"#DejaVuSans-118\"/>\r\n     <use x=\"329.972656\" xlink:href=\"#DejaVuSans-101\"/>\r\n     <use x=\"391.496094\" xlink:href=\"#DejaVuSans-114\"/>\r\n     <use x=\"432.609375\" xlink:href=\"#DejaVuSans-32\"/>\r\n     <use x=\"464.396484\" xlink:href=\"#DejaVuSans-79\"/>\r\n     <use x=\"543.107422\" xlink:href=\"#DejaVuSans-112\"/>\r\n     <use x=\"606.583984\" xlink:href=\"#DejaVuSans-101\"/>\r\n     <use x=\"668.107422\" xlink:href=\"#DejaVuSans-114\"/>\r\n     <use x=\"709.220703\" xlink:href=\"#DejaVuSans-97\"/>\r\n     <use x=\"770.5\" xlink:href=\"#DejaVuSans-116\"/>\r\n     <use x=\"809.708984\" xlink:href=\"#DejaVuSans-105\"/>\r\n     <use x=\"837.492188\" xlink:href=\"#DejaVuSans-110\"/>\r\n     <use x=\"900.871094\" xlink:href=\"#DejaVuSans-103\"/>\r\n     <use x=\"964.347656\" xlink:href=\"#DejaVuSans-32\"/>\r\n     <use x=\"996.134766\" xlink:href=\"#DejaVuSans-67\"/>\r\n     <use x=\"1065.958984\" xlink:href=\"#DejaVuSans-104\"/>\r\n     <use x=\"1129.337891\" xlink:href=\"#DejaVuSans-97\"/>\r\n     <use x=\"1190.617188\" xlink:href=\"#DejaVuSans-114\"/>\r\n     <use x=\"1231.730469\" xlink:href=\"#DejaVuSans-97\"/>\r\n     <use x=\"1293.009766\" xlink:href=\"#DejaVuSans-99\"/>\r\n     <use x=\"1347.990234\" xlink:href=\"#DejaVuSans-116\"/>\r\n     <use x=\"1387.199219\" xlink:href=\"#DejaVuSans-101\"/>\r\n     <use x=\"1448.722656\" xlink:href=\"#DejaVuSans-114\"/>\r\n     <use x=\"1489.835938\" xlink:href=\"#DejaVuSans-105\"/>\r\n     <use x=\"1517.619141\" xlink:href=\"#DejaVuSans-115\"/>\r\n     <use x=\"1569.71875\" xlink:href=\"#DejaVuSans-116\"/>\r\n     <use x=\"1608.927734\" xlink:href=\"#DejaVuSans-105\"/>\r\n     <use x=\"1636.710938\" xlink:href=\"#DejaVuSans-99\"/>\r\n     <use x=\"1691.691406\" xlink:href=\"#DejaVuSans-32\"/>\r\n     <use x=\"1723.478516\" xlink:href=\"#DejaVuSans-67\"/>\r\n     <use x=\"1793.302734\" xlink:href=\"#DejaVuSans-117\"/>\r\n     <use x=\"1856.681641\" xlink:href=\"#DejaVuSans-114\"/>\r\n     <use x=\"1897.794922\" xlink:href=\"#DejaVuSans-118\"/>\r\n     <use x=\"1956.974609\" xlink:href=\"#DejaVuSans-101\"/>\r\n    </g>\r\n   </g>\r\n   <g id=\"legend_1\">\r\n    <g id=\"patch_7\">\r\n     <path d=\"M 209.940625 343.478125 \r\nL 371.58125 343.478125 \r\nQ 373.58125 343.478125 373.58125 341.478125 \r\nL 373.58125 327.8 \r\nQ 373.58125 325.8 371.58125 325.8 \r\nL 209.940625 325.8 \r\nQ 207.940625 325.8 207.940625 327.8 \r\nL 207.940625 341.478125 \r\nQ 207.940625 343.478125 209.940625 343.478125 \r\nz\r\n\" style=\"fill:#ffffff;opacity:0.8;stroke:#cccccc;stroke-linejoin:miter;\"/>\r\n    </g>\r\n    <g id=\"line2d_15\">\r\n     <path d=\"M 211.940625 333.898437 \r\nL 231.940625 333.898437 \r\n\" style=\"fill:none;stroke:#8b0000;stroke-linecap:square;stroke-width:1.5;\"/>\r\n    </g>\r\n    <g id=\"line2d_16\"/>\r\n    <g id=\"text_16\">\r\n     <!-- ROC curve (area = 0.699) -->\r\n     <g transform=\"translate(239.940625 337.398437)scale(0.1 -0.1)\">\r\n      <defs>\r\n       <path d=\"M 31 75.875 \r\nQ 24.46875 64.65625 21.28125 53.65625 \r\nQ 18.109375 42.671875 18.109375 31.390625 \r\nQ 18.109375 20.125 21.3125 9.0625 \r\nQ 24.515625 -2 31 -13.1875 \r\nL 23.1875 -13.1875 \r\nQ 15.875 -1.703125 12.234375 9.375 \r\nQ 8.59375 20.453125 8.59375 31.390625 \r\nQ 8.59375 42.28125 12.203125 53.3125 \r\nQ 15.828125 64.359375 23.1875 75.875 \r\nz\r\n\" id=\"DejaVuSans-40\"/>\r\n       <path d=\"M 10.59375 45.40625 \r\nL 73.1875 45.40625 \r\nL 73.1875 37.203125 \r\nL 10.59375 37.203125 \r\nz\r\nM 10.59375 25.484375 \r\nL 73.1875 25.484375 \r\nL 73.1875 17.1875 \r\nL 10.59375 17.1875 \r\nz\r\n\" id=\"DejaVuSans-61\"/>\r\n       <path d=\"M 10.984375 1.515625 \r\nL 10.984375 10.5 \r\nQ 14.703125 8.734375 18.5 7.8125 \r\nQ 22.3125 6.890625 25.984375 6.890625 \r\nQ 35.75 6.890625 40.890625 13.453125 \r\nQ 46.046875 20.015625 46.78125 33.40625 \r\nQ 43.953125 29.203125 39.59375 26.953125 \r\nQ 35.25 24.703125 29.984375 24.703125 \r\nQ 19.046875 24.703125 12.671875 31.3125 \r\nQ 6.296875 37.9375 6.296875 49.421875 \r\nQ 6.296875 60.640625 12.9375 67.421875 \r\nQ 19.578125 74.21875 30.609375 74.21875 \r\nQ 43.265625 74.21875 49.921875 64.515625 \r\nQ 56.59375 54.828125 56.59375 36.375 \r\nQ 56.59375 19.140625 48.40625 8.859375 \r\nQ 40.234375 -1.421875 26.421875 -1.421875 \r\nQ 22.703125 -1.421875 18.890625 -0.6875 \r\nQ 15.09375 0.046875 10.984375 1.515625 \r\nz\r\nM 30.609375 32.421875 \r\nQ 37.25 32.421875 41.125 36.953125 \r\nQ 45.015625 41.5 45.015625 49.421875 \r\nQ 45.015625 57.28125 41.125 61.84375 \r\nQ 37.25 66.40625 30.609375 66.40625 \r\nQ 23.96875 66.40625 20.09375 61.84375 \r\nQ 16.21875 57.28125 16.21875 49.421875 \r\nQ 16.21875 41.5 20.09375 36.953125 \r\nQ 23.96875 32.421875 30.609375 32.421875 \r\nz\r\n\" id=\"DejaVuSans-57\"/>\r\n       <path d=\"M 8.015625 75.875 \r\nL 15.828125 75.875 \r\nQ 23.140625 64.359375 26.78125 53.3125 \r\nQ 30.421875 42.28125 30.421875 31.390625 \r\nQ 30.421875 20.453125 26.78125 9.375 \r\nQ 23.140625 -1.703125 15.828125 -13.1875 \r\nL 8.015625 -13.1875 \r\nQ 14.5 -2 17.703125 9.0625 \r\nQ 20.90625 20.125 20.90625 31.390625 \r\nQ 20.90625 42.671875 17.703125 53.65625 \r\nQ 14.5 64.65625 8.015625 75.875 \r\nz\r\n\" id=\"DejaVuSans-41\"/>\r\n      </defs>\r\n      <use xlink:href=\"#DejaVuSans-82\"/>\r\n      <use x=\"69.482422\" xlink:href=\"#DejaVuSans-79\"/>\r\n      <use x=\"148.193359\" xlink:href=\"#DejaVuSans-67\"/>\r\n      <use x=\"218.017578\" xlink:href=\"#DejaVuSans-32\"/>\r\n      <use x=\"249.804688\" xlink:href=\"#DejaVuSans-99\"/>\r\n      <use x=\"304.785156\" xlink:href=\"#DejaVuSans-117\"/>\r\n      <use x=\"368.164062\" xlink:href=\"#DejaVuSans-114\"/>\r\n      <use x=\"409.277344\" xlink:href=\"#DejaVuSans-118\"/>\r\n      <use x=\"468.457031\" xlink:href=\"#DejaVuSans-101\"/>\r\n      <use x=\"529.980469\" xlink:href=\"#DejaVuSans-32\"/>\r\n      <use x=\"561.767578\" xlink:href=\"#DejaVuSans-40\"/>\r\n      <use x=\"600.78125\" xlink:href=\"#DejaVuSans-97\"/>\r\n      <use x=\"662.060547\" xlink:href=\"#DejaVuSans-114\"/>\r\n      <use x=\"700.923828\" xlink:href=\"#DejaVuSans-101\"/>\r\n      <use x=\"762.447266\" xlink:href=\"#DejaVuSans-97\"/>\r\n      <use x=\"823.726562\" xlink:href=\"#DejaVuSans-32\"/>\r\n      <use x=\"855.513672\" xlink:href=\"#DejaVuSans-61\"/>\r\n      <use x=\"939.302734\" xlink:href=\"#DejaVuSans-32\"/>\r\n      <use x=\"971.089844\" xlink:href=\"#DejaVuSans-48\"/>\r\n      <use x=\"1034.712891\" xlink:href=\"#DejaVuSans-46\"/>\r\n      <use x=\"1066.5\" xlink:href=\"#DejaVuSans-54\"/>\r\n      <use x=\"1130.123047\" xlink:href=\"#DejaVuSans-57\"/>\r\n      <use x=\"1193.746094\" xlink:href=\"#DejaVuSans-57\"/>\r\n      <use x=\"1257.369141\" xlink:href=\"#DejaVuSans-41\"/>\r\n     </g>\r\n    </g>\r\n   </g>\r\n  </g>\r\n </g>\r\n <defs>\r\n  <clipPath id=\"p9fec4952f5\">\r\n   <rect height=\"326.16\" width=\"334.8\" x=\"43.78125\" y=\"22.318125\"/>\r\n  </clipPath>\r\n </defs>\r\n</svg>\r\n",
      "image/png": "[encoded data removed]"
     },
     "metadata": {
      "needs_background": "light"
     }
    },
    {
     "output_type": "execute_result",
     "data": {
      "text/plain": [
       "0.6990601206642869"
      ]
     },
     "metadata": {},
     "execution_count": 78
    }
   ],
   "source": [
    "prediction(G0, train_features, test_features, train_labels, real_test_labels)"
   ]
  },
  {
   "source": [
    "# Adding additional information"
   ],
   "cell_type": "markdown",
   "metadata": {}
  },
  {
   "cell_type": "code",
   "execution_count": 79,
   "metadata": {},
   "outputs": [
    {
     "output_type": "execute_result",
     "data": {
      "text/plain": [
       "     id  year                                              title  \\\n",
       "0  1001  2000              compactification geometry and duality   \n",
       "1  1002  2000  domain walls and massive gauged supergravity p...   \n",
       "2  1003  2000     comment on metric fluctuations in brane worlds   \n",
       "3  1004  2000         moving mirrors and thermodynamic paradoxes   \n",
       "4  1005  2000  bundles of chiral blocks and boundary conditio...   \n",
       "\n",
       "                       authors            journal  \\\n",
       "0            Paul S. Aspinwall                NaN   \n",
       "1  M. Cvetic, H. Lu, C.N. Pope  Class.Quant.Grav.   \n",
       "2     Y.S. Myung, Gungwon Kang                NaN   \n",
       "3               Adam D. Helfer          Phys.Rev.   \n",
       "4      J. Fuchs, C. Schweigert                NaN   \n",
       "\n",
       "                                            abstract  \n",
       "0  these are notes based on lectures given at tas...  \n",
       "1  we point out that massive gauged supergravity ...  \n",
       "2  recently ivanov and volovich hep-th 9912242 cl...  \n",
       "3  quantum fields responding to moving mirrors ha...  \n",
       "4  proceedings of lie iii clausthal july 1999 var...  "
      ],
      "text/html": "<div>\n<style scoped>\n    .dataframe tbody tr th:only-of-type {\n        vertical-align: middle;\n    }\n\n    .dataframe tbody tr th {\n        vertical-align: top;\n    }\n\n    .dataframe thead th {\n        text-align: right;\n    }\n</style>\n<table border=\"1\" class=\"dataframe\">\n  <thead>\n    <tr style=\"text-align: right;\">\n      <th></th>\n      <th>id</th>\n      <th>year</th>\n      <th>title</th>\n      <th>authors</th>\n      <th>journal</th>\n      <th>abstract</th>\n    </tr>\n  </thead>\n  <tbody>\n    <tr>\n      <th>0</th>\n      <td>1001</td>\n      <td>2000</td>\n      <td>compactification geometry and duality</td>\n      <td>Paul S. Aspinwall</td>\n      <td>NaN</td>\n      <td>these are notes based on lectures given at tas...</td>\n    </tr>\n    <tr>\n      <th>1</th>\n      <td>1002</td>\n      <td>2000</td>\n      <td>domain walls and massive gauged supergravity p...</td>\n      <td>M. Cvetic, H. Lu, C.N. Pope</td>\n      <td>Class.Quant.Grav.</td>\n      <td>we point out that massive gauged supergravity ...</td>\n    </tr>\n    <tr>\n      <th>2</th>\n      <td>1003</td>\n      <td>2000</td>\n      <td>comment on metric fluctuations in brane worlds</td>\n      <td>Y.S. Myung, Gungwon Kang</td>\n      <td>NaN</td>\n      <td>recently ivanov and volovich hep-th 9912242 cl...</td>\n    </tr>\n    <tr>\n      <th>3</th>\n      <td>1004</td>\n      <td>2000</td>\n      <td>moving mirrors and thermodynamic paradoxes</td>\n      <td>Adam D. Helfer</td>\n      <td>Phys.Rev.</td>\n      <td>quantum fields responding to moving mirrors ha...</td>\n    </tr>\n    <tr>\n      <th>4</th>\n      <td>1005</td>\n      <td>2000</td>\n      <td>bundles of chiral blocks and boundary conditio...</td>\n      <td>J. Fuchs, C. Schweigert</td>\n      <td>NaN</td>\n      <td>proceedings of lie iii clausthal july 1999 var...</td>\n    </tr>\n  </tbody>\n</table>\n</div>"
     },
     "metadata": {},
     "execution_count": 79
    }
   ],
   "source": [
    "column_names = ['id', 'year', 'title', 'authors', 'journal', 'abstract']\n",
    "info = pd.read_csv('node_information.csv', sep=',', names=column_names)\n",
    "info.head()"
   ]
  },
  {
   "cell_type": "code",
   "execution_count": 80,
   "metadata": {},
   "outputs": [],
   "source": [
    "with open(\"node_information.csv\", \"r\") as f:\n",
    "    reader = csv.reader(f)\n",
    "    node_info  = list(reader)\n",
    "\n",
    "IDs = [element[0] for element in node_info]"
   ]
  },
  {
   "cell_type": "code",
   "execution_count": 81,
   "metadata": {},
   "outputs": [],
   "source": [
    "vect = TfidfVectorizer(stop_words=\"english\")\n",
    "abstract_vectorized = vect.fit_transform(info['abstract'])"
   ]
  },
  {
   "cell_type": "code",
   "execution_count": 82,
   "metadata": {},
   "outputs": [],
   "source": [
    "def preprocessing_info(sample, abstract_vectorized):\n",
    "    # number of overlapping words in title\n",
    "    overlap_title = []\n",
    "\n",
    "    # temporal distance between the papers\n",
    "    temp_diff = []\n",
    "\n",
    "    # number of common authors\n",
    "    comm_auth = []\n",
    "\n",
    "    # Cosine sim between abstracts\n",
    "    cosine_sim = []\n",
    "\n",
    "    dense_matrix = abstract_vectorized.todense()\n",
    "\n",
    "    counter = 0\n",
    "    for i in range(len(sample)):\n",
    "        source = sample[i][0]\n",
    "        target = sample[i][1]\n",
    "        \n",
    "        index_source = IDs.index(source)\n",
    "        index_target = IDs.index(target)\n",
    "        \n",
    "        source_info = [element for element in node_info if element[0]==source][0]\n",
    "        target_info = [element for element in node_info if element[0]==target][0]\n",
    "        \n",
    "        # convert to lowercase and tokenize\n",
    "        source_title = source_info[2].lower().split(\" \")\n",
    "        # remove stopwords\n",
    "        source_title = [token for token in source_title if token not in stpwds]\n",
    "        source_title = [stemmer.stem(token) for token in source_title]\n",
    "        \n",
    "        target_title = target_info[2].lower().split(\" \")\n",
    "        target_title = [token for token in target_title if token not in stpwds]\n",
    "        target_title = [stemmer.stem(token) for token in target_title]\n",
    "        \n",
    "        source_auth = source_info[3].split(\",\")\n",
    "        target_auth = target_info[3].split(\",\")\n",
    "        \n",
    "        overlap_title.append(len(set(source_title).intersection(set(target_title))))\n",
    "        temp_diff.append(int(source_info[1]) - int(target_info[1]))\n",
    "        comm_auth.append(len(set(source_auth).intersection(set(target_auth))))\n",
    "\n",
    "        v1 = dense_matrix[index_source,:]\n",
    "        v2 = dense_matrix[index_target,:]\n",
    "\n",
    "        sim = cosine_similarity(v1, v2)\n",
    "        cosine_sim.append(sim[0][0])\n",
    "    \n",
    "        counter += 1\n",
    "        if counter % 1000 == True:\n",
    "            print(counter, \"training examples processsed\")\n",
    "\n",
    "    return overlap_title, temp_diff, comm_auth, cosine_sim"
   ]
  },
  {
   "cell_type": "code",
   "execution_count": 83,
   "metadata": {},
   "outputs": [
    {
     "output_type": "stream",
     "name": "stdout",
     "text": [
      "1 training examples processsed\n",
      "1001 training examples processsed\n",
      "2001 training examples processsed\n",
      "3001 training examples processsed\n",
      "4001 training examples processsed\n",
      "5001 training examples processsed\n",
      "6001 training examples processsed\n",
      "7001 training examples processsed\n",
      "8001 training examples processsed\n",
      "9001 training examples processsed\n",
      "10001 training examples processsed\n",
      "11001 training examples processsed\n",
      "12001 training examples processsed\n",
      "13001 training examples processsed\n",
      "14001 training examples processsed\n",
      "15001 training examples processsed\n",
      "16001 training examples processsed\n",
      "17001 training examples processsed\n",
      "18001 training examples processsed\n",
      "19001 training examples processsed\n",
      "20001 training examples processsed\n",
      "21001 training examples processsed\n",
      "22001 training examples processsed\n",
      "23001 training examples processsed\n",
      "24001 training examples processsed\n",
      "25001 training examples processsed\n",
      "26001 training examples processsed\n",
      "27001 training examples processsed\n",
      "28001 training examples processsed\n",
      "29001 training examples processsed\n",
      "30001 training examples processsed\n",
      "31001 training examples processsed\n",
      "32001 training examples processsed\n",
      "33001 training examples processsed\n",
      "34001 training examples processsed\n",
      "35001 training examples processsed\n",
      "36001 training examples processsed\n",
      "37001 training examples processsed\n",
      "38001 training examples processsed\n",
      "39001 training examples processsed\n",
      "40001 training examples processsed\n",
      "41001 training examples processsed\n",
      "42001 training examples processsed\n",
      "43001 training examples processsed\n",
      "44001 training examples processsed\n",
      "45001 training examples processsed\n",
      "46001 training examples processsed\n",
      "47001 training examples processsed\n",
      "48001 training examples processsed\n",
      "49001 training examples processsed\n",
      "50001 training examples processsed\n"
     ]
    }
   ],
   "source": [
    "overlap_title_train, temp_diff_train, comm_auth_train, cosine_sim_train = preprocessing_info(train_samples, abstract_vectorized)"
   ]
  },
  {
   "cell_type": "code",
   "execution_count": 84,
   "metadata": {},
   "outputs": [
    {
     "output_type": "stream",
     "name": "stdout",
     "text": [
      "1 training examples processsed\n",
      "1001 training examples processsed\n",
      "2001 training examples processsed\n",
      "3001 training examples processsed\n",
      "4001 training examples processsed\n",
      "5001 training examples processsed\n",
      "6001 training examples processsed\n",
      "7001 training examples processsed\n",
      "8001 training examples processsed\n",
      "9001 training examples processsed\n",
      "10001 training examples processsed\n",
      "11001 training examples processsed\n",
      "12001 training examples processsed\n"
     ]
    }
   ],
   "source": [
    "overlap_title_test, temp_diff_test, comm_auth_test, cosine_sim_test = preprocessing_info(test_samples, abstract_vectorized)"
   ]
  },
  {
   "cell_type": "code",
   "execution_count": 85,
   "metadata": {},
   "outputs": [],
   "source": [
    "def get_training_features(overlap_title, temp_diff, comm_auth, sim):\n",
    "    training_features = np.array([overlap_title, temp_diff, comm_auth, sim]).T\n",
    "    training_features = preprocessing.scale(training_features)\n",
    "    df = pd.DataFrame(training_features, columns=['overl_title', 'temp_diff', 'comm_author', 'sim'])\n",
    "    return training_features, df"
   ]
  },
  {
   "cell_type": "code",
   "execution_count": 86,
   "metadata": {},
   "outputs": [],
   "source": [
    "training_add_feat = get_training_features(overlap_title_train, temp_diff_train, comm_auth_train, cosine_sim_train)[1]\n",
    "testing_add_feat = get_training_features(overlap_title_test, temp_diff_test, comm_auth_test, cosine_sim_test)[1]"
   ]
  },
  {
   "cell_type": "code",
   "execution_count": 87,
   "metadata": {},
   "outputs": [],
   "source": [
    "all_train_feat = pd.concat([feat_train, training_add_feat], axis=1)\n",
    "all_test_feat = pd.concat([feat_test, testing_add_feat], axis=1)"
   ]
  },
  {
   "cell_type": "code",
   "execution_count": 88,
   "metadata": {},
   "outputs": [
    {
     "output_type": "execute_result",
     "data": {
      "text/plain": [
       "   source_degree_centrality  target_degree_centrality  pref_attach  aai  \\\n",
       "0                  0.000124                  0.000124          4.0  0.0   \n",
       "1                  0.000124                  0.000124          4.0  0.0   \n",
       "2                  0.000124                  0.001244         40.0  0.0   \n",
       "3                  0.000124                  0.004042        130.0  0.0   \n",
       "4                  0.001244                  0.000498        160.0  0.0   \n",
       "\n",
       "   jacard_coeff  res_all  overl_title  temp_diff  comm_author       sim  \n",
       "0           0.0      0.0    -0.563363   0.323501    -0.224317 -0.221936  \n",
       "1           0.0      0.0    -0.563363   0.600929    -0.224317  0.526869  \n",
       "2           0.0      0.0     0.579513   0.600929    -0.224317 -0.136308  \n",
       "3           0.0      0.0    -0.563363   0.878357    -0.224317 -0.119264  \n",
       "4           0.0      0.0     0.579513   0.046074    -0.224317  0.329588  "
      ],
      "text/html": "<div>\n<style scoped>\n    .dataframe tbody tr th:only-of-type {\n        vertical-align: middle;\n    }\n\n    .dataframe tbody tr th {\n        vertical-align: top;\n    }\n\n    .dataframe thead th {\n        text-align: right;\n    }\n</style>\n<table border=\"1\" class=\"dataframe\">\n  <thead>\n    <tr style=\"text-align: right;\">\n      <th></th>\n      <th>source_degree_centrality</th>\n      <th>target_degree_centrality</th>\n      <th>pref_attach</th>\n      <th>aai</th>\n      <th>jacard_coeff</th>\n      <th>res_all</th>\n      <th>overl_title</th>\n      <th>temp_diff</th>\n      <th>comm_author</th>\n      <th>sim</th>\n    </tr>\n  </thead>\n  <tbody>\n    <tr>\n      <th>0</th>\n      <td>0.000124</td>\n      <td>0.000124</td>\n      <td>4.0</td>\n      <td>0.0</td>\n      <td>0.0</td>\n      <td>0.0</td>\n      <td>-0.563363</td>\n      <td>0.323501</td>\n      <td>-0.224317</td>\n      <td>-0.221936</td>\n    </tr>\n    <tr>\n      <th>1</th>\n      <td>0.000124</td>\n      <td>0.000124</td>\n      <td>4.0</td>\n      <td>0.0</td>\n      <td>0.0</td>\n      <td>0.0</td>\n      <td>-0.563363</td>\n      <td>0.600929</td>\n      <td>-0.224317</td>\n      <td>0.526869</td>\n    </tr>\n    <tr>\n      <th>2</th>\n      <td>0.000124</td>\n      <td>0.001244</td>\n      <td>40.0</td>\n      <td>0.0</td>\n      <td>0.0</td>\n      <td>0.0</td>\n      <td>0.579513</td>\n      <td>0.600929</td>\n      <td>-0.224317</td>\n      <td>-0.136308</td>\n    </tr>\n    <tr>\n      <th>3</th>\n      <td>0.000124</td>\n      <td>0.004042</td>\n      <td>130.0</td>\n      <td>0.0</td>\n      <td>0.0</td>\n      <td>0.0</td>\n      <td>-0.563363</td>\n      <td>0.878357</td>\n      <td>-0.224317</td>\n      <td>-0.119264</td>\n    </tr>\n    <tr>\n      <th>4</th>\n      <td>0.001244</td>\n      <td>0.000498</td>\n      <td>160.0</td>\n      <td>0.0</td>\n      <td>0.0</td>\n      <td>0.0</td>\n      <td>0.579513</td>\n      <td>0.046074</td>\n      <td>-0.224317</td>\n      <td>0.329588</td>\n    </tr>\n  </tbody>\n</table>\n</div>"
     },
     "metadata": {},
     "execution_count": 88
    }
   ],
   "source": [
    "all_train_feat.head()"
   ]
  },
  {
   "cell_type": "code",
   "execution_count": 89,
   "metadata": {},
   "outputs": [
    {
     "output_type": "stream",
     "name": "stdout",
     "text": [
      "Accuracy: 0.6652455392389073\nF1 score: 0.5134266697268763\n"
     ]
    },
    {
     "output_type": "display_data",
     "data": {
      "text/plain": "<Figure size 432x432 with 1 Axes>",
      "image/svg+xml": "<?xml version=\"1.0\" encoding=\"utf-8\" standalone=\"no\"?>\r\n<!DOCTYPE svg PUBLIC \"-//W3C//DTD SVG 1.1//EN\"\r\n  \"http://www.w3.org/Graphics/SVG/1.1/DTD/svg11.dtd\">\r\n<!-- Created with matplotlib (https://matplotlib.org/) -->\r\n<svg height=\"386.034375pt\" version=\"1.1\" viewBox=\"0 0 393.732813 386.034375\" width=\"393.732813pt\" xmlns=\"http://www.w3.org/2000/svg\" xmlns:xlink=\"http://www.w3.org/1999/xlink\">\r\n <metadata>\r\n  <rdf:RDF xmlns:cc=\"http://creativecommons.org/ns#\" xmlns:dc=\"http://purl.org/dc/elements/1.1/\" xmlns:rdf=\"http://www.w3.org/1999/02/22-rdf-syntax-ns#\">\r\n   <cc:Work>\r\n    <dc:type rdf:resource=\"http://purl.org/dc/dcmitype/StillImage\"/>\r\n    <dc:date>2021-03-16T20:41:36.832100</dc:date>\r\n    <dc:format>image/svg+xml</dc:format>\r\n    <dc:creator>\r\n     <cc:Agent>\r\n      <dc:title>Matplotlib v3.3.2, https://matplotlib.org/</dc:title>\r\n     </cc:Agent>\r\n    </dc:creator>\r\n   </cc:Work>\r\n  </rdf:RDF>\r\n </metadata>\r\n <defs>\r\n  <style type=\"text/css\">*{stroke-linecap:butt;stroke-linejoin:round;}</style>\r\n </defs>\r\n <g id=\"figure_1\">\r\n  <g id=\"patch_1\">\r\n   <path d=\"M 0 386.034375 \r\nL 393.732813 386.034375 \r\nL 393.732813 0 \r\nL 0 0 \r\nz\r\n\" style=\"fill:none;\"/>\r\n  </g>\r\n  <g id=\"axes_1\">\r\n   <g id=\"patch_2\">\r\n    <path d=\"M 43.78125 348.478125 \r\nL 378.58125 348.478125 \r\nL 378.58125 22.318125 \r\nL 43.78125 22.318125 \r\nz\r\n\" style=\"fill:#ffffff;\"/>\r\n   </g>\r\n   <g id=\"matplotlib.axis_1\">\r\n    <g id=\"xtick_1\">\r\n     <g id=\"line2d_1\">\r\n      <defs>\r\n       <path d=\"M 0 0 \r\nL 0 3.5 \r\n\" id=\"mb77f1276e0\" style=\"stroke:#000000;stroke-width:0.8;\"/>\r\n      </defs>\r\n      <g>\r\n       <use style=\"stroke:#000000;stroke-width:0.8;\" x=\"43.78125\" xlink:href=\"#mb77f1276e0\" y=\"348.478125\"/>\r\n      </g>\r\n     </g>\r\n     <g id=\"text_1\">\r\n      <!-- 0.0 -->\r\n      <g transform=\"translate(35.829688 363.076562)scale(0.1 -0.1)\">\r\n       <defs>\r\n        <path d=\"M 31.78125 66.40625 \r\nQ 24.171875 66.40625 20.328125 58.90625 \r\nQ 16.5 51.421875 16.5 36.375 \r\nQ 16.5 21.390625 20.328125 13.890625 \r\nQ 24.171875 6.390625 31.78125 6.390625 \r\nQ 39.453125 6.390625 43.28125 13.890625 \r\nQ 47.125 21.390625 47.125 36.375 \r\nQ 47.125 51.421875 43.28125 58.90625 \r\nQ 39.453125 66.40625 31.78125 66.40625 \r\nz\r\nM 31.78125 74.21875 \r\nQ 44.046875 74.21875 50.515625 64.515625 \r\nQ 56.984375 54.828125 56.984375 36.375 \r\nQ 56.984375 17.96875 50.515625 8.265625 \r\nQ 44.046875 -1.421875 31.78125 -1.421875 \r\nQ 19.53125 -1.421875 13.0625 8.265625 \r\nQ 6.59375 17.96875 6.59375 36.375 \r\nQ 6.59375 54.828125 13.0625 64.515625 \r\nQ 19.53125 74.21875 31.78125 74.21875 \r\nz\r\n\" id=\"DejaVuSans-48\"/>\r\n        <path d=\"M 10.6875 12.40625 \r\nL 21 12.40625 \r\nL 21 0 \r\nL 10.6875 0 \r\nz\r\n\" id=\"DejaVuSans-46\"/>\r\n       </defs>\r\n       <use xlink:href=\"#DejaVuSans-48\"/>\r\n       <use x=\"63.623047\" xlink:href=\"#DejaVuSans-46\"/>\r\n       <use x=\"95.410156\" xlink:href=\"#DejaVuSans-48\"/>\r\n      </g>\r\n     </g>\r\n    </g>\r\n    <g id=\"xtick_2\">\r\n     <g id=\"line2d_2\">\r\n      <g>\r\n       <use style=\"stroke:#000000;stroke-width:0.8;\" x=\"110.74125\" xlink:href=\"#mb77f1276e0\" y=\"348.478125\"/>\r\n      </g>\r\n     </g>\r\n     <g id=\"text_2\">\r\n      <!-- 0.2 -->\r\n      <g transform=\"translate(102.789688 363.076562)scale(0.1 -0.1)\">\r\n       <defs>\r\n        <path d=\"M 19.1875 8.296875 \r\nL 53.609375 8.296875 \r\nL 53.609375 0 \r\nL 7.328125 0 \r\nL 7.328125 8.296875 \r\nQ 12.9375 14.109375 22.625 23.890625 \r\nQ 32.328125 33.6875 34.8125 36.53125 \r\nQ 39.546875 41.84375 41.421875 45.53125 \r\nQ 43.3125 49.21875 43.3125 52.78125 \r\nQ 43.3125 58.59375 39.234375 62.25 \r\nQ 35.15625 65.921875 28.609375 65.921875 \r\nQ 23.96875 65.921875 18.8125 64.3125 \r\nQ 13.671875 62.703125 7.8125 59.421875 \r\nL 7.8125 69.390625 \r\nQ 13.765625 71.78125 18.9375 73 \r\nQ 24.125 74.21875 28.421875 74.21875 \r\nQ 39.75 74.21875 46.484375 68.546875 \r\nQ 53.21875 62.890625 53.21875 53.421875 \r\nQ 53.21875 48.921875 51.53125 44.890625 \r\nQ 49.859375 40.875 45.40625 35.40625 \r\nQ 44.1875 33.984375 37.640625 27.21875 \r\nQ 31.109375 20.453125 19.1875 8.296875 \r\nz\r\n\" id=\"DejaVuSans-50\"/>\r\n       </defs>\r\n       <use xlink:href=\"#DejaVuSans-48\"/>\r\n       <use x=\"63.623047\" xlink:href=\"#DejaVuSans-46\"/>\r\n       <use x=\"95.410156\" xlink:href=\"#DejaVuSans-50\"/>\r\n      </g>\r\n     </g>\r\n    </g>\r\n    <g id=\"xtick_3\">\r\n     <g id=\"line2d_3\">\r\n      <g>\r\n       <use style=\"stroke:#000000;stroke-width:0.8;\" x=\"177.70125\" xlink:href=\"#mb77f1276e0\" y=\"348.478125\"/>\r\n      </g>\r\n     </g>\r\n     <g id=\"text_3\">\r\n      <!-- 0.4 -->\r\n      <g transform=\"translate(169.749688 363.076562)scale(0.1 -0.1)\">\r\n       <defs>\r\n        <path d=\"M 37.796875 64.3125 \r\nL 12.890625 25.390625 \r\nL 37.796875 25.390625 \r\nz\r\nM 35.203125 72.90625 \r\nL 47.609375 72.90625 \r\nL 47.609375 25.390625 \r\nL 58.015625 25.390625 \r\nL 58.015625 17.1875 \r\nL 47.609375 17.1875 \r\nL 47.609375 0 \r\nL 37.796875 0 \r\nL 37.796875 17.1875 \r\nL 4.890625 17.1875 \r\nL 4.890625 26.703125 \r\nz\r\n\" id=\"DejaVuSans-52\"/>\r\n       </defs>\r\n       <use xlink:href=\"#DejaVuSans-48\"/>\r\n       <use x=\"63.623047\" xlink:href=\"#DejaVuSans-46\"/>\r\n       <use x=\"95.410156\" xlink:href=\"#DejaVuSans-52\"/>\r\n      </g>\r\n     </g>\r\n    </g>\r\n    <g id=\"xtick_4\">\r\n     <g id=\"line2d_4\">\r\n      <g>\r\n       <use style=\"stroke:#000000;stroke-width:0.8;\" x=\"244.66125\" xlink:href=\"#mb77f1276e0\" y=\"348.478125\"/>\r\n      </g>\r\n     </g>\r\n     <g id=\"text_4\">\r\n      <!-- 0.6 -->\r\n      <g transform=\"translate(236.709688 363.076562)scale(0.1 -0.1)\">\r\n       <defs>\r\n        <path d=\"M 33.015625 40.375 \r\nQ 26.375 40.375 22.484375 35.828125 \r\nQ 18.609375 31.296875 18.609375 23.390625 \r\nQ 18.609375 15.53125 22.484375 10.953125 \r\nQ 26.375 6.390625 33.015625 6.390625 \r\nQ 39.65625 6.390625 43.53125 10.953125 \r\nQ 47.40625 15.53125 47.40625 23.390625 \r\nQ 47.40625 31.296875 43.53125 35.828125 \r\nQ 39.65625 40.375 33.015625 40.375 \r\nz\r\nM 52.59375 71.296875 \r\nL 52.59375 62.3125 \r\nQ 48.875 64.0625 45.09375 64.984375 \r\nQ 41.3125 65.921875 37.59375 65.921875 \r\nQ 27.828125 65.921875 22.671875 59.328125 \r\nQ 17.53125 52.734375 16.796875 39.40625 \r\nQ 19.671875 43.65625 24.015625 45.921875 \r\nQ 28.375 48.1875 33.59375 48.1875 \r\nQ 44.578125 48.1875 50.953125 41.515625 \r\nQ 57.328125 34.859375 57.328125 23.390625 \r\nQ 57.328125 12.15625 50.6875 5.359375 \r\nQ 44.046875 -1.421875 33.015625 -1.421875 \r\nQ 20.359375 -1.421875 13.671875 8.265625 \r\nQ 6.984375 17.96875 6.984375 36.375 \r\nQ 6.984375 53.65625 15.1875 63.9375 \r\nQ 23.390625 74.21875 37.203125 74.21875 \r\nQ 40.921875 74.21875 44.703125 73.484375 \r\nQ 48.484375 72.75 52.59375 71.296875 \r\nz\r\n\" id=\"DejaVuSans-54\"/>\r\n       </defs>\r\n       <use xlink:href=\"#DejaVuSans-48\"/>\r\n       <use x=\"63.623047\" xlink:href=\"#DejaVuSans-46\"/>\r\n       <use x=\"95.410156\" xlink:href=\"#DejaVuSans-54\"/>\r\n      </g>\r\n     </g>\r\n    </g>\r\n    <g id=\"xtick_5\">\r\n     <g id=\"line2d_5\">\r\n      <g>\r\n       <use style=\"stroke:#000000;stroke-width:0.8;\" x=\"311.62125\" xlink:href=\"#mb77f1276e0\" y=\"348.478125\"/>\r\n      </g>\r\n     </g>\r\n     <g id=\"text_5\">\r\n      <!-- 0.8 -->\r\n      <g transform=\"translate(303.669688 363.076562)scale(0.1 -0.1)\">\r\n       <defs>\r\n        <path d=\"M 31.78125 34.625 \r\nQ 24.75 34.625 20.71875 30.859375 \r\nQ 16.703125 27.09375 16.703125 20.515625 \r\nQ 16.703125 13.921875 20.71875 10.15625 \r\nQ 24.75 6.390625 31.78125 6.390625 \r\nQ 38.8125 6.390625 42.859375 10.171875 \r\nQ 46.921875 13.96875 46.921875 20.515625 \r\nQ 46.921875 27.09375 42.890625 30.859375 \r\nQ 38.875 34.625 31.78125 34.625 \r\nz\r\nM 21.921875 38.8125 \r\nQ 15.578125 40.375 12.03125 44.71875 \r\nQ 8.5 49.078125 8.5 55.328125 \r\nQ 8.5 64.0625 14.71875 69.140625 \r\nQ 20.953125 74.21875 31.78125 74.21875 \r\nQ 42.671875 74.21875 48.875 69.140625 \r\nQ 55.078125 64.0625 55.078125 55.328125 \r\nQ 55.078125 49.078125 51.53125 44.71875 \r\nQ 48 40.375 41.703125 38.8125 \r\nQ 48.828125 37.15625 52.796875 32.3125 \r\nQ 56.78125 27.484375 56.78125 20.515625 \r\nQ 56.78125 9.90625 50.3125 4.234375 \r\nQ 43.84375 -1.421875 31.78125 -1.421875 \r\nQ 19.734375 -1.421875 13.25 4.234375 \r\nQ 6.78125 9.90625 6.78125 20.515625 \r\nQ 6.78125 27.484375 10.78125 32.3125 \r\nQ 14.796875 37.15625 21.921875 38.8125 \r\nz\r\nM 18.3125 54.390625 \r\nQ 18.3125 48.734375 21.84375 45.5625 \r\nQ 25.390625 42.390625 31.78125 42.390625 \r\nQ 38.140625 42.390625 41.71875 45.5625 \r\nQ 45.3125 48.734375 45.3125 54.390625 \r\nQ 45.3125 60.0625 41.71875 63.234375 \r\nQ 38.140625 66.40625 31.78125 66.40625 \r\nQ 25.390625 66.40625 21.84375 63.234375 \r\nQ 18.3125 60.0625 18.3125 54.390625 \r\nz\r\n\" id=\"DejaVuSans-56\"/>\r\n       </defs>\r\n       <use xlink:href=\"#DejaVuSans-48\"/>\r\n       <use x=\"63.623047\" xlink:href=\"#DejaVuSans-46\"/>\r\n       <use x=\"95.410156\" xlink:href=\"#DejaVuSans-56\"/>\r\n      </g>\r\n     </g>\r\n    </g>\r\n    <g id=\"xtick_6\">\r\n     <g id=\"line2d_6\">\r\n      <g>\r\n       <use style=\"stroke:#000000;stroke-width:0.8;\" x=\"378.58125\" xlink:href=\"#mb77f1276e0\" y=\"348.478125\"/>\r\n      </g>\r\n     </g>\r\n     <g id=\"text_6\">\r\n      <!-- 1.0 -->\r\n      <g transform=\"translate(370.629687 363.076562)scale(0.1 -0.1)\">\r\n       <defs>\r\n        <path d=\"M 12.40625 8.296875 \r\nL 28.515625 8.296875 \r\nL 28.515625 63.921875 \r\nL 10.984375 60.40625 \r\nL 10.984375 69.390625 \r\nL 28.421875 72.90625 \r\nL 38.28125 72.90625 \r\nL 38.28125 8.296875 \r\nL 54.390625 8.296875 \r\nL 54.390625 0 \r\nL 12.40625 0 \r\nz\r\n\" id=\"DejaVuSans-49\"/>\r\n       </defs>\r\n       <use xlink:href=\"#DejaVuSans-49\"/>\r\n       <use x=\"63.623047\" xlink:href=\"#DejaVuSans-46\"/>\r\n       <use x=\"95.410156\" xlink:href=\"#DejaVuSans-48\"/>\r\n      </g>\r\n     </g>\r\n    </g>\r\n    <g id=\"text_7\">\r\n     <!-- False Positive Rate -->\r\n     <g transform=\"translate(164.714844 376.754687)scale(0.1 -0.1)\">\r\n      <defs>\r\n       <path d=\"M 9.8125 72.90625 \r\nL 51.703125 72.90625 \r\nL 51.703125 64.59375 \r\nL 19.671875 64.59375 \r\nL 19.671875 43.109375 \r\nL 48.578125 43.109375 \r\nL 48.578125 34.8125 \r\nL 19.671875 34.8125 \r\nL 19.671875 0 \r\nL 9.8125 0 \r\nz\r\n\" id=\"DejaVuSans-70\"/>\r\n       <path d=\"M 34.28125 27.484375 \r\nQ 23.390625 27.484375 19.1875 25 \r\nQ 14.984375 22.515625 14.984375 16.5 \r\nQ 14.984375 11.71875 18.140625 8.90625 \r\nQ 21.296875 6.109375 26.703125 6.109375 \r\nQ 34.1875 6.109375 38.703125 11.40625 \r\nQ 43.21875 16.703125 43.21875 25.484375 \r\nL 43.21875 27.484375 \r\nz\r\nM 52.203125 31.203125 \r\nL 52.203125 0 \r\nL 43.21875 0 \r\nL 43.21875 8.296875 \r\nQ 40.140625 3.328125 35.546875 0.953125 \r\nQ 30.953125 -1.421875 24.3125 -1.421875 \r\nQ 15.921875 -1.421875 10.953125 3.296875 \r\nQ 6 8.015625 6 15.921875 \r\nQ 6 25.140625 12.171875 29.828125 \r\nQ 18.359375 34.515625 30.609375 34.515625 \r\nL 43.21875 34.515625 \r\nL 43.21875 35.40625 \r\nQ 43.21875 41.609375 39.140625 45 \r\nQ 35.0625 48.390625 27.6875 48.390625 \r\nQ 23 48.390625 18.546875 47.265625 \r\nQ 14.109375 46.140625 10.015625 43.890625 \r\nL 10.015625 52.203125 \r\nQ 14.9375 54.109375 19.578125 55.046875 \r\nQ 24.21875 56 28.609375 56 \r\nQ 40.484375 56 46.34375 49.84375 \r\nQ 52.203125 43.703125 52.203125 31.203125 \r\nz\r\n\" id=\"DejaVuSans-97\"/>\r\n       <path d=\"M 9.421875 75.984375 \r\nL 18.40625 75.984375 \r\nL 18.40625 0 \r\nL 9.421875 0 \r\nz\r\n\" id=\"DejaVuSans-108\"/>\r\n       <path d=\"M 44.28125 53.078125 \r\nL 44.28125 44.578125 \r\nQ 40.484375 46.53125 36.375 47.5 \r\nQ 32.28125 48.484375 27.875 48.484375 \r\nQ 21.1875 48.484375 17.84375 46.4375 \r\nQ 14.5 44.390625 14.5 40.28125 \r\nQ 14.5 37.15625 16.890625 35.375 \r\nQ 19.28125 33.59375 26.515625 31.984375 \r\nL 29.59375 31.296875 \r\nQ 39.15625 29.25 43.1875 25.515625 \r\nQ 47.21875 21.78125 47.21875 15.09375 \r\nQ 47.21875 7.46875 41.1875 3.015625 \r\nQ 35.15625 -1.421875 24.609375 -1.421875 \r\nQ 20.21875 -1.421875 15.453125 -0.5625 \r\nQ 10.6875 0.296875 5.421875 2 \r\nL 5.421875 11.28125 \r\nQ 10.40625 8.6875 15.234375 7.390625 \r\nQ 20.0625 6.109375 24.8125 6.109375 \r\nQ 31.15625 6.109375 34.5625 8.28125 \r\nQ 37.984375 10.453125 37.984375 14.40625 \r\nQ 37.984375 18.0625 35.515625 20.015625 \r\nQ 33.0625 21.96875 24.703125 23.78125 \r\nL 21.578125 24.515625 \r\nQ 13.234375 26.265625 9.515625 29.90625 \r\nQ 5.8125 33.546875 5.8125 39.890625 \r\nQ 5.8125 47.609375 11.28125 51.796875 \r\nQ 16.75 56 26.8125 56 \r\nQ 31.78125 56 36.171875 55.265625 \r\nQ 40.578125 54.546875 44.28125 53.078125 \r\nz\r\n\" id=\"DejaVuSans-115\"/>\r\n       <path d=\"M 56.203125 29.59375 \r\nL 56.203125 25.203125 \r\nL 14.890625 25.203125 \r\nQ 15.484375 15.921875 20.484375 11.0625 \r\nQ 25.484375 6.203125 34.421875 6.203125 \r\nQ 39.59375 6.203125 44.453125 7.46875 \r\nQ 49.3125 8.734375 54.109375 11.28125 \r\nL 54.109375 2.78125 \r\nQ 49.265625 0.734375 44.1875 -0.34375 \r\nQ 39.109375 -1.421875 33.890625 -1.421875 \r\nQ 20.796875 -1.421875 13.15625 6.1875 \r\nQ 5.515625 13.8125 5.515625 26.8125 \r\nQ 5.515625 40.234375 12.765625 48.109375 \r\nQ 20.015625 56 32.328125 56 \r\nQ 43.359375 56 49.78125 48.890625 \r\nQ 56.203125 41.796875 56.203125 29.59375 \r\nz\r\nM 47.21875 32.234375 \r\nQ 47.125 39.59375 43.09375 43.984375 \r\nQ 39.0625 48.390625 32.421875 48.390625 \r\nQ 24.90625 48.390625 20.390625 44.140625 \r\nQ 15.875 39.890625 15.1875 32.171875 \r\nz\r\n\" id=\"DejaVuSans-101\"/>\r\n       <path id=\"DejaVuSans-32\"/>\r\n       <path d=\"M 19.671875 64.796875 \r\nL 19.671875 37.40625 \r\nL 32.078125 37.40625 \r\nQ 38.96875 37.40625 42.71875 40.96875 \r\nQ 46.484375 44.53125 46.484375 51.125 \r\nQ 46.484375 57.671875 42.71875 61.234375 \r\nQ 38.96875 64.796875 32.078125 64.796875 \r\nz\r\nM 9.8125 72.90625 \r\nL 32.078125 72.90625 \r\nQ 44.34375 72.90625 50.609375 67.359375 \r\nQ 56.890625 61.8125 56.890625 51.125 \r\nQ 56.890625 40.328125 50.609375 34.8125 \r\nQ 44.34375 29.296875 32.078125 29.296875 \r\nL 19.671875 29.296875 \r\nL 19.671875 0 \r\nL 9.8125 0 \r\nz\r\n\" id=\"DejaVuSans-80\"/>\r\n       <path d=\"M 30.609375 48.390625 \r\nQ 23.390625 48.390625 19.1875 42.75 \r\nQ 14.984375 37.109375 14.984375 27.296875 \r\nQ 14.984375 17.484375 19.15625 11.84375 \r\nQ 23.34375 6.203125 30.609375 6.203125 \r\nQ 37.796875 6.203125 41.984375 11.859375 \r\nQ 46.1875 17.53125 46.1875 27.296875 \r\nQ 46.1875 37.015625 41.984375 42.703125 \r\nQ 37.796875 48.390625 30.609375 48.390625 \r\nz\r\nM 30.609375 56 \r\nQ 42.328125 56 49.015625 48.375 \r\nQ 55.71875 40.765625 55.71875 27.296875 \r\nQ 55.71875 13.875 49.015625 6.21875 \r\nQ 42.328125 -1.421875 30.609375 -1.421875 \r\nQ 18.84375 -1.421875 12.171875 6.21875 \r\nQ 5.515625 13.875 5.515625 27.296875 \r\nQ 5.515625 40.765625 12.171875 48.375 \r\nQ 18.84375 56 30.609375 56 \r\nz\r\n\" id=\"DejaVuSans-111\"/>\r\n       <path d=\"M 9.421875 54.6875 \r\nL 18.40625 54.6875 \r\nL 18.40625 0 \r\nL 9.421875 0 \r\nz\r\nM 9.421875 75.984375 \r\nL 18.40625 75.984375 \r\nL 18.40625 64.59375 \r\nL 9.421875 64.59375 \r\nz\r\n\" id=\"DejaVuSans-105\"/>\r\n       <path d=\"M 18.3125 70.21875 \r\nL 18.3125 54.6875 \r\nL 36.8125 54.6875 \r\nL 36.8125 47.703125 \r\nL 18.3125 47.703125 \r\nL 18.3125 18.015625 \r\nQ 18.3125 11.328125 20.140625 9.421875 \r\nQ 21.96875 7.515625 27.59375 7.515625 \r\nL 36.8125 7.515625 \r\nL 36.8125 0 \r\nL 27.59375 0 \r\nQ 17.1875 0 13.234375 3.875 \r\nQ 9.28125 7.765625 9.28125 18.015625 \r\nL 9.28125 47.703125 \r\nL 2.6875 47.703125 \r\nL 2.6875 54.6875 \r\nL 9.28125 54.6875 \r\nL 9.28125 70.21875 \r\nz\r\n\" id=\"DejaVuSans-116\"/>\r\n       <path d=\"M 2.984375 54.6875 \r\nL 12.5 54.6875 \r\nL 29.59375 8.796875 \r\nL 46.6875 54.6875 \r\nL 56.203125 54.6875 \r\nL 35.6875 0 \r\nL 23.484375 0 \r\nz\r\n\" id=\"DejaVuSans-118\"/>\r\n       <path d=\"M 44.390625 34.1875 \r\nQ 47.5625 33.109375 50.5625 29.59375 \r\nQ 53.5625 26.078125 56.59375 19.921875 \r\nL 66.609375 0 \r\nL 56 0 \r\nL 46.6875 18.703125 \r\nQ 43.0625 26.03125 39.671875 28.421875 \r\nQ 36.28125 30.8125 30.421875 30.8125 \r\nL 19.671875 30.8125 \r\nL 19.671875 0 \r\nL 9.8125 0 \r\nL 9.8125 72.90625 \r\nL 32.078125 72.90625 \r\nQ 44.578125 72.90625 50.734375 67.671875 \r\nQ 56.890625 62.453125 56.890625 51.90625 \r\nQ 56.890625 45.015625 53.6875 40.46875 \r\nQ 50.484375 35.9375 44.390625 34.1875 \r\nz\r\nM 19.671875 64.796875 \r\nL 19.671875 38.921875 \r\nL 32.078125 38.921875 \r\nQ 39.203125 38.921875 42.84375 42.21875 \r\nQ 46.484375 45.515625 46.484375 51.90625 \r\nQ 46.484375 58.296875 42.84375 61.546875 \r\nQ 39.203125 64.796875 32.078125 64.796875 \r\nz\r\n\" id=\"DejaVuSans-82\"/>\r\n      </defs>\r\n      <use xlink:href=\"#DejaVuSans-70\"/>\r\n      <use x=\"48.394531\" xlink:href=\"#DejaVuSans-97\"/>\r\n      <use x=\"109.673828\" xlink:href=\"#DejaVuSans-108\"/>\r\n      <use x=\"137.457031\" xlink:href=\"#DejaVuSans-115\"/>\r\n      <use x=\"189.556641\" xlink:href=\"#DejaVuSans-101\"/>\r\n      <use x=\"251.080078\" xlink:href=\"#DejaVuSans-32\"/>\r\n      <use x=\"282.867188\" xlink:href=\"#DejaVuSans-80\"/>\r\n      <use x=\"339.544922\" xlink:href=\"#DejaVuSans-111\"/>\r\n      <use x=\"400.726562\" xlink:href=\"#DejaVuSans-115\"/>\r\n      <use x=\"452.826172\" xlink:href=\"#DejaVuSans-105\"/>\r\n      <use x=\"480.609375\" xlink:href=\"#DejaVuSans-116\"/>\r\n      <use x=\"519.818359\" xlink:href=\"#DejaVuSans-105\"/>\r\n      <use x=\"547.601562\" xlink:href=\"#DejaVuSans-118\"/>\r\n      <use x=\"606.78125\" xlink:href=\"#DejaVuSans-101\"/>\r\n      <use x=\"668.304688\" xlink:href=\"#DejaVuSans-32\"/>\r\n      <use x=\"700.091797\" xlink:href=\"#DejaVuSans-82\"/>\r\n      <use x=\"767.324219\" xlink:href=\"#DejaVuSans-97\"/>\r\n      <use x=\"828.603516\" xlink:href=\"#DejaVuSans-116\"/>\r\n      <use x=\"867.8125\" xlink:href=\"#DejaVuSans-101\"/>\r\n     </g>\r\n    </g>\r\n   </g>\r\n   <g id=\"matplotlib.axis_2\">\r\n    <g id=\"ytick_1\">\r\n     <g id=\"line2d_7\">\r\n      <defs>\r\n       <path d=\"M 0 0 \r\nL -3.5 0 \r\n\" id=\"mccf4844cc7\" style=\"stroke:#000000;stroke-width:0.8;\"/>\r\n      </defs>\r\n      <g>\r\n       <use style=\"stroke:#000000;stroke-width:0.8;\" x=\"43.78125\" xlink:href=\"#mccf4844cc7\" y=\"348.478125\"/>\r\n      </g>\r\n     </g>\r\n     <g id=\"text_8\">\r\n      <!-- 0.0 -->\r\n      <g transform=\"translate(20.878125 352.277344)scale(0.1 -0.1)\">\r\n       <use xlink:href=\"#DejaVuSans-48\"/>\r\n       <use x=\"63.623047\" xlink:href=\"#DejaVuSans-46\"/>\r\n       <use x=\"95.410156\" xlink:href=\"#DejaVuSans-48\"/>\r\n      </g>\r\n     </g>\r\n    </g>\r\n    <g id=\"ytick_2\">\r\n     <g id=\"line2d_8\">\r\n      <g>\r\n       <use style=\"stroke:#000000;stroke-width:0.8;\" x=\"43.78125\" xlink:href=\"#mccf4844cc7\" y=\"286.352411\"/>\r\n      </g>\r\n     </g>\r\n     <g id=\"text_9\">\r\n      <!-- 0.2 -->\r\n      <g transform=\"translate(20.878125 290.151629)scale(0.1 -0.1)\">\r\n       <use xlink:href=\"#DejaVuSans-48\"/>\r\n       <use x=\"63.623047\" xlink:href=\"#DejaVuSans-46\"/>\r\n       <use x=\"95.410156\" xlink:href=\"#DejaVuSans-50\"/>\r\n      </g>\r\n     </g>\r\n    </g>\r\n    <g id=\"ytick_3\">\r\n     <g id=\"line2d_9\">\r\n      <g>\r\n       <use style=\"stroke:#000000;stroke-width:0.8;\" x=\"43.78125\" xlink:href=\"#mccf4844cc7\" y=\"224.226696\"/>\r\n      </g>\r\n     </g>\r\n     <g id=\"text_10\">\r\n      <!-- 0.4 -->\r\n      <g transform=\"translate(20.878125 228.025915)scale(0.1 -0.1)\">\r\n       <use xlink:href=\"#DejaVuSans-48\"/>\r\n       <use x=\"63.623047\" xlink:href=\"#DejaVuSans-46\"/>\r\n       <use x=\"95.410156\" xlink:href=\"#DejaVuSans-52\"/>\r\n      </g>\r\n     </g>\r\n    </g>\r\n    <g id=\"ytick_4\">\r\n     <g id=\"line2d_10\">\r\n      <g>\r\n       <use style=\"stroke:#000000;stroke-width:0.8;\" x=\"43.78125\" xlink:href=\"#mccf4844cc7\" y=\"162.100982\"/>\r\n      </g>\r\n     </g>\r\n     <g id=\"text_11\">\r\n      <!-- 0.6 -->\r\n      <g transform=\"translate(20.878125 165.900201)scale(0.1 -0.1)\">\r\n       <use xlink:href=\"#DejaVuSans-48\"/>\r\n       <use x=\"63.623047\" xlink:href=\"#DejaVuSans-46\"/>\r\n       <use x=\"95.410156\" xlink:href=\"#DejaVuSans-54\"/>\r\n      </g>\r\n     </g>\r\n    </g>\r\n    <g id=\"ytick_5\">\r\n     <g id=\"line2d_11\">\r\n      <g>\r\n       <use style=\"stroke:#000000;stroke-width:0.8;\" x=\"43.78125\" xlink:href=\"#mccf4844cc7\" y=\"99.975268\"/>\r\n      </g>\r\n     </g>\r\n     <g id=\"text_12\">\r\n      <!-- 0.8 -->\r\n      <g transform=\"translate(20.878125 103.774487)scale(0.1 -0.1)\">\r\n       <use xlink:href=\"#DejaVuSans-48\"/>\r\n       <use x=\"63.623047\" xlink:href=\"#DejaVuSans-46\"/>\r\n       <use x=\"95.410156\" xlink:href=\"#DejaVuSans-56\"/>\r\n      </g>\r\n     </g>\r\n    </g>\r\n    <g id=\"ytick_6\">\r\n     <g id=\"line2d_12\">\r\n      <g>\r\n       <use style=\"stroke:#000000;stroke-width:0.8;\" x=\"43.78125\" xlink:href=\"#mccf4844cc7\" y=\"37.849554\"/>\r\n      </g>\r\n     </g>\r\n     <g id=\"text_13\">\r\n      <!-- 1.0 -->\r\n      <g transform=\"translate(20.878125 41.648772)scale(0.1 -0.1)\">\r\n       <use xlink:href=\"#DejaVuSans-49\"/>\r\n       <use x=\"63.623047\" xlink:href=\"#DejaVuSans-46\"/>\r\n       <use x=\"95.410156\" xlink:href=\"#DejaVuSans-48\"/>\r\n      </g>\r\n     </g>\r\n    </g>\r\n    <g id=\"text_14\">\r\n     <!-- True Positive Rate -->\r\n     <g transform=\"translate(14.798438 229.927812)rotate(-90)scale(0.1 -0.1)\">\r\n      <defs>\r\n       <path d=\"M -0.296875 72.90625 \r\nL 61.375 72.90625 \r\nL 61.375 64.59375 \r\nL 35.5 64.59375 \r\nL 35.5 0 \r\nL 25.59375 0 \r\nL 25.59375 64.59375 \r\nL -0.296875 64.59375 \r\nz\r\n\" id=\"DejaVuSans-84\"/>\r\n       <path d=\"M 41.109375 46.296875 \r\nQ 39.59375 47.171875 37.8125 47.578125 \r\nQ 36.03125 48 33.890625 48 \r\nQ 26.265625 48 22.1875 43.046875 \r\nQ 18.109375 38.09375 18.109375 28.8125 \r\nL 18.109375 0 \r\nL 9.078125 0 \r\nL 9.078125 54.6875 \r\nL 18.109375 54.6875 \r\nL 18.109375 46.1875 \r\nQ 20.953125 51.171875 25.484375 53.578125 \r\nQ 30.03125 56 36.53125 56 \r\nQ 37.453125 56 38.578125 55.875 \r\nQ 39.703125 55.765625 41.0625 55.515625 \r\nz\r\n\" id=\"DejaVuSans-114\"/>\r\n       <path d=\"M 8.5 21.578125 \r\nL 8.5 54.6875 \r\nL 17.484375 54.6875 \r\nL 17.484375 21.921875 \r\nQ 17.484375 14.15625 20.5 10.265625 \r\nQ 23.53125 6.390625 29.59375 6.390625 \r\nQ 36.859375 6.390625 41.078125 11.03125 \r\nQ 45.3125 15.671875 45.3125 23.6875 \r\nL 45.3125 54.6875 \r\nL 54.296875 54.6875 \r\nL 54.296875 0 \r\nL 45.3125 0 \r\nL 45.3125 8.40625 \r\nQ 42.046875 3.421875 37.71875 1 \r\nQ 33.40625 -1.421875 27.6875 -1.421875 \r\nQ 18.265625 -1.421875 13.375 4.4375 \r\nQ 8.5 10.296875 8.5 21.578125 \r\nz\r\nM 31.109375 56 \r\nz\r\n\" id=\"DejaVuSans-117\"/>\r\n      </defs>\r\n      <use xlink:href=\"#DejaVuSans-84\"/>\r\n      <use x=\"46.333984\" xlink:href=\"#DejaVuSans-114\"/>\r\n      <use x=\"87.447266\" xlink:href=\"#DejaVuSans-117\"/>\r\n      <use x=\"150.826172\" xlink:href=\"#DejaVuSans-101\"/>\r\n      <use x=\"212.349609\" xlink:href=\"#DejaVuSans-32\"/>\r\n      <use x=\"244.136719\" xlink:href=\"#DejaVuSans-80\"/>\r\n      <use x=\"300.814453\" xlink:href=\"#DejaVuSans-111\"/>\r\n      <use x=\"361.996094\" xlink:href=\"#DejaVuSans-115\"/>\r\n      <use x=\"414.095703\" xlink:href=\"#DejaVuSans-105\"/>\r\n      <use x=\"441.878906\" xlink:href=\"#DejaVuSans-116\"/>\r\n      <use x=\"481.087891\" xlink:href=\"#DejaVuSans-105\"/>\r\n      <use x=\"508.871094\" xlink:href=\"#DejaVuSans-118\"/>\r\n      <use x=\"568.050781\" xlink:href=\"#DejaVuSans-101\"/>\r\n      <use x=\"629.574219\" xlink:href=\"#DejaVuSans-32\"/>\r\n      <use x=\"661.361328\" xlink:href=\"#DejaVuSans-82\"/>\r\n      <use x=\"728.59375\" xlink:href=\"#DejaVuSans-97\"/>\r\n      <use x=\"789.873047\" xlink:href=\"#DejaVuSans-116\"/>\r\n      <use x=\"829.082031\" xlink:href=\"#DejaVuSans-101\"/>\r\n     </g>\r\n    </g>\r\n   </g>\r\n   <g id=\"line2d_13\">\r\n    <path clip-path=\"url(#pd3d8fdae61)\" d=\"M 43.78125 348.478125 \r\nL 45.466541 347.682516 \r\nL 45.635071 347.682516 \r\nL 45.635071 347.568857 \r\nL 45.871011 347.568857 \r\nL 45.871011 347.455199 \r\nL 46.309187 347.455199 \r\nL 46.309187 347.34154 \r\nL 46.477716 347.34154 \r\nL 46.545128 347.000565 \r\nL 46.646245 347.000565 \r\nL 46.646245 346.886907 \r\nL 46.84848 346.886907 \r\nL 46.949598 346.65959 \r\nL 46.983304 346.65959 \r\nL 46.983304 346.204956 \r\nL 47.118127 346.204956 \r\nL 47.219245 345.86398 \r\nL 47.522597 345.86398 \r\nL 47.522597 345.750322 \r\nL 47.893361 345.750322 \r\nL 47.893361 345.523005 \r\nL 48.06189 345.523005 \r\nL 48.163008 344.954713 \r\nL 48.365243 344.954713 \r\nL 48.365243 344.841054 \r\nL 48.533772 344.841054 \r\nL 48.567478 344.613737 \r\nL 48.736007 344.613737 \r\nL 48.736007 344.500079 \r\nL 49.005654 344.500079 \r\nL 49.005654 344.272762 \r\nL 49.342712 344.272762 \r\nL 49.342712 344.159104 \r\nL 49.612358 344.159104 \r\nL 49.67977 343.590811 \r\nL 49.747182 343.590811 \r\nL 49.747182 343.477153 \r\nL 49.882005 343.477153 \r\nL 49.882005 343.249836 \r\nL 50.016828 343.249836 \r\nL 50.117946 343.022519 \r\nL 50.286475 343.022519 \r\nL 50.353887 342.795202 \r\nL 50.522416 342.795202 \r\nL 50.556122 342.567885 \r\nL 50.657239 342.567885 \r\nL 50.758357 342.113251 \r\nL 50.825768 342.113251 \r\nL 50.926886 341.658617 \r\nL 50.994297 341.658617 \r\nL 51.061709 341.090325 \r\nL 51.29765 341.090325 \r\nL 51.398767 340.863008 \r\nL 51.499885 340.863008 \r\nL 51.601002 340.294716 \r\nL 51.769531 340.294716 \r\nL 51.769531 340.181057 \r\nL 51.904355 340.181057 \r\nL 52.005472 339.612765 \r\nL 52.376236 339.612765 \r\nL 52.409942 338.930814 \r\nL 52.51106 338.930814 \r\nL 52.578471 338.248864 \r\nL 52.679589 338.248864 \r\nL 52.713295 338.021547 \r\nL 52.814412 338.021547 \r\nL 52.91553 337.566913 \r\nL 53.016647 337.566913 \r\nL 53.016647 337.453254 \r\nL 53.218882 337.453254 \r\nL 53.218882 337.339596 \r\nL 53.454823 337.339596 \r\nL 53.522235 336.884962 \r\nL 53.690764 336.884962 \r\nL 53.791881 336.430328 \r\nL 53.859293 336.430328 \r\nL 53.96041 335.862036 \r\nL 53.994116 335.862036 \r\nL 54.027822 335.634719 \r\nL 54.162645 335.634719 \r\nL 54.263763 335.066427 \r\nL 54.297469 335.066427 \r\nL 54.297469 334.83911 \r\nL 54.432292 334.83911 \r\nL 54.465998 334.498134 \r\nL 54.600821 334.498134 \r\nL 54.668233 333.588867 \r\nL 54.735644 333.588867 \r\nL 54.836762 333.020574 \r\nL 54.870468 333.020574 \r\nL 54.937879 332.793258 \r\nL 55.072703 332.793258 \r\nL 55.17382 332.338624 \r\nL 55.207526 332.338624 \r\nL 55.308644 332.111307 \r\nL 55.409761 332.111307 \r\nL 55.510879 331.202039 \r\nL 55.544584 331.202039 \r\nL 55.645702 330.974722 \r\nL 55.713113 330.974722 \r\nL 55.713113 330.861064 \r\nL 55.847937 330.861064 \r\nL 55.881643 330.633747 \r\nL 55.98276 330.633747 \r\nL 56.083878 330.179113 \r\nL 56.252407 330.179113 \r\nL 56.286113 329.497162 \r\nL 56.420936 329.497162 \r\nL 56.420936 329.383504 \r\nL 56.555759 329.383504 \r\nL 56.656877 328.815211 \r\nL 56.859112 328.815211 \r\nL 56.960229 328.587894 \r\nL 56.993935 328.587894 \r\nL 57.061347 328.246919 \r\nL 57.162464 328.246919 \r\nL 57.263582 327.905944 \r\nL 57.297287 327.905944 \r\nL 57.398405 327.223993 \r\nL 57.465817 327.223993 \r\nL 57.499522 326.769359 \r\nL 57.701757 326.769359 \r\nL 57.802875 326.201067 \r\nL 57.836581 326.201067 \r\nL 57.836581 325.97375 \r\nL 58.00511 325.97375 \r\nL 58.106227 325.519116 \r\nL 58.139933 325.519116 \r\nL 58.139933 325.405458 \r\nL 58.443286 325.405458 \r\nL 58.510697 325.178141 \r\nL 58.578109 325.178141 \r\nL 58.578109 325.064482 \r\nL 58.746638 325.064482 \r\nL 58.746638 324.837165 \r\nL 58.915167 324.837165 \r\nL 58.982579 324.49619 \r\nL 59.083696 324.49619 \r\nL 59.117402 324.268873 \r\nL 59.21852 324.268873 \r\nL 59.21852 324.041556 \r\nL 59.353343 324.041556 \r\nL 59.387049 323.700581 \r\nL 59.521872 323.700581 \r\nL 59.521872 323.132288 \r\nL 59.656695 323.132288 \r\nL 59.724107 322.904971 \r\nL 59.791519 322.904971 \r\nL 59.85893 321.995704 \r\nL 59.960048 321.995704 \r\nL 59.960048 321.882045 \r\nL 60.2634 321.882045 \r\nL 60.364518 321.313753 \r\nL 60.499341 321.313753 \r\nL 60.566753 321.086436 \r\nL 60.634165 321.086436 \r\nL 60.735282 320.631802 \r\nL 60.8364 320.631802 \r\nL 60.870105 320.177168 \r\nL 60.971223 320.177168 \r\nL 61.07234 319.495218 \r\nL 61.139752 319.495218 \r\nL 61.173458 319.267901 \r\nL 61.274575 319.267901 \r\nL 61.274575 319.154242 \r\nL 61.510516 319.154242 \r\nL 61.544222 318.813267 \r\nL 61.746457 318.813267 \r\nL 61.847574 318.358633 \r\nL 61.914986 318.358633 \r\nL 61.982398 317.790341 \r\nL 62.083515 317.790341 \r\nL 62.184633 317.449365 \r\nL 62.386868 317.449365 \r\nL 62.454279 316.881073 \r\nL 62.555397 316.881073 \r\nL 62.622808 315.971805 \r\nL 62.723926 315.971805 \r\nL 62.757632 315.63083 \r\nL 62.858749 315.63083 \r\nL 62.959867 315.176196 \r\nL 62.993573 315.176196 \r\nL 63.09469 314.039612 \r\nL 63.296925 314.039612 \r\nL 63.398043 312.67571 \r\nL 63.431748 312.67571 \r\nL 63.431748 312.334735 \r\nL 63.566572 312.334735 \r\nL 63.667689 312.107418 \r\nL 63.735101 312.107418 \r\nL 63.836218 311.425467 \r\nL 63.869924 311.425467 \r\nL 63.937336 311.084492 \r\nL 64.004747 311.084492 \r\nL 64.038453 310.629858 \r\nL 64.274394 310.629858 \r\nL 64.274394 310.175224 \r\nL 64.442923 310.175224 \r\nL 64.510335 309.72059 \r\nL 64.611452 309.72059 \r\nL 64.71257 308.697664 \r\nL 64.746276 308.697664 \r\nL 64.746276 308.584006 \r\nL 64.881099 308.584006 \r\nL 64.982216 308.356689 \r\nL 65.083334 308.356689 \r\nL 65.083334 308.129372 \r\nL 65.218157 308.129372 \r\nL 65.319275 307.220104 \r\nL 65.352981 307.220104 \r\nL 65.420392 306.424495 \r\nL 65.487804 306.424495 \r\nL 65.588921 305.969861 \r\nL 65.656333 305.969861 \r\nL 65.757451 305.28791 \r\nL 65.892274 305.28791 \r\nL 65.993391 304.719618 \r\nL 66.060803 304.719618 \r\nL 66.16192 303.924009 \r\nL 66.195626 303.924009 \r\nL 66.296744 303.242058 \r\nL 66.33045 303.242058 \r\nL 66.431567 302.787424 \r\nL 66.532685 302.787424 \r\nL 66.532685 302.673766 \r\nL 66.667508 302.673766 \r\nL 66.667508 302.560107 \r\nL 66.802331 302.560107 \r\nL 66.836037 302.33279 \r\nL 66.97086 302.33279 \r\nL 66.97086 302.105473 \r\nL 67.105684 302.105473 \r\nL 67.206801 301.537181 \r\nL 67.240507 301.537181 \r\nL 67.307919 301.309864 \r\nL 67.409036 301.309864 \r\nL 67.476448 300.968889 \r\nL 67.543859 300.968889 \r\nL 67.611271 300.059621 \r\nL 67.746094 300.059621 \r\nL 67.847212 299.832304 \r\nL 67.880918 299.832304 \r\nL 67.982035 299.150353 \r\nL 68.352799 299.150353 \r\nL 68.420211 297.786452 \r\nL 68.521329 297.786452 \r\nL 68.58874 297.445476 \r\nL 68.723564 297.445476 \r\nL 68.824681 296.877184 \r\nL 68.858387 296.877184 \r\nL 68.858387 296.649867 \r\nL 69.060622 296.649867 \r\nL 69.094328 296.308892 \r\nL 69.262857 296.308892 \r\nL 69.363974 295.7406 \r\nL 69.498798 295.7406 \r\nL 69.532503 295.399624 \r\nL 69.701033 295.399624 \r\nL 69.80215 294.94499 \r\nL 69.936973 294.94499 \r\nL 70.038091 294.376698 \r\nL 70.071797 294.376698 \r\nL 70.139208 293.581089 \r\nL 70.240326 293.581089 \r\nL 70.341443 293.353772 \r\nL 70.408855 293.353772 \r\nL 70.509972 293.126455 \r\nL 70.543678 293.126455 \r\nL 70.644796 292.899138 \r\nL 70.779619 292.899138 \r\nL 70.779619 292.78548 \r\nL 70.981854 292.78548 \r\nL 70.981854 292.444504 \r\nL 71.184089 292.444504 \r\nL 71.251501 292.103529 \r\nL 71.352618 292.103529 \r\nL 71.453736 291.876212 \r\nL 71.521147 291.876212 \r\nL 71.588559 291.080603 \r\nL 71.655971 291.080603 \r\nL 71.757088 290.284993 \r\nL 71.8245 290.284993 \r\nL 71.925617 289.603043 \r\nL 72.094146 289.603043 \r\nL 72.195264 289.03475 \r\nL 72.296381 289.03475 \r\nL 72.363793 288.466458 \r\nL 72.532322 288.466458 \r\nL 72.63344 287.898166 \r\nL 72.667145 287.898166 \r\nL 72.768263 287.55719 \r\nL 72.835675 287.55719 \r\nL 72.835675 287.443532 \r\nL 72.970498 287.443532 \r\nL 73.03791 287.102557 \r\nL 73.206439 287.102557 \r\nL 73.206439 286.87524 \r\nL 73.341262 286.87524 \r\nL 73.408674 286.534264 \r\nL 73.712026 286.534264 \r\nL 73.813144 285.852313 \r\nL 73.84685 285.852313 \r\nL 73.84685 285.511338 \r\nL 74.049084 285.511338 \r\nL 74.150202 285.056704 \r\nL 74.183908 285.056704 \r\nL 74.251319 284.374754 \r\nL 74.352437 284.374754 \r\nL 74.419849 284.033778 \r\nL 74.622084 284.033778 \r\nL 74.689495 282.897194 \r\nL 74.790613 282.897194 \r\nL 74.790613 282.783535 \r\nL 74.992848 282.783535 \r\nL 75.093965 282.215243 \r\nL 75.127671 282.215243 \r\nL 75.127671 282.101584 \r\nL 75.2962 282.101584 \r\nL 75.363612 281.760609 \r\nL 75.498435 281.760609 \r\nL 75.599553 280.510366 \r\nL 75.734376 280.510366 \r\nL 75.801788 279.942074 \r\nL 75.970317 279.942074 \r\nL 76.071434 279.260123 \r\nL 76.138846 279.260123 \r\nL 76.138846 279.146464 \r\nL 76.273669 279.146464 \r\nL 76.341081 278.919147 \r\nL 76.408493 278.919147 \r\nL 76.442198 278.578172 \r\nL 76.543316 278.578172 \r\nL 76.644433 278.350855 \r\nL 76.678139 278.350855 \r\nL 76.779257 277.668904 \r\nL 76.812962 277.668904 \r\nL 76.91408 277.100612 \r\nL 76.947786 277.100612 \r\nL 76.947786 276.986954 \r\nL 77.150021 276.986954 \r\nL 77.217432 276.305003 \r\nL 77.31855 276.305003 \r\nL 77.385962 275.850369 \r\nL 77.554491 275.850369 \r\nL 77.621902 275.395735 \r\nL 77.756726 275.395735 \r\nL 77.857843 274.713784 \r\nL 77.992666 274.713784 \r\nL 78.093784 273.236224 \r\nL 78.430842 273.236224 \r\nL 78.464548 272.667932 \r\nL 78.599371 272.667932 \r\nL 78.599371 272.554274 \r\nL 78.767901 272.554274 \r\nL 78.835312 271.758664 \r\nL 79.138665 271.758664 \r\nL 79.239782 271.304031 \r\nL 79.273488 271.304031 \r\nL 79.374605 270.281104 \r\nL 79.442017 270.281104 \r\nL 79.543135 269.826471 \r\nL 79.644252 269.826471 \r\nL 79.711664 269.258178 \r\nL 79.812781 269.258178 \r\nL 79.880193 269.030861 \r\nL 79.98131 269.030861 \r\nL 80.048722 268.576228 \r\nL 80.116134 268.576228 \r\nL 80.116134 268.462569 \r\nL 80.250957 268.462569 \r\nL 80.318369 268.007935 \r\nL 80.38578 268.007935 \r\nL 80.453192 267.439643 \r\nL 80.520604 267.439643 \r\nL 80.554309 267.098668 \r\nL 80.722839 267.098668 \r\nL 80.722839 266.985009 \r\nL 80.857662 266.985009 \r\nL 80.857662 266.871351 \r\nL 81.228426 266.871351 \r\nL 81.329544 266.303058 \r\nL 81.396955 266.303058 \r\nL 81.498073 265.507449 \r\nL 81.565484 265.507449 \r\nL 81.666602 265.052815 \r\nL 81.700308 265.052815 \r\nL 81.700308 264.939157 \r\nL 81.835131 264.939157 \r\nL 81.936248 264.598181 \r\nL 81.969954 264.598181 \r\nL 82.037366 264.370865 \r\nL 82.138483 264.370865 \r\nL 82.172189 264.029889 \r\nL 82.273307 264.029889 \r\nL 82.340718 263.688914 \r\nL 82.677777 263.688914 \r\nL 82.677777 263.575255 \r\nL 82.913718 263.575255 \r\nL 83.014835 263.006963 \r\nL 83.048541 263.006963 \r\nL 83.048541 262.893305 \r\nL 83.21707 262.893305 \r\nL 83.318187 262.211354 \r\nL 83.351893 262.211354 \r\nL 83.419305 261.529403 \r\nL 83.486717 261.529403 \r\nL 83.554128 261.074769 \r\nL 83.688952 261.074769 \r\nL 83.790069 260.847452 \r\nL 83.823775 260.847452 \r\nL 83.924892 259.824526 \r\nL 83.958598 259.824526 \r\nL 84.02601 259.369892 \r\nL 84.160833 259.369892 \r\nL 84.261951 259.142575 \r\nL 84.295657 259.142575 \r\nL 84.396774 258.915258 \r\nL 84.464186 258.915258 \r\nL 84.531597 258.119649 \r\nL 84.632715 258.119649 \r\nL 84.733832 257.210382 \r\nL 84.902361 257.210382 \r\nL 85.003479 256.528431 \r\nL 85.104596 256.528431 \r\nL 85.138302 256.301114 \r\nL 85.441655 256.301114 \r\nL 85.441655 256.187455 \r\nL 85.576478 256.187455 \r\nL 85.677596 255.505505 \r\nL 85.745007 255.505505 \r\nL 85.745007 255.391846 \r\nL 85.87983 255.391846 \r\nL 85.913536 254.937212 \r\nL 86.014654 254.937212 \r\nL 86.014654 254.823554 \r\nL 86.149477 254.823554 \r\nL 86.183183 254.36892 \r\nL 86.351712 254.36892 \r\nL 86.45283 254.141603 \r\nL 86.520241 254.141603 \r\nL 86.587653 253.800628 \r\nL 86.655065 253.800628 \r\nL 86.655065 253.573311 \r\nL 86.789888 253.573311 \r\nL 86.8573 252.89136 \r\nL 86.924711 252.89136 \r\nL 86.958417 252.550385 \r\nL 87.09324 252.550385 \r\nL 87.126946 252.323068 \r\nL 87.261769 252.323068 \r\nL 87.295475 252.095751 \r\nL 87.430299 252.095751 \r\nL 87.430299 251.982092 \r\nL 87.598828 251.982092 \r\nL 87.666239 251.527459 \r\nL 87.733651 251.527459 \r\nL 87.801063 250.845508 \r\nL 87.935886 250.845508 \r\nL 88.037004 250.163557 \r\nL 88.070709 250.163557 \r\nL 88.138121 249.822582 \r\nL 88.239239 249.822582 \r\nL 88.239239 249.254289 \r\nL 88.407768 249.254289 \r\nL 88.475179 249.026972 \r\nL 88.643708 249.026972 \r\nL 88.71112 248.45868 \r\nL 88.778532 248.45868 \r\nL 88.879649 248.117705 \r\nL 88.947061 248.117705 \r\nL 88.947061 248.004046 \r\nL 89.149296 248.004046 \r\nL 89.250413 247.435754 \r\nL 89.284119 247.435754 \r\nL 89.351531 247.094779 \r\nL 89.418943 247.094779 \r\nL 89.452648 246.867462 \r\nL 89.553766 246.867462 \r\nL 89.587472 246.640145 \r\nL 89.722295 246.640145 \r\nL 89.756001 246.071852 \r\nL 89.991942 246.071852 \r\nL 90.059353 245.844536 \r\nL 90.126765 245.844536 \r\nL 90.194177 245.50356 \r\nL 90.261588 245.50356 \r\nL 90.295294 245.276243 \r\nL 90.396412 245.276243 \r\nL 90.396412 245.162585 \r\nL 90.598647 245.162585 \r\nL 90.699764 244.366976 \r\nL 90.767176 244.366976 \r\nL 90.767176 244.253317 \r\nL 90.935705 244.253317 \r\nL 90.969411 243.685025 \r\nL 91.104234 243.685025 \r\nL 91.104234 243.344049 \r\nL 91.239057 243.344049 \r\nL 91.340175 242.889416 \r\nL 91.373881 242.889416 \r\nL 91.474998 242.321123 \r\nL 91.576116 242.321123 \r\nL 91.677233 242.093806 \r\nL 91.913174 242.093806 \r\nL 91.913174 241.980148 \r\nL 92.115409 241.980148 \r\nL 92.182821 241.411856 \r\nL 92.250232 241.411856 \r\nL 92.35135 240.843563 \r\nL 92.418761 240.843563 \r\nL 92.486173 240.388929 \r\nL 92.58729 240.388929 \r\nL 92.688408 240.047954 \r\nL 92.789525 240.047954 \r\nL 92.789525 239.934296 \r\nL 92.958055 239.934296 \r\nL 93.025466 239.479662 \r\nL 93.193995 239.479662 \r\nL 93.295113 238.911369 \r\nL 93.362525 238.911369 \r\nL 93.362525 238.797711 \r\nL 93.531054 238.797711 \r\nL 93.632171 238.229419 \r\nL 93.665877 238.229419 \r\nL 93.665877 237.888443 \r\nL 93.868112 237.888443 \r\nL 93.969229 237.206493 \r\nL 94.002935 237.206493 \r\nL 94.070347 236.865517 \r\nL 94.137759 236.865517 \r\nL 94.238876 236.524542 \r\nL 94.339994 236.524542 \r\nL 94.339994 236.410883 \r\nL 94.474817 236.410883 \r\nL 94.474817 236.297225 \r\nL 94.60964 236.297225 \r\nL 94.677052 235.95625 \r\nL 94.744464 235.95625 \r\nL 94.845581 234.933323 \r\nL 94.946699 234.933323 \r\nL 95.047816 233.796739 \r\nL 95.081522 233.796739 \r\nL 95.081522 233.569422 \r\nL 95.250051 233.569422 \r\nL 95.283757 233.228446 \r\nL 95.384874 233.228446 \r\nL 95.384874 233.114788 \r\nL 95.519698 233.114788 \r\nL 95.620815 232.773813 \r\nL 95.755638 232.773813 \r\nL 95.856756 232.432837 \r\nL 95.957873 232.432837 \r\nL 96.058991 231.750886 \r\nL 96.126403 231.750886 \r\nL 96.22752 231.409911 \r\nL 96.261226 231.409911 \r\nL 96.261226 231.296253 \r\nL 96.530872 231.296253 \r\nL 96.598284 230.955277 \r\nL 96.733107 230.955277 \r\nL 96.834225 230.72796 \r\nL 96.867931 230.72796 \r\nL 96.969048 230.159668 \r\nL 97.204989 230.159668 \r\nL 97.306107 229.705034 \r\nL 97.339812 229.705034 \r\nL 97.44093 229.136742 \r\nL 97.542047 229.136742 \r\nL 97.542047 229.023083 \r\nL 97.710576 229.023083 \r\nL 97.811694 228.56845 \r\nL 97.946517 228.56845 \r\nL 98.013929 228.227474 \r\nL 98.182458 228.227474 \r\nL 98.216164 227.886499 \r\nL 98.350987 227.886499 \r\nL 98.418399 227.09089 \r\nL 98.485811 227.09089 \r\nL 98.485811 226.863573 \r\nL 98.620634 226.863573 \r\nL 98.721751 226.181622 \r\nL 98.789163 226.181622 \r\nL 98.856575 225.954305 \r\nL 98.923986 225.954305 \r\nL 98.991398 225.499671 \r\nL 99.05881 225.499671 \r\nL 99.05881 225.386013 \r\nL 99.429574 225.386013 \r\nL 99.429574 225.272354 \r\nL 99.598103 225.272354 \r\nL 99.69922 224.476745 \r\nL 99.766632 224.476745 \r\nL 99.86775 224.13577 \r\nL 99.935161 224.13577 \r\nL 100.002573 223.453819 \r\nL 100.238514 223.453819 \r\nL 100.238514 223.34016 \r\nL 100.407043 223.34016 \r\nL 100.50816 222.999185 \r\nL 100.575572 222.999185 \r\nL 100.676689 222.430893 \r\nL 100.710395 222.430893 \r\nL 100.777807 222.203576 \r\nL 100.946336 222.203576 \r\nL 100.980042 221.8626 \r\nL 101.081159 221.8626 \r\nL 101.148571 221.521625 \r\nL 101.249689 221.521625 \r\nL 101.283394 221.294308 \r\nL 101.485629 221.294308 \r\nL 101.553041 220.953333 \r\nL 101.72157 220.953333 \r\nL 101.72157 220.612357 \r\nL 101.923805 220.612357 \r\nL 101.991217 220.044065 \r\nL 102.092334 220.044065 \r\nL 102.193452 219.70309 \r\nL 102.227158 219.70309 \r\nL 102.227158 219.248456 \r\nL 102.429393 219.248456 \r\nL 102.53051 218.793822 \r\nL 102.597922 218.793822 \r\nL 102.665333 218.566505 \r\nL 102.800157 218.566505 \r\nL 102.901274 217.884554 \r\nL 102.93498 217.884554 \r\nL 103.002392 217.543579 \r\nL 103.204627 217.543579 \r\nL 103.305744 217.088945 \r\nL 103.33945 217.088945 \r\nL 103.440567 216.406994 \r\nL 103.777626 216.406994 \r\nL 103.777626 216.293336 \r\nL 103.979861 216.293336 \r\nL 104.080978 215.497727 \r\nL 104.182096 215.497727 \r\nL 104.283213 215.043093 \r\nL 104.418036 215.043093 \r\nL 104.485448 214.588459 \r\nL 104.55286 214.588459 \r\nL 104.620271 214.133825 \r\nL 104.687683 214.133825 \r\nL 104.687683 214.020167 \r\nL 104.822506 214.020167 \r\nL 104.889918 213.79285 \r\nL 104.95733 213.79285 \r\nL 105.024741 213.338216 \r\nL 105.092153 213.338216 \r\nL 105.193271 212.997241 \r\nL 105.226976 212.997241 \r\nL 105.226976 212.428948 \r\nL 105.395506 212.428948 \r\nL 105.429211 211.974314 \r\nL 105.665152 211.974314 \r\nL 105.665152 211.860656 \r\nL 105.833681 211.860656 \r\nL 105.901093 211.519681 \r\nL 105.968505 211.519681 \r\nL 106.069622 211.178705 \r\nL 106.204445 211.178705 \r\nL 106.271857 210.83773 \r\nL 106.40668 210.83773 \r\nL 106.507798 210.155779 \r\nL 106.710033 210.155779 \r\nL 106.777445 209.814804 \r\nL 106.878562 209.814804 \r\nL 106.979679 209.473828 \r\nL 107.013385 209.473828 \r\nL 107.114503 209.019194 \r\nL 107.181914 209.019194 \r\nL 107.283032 208.791878 \r\nL 107.350444 208.791878 \r\nL 107.417855 208.450902 \r\nL 107.485267 208.450902 \r\nL 107.586384 207.768951 \r\nL 107.62009 207.768951 \r\nL 107.62009 207.541634 \r\nL 107.754914 207.541634 \r\nL 107.856031 207.314318 \r\nL 107.889737 207.314318 \r\nL 107.923443 206.973342 \r\nL 108.02456 206.973342 \r\nL 108.058266 206.632367 \r\nL 108.193089 206.632367 \r\nL 108.294207 206.40505 \r\nL 108.327913 206.40505 \r\nL 108.361618 206.177733 \r\nL 108.530148 206.177733 \r\nL 108.597559 205.836758 \r\nL 108.698677 205.836758 \r\nL 108.799794 205.495782 \r\nL 108.934618 205.495782 \r\nL 109.035735 204.92749 \r\nL 109.271676 204.92749 \r\nL 109.372793 204.359198 \r\nL 109.473911 204.359198 \r\nL 109.541322 203.563588 \r\nL 109.64244 203.563588 \r\nL 109.743557 202.995296 \r\nL 109.844675 202.995296 \r\nL 109.945792 202.427004 \r\nL 110.114322 202.427004 \r\nL 110.215439 201.97237 \r\nL 110.316557 201.97237 \r\nL 110.350262 201.176761 \r\nL 110.485086 201.176761 \r\nL 110.485086 201.063102 \r\nL 110.619909 201.063102 \r\nL 110.721027 200.49481 \r\nL 110.754732 200.49481 \r\nL 110.754732 200.381152 \r\nL 110.956967 200.381152 \r\nL 110.990673 200.040176 \r\nL 111.192908 200.040176 \r\nL 111.226614 199.699201 \r\nL 111.496261 199.699201 \r\nL 111.563672 199.01725 \r\nL 111.631084 199.01725 \r\nL 111.66479 198.448958 \r\nL 111.900731 198.448958 \r\nL 112.001848 198.221641 \r\nL 112.035554 198.221641 \r\nL 112.102965 197.994324 \r\nL 112.170377 197.994324 \r\nL 112.170377 197.767007 \r\nL 112.338906 197.767007 \r\nL 112.406318 196.857739 \r\nL 112.541141 196.857739 \r\nL 112.608553 196.403105 \r\nL 112.844494 196.403105 \r\nL 112.911905 196.06213 \r\nL 112.979317 196.06213 \r\nL 113.046729 195.721155 \r\nL 113.11414 195.721155 \r\nL 113.215258 195.380179 \r\nL 113.28267 195.380179 \r\nL 113.28267 195.266521 \r\nL 113.619728 195.266521 \r\nL 113.653434 194.811887 \r\nL 113.754551 194.811887 \r\nL 113.754551 194.470912 \r\nL 113.92308 194.470912 \r\nL 113.990492 194.129936 \r\nL 114.057904 194.129936 \r\nL 114.125315 193.10701 \r\nL 114.260139 193.10701 \r\nL 114.32755 192.538718 \r\nL 114.428668 192.538718 \r\nL 114.529785 192.311401 \r\nL 114.630903 192.311401 \r\nL 114.73202 191.970425 \r\nL 114.866843 191.970425 \r\nL 114.866843 191.743109 \r\nL 115.170196 191.743109 \r\nL 115.237608 191.402133 \r\nL 115.372431 191.402133 \r\nL 115.372431 190.947499 \r\nL 115.507254 190.947499 \r\nL 115.608372 189.356281 \r\nL 115.642078 189.356281 \r\nL 115.743195 189.015305 \r\nL 115.776901 189.015305 \r\nL 115.776901 188.787989 \r\nL 115.911724 188.787989 \r\nL 115.94543 187.878721 \r\nL 116.046547 187.878721 \r\nL 116.147665 187.537746 \r\nL 116.383606 187.537746 \r\nL 116.484723 187.19677 \r\nL 116.518429 187.19677 \r\nL 116.518429 187.083112 \r\nL 116.686958 187.083112 \r\nL 116.686958 186.855795 \r\nL 116.855487 186.855795 \r\nL 116.922899 186.060186 \r\nL 116.990311 186.060186 \r\nL 117.091428 185.378235 \r\nL 117.192546 185.378235 \r\nL 117.192546 185.264576 \r\nL 117.327369 185.264576 \r\nL 117.428486 184.355309 \r\nL 117.462192 184.355309 \r\nL 117.56331 183.900675 \r\nL 117.664427 183.900675 \r\nL 117.731839 183.559699 \r\nL 117.832956 183.559699 \r\nL 117.832956 183.446041 \r\nL 118.102603 183.446041 \r\nL 118.203721 183.105066 \r\nL 118.237426 183.105066 \r\nL 118.237426 182.991407 \r\nL 118.405956 182.991407 \r\nL 118.473367 182.650432 \r\nL 118.540779 182.650432 \r\nL 118.641896 181.968481 \r\nL 118.709308 181.968481 \r\nL 118.77672 180.945555 \r\nL 118.877837 180.945555 \r\nL 118.945249 180.718238 \r\nL 119.01266 180.718238 \r\nL 119.080072 180.377263 \r\nL 119.18119 180.377263 \r\nL 119.248601 179.922629 \r\nL 119.383425 179.922629 \r\nL 119.383425 179.695312 \r\nL 119.518248 179.695312 \r\nL 119.58566 179.467995 \r\nL 119.653071 179.467995 \r\nL 119.754189 179.127019 \r\nL 119.889012 179.127019 \r\nL 119.990129 178.558727 \r\nL 120.158659 178.558727 \r\nL 120.259776 177.763118 \r\nL 120.293482 177.763118 \r\nL 120.394599 176.967509 \r\nL 120.529423 176.967509 \r\nL 120.63054 176.512875 \r\nL 120.697952 176.512875 \r\nL 120.765364 175.603607 \r\nL 120.832775 175.603607 \r\nL 120.933893 175.035315 \r\nL 121.136128 175.035315 \r\nL 121.136128 174.807998 \r\nL 121.405774 174.807998 \r\nL 121.473186 174.126047 \r\nL 121.540598 174.126047 \r\nL 121.641715 173.671413 \r\nL 121.709127 173.671413 \r\nL 121.810244 173.330438 \r\nL 121.877656 173.330438 \r\nL 121.945068 172.989463 \r\nL 122.012479 172.989463 \r\nL 122.079891 172.534829 \r\nL 122.147303 172.534829 \r\nL 122.24842 172.080195 \r\nL 122.450655 172.080195 \r\nL 122.551773 171.170927 \r\nL 122.585478 171.170927 \r\nL 122.686596 170.602635 \r\nL 122.720302 170.602635 \r\nL 122.787713 170.034343 \r\nL 122.922537 170.034343 \r\nL 123.023654 169.579709 \r\nL 123.124772 169.579709 \r\nL 123.158477 169.125075 \r\nL 123.259595 169.125075 \r\nL 123.360712 168.897758 \r\nL 123.529242 168.897758 \r\nL 123.562947 168.670441 \r\nL 123.664065 168.670441 \r\nL 123.765182 168.329466 \r\nL 123.967417 168.329466 \r\nL 124.068535 167.874832 \r\nL 124.135946 167.874832 \r\nL 124.237064 167.420198 \r\nL 124.405593 167.420198 \r\nL 124.506711 167.192881 \r\nL 124.574122 167.192881 \r\nL 124.67524 166.624589 \r\nL 124.708946 166.624589 \r\nL 124.810063 166.056297 \r\nL 124.843769 166.056297 \r\nL 124.944886 165.715321 \r\nL 124.978592 165.715321 \r\nL 125.046004 164.919712 \r\nL 125.281945 164.919712 \r\nL 125.281945 164.806053 \r\nL 125.48418 164.806053 \r\nL 125.585297 164.35142 \r\nL 125.821238 164.35142 \r\nL 125.854944 164.124103 \r\nL 126.090885 164.124103 \r\nL 126.192002 163.783127 \r\nL 126.394237 163.783127 \r\nL 126.495355 163.55581 \r\nL 126.52906 163.55581 \r\nL 126.596472 163.328494 \r\nL 126.663884 163.328494 \r\nL 126.663884 163.214835 \r\nL 126.832413 163.214835 \r\nL 126.899824 162.987518 \r\nL 127.000942 162.987518 \r\nL 127.034648 162.760201 \r\nL 127.169471 162.760201 \r\nL 127.203177 162.419226 \r\nL 127.304294 162.419226 \r\nL 127.304294 162.305567 \r\nL 127.439118 162.305567 \r\nL 127.472824 161.964592 \r\nL 127.641353 161.964592 \r\nL 127.708764 161.737275 \r\nL 127.843588 161.737275 \r\nL 127.944705 161.055324 \r\nL 128.045823 161.055324 \r\nL 128.14694 160.828007 \r\nL 128.214352 160.828007 \r\nL 128.214352 160.714349 \r\nL 128.349175 160.714349 \r\nL 128.349175 160.60069 \r\nL 128.517704 160.60069 \r\nL 128.618822 160.146057 \r\nL 128.787351 160.146057 \r\nL 128.854763 159.464106 \r\nL 128.922174 159.464106 \r\nL 128.989586 158.782155 \r\nL 129.056998 158.782155 \r\nL 129.124409 158.44118 \r\nL 129.394056 158.44118 \r\nL 129.495173 157.986546 \r\nL 129.528879 157.986546 \r\nL 129.528879 157.759229 \r\nL 129.663702 157.759229 \r\nL 129.76482 157.418254 \r\nL 129.798526 157.418254 \r\nL 129.865937 156.736303 \r\nL 129.933349 156.736303 \r\nL 130.000761 156.168011 \r\nL 130.101878 156.168011 \r\nL 130.101878 156.054352 \r\nL 130.236702 156.054352 \r\nL 130.337819 155.599718 \r\nL 130.438936 155.599718 \r\nL 130.506348 155.372401 \r\nL 130.607466 155.372401 \r\nL 130.674877 155.031426 \r\nL 130.843406 155.031426 \r\nL 130.944524 154.804109 \r\nL 131.180465 154.804109 \r\nL 131.281582 154.576792 \r\nL 131.551229 154.576792 \r\nL 131.584935 154.0085 \r\nL 131.921993 154.0085 \r\nL 132.02311 153.326549 \r\nL 132.056816 153.326549 \r\nL 132.090522 153.099232 \r\nL 132.292757 153.099232 \r\nL 132.326463 152.871915 \r\nL 132.42758 152.871915 \r\nL 132.528698 152.53094 \r\nL 132.562404 152.53094 \r\nL 132.562404 152.303623 \r\nL 132.730933 152.303623 \r\nL 132.83205 151.621672 \r\nL 132.865756 151.621672 \r\nL 132.933168 151.394355 \r\nL 133.00058 151.394355 \r\nL 133.067991 151.05338 \r\nL 133.270226 151.05338 \r\nL 133.371344 150.712404 \r\nL 133.438755 150.712404 \r\nL 133.438755 150.598746 \r\nL 133.607284 150.598746 \r\nL 133.708402 150.371429 \r\nL 133.742108 150.371429 \r\nL 133.843225 149.689478 \r\nL 133.944343 149.689478 \r\nL 134.04546 149.348503 \r\nL 134.079166 149.348503 \r\nL 134.079166 149.121186 \r\nL 134.315107 149.121186 \r\nL 134.416224 148.780211 \r\nL 134.483636 148.780211 \r\nL 134.584753 148.211918 \r\nL 134.618459 148.211918 \r\nL 134.652165 147.984601 \r\nL 134.753283 147.984601 \r\nL 134.820694 147.188992 \r\nL 135.022929 147.188992 \r\nL 135.056635 146.961675 \r\nL 135.225164 146.961675 \r\nL 135.326282 146.393383 \r\nL 135.393693 146.393383 \r\nL 135.494811 145.825091 \r\nL 135.595928 145.825091 \r\nL 135.697046 145.484115 \r\nL 135.730752 145.484115 \r\nL 135.764457 144.915823 \r\nL 135.865575 144.915823 \r\nL 135.966692 143.892897 \r\nL 136.000398 143.892897 \r\nL 136.101516 143.438263 \r\nL 136.438574 143.438263 \r\nL 136.47228 143.210946 \r\nL 136.741927 143.210946 \r\nL 136.775632 142.983629 \r\nL 137.045279 142.983629 \r\nL 137.078985 142.642654 \r\nL 137.382337 142.642654 \r\nL 137.449749 142.415337 \r\nL 137.550866 142.415337 \r\nL 137.651984 142.18802 \r\nL 137.68569 142.18802 \r\nL 137.68569 141.619728 \r\nL 137.820513 141.619728 \r\nL 137.921631 140.596801 \r\nL 138.09016 140.596801 \r\nL 138.191277 140.369485 \r\nL 138.292395 140.369485 \r\nL 138.292395 140.255826 \r\nL 138.427218 140.255826 \r\nL 138.528335 139.801192 \r\nL 138.831688 139.801192 \r\nL 138.831688 139.573875 \r\nL 138.966511 139.573875 \r\nL 139.033923 139.2329 \r\nL 139.13504 139.2329 \r\nL 139.236158 139.005583 \r\nL 139.269864 139.005583 \r\nL 139.269864 138.664608 \r\nL 139.438393 138.664608 \r\nL 139.53951 138.323632 \r\nL 139.573216 138.323632 \r\nL 139.640628 137.982657 \r\nL 139.910274 137.982657 \r\nL 139.977686 137.187048 \r\nL 140.247333 137.187048 \r\nL 140.314744 136.846072 \r\nL 140.382156 136.846072 \r\nL 140.449568 136.391438 \r\nL 140.618097 136.391438 \r\nL 140.719214 136.050463 \r\nL 140.75292 136.050463 \r\nL 140.854038 135.141195 \r\nL 141.022567 135.141195 \r\nL 141.123684 134.686562 \r\nL 141.292213 134.686562 \r\nL 141.393331 134.231928 \r\nL 141.460743 134.231928 \r\nL 141.460743 134.004611 \r\nL 141.662978 134.004611 \r\nL 141.662978 133.549977 \r\nL 141.797801 133.549977 \r\nL 141.797801 133.32266 \r\nL 141.932624 133.32266 \r\nL 142.033742 132.981685 \r\nL 142.067448 132.981685 \r\nL 142.134859 132.299734 \r\nL 142.235977 132.299734 \r\nL 142.303388 131.958759 \r\nL 142.438212 131.958759 \r\nL 142.471917 131.731442 \r\nL 142.573035 131.731442 \r\nL 142.640447 131.276808 \r\nL 142.707858 131.276808 \r\nL 142.77527 130.708515 \r\nL 142.842682 130.708515 \r\nL 142.943799 130.36754 \r\nL 142.977505 130.36754 \r\nL 142.977505 130.253882 \r\nL 143.146034 130.253882 \r\nL 143.17974 129.912906 \r\nL 143.348269 129.912906 \r\nL 143.348269 129.799248 \r\nL 143.58421 129.799248 \r\nL 143.651621 129.458272 \r\nL 144.056091 129.458272 \r\nL 144.056091 129.230955 \r\nL 144.359444 129.230955 \r\nL 144.426856 128.88998 \r\nL 144.561679 128.88998 \r\nL 144.561679 128.662663 \r\nL 144.831326 128.662663 \r\nL 144.932443 128.321688 \r\nL 144.966149 128.321688 \r\nL 144.999855 127.980712 \r\nL 145.100972 127.980712 \r\nL 145.168384 127.185103 \r\nL 145.471736 127.185103 \r\nL 145.572854 126.730469 \r\nL 145.673971 126.730469 \r\nL 145.775089 126.503152 \r\nL 145.808795 126.503152 \r\nL 145.876206 126.162177 \r\nL 146.044735 126.162177 \r\nL 146.112147 125.93486 \r\nL 146.179559 125.93486 \r\nL 146.280676 125.480226 \r\nL 146.314382 125.480226 \r\nL 146.381794 124.798276 \r\nL 146.482911 124.798276 \r\nL 146.550323 124.4573 \r\nL 146.617734 124.4573 \r\nL 146.617734 124.229983 \r\nL 146.819969 124.229983 \r\nL 146.921087 123.889008 \r\nL 146.954793 123.889008 \r\nL 147.05591 123.548032 \r\nL 147.123322 123.548032 \r\nL 147.123322 123.320716 \r\nL 147.325557 123.320716 \r\nL 147.392969 122.752423 \r\nL 147.46038 122.752423 \r\nL 147.561498 122.184131 \r\nL 147.662615 122.184131 \r\nL 147.662615 121.615839 \r\nL 147.797438 121.615839 \r\nL 147.898556 121.161205 \r\nL 147.932262 121.161205 \r\nL 147.999673 120.820229 \r\nL 148.134497 120.820229 \r\nL 148.168203 120.479254 \r\nL 148.26932 120.479254 \r\nL 148.370438 119.910962 \r\nL 148.437849 119.910962 \r\nL 148.538967 119.683645 \r\nL 148.606378 119.683645 \r\nL 148.67379 119.342669 \r\nL 148.808613 119.342669 \r\nL 148.808613 119.229011 \r\nL 148.943437 119.229011 \r\nL 149.010848 118.888036 \r\nL 149.111966 118.888036 \r\nL 149.111966 118.660719 \r\nL 149.415318 118.660719 \r\nL 149.415318 118.433402 \r\nL 149.583847 118.433402 \r\nL 149.617553 117.865109 \r\nL 149.752377 117.865109 \r\nL 149.819788 117.524134 \r\nL 149.8872 117.524134 \r\nL 149.954612 117.183159 \r\nL 150.392787 117.183159 \r\nL 150.392787 116.955842 \r\nL 150.628728 116.955842 \r\nL 150.69614 116.728525 \r\nL 151.168021 116.728525 \r\nL 151.269139 116.273891 \r\nL 151.370256 116.273891 \r\nL 151.370256 115.478282 \r\nL 151.572491 115.478282 \r\nL 151.572491 115.364623 \r\nL 151.774726 115.364623 \r\nL 151.774726 115.250965 \r\nL 152.044373 115.250965 \r\nL 152.078079 115.023648 \r\nL 152.347725 115.023648 \r\nL 152.415137 114.682673 \r\nL 152.583666 114.682673 \r\nL 152.651078 114.455356 \r\nL 152.785901 114.455356 \r\nL 152.887019 113.887063 \r\nL 152.920724 113.887063 \r\nL 152.988136 113.43243 \r\nL 153.055548 113.43243 \r\nL 153.122959 113.205113 \r\nL 153.224077 113.205113 \r\nL 153.325194 112.977796 \r\nL 153.460018 112.977796 \r\nL 153.561135 112.409503 \r\nL 153.931899 112.409503 \r\nL 153.999311 111.95487 \r\nL 154.16784 111.95487 \r\nL 154.201546 111.727553 \r\nL 154.471193 111.727553 \r\nL 154.471193 111.386577 \r\nL 154.606016 111.386577 \r\nL 154.707133 110.931943 \r\nL 154.909368 110.931943 \r\nL 155.010486 110.704626 \r\nL 155.212721 110.704626 \r\nL 155.313838 110.136334 \r\nL 155.38125 110.136334 \r\nL 155.414956 109.795359 \r\nL 155.583485 109.795359 \r\nL 155.583485 109.6817 \r\nL 155.886837 109.6817 \r\nL 155.886837 109.568042 \r\nL 156.19019 109.568042 \r\nL 156.223896 109.340725 \r\nL 156.392425 109.340725 \r\nL 156.392425 109.227067 \r\nL 156.560954 109.227067 \r\nL 156.628366 108.772433 \r\nL 156.695777 108.772433 \r\nL 156.695777 108.658774 \r\nL 156.830601 108.658774 \r\nL 156.830601 108.545116 \r\nL 157.032836 108.545116 \r\nL 157.032836 108.431457 \r\nL 157.167659 108.431457 \r\nL 157.167659 108.317799 \r\nL 157.437306 108.317799 \r\nL 157.471011 107.976823 \r\nL 157.572129 107.976823 \r\nL 157.639541 107.635848 \r\nL 158.077716 107.635848 \r\nL 158.077716 107.52219 \r\nL 158.313657 107.52219 \r\nL 158.313657 107.408531 \r\nL 158.44848 107.408531 \r\nL 158.482186 106.840239 \r\nL 158.718127 106.840239 \r\nL 158.819245 106.499263 \r\nL 158.886656 106.499263 \r\nL 158.920362 106.271947 \r\nL 159.190009 106.271947 \r\nL 159.25742 106.04463 \r\nL 159.324832 106.04463 \r\nL 159.358538 105.817313 \r\nL 159.796714 105.817313 \r\nL 159.864125 105.589996 \r\nL 160.133772 105.589996 \r\nL 160.234889 105.24902 \r\nL 160.47083 105.24902 \r\nL 160.47083 105.135362 \r\nL 160.706771 105.135362 \r\nL 160.706771 105.021703 \r\nL 161.144947 105.021703 \r\nL 161.144947 104.908045 \r\nL 161.549417 104.908045 \r\nL 161.583123 104.56707 \r\nL 161.751652 104.56707 \r\nL 161.751652 104.453411 \r\nL 161.987592 104.453411 \r\nL 162.08871 104.226094 \r\nL 162.290945 104.226094 \r\nL 162.392062 103.657802 \r\nL 162.863944 103.657802 \r\nL 162.863944 103.544144 \r\nL 162.998767 103.544144 \r\nL 163.099885 103.203168 \r\nL 163.268414 103.203168 \r\nL 163.30212 102.975851 \r\nL 163.403237 102.975851 \r\nL 163.436943 102.634876 \r\nL 163.639178 102.634876 \r\nL 163.70659 102.180242 \r\nL 163.976236 102.180242 \r\nL 164.043648 101.725608 \r\nL 164.245883 101.725608 \r\nL 164.347001 101.157316 \r\nL 164.481824 101.157316 \r\nL 164.481824 101.043657 \r\nL 164.684059 101.043657 \r\nL 164.684059 100.81634 \r\nL 165.189646 100.81634 \r\nL 165.290764 100.589024 \r\nL 165.425587 100.589024 \r\nL 165.526705 99.793414 \r\nL 165.627822 99.793414 \r\nL 165.695234 99.566097 \r\nL 165.796351 99.566097 \r\nL 165.796351 99.452439 \r\nL 165.931174 99.452439 \r\nL 165.931174 99.225122 \r\nL 166.167115 99.225122 \r\nL 166.167115 99.111464 \r\nL 166.470468 99.111464 \r\nL 166.537879 98.884147 \r\nL 166.672703 98.884147 \r\nL 166.77382 98.543171 \r\nL 166.807526 98.543171 \r\nL 166.807526 98.315854 \r\nL 166.976055 98.315854 \r\nL 167.043467 98.088537 \r\nL 167.279408 98.088537 \r\nL 167.346819 97.86122 \r\nL 167.481643 97.86122 \r\nL 167.481643 97.520245 \r\nL 167.650172 97.520245 \r\nL 167.650172 97.406587 \r\nL 167.852407 97.406587 \r\nL 167.886113 97.17927 \r\nL 168.020936 97.17927 \r\nL 168.088348 96.724636 \r\nL 168.155759 96.724636 \r\nL 168.256877 96.497319 \r\nL 168.324288 96.497319 \r\nL 168.357994 96.156344 \r\nL 168.627641 96.156344 \r\nL 168.728758 95.815368 \r\nL 168.79617 95.815368 \r\nL 168.829876 95.474393 \r\nL 168.964699 95.474393 \r\nL 169.032111 95.133417 \r\nL 169.166934 95.133417 \r\nL 169.166934 95.019759 \r\nL 169.335463 95.019759 \r\nL 169.402875 94.565125 \r\nL 169.470287 94.565125 \r\nL 169.470287 94.451467 \r\nL 169.672522 94.451467 \r\nL 169.672522 94.337808 \r\nL 169.874756 94.337808 \r\nL 169.874756 94.22415 \r\nL 170.076991 94.22415 \r\nL 170.178109 93.883174 \r\nL 170.279226 93.883174 \r\nL 170.312932 93.428541 \r\nL 170.717402 93.428541 \r\nL 170.81852 92.973907 \r\nL 170.919637 92.973907 \r\nL 170.919637 92.860248 \r\nL 171.054461 92.860248 \r\nL 171.121872 92.178297 \r\nL 171.256695 92.178297 \r\nL 171.256695 92.064639 \r\nL 171.391519 92.064639 \r\nL 171.425225 91.723664 \r\nL 171.526342 91.723664 \r\nL 171.593754 91.496347 \r\nL 171.661165 91.496347 \r\nL 171.762283 91.155371 \r\nL 171.930812 91.155371 \r\nL 171.930812 91.041713 \r\nL 172.065635 91.041713 \r\nL 172.166753 90.587079 \r\nL 172.335282 90.587079 \r\nL 172.335282 90.359762 \r\nL 172.537517 90.359762 \r\nL 172.638634 90.018787 \r\nL 173.009399 90.018787 \r\nL 173.009399 89.905128 \r\nL 173.144222 89.905128 \r\nL 173.144222 89.79147 \r\nL 173.279045 89.79147 \r\nL 173.279045 89.564153 \r\nL 173.48128 89.564153 \r\nL 173.48128 89.450494 \r\nL 173.919456 89.450494 \r\nL 173.986868 89.223178 \r\nL 174.121691 89.223178 \r\nL 174.121691 89.109519 \r\nL 174.391338 89.109519 \r\nL 174.391338 88.995861 \r\nL 174.559867 88.995861 \r\nL 174.627278 88.654885 \r\nL 174.69469 88.654885 \r\nL 174.69469 88.31391 \r\nL 174.964337 88.31391 \r\nL 174.964337 87.972934 \r\nL 175.132866 87.972934 \r\nL 175.233983 87.745618 \r\nL 175.402512 87.745618 \r\nL 175.50363 87.404642 \r\nL 175.537336 87.404642 \r\nL 175.537336 87.290984 \r\nL 175.975512 87.290984 \r\nL 176.009217 87.063667 \r\nL 176.144041 87.063667 \r\nL 176.245158 86.609033 \r\nL 176.346276 86.609033 \r\nL 176.447393 86.268058 \r\nL 176.514805 86.268058 \r\nL 176.582216 86.040741 \r\nL 176.683334 86.040741 \r\nL 176.750746 85.813424 \r\nL 176.851863 85.813424 \r\nL 176.952981 85.245131 \r\nL 177.222627 85.245131 \r\nL 177.222627 85.131473 \r\nL 177.391156 85.131473 \r\nL 177.492274 84.563181 \r\nL 177.694509 84.563181 \r\nL 177.76192 84.335864 \r\nL 178.16639 84.335864 \r\nL 178.16639 84.222205 \r\nL 178.604566 84.222205 \r\nL 178.604566 84.108547 \r\nL 178.773095 84.108547 \r\nL 178.773095 83.88123 \r\nL 178.97533 83.88123 \r\nL 179.076448 83.540255 \r\nL 179.3798 83.540255 \r\nL 179.3798 83.426596 \r\nL 179.548329 83.426596 \r\nL 179.548329 83.199279 \r\nL 179.817976 83.199279 \r\nL 179.817976 83.085621 \r\nL 179.952799 83.085621 \r\nL 180.053917 82.858304 \r\nL 180.121329 82.858304 \r\nL 180.121329 82.744645 \r\nL 180.357269 82.744645 \r\nL 180.357269 82.630987 \r\nL 180.559504 82.630987 \r\nL 180.559504 82.517328 \r\nL 180.896563 82.517328 \r\nL 180.930268 82.176353 \r\nL 181.065092 82.176353 \r\nL 181.098798 81.835378 \r\nL 181.368444 81.835378 \r\nL 181.40215 81.153427 \r\nL 181.705502 81.153427 \r\nL 181.705502 81.039768 \r\nL 181.941443 81.039768 \r\nL 181.941443 80.92611 \r\nL 182.143678 80.92611 \r\nL 182.143678 80.812451 \r\nL 182.581854 80.812451 \r\nL 182.649266 80.471476 \r\nL 182.885207 80.471476 \r\nL 182.952618 80.130501 \r\nL 183.255971 80.130501 \r\nL 183.255971 79.903184 \r\nL 184.064911 79.903184 \r\nL 184.132322 79.562208 \r\nL 184.435675 79.562208 \r\nL 184.503086 79.334892 \r\nL 184.604204 79.334892 \r\nL 184.671615 79.107575 \r\nL 185.008674 79.107575 \r\nL 185.008674 78.993916 \r\nL 185.210909 78.993916 \r\nL 185.312026 78.539282 \r\nL 185.547967 78.539282 \r\nL 185.547967 78.425624 \r\nL 185.885025 78.425624 \r\nL 185.885025 78.311965 \r\nL 186.154672 78.311965 \r\nL 186.154672 78.084648 \r\nL 186.323201 78.084648 \r\nL 186.424319 77.857332 \r\nL 186.626554 77.857332 \r\nL 186.626554 77.743673 \r\nL 186.761377 77.743673 \r\nL 186.761377 77.630015 \r\nL 186.929906 77.630015 \r\nL 187.031023 77.289039 \r\nL 187.266964 77.289039 \r\nL 187.334376 77.061722 \r\nL 187.401788 77.061722 \r\nL 187.401788 76.948064 \r\nL 187.806258 76.948064 \r\nL 187.806258 76.834405 \r\nL 187.941081 76.834405 \r\nL 188.008493 76.607088 \r\nL 188.412962 76.607088 \r\nL 188.446668 76.266113 \r\nL 188.581492 76.266113 \r\nL 188.581492 76.152455 \r\nL 188.716315 76.152455 \r\nL 188.716315 76.038796 \r\nL 188.985962 76.038796 \r\nL 189.019667 75.811479 \r\nL 190.165666 75.811479 \r\nL 190.165666 75.697821 \r\nL 190.300489 75.697821 \r\nL 190.300489 75.584162 \r\nL 190.469018 75.584162 \r\nL 190.570136 75.356845 \r\nL 190.839782 75.356845 \r\nL 190.839782 75.243187 \r\nL 191.277958 75.243187 \r\nL 191.379075 74.902212 \r\nL 191.513899 74.902212 \r\nL 191.615016 74.447578 \r\nL 191.850957 74.447578 \r\nL 191.918369 73.879285 \r\nL 192.188015 73.879285 \r\nL 192.289133 73.651969 \r\nL 192.525074 73.651969 \r\nL 192.626191 73.424652 \r\nL 192.996955 73.424652 \r\nL 192.996955 73.310993 \r\nL 193.401425 73.310993 \r\nL 193.401425 72.970018 \r\nL 193.704778 72.970018 \r\nL 193.704778 72.856359 \r\nL 193.839601 72.856359 \r\nL 193.940718 72.288067 \r\nL 194.210365 72.288067 \r\nL 194.210365 72.06075 \r\nL 194.783364 72.06075 \r\nL 194.81707 71.833433 \r\nL 194.918187 71.833433 \r\nL 194.918187 71.719775 \r\nL 195.120422 71.719775 \r\nL 195.120422 71.606116 \r\nL 195.255246 71.606116 \r\nL 195.255246 71.265141 \r\nL 195.491187 71.265141 \r\nL 195.592304 70.924165 \r\nL 195.861951 70.924165 \r\nL 195.963068 70.696849 \r\nL 196.03048 70.696849 \r\nL 196.064186 70.355873 \r\nL 196.232715 70.355873 \r\nL 196.232715 70.242215 \r\nL 196.401244 70.242215 \r\nL 196.401244 70.128556 \r\nL 196.906831 70.128556 \r\nL 196.974243 69.787581 \r\nL 197.210184 69.787581 \r\nL 197.210184 69.446605 \r\nL 197.378713 69.446605 \r\nL 197.378713 69.219289 \r\nL 197.682065 69.219289 \r\nL 197.682065 69.10563 \r\nL 198.086535 69.10563 \r\nL 198.086535 68.991972 \r\nL 198.356182 68.991972 \r\nL 198.356182 68.878313 \r\nL 198.558417 68.878313 \r\nL 198.625829 68.537338 \r\nL 198.760652 68.537338 \r\nL 198.861769 68.196362 \r\nL 199.232534 68.196362 \r\nL 199.232534 68.082704 \r\nL 199.401063 68.082704 \r\nL 199.434769 67.855387 \r\nL 199.704415 67.855387 \r\nL 199.704415 67.514412 \r\nL 200.041473 67.514412 \r\nL 200.142591 67.287095 \r\nL 200.378532 67.287095 \r\nL 200.378532 67.173436 \r\nL 200.681884 67.173436 \r\nL 200.681884 66.946119 \r\nL 200.884119 66.946119 \r\nL 200.884119 66.832461 \r\nL 201.052648 66.832461 \r\nL 201.052648 66.718802 \r\nL 201.187472 66.718802 \r\nL 201.187472 66.491486 \r\nL 201.827882 66.491486 \r\nL 201.827882 66.264169 \r\nL 202.164941 66.264169 \r\nL 202.266058 66.036852 \r\nL 202.33347 66.036852 \r\nL 202.33347 65.923193 \r\nL 203.14241 65.923193 \r\nL 203.14241 65.809535 \r\nL 203.816526 65.809535 \r\nL 203.816526 65.695876 \r\nL 203.985055 65.695876 \r\nL 203.985055 65.582218 \r\nL 204.153585 65.582218 \r\nL 204.153585 65.468559 \r\nL 204.490643 65.468559 \r\nL 204.59176 65.127584 \r\nL 204.861407 65.127584 \r\nL 204.928819 64.786609 \r\nL 205.063642 64.786609 \r\nL 205.063642 64.67295 \r\nL 205.265877 64.67295 \r\nL 205.265877 64.559292 \r\nL 205.4007 64.559292 \r\nL 205.4007 64.445633 \r\nL 205.602935 64.445633 \r\nL 205.602935 64.331975 \r\nL 205.872582 64.331975 \r\nL 205.939994 63.877341 \r\nL 206.108523 63.877341 \r\nL 206.20964 63.536366 \r\nL 206.277052 63.536366 \r\nL 206.277052 63.422707 \r\nL 206.580404 63.422707 \r\nL 206.580404 63.309049 \r\nL 207.119698 63.309049 \r\nL 207.119698 63.19539 \r\nL 207.321933 63.19539 \r\nL 207.321933 63.081732 \r\nL 207.591579 63.081732 \r\nL 207.658991 62.854415 \r\nL 207.861226 62.854415 \r\nL 207.861226 62.627098 \r\nL 208.501637 62.627098 \r\nL 208.501637 62.513439 \r\nL 209.344282 62.513439 \r\nL 209.344282 62.399781 \r\nL 210.186928 62.399781 \r\nL 210.288046 62.058806 \r\nL 210.793633 62.058806 \r\nL 210.793633 61.945147 \r\nL 210.928456 61.945147 \r\nL 210.928456 61.831489 \r\nL 211.198103 61.831489 \r\nL 211.198103 61.71783 \r\nL 211.568867 61.71783 \r\nL 211.602573 61.490513 \r\nL 211.804808 61.490513 \r\nL 211.905925 61.149538 \r\nL 212.377807 61.149538 \r\nL 212.478924 60.922221 \r\nL 212.748571 60.922221 \r\nL 212.748571 60.808563 \r\nL 212.9171 60.808563 \r\nL 212.9171 60.694904 \r\nL 213.119335 60.694904 \r\nL 213.119335 60.581246 \r\nL 213.624923 60.581246 \r\nL 213.624923 60.467587 \r\nL 213.860863 60.467587 \r\nL 213.860863 60.24027 \r\nL 214.467568 60.24027 \r\nL 214.467568 60.126612 \r\nL 214.636097 60.126612 \r\nL 214.636097 60.012953 \r\nL 215.310214 60.012953 \r\nL 215.34392 59.785636 \r\nL 216.085448 59.785636 \r\nL 216.119154 59.558319 \r\nL 216.321389 59.558319 \r\nL 216.388801 59.217344 \r\nL 216.55733 59.217344 \r\nL 216.55733 59.103686 \r\nL 216.894388 59.103686 \r\nL 216.894388 58.990027 \r\nL 217.467387 58.990027 \r\nL 217.501093 58.76271 \r\nL 218.074092 58.76271 \r\nL 218.074092 58.649052 \r\nL 218.444856 58.649052 \r\nL 218.444856 58.535393 \r\nL 218.714503 58.535393 \r\nL 218.714503 58.421735 \r\nL 219.118973 58.421735 \r\nL 219.118973 58.308076 \r\nL 219.287502 58.308076 \r\nL 219.388619 58.080759 \r\nL 220.02903 58.080759 \r\nL 220.02903 57.967101 \r\nL 220.197559 57.967101 \r\nL 220.197559 57.853443 \r\nL 220.467206 57.853443 \r\nL 220.467206 57.739784 \r\nL 221.006499 57.739784 \r\nL 221.006499 57.626126 \r\nL 221.410969 57.626126 \r\nL 221.410969 57.512467 \r\nL 221.815439 57.512467 \r\nL 221.815439 57.398809 \r\nL 222.085086 57.398809 \r\nL 222.085086 57.28515 \r\nL 222.354732 57.28515 \r\nL 222.388438 57.057833 \r\nL 222.658085 57.057833 \r\nL 222.691791 56.830516 \r\nL 223.096261 56.830516 \r\nL 223.163672 56.603199 \r\nL 224.174847 56.603199 \r\nL 224.174847 56.489541 \r\nL 225.017493 56.489541 \r\nL 225.017493 56.375883 \r\nL 225.893844 56.375883 \r\nL 225.92755 56.148566 \r\nL 226.33202 56.148566 \r\nL 226.33202 55.921249 \r\nL 227.275783 55.921249 \r\nL 227.275783 55.80759 \r\nL 227.54543 55.80759 \r\nL 227.54543 55.693932 \r\nL 227.680253 55.693932 \r\nL 227.680253 55.580273 \r\nL 228.051017 55.580273 \r\nL 228.051017 55.466615 \r\nL 228.185841 55.466615 \r\nL 228.185841 55.352956 \r\nL 228.590311 55.352956 \r\nL 228.590311 55.239298 \r\nL 228.859957 55.239298 \r\nL 228.961075 55.011981 \r\nL 229.298133 55.011981 \r\nL 229.298133 54.898323 \r\nL 229.500368 54.898323 \r\nL 229.500368 54.784664 \r\nL 229.668897 54.784664 \r\nL 229.668897 54.557347 \r\nL 230.916013 54.557347 \r\nL 230.916013 54.443689 \r\nL 231.320483 54.443689 \r\nL 231.320483 54.33003 \r\nL 231.893482 54.33003 \r\nL 231.893482 54.216372 \r\nL 232.702422 54.216372 \r\nL 232.702422 54.102713 \r\nL 233.342833 54.102713 \r\nL 233.342833 53.989055 \r\nL 234.859595 53.989055 \r\nL 234.859595 53.875396 \r\nL 235.06183 53.875396 \r\nL 235.06183 53.64808 \r\nL 235.297771 53.64808 \r\nL 235.297771 53.534421 \r\nL 236.308946 53.534421 \r\nL 236.308946 53.420763 \r\nL 237.89312 53.420763 \r\nL 237.89312 53.307104 \r\nL 238.12906 53.307104 \r\nL 238.12906 53.193446 \r\nL 238.297589 53.193446 \r\nL 238.297589 53.079787 \r\nL 238.938 53.079787 \r\nL 238.971706 52.85247 \r\nL 239.308764 52.85247 \r\nL 239.308764 52.738812 \r\nL 239.578411 52.738812 \r\nL 239.578411 52.625153 \r\nL 240.319939 52.625153 \r\nL 240.319939 52.511495 \r\nL 240.522174 52.511495 \r\nL 240.522174 52.397836 \r\nL 241.432232 52.397836 \r\nL 241.465937 52.17052 \r\nL 241.937819 52.17052 \r\nL 241.937819 52.056861 \r\nL 243.151229 52.056861 \r\nL 243.218641 51.829544 \r\nL 243.859051 51.829544 \r\nL 243.859051 51.715886 \r\nL 244.465756 51.715886 \r\nL 244.465756 51.602227 \r\nL 245.881401 51.602227 \r\nL 245.881401 51.488569 \r\nL 247.094811 51.488569 \r\nL 247.094811 51.37491 \r\nL 247.971162 51.37491 \r\nL 247.971162 51.261252 \r\nL 248.746396 51.261252 \r\nL 248.847514 51.033935 \r\nL 248.88122 51.033935 \r\nL 248.88122 50.920276 \r\nL 249.083455 50.920276 \r\nL 249.150866 50.69296 \r\nL 249.757571 50.69296 \r\nL 249.757571 50.579301 \r\nL 250.33057 50.579301 \r\nL 250.397982 50.351984 \r\nL 250.802452 50.351984 \r\nL 250.869864 50.124667 \r\nL 251.072099 50.124667 \r\nL 251.072099 50.011009 \r\nL 251.510274 50.011009 \r\nL 251.510274 49.89735 \r\nL 252.959625 49.89735 \r\nL 252.959625 49.783692 \r\nL 253.16186 49.783692 \r\nL 253.16186 49.670033 \r\nL 253.869682 49.670033 \r\nL 253.869682 49.556375 \r\nL 254.442682 49.556375 \r\nL 254.442682 49.442717 \r\nL 254.712328 49.442717 \r\nL 254.712328 49.329058 \r\nL 254.981975 49.329058 \r\nL 254.981975 49.2154 \r\nL 255.116798 49.2154 \r\nL 255.116798 49.101741 \r\nL 256.195385 49.101741 \r\nL 256.195385 48.988083 \r\nL 256.431326 48.988083 \r\nL 256.431326 48.874424 \r\nL 256.63356 48.874424 \r\nL 256.63356 48.760766 \r\nL 257.004325 48.760766 \r\nL 257.004325 48.647107 \r\nL 258.150323 48.647107 \r\nL 258.150323 48.533449 \r\nL 258.285146 48.533449 \r\nL 258.285146 48.41979 \r\nL 259.094086 48.41979 \r\nL 259.195203 48.078815 \r\nL 259.228909 48.078815 \r\nL 259.228909 47.965157 \r\nL 259.599673 47.965157 \r\nL 259.599673 47.851498 \r\nL 261.049024 47.851498 \r\nL 261.049024 47.73784 \r\nL 262.262434 47.73784 \r\nL 262.262434 47.624181 \r\nL 263.408432 47.624181 \r\nL 263.408432 47.510523 \r\nL 263.644373 47.510523 \r\nL 263.644373 47.396864 \r\nL 264.722959 47.396864 \r\nL 264.790371 47.055889 \r\nL 264.925194 47.055889 \r\nL 264.925194 46.828572 \r\nL 265.970075 46.828572 \r\nL 265.970075 46.714913 \r\nL 266.509368 46.714913 \r\nL 266.509368 46.601255 \r\nL 267.014956 46.601255 \r\nL 267.014956 46.487597 \r\nL 267.689072 46.487597 \r\nL 267.689072 46.373938 \r\nL 267.958719 46.373938 \r\nL 267.992425 46.146621 \r\nL 268.868776 46.146621 \r\nL 268.868776 46.032963 \r\nL 269.441776 46.032963 \r\nL 269.542893 45.805646 \r\nL 269.576599 45.805646 \r\nL 269.576599 45.691987 \r\nL 270.587774 45.691987 \r\nL 270.587774 45.578329 \r\nL 270.992244 45.578329 \r\nL 270.992244 45.46467 \r\nL 271.464125 45.46467 \r\nL 271.464125 45.351012 \r\nL 274.025768 45.351012 \r\nL 274.025768 45.237353 \r\nL 274.733591 45.237353 \r\nL 274.733591 45.123695 \r\nL 274.868414 45.123695 \r\nL 274.868414 45.010037 \r\nL 275.643648 45.010037 \r\nL 275.643648 44.896378 \r\nL 276.452588 44.896378 \r\nL 276.452588 44.78272 \r\nL 276.621117 44.78272 \r\nL 276.621117 44.669061 \r\nL 279.115348 44.669061 \r\nL 279.115348 44.555403 \r\nL 282.519637 44.555403 \r\nL 282.519637 44.328086 \r\nL 282.688166 44.328086 \r\nL 282.755578 44.100769 \r\nL 286.058749 44.100769 \r\nL 286.058749 43.98711 \r\nL 286.530631 43.98711 \r\nL 286.530631 43.873452 \r\nL 287.406982 43.873452 \r\nL 287.406982 43.759793 \r\nL 288.384451 43.759793 \r\nL 288.384451 43.646135 \r\nL 289.36192 43.646135 \r\nL 289.36192 43.532477 \r\nL 290.036037 43.532477 \r\nL 290.036037 43.418818 \r\nL 291.485388 43.418818 \r\nL 291.485388 43.30516 \r\nL 292.698798 43.30516 \r\nL 292.698798 43.191501 \r\nL 293.878502 43.191501 \r\nL 293.878502 43.077843 \r\nL 294.350383 43.077843 \r\nL 294.350383 42.964184 \r\nL 295.563793 42.964184 \r\nL 295.563793 42.850526 \r\nL 297.080555 42.850526 \r\nL 297.080555 42.736867 \r\nL 297.249084 42.736867 \r\nL 297.249084 42.623209 \r\nL 297.822084 42.623209 \r\nL 297.855789 42.395892 \r\nL 301.125255 42.395892 \r\nL 301.158961 42.168575 \r\nL 301.630842 42.168575 \r\nL 301.630842 42.054917 \r\nL 303.653192 42.054917 \r\nL 303.653192 41.941258 \r\nL 304.596955 41.941258 \r\nL 304.596955 41.8276 \r\nL 307.394539 41.8276 \r\nL 307.428245 41.713941 \r\nL 308.372008 41.713941 \r\nL 308.372008 41.600283 \r\nL 308.742772 41.600283 \r\nL 308.742772 41.486624 \r\nL 311.001063 41.486624 \r\nL 311.001063 41.372966 \r\nL 312.045943 41.372966 \r\nL 312.045943 41.259307 \r\nL 312.349296 41.259307 \r\nL 312.349296 41.145649 \r\nL 312.551531 41.145649 \r\nL 312.551531 41.03199 \r\nL 313.259353 41.03199 \r\nL 313.293059 40.804674 \r\nL 314.000882 40.804674 \r\nL 314.000882 40.691015 \r\nL 316.19176 40.691015 \r\nL 316.19176 40.577357 \r\nL 318.011875 40.577357 \r\nL 318.011875 40.463698 \r\nL 320.573518 40.463698 \r\nL 320.573518 40.35004 \r\nL 320.876871 40.35004 \r\nL 320.876871 40.236381 \r\nL 320.944282 40.236381 \r\nL 322.427339 40.236381 \r\nL 322.427339 40.122723 \r\nL 324.955276 40.122723 \r\nL 324.955276 39.895406 \r\nL 328.898858 39.895406 \r\nL 328.898858 39.781747 \r\nL 331.763853 39.781747 \r\nL 331.763853 39.668089 \r\nL 336.448964 39.668089 \r\nL 336.448964 39.55443 \r\nL 338.235373 39.55443 \r\nL 338.33649 39.213455 \r\nL 344.201304 39.213455 \r\nL 344.201304 39.099797 \r\nL 345.077656 39.099797 \r\nL 345.111362 38.986138 \r\nL 345.718067 38.986138 \r\nL 345.718067 38.87248 \r\nL 346.459595 38.87248 \r\nL 346.459595 38.758821 \r\nL 351.582881 38.758821 \r\nL 351.616587 38.645163 \r\nL 352.122174 38.645163 \r\nL 352.122174 38.531504 \r\nL 353.268172 38.531504 \r\nL 353.436702 38.417846 \r\nL 355.054581 38.417846 \r\nL 355.088287 38.304187 \r\nL 365.368565 38.304187 \r\nL 365.435977 38.190529 \r\nL 366.480857 38.190529 \r\nL 366.615681 38.07687 \r\nL 367.795385 38.07687 \r\nL 367.795385 37.963212 \r\nL 369.278441 37.963212 \r\nL 369.312147 37.849554 \r\nL 378.58125 37.849554 \r\nL 378.58125 37.849554 \r\n\" style=\"fill:none;stroke:#8b0000;stroke-linecap:square;stroke-width:1.5;\"/>\r\n   </g>\r\n   <g id=\"line2d_14\">\r\n    <path clip-path=\"url(#pd3d8fdae61)\" d=\"M 43.78125 348.478125 \r\nL 378.58125 37.849554 \r\n\" style=\"fill:none;stroke:#d3d3d3;stroke-dasharray:5.55,2.4;stroke-dashoffset:0;stroke-width:1.5;\"/>\r\n   </g>\r\n   <g id=\"patch_3\">\r\n    <path d=\"M 43.78125 348.478125 \r\nL 43.78125 22.318125 \r\n\" style=\"fill:none;stroke:#000000;stroke-linecap:square;stroke-linejoin:miter;stroke-width:0.8;\"/>\r\n   </g>\r\n   <g id=\"patch_4\">\r\n    <path d=\"M 378.58125 348.478125 \r\nL 378.58125 22.318125 \r\n\" style=\"fill:none;stroke:#000000;stroke-linecap:square;stroke-linejoin:miter;stroke-width:0.8;\"/>\r\n   </g>\r\n   <g id=\"patch_5\">\r\n    <path d=\"M 43.78125 348.478125 \r\nL 378.58125 348.478125 \r\n\" style=\"fill:none;stroke:#000000;stroke-linecap:square;stroke-linejoin:miter;stroke-width:0.8;\"/>\r\n   </g>\r\n   <g id=\"patch_6\">\r\n    <path d=\"M 43.78125 22.318125 \r\nL 378.58125 22.318125 \r\n\" style=\"fill:none;stroke:#000000;stroke-linecap:square;stroke-linejoin:miter;stroke-width:0.8;\"/>\r\n   </g>\r\n   <g id=\"text_15\">\r\n    <!-- Receiver Operating Characteristic Curve -->\r\n    <g transform=\"translate(90.069375 16.318125)scale(0.12 -0.12)\">\r\n     <defs>\r\n      <path d=\"M 48.78125 52.59375 \r\nL 48.78125 44.1875 \r\nQ 44.96875 46.296875 41.140625 47.34375 \r\nQ 37.3125 48.390625 33.40625 48.390625 \r\nQ 24.65625 48.390625 19.8125 42.84375 \r\nQ 14.984375 37.3125 14.984375 27.296875 \r\nQ 14.984375 17.28125 19.8125 11.734375 \r\nQ 24.65625 6.203125 33.40625 6.203125 \r\nQ 37.3125 6.203125 41.140625 7.25 \r\nQ 44.96875 8.296875 48.78125 10.40625 \r\nL 48.78125 2.09375 \r\nQ 45.015625 0.34375 40.984375 -0.53125 \r\nQ 36.96875 -1.421875 32.421875 -1.421875 \r\nQ 20.0625 -1.421875 12.78125 6.34375 \r\nQ 5.515625 14.109375 5.515625 27.296875 \r\nQ 5.515625 40.671875 12.859375 48.328125 \r\nQ 20.21875 56 33.015625 56 \r\nQ 37.15625 56 41.109375 55.140625 \r\nQ 45.0625 54.296875 48.78125 52.59375 \r\nz\r\n\" id=\"DejaVuSans-99\"/>\r\n      <path d=\"M 39.40625 66.21875 \r\nQ 28.65625 66.21875 22.328125 58.203125 \r\nQ 16.015625 50.203125 16.015625 36.375 \r\nQ 16.015625 22.609375 22.328125 14.59375 \r\nQ 28.65625 6.59375 39.40625 6.59375 \r\nQ 50.140625 6.59375 56.421875 14.59375 \r\nQ 62.703125 22.609375 62.703125 36.375 \r\nQ 62.703125 50.203125 56.421875 58.203125 \r\nQ 50.140625 66.21875 39.40625 66.21875 \r\nz\r\nM 39.40625 74.21875 \r\nQ 54.734375 74.21875 63.90625 63.9375 \r\nQ 73.09375 53.65625 73.09375 36.375 \r\nQ 73.09375 19.140625 63.90625 8.859375 \r\nQ 54.734375 -1.421875 39.40625 -1.421875 \r\nQ 24.03125 -1.421875 14.8125 8.828125 \r\nQ 5.609375 19.09375 5.609375 36.375 \r\nQ 5.609375 53.65625 14.8125 63.9375 \r\nQ 24.03125 74.21875 39.40625 74.21875 \r\nz\r\n\" id=\"DejaVuSans-79\"/>\r\n      <path d=\"M 18.109375 8.203125 \r\nL 18.109375 -20.796875 \r\nL 9.078125 -20.796875 \r\nL 9.078125 54.6875 \r\nL 18.109375 54.6875 \r\nL 18.109375 46.390625 \r\nQ 20.953125 51.265625 25.265625 53.625 \r\nQ 29.59375 56 35.59375 56 \r\nQ 45.5625 56 51.78125 48.09375 \r\nQ 58.015625 40.1875 58.015625 27.296875 \r\nQ 58.015625 14.40625 51.78125 6.484375 \r\nQ 45.5625 -1.421875 35.59375 -1.421875 \r\nQ 29.59375 -1.421875 25.265625 0.953125 \r\nQ 20.953125 3.328125 18.109375 8.203125 \r\nz\r\nM 48.6875 27.296875 \r\nQ 48.6875 37.203125 44.609375 42.84375 \r\nQ 40.53125 48.484375 33.40625 48.484375 \r\nQ 26.265625 48.484375 22.1875 42.84375 \r\nQ 18.109375 37.203125 18.109375 27.296875 \r\nQ 18.109375 17.390625 22.1875 11.75 \r\nQ 26.265625 6.109375 33.40625 6.109375 \r\nQ 40.53125 6.109375 44.609375 11.75 \r\nQ 48.6875 17.390625 48.6875 27.296875 \r\nz\r\n\" id=\"DejaVuSans-112\"/>\r\n      <path d=\"M 54.890625 33.015625 \r\nL 54.890625 0 \r\nL 45.90625 0 \r\nL 45.90625 32.71875 \r\nQ 45.90625 40.484375 42.875 44.328125 \r\nQ 39.84375 48.1875 33.796875 48.1875 \r\nQ 26.515625 48.1875 22.3125 43.546875 \r\nQ 18.109375 38.921875 18.109375 30.90625 \r\nL 18.109375 0 \r\nL 9.078125 0 \r\nL 9.078125 54.6875 \r\nL 18.109375 54.6875 \r\nL 18.109375 46.1875 \r\nQ 21.34375 51.125 25.703125 53.5625 \r\nQ 30.078125 56 35.796875 56 \r\nQ 45.21875 56 50.046875 50.171875 \r\nQ 54.890625 44.34375 54.890625 33.015625 \r\nz\r\n\" id=\"DejaVuSans-110\"/>\r\n      <path d=\"M 45.40625 27.984375 \r\nQ 45.40625 37.75 41.375 43.109375 \r\nQ 37.359375 48.484375 30.078125 48.484375 \r\nQ 22.859375 48.484375 18.828125 43.109375 \r\nQ 14.796875 37.75 14.796875 27.984375 \r\nQ 14.796875 18.265625 18.828125 12.890625 \r\nQ 22.859375 7.515625 30.078125 7.515625 \r\nQ 37.359375 7.515625 41.375 12.890625 \r\nQ 45.40625 18.265625 45.40625 27.984375 \r\nz\r\nM 54.390625 6.78125 \r\nQ 54.390625 -7.171875 48.1875 -13.984375 \r\nQ 42 -20.796875 29.203125 -20.796875 \r\nQ 24.46875 -20.796875 20.265625 -20.09375 \r\nQ 16.0625 -19.390625 12.109375 -17.921875 \r\nL 12.109375 -9.1875 \r\nQ 16.0625 -11.328125 19.921875 -12.34375 \r\nQ 23.78125 -13.375 27.78125 -13.375 \r\nQ 36.625 -13.375 41.015625 -8.765625 \r\nQ 45.40625 -4.15625 45.40625 5.171875 \r\nL 45.40625 9.625 \r\nQ 42.625 4.78125 38.28125 2.390625 \r\nQ 33.9375 0 27.875 0 \r\nQ 17.828125 0 11.671875 7.65625 \r\nQ 5.515625 15.328125 5.515625 27.984375 \r\nQ 5.515625 40.671875 11.671875 48.328125 \r\nQ 17.828125 56 27.875 56 \r\nQ 33.9375 56 38.28125 53.609375 \r\nQ 42.625 51.21875 45.40625 46.390625 \r\nL 45.40625 54.6875 \r\nL 54.390625 54.6875 \r\nz\r\n\" id=\"DejaVuSans-103\"/>\r\n      <path d=\"M 64.40625 67.28125 \r\nL 64.40625 56.890625 \r\nQ 59.421875 61.53125 53.78125 63.8125 \r\nQ 48.140625 66.109375 41.796875 66.109375 \r\nQ 29.296875 66.109375 22.65625 58.46875 \r\nQ 16.015625 50.828125 16.015625 36.375 \r\nQ 16.015625 21.96875 22.65625 14.328125 \r\nQ 29.296875 6.6875 41.796875 6.6875 \r\nQ 48.140625 6.6875 53.78125 8.984375 \r\nQ 59.421875 11.28125 64.40625 15.921875 \r\nL 64.40625 5.609375 \r\nQ 59.234375 2.09375 53.4375 0.328125 \r\nQ 47.65625 -1.421875 41.21875 -1.421875 \r\nQ 24.65625 -1.421875 15.125 8.703125 \r\nQ 5.609375 18.84375 5.609375 36.375 \r\nQ 5.609375 53.953125 15.125 64.078125 \r\nQ 24.65625 74.21875 41.21875 74.21875 \r\nQ 47.75 74.21875 53.53125 72.484375 \r\nQ 59.328125 70.75 64.40625 67.28125 \r\nz\r\n\" id=\"DejaVuSans-67\"/>\r\n      <path d=\"M 54.890625 33.015625 \r\nL 54.890625 0 \r\nL 45.90625 0 \r\nL 45.90625 32.71875 \r\nQ 45.90625 40.484375 42.875 44.328125 \r\nQ 39.84375 48.1875 33.796875 48.1875 \r\nQ 26.515625 48.1875 22.3125 43.546875 \r\nQ 18.109375 38.921875 18.109375 30.90625 \r\nL 18.109375 0 \r\nL 9.078125 0 \r\nL 9.078125 75.984375 \r\nL 18.109375 75.984375 \r\nL 18.109375 46.1875 \r\nQ 21.34375 51.125 25.703125 53.5625 \r\nQ 30.078125 56 35.796875 56 \r\nQ 45.21875 56 50.046875 50.171875 \r\nQ 54.890625 44.34375 54.890625 33.015625 \r\nz\r\n\" id=\"DejaVuSans-104\"/>\r\n     </defs>\r\n     <use xlink:href=\"#DejaVuSans-82\"/>\r\n     <use x=\"64.982422\" xlink:href=\"#DejaVuSans-101\"/>\r\n     <use x=\"126.505859\" xlink:href=\"#DejaVuSans-99\"/>\r\n     <use x=\"181.486328\" xlink:href=\"#DejaVuSans-101\"/>\r\n     <use x=\"243.009766\" xlink:href=\"#DejaVuSans-105\"/>\r\n     <use x=\"270.792969\" xlink:href=\"#DejaVuSans-118\"/>\r\n     <use x=\"329.972656\" xlink:href=\"#DejaVuSans-101\"/>\r\n     <use x=\"391.496094\" xlink:href=\"#DejaVuSans-114\"/>\r\n     <use x=\"432.609375\" xlink:href=\"#DejaVuSans-32\"/>\r\n     <use x=\"464.396484\" xlink:href=\"#DejaVuSans-79\"/>\r\n     <use x=\"543.107422\" xlink:href=\"#DejaVuSans-112\"/>\r\n     <use x=\"606.583984\" xlink:href=\"#DejaVuSans-101\"/>\r\n     <use x=\"668.107422\" xlink:href=\"#DejaVuSans-114\"/>\r\n     <use x=\"709.220703\" xlink:href=\"#DejaVuSans-97\"/>\r\n     <use x=\"770.5\" xlink:href=\"#DejaVuSans-116\"/>\r\n     <use x=\"809.708984\" xlink:href=\"#DejaVuSans-105\"/>\r\n     <use x=\"837.492188\" xlink:href=\"#DejaVuSans-110\"/>\r\n     <use x=\"900.871094\" xlink:href=\"#DejaVuSans-103\"/>\r\n     <use x=\"964.347656\" xlink:href=\"#DejaVuSans-32\"/>\r\n     <use x=\"996.134766\" xlink:href=\"#DejaVuSans-67\"/>\r\n     <use x=\"1065.958984\" xlink:href=\"#DejaVuSans-104\"/>\r\n     <use x=\"1129.337891\" xlink:href=\"#DejaVuSans-97\"/>\r\n     <use x=\"1190.617188\" xlink:href=\"#DejaVuSans-114\"/>\r\n     <use x=\"1231.730469\" xlink:href=\"#DejaVuSans-97\"/>\r\n     <use x=\"1293.009766\" xlink:href=\"#DejaVuSans-99\"/>\r\n     <use x=\"1347.990234\" xlink:href=\"#DejaVuSans-116\"/>\r\n     <use x=\"1387.199219\" xlink:href=\"#DejaVuSans-101\"/>\r\n     <use x=\"1448.722656\" xlink:href=\"#DejaVuSans-114\"/>\r\n     <use x=\"1489.835938\" xlink:href=\"#DejaVuSans-105\"/>\r\n     <use x=\"1517.619141\" xlink:href=\"#DejaVuSans-115\"/>\r\n     <use x=\"1569.71875\" xlink:href=\"#DejaVuSans-116\"/>\r\n     <use x=\"1608.927734\" xlink:href=\"#DejaVuSans-105\"/>\r\n     <use x=\"1636.710938\" xlink:href=\"#DejaVuSans-99\"/>\r\n     <use x=\"1691.691406\" xlink:href=\"#DejaVuSans-32\"/>\r\n     <use x=\"1723.478516\" xlink:href=\"#DejaVuSans-67\"/>\r\n     <use x=\"1793.302734\" xlink:href=\"#DejaVuSans-117\"/>\r\n     <use x=\"1856.681641\" xlink:href=\"#DejaVuSans-114\"/>\r\n     <use x=\"1897.794922\" xlink:href=\"#DejaVuSans-118\"/>\r\n     <use x=\"1956.974609\" xlink:href=\"#DejaVuSans-101\"/>\r\n    </g>\r\n   </g>\r\n   <g id=\"legend_1\">\r\n    <g id=\"patch_7\">\r\n     <path d=\"M 209.940625 343.478125 \r\nL 371.58125 343.478125 \r\nQ 373.58125 343.478125 373.58125 341.478125 \r\nL 373.58125 327.8 \r\nQ 373.58125 325.8 371.58125 325.8 \r\nL 209.940625 325.8 \r\nQ 207.940625 325.8 207.940625 327.8 \r\nL 207.940625 341.478125 \r\nQ 207.940625 343.478125 209.940625 343.478125 \r\nz\r\n\" style=\"fill:#ffffff;opacity:0.8;stroke:#cccccc;stroke-linejoin:miter;\"/>\r\n    </g>\r\n    <g id=\"line2d_15\">\r\n     <path d=\"M 211.940625 333.898437 \r\nL 231.940625 333.898437 \r\n\" style=\"fill:none;stroke:#8b0000;stroke-linecap:square;stroke-width:1.5;\"/>\r\n    </g>\r\n    <g id=\"line2d_16\"/>\r\n    <g id=\"text_16\">\r\n     <!-- ROC curve (area = 0.761) -->\r\n     <g transform=\"translate(239.940625 337.398437)scale(0.1 -0.1)\">\r\n      <defs>\r\n       <path d=\"M 31 75.875 \r\nQ 24.46875 64.65625 21.28125 53.65625 \r\nQ 18.109375 42.671875 18.109375 31.390625 \r\nQ 18.109375 20.125 21.3125 9.0625 \r\nQ 24.515625 -2 31 -13.1875 \r\nL 23.1875 -13.1875 \r\nQ 15.875 -1.703125 12.234375 9.375 \r\nQ 8.59375 20.453125 8.59375 31.390625 \r\nQ 8.59375 42.28125 12.203125 53.3125 \r\nQ 15.828125 64.359375 23.1875 75.875 \r\nz\r\n\" id=\"DejaVuSans-40\"/>\r\n       <path d=\"M 10.59375 45.40625 \r\nL 73.1875 45.40625 \r\nL 73.1875 37.203125 \r\nL 10.59375 37.203125 \r\nz\r\nM 10.59375 25.484375 \r\nL 73.1875 25.484375 \r\nL 73.1875 17.1875 \r\nL 10.59375 17.1875 \r\nz\r\n\" id=\"DejaVuSans-61\"/>\r\n       <path d=\"M 8.203125 72.90625 \r\nL 55.078125 72.90625 \r\nL 55.078125 68.703125 \r\nL 28.609375 0 \r\nL 18.3125 0 \r\nL 43.21875 64.59375 \r\nL 8.203125 64.59375 \r\nz\r\n\" id=\"DejaVuSans-55\"/>\r\n       <path d=\"M 8.015625 75.875 \r\nL 15.828125 75.875 \r\nQ 23.140625 64.359375 26.78125 53.3125 \r\nQ 30.421875 42.28125 30.421875 31.390625 \r\nQ 30.421875 20.453125 26.78125 9.375 \r\nQ 23.140625 -1.703125 15.828125 -13.1875 \r\nL 8.015625 -13.1875 \r\nQ 14.5 -2 17.703125 9.0625 \r\nQ 20.90625 20.125 20.90625 31.390625 \r\nQ 20.90625 42.671875 17.703125 53.65625 \r\nQ 14.5 64.65625 8.015625 75.875 \r\nz\r\n\" id=\"DejaVuSans-41\"/>\r\n      </defs>\r\n      <use xlink:href=\"#DejaVuSans-82\"/>\r\n      <use x=\"69.482422\" xlink:href=\"#DejaVuSans-79\"/>\r\n      <use x=\"148.193359\" xlink:href=\"#DejaVuSans-67\"/>\r\n      <use x=\"218.017578\" xlink:href=\"#DejaVuSans-32\"/>\r\n      <use x=\"249.804688\" xlink:href=\"#DejaVuSans-99\"/>\r\n      <use x=\"304.785156\" xlink:href=\"#DejaVuSans-117\"/>\r\n      <use x=\"368.164062\" xlink:href=\"#DejaVuSans-114\"/>\r\n      <use x=\"409.277344\" xlink:href=\"#DejaVuSans-118\"/>\r\n      <use x=\"468.457031\" xlink:href=\"#DejaVuSans-101\"/>\r\n      <use x=\"529.980469\" xlink:href=\"#DejaVuSans-32\"/>\r\n      <use x=\"561.767578\" xlink:href=\"#DejaVuSans-40\"/>\r\n      <use x=\"600.78125\" xlink:href=\"#DejaVuSans-97\"/>\r\n      <use x=\"662.060547\" xlink:href=\"#DejaVuSans-114\"/>\r\n      <use x=\"700.923828\" xlink:href=\"#DejaVuSans-101\"/>\r\n      <use x=\"762.447266\" xlink:href=\"#DejaVuSans-97\"/>\r\n      <use x=\"823.726562\" xlink:href=\"#DejaVuSans-32\"/>\r\n      <use x=\"855.513672\" xlink:href=\"#DejaVuSans-61\"/>\r\n      <use x=\"939.302734\" xlink:href=\"#DejaVuSans-32\"/>\r\n      <use x=\"971.089844\" xlink:href=\"#DejaVuSans-48\"/>\r\n      <use x=\"1034.712891\" xlink:href=\"#DejaVuSans-46\"/>\r\n      <use x=\"1066.5\" xlink:href=\"#DejaVuSans-55\"/>\r\n      <use x=\"1130.123047\" xlink:href=\"#DejaVuSans-54\"/>\r\n      <use x=\"1193.746094\" xlink:href=\"#DejaVuSans-49\"/>\r\n      <use x=\"1257.369141\" xlink:href=\"#DejaVuSans-41\"/>\r\n     </g>\r\n    </g>\r\n   </g>\r\n  </g>\r\n </g>\r\n <defs>\r\n  <clipPath id=\"pd3d8fdae61\">\r\n   <rect height=\"326.16\" width=\"334.8\" x=\"43.78125\" y=\"22.318125\"/>\r\n  </clipPath>\r\n </defs>\r\n</svg>\r\n",
      "image/png": "[encoded data removed]"
     },
     "metadata": {
      "needs_background": "light"
     }
    },
    {
     "output_type": "execute_result",
     "data": {
      "text/plain": [
       "0.7610413848894435"
      ]
     },
     "metadata": {},
     "execution_count": 89
    }
   ],
   "source": [
    "prediction(G0, all_train_feat.to_numpy(), all_test_feat.to_numpy(), train_labels, real_test_labels)"
   ]
  },
  {
   "source": [
    "# Getting the features of the test set"
   ],
   "cell_type": "markdown",
   "metadata": {}
  },
  {
   "cell_type": "code",
   "execution_count": 91,
   "metadata": {},
   "outputs": [],
   "source": [
    "with open(\"testing_set.txt\", \"r\") as f:\n",
    "    reader = csv.reader(f)\n",
    "    testing_set  = list(reader)\n",
    "\n",
    "testing_set = [element[0].split(\" \") for element in testing_set]"
   ]
  },
  {
   "cell_type": "code",
   "execution_count": 134,
   "metadata": {},
   "outputs": [
    {
     "output_type": "stream",
     "name": "stdout",
     "text": [
      "1 testing examples processsed\n",
      "1001 testing examples processsed\n",
      "2001 testing examples processsed\n",
      "3001 testing examples processsed\n",
      "4001 testing examples processsed\n",
      "5001 testing examples processsed\n",
      "6001 testing examples processsed\n",
      "7001 testing examples processsed\n",
      "8001 testing examples processsed\n",
      "9001 testing examples processsed\n",
      "10001 testing examples processsed\n",
      "11001 testing examples processsed\n",
      "12001 testing examples processsed\n",
      "13001 testing examples processsed\n",
      "14001 testing examples processsed\n",
      "15001 testing examples processsed\n",
      "16001 testing examples processsed\n",
      "17001 testing examples processsed\n",
      "18001 testing examples processsed\n",
      "19001 testing examples processsed\n",
      "20001 testing examples processsed\n",
      "21001 testing examples processsed\n",
      "22001 testing examples processsed\n",
      "23001 testing examples processsed\n",
      "24001 testing examples processsed\n",
      "25001 testing examples processsed\n",
      "26001 testing examples processsed\n",
      "27001 testing examples processsed\n",
      "28001 testing examples processsed\n",
      "29001 testing examples processsed\n",
      "30001 testing examples processsed\n",
      "31001 testing examples processsed\n",
      "32001 testing examples processsed\n"
     ]
    }
   ],
   "source": [
    "overlap_title_test = []\n",
    "temp_diff_test = []\n",
    "comm_auth_test = []\n",
    "cosine_sim_test = []\n",
    "   \n",
    "counter = 0\n",
    "for i in range(len(testing_set)):\n",
    "\n",
    "    source = testing_set[i][0]\n",
    "    target = testing_set[i][1]\n",
    "    \n",
    "    index_source = IDs.index(source)\n",
    "    index_target = IDs.index(target)\n",
    "    \n",
    "    source_info = [element for element in node_info if element[0]==source][0]\n",
    "    target_info = [element for element in node_info if element[0]==target][0]\n",
    "    \n",
    "    source_title = source_info[2].lower().split(\" \")\n",
    "    source_title = [token for token in source_title if token not in stpwds]\n",
    "    source_title = [stemmer.stem(token) for token in source_title]\n",
    "    \n",
    "    target_title = target_info[2].lower().split(\" \")\n",
    "    target_title = [token for token in target_title if token not in stpwds]\n",
    "    target_title = [stemmer.stem(token) for token in target_title]\n",
    "    \n",
    "    source_auth = source_info[3].split(\",\")\n",
    "    target_auth = target_info[3].split(\",\")\n",
    "    \n",
    "    overlap_title_test.append(len(set(source_title).intersection(set(target_title))))\n",
    "    temp_diff_test.append(int(source_info[1]) - int(target_info[1]))\n",
    "    comm_auth_test.append(len(set(source_auth).intersection(set(target_auth))))\n",
    "\n",
    "    v1 = dense_matrix[index_source,:]\n",
    "    v2 = dense_matrix[index_target,:]\n",
    "\n",
    "    sim = cosine_similarity(v1, v2)\n",
    "    cosine_sim_test.append(sim[0][0])\n",
    "   \n",
    "    counter += 1\n",
    "    if counter % 1000 == True:\n",
    "        print(counter, \"testing examples processsed\")"
   ]
  },
  {
   "cell_type": "code",
   "execution_count": 135,
   "metadata": {
    "tags": []
   },
   "outputs": [],
   "source": [
    "testing_features = np.array([overlap_title_test,temp_diff_test,comm_auth_test, cosine_sim_test]).T\n",
    "\n",
    "testing_features = preprocessing.scale(testing_features)"
   ]
  },
  {
   "cell_type": "code",
   "execution_count": 136,
   "metadata": {},
   "outputs": [
    {
     "output_type": "stream",
     "name": "stdout",
     "text": [
      "(32648, 4)\n"
     ]
    }
   ],
   "source": [
    "print(testing_features.shape)"
   ]
  },
  {
   "cell_type": "code",
   "execution_count": 137,
   "metadata": {},
   "outputs": [],
   "source": [
    "test_feat = pd.DataFrame(testing_features, columns=['overl_title', 'temp_diff', 'comm_author', 'sim'])"
   ]
  },
  {
   "cell_type": "code",
   "execution_count": 107,
   "metadata": {},
   "outputs": [
    {
     "output_type": "display_data",
     "data": {
      "text/plain": "HBox(children=(FloatProgress(value=0.0, max=32648.0), HTML(value='')))",
      "application/vnd.jupyter.widget-view+json": {
       "version_major": 2,
       "version_minor": 0,
       "model_id": "79e89c38d4cc46268bda790b0d28d007"
      }
     },
     "metadata": {}
    },
    {
     "output_type": "stream",
     "name": "stdout",
     "text": [
      "\n32648\n"
     ]
    }
   ],
   "source": [
    "test_graph_feat = feature_extractor(G0, testing_set)\n",
    "test_graph_feat = pd.DataFrame(test_graph_feat, columns=['source_degree_centrality', 'target_degree_centrality', 'pref_attach', 'aai', 'jacard_coeff', 'res_all'])"
   ]
  },
  {
   "cell_type": "code",
   "execution_count": 139,
   "metadata": {},
   "outputs": [],
   "source": [
    "total_test_feat = pd.concat([test_graph_feat, test_feat], axis=1)"
   ]
  },
  {
   "cell_type": "code",
   "execution_count": 140,
   "metadata": {},
   "outputs": [
    {
     "output_type": "execute_result",
     "data": {
      "text/plain": [
       "   source_degree_centrality  target_degree_centrality  pref_attach  aai  \\\n",
       "0                         0                         0            0    0   \n",
       "1                         0                         0            0    0   \n",
       "2                         0                         0            0    0   \n",
       "3                         0                         0            0    0   \n",
       "4                         0                         0            0    0   \n",
       "\n",
       "   jacard_coeff  res_all  overl_title  temp_diff  comm_author       sim  \n",
       "0             0        0    -0.566312  -0.317649    -0.233924  0.007732  \n",
       "1             0        0     1.635671  -0.036092    -0.233924  1.109139  \n",
       "2             0        0     0.534679   0.245466    -0.233924  0.702924  \n",
       "3             0        0     0.534679  -0.317649    -0.233924  0.486097  \n",
       "4             0        0    -0.566312   1.090138    -0.233924  2.608261  "
      ],
      "text/html": "<div>\n<style scoped>\n    .dataframe tbody tr th:only-of-type {\n        vertical-align: middle;\n    }\n\n    .dataframe tbody tr th {\n        vertical-align: top;\n    }\n\n    .dataframe thead th {\n        text-align: right;\n    }\n</style>\n<table border=\"1\" class=\"dataframe\">\n  <thead>\n    <tr style=\"text-align: right;\">\n      <th></th>\n      <th>source_degree_centrality</th>\n      <th>target_degree_centrality</th>\n      <th>pref_attach</th>\n      <th>aai</th>\n      <th>jacard_coeff</th>\n      <th>res_all</th>\n      <th>overl_title</th>\n      <th>temp_diff</th>\n      <th>comm_author</th>\n      <th>sim</th>\n    </tr>\n  </thead>\n  <tbody>\n    <tr>\n      <th>0</th>\n      <td>0</td>\n      <td>0</td>\n      <td>0</td>\n      <td>0</td>\n      <td>0</td>\n      <td>0</td>\n      <td>-0.566312</td>\n      <td>-0.317649</td>\n      <td>-0.233924</td>\n      <td>0.007732</td>\n    </tr>\n    <tr>\n      <th>1</th>\n      <td>0</td>\n      <td>0</td>\n      <td>0</td>\n      <td>0</td>\n      <td>0</td>\n      <td>0</td>\n      <td>1.635671</td>\n      <td>-0.036092</td>\n      <td>-0.233924</td>\n      <td>1.109139</td>\n    </tr>\n    <tr>\n      <th>2</th>\n      <td>0</td>\n      <td>0</td>\n      <td>0</td>\n      <td>0</td>\n      <td>0</td>\n      <td>0</td>\n      <td>0.534679</td>\n      <td>0.245466</td>\n      <td>-0.233924</td>\n      <td>0.702924</td>\n    </tr>\n    <tr>\n      <th>3</th>\n      <td>0</td>\n      <td>0</td>\n      <td>0</td>\n      <td>0</td>\n      <td>0</td>\n      <td>0</td>\n      <td>0.534679</td>\n      <td>-0.317649</td>\n      <td>-0.233924</td>\n      <td>0.486097</td>\n    </tr>\n    <tr>\n      <th>4</th>\n      <td>0</td>\n      <td>0</td>\n      <td>0</td>\n      <td>0</td>\n      <td>0</td>\n      <td>0</td>\n      <td>-0.566312</td>\n      <td>1.090138</td>\n      <td>-0.233924</td>\n      <td>2.608261</td>\n    </tr>\n  </tbody>\n</table>\n</div>"
     },
     "metadata": {},
     "execution_count": 140
    }
   ],
   "source": [
    "total_test_feat.head()"
   ]
  },
  {
   "cell_type": "code",
   "execution_count": 144,
   "metadata": {},
   "outputs": [
    {
     "output_type": "stream",
     "name": "stderr",
     "text": [
      "C:\\Users\\inesp\\AppData\\Local\\Programs\\Python\\Python38\\lib\\site-packages\\sklearn\\svm\\_base.py:976: ConvergenceWarning: Liblinear failed to converge, increase the number of iterations.\n  warnings.warn(\"Liblinear failed to converge, increase \"\n"
     ]
    },
    {
     "output_type": "execute_result",
     "data": {
      "text/plain": [
       "LinearSVC(max_iter=10000)"
      ]
     },
     "metadata": {},
     "execution_count": 144
    }
   ],
   "source": [
    "# initialize basic SVM\n",
    "classifier = svm.LinearSVC(max_iter=10000)\n",
    "\n",
    "# train\n",
    "classifier.fit(all_train_feat.to_numpy(), train_labels)"
   ]
  },
  {
   "cell_type": "code",
   "execution_count": 149,
   "metadata": {},
   "outputs": [],
   "source": [
    "predictions_SVM = list(classifier.predict(total_test_feat.to_numpy()))\n",
    "\n",
    "predictions_SVM = zip(range(len(testing_set)), predictions_SVM)"
   ]
  },
  {
   "cell_type": "code",
   "execution_count": 150,
   "metadata": {},
   "outputs": [],
   "source": [
    "with open(\"improved_predictions_full.csv\",\"w\", newline='') as pred1:\n",
    "    csv_out = csv.writer(pred1)\n",
    "    for row in predictions_SVM:\n",
    "        csv_out.writerow(row)"
   ]
  },
  {
   "cell_type": "code",
   "execution_count": null,
   "metadata": {},
   "outputs": [],
   "source": []
  }
 ]
}