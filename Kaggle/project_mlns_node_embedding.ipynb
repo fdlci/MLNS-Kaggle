{
 "cells": [
  {
   "cell_type": "code",
   "execution_count": 4,
   "metadata": {
    "id": "IO285KLTtjqw"
   },
   "outputs": [],
   "source": [
    "%matplotlib inline\n",
    "import os\n",
    "from tqdm import tqdm\n",
    "###\n",
    "import numpy as np\n",
    "import matplotlib.pyplot as plt\n",
    "import pandas as pd\n",
    "import csv\n",
    "from scipy.sparse import *\n",
    "import nltk\n",
    "import random\n",
    "###\n",
    "import networkx as nx\n",
    "from node2vec import Node2Vec\n",
    "from gensim.models import word2vec\n",
    "###\n",
    "from sklearn import preprocessing\n",
    "from sklearn.feature_extraction.text import TfidfVectorizer\n",
    "from sklearn.linear_model import LogisticRegression\n",
    "from sklearn import svm\n",
    "from sklearn.metrics.pairwise import linear_kernel\n",
    "from sklearn.metrics.pairwise import cosine_similarity\n",
    "from sklearn.metrics import accuracy_score, f1_score, roc_auc_score, roc_curve, auc"
   ]
  },
  {
   "cell_type": "code",
   "execution_count": 5,
   "metadata": {
    "id": "09TZq7WAtjqy",
    "outputId": "073edea1-a7e3-4207-d535-7d76cd4544fa"
   },
   "outputs": [
    {
     "name": "stderr",
     "output_type": "stream",
     "text": [
      "[nltk_data] Downloading package punkt to\n",
      "[nltk_data]     C:\\Users\\chene\\AppData\\Roaming\\nltk_data...\n",
      "[nltk_data]   Package punkt is already up-to-date!\n",
      "[nltk_data] Downloading package stopwords to\n",
      "[nltk_data]     C:\\Users\\chene\\AppData\\Roaming\\nltk_data...\n",
      "[nltk_data]   Package stopwords is already up-to-date!\n"
     ]
    }
   ],
   "source": [
    "nltk.download('punkt') # for tokenization\n",
    "nltk.download('stopwords')\n",
    "stpwds = set(nltk.corpus.stopwords.words(\"english\"))\n",
    "stemmer = nltk.stem.PorterStemmer()"
   ]
  },
  {
   "cell_type": "code",
   "execution_count": 6,
   "metadata": {
    "id": "7CrhWJTOtjqz"
   },
   "outputs": [],
   "source": [
    "# Info of the graph\n",
    "def compute_network_characteristics(graph):\n",
    "    prop = {}\n",
    "    prop['N'] =  graph.number_of_nodes() # number of nodes\n",
    "    prop['M'] = graph.number_of_edges() # number of edges\n",
    "    degrees = [degree for node, degree in graph.degree()] # degree list\n",
    "    prop['min_degree'] =  np.min(degrees) # minimum degree\n",
    "    prop['max_degree'] =  np.max(degrees) # maximum degree\n",
    "    prop['mean_degree'] = np.mean(degrees) # mean of node degrees\n",
    "    prop['median_degree'] = np.median(degrees) # median of node degrees\n",
    "    prop['density'] =  nx.density(graph) # density of the graph\n",
    "    return prop"
   ]
  },
  {
   "cell_type": "markdown",
   "metadata": {
    "id": "smMzjjgltjqz"
   },
   "source": [
    "# Turning the training data into a graph"
   ]
  },
  {
   "cell_type": "code",
   "execution_count": 7,
   "metadata": {
    "id": "_LNDYxKntjqz"
   },
   "outputs": [],
   "source": [
    "def get_training_graph(csv_file, column_names=['source', 'target', 'connected']):\n",
    "\n",
    "    # Pandas dataframe\n",
    "    df = pd.read_csv(csv_file, sep=' ', names=column_names)\n",
    "    edges = df.loc[df['connected'] == 1]\n",
    "\n",
    "    # Number of edges\n",
    "    print(f'There are {len(edges)} edges and {len(df) - len(edges)} non edges')\n",
    "\n",
    "    # networkx graph\n",
    "    Graphtype = nx.DiGraph()\n",
    "    G = nx.from_pandas_edgelist(edges, create_using=Graphtype)\n",
    "    \n",
    "    return G"
   ]
  },
  {
   "cell_type": "code",
   "execution_count": 8,
   "metadata": {
    "id": "P7uaxXrStjq0",
    "outputId": "03aa46bb-0aed-44ba-895d-54001e6361e9"
   },
   "outputs": [
    {
     "name": "stdout",
     "output_type": "stream",
     "text": [
      "There are 335130 edges and 280382 non edges\n"
     ]
    }
   ],
   "source": [
    "training_graph = get_training_graph('training_set.txt')"
   ]
  },
  {
   "cell_type": "code",
   "execution_count": 9,
   "metadata": {
    "id": "rm1We2Ejtjq0",
    "outputId": "e488f416-4db1-4440-dedc-a5a72628d491"
   },
   "outputs": [
    {
     "data": {
      "text/plain": [
       "{'N': 27684,\n",
       " 'M': 335130,\n",
       " 'min_degree': 1,\n",
       " 'max_degree': 2346,\n",
       " 'mean_degree': 24.211096662332032,\n",
       " 'median_degree': 14.0,\n",
       " 'density': 0.0004372917794735403}"
      ]
     },
     "execution_count": 9,
     "metadata": {},
     "output_type": "execute_result"
    }
   ],
   "source": [
    "compute_network_characteristics(graph=training_graph)"
   ]
  },
  {
   "cell_type": "markdown",
   "metadata": {
    "id": "i40osmhatjq0"
   },
   "source": [
    "## For now let's focus on a smaller graph"
   ]
  },
  {
   "cell_type": "code",
   "execution_count": 10,
   "metadata": {
    "id": "k4MwiQsctjq0"
   },
   "outputs": [],
   "source": [
    "with open(\"training_set.txt\", \"r\") as f:\n",
    "    reader = csv.reader(f)\n",
    "    training_set  = list(reader)\n",
    "\n",
    "training_set = [element[0].split(\" \") for element in training_set]"
   ]
  },
  {
   "cell_type": "code",
   "execution_count": 11,
   "metadata": {
    "id": "iHj23Uy6tjq1",
    "outputId": "129284e9-8a61-432e-ce01-3acf51082e40"
   },
   "outputs": [],
   "source": [
    "random.seed(10)\n",
    "to_keep = random.sample(range(len(training_set)), k=int(round(len(training_set)*0.5)))\n",
    "training_set_reduced = [training_set[i] for i in to_keep]"
   ]
  },
  {
   "cell_type": "code",
   "execution_count": 12,
   "metadata": {
    "id": "-NPXj8Rqtjq1",
    "outputId": "e3506558-8182-4193-c7af-3c0d2c4c7902"
   },
   "outputs": [
    {
     "name": "stdout",
     "output_type": "stream",
     "text": [
      "There are 167561 edges and 140195 non edges\n"
     ]
    },
    {
     "data": {
      "text/plain": [
       "True"
      ]
     },
     "execution_count": 12,
     "metadata": {},
     "output_type": "execute_result"
    }
   ],
   "source": [
    "# Pandas dataframe\n",
    "df = pd.DataFrame(training_set_reduced, columns=['source', 'target', 'connected'])\n",
    "edges = df.loc[df['connected'] == '1']\n",
    "\n",
    "# Number of edges\n",
    "print(f'There are {len(edges)} edges and {len(df) - len(edges)} non edges')\n",
    "\n",
    "# networkx graph !!!!!!! The graph is directed\n",
    "Graphtype = nx.DiGraph()\n",
    "G = nx.from_pandas_edgelist(edges, create_using=Graphtype)\n",
    "\n",
    "# Take the largest weakly conected component\n",
    "nodes = max(nx.strongly_connected_components(G), key=len) \n",
    "G0 = G.subgraph(nodes)\n",
    "\n",
    "\n",
    "nx.is_weakly_connected(G0)"
   ]
  },
  {
   "cell_type": "code",
   "execution_count": 13,
   "metadata": {
    "id": "91MyWPm2tjq1",
    "outputId": "710120f3-19eb-446a-bfea-3cb3876028f5"
   },
   "outputs": [
    {
     "data": {
      "text/plain": [
       "{'N': 3168,\n",
       " 'M': 22513,\n",
       " 'min_degree': 2,\n",
       " 'max_degree': 470,\n",
       " 'mean_degree': 14.212752525252526,\n",
       " 'median_degree': 11.0,\n",
       " 'density': 0.0022438826216060193}"
      ]
     },
     "execution_count": 13,
     "metadata": {},
     "output_type": "execute_result"
    }
   ],
   "source": [
    "compute_network_characteristics(G0)"
   ]
  },
  {
   "cell_type": "markdown",
   "metadata": {
    "id": "JkPe4bJotjq1"
   },
   "source": [
    "## Generate Samples"
   ]
  },
  {
   "cell_type": "code",
   "execution_count": 14,
   "metadata": {},
   "outputs": [],
   "source": [
    "def real_labels(graph, samples):\n",
    "    labels = []\n",
    "    for edge in tqdm(samples):\n",
    "        if edge in graph.edges():\n",
    "            labels.append(1)\n",
    "        else:\n",
    "            labels.append(0)\n",
    "    return labels"
   ]
  },
  {
   "cell_type": "code",
   "execution_count": 15,
   "metadata": {
    "id": "kGRwLwbytjq2"
   },
   "outputs": [],
   "source": [
    "def generate_samples(graph, train_set_ratio):\n",
    "    \"\"\"\n",
    "    Graph pre-processing step required to perform supervised link prediction\n",
    "    Create training and test sets\n",
    "    \"\"\"\n",
    "        \n",
    "    # --- Step 0: The graph must be connected ---\n",
    "    if nx.is_weakly_connected(graph) is not True:\n",
    "        raise ValueError(\"The graph contains more than one connected component!\")\n",
    "       \n",
    "    \n",
    "    # --- Step 1: Generate positive edge samples for testing set ---\n",
    "    residual_g = graph.copy()\n",
    "    test_pos_samples = []\n",
    "      \n",
    "    # Store the shuffled list of current edges of the graph\n",
    "    edges = list(residual_g.edges())\n",
    "    np.random.shuffle(edges)\n",
    "    \n",
    "    # Define number of positive test samples desired\n",
    "    test_set_size = int((1.0 - train_set_ratio) * graph.number_of_edges())\n",
    "    train_set_size = graph.number_of_edges() - test_set_size\n",
    "    num_of_pos_test_samples = 0\n",
    "    \n",
    "    # Remove random edges from the graph, leaving it connected\n",
    "    # Fill in the blanks\n",
    "    for edge in tqdm(edges):\n",
    "        \n",
    "        # Remove the edge\n",
    "        residual_g.remove_edge(edge[0], edge[1])\n",
    "        \n",
    "        # Add the removed edge to the positive sample list if the network is still connected\n",
    "        if nx.is_weakly_connected(residual_g):\n",
    "            num_of_pos_test_samples += 1\n",
    "            test_pos_samples.append(edge)\n",
    "        # Otherwise, re-add the edge to the network\n",
    "        else: \n",
    "            residual_g.add_edge(edge[0], edge[1])\n",
    "        \n",
    "        # If we have collected enough number of edges for testing set, we can terminate the loop\n",
    "        if num_of_pos_test_samples == test_set_size:\n",
    "            break\n",
    "    \n",
    "    # Check if we have the desired number of positive samples for testing set \n",
    "    if num_of_pos_test_samples != test_set_size:\n",
    "        raise ValueError(\"Enough positive edge samples could not be found!\")\n",
    "\n",
    "        \n",
    "    # --- Step 2: Generate positive edge samples for training set ---\n",
    "    # The remaining edges are simply considered for positive samples of the training set\n",
    "    train_pos_samples = list(residual_g.edges())\n",
    "        \n",
    "        \n",
    "    # --- Step 3: Generate the negative samples for testing and training sets ---\n",
    "    # Fill in the blanks\n",
    "    non_edges = list(nx.non_edges(graph))\n",
    "    random.seed(10)\n",
    "    np.random.shuffle(non_edges)\n",
    "    \n",
    "    train_neg_samples = non_edges[:train_set_size] \n",
    "    test_neg_samples = non_edges[train_set_size:train_set_size + test_set_size]\n",
    "\n",
    "    \n",
    "    # --- Step 4: Combine sample lists and create corresponding labels ---\n",
    "    # For training set\n",
    "    train_samples = train_pos_samples + train_neg_samples\n",
    "    train_labels = [1 for _ in train_pos_samples] + [0 for _ in train_neg_samples]\n",
    "    # For testing set\n",
    "    test_samples = test_pos_samples + test_neg_samples\n",
    "    test_labels = real_labels(G, test_samples) # !!!! G et pas G0\n",
    "    \n",
    "    return residual_g, train_samples, train_labels, test_samples, test_labels\n"
   ]
  },
  {
   "cell_type": "code",
   "execution_count": 16,
   "metadata": {
    "id": "4dSSZK6Itjq2",
    "outputId": "b4e16caf-0398-4905-faf4-cd6178a010af"
   },
   "outputs": [
    {
     "name": "stderr",
     "output_type": "stream",
     "text": [
      " 20%|███████████████▏                                                            | 4511/22513 [00:43<02:46, 108.04it/s]\n",
      "  0%|                                                                                         | 0/9004 [00:00<?, ?it/s]\n",
      " 20%|███████████████▏                                                            | 4511/22513 [01:01<02:46, 108.04it/s]"
     ]
    }
   ],
   "source": [
    "residual_g, train_samples, train_labels, test_samples, test_labels = generate_samples(G0, train_set_ratio=0.8)"
   ]
  },
  {
   "cell_type": "markdown",
   "metadata": {
    "id": "W3ui8XLPtjq3"
   },
   "source": [
    "# Random Walk (feature extraction directed graph)"
   ]
  },
  {
   "cell_type": "code",
   "execution_count": 17,
   "metadata": {
    "id": "3cztGi7_tjq3"
   },
   "outputs": [],
   "source": [
    "def feature_extractor_walk(graph, samples, node2embedding, dimension, feature_func = None):\n",
    "    \"\"\"\n",
    "    Creates a feature vector for each edge of the graph contained in samples \n",
    "    \"\"\"    \n",
    "    # --- Construct feature vectors for edges ---\n",
    "    if feature_func is None:\n",
    "        feature_func = lambda x,y: abs(x-y)\n",
    "\n",
    "    # Fill in the blanks\n",
    "    feature_vector = []\n",
    "    for edge in samples:\n",
    "        source_node = edge[0]\n",
    "        target_node = edge[1]\n",
    "        \n",
    "        try:\n",
    "            source_embedding = node2embedding[source_node]\n",
    "\n",
    "        except KeyError:\n",
    "            source_embedding = np.ones(dimension)\n",
    "            \n",
    "        try:\n",
    "            target_embedding = node2embedding[target_node]\n",
    "        except KeyError:\n",
    "            target_embedding = np.ones(dimension)\n",
    "            \n",
    "        feature_vector.append(feature_func(source_embedding, target_embedding))\n",
    "        \n",
    "    return np.array(feature_vector)"
   ]
  },
  {
   "cell_type": "markdown",
   "metadata": {},
   "source": [
    "## Best embedding model"
   ]
  },
  {
   "cell_type": "code",
   "execution_count": 89,
   "metadata": {},
   "outputs": [
    {
     "data": {
      "application/vnd.jupyter.widget-view+json": {
       "model_id": "875a380e7c85439da459d3a5aaba0cd7",
       "version_major": 2,
       "version_minor": 0
      },
      "text/plain": [
       "HBox(children=(IntProgress(value=0, description='Computing transition probabilities', max=3168, style=Progress…"
      ]
     },
     "metadata": {},
     "output_type": "display_data"
    }
   ],
   "source": [
    "num_of_walks = 100\n",
    "walk_length = 30\n",
    "embedding_size = 256\n",
    "window_size = 10\n",
    "\n",
    "node2vec = Node2Vec(residual_g, dimensions=embedding_size, walk_length=walk_length,\n",
    "                    num_walks=num_of_walks, workers=4)\n",
    "# Embed nodes\n",
    "model = node2vec.fit(window=window_size, min_count=1, batch_words=4)"
   ]
  },
  {
   "cell_type": "code",
   "execution_count": 98,
   "metadata": {},
   "outputs": [],
   "source": [
    "model.wv.save('node2vec.wordvectors')"
   ]
  },
  {
   "cell_type": "code",
   "execution_count": 18,
   "metadata": {},
   "outputs": [],
   "source": [
    "from gensim.models import KeyedVectors\n",
    "wv = KeyedVectors.load(\"node2vec.wordvectors\", mmap='r')"
   ]
  },
  {
   "cell_type": "code",
   "execution_count": 20,
   "metadata": {},
   "outputs": [
    {
     "name": "stdout",
     "output_type": "stream",
     "text": [
      "Accuracy: 0.8294091514882275\n",
      "F1 score: 0.8327161838379438\n",
      "0.9054955781536258\n"
     ]
    }
   ],
   "source": [
    "num_of_walks = 100\n",
    "walk_length = 30\n",
    "embedding_size = 256\n",
    "window_size = 10\n",
    "\n",
    "train_features = feature_extractor_walk(G0, train_samples, wv, embedding_size)\n",
    "test_features = feature_extractor_walk(G0, test_samples, wv, embedding_size)\n",
    "\n",
    "# --- Build the model and train it ---\n",
    "# Fill in the blanks\n",
    "clf = LogisticRegression()\n",
    "clf.fit(train_features, train_labels)\n",
    "\n",
    "train_preds = clf.predict_proba(train_features)[:, 1]\n",
    "test_preds = clf.predict_proba(test_features)[:, 1]\n",
    "labels_pred = clf.predict(test_features)\n",
    "\n",
    "print(f'Accuracy: {accuracy_score(test_labels, labels_pred)}')\n",
    "print(f'F1 score: {f1_score(test_labels, labels_pred)}')\n",
    "\n",
    "# --- Compute Area Under the Receiver Operating Characteristic Curve (ROC AUC) from predictions ---\n",
    "# Fill in the blanks\n",
    "fpr, tpr, _ = roc_curve(test_labels, test_preds)\n",
    "roc_auc = auc(fpr, tpr)\n",
    "print(roc_auc)"
   ]
  },
  {
   "cell_type": "markdown",
   "metadata": {},
   "source": [
    "## Feature extraction undirected graph"
   ]
  },
  {
   "cell_type": "code",
   "execution_count": 21,
   "metadata": {},
   "outputs": [],
   "source": [
    "def feature_extractor_undirected(graph, samples, deg_centrality):\n",
    "    \"\"\"\n",
    "    Creates a feature vector for each edge of the graph contained in samples \n",
    "    \"\"\"\n",
    "    feature_vector = []\n",
    "    number_nodes_out = 0\n",
    "\n",
    "    for edge in tqdm(samples):\n",
    "        source_node, target_node = edge[0], edge[1]\n",
    "\n",
    "        # Degree Centrality\n",
    "        if (source_node not in list(deg_centrality.keys())) or (target_node not in list(deg_centrality.keys())):\n",
    "            feature_vector.append(np.array([0, 0, 0, 0, 0, 0]))\n",
    "            number_nodes_out += 1\n",
    "\n",
    "        else:\n",
    "\n",
    "            source_degree_centrality = deg_centrality[source_node]\n",
    "            target_degree_centrality = deg_centrality[target_node]\n",
    "#             source_katz_cent = katz_cent[source_node]\n",
    "#             target_katz_cent = katz_cent[target_node]\n",
    "            \n",
    "            # # Betweeness centrality measure \n",
    "            #diff_bt = betweeness_centrality[target_node] - betweeness_centrality[source_node]\n",
    "\n",
    "            # Preferential Attachement \n",
    "            pref_attach = list(nx.preferential_attachment(graph, [(source_node, target_node)]))[0][2]\n",
    "\n",
    "            # AdamicAdar\n",
    "            aai = list(nx.adamic_adar_index(graph, [(source_node, target_node)]))[0][2]\n",
    "\n",
    "            # Jaccard\n",
    "            jacard_coeff = list(nx.jaccard_coefficient(graph, [(source_node, target_node)]))[0][2]\n",
    "            # Ressource allocation index\n",
    "            res_all = list(nx.resource_allocation_index(graph, [(source_node, target_node)]))[0][2]\n",
    "            \n",
    "            # Create edge feature vector with all metric computed above\n",
    "            feature_vector.append(np.array([source_degree_centrality, target_degree_centrality, pref_attach, aai, jacard_coeff, res_all]) ) \n",
    "    print(number_nodes_out)\n",
    "        \n",
    "    return np.array(feature_vector)"
   ]
  },
  {
   "cell_type": "code",
   "execution_count": 25,
   "metadata": {},
   "outputs": [
    {
     "name": "stdout",
     "output_type": "stream",
     "text": [
      "degree centrality\n",
      "done!\n"
     ]
    },
    {
     "name": "stderr",
     "output_type": "stream",
     "text": [
      "\n",
      "  0%|                                                                                        | 0/36022 [00:00<?, ?it/s]\n",
      "  1%|▊                                                                           | 405/36022 [00:00<00:08, 4018.65it/s]\n",
      "  2%|█▌                                                                          | 733/36022 [00:00<00:09, 3755.51it/s]\n",
      "  3%|██                                                                          | 996/36022 [00:00<00:10, 3319.69it/s]\n",
      "  4%|██▋                                                                        | 1283/36022 [00:00<00:10, 3162.73it/s]\n",
      "  4%|███▎                                                                       | 1611/36022 [00:00<00:10, 3190.48it/s]\n",
      "  5%|████                                                                       | 1933/36022 [00:00<00:10, 3192.34it/s]\n",
      "  6%|████▊                                                                      | 2297/36022 [00:00<00:10, 3307.79it/s]\n",
      "  7%|█████▌                                                                     | 2644/36022 [00:00<00:09, 3348.01it/s]\n",
      "  8%|██████▎                                                                    | 3005/36022 [00:00<00:09, 3415.43it/s]\n",
      "  9%|██████▉                                                                    | 3333/36022 [00:01<00:09, 3345.50it/s]\n",
      " 10%|███████▌                                                                   | 3659/36022 [00:01<00:09, 3252.42it/s]\n",
      " 11%|████████▎                                                                  | 3986/36022 [00:01<00:09, 3250.41it/s]\n",
      " 12%|████████▉                                                                  | 4307/36022 [00:01<00:09, 3202.54it/s]\n",
      " 13%|█████████▋                                                                 | 4640/36022 [00:01<00:09, 3232.92it/s]\n",
      " 14%|██████████▍                                                                | 5004/36022 [00:01<00:09, 3338.32it/s]\n",
      " 15%|███████████▏                                                               | 5352/36022 [00:01<00:09, 3372.21it/s]\n",
      " 16%|███████████▊                                                               | 5690/36022 [00:01<00:09, 3298.69it/s]\n",
      " 17%|████████████▌                                                              | 6023/36022 [00:01<00:09, 3300.73it/s]\n",
      " 18%|█████████████▎                                                             | 6367/36022 [00:01<00:08, 3332.54it/s]\n",
      " 19%|█████████████▉                                                             | 6705/36022 [00:02<00:08, 3338.03it/s]\n",
      " 20%|██████████████▋                                                            | 7040/36022 [00:02<00:08, 3337.39it/s]\n",
      " 21%|███████████████▍                                                           | 7389/36022 [00:02<00:08, 3378.83it/s]\n",
      " 21%|████████████████                                                           | 7728/36022 [00:02<00:08, 3355.21it/s]\n",
      " 22%|████████████████▊                                                          | 8064/36022 [00:02<00:08, 3271.27it/s]\n",
      " 23%|█████████████████▍                                                         | 8398/36022 [00:02<00:08, 3284.47it/s]\n",
      " 24%|██████████████████▏                                                        | 8727/36022 [00:02<00:08, 3230.82it/s]\n",
      " 25%|██████████████████▊                                                        | 9051/36022 [00:02<00:08, 3178.39it/s]\n",
      " 26%|███████████████████▌                                                       | 9370/36022 [00:02<00:08, 3155.99it/s]\n",
      " 27%|████████████████████▏                                                      | 9711/36022 [00:02<00:08, 3221.89it/s]\n",
      " 28%|████████████████████▌                                                     | 10039/36022 [00:03<00:08, 3231.81it/s]\n",
      " 29%|█████████████████████▎                                                    | 10363/36022 [00:03<00:07, 3227.47it/s]\n",
      " 30%|█████████████████████▉                                                    | 10702/36022 [00:03<00:07, 3265.59it/s]\n",
      " 31%|██████████████████████▋                                                   | 11029/36022 [00:03<00:07, 3245.58it/s]\n",
      " 32%|███████████████████████▎                                                  | 11354/36022 [00:03<00:07, 3206.74it/s]\n",
      " 32%|███████████████████████▉                                                  | 11675/36022 [00:03<00:07, 3180.39it/s]\n",
      " 33%|████████████████████████▋                                                 | 11994/36022 [00:03<00:07, 3111.15it/s]\n",
      " 34%|█████████████████████████▎                                                | 12306/36022 [00:03<00:07, 3097.99it/s]\n",
      " 35%|█████████████████████████▉                                                | 12618/36022 [00:03<00:07, 3099.86it/s]\n",
      " 36%|██████████████████████████▌                                               | 12936/36022 [00:03<00:07, 3116.40it/s]\n",
      " 37%|███████████████████████████▏                                              | 13248/36022 [00:04<00:07, 3038.51it/s]\n",
      " 38%|███████████████████████████▊                                              | 13553/36022 [00:04<00:07, 2991.09it/s]\n",
      " 38%|████████████████████████████▍                                             | 13868/36022 [00:04<00:07, 3030.88it/s]\n",
      " 39%|█████████████████████████████▏                                            | 14188/36022 [00:04<00:07, 3073.24it/s]\n",
      " 40%|█████████████████████████████▊                                            | 14496/36022 [00:04<00:07, 3068.51it/s]\n",
      " 41%|██████████████████████████████▍                                           | 14804/36022 [00:04<00:06, 3056.00it/s]\n",
      " 42%|███████████████████████████████                                           | 15110/36022 [00:04<00:09, 2307.19it/s]\n",
      " 43%|███████████████████████████████▌                                          | 15369/36022 [00:04<00:10, 2043.54it/s]\n",
      " 43%|████████████████████████████████▏                                         | 15644/36022 [00:05<00:09, 2209.79it/s]\n",
      " 44%|████████████████████████████████▊                                         | 15949/36022 [00:05<00:08, 2404.70it/s]\n",
      " 45%|█████████████████████████████████▎                                        | 16246/36022 [00:05<00:07, 2545.61it/s]\n",
      " 46%|█████████████████████████████████▉                                        | 16543/36022 [00:05<00:07, 2654.25it/s]\n",
      " 47%|██████████████████████████████████▌                                       | 16844/36022 [00:05<00:06, 2746.41it/s]\n",
      " 48%|███████████████████████████████████▏                                      | 17151/36022 [00:05<00:06, 2830.36it/s]\n",
      " 48%|███████████████████████████████████▊                                      | 17445/36022 [00:05<00:06, 2856.30it/s]\n",
      " 49%|████████████████████████████████████▍                                     | 17761/36022 [00:05<00:06, 2935.18it/s]\n",
      " 50%|█████████████████████████████████████                                     | 18068/36022 [00:05<00:06, 2967.76it/s]\n",
      " 51%|█████████████████████████████████████▊                                    | 18435/36022 [00:05<00:05, 3142.61it/s]\n",
      " 52%|██████████████████████████████████████▋                                   | 18811/36022 [00:06<00:05, 3299.13it/s]\n",
      " 53%|███████████████████████████████████████▍                                  | 19193/36022 [00:06<00:04, 3433.33it/s]\n",
      " 54%|████████████████████████████████████████▏                                 | 19576/36022 [00:06<00:04, 3535.77it/s]\n",
      " 55%|█████████████████████████████████████████                                 | 19959/36022 [00:06<00:04, 3612.13it/s]\n",
      " 56%|█████████████████████████████████████████▊                                | 20324/36022 [00:06<00:04, 3583.31it/s]\n",
      " 57%|██████████████████████████████████████████▌                               | 20697/36022 [00:06<00:04, 3618.83it/s]\n",
      " 59%|███████████████████████████████████████████▎                              | 21083/36022 [00:06<00:04, 3680.05it/s]\n",
      " 60%|████████████████████████████████████████████                              | 21453/36022 [00:06<00:03, 3667.25it/s]\n",
      " 61%|████████████████████████████████████████████▊                             | 21821/36022 [00:06<00:03, 3663.04it/s]\n",
      " 62%|█████████████████████████████████████████████▌                            | 22189/36022 [00:06<00:03, 3627.66it/s]\n",
      " 63%|██████████████████████████████████████████████▎                           | 22553/36022 [00:07<00:03, 3595.61it/s]\n",
      " 64%|███████████████████████████████████████████████                           | 22918/36022 [00:07<00:03, 3602.89it/s]\n",
      " 65%|███████████████████████████████████████████████▊                          | 23293/36022 [00:07<00:03, 3638.32it/s]\n",
      " 66%|████████████████████████████████████████████████▌                         | 23665/36022 [00:07<00:03, 3654.60it/s]\n",
      " 67%|█████████████████████████████████████████████████▍                        | 24048/36022 [00:07<00:03, 3697.46it/s]\n",
      " 68%|██████████████████████████████████████████████████▏                       | 24425/36022 [00:07<00:03, 3710.74it/s]\n",
      " 69%|██████████████████████████████████████████████████▉                       | 24797/36022 [00:07<00:03, 3640.50it/s]\n",
      " 70%|███████████████████████████████████████████████████▋                      | 25162/36022 [00:07<00:02, 3624.37it/s]\n",
      " 71%|████████████████████████████████████████████████████▍                     | 25525/36022 [00:07<00:02, 3586.00it/s]\n",
      " 72%|█████████████████████████████████████████████████████▏                    | 25910/36022 [00:08<00:02, 3653.66it/s]\n",
      " 73%|█████████████████████████████████████████████████████▉                    | 26285/36022 [00:08<00:02, 3674.62it/s]\n",
      " 74%|██████████████████████████████████████████████████████▊                   | 26653/36022 [00:08<00:02, 3630.18it/s]\n",
      " 75%|███████████████████████████████████████████████████████▌                  | 27017/36022 [00:08<00:02, 3582.50it/s]\n",
      " 76%|████████████████████████████████████████████████████████▎                 | 27390/36022 [00:08<00:02, 3617.82it/s]\n",
      " 77%|█████████████████████████████████████████████████████████                 | 27753/36022 [00:08<00:02, 3571.27it/s]\n",
      " 78%|█████████████████████████████████████████████████████████▋                | 28111/36022 [00:08<00:02, 3567.12it/s]\n",
      " 79%|██████████████████████████████████████████████████████████▌               | 28477/36022 [00:08<00:02, 3587.77it/s]\n",
      " 80%|███████████████████████████████████████████████████████████▏              | 28837/36022 [00:08<00:02, 3573.00it/s]\n",
      " 81%|███████████████████████████████████████████████████████████▉              | 29205/36022 [00:08<00:01, 3596.96it/s]\n",
      " 82%|████████████████████████████████████████████████████████████▋             | 29571/36022 [00:09<00:01, 3607.31it/s]\n",
      " 83%|█████████████████████████████████████████████████████████████▍            | 29932/36022 [00:09<00:01, 3584.97it/s]\n",
      " 84%|██████████████████████████████████████████████████████████████▏           | 30291/36022 [00:09<00:01, 3526.06it/s]\n",
      " 85%|██████████████████████████████████████████████████████████████▉           | 30666/36022 [00:09<00:01, 3584.62it/s]\n",
      " 86%|███████████████████████████████████████████████████████████████▋          | 31029/36022 [00:09<00:01, 3597.04it/s]\n",
      " 87%|████████████████████████████████████████████████████████████████▍         | 31390/36022 [00:09<00:01, 3582.57it/s]\n",
      " 88%|█████████████████████████████████████████████████████████████████▏        | 31749/36022 [00:09<00:01, 3576.95it/s]\n",
      " 89%|█████████████████████████████████████████████████████████████████▉        | 32107/36022 [00:09<00:01, 3548.88it/s]\n",
      " 90%|██████████████████████████████████████████████████████████████████▋       | 32463/36022 [00:09<00:01, 3544.26it/s]\n",
      " 91%|███████████████████████████████████████████████████████████████████▍      | 32820/36022 [00:09<00:00, 3548.66it/s]\n",
      " 92%|████████████████████████████████████████████████████████████████████▏     | 33177/36022 [00:10<00:00, 3547.77it/s]\n",
      " 93%|████████████████████████████████████████████████████████████████████▉     | 33546/36022 [00:10<00:00, 3588.72it/s]\n",
      " 94%|█████████████████████████████████████████████████████████████████████▋    | 33906/36022 [00:10<00:00, 3542.03it/s]\n",
      " 95%|██████████████████████████████████████████████████████████████████████▍   | 34261/36022 [00:10<00:00, 3526.13it/s]\n",
      " 96%|███████████████████████████████████████████████████████████████████████▏  | 34636/36022 [00:10<00:00, 3582.66it/s]\n",
      " 97%|███████████████████████████████████████████████████████████████████████▉  | 34995/36022 [00:10<00:00, 3494.21it/s]\n",
      " 98%|████████████████████████████████████████████████████████████████████████▋ | 35368/36022 [00:10<00:00, 3554.24it/s]\n",
      " 99%|█████████████████████████████████████████████████████████████████████████▍| 35725/36022 [00:10<00:00, 3530.25it/s]\n",
      "100%|██████████████████████████████████████████████████████████████████████████| 36022/36022 [00:10<00:00, 3321.29it/s]"
     ]
    },
    {
     "name": "stdout",
     "output_type": "stream",
     "text": [
      "0\n"
     ]
    },
    {
     "name": "stderr",
     "output_type": "stream",
     "text": [
      "\n",
      "  0%|                                                                                         | 0/9004 [00:00<?, ?it/s]\n",
      "  3%|██▌                                                                          | 296/9004 [00:00<00:02, 2937.64it/s]\n",
      "  7%|█████▏                                                                       | 613/9004 [00:00<00:02, 2996.91it/s]\n",
      " 10%|███████▉                                                                     | 922/9004 [00:00<00:02, 3017.74it/s]\n",
      " 14%|██████████▎                                                                 | 1221/9004 [00:00<00:02, 3001.21it/s]\n",
      " 17%|█████████████                                                               | 1543/9004 [00:00<00:02, 3061.50it/s]\n",
      " 21%|███████████████▌                                                            | 1850/9004 [00:00<00:02, 3061.38it/s]\n",
      " 24%|█████████████████▉                                                          | 2132/9004 [00:00<00:02, 2983.64it/s]\n",
      " 27%|████████████████████▌                                                       | 2438/9004 [00:00<00:02, 2999.68it/s]\n",
      " 30%|██████████████████████▉                                                     | 2722/9004 [00:00<00:02, 2934.13it/s]\n",
      " 34%|█████████████████████████▌                                                  | 3033/9004 [00:01<00:02, 2982.90it/s]\n",
      " 37%|████████████████████████████▍                                               | 3362/9004 [00:01<00:01, 3062.59it/s]\n",
      " 41%|██████████████████████████████▉                                             | 3666/9004 [00:01<00:01, 3049.06it/s]\n",
      " 44%|█████████████████████████████████▌                                          | 3971/9004 [00:01<00:01, 3046.54it/s]\n",
      " 47%|████████████████████████████████████                                        | 4274/9004 [00:01<00:01, 3035.17it/s]\n",
      " 51%|██████████████████████████████████████▋                                     | 4587/9004 [00:01<00:01, 3056.20it/s]\n",
      " 55%|█████████████████████████████████████████▊                                  | 4953/9004 [00:01<00:01, 3209.40it/s]\n",
      " 59%|████████████████████████████████████████████▊                               | 5310/9004 [00:01<00:01, 3302.97it/s]\n",
      " 63%|███████████████████████████████████████████████▊                            | 5670/9004 [00:01<00:00, 3379.61it/s]\n",
      " 67%|███████████████████████████████████████████████████                         | 6044/9004 [00:01<00:00, 3472.73it/s]\n",
      " 71%|█████████████████████████████████████████████████████▉                      | 6394/9004 [00:02<00:00, 3473.35it/s]\n",
      " 75%|█████████████████████████████████████████████████████████▏                  | 6770/9004 [00:02<00:00, 3547.19it/s]\n",
      " 79%|████████████████████████████████████████████████████████████▏               | 7129/9004 [00:02<00:00, 3559.19it/s]\n",
      " 83%|███████████████████████████████████████████████████████████████▏            | 7486/9004 [00:02<00:00, 3533.99it/s]\n",
      " 87%|██████████████████████████████████████████████████████████████████▏         | 7841/9004 [00:02<00:00, 3520.63it/s]\n",
      " 91%|█████████████████████████████████████████████████████████████████████▏      | 8194/9004 [00:02<00:00, 3479.15it/s]\n",
      " 95%|████████████████████████████████████████████████████████████████████████▏   | 8557/9004 [00:02<00:00, 3515.69it/s]\n",
      " 99%|███████████████████████████████████████████████████████████████████████████▎| 8924/9004 [00:02<00:00, 3553.48it/s]\n",
      "100%|████████████████████████████████████████████████████████████████████████████| 9004/9004 [00:02<00:00, 3271.56it/s]"
     ]
    },
    {
     "name": "stdout",
     "output_type": "stream",
     "text": [
      "0\n"
     ]
    }
   ],
   "source": [
    "G_undirected = G0.to_undirected()\n",
    "print(\"degree centrality\")\n",
    "deg_centrality = nx.degree_centrality(G_undirected)\n",
    "print(\"done!\")\n",
    "train_features_undirected = feature_extractor_undirected(G_undirected, train_samples, deg_centrality)\n",
    "test_features_undirected = feature_extractor_undirected(G_undirected, test_samples, deg_centrality)"
   ]
  },
  {
   "cell_type": "code",
   "execution_count": 26,
   "metadata": {},
   "outputs": [],
   "source": [
    "###Merge features\n",
    "train_features = np.concatenate([train_features,train_features_undirected],axis=1)\n",
    "test_features = np.concatenate([test_features,test_features_undirected],axis=1)"
   ]
  },
  {
   "cell_type": "markdown",
   "metadata": {
    "id": "9ggsEHPetjq5"
   },
   "source": [
    "# Adding additional information"
   ]
  },
  {
   "cell_type": "code",
   "execution_count": 7,
   "metadata": {
    "id": "Z_5S6UVItjq5",
    "outputId": "9b970b78-8efa-4ca1-db77-86b889c9c01c"
   },
   "outputs": [
    {
     "data": {
      "text/html": [
       "<div>\n",
       "<style scoped>\n",
       "    .dataframe tbody tr th:only-of-type {\n",
       "        vertical-align: middle;\n",
       "    }\n",
       "\n",
       "    .dataframe tbody tr th {\n",
       "        vertical-align: top;\n",
       "    }\n",
       "\n",
       "    .dataframe thead th {\n",
       "        text-align: right;\n",
       "    }\n",
       "</style>\n",
       "<table border=\"1\" class=\"dataframe\">\n",
       "  <thead>\n",
       "    <tr style=\"text-align: right;\">\n",
       "      <th></th>\n",
       "      <th>id</th>\n",
       "      <th>year</th>\n",
       "      <th>title</th>\n",
       "      <th>authors</th>\n",
       "      <th>journal</th>\n",
       "      <th>abstract</th>\n",
       "    </tr>\n",
       "  </thead>\n",
       "  <tbody>\n",
       "    <tr>\n",
       "      <th>0</th>\n",
       "      <td>1001</td>\n",
       "      <td>2000</td>\n",
       "      <td>compactification geometry and duality</td>\n",
       "      <td>Paul S. Aspinwall</td>\n",
       "      <td>NaN</td>\n",
       "      <td>these are notes based on lectures given at tas...</td>\n",
       "    </tr>\n",
       "    <tr>\n",
       "      <th>1</th>\n",
       "      <td>1002</td>\n",
       "      <td>2000</td>\n",
       "      <td>domain walls and massive gauged supergravity p...</td>\n",
       "      <td>M. Cvetic, H. Lu, C.N. Pope</td>\n",
       "      <td>Class.Quant.Grav.</td>\n",
       "      <td>we point out that massive gauged supergravity ...</td>\n",
       "    </tr>\n",
       "    <tr>\n",
       "      <th>2</th>\n",
       "      <td>1003</td>\n",
       "      <td>2000</td>\n",
       "      <td>comment on metric fluctuations in brane worlds</td>\n",
       "      <td>Y.S. Myung, Gungwon Kang</td>\n",
       "      <td>NaN</td>\n",
       "      <td>recently ivanov and volovich hep-th 9912242 cl...</td>\n",
       "    </tr>\n",
       "    <tr>\n",
       "      <th>3</th>\n",
       "      <td>1004</td>\n",
       "      <td>2000</td>\n",
       "      <td>moving mirrors and thermodynamic paradoxes</td>\n",
       "      <td>Adam D. Helfer</td>\n",
       "      <td>Phys.Rev.</td>\n",
       "      <td>quantum fields responding to moving mirrors ha...</td>\n",
       "    </tr>\n",
       "    <tr>\n",
       "      <th>4</th>\n",
       "      <td>1005</td>\n",
       "      <td>2000</td>\n",
       "      <td>bundles of chiral blocks and boundary conditio...</td>\n",
       "      <td>J. Fuchs, C. Schweigert</td>\n",
       "      <td>NaN</td>\n",
       "      <td>proceedings of lie iii clausthal july 1999 var...</td>\n",
       "    </tr>\n",
       "  </tbody>\n",
       "</table>\n",
       "</div>"
      ],
      "text/plain": [
       "     id  year                                              title  \\\n",
       "0  1001  2000              compactification geometry and duality   \n",
       "1  1002  2000  domain walls and massive gauged supergravity p...   \n",
       "2  1003  2000     comment on metric fluctuations in brane worlds   \n",
       "3  1004  2000         moving mirrors and thermodynamic paradoxes   \n",
       "4  1005  2000  bundles of chiral blocks and boundary conditio...   \n",
       "\n",
       "                       authors            journal  \\\n",
       "0            Paul S. Aspinwall                NaN   \n",
       "1  M. Cvetic, H. Lu, C.N. Pope  Class.Quant.Grav.   \n",
       "2     Y.S. Myung, Gungwon Kang                NaN   \n",
       "3               Adam D. Helfer          Phys.Rev.   \n",
       "4      J. Fuchs, C. Schweigert                NaN   \n",
       "\n",
       "                                            abstract  \n",
       "0  these are notes based on lectures given at tas...  \n",
       "1  we point out that massive gauged supergravity ...  \n",
       "2  recently ivanov and volovich hep-th 9912242 cl...  \n",
       "3  quantum fields responding to moving mirrors ha...  \n",
       "4  proceedings of lie iii clausthal july 1999 var...  "
      ]
     },
     "execution_count": 7,
     "metadata": {},
     "output_type": "execute_result"
    }
   ],
   "source": [
    "column_names = ['id', 'year', 'title', 'authors', 'journal', 'abstract']\n",
    "info = pd.read_csv('node_information.csv', sep=',', names=column_names)\n",
    "info.head()"
   ]
  },
  {
   "cell_type": "code",
   "execution_count": 16,
   "metadata": {
    "id": "7XuO08d_tjq5"
   },
   "outputs": [],
   "source": [
    "with open(\"node_information.csv\", \"r\") as f:\n",
    "    reader = csv.reader(f)\n",
    "    node_info  = list(reader)\n",
    "\n",
    "IDs = [element[0] for element in node_info]\n",
    "abstracts = [element[5] for element in node_info]"
   ]
  },
  {
   "cell_type": "code",
   "execution_count": 17,
   "metadata": {},
   "outputs": [],
   "source": [
    "abstracts_w = [element.lower().split() for element in abstracts]"
   ]
  },
  {
   "cell_type": "code",
   "execution_count": 13,
   "metadata": {},
   "outputs": [],
   "source": [
    "# Set values for various parameters\n",
    "num_features = 200    # Word vector dimensionality                      \n",
    "min_word_count = 40   # Minimum word count                        \n",
    "num_workers = 4       # Number of threads to run in parallel\n",
    "context = 10          # Context window size                                                                                    \n",
    "downsampling = 1e-3   # Downsample setting for frequent words\n",
    "\n",
    "model_embedding = word2vec.Word2Vec(abstracts_w, workers=num_workers, size=num_features, \n",
    "                                    min_count = min_word_count, window = context, sample = downsampling)"
   ]
  },
  {
   "cell_type": "code",
   "execution_count": 29,
   "metadata": {},
   "outputs": [],
   "source": [
    "def makeFeatureVec(words, model, num_features):\n",
    "    # Function to average all of the word vectors in a given\n",
    "    # paragraph\n",
    "    #\n",
    "    # Pre-initialize an empty numpy array (for speed)\n",
    "    featureVec = np.zeros((num_features,),dtype=\"float32\")\n",
    "    #\n",
    "    nwords = 0.\n",
    "    # \n",
    "    # Index2word is a list that contains the names of the words in \n",
    "    # the model's vocabulary. Convert it to a set, for speed \n",
    "    index2word_set = set(model.wv.index2word)\n",
    "    #\n",
    "    # Loop over each word in the review and, if it is in the model's\n",
    "    # vocaublary, add its feature vector to the total\n",
    "    for word in words:\n",
    "        if word in index2word_set: \n",
    "            nwords += 1.\n",
    "            featureVec += model[word]\n",
    "    # \n",
    "    # Divide the result by the number of words to get the average\n",
    "    featureVec = featureVec/nwords\n",
    "    return featureVec\n",
    "\n",
    "\n",
    "def getAvgFeatureVecs(reviews, model, num_features):\n",
    "    # Given a set of reviews (each one a list of words), calculate \n",
    "    # the average feature vector for each one and return a 2D numpy array \n",
    "    # \n",
    "    # Initialize a counter\n",
    "    \n",
    "    # \n",
    "    # Preallocate a 2D numpy array, for speed\n",
    "    reviewFeatureVecs = np.zeros((len(reviews),num_features),dtype=\"float32\")\n",
    "    # \n",
    "    # Loop through the reviews\n",
    "    for i,review in enumerate(reviews):\n",
    "        if i%1000. ==0.:\n",
    "            print(\"Review %d of %d\" % (i, len(reviews)))\n",
    "        reviewFeatureVecs[i] = makeFeatureVec(review, model, num_features)\n",
    "        \n",
    "       \n",
    "    return reviewFeatureVecs"
   ]
  },
  {
   "cell_type": "code",
   "execution_count": 18,
   "metadata": {},
   "outputs": [],
   "source": [
    "abstracts_stp =  [[word for word in element.split(\" \") if word.lower() not in stpwds] for element in abstracts ]"
   ]
  },
  {
   "cell_type": "code",
   "execution_count": 30,
   "metadata": {},
   "outputs": [
    {
     "name": "stdout",
     "output_type": "stream",
     "text": [
      "Review 0 of 27770\n"
     ]
    },
    {
     "name": "stderr",
     "output_type": "stream",
     "text": [
      "C:\\Users\\chene\\Anaconda3\\lib\\site-packages\\ipykernel_launcher.py:19: DeprecationWarning: Call to deprecated `__getitem__` (Method will be removed in 4.0.0, use self.wv.__getitem__() instead).\n"
     ]
    },
    {
     "name": "stdout",
     "output_type": "stream",
     "text": [
      "Review 1000 of 27770\n",
      "Review 2000 of 27770\n",
      "Review 3000 of 27770\n",
      "Review 4000 of 27770\n",
      "Review 5000 of 27770\n",
      "Review 6000 of 27770\n",
      "Review 7000 of 27770\n",
      "Review 8000 of 27770\n",
      "Review 9000 of 27770\n",
      "Review 10000 of 27770\n",
      "Review 11000 of 27770\n",
      "Review 12000 of 27770\n",
      "Review 13000 of 27770\n",
      "Review 14000 of 27770\n",
      "Review 15000 of 27770\n",
      "Review 16000 of 27770\n",
      "Review 17000 of 27770\n",
      "Review 18000 of 27770\n",
      "Review 19000 of 27770\n",
      "Review 20000 of 27770\n",
      "Review 21000 of 27770\n",
      "Review 22000 of 27770\n",
      "Review 23000 of 27770\n",
      "Review 24000 of 27770\n",
      "Review 25000 of 27770\n",
      "Review 26000 of 27770\n",
      "Review 27000 of 27770\n"
     ]
    }
   ],
   "source": [
    "model_embedding.init_sims(replace=True)\n",
    "DataVecs = getAvgFeatureVecs( abstracts_stp, model_embedding, num_features )"
   ]
  },
  {
   "cell_type": "code",
   "execution_count": 29,
   "metadata": {
    "id": "GpJ246nytjq5"
   },
   "outputs": [],
   "source": [
    "vect = TfidfVectorizer(stop_words=\"english\")\n",
    "abstract_vectorized = vect.fit_transform(info['abstract'])"
   ]
  },
  {
   "cell_type": "code",
   "execution_count": 31,
   "metadata": {},
   "outputs": [],
   "source": [
    "def isselfcite(source_auth, target_auth): \n",
    "    selfcite = 0\n",
    "    for sauth in source_auth: \n",
    "        if sauth in target_auth: \n",
    "            selfcite = 1\n",
    "            break \n",
    "    return selfcite\n",
    "\n",
    "def issamejournal(source_journal, target_journal): \n",
    "    \n",
    "    if source_journal == target_journal: \n",
    "        same_journal = 1\n",
    "    else:\n",
    "        same_journal = 0\n",
    "    return same_journal\n",
    "        \n",
    "        \n",
    "def cosine_similarity(s_1, s_2): \n",
    "    #remove stopwords \n",
    "    s_1 = np.reshape(s_1,(1,-1)  )\n",
    "    s_2 = np.reshape(s_2,(1,-1)  )\n",
    "    return cosine(s_1,s_2)"
   ]
  },
  {
   "cell_type": "code",
   "execution_count": 34,
   "metadata": {},
   "outputs": [],
   "source": [
    "def processing_info(sample, DataVecs):\n",
    "    overlap_title = []\n",
    "\n",
    "    # temporal distance between the papers\n",
    "    temp_diff = []\n",
    "\n",
    "    # number of common authors\n",
    "    comm_auth = []\n",
    "\n",
    "    #is self citation\n",
    "    self_cite = []\n",
    "\n",
    "    #is published in same journal \n",
    "    same_journal = []\n",
    "\n",
    "    #cosine  similarity \n",
    "    cosine_sim = []\n",
    "\n",
    "    counter = 0\n",
    "    for i in range(len(sample)):\n",
    "        source = sample[i][0]\n",
    "        target = sample[i][1]\n",
    "        \n",
    "        index_source = IDs.index(source)\n",
    "        index_target = IDs.index(target)\n",
    "\n",
    "        source_info = [element for element in node_info if element[0]==source][0]\n",
    "        target_info = [element for element in node_info if element[0]==target][0]\n",
    "\n",
    "        # convert to lowercase and tokenize\n",
    "        source_title = source_info[2].lower().split(\" \")\n",
    "        # remove stopwords\n",
    "        source_title = [token for token in source_title if token not in stpwds]\n",
    "        source_title = [stemmer.stem(token) for token in source_title]\n",
    "\n",
    "        target_title = target_info[2].lower().split(\" \")\n",
    "        target_title = [token for token in target_title if token not in stpwds]\n",
    "        target_title = [stemmer.stem(token) for token in target_title]\n",
    "\n",
    "        source_auth = source_info[3].split(\",\")\n",
    "        target_auth = target_info[3].split(\",\")\n",
    "\n",
    "        source_journal = source_info[4].lower()\n",
    "        target_journal = target_info[4].lower()\n",
    "\n",
    "        source_abstract = DataVecs[index_source]\n",
    "        target_abstract = DataVecs[index_target]\n",
    "\n",
    "\n",
    "        overlap_title.append(len(set(source_title).intersection(set(target_title))))\n",
    "        temp_diff.append(int(source_info[1]) - int(target_info[1]))\n",
    "        comm_auth.append(len(set(source_auth).intersection(set(target_auth))))\n",
    "        self_cite.append(isselfcite(source_auth,target_auth))\n",
    "        same_journal.append(issamejournal(source_journal, target_journal))\n",
    "        cosine_sim.append(cosine_similarity(source_abstract, target_abstract))\n",
    "\n",
    "        counter += 1\n",
    "        if counter % 1000 == True:\n",
    "            print(\"training examples processsed\", counter)\n",
    "            \n",
    "    return overlap_title, temp_diff, comm_auth, self_cite, same_journal, cosine_sim"
   ]
  },
  {
   "cell_type": "code",
   "execution_count": 30,
   "metadata": {
    "id": "mkMQnVAEtjq6"
   },
   "outputs": [],
   "source": [
    "def preprocessing_info(sample, abstract_vectorized):\n",
    "    # number of overlapping words in title\n",
    "    overlap_title = []\n",
    "\n",
    "    # temporal distance between the papers\n",
    "    temp_diff = []\n",
    "\n",
    "    # number of common authors\n",
    "    comm_auth = []\n",
    "\n",
    "    # Cosine sim between abstracts\n",
    "    cosine_sim = []\n",
    "\n",
    "    dense_matrix = abstract_vectorized.todense()\n",
    "\n",
    "    counter = 0\n",
    "    for i in range(len(sample)):\n",
    "        source = sample[i][0]\n",
    "        target = sample[i][1]\n",
    "        \n",
    "        index_source = IDs.index(source)\n",
    "        index_target = IDs.index(target)\n",
    "        \n",
    "        source_info = [element for element in node_info if element[0]==source][0]\n",
    "        target_info = [element for element in node_info if element[0]==target][0]\n",
    "        \n",
    "        # convert to lowercase and tokenize\n",
    "        source_title = source_info[2].lower().split(\" \")\n",
    "        # remove stopwords\n",
    "        source_title = [token for token in source_title if token not in stpwds]\n",
    "        source_title = [stemmer.stem(token) for token in source_title]\n",
    "        \n",
    "        target_title = target_info[2].lower().split(\" \")\n",
    "        target_title = [token for token in target_title if token not in stpwds]\n",
    "        target_title = [stemmer.stem(token) for token in target_title]\n",
    "        \n",
    "        source_auth = source_info[3].split(\",\")\n",
    "        target_auth = target_info[3].split(\",\")\n",
    "        \n",
    "        overlap_title.append(len(set(source_title).intersection(set(target_title))))\n",
    "        temp_diff.append(int(source_info[1]) - int(target_info[1]))\n",
    "        comm_auth.append(len(set(source_auth).intersection(set(target_auth))))\n",
    "\n",
    "        v1 = dense_matrix[index_source,:]\n",
    "        v2 = dense_matrix[index_target,:]\n",
    "\n",
    "        sim = cosine_similarity(v1, v2)\n",
    "        cosine_sim.append(sim[0][0])\n",
    "    \n",
    "        counter += 1\n",
    "        if counter % 1000 == True:\n",
    "            print(counter, \"training examples processsed\")\n",
    "\n",
    "    return overlap_title, temp_diff, comm_auth, cosine_sim"
   ]
  },
  {
   "cell_type": "code",
   "execution_count": 35,
   "metadata": {
    "id": "DCx1j_DMtjq6",
    "outputId": "f6ce2810-b996-4be0-8787-01ee4b51f61a"
   },
   "outputs": [
    {
     "ename": "NameError",
     "evalue": "name 'train_samples' is not defined",
     "output_type": "error",
     "traceback": [
      "\u001b[1;31m---------------------------------------------------------------------------\u001b[0m",
      "\u001b[1;31mNameError\u001b[0m                                 Traceback (most recent call last)",
      "\u001b[1;32m<ipython-input-35-a8441a976eb7>\u001b[0m in \u001b[0;36m<module>\u001b[1;34m\u001b[0m\n\u001b[1;32m----> 1\u001b[1;33m \u001b[0moverlap_title_train\u001b[0m\u001b[1;33m,\u001b[0m \u001b[0mtemp_diff_train\u001b[0m\u001b[1;33m,\u001b[0m \u001b[0mcomm_auth_train\u001b[0m\u001b[1;33m,\u001b[0m \u001b[0mcosine_sim_train\u001b[0m \u001b[1;33m=\u001b[0m \u001b[0mprocessing_info\u001b[0m\u001b[1;33m(\u001b[0m\u001b[0mtrain_samples\u001b[0m\u001b[1;33m,\u001b[0m \u001b[0mDataVecs\u001b[0m\u001b[1;33m)\u001b[0m\u001b[1;33m\u001b[0m\u001b[1;33m\u001b[0m\u001b[0m\n\u001b[0m",
      "\u001b[1;31mNameError\u001b[0m: name 'train_samples' is not defined"
     ]
    }
   ],
   "source": [
    "overlap_title_train, temp_diff_train, comm_auth_train, cosine_sim_train = processing_info(train_samples, DataVecs)"
   ]
  },
  {
   "cell_type": "code",
   "execution_count": 32,
   "metadata": {
    "id": "jOT8Qyx6tjq6",
    "outputId": "63eec709-edcb-4a33-94d2-18b00498db8c"
   },
   "outputs": [
    {
     "name": "stdout",
     "output_type": "stream",
     "text": [
      "1 training examples processsed\n",
      "1001 training examples processsed\n",
      "2001 training examples processsed\n",
      "3001 training examples processsed\n",
      "4001 training examples processsed\n",
      "5001 training examples processsed\n",
      "6001 training examples processsed\n",
      "7001 training examples processsed\n",
      "8001 training examples processsed\n",
      "9001 training examples processsed\n"
     ]
    }
   ],
   "source": [
    "overlap_title_test, temp_diff_test, comm_auth_test, cosine_sim_test = preprocessing_info(test_samples, abstract_vectorized)"
   ]
  },
  {
   "cell_type": "code",
   "execution_count": 33,
   "metadata": {
    "id": "CATVmyX-tjq6"
   },
   "outputs": [],
   "source": [
    "def get_training_features(overlap_title, temp_diff, comm_auth, sim):\n",
    "    training_features = np.array([overlap_title, temp_diff, comm_auth, sim]).T\n",
    "    #training_features = preprocessing.scale(training_features)\n",
    "    df = pd.DataFrame(training_features, columns=['overl_title', 'temp_diff', 'comm_author', 'sim'])\n",
    "    return training_features, df"
   ]
  },
  {
   "cell_type": "code",
   "execution_count": 34,
   "metadata": {
    "id": "uXJuIDI0tjq6"
   },
   "outputs": [],
   "source": [
    "training_add_feat = get_training_features(overlap_title_train, temp_diff_train, comm_auth_train, cosine_sim_train)[1]\n",
    "testing_add_feat = get_training_features(overlap_title_test, temp_diff_test, comm_auth_test, cosine_sim_test)[1]"
   ]
  },
  {
   "cell_type": "code",
   "execution_count": 35,
   "metadata": {
    "id": "cbozE9ddtjq6"
   },
   "outputs": [],
   "source": [
    "all_train_feat = np.concatenate([train_features, training_add_feat.to_numpy()], axis=1)\n",
    "all_test_feat = np.concatenate([test_features, testing_add_feat.to_numpy()], axis=1)"
   ]
  },
  {
   "cell_type": "code",
   "execution_count": 36,
   "metadata": {},
   "outputs": [],
   "source": [
    "def prediction(train_samples, test_samples, train_labels, test_labels):\n",
    "    \n",
    "    # --- Build the model and train it ---\n",
    "    # Fill in the blanks\n",
    "    clf = svm.LinearSVC(max_iter=50000)\n",
    "    clf.fit(train_samples, train_labels)\n",
    "\n",
    "    train_preds = clf.decision_function(train_samples)\n",
    "    test_preds = clf.decision_function(test_samples)\n",
    "    \n",
    "    labels_pred = clf.predict(test_samples)\n",
    "\n",
    "    # --- Compute Area Under the Receiver Operating Characteristic Curve (ROC AUC) from predictions ---\n",
    "    # Fill in the blanks\n",
    "    fpr, tpr, _ = roc_curve(test_labels, test_preds)\n",
    "    roc_auc = auc(fpr, tpr)\n",
    "    \n",
    "    print(f'Accuracy: {accuracy_score(test_labels, labels_pred)}')\n",
    "    print(f'F1 score: {f1_score(test_labels, labels_pred)}')\n",
    "    \n",
    "    plt.figure(figsize=(6,6))\n",
    "    plt.plot(fpr, tpr, color='darkred', label='ROC curve (area = %0.3f)' % roc_auc)\n",
    "    plt.plot([0, 1], [0, 1], color='lightgray', linestyle='--')\n",
    "    plt.xlim([0.0, 1.0])\n",
    "    plt.ylim([0.0, 1.05])\n",
    "    plt.xlabel('False Positive Rate')\n",
    "    plt.ylabel('True Positive Rate')\n",
    "    plt.title('Receiver Operating Characteristic Curve')\n",
    "    plt.legend(loc=\"lower right\")\n",
    "    plt.show()\n",
    "    \n",
    "    return roc_auc"
   ]
  },
  {
   "cell_type": "code",
   "execution_count": 37,
   "metadata": {
    "id": "s1WXtRkEtjq7",
    "outputId": "345125e3-93e1-46be-ed71-086f97215e87"
   },
   "outputs": [
    {
     "name": "stderr",
     "output_type": "stream",
     "text": [
      "C:\\Users\\chene\\Anaconda3\\lib\\site-packages\\sklearn\\svm\\_base.py:977: ConvergenceWarning: Liblinear failed to converge, increase the number of iterations.\n",
      "  \"the number of iterations.\", ConvergenceWarning)\n"
     ]
    },
    {
     "name": "stdout",
     "output_type": "stream",
     "text": [
      "Accuracy: 0.9093736117281208\n",
      "F1 score: 0.9053803339517625\n"
     ]
    },
    {
     "data": {
      "image/png": "[encoded data removed]",
      "text/plain": [
       "<Figure size 432x432 with 1 Axes>"
      ]
     },
     "metadata": {
      "needs_background": "light"
     },
     "output_type": "display_data"
    },
    {
     "data": {
      "text/plain": [
       "0.9732795099112868"
      ]
     },
     "execution_count": 37,
     "metadata": {},
     "output_type": "execute_result"
    }
   ],
   "source": [
    "prediction(all_train_feat, all_test_feat, train_labels, test_labels)"
   ]
  },
  {
   "cell_type": "markdown",
   "metadata": {
    "id": "cU5TYtkztjq7"
   },
   "source": [
    "# Getting the features of the test set"
   ]
  },
  {
   "cell_type": "code",
   "execution_count": 38,
   "metadata": {
    "id": "8qefGIA7tjq7"
   },
   "outputs": [],
   "source": [
    "with open(\"testing_set.txt\", \"r\") as f:\n",
    "    reader = csv.reader(f)\n",
    "    testing_set  = list(reader)\n",
    "\n",
    "testing_set = [element[0].split(\" \") for element in testing_set]"
   ]
  },
  {
   "cell_type": "code",
   "execution_count": 57,
   "metadata": {
    "id": "9c9D3nWAtjq7",
    "outputId": "b4d82f38-fe32-4cc9-c6d5-3bf8f15f2c41"
   },
   "outputs": [
    {
     "name": "stdout",
     "output_type": "stream",
     "text": [
      "1 testing examples processsed\n",
      "1001 testing examples processsed\n",
      "2001 testing examples processsed\n",
      "3001 testing examples processsed\n",
      "4001 testing examples processsed\n",
      "5001 testing examples processsed\n",
      "6001 testing examples processsed\n",
      "7001 testing examples processsed\n",
      "8001 testing examples processsed\n",
      "9001 testing examples processsed\n",
      "10001 testing examples processsed\n",
      "11001 testing examples processsed\n",
      "12001 testing examples processsed\n",
      "13001 testing examples processsed\n",
      "14001 testing examples processsed\n",
      "15001 testing examples processsed\n",
      "16001 testing examples processsed\n",
      "17001 testing examples processsed\n",
      "18001 testing examples processsed\n",
      "19001 testing examples processsed\n",
      "20001 testing examples processsed\n",
      "21001 testing examples processsed\n",
      "22001 testing examples processsed\n",
      "23001 testing examples processsed\n",
      "24001 testing examples processsed\n",
      "25001 testing examples processsed\n",
      "26001 testing examples processsed\n",
      "27001 testing examples processsed\n",
      "28001 testing examples processsed\n",
      "29001 testing examples processsed\n",
      "30001 testing examples processsed\n",
      "31001 testing examples processsed\n",
      "32001 testing examples processsed\n"
     ]
    }
   ],
   "source": [
    "overlap_title_test = []\n",
    "temp_diff_test = []\n",
    "comm_auth_test = []\n",
    "cosine_sim_test = []\n",
    "dense_matrix = abstract_vectorized.todense()\n",
    "   \n",
    "counter = 0\n",
    "for i in range(len(testing_set)):\n",
    "\n",
    "    source = testing_set[i][0]\n",
    "    target = testing_set[i][1]\n",
    "    \n",
    "    index_source = IDs.index(source)\n",
    "    index_target = IDs.index(target)\n",
    "    \n",
    "    source_info = [element for element in node_info if element[0]==source][0]\n",
    "    target_info = [element for element in node_info if element[0]==target][0]\n",
    "    \n",
    "    source_title = source_info[2].lower().split(\" \")\n",
    "    source_title = [token for token in source_title if token not in stpwds]\n",
    "    source_title = [stemmer.stem(token) for token in source_title]\n",
    "    \n",
    "    target_title = target_info[2].lower().split(\" \")\n",
    "    target_title = [token for token in target_title if token not in stpwds]\n",
    "    target_title = [stemmer.stem(token) for token in target_title]\n",
    "    \n",
    "    source_auth = source_info[3].split(\",\")\n",
    "    target_auth = target_info[3].split(\",\")\n",
    "    \n",
    "    overlap_title_test.append(len(set(source_title).intersection(set(target_title))))\n",
    "    temp_diff_test.append(int(source_info[1]) - int(target_info[1]))\n",
    "    comm_auth_test.append(len(set(source_auth).intersection(set(target_auth))))\n",
    "\n",
    "    v1 = dense_matrix[index_source,:]\n",
    "    v2 = dense_matrix[index_target,:]\n",
    "\n",
    "    sim = cosine_similarity(v1, v2)\n",
    "    cosine_sim_test.append(sim[0][0])\n",
    "   \n",
    "    counter += 1\n",
    "    if counter % 1000 == True:\n",
    "        print(counter, \"testing examples processsed\")"
   ]
  },
  {
   "cell_type": "code",
   "execution_count": 58,
   "metadata": {
    "id": "8OmhI74Atjq7",
    "tags": []
   },
   "outputs": [],
   "source": [
    "testing_features = np.array([overlap_title_test,temp_diff_test,comm_auth_test, cosine_sim_test]).T\n",
    "testing_features = preprocessing.scale(testing_features)"
   ]
  },
  {
   "cell_type": "code",
   "execution_count": 59,
   "metadata": {
    "id": "Z5yTxPUitjq8"
   },
   "outputs": [],
   "source": [
    "test_feat = pd.DataFrame(testing_features, columns=['overl_title', 'temp_diff', 'comm_author', 'sim'])"
   ]
  },
  {
   "cell_type": "code",
   "execution_count": 60,
   "metadata": {},
   "outputs": [],
   "source": [
    "test_feat = pd.read_csv('test_text_feat.csv').to_numpy()[:,1:]"
   ]
  },
  {
   "cell_type": "code",
   "execution_count": 40,
   "metadata": {},
   "outputs": [
    {
     "name": "stderr",
     "output_type": "stream",
     "text": [
      "\n",
      "  0%|                                                                                        | 0/32648 [00:00<?, ?it/s]\n",
      "  2%|█▏                                                                          | 507/32648 [00:00<00:06, 5044.32it/s]\n",
      "  4%|██▊                                                                        | 1198/32648 [00:00<00:05, 5485.44it/s]\n",
      "  6%|████▎                                                                      | 1902/32648 [00:00<00:05, 5867.72it/s]\n",
      "  8%|█████▉                                                                     | 2609/32648 [00:00<00:04, 6171.72it/s]\n",
      " 10%|███████▎                                                                   | 3197/32648 [00:00<00:04, 6072.55it/s]\n",
      " 12%|████████▉                                                                  | 3900/32648 [00:00<00:04, 6318.73it/s]\n",
      " 14%|██████████▌                                                                | 4592/32648 [00:00<00:04, 6474.57it/s]\n",
      " 16%|████████████                                                               | 5247/32648 [00:00<00:04, 6482.89it/s]\n",
      " 18%|█████████████▍                                                             | 5872/32648 [00:00<00:04, 6205.55it/s]\n",
      " 20%|██████████████▉                                                            | 6479/32648 [00:01<00:04, 6105.71it/s]\n",
      " 22%|████████████████▍                                                          | 7160/32648 [00:01<00:04, 6288.44it/s]\n",
      " 24%|█████████████████▉                                                         | 7815/32648 [00:01<00:03, 6354.07it/s]\n",
      " 26%|███████████████████▌                                                       | 8489/32648 [00:01<00:03, 6451.95it/s]\n",
      " 28%|█████████████████████                                                      | 9175/32648 [00:01<00:03, 6554.39it/s]\n",
      " 30%|██████████████████████▋                                                    | 9875/32648 [00:01<00:03, 6669.10it/s]\n",
      " 32%|███████████████████████▉                                                  | 10542/32648 [00:01<00:03, 6664.51it/s]\n",
      " 34%|█████████████████████████▍                                                | 11209/32648 [00:01<00:03, 6592.57it/s]\n",
      " 36%|███████████████████████████                                               | 11913/32648 [00:01<00:03, 6706.71it/s]\n",
      " 39%|████████████████████████████▌                                             | 12629/32648 [00:01<00:02, 6817.17it/s]\n",
      " 41%|██████████████████████████████▏                                           | 13312/32648 [00:02<00:02, 6488.03it/s]\n",
      " 43%|███████████████████████████████▋                                          | 13965/32648 [00:02<00:03, 6122.69it/s]\n",
      " 45%|█████████████████████████████████                                         | 14585/32648 [00:02<00:02, 6077.81it/s]\n",
      " 47%|██████████████████████████████████▍                                       | 15220/32648 [00:02<00:02, 6148.09it/s]\n",
      " 49%|███████████████████████████████████▉                                      | 15866/32648 [00:02<00:02, 6225.21it/s]\n",
      " 51%|█████████████████████████████████████▍                                    | 16492/32648 [00:02<00:02, 6204.16it/s]\n",
      " 53%|██████████████████████████████████████▉                                   | 17187/32648 [00:02<00:02, 6397.15it/s]\n",
      " 55%|████████████████████████████████████████▍                                 | 17847/32648 [00:02<00:02, 6443.33it/s]\n",
      " 57%|█████████████████████████████████████████▉                                | 18494/32648 [00:02<00:02, 6407.77it/s]\n",
      " 59%|███████████████████████████████████████████▍                              | 19150/32648 [00:02<00:02, 6436.36it/s]\n",
      " 61%|████████████████████████████████████████████▊                             | 19795/32648 [00:03<00:02, 6407.35it/s]\n",
      " 63%|██████████████████████████████████████████████▎                           | 20437/32648 [00:03<00:01, 6362.34it/s]\n",
      " 65%|███████████████████████████████████████████████▊                          | 21074/32648 [00:03<00:01, 6302.25it/s]\n",
      " 66%|█████████████████████████████████████████████████▏                        | 21705/32648 [00:03<00:01, 6133.72it/s]\n",
      " 68%|██████████████████████████████████████████████████▌                       | 22320/32648 [00:03<00:01, 5999.73it/s]\n",
      " 70%|███████████████████████████████████████████████████▉                      | 22922/32648 [00:03<00:01, 5937.09it/s]\n",
      " 72%|█████████████████████████████████████████████████████▎                    | 23517/32648 [00:03<00:01, 5588.04it/s]\n",
      " 74%|██████████████████████████████████████████████████████▋                   | 24149/32648 [00:03<00:01, 5775.95it/s]\n",
      " 76%|████████████████████████████████████████████████████████▏                 | 24776/32648 [00:03<00:01, 5903.35it/s]\n",
      " 78%|█████████████████████████████████████████████████████████▋                | 25445/32648 [00:04<00:01, 6106.94it/s]\n",
      " 80%|███████████████████████████████████████████████████████████▏              | 26098/32648 [00:04<00:01, 6215.02it/s]\n",
      " 82%|████████████████████████████████████████████████████████████▌             | 26724/32648 [00:04<00:00, 6088.58it/s]\n",
      " 84%|█████████████████████████████████████████████████████████████▉            | 27337/32648 [00:04<00:00, 5440.95it/s]\n",
      " 85%|███████████████████████████████████████████████████████████████▏          | 27897/32648 [00:04<00:00, 5047.71it/s]\n",
      " 87%|████████████████████████████████████████████████████████████████▍         | 28419/32648 [00:04<00:00, 4943.16it/s]\n",
      " 89%|█████████████████████████████████████████████████████████████████▊        | 29026/32648 [00:04<00:00, 5224.53it/s]\n",
      " 91%|███████████████████████████████████████████████████████████████████       | 29562/32648 [00:04<00:00, 5046.29it/s]\n",
      " 92%|████████████████████████████████████████████████████████████████████▍     | 30195/32648 [00:04<00:00, 5363.21it/s]\n",
      " 95%|█████████████████████████████████████████████████████████████████████▉    | 30876/32648 [00:05<00:00, 5717.75it/s]\n",
      " 96%|███████████████████████████████████████████████████████████████████████▎  | 31476/32648 [00:05<00:00, 5786.72it/s]\n",
      " 98%|████████████████████████████████████████████████████████████████████████▋ | 32078/32648 [00:05<00:00, 5842.95it/s]\n",
      "100%|██████████████████████████████████████████████████████████████████████████| 32648/32648 [00:05<00:00, 6121.15it/s]"
     ]
    },
    {
     "name": "stdout",
     "output_type": "stream",
     "text": [
      "30242\n"
     ]
    }
   ],
   "source": [
    "test_graph_undirected = feature_extractor_undirected(G_undirected, testing_set, deg_centrality)"
   ]
  },
  {
   "cell_type": "code",
   "execution_count": 42,
   "metadata": {
    "id": "A8kKAycttjq8"
   },
   "outputs": [],
   "source": [
    "test_graph_feat = feature_extractor_walk(G0, testing_set, wv, embedding_size)"
   ]
  },
  {
   "cell_type": "code",
   "execution_count": 43,
   "metadata": {},
   "outputs": [],
   "source": [
    "test_graph_feat = np.concatenate([test_graph_feat,test_graph_undirected],axis=1)"
   ]
  },
  {
   "cell_type": "code",
   "execution_count": 62,
   "metadata": {
    "id": "hHKP7pIitjq8"
   },
   "outputs": [],
   "source": [
    "total_test_feat = np.concatenate([test_graph_feat, test_feat], axis=1)"
   ]
  },
  {
   "cell_type": "code",
   "execution_count": 63,
   "metadata": {},
   "outputs": [
    {
     "data": {
      "text/plain": [
       "(32648, 266)"
      ]
     },
     "execution_count": 63,
     "metadata": {},
     "output_type": "execute_result"
    }
   ],
   "source": [
    "total_test_feat.shape"
   ]
  },
  {
   "cell_type": "code",
   "execution_count": 50,
   "metadata": {},
   "outputs": [
    {
     "data": {
      "text/plain": [
       "(36022, 266)"
      ]
     },
     "execution_count": 50,
     "metadata": {},
     "output_type": "execute_result"
    }
   ],
   "source": [
    "all_train_feat.shape"
   ]
  },
  {
   "cell_type": "code",
   "execution_count": 46,
   "metadata": {
    "id": "ibIvrbN8tjq8",
    "outputId": "c10127b3-6c0f-4b58-c071-2d62f6defff1"
   },
   "outputs": [
    {
     "name": "stderr",
     "output_type": "stream",
     "text": [
      "C:\\Users\\chene\\Anaconda3\\lib\\site-packages\\sklearn\\svm\\_base.py:977: ConvergenceWarning: Liblinear failed to converge, increase the number of iterations.\n",
      "  \"the number of iterations.\", ConvergenceWarning)\n"
     ]
    },
    {
     "data": {
      "text/plain": [
       "LinearSVC()"
      ]
     },
     "execution_count": 46,
     "metadata": {},
     "output_type": "execute_result"
    }
   ],
   "source": [
    "# initialize basic SVM\n",
    "classifier = svm.LinearSVC()\n",
    "# train\n",
    "classifier.fit(all_train_feat, train_labels)"
   ]
  },
  {
   "cell_type": "code",
   "execution_count": 64,
   "metadata": {
    "id": "i4MROL0ntjq8"
   },
   "outputs": [],
   "source": [
    "predictions_SVM = list(classifier.predict(total_test_feat))\n",
    "\n",
    "predictions_SVM = list(zip(range(len(testing_set)), predictions_SVM))"
   ]
  },
  {
   "cell_type": "code",
   "execution_count": 109,
   "metadata": {
    "id": "IDCQJStbtjq9"
   },
   "outputs": [],
   "source": [
    "with open(\"test_strongly_connected.csv\",\"w\", newline='') as pred1:\n",
    "    csv_out = csv.writer(pred1)\n",
    "    for row in predictions_SVM:\n",
    "        csv_out.writerow(row)\n",
    "        \n",
    "        "
   ]
  },
  {
   "cell_type": "code",
   "execution_count": 67,
   "metadata": {},
   "outputs": [],
   "source": [
    "prediction_svm = pd.DataFrame(predictions_SVM,columns=['id','category']) "
   ]
  },
  {
   "cell_type": "code",
   "execution_count": 68,
   "metadata": {},
   "outputs": [],
   "source": [
    "prediction_svm.to_csv('pred_node_embedding_undirected.csv',index=False)"
   ]
  },
  {
   "cell_type": "code",
   "execution_count": null,
   "metadata": {},
   "outputs": [],
   "source": []
  }
 ],
 "metadata": {
  "kernelspec": {
   "display_name": "Python 3",
   "language": "python",
   "name": "python3"
  },
  "language_info": {
   "codemirror_mode": {
    "name": "ipython",
    "version": 3
   },
   "file_extension": ".py",
   "mimetype": "text/x-python",
   "name": "python",
   "nbconvert_exporter": "python",
   "pygments_lexer": "ipython3",
   "version": "3.7.3"
  }
 },
 "nbformat": 4,
 "nbformat_minor": 4
}
