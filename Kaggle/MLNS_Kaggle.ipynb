{
 "cells": [
  {
   "cell_type": "code",
   "execution_count": 1,
   "metadata": {
    "id": "2AkvKJz6i2Mp"
   },
   "outputs": [],
   "source": [
    "import os\n",
    "from tqdm import tqdm_notebook as tqdm\n",
    "###\n",
    "import numpy as np\n",
    "import matplotlib.pyplot as plt\n",
    "import pandas as pd\n",
    "import csv\n",
    "from scipy.sparse import *\n",
    "import nltk\n",
    "import random\n",
    "###\n",
    "import networkx as nx\n",
    "from node2vec import Node2Vec\n",
    "from gensim.models import word2vec, KeyedVectors \n",
    "###\n",
    "from sklearn.preprocessing import MinMaxScaler\n",
    "from sklearn.feature_extraction.text import TfidfVectorizer\n",
    "from sklearn.linear_model import LogisticRegression\n",
    "from sklearn import svm\n",
    "from sklearn.ensemble import RandomForestClassifier, GradientBoostingClassifier\n",
    "from sklearn.metrics.pairwise import linear_kernel\n",
    "from sklearn.metrics.pairwise import cosine_similarity\n",
    "from sklearn.metrics import accuracy_score, f1_score, roc_auc_score, roc_curve, auc\n",
    "###\n",
    "import xgboost as xgb\n",
    "###\n",
    "import torch\n",
    "import torch.nn as nn\n",
    "\n",
    "random.seed(10)\n",
    "device = torch.device('cpu')"
   ]
  },
  {
   "cell_type": "markdown",
   "metadata": {
    "id": "1D10irbikIye"
   },
   "source": [
    "## Data processing"
   ]
  },
  {
   "cell_type": "code",
   "execution_count": 2,
   "metadata": {
    "colab": {
     "base_uri": "https://localhost:8080/"
    },
    "id": "_mrGMBBIkK3G",
    "outputId": "85311eb1-561e-4f9f-ef0c-dfb132bcaf31"
   },
   "outputs": [
    {
     "name": "stderr",
     "output_type": "stream",
     "text": [
      "[nltk_data] Downloading package punkt to\n",
      "[nltk_data]     C:\\Users\\chene\\AppData\\Roaming\\nltk_data...\n",
      "[nltk_data]   Package punkt is already up-to-date!\n",
      "[nltk_data] Downloading package stopwords to\n",
      "[nltk_data]     C:\\Users\\chene\\AppData\\Roaming\\nltk_data...\n",
      "[nltk_data]   Package stopwords is already up-to-date!\n"
     ]
    }
   ],
   "source": [
    "nltk.download('punkt') # for tokenization\n",
    "nltk.download('stopwords')\n",
    "stpwds = set(nltk.corpus.stopwords.words(\"english\"))\n",
    "stemmer = nltk.stem.PorterStemmer()"
   ]
  },
  {
   "cell_type": "code",
   "execution_count": 3,
   "metadata": {
    "id": "p7a1UyD4kNFi"
   },
   "outputs": [],
   "source": [
    "def compute_network_characteristics(graph):\n",
    "    prop = {}\n",
    "    prop['N'] =  graph.number_of_nodes() # number of nodes\n",
    "    prop['M'] = graph.number_of_edges() # number of edges\n",
    "    degrees = [degree for node, degree in graph.degree()] # degree list\n",
    "    prop['min_degree'] =  np.min(degrees) # minimum degree\n",
    "    prop['max_degree'] =  np.max(degrees) # maximum degree\n",
    "    prop['mean_degree'] = np.mean(degrees) # mean of node degrees\n",
    "    prop['median_degree'] = np.median(degrees) # median of node degrees\n",
    "    prop['density'] =  nx.density(graph) # density of the graph\n",
    "    return prop"
   ]
  },
  {
   "cell_type": "markdown",
   "metadata": {
    "id": "p_v7fcnFkXOT"
   },
   "source": [
    "### Turning the training data into a graph"
   ]
  },
  {
   "cell_type": "code",
   "execution_count": 4,
   "metadata": {
    "id": "eM9ogYuKkWu6"
   },
   "outputs": [],
   "source": [
    "def get_training_graph(csv_file, column_names=['source', 'target', 'connected']):\n",
    "\n",
    "    # Pandas dataframe\n",
    "    df = pd.read_csv(csv_file, sep=' ', names=column_names)\n",
    "    edges = df.loc[df['connected'] == 1]\n",
    "\n",
    "    # Number of edges\n",
    "    print(f'There are {len(edges)} edges and {len(df) - len(edges)} non edges')\n",
    "\n",
    "    # networkx graph\n",
    "    Graphtype = nx.DiGraph()\n",
    "    G = nx.from_pandas_edgelist(edges, create_using=Graphtype)\n",
    "    \n",
    "    return G"
   ]
  },
  {
   "cell_type": "code",
   "execution_count": 5,
   "metadata": {
    "colab": {
     "base_uri": "https://localhost:8080/"
    },
    "id": "GI_-8pWOkbHH",
    "outputId": "80176c64-4b25-459f-d5e5-e35ef6dfa903"
   },
   "outputs": [
    {
     "name": "stdout",
     "output_type": "stream",
     "text": [
      "There are 335130 edges and 280382 non edges\n"
     ]
    },
    {
     "data": {
      "text/plain": [
       "{'N': 27684,\n",
       " 'M': 335130,\n",
       " 'min_degree': 1,\n",
       " 'max_degree': 2346,\n",
       " 'mean_degree': 24.211096662332032,\n",
       " 'median_degree': 14.0,\n",
       " 'density': 0.0004372917794735403}"
      ]
     },
     "execution_count": 5,
     "metadata": {},
     "output_type": "execute_result"
    }
   ],
   "source": [
    "training_graph = get_training_graph('training_set.txt')\n",
    "compute_network_characteristics(graph=training_graph)"
   ]
  },
  {
   "cell_type": "code",
   "execution_count": 6,
   "metadata": {
    "id": "egjaY0XMkq1F"
   },
   "outputs": [],
   "source": [
    "def smaller_graph(training_set, ratio = 0.5):\n",
    "    size_reduced = int((len(training_set)*ratio))\n",
    "    index_mask =  random.sample(range(len(training_set)), k= size_reduced)\n",
    "    training_set_reduced = [training_set[i] for i in index_mask]\n",
    "\n",
    "    df = pd.DataFrame(training_set_reduced, columns=['source', 'target', 'connected'])\n",
    "    edges = df.loc[df['connected'] == '1']\n",
    "\n",
    "    # Number of edges\n",
    "    print(f'There are {len(edges)} edges and {len(df) - len(edges)} non edges')\n",
    "\n",
    "    # networkx graph !!!!!!! The graph is directed\n",
    "    Graphtype = nx.DiGraph()\n",
    "    G = nx.from_pandas_edgelist(edges, create_using=Graphtype)\n",
    "\n",
    "    # Take the largest weakly conected component\n",
    "    nodes = max(nx.strongly_connected_components(G), key=len) \n",
    "    G0 = G.subgraph(nodes)\n",
    "\n",
    "    weak_conn = nx.is_weakly_connected(G0)\n",
    "    print('The graph is weakly connected: ',weak_conn)\n",
    "    return G,G0"
   ]
  },
  {
   "cell_type": "code",
   "execution_count": 7,
   "metadata": {
    "colab": {
     "base_uri": "https://localhost:8080/"
    },
    "id": "2k1mFlAWlfMN",
    "outputId": "725885d9-084c-4c9f-91b1-3dd008cdfa67"
   },
   "outputs": [
    {
     "name": "stdout",
     "output_type": "stream",
     "text": [
      "There are 167561 edges and 140195 non edges\n",
      "The graph is weakly connected:  True\n",
      "Info graph\n"
     ]
    },
    {
     "data": {
      "text/plain": [
       "{'N': 3168,\n",
       " 'M': 22513,\n",
       " 'min_degree': 2,\n",
       " 'max_degree': 470,\n",
       " 'mean_degree': 14.212752525252526,\n",
       " 'median_degree': 11.0,\n",
       " 'density': 0.0022438826216060193}"
      ]
     },
     "execution_count": 7,
     "metadata": {},
     "output_type": "execute_result"
    }
   ],
   "source": [
    "with open(\"training_set.txt\", \"r\") as f:\n",
    "    reader = csv.reader(f)\n",
    "    training_set  = list(reader)\n",
    "\n",
    "training_set = [element[0].split(\" \") for element in training_set]\n",
    "ratio = 0.5\n",
    "G,G0 = smaller_graph(training_set, ratio = 0.5)\n",
    "\n",
    "print('Info graph')\n",
    "compute_network_characteristics(G0)"
   ]
  },
  {
   "cell_type": "markdown",
   "metadata": {
    "id": "A79wuk1MnXNZ"
   },
   "source": [
    "### Generate Samples"
   ]
  },
  {
   "cell_type": "code",
   "execution_count": 8,
   "metadata": {
    "id": "o7dNS2Tcms2Q"
   },
   "outputs": [],
   "source": [
    "def real_labels(graph, samples):\n",
    "    labels = []\n",
    "    for edge in tqdm(samples):\n",
    "        if edge in graph.edges():\n",
    "            labels.append(1)\n",
    "        else:\n",
    "            labels.append(0)\n",
    "    return np.array(labels)"
   ]
  },
  {
   "cell_type": "code",
   "execution_count": 9,
   "metadata": {
    "id": "CB-u3zCFnaBF"
   },
   "outputs": [],
   "source": [
    "def generate_samples(complete_graph, graph, train_set_ratio):\n",
    "    \"\"\"\n",
    "    Graph pre-processing step required to perform supervised link prediction\n",
    "    Create training and test sets\n",
    "    \"\"\"\n",
    "        \n",
    "    # --- Step 0: The graph must be connected ---\n",
    "    if nx.is_weakly_connected(graph) is not True:\n",
    "        raise ValueError(\"The graph contains more than one connected component!\")\n",
    "       \n",
    "    \n",
    "    # --- Step 1: Generate positive edge samples for testing set ---\n",
    "    residual_g = graph.copy()\n",
    "    test_pos_samples = []\n",
    "      \n",
    "    # Store the shuffled list of current edges of the graph\n",
    "    edges = list(residual_g.edges())\n",
    "    np.random.shuffle(edges)\n",
    "    \n",
    "    # Define number of positive test samples desired\n",
    "    test_set_size = int((1.0 - train_set_ratio) * graph.number_of_edges())\n",
    "    train_set_size = graph.number_of_edges() - test_set_size\n",
    "    num_of_pos_test_samples = 0\n",
    "    \n",
    "    # Remove random edges from the graph, leaving it connected\n",
    "    # Fill in the blanks\n",
    "    for edge in tqdm(edges,total = test_set_size):\n",
    "        \n",
    "        # Remove the edge\n",
    "        residual_g.remove_edge(edge[0], edge[1])\n",
    "        \n",
    "        # Add the removed edge to the positive sample list if the network is still connected\n",
    "        if nx.is_weakly_connected(residual_g):\n",
    "            num_of_pos_test_samples += 1\n",
    "            test_pos_samples.append(edge)\n",
    "        # Otherwise, re-add the edge to the network\n",
    "        else: \n",
    "            residual_g.add_edge(edge[0], edge[1])\n",
    "        \n",
    "        # If we have collected enough number of edges for testing set, we can terminate the loop\n",
    "        if num_of_pos_test_samples == test_set_size:\n",
    "            break\n",
    "    \n",
    "    # Check if we have the desired number of positive samples for testing set \n",
    "    if num_of_pos_test_samples != test_set_size:\n",
    "        raise ValueError(\"Enough positive edge samples could not be found!\")\n",
    "\n",
    "        \n",
    "    # --- Step 2: Generate positive edge samples for training set ---\n",
    "    # The remaining edges are simply considered for positive samples of the training set\n",
    "    train_pos_samples = list(residual_g.edges())\n",
    "        \n",
    "        \n",
    "    # --- Step 3: Generate the negative samples for testing and training sets ---\n",
    "    # Fill in the blanks\n",
    "    non_edges = list(nx.non_edges(graph))\n",
    "    random.seed(10)\n",
    "    np.random.shuffle(non_edges)\n",
    "    \n",
    "    train_neg_samples = non_edges[:train_set_size] \n",
    "    test_neg_samples = non_edges[train_set_size:train_set_size + test_set_size]\n",
    "\n",
    "    \n",
    "    # --- Step 4: Combine sample lists and create corresponding labels ---\n",
    "    # For training set\n",
    "    train_samples = train_pos_samples + train_neg_samples\n",
    "    train_labels = real_labels(complete_graph, train_samples)\n",
    "    train_samples = np.array(train_samples)\n",
    "    \n",
    "    shuffler = np.random.permutation(len(train_samples))\n",
    "    train_samples = train_samples[shuffler]\n",
    "    train_labels = train_labels[shuffler]\n",
    "    #train_labels = [1 for _ in train_pos_samples] + [0 for _ in train_neg_samples]\n",
    "    # For testing set\n",
    "    test_samples = test_pos_samples + test_neg_samples\n",
    "    test_labels = real_labels(complete_graph, test_samples) # !!!! G et pas G0\n",
    "    test_samples = np.array(test_samples)\n",
    "    \n",
    "    shuffler = np.random.permutation(len(test_samples))\n",
    "    test_samples = test_samples[shuffler]\n",
    "    test_labels = test_labels[shuffler]\n",
    "    \n",
    "    return residual_g, train_samples, train_labels, test_samples, test_labels"
   ]
  },
  {
   "cell_type": "code",
   "execution_count": 12,
   "metadata": {
    "colab": {
     "base_uri": "https://localhost:8080/",
     "height": 99,
     "referenced_widgets": [
      "6fa91fcbd9784ff09a850313c0e61353",
      "e96536cbfc664880b5f8afcbafb71789",
      "44c6e5615f94499dae1679c674ef8d52",
      "03d75bdbf9d5421e804068fb976d42eb",
      "b3d42b2d5d6d43fd93875eef81d697fe",
      "ae0e034ef5db443c80c908d1929008e1",
      "ee854fcb0f3240f49b2c1dcbabad6a3a",
      "74db41183f324fb8b8c561dbe71b4ec7",
      "06849ae5a4614e1899abbb0f40fbb8af",
      "8e319832ebae490abefc47b357965e3e",
      "470fbd63c5804f37a50fc8450a9d0beb",
      "3f7eddf26fb14bbf8efab99f17ff50ca",
      "7c4bd7ed935c47bab3a2fef31bec079c",
      "086656ce691b43f58f58779598ffb280",
      "5bd1b7dbbc494ad19bfbdcac8167be54",
      "ff765f16596042b9a2bc413fc6d1d8c3"
     ]
    },
    "id": "6h2hciqOniqU",
    "outputId": "cb3630ba-cc59-4dc8-8e1c-6c0064ff84e8"
   },
   "outputs": [
    {
     "data": {
      "application/vnd.jupyter.widget-view+json": {
       "model_id": "29a9b7d452fc493ca755f4ba3a8eb666",
       "version_major": 2,
       "version_minor": 0
      },
      "text/plain": [
       "HBox(children=(IntProgress(value=0, max=4502), HTML(value='')))"
      ]
     },
     "metadata": {},
     "output_type": "display_data"
    },
    {
     "data": {
      "application/vnd.jupyter.widget-view+json": {
       "model_id": "bb213f4fc00c4259aaae98396f4e4a62",
       "version_major": 2,
       "version_minor": 0
      },
      "text/plain": [
       "HBox(children=(IntProgress(value=0, max=36022), HTML(value='')))"
      ]
     },
     "metadata": {},
     "output_type": "display_data"
    },
    {
     "data": {
      "application/vnd.jupyter.widget-view+json": {
       "model_id": "76a3c0ecabe54bcabd735d572173bc60",
       "version_major": 2,
       "version_minor": 0
      },
      "text/plain": [
       "HBox(children=(IntProgress(value=0, max=9004), HTML(value='')))"
      ]
     },
     "metadata": {},
     "output_type": "display_data"
    }
   ],
   "source": [
    "residual_g, train_samples, train_labels, val_samples, val_labels = generate_samples(G, G0, train_set_ratio=0.8)"
   ]
  },
  {
   "cell_type": "code",
   "execution_count": 13,
   "metadata": {},
   "outputs": [],
   "source": [
    "nx.write_gml(residual_g, \"residual_g.gml\")\n",
    "\n",
    "with open('training.npy', 'wb') as f:\n",
    "    np.save(f, train_samples)\n",
    "    np.save(f, train_labels)\n",
    "    \n",
    "with open('val.npy', 'wb') as f:\n",
    "    np.save(f, val_samples)\n",
    "    np.save(f, val_labels)"
   ]
  },
  {
   "cell_type": "code",
   "execution_count": 10,
   "metadata": {},
   "outputs": [],
   "source": [
    "residual_g = nx.read_gml(\"residual_g.gml\")\n",
    "\n",
    "with open('training.npy', 'rb') as f:\n",
    "    train_samples = np.load(f)\n",
    "    train_labels = np.load(f)\n",
    "    \n",
    "with open('val.npy', 'rb') as f:\n",
    "    val_samples = np.load(f)\n",
    "    val_labels = np.load(f)"
   ]
  },
  {
   "cell_type": "code",
   "execution_count": 11,
   "metadata": {},
   "outputs": [
    {
     "data": {
      "text/plain": [
       "(array([0, 1]), array([18011, 18011], dtype=int64))"
      ]
     },
     "execution_count": 11,
     "metadata": {},
     "output_type": "execute_result"
    }
   ],
   "source": [
    "np.unique(train_labels,return_counts=True)"
   ]
  },
  {
   "cell_type": "markdown",
   "metadata": {
    "id": "QvvI4gmXohS4"
   },
   "source": [
    "### Random Walk (feature extraction directed graph)"
   ]
  },
  {
   "cell_type": "code",
   "execution_count": 11,
   "metadata": {
    "id": "rU4KU29VoPJW"
   },
   "outputs": [],
   "source": [
    "def feature_extractor_walk(graph, samples, node2embedding, dimension, feature_func = None):\n",
    "    \"\"\"\n",
    "    Creates a feature vector for each edge of the graph contained in samples \n",
    "    \"\"\"    \n",
    "    # --- Construct feature vectors for edges ---\n",
    "    #if feature_func is None:\n",
    "        #feature_func = lambda x,y: abs(x-y)\n",
    "        \n",
    "    count_key_error = 0\n",
    "\n",
    "    # Fill in the blanks\n",
    "    feature_vector = []\n",
    "    for edge in tqdm(samples,total=len(samples)):\n",
    "        source_node = edge[0]\n",
    "        target_node = edge[1]\n",
    "        \n",
    "        try:\n",
    "            source_embedding = node2embedding[source_node]\n",
    "\n",
    "        except KeyError:\n",
    "            source_embedding = np.zeros(dimension)\n",
    "            count_key_error +=1\n",
    "            \n",
    "        try:\n",
    "            target_embedding = node2embedding[target_node]\n",
    "        except KeyError:\n",
    "            target_embedding = np.zeros(dimension)\n",
    "            count_key_error +=1\n",
    "            \n",
    "        source_embedding = source_embedding.reshape(1,-1)\n",
    "        target_embedding = target_embedding.reshape(1,-1)\n",
    "        \n",
    "        sim_node = cosine_similarity(source_embedding, target_embedding)[0]\n",
    "        \n",
    "            \n",
    "        feature_vector.append(sim_node)\n",
    "        \n",
    "    print(f'Number of elements not found: {count_key_error}/{2*len(samples)}')\n",
    "        \n",
    "    return np.array(feature_vector)"
   ]
  },
  {
   "cell_type": "code",
   "execution_count": 12,
   "metadata": {
    "colab": {
     "base_uri": "https://localhost:8080/",
     "height": 67,
     "referenced_widgets": [
      "d4c4be18e8e6420bb8c1b052bbf6e789",
      "656de581d4b543aaa3c6361d1d249901",
      "86d38e58a5a74c8e8831e036109689da",
      "f0d15917add14db9a1f269b4ddeb137b",
      "3368cec0d9d64288a087323499dbfabd",
      "1747aa9b20bf4d9fa29013db4c766052",
      "46c649bab6a543ebbf576a9ced7eee35",
      "8a0f3e819f04455fa6771222971304b8"
     ]
    },
    "id": "Li1G9m84oos0",
    "outputId": "afffd281-d893-4e90-c3e3-b2604242fefe"
   },
   "outputs": [
    {
     "data": {
      "application/vnd.jupyter.widget-view+json": {
       "model_id": "83424899cdf548e28e61f090a31afee6",
       "version_major": 2,
       "version_minor": 0
      },
      "text/plain": [
       "HBox(children=(IntProgress(value=0, description='Computing transition probabilities', max=3168, style=Progress…"
      ]
     },
     "metadata": {},
     "output_type": "display_data"
    },
    {
     "name": "stdout",
     "output_type": "stream",
     "text": [
      "\n"
     ]
    }
   ],
   "source": [
    "num_of_walks = 50\n",
    "walk_length = 10\n",
    "embedding_size = 16\n",
    "window_size = 3\n",
    "\n",
    "node2vec = Node2Vec(residual_g, dimensions=embedding_size, walk_length=walk_length,\n",
    "                    num_walks=num_of_walks, workers=8)\n",
    "# Embed nodes\n",
    "model = node2vec.fit(window=window_size, min_count=1, batch_words=4)"
   ]
  },
  {
   "cell_type": "code",
   "execution_count": 13,
   "metadata": {
    "id": "wP-SINXgosNr"
   },
   "outputs": [
    {
     "data": {
      "application/vnd.jupyter.widget-view+json": {
       "model_id": "80f345a5c3e14280b48a1cb17fa9c2f6",
       "version_major": 2,
       "version_minor": 0
      },
      "text/plain": [
       "HBox(children=(IntProgress(value=0, max=36022), HTML(value='')))"
      ]
     },
     "metadata": {},
     "output_type": "display_data"
    },
    {
     "name": "stdout",
     "output_type": "stream",
     "text": [
      "\n",
      "Number of elements not found: 0/72044\n"
     ]
    },
    {
     "data": {
      "application/vnd.jupyter.widget-view+json": {
       "model_id": "35c5692d45664b8285de2e66e42de746",
       "version_major": 2,
       "version_minor": 0
      },
      "text/plain": [
       "HBox(children=(IntProgress(value=0, max=9004), HTML(value='')))"
      ]
     },
     "metadata": {},
     "output_type": "display_data"
    },
    {
     "name": "stdout",
     "output_type": "stream",
     "text": [
      "\n",
      "Number of elements not found: 0/18008\n"
     ]
    }
   ],
   "source": [
    "train_features = feature_extractor_walk(G0, train_samples, model.wv, embedding_size)\n",
    "val_features = feature_extractor_walk(G0, val_samples, model.wv, embedding_size)\n",
    "\n",
    "Node2Vec_dim = train_features.shape[1]"
   ]
  },
  {
   "cell_type": "code",
   "execution_count": 14,
   "metadata": {
    "colab": {
     "base_uri": "https://localhost:8080/"
    },
    "id": "VcgaaZdYpHWr",
    "outputId": "41f69d27-0b5a-4680-e5f2-cc95f715025c"
   },
   "outputs": [
    {
     "name": "stdout",
     "output_type": "stream",
     "text": [
      "Accuracy: 0.802199022656597\n",
      "F1 score: 0.7876475497794205\n",
      "0.8791182891023703\n"
     ]
    }
   ],
   "source": [
    "# --- Build the model and train it ---\n",
    "# Fill in the blanks\n",
    "clf = LogisticRegression()\n",
    "clf.fit(train_features, train_labels)\n",
    "\n",
    "train_proba= clf.predict_proba(train_features)[:, 1]\n",
    "val_proba = clf.predict_proba(val_features)[:, 1]\n",
    "val_pred = clf.predict(val_features)\n",
    "\n",
    "print(f'Accuracy: {accuracy_score(val_labels, val_pred)}')\n",
    "print(f'F1 score: {f1_score(val_labels, val_pred)}')\n",
    "\n",
    "# --- Compute Area Under the Receiver Operating Characteristic Curve (ROC AUC) from predictions ---\n",
    "# Fill in the blanks\n",
    "fpr, tpr, _ = roc_curve(val_labels, val_proba)\n",
    "roc_auc = auc(fpr, tpr)\n",
    "print(roc_auc)"
   ]
  },
  {
   "cell_type": "code",
   "execution_count": 15,
   "metadata": {
    "id": "oCRRAMdj6nAC"
   },
   "outputs": [],
   "source": [
    "def feature_extractor_undirected(graph, samples, deg_centrality):\n",
    "    \"\"\"\n",
    "    Creates a feature vector for each edge of the graph contained in samples \n",
    "    \"\"\"\n",
    "    feature_vector = []\n",
    "    number_nodes_out = 0\n",
    "\n",
    "    for edge in tqdm(samples):\n",
    "        source_node, target_node = edge[0], edge[1]\n",
    "\n",
    "        # Degree Centrality\n",
    "        if (source_node not in list(deg_centrality.keys())) or (target_node not in list(deg_centrality.keys())):\n",
    "            feature_vector.append(np.array([0, 0, 0, 0, 0, 0]))\n",
    "            number_nodes_out += 1\n",
    "\n",
    "        else:\n",
    "\n",
    "            source_degree_centrality = deg_centrality[source_node]\n",
    "            target_degree_centrality = deg_centrality[target_node]\n",
    "#             source_katz_cent = katz_cent[source_node]\n",
    "#             target_katz_cent = katz_cent[target_node]\n",
    "            \n",
    "            # # Betweeness centrality measure \n",
    "            #diff_bt = betweeness_centrality[target_node] - betweeness_centrality[source_node]\n",
    "\n",
    "            # Preferential Attachement \n",
    "            pref_attach = list(nx.preferential_attachment(graph, [(source_node, target_node)]))[0][2]\n",
    "\n",
    "            # AdamicAdar\n",
    "            aai = list(nx.adamic_adar_index(graph, [(source_node, target_node)]))[0][2]\n",
    "\n",
    "            # Jaccard\n",
    "            jacard_coeff = list(nx.jaccard_coefficient(graph, [(source_node, target_node)]))[0][2]\n",
    "            # Ressource allocation index\n",
    "            res_all = list(nx.resource_allocation_index(graph, [(source_node, target_node)]))[0][2]\n",
    "            \n",
    "            #Nb common neighbours\n",
    "            nb_common_neighbors = len(sorted(nx.common_neighbors(graph, source_node, target_node)))\n",
    "            \n",
    "            # Create edge feature vector with all metric computed above\n",
    "            feature_vector.append(np.array([source_degree_centrality, target_degree_centrality, \n",
    "                                            pref_attach, aai, jacard_coeff, res_all,nb_common_neighbors]) ) \n",
    "    print(number_nodes_out)\n",
    "        \n",
    "    return np.array(feature_vector)"
   ]
  },
  {
   "cell_type": "code",
   "execution_count": 16,
   "metadata": {
    "colab": {
     "base_uri": "https://localhost:8080/",
     "height": 192,
     "referenced_widgets": [
      "d7af7933b5fb4e259d34af914f5103ae",
      "6b9526f671974c9d863a7e5d93bf4804",
      "a2e90b9ac4064d58bed0f84f51c1eb31",
      "ce08a22c5b2e4c269c85dc045c0fb1d5",
      "6d70d9f32c124343a94037f3215194ef",
      "03e4f050a6204dc986f0b6ff3b629284",
      "209c9252c4cb415aa2381d44a50a66b6",
      "517a163b6ddb492dba558e57f35744fc",
      "0a02cedd13974a31b17b54f2f29b22b9",
      "6f81596c374d445c9dc30ac63c28d96f",
      "f0d3846b0bf34ca8b5446f895477b82c",
      "14e83028659844ceb1b66b1693e12b14",
      "5b5313df4ddf439389f497bf506c6d26",
      "99a95bf5bb064827ac404a825d2f482f",
      "031fad77a09d4d9ba80e2bbaca1693b3",
      "3881d70ff51f475a9e9deeb8a5fe318e"
     ]
    },
    "id": "lzWodnQS6psS",
    "outputId": "e0d1af74-4b52-42cb-e915-39ac233f5cb2"
   },
   "outputs": [
    {
     "name": "stdout",
     "output_type": "stream",
     "text": [
      "degree centrality\n",
      "done!\n"
     ]
    },
    {
     "data": {
      "application/vnd.jupyter.widget-view+json": {
       "model_id": "0d70d438e6b748c59fbc006052830b1b",
       "version_major": 2,
       "version_minor": 0
      },
      "text/plain": [
       "HBox(children=(IntProgress(value=0, max=36022), HTML(value='')))"
      ]
     },
     "metadata": {},
     "output_type": "display_data"
    },
    {
     "name": "stdout",
     "output_type": "stream",
     "text": [
      "\n",
      "0\n"
     ]
    },
    {
     "data": {
      "application/vnd.jupyter.widget-view+json": {
       "model_id": "c92ffae791254b42bff2879b153c36c3",
       "version_major": 2,
       "version_minor": 0
      },
      "text/plain": [
       "HBox(children=(IntProgress(value=0, max=9004), HTML(value='')))"
      ]
     },
     "metadata": {},
     "output_type": "display_data"
    },
    {
     "name": "stdout",
     "output_type": "stream",
     "text": [
      "\n",
      "0\n"
     ]
    }
   ],
   "source": [
    "G_undirected = G0.to_undirected()\n",
    "print(\"degree centrality\")\n",
    "deg_centrality = nx.degree_centrality(G_undirected)\n",
    "print(\"done!\")\n",
    "train_features_undirected = feature_extractor_undirected(G_undirected, train_samples, deg_centrality)\n",
    "val_features_undirected = feature_extractor_undirected(G_undirected, val_samples, deg_centrality)"
   ]
  },
  {
   "cell_type": "code",
   "execution_count": 17,
   "metadata": {
    "id": "G0sFcEYJ66Vg"
   },
   "outputs": [],
   "source": [
    "###Merge features\n",
    "train_features = np.concatenate([train_features,train_features_undirected],axis=1)\n",
    "val_features = np.concatenate([val_features,val_features_undirected],axis=1)"
   ]
  },
  {
   "cell_type": "code",
   "execution_count": 18,
   "metadata": {},
   "outputs": [
    {
     "data": {
      "text/plain": [
       "(36022, 8)"
      ]
     },
     "execution_count": 18,
     "metadata": {},
     "output_type": "execute_result"
    }
   ],
   "source": [
    "train_features.shape"
   ]
  },
  {
   "cell_type": "markdown",
   "metadata": {
    "id": "eOdQSVnFqrA4"
   },
   "source": [
    "### Node info"
   ]
  },
  {
   "cell_type": "code",
   "execution_count": 19,
   "metadata": {
    "colab": {
     "base_uri": "https://localhost:8080/",
     "height": 206
    },
    "id": "27CZewqTilhz",
    "outputId": "318be8b6-f282-427d-915d-3b2e628cf476"
   },
   "outputs": [
    {
     "data": {
      "text/html": [
       "<div>\n",
       "<style scoped>\n",
       "    .dataframe tbody tr th:only-of-type {\n",
       "        vertical-align: middle;\n",
       "    }\n",
       "\n",
       "    .dataframe tbody tr th {\n",
       "        vertical-align: top;\n",
       "    }\n",
       "\n",
       "    .dataframe thead th {\n",
       "        text-align: right;\n",
       "    }\n",
       "</style>\n",
       "<table border=\"1\" class=\"dataframe\">\n",
       "  <thead>\n",
       "    <tr style=\"text-align: right;\">\n",
       "      <th></th>\n",
       "      <th>id</th>\n",
       "      <th>year</th>\n",
       "      <th>title</th>\n",
       "      <th>authors</th>\n",
       "      <th>journal</th>\n",
       "      <th>abstract</th>\n",
       "    </tr>\n",
       "  </thead>\n",
       "  <tbody>\n",
       "    <tr>\n",
       "      <th>0</th>\n",
       "      <td>1001</td>\n",
       "      <td>2000</td>\n",
       "      <td>compactification geometry and duality</td>\n",
       "      <td>Paul S. Aspinwall</td>\n",
       "      <td>NaN</td>\n",
       "      <td>these are notes based on lectures given at tas...</td>\n",
       "    </tr>\n",
       "    <tr>\n",
       "      <th>1</th>\n",
       "      <td>1002</td>\n",
       "      <td>2000</td>\n",
       "      <td>domain walls and massive gauged supergravity p...</td>\n",
       "      <td>M. Cvetic, H. Lu, C.N. Pope</td>\n",
       "      <td>Class.Quant.Grav.</td>\n",
       "      <td>we point out that massive gauged supergravity ...</td>\n",
       "    </tr>\n",
       "    <tr>\n",
       "      <th>2</th>\n",
       "      <td>1003</td>\n",
       "      <td>2000</td>\n",
       "      <td>comment on metric fluctuations in brane worlds</td>\n",
       "      <td>Y.S. Myung, Gungwon Kang</td>\n",
       "      <td>NaN</td>\n",
       "      <td>recently ivanov and volovich hep-th 9912242 cl...</td>\n",
       "    </tr>\n",
       "    <tr>\n",
       "      <th>3</th>\n",
       "      <td>1004</td>\n",
       "      <td>2000</td>\n",
       "      <td>moving mirrors and thermodynamic paradoxes</td>\n",
       "      <td>Adam D. Helfer</td>\n",
       "      <td>Phys.Rev.</td>\n",
       "      <td>quantum fields responding to moving mirrors ha...</td>\n",
       "    </tr>\n",
       "    <tr>\n",
       "      <th>4</th>\n",
       "      <td>1005</td>\n",
       "      <td>2000</td>\n",
       "      <td>bundles of chiral blocks and boundary conditio...</td>\n",
       "      <td>J. Fuchs, C. Schweigert</td>\n",
       "      <td>NaN</td>\n",
       "      <td>proceedings of lie iii clausthal july 1999 var...</td>\n",
       "    </tr>\n",
       "  </tbody>\n",
       "</table>\n",
       "</div>"
      ],
      "text/plain": [
       "     id  year                                              title  \\\n",
       "0  1001  2000              compactification geometry and duality   \n",
       "1  1002  2000  domain walls and massive gauged supergravity p...   \n",
       "2  1003  2000     comment on metric fluctuations in brane worlds   \n",
       "3  1004  2000         moving mirrors and thermodynamic paradoxes   \n",
       "4  1005  2000  bundles of chiral blocks and boundary conditio...   \n",
       "\n",
       "                       authors            journal  \\\n",
       "0            Paul S. Aspinwall                NaN   \n",
       "1  M. Cvetic, H. Lu, C.N. Pope  Class.Quant.Grav.   \n",
       "2     Y.S. Myung, Gungwon Kang                NaN   \n",
       "3               Adam D. Helfer          Phys.Rev.   \n",
       "4      J. Fuchs, C. Schweigert                NaN   \n",
       "\n",
       "                                            abstract  \n",
       "0  these are notes based on lectures given at tas...  \n",
       "1  we point out that massive gauged supergravity ...  \n",
       "2  recently ivanov and volovich hep-th 9912242 cl...  \n",
       "3  quantum fields responding to moving mirrors ha...  \n",
       "4  proceedings of lie iii clausthal july 1999 var...  "
      ]
     },
     "execution_count": 19,
     "metadata": {},
     "output_type": "execute_result"
    }
   ],
   "source": [
    "column_names = ['id', 'year', 'title', 'authors', 'journal', 'abstract']\n",
    "info = pd.read_csv('node_information.csv', sep=',', names=column_names)\n",
    "info.head()"
   ]
  },
  {
   "cell_type": "code",
   "execution_count": 20,
   "metadata": {
    "id": "Kq8846cyixGG"
   },
   "outputs": [],
   "source": [
    "with open(\"node_information.csv\", \"r\") as f:\n",
    "    reader = csv.reader(f)\n",
    "    node_info  = list(reader)\n",
    "\n",
    "\n",
    "IDs = [element[0] for element in node_info]\n",
    "abstracts = [element[5] for element in node_info]\n",
    "abstracts_w = [element.lower().split() for element in abstracts]"
   ]
  },
  {
   "cell_type": "code",
   "execution_count": 21,
   "metadata": {
    "colab": {
     "base_uri": "https://localhost:8080/",
     "height": 67,
     "referenced_widgets": [
      "9a94cc24a812410790e202a73c7f71cb",
      "6cdfede614fa42ce9d26f35ef36bb179",
      "cf5b58ac6ef34d6bae5eecd94eb0ee3b",
      "18fa501578e3425799e431dd6936298d",
      "8a314bc4bca94559b17ca8800273873b",
      "005eefb7f4c84ba6925c4fd18837c05d",
      "bd9a339a53134301b8e1631392edf46f",
      "185769ce1be042898871b7dc9723217e"
     ]
    },
    "id": "4cjJu85Cztyy",
    "outputId": "2bc4a7a1-90c5-4a4b-8ab0-332edaa587ce"
   },
   "outputs": [],
   "source": [
    "#embedded_title = []\n",
    "#embedded_abstract = []\n",
    "\n",
    "#for element in tqdm(node_info):\n",
    "  #embedded_title.append(model_similarity.encode(element[2], convert_to_tensor=True))\n",
    "  #embedded_abstract.append(model_similarity.encode(element[5], convert_to_tensor=True))"
   ]
  },
  {
   "cell_type": "code",
   "execution_count": 22,
   "metadata": {},
   "outputs": [],
   "source": [
    "# Set values for various parameters\n",
    "num_features = 200    # Word vector dimensionality                      \n",
    "min_word_count = 40   # Minimum word count                        \n",
    "num_workers = 4       # Number of threads to run in parallel\n",
    "context = 10          # Context window size                                                                                    \n",
    "downsampling = 1e-3   # Downsample setting for frequent words\n",
    "\n",
    "model_embedding = word2vec.Word2Vec(abstracts_w, workers=num_workers, size=num_features, \n",
    "                                    min_count = min_word_count, window = context, sample = downsampling)"
   ]
  },
  {
   "cell_type": "code",
   "execution_count": 23,
   "metadata": {},
   "outputs": [],
   "source": [
    "def makeFeatureVec(words, model, num_features):\n",
    "    # Function to average all of the word vectors in a given\n",
    "    # paragraph\n",
    "    #\n",
    "    # Pre-initialize an empty numpy array (for speed)\n",
    "    featureVec = np.zeros((num_features,),dtype=\"float32\")\n",
    "    #\n",
    "    nwords = 0.\n",
    "    # \n",
    "    # Index2word is a list that contains the names of the words in \n",
    "    # the model's vocabulary. Convert it to a set, for speed \n",
    "    index2word_set = set(model.wv.index2word)\n",
    "    #\n",
    "    # Loop over each word in the review and, if it is in the model's\n",
    "    # vocaublary, add its feature vector to the total\n",
    "    for word in words:\n",
    "        if word in index2word_set: \n",
    "            nwords += 1.\n",
    "            featureVec += model[word]\n",
    "    # \n",
    "    # Divide the result by the number of words to get the average\n",
    "    featureVec = featureVec/nwords\n",
    "    return featureVec\n",
    "\n",
    "\n",
    "def getAvgFeatureVecs(reviews, model, num_features):\n",
    "    # Given a set of reviews (each one a list of words), calculate \n",
    "    # the average feature vector for each one and return a 2D numpy array \n",
    "    # \n",
    "    # Initialize a counter\n",
    "    \n",
    "    # \n",
    "    # Preallocate a 2D numpy array, for speed\n",
    "    reviewFeatureVecs = np.zeros((len(reviews),num_features),dtype=\"float32\")\n",
    "    # \n",
    "    # Loop through the reviews\n",
    "    for i,review in tqdm(enumerate(reviews),total = len(reviews)):\n",
    "        reviewFeatureVecs[i] = makeFeatureVec(review, model, num_features)\n",
    "       \n",
    "    return reviewFeatureVecs"
   ]
  },
  {
   "cell_type": "code",
   "execution_count": 24,
   "metadata": {},
   "outputs": [],
   "source": [
    "abstracts_stp =  [[word for word in element.split(\" \") if word.lower() not in stpwds] for element in abstracts ]"
   ]
  },
  {
   "cell_type": "code",
   "execution_count": 25,
   "metadata": {},
   "outputs": [
    {
     "data": {
      "application/vnd.jupyter.widget-view+json": {
       "model_id": "7d6028176c804ddc833e3c816193427d",
       "version_major": 2,
       "version_minor": 0
      },
      "text/plain": [
       "HBox(children=(IntProgress(value=0, max=27770), HTML(value='')))"
      ]
     },
     "metadata": {},
     "output_type": "display_data"
    },
    {
     "name": "stderr",
     "output_type": "stream",
     "text": [
      "C:\\Users\\chene\\Anaconda3\\lib\\site-packages\\ipykernel_launcher.py:19: DeprecationWarning: Call to deprecated `__getitem__` (Method will be removed in 4.0.0, use self.wv.__getitem__() instead).\n"
     ]
    },
    {
     "name": "stdout",
     "output_type": "stream",
     "text": [
      "\n"
     ]
    }
   ],
   "source": [
    "model_embedding.init_sims(replace=True)\n",
    "DataVecs = getAvgFeatureVecs(abstracts_stp, model_embedding, num_features)"
   ]
  },
  {
   "cell_type": "code",
   "execution_count": 27,
   "metadata": {
    "id": "awpIB9D67pRi"
   },
   "outputs": [],
   "source": [
    "embedded_title = torch.load('embedding_title.pth',map_location=device)\n",
    "embedded_abstract = torch.load('embedding_abstract.pth',map_location=device)"
   ]
  },
  {
   "cell_type": "code",
   "execution_count": 26,
   "metadata": {
    "id": "awpIB9D67pRi"
   },
   "outputs": [],
   "source": [
    "vect = TfidfVectorizer(stop_words=\"english\")\n",
    "abstract_vectorized = vect.fit_transform(info['abstract'])\n",
    "dense_matrix = abstract_vectorized.todense()"
   ]
  },
  {
   "cell_type": "code",
   "execution_count": 33,
   "metadata": {},
   "outputs": [],
   "source": [
    "vect = TfidfVectorizer(stop_words=\"english\")\n",
    "title_vectorized = vect.fit_transform(info['title'])\n",
    "dense_matrix_title = abstract_vectorized.todense()"
   ]
  },
  {
   "cell_type": "code",
   "execution_count": 32,
   "metadata": {},
   "outputs": [
    {
     "name": "stdout",
     "output_type": "stream",
     "text": [
      "1.0000000000000004\n",
      "14.985209465026855\n",
      "--------------------\n",
      "1.0000000000000002\n",
      "13.622262239456177\n"
     ]
    }
   ],
   "source": [
    "import time as time\n",
    "from sklearn.metrics import pairwise_distances\n",
    "\n",
    "start = time.time()\n",
    "\n",
    "for _ in range(20000):\n",
    "    source_tfidf = dense_matrix[0,:]\n",
    "    target_tfidf = dense_matrix[0,:]\n",
    "\n",
    "    sim = cosine_similarity(source_tfidf, target_tfidf)[0][0]\n",
    "\n",
    "print(sim)\n",
    "print(time.time() - start)\n",
    "print('-'*20)\n",
    "\n",
    "start = time.time()\n",
    "\n",
    "for _ in range(20000):\n",
    "    source_tfidf = abstract_vectorized[0,:]\n",
    "    target_tfidf = abstract_vectorized[0,:]\n",
    "\n",
    "    sim = cosine_similarity(source_tfidf, target_tfidf)[0][0]\n",
    "\n",
    "print(sim)\n",
    "print(time.time() - start)"
   ]
  },
  {
   "cell_type": "code",
   "execution_count": 29,
   "metadata": {
    "colab": {
     "base_uri": "https://localhost:8080/",
     "height": 67,
     "referenced_widgets": [
      "821bd04f817c45e3945d923301c49a7e",
      "94a3589504c14b1093944a04dab71e6c",
      "09d7e9318a4243b981639414d3bc609e",
      "cbb14c4fc6f749169922dc096f671aec",
      "5abf4b18d3904d388c39a9e0ad3b437a",
      "b1f2fd472ef84c09baf357e0d1edf35a",
      "58d6769093114200b52f7c04e3df85c2",
      "4c3927f7133041789a7f3458cf8fdc14"
     ]
    },
    "id": "FT5KE4TyDPJ6",
    "outputId": "72fb98a5-c953-46db-9e0e-6c1de255d3a8"
   },
   "outputs": [
    {
     "data": {
      "application/vnd.jupyter.widget-view+json": {
       "model_id": "7d1581a271e24e8495d5b12cbc7cec6d",
       "version_major": 2,
       "version_minor": 0
      },
      "text/plain": [
       "HBox(children=(IntProgress(value=0, max=27770), HTML(value='')))"
      ]
     },
     "metadata": {},
     "output_type": "display_data"
    },
    {
     "name": "stdout",
     "output_type": "stream",
     "text": [
      "\n"
     ]
    }
   ],
   "source": [
    "title_stemmed = []\n",
    "\n",
    "for element in tqdm(node_info):\n",
    "    title = element[2].lower().split(\" \")\n",
    "    # remove stopwords\n",
    "    title = [token for token in title if token not in stpwds]\n",
    "    title = [stemmer.stem(token) for token in title]\n",
    "    title_stemmed.append(title)"
   ]
  },
  {
   "cell_type": "code",
   "execution_count": 30,
   "metadata": {
    "id": "ObRI1KzPt-nW"
   },
   "outputs": [],
   "source": [
    "def isselfcite(source_auth, target_auth): \n",
    "    selfcite = 0\n",
    "    for sauth in source_auth: \n",
    "        if sauth in target_auth: \n",
    "            selfcite = 1\n",
    "            break \n",
    "    return selfcite\n",
    "\n",
    "def issamejournal(source_journal, target_journal): \n",
    "    \n",
    "    if source_journal == target_journal:\n",
    "        return 1\n",
    "    return 0"
   ]
  },
  {
   "cell_type": "code",
   "execution_count": 34,
   "metadata": {
    "id": "_o4UqAdTt_lC"
   },
   "outputs": [],
   "source": [
    "cos = nn.CosineSimilarity(dim=0, eps=1e-6)\n",
    "def processing_info(sample):\n",
    "    sim_title = []\n",
    "    tfidf_title = []\n",
    "\n",
    "    # temporal distance between the papers\n",
    "    temp_diff = []\n",
    "\n",
    "    # number of common authors\n",
    "    comm_auth = []\n",
    "\n",
    "    #is self citation\n",
    "    self_cite = []\n",
    "\n",
    "    #is published in same journal \n",
    "    same_journal = []\n",
    "\n",
    "    #cosine  similarity \n",
    "    sim_abstract = []\n",
    "    sim_tfidf = []\n",
    "    sim_w2v = []\n",
    "    \n",
    "\n",
    "    for i in tqdm(range(len(sample))):\n",
    "        source = sample[i][0]\n",
    "        target = sample[i][1]\n",
    "\n",
    "        index_source = IDs.index(source)\n",
    "        index_target = IDs.index(target)\n",
    "\n",
    "        source_info = node_info[index_source]\n",
    "        target_info = node_info[index_target]\n",
    "\n",
    "        # Title\n",
    "        source_title = title_stemmed[index_source]\n",
    "        target_title = title_stemmed[index_target]\n",
    "        sim_title.append(len(set(source_title).intersection(set(target_title))))\n",
    "        \n",
    "        source_title_tfidf = title_vectorized[index_source,:]\n",
    "        target_title_tfidf = title_vectorized[index_target,:]\n",
    "\n",
    "        sim = cosine_similarity(source_title_tfidf, target_title_tfidf)\n",
    "        tfidf_title.append(sim[0][0])\n",
    "\n",
    "        \n",
    "        #source_title_embedding = embedded_title[index_source]\n",
    "        #target_title_embedding = embedded_title[index_target]\n",
    "        #sim_title.append(util.pytorch_cos_sim(source_title_embedding, target_title_embedding).item())\n",
    "\n",
    "        #Date\n",
    "        time_delta = int(source_info[1]) - int(target_info[1])\n",
    "        temp_diff.append(1 if time_delta>=0 else 0)\n",
    "\n",
    "        #Authors\n",
    "        source_auth = source_info[3].split(\",\")\n",
    "        target_auth = target_info[3].split(\",\")\n",
    "        comm_auth.append(len(set(source_auth).intersection(set(target_auth))))\n",
    "        self_cite.append(isselfcite(source_auth,target_auth))\n",
    "\n",
    "        #Journal\n",
    "        source_journal = source_info[4].lower()\n",
    "        target_journal = target_info[4].lower()\n",
    "        same_journal.append(issamejournal(source_journal, target_journal))\n",
    "\n",
    "        source_abstract = source_info[5].lower()\n",
    "        target_abstract = target_info[5].lower()\n",
    "\n",
    "        #Abstract\n",
    "        source_abstract_embedding = embedded_abstract[index_source]\n",
    "        target_abstract_embedding = embedded_abstract[index_target]\n",
    "        sim_abstract.append(cos(source_abstract_embedding, target_abstract_embedding).item())\n",
    "        \n",
    "        source_tfidf = abstract_vectorized[index_source,:]\n",
    "        target_tfidf = abstract_vectorized[index_target,:]\n",
    "\n",
    "        sim = cosine_similarity(source_tfidf, target_tfidf)\n",
    "        sim_tfidf.append(sim[0][0])\n",
    "        \n",
    "        source_w2v = DataVecs[index_source].reshape(1,-1)\n",
    "        target_w2v = DataVecs[index_target].reshape(1,-1)\n",
    "        \n",
    "        sim_w2v.append(float(cosine_similarity(source_w2v, target_w2v)))\n",
    "               \n",
    "    \n",
    "    features = np.array([sim_title, tfidf_title, temp_diff, comm_auth, self_cite, same_journal, sim_abstract, sim_tfidf,sim_w2v]).T\n",
    "    df = pd.DataFrame(features, columns=['title_sim', 'tfidf_title', 'temp_diff', 'comm_author', \n",
    "                                         'self_cite', 'same_journal', 'abstract_sim','tfidf_sim','w2v_sim'])   \n",
    "    return df"
   ]
  },
  {
   "cell_type": "code",
   "execution_count": 35,
   "metadata": {
    "colab": {
     "base_uri": "https://localhost:8080/",
     "height": 118,
     "referenced_widgets": [
      "65beada69dd84ba3aad4b5bbc40f9a07",
      "8cd304d9e43c4693bd0fd3bbfce3a442",
      "6b7407a3bed042a182f8c102e7821a99",
      "d4b860869c784c5387fc57ac9abd1b96",
      "fa5df94547554810bde47391b61c8895",
      "722e999cf9434118bddeb25fca1fe04a",
      "b6704505ad36411f8d395f24f7f00fed",
      "fdc5986ec8eb46b59d55f676b47bb22e",
      "cdc30b36a0af4f0bb82d788b97f413ea",
      "8df26d46101b4d56ad645defb6c76bec",
      "32817117ba3f42e48560f73379bb750f",
      "d4520fa39f6f46dfa7664eb8c86c51a8",
      "83907bc67b70492498af80a7ba2bf0d2",
      "1962ea10445b479ab60dbb1020ee56d6",
      "9ae76a6092304c0386692f918bacde17",
      "de9571d5fc7447208dcb3ee26a8096b9"
     ]
    },
    "id": "RfCIN9l1wC6t",
    "outputId": "b56c1eaa-0233-4452-b36b-315b04b42b24"
   },
   "outputs": [
    {
     "data": {
      "application/vnd.jupyter.widget-view+json": {
       "model_id": "790a575d2f4b4b99b0118366cdb2db78",
       "version_major": 2,
       "version_minor": 0
      },
      "text/plain": [
       "HBox(children=(IntProgress(value=0, max=36022), HTML(value='')))"
      ]
     },
     "metadata": {},
     "output_type": "display_data"
    },
    {
     "name": "stdout",
     "output_type": "stream",
     "text": [
      "\n"
     ]
    },
    {
     "data": {
      "application/vnd.jupyter.widget-view+json": {
       "model_id": "11aae4d12bd941358b676df2a70be03a",
       "version_major": 2,
       "version_minor": 0
      },
      "text/plain": [
       "HBox(children=(IntProgress(value=0, max=9004), HTML(value='')))"
      ]
     },
     "metadata": {},
     "output_type": "display_data"
    },
    {
     "name": "stdout",
     "output_type": "stream",
     "text": [
      "\n"
     ]
    }
   ],
   "source": [
    "train_text_feat = processing_info(train_samples)\n",
    "val_text_feat = processing_info(val_samples)"
   ]
  },
  {
   "cell_type": "code",
   "execution_count": 36,
   "metadata": {
    "id": "ZzbaHWMz6bAo"
   },
   "outputs": [],
   "source": [
    "train_feat = np.concatenate([train_features, train_text_feat.to_numpy()], axis=1)\n",
    "val_feat = np.concatenate([val_features, val_text_feat.to_numpy()], axis=1)"
   ]
  },
  {
   "cell_type": "code",
   "execution_count": 37,
   "metadata": {},
   "outputs": [
    {
     "data": {
      "text/plain": [
       "(36022, 17)"
      ]
     },
     "execution_count": 37,
     "metadata": {},
     "output_type": "execute_result"
    }
   ],
   "source": [
    "train_feat.shape"
   ]
  },
  {
   "cell_type": "markdown",
   "metadata": {
    "id": "gnklYyg19MBP"
   },
   "source": [
    "### Normalization"
   ]
  },
  {
   "cell_type": "code",
   "execution_count": 38,
   "metadata": {
    "id": "AxUpxwNZ8xus"
   },
   "outputs": [],
   "source": [
    "scaler = MinMaxScaler()\n",
    "train_feat = scaler.fit_transform(train_feat)\n",
    "val_feat = scaler.transform(val_feat)"
   ]
  },
  {
   "cell_type": "markdown",
   "metadata": {
    "id": "bSfsise3-cU9"
   },
   "source": [
    "### Feature name vector"
   ]
  },
  {
   "cell_type": "code",
   "execution_count": 39,
   "metadata": {
    "id": "iFvzAoG_-bxQ"
   },
   "outputs": [],
   "source": [
    "feat_name = []\n",
    "for i in range(Node2Vec_dim):\n",
    "    feat_name.append(f'Node2Vec#{i+1}')\n",
    "\n",
    "undirected_feat_name = ['source_degree_centrality', 'target_degree_centrality', \n",
    "                        'pref_attach', 'aai', 'jacard_coeff', 'res_all','nb_common_neighbors']\n",
    "text_feat_name = ['title_sim', 'tfidf_title', 'temp_diff', 'comm_author', 'self_cite', \n",
    "                  'same_journal', 'abstract_sim','tfidf_sim','sim_w2v']\n",
    "\n",
    "feat_name = feat_name + undirected_feat_name + text_feat_name"
   ]
  },
  {
   "cell_type": "markdown",
   "metadata": {
    "id": "4jFspp6x7MNY"
   },
   "source": [
    "## Evaluation"
   ]
  },
  {
   "cell_type": "code",
   "execution_count": 40,
   "metadata": {
    "id": "AlApr75RjH4i"
   },
   "outputs": [],
   "source": [
    "def prediction(train_samples, test_samples, train_labels, test_labels, feat_name):\n",
    "    \n",
    "    # --- Build the model and train it ---\n",
    "    # Fill in the blanks\n",
    "    clf = svm.LinearSVC()\n",
    "    clf.fit(train_samples, train_labels)\n",
    "\n",
    "    train_preds = clf.decision_function(train_samples)\n",
    "    test_preds = clf.decision_function(test_samples)\n",
    "    \n",
    "    labels_pred = clf.predict(test_samples)\n",
    "\n",
    "    # --- Compute Area Under the Receiver Operating Characteristic Curve (ROC AUC) from predictions ---\n",
    "    # Fill in the blanks\n",
    "    fpr, tpr, _ = roc_curve(test_labels, test_preds)\n",
    "    roc_auc = auc(fpr, tpr)\n",
    "    \n",
    "    print(f'Accuracy: {accuracy_score(test_labels, labels_pred)}')\n",
    "    print(f'F1 score: {f1_score(test_labels, labels_pred)}')\n",
    "    print(f'ROC: {roc_auc}')\n",
    "    \n",
    "    fig, (ax1, ax2) = plt.subplots(1, 2, figsize=(20,6))\n",
    "\n",
    "    pd.Series(abs(clf.coef_[0]), index=feat_name).nlargest(10).plot(kind='barh',ax=ax1)\n",
    "\n",
    "    ax2.plot(fpr, tpr, color='darkred', label='ROC curve (area = %0.3f)' % roc_auc)\n",
    "    ax2.plot([0, 1], [0, 1], color='lightgray', linestyle='--')\n",
    "    ax2.set_xlim([0.0, 1.0])\n",
    "    ax2.set_ylim([0.0, 1.05])\n",
    "    ax2.set_xlabel('False Positive Rate')\n",
    "    ax2.set_ylabel('True Positive Rate')\n",
    "    ax2.set_title('Receiver Operating Characteristic Curve')\n",
    "    ax2.legend(loc=\"lower right\")\n",
    "\n",
    "    plt.show()"
   ]
  },
  {
   "cell_type": "code",
   "execution_count": 41,
   "metadata": {
    "colab": {
     "base_uri": "https://localhost:8080/",
     "height": 459
    },
    "id": "Rq46IQ1L7HE6",
    "outputId": "bfbd680b-2133-477e-906a-a83f3b9c9747"
   },
   "outputs": [
    {
     "name": "stdout",
     "output_type": "stream",
     "text": [
      "Accuracy: 0.8909373611728121\n",
      "F1 score: 0.8861317254174397\n",
      "ROC: 0.9614773117273905\n"
     ]
    },
    {
     "data": {
      "image/png": "[encoded data removed]",
      "text/plain": [
       "<Figure size 1440x432 with 2 Axes>"
      ]
     },
     "metadata": {
      "needs_background": "light"
     },
     "output_type": "display_data"
    }
   ],
   "source": [
    "prediction(train_feat, val_feat, train_labels, val_labels,feat_name)"
   ]
  },
  {
   "cell_type": "code",
   "execution_count": 42,
   "metadata": {
    "id": "Un9-EfBRE25l"
   },
   "outputs": [],
   "source": [
    "def prediction_2(clf, train_samples, test_samples, train_labels, test_labels,feat_name):\n",
    "# --- Build the model and train it ---\n",
    "    # Fill in the blanks\n",
    "    \n",
    "    clf.fit(train_samples, train_labels)\n",
    "\n",
    "    train_preds = clf.predict_proba(train_samples)[:,1]\n",
    "    test_preds = clf.predict_proba(test_samples)[:,1]\n",
    "    \n",
    "    labels_pred = clf.predict(test_samples)\n",
    "\n",
    "    # --- Compute Area Under the Receiver Operating Characteristic Curve (ROC AUC) from predictions ---\n",
    "    # Fill in the blanks\n",
    "    fpr, tpr, _ = roc_curve(test_labels, test_preds)\n",
    "    roc_auc = auc(fpr, tpr)\n",
    "    \n",
    "    print(f'Accuracy: {accuracy_score(test_labels, labels_pred)}')\n",
    "    print(f'F1 score: {f1_score(test_labels, labels_pred)}')\n",
    "    print(f'ROC: {roc_auc}')\n",
    "    \n",
    "    fig, (ax1, ax2) = plt.subplots(1, 2, figsize=(20,6))\n",
    "    \n",
    "    try:\n",
    "        feat_imp = abs(clf.feature_importances_)\n",
    "    except:\n",
    "        feat_imp = abs(clf.coef_[0])\n",
    "\n",
    "    pd.Series(feat_imp, index=feat_name).nlargest(10).plot(kind='barh',ax=ax1)\n",
    "\n",
    "    ax2.plot(fpr, tpr, color='darkred', label='ROC curve (area = %0.3f)' % roc_auc)\n",
    "    ax2.plot([0, 1], [0, 1], color='lightgray', linestyle='--')\n",
    "    ax2.set_xlim([0.0, 1.0])\n",
    "    ax2.set_ylim([0.0, 1.05])\n",
    "    ax2.set_xlabel('False Positive Rate')\n",
    "    ax2.set_ylabel('True Positive Rate')\n",
    "    ax2.set_title('Receiver Operating Characteristic Curve')\n",
    "    ax2.legend(loc=\"lower right\")\n",
    "    \n",
    "\n",
    "    plt.show()\n",
    "    return np.argsort(feat_imp)[::-1]"
   ]
  },
  {
   "cell_type": "code",
   "execution_count": 43,
   "metadata": {
    "colab": {
     "base_uri": "https://localhost:8080/",
     "height": 459
    },
    "id": "pYba9_-mHPE3",
    "outputId": "0a89546c-7d9d-4ee3-fbf0-32bdc1afbf47"
   },
   "outputs": [
    {
     "name": "stdout",
     "output_type": "stream",
     "text": [
      "XGBOOST\n",
      "Accuracy: 0.9030430919591292\n",
      "F1 score: 0.8997128087306145\n",
      "ROC: 0.9634381362861384\n"
     ]
    },
    {
     "data": {
      "image/png": "[encoded data removed]",
      "text/plain": [
       "<Figure size 1440x432 with 2 Axes>"
      ]
     },
     "metadata": {
      "needs_background": "light"
     },
     "output_type": "display_data"
    },
    {
     "name": "stdout",
     "output_type": "stream",
     "text": [
      "--------------------\n",
      "RandomForestClassifier\n",
      "Accuracy: 0.905264326965793\n",
      "F1 score: 0.9020103388856979\n",
      "ROC: 0.9680631600427945\n"
     ]
    },
    {
     "data": {
      "image/png": "[encoded data removed]",
      "text/plain": [
       "<Figure size 1440x432 with 2 Axes>"
      ]
     },
     "metadata": {
      "needs_background": "light"
     },
     "output_type": "display_data"
    },
    {
     "name": "stdout",
     "output_type": "stream",
     "text": [
      "--------------------\n",
      "GradientBoostingClassifier\n",
      "Accuracy: 0.8947134606841404\n",
      "F1 score: 0.8910094274545872\n",
      "ROC: 0.953525369345694\n"
     ]
    },
    {
     "data": {
      "image/png": "[encoded data removed]",
      "text/plain": [
       "<Figure size 1440x432 with 2 Axes>"
      ]
     },
     "metadata": {
      "needs_background": "light"
     },
     "output_type": "display_data"
    },
    {
     "name": "stdout",
     "output_type": "stream",
     "text": [
      "--------------------\n",
      "LogisticRegression\n",
      "Accuracy: 0.8914926699244781\n",
      "F1 score: 0.886672079805127\n",
      "ROC: 0.9622905146456455\n"
     ]
    },
    {
     "data": {
      "image/png": "[encoded data removed]",
      "text/plain": [
       "<Figure size 1440x432 with 2 Axes>"
      ]
     },
     "metadata": {
      "needs_background": "light"
     },
     "output_type": "display_data"
    },
    {
     "name": "stdout",
     "output_type": "stream",
     "text": [
      "--------------------\n"
     ]
    }
   ],
   "source": [
    "clfs = [xgb.XGBClassifier(n_estimators = 100, max_depth=10, objective = 'binary:logistic', n_jobs = -1),\n",
    "        RandomForestClassifier(n_estimators=100, max_depth=10, n_jobs = -1), \n",
    "        GradientBoostingClassifier(n_estimators=100, learning_rate=1.0,max_depth=10),\n",
    "        LogisticRegression()]\n",
    "clfs_name = ['XGBOOST', 'RandomForestClassifier','GradientBoostingClassifier','LogisticRegression']\n",
    "\n",
    "list_feat_imp = []\n",
    "for i,clf in enumerate(clfs):\n",
    "    print(clfs_name[i])\n",
    "    feat_imp = prediction_2(clf,train_feat, val_feat, train_labels, val_labels,feat_name)\n",
    "    list_feat_imp.append(feat_imp)\n",
    "    print('-'*20)"
   ]
  },
  {
   "cell_type": "markdown",
   "metadata": {},
   "source": [
    "### XGBOOST"
   ]
  },
  {
   "cell_type": "code",
   "execution_count": 49,
   "metadata": {},
   "outputs": [
    {
     "name": "stdout",
     "output_type": "stream",
     "text": [
      "0.1 eta\n",
      " \n",
      "Accuracy: 0.9039315859617948\n",
      "F1 score: 0.90070026403398\n",
      "ROC: 0.9662990494771957\n"
     ]
    },
    {
     "data": {
      "image/png": "[encoded data removed]",
      "text/plain": [
       "<Figure size 1440x432 with 2 Axes>"
      ]
     },
     "metadata": {
      "needs_background": "light"
     },
     "output_type": "display_data"
    },
    {
     "name": "stdout",
     "output_type": "stream",
     "text": [
      "--------------------\n",
      "0.3 eta\n",
      " \n",
      "Accuracy: 0.9048200799644602\n",
      "F1 score: 0.9017765042979943\n",
      "ROC: 0.9643962720749413\n"
     ]
    },
    {
     "data": {
      "image/png": "[encoded data removed]",
      "text/plain": [
       "<Figure size 1440x432 with 2 Axes>"
      ]
     },
     "metadata": {
      "needs_background": "light"
     },
     "output_type": "display_data"
    },
    {
     "name": "stdout",
     "output_type": "stream",
     "text": [
      "--------------------\n",
      "0.5 eta\n",
      " \n",
      "Accuracy: 0.902265659706797\n",
      "F1 score: 0.8988970588235295\n",
      "ROC: 0.9628063769870976\n"
     ]
    },
    {
     "data": {
      "image/png": "[encoded data removed]",
      "text/plain": [
       "<Figure size 1440x432 with 2 Axes>"
      ]
     },
     "metadata": {
      "needs_background": "light"
     },
     "output_type": "display_data"
    },
    {
     "name": "stdout",
     "output_type": "stream",
     "text": [
      "--------------------\n",
      "0.7 eta\n",
      " \n",
      "Accuracy: 0.9011550422034651\n",
      "F1 score: 0.8980059592023837\n",
      "ROC: 0.9603863064167543\n"
     ]
    },
    {
     "data": {
      "image/png": "[encoded data removed]",
      "text/plain": [
       "<Figure size 1440x432 with 2 Axes>"
      ]
     },
     "metadata": {
      "needs_background": "light"
     },
     "output_type": "display_data"
    },
    {
     "name": "stdout",
     "output_type": "stream",
     "text": [
      "--------------------\n",
      "None eta\n",
      " \n",
      "Accuracy: 0.9048200799644602\n",
      "F1 score: 0.9017765042979943\n",
      "ROC: 0.9643962720749413\n"
     ]
    },
    {
     "data": {
      "image/png": "[encoded data removed]",
      "text/plain": [
       "<Figure size 1440x432 with 2 Axes>"
      ]
     },
     "metadata": {
      "needs_background": "light"
     },
     "output_type": "display_data"
    },
    {
     "name": "stdout",
     "output_type": "stream",
     "text": [
      "--------------------\n"
     ]
    }
   ],
   "source": [
    "lambda_list = [0.1,0.3,0.5,0.7,None]\n",
    "\n",
    "for lmbd in lambda_list:\n",
    "    print(f'{lmbd} lambda')\n",
    "    print(' ')\n",
    "    clf = xgb.XGBClassifier(n_estimators = 100, objective = 'binary:logistic', n_jobs = -1)\n",
    "    feat_imp = prediction_2(clf,train_feat, val_feat, train_labels, val_labels,feat_name)\n",
    "    print('-'*20)"
   ]
  },
  {
   "cell_type": "markdown",
   "metadata": {
    "id": "F6IL0ZxkJiZv"
   },
   "source": [
    "## Test"
   ]
  },
  {
   "cell_type": "code",
   "execution_count": 50,
   "metadata": {
    "id": "KXNOX9MkJkUz"
   },
   "outputs": [],
   "source": [
    "with open(\"testing_set.txt\", \"r\") as f:\n",
    "    reader = csv.reader(f)\n",
    "    testing_set  = list(reader)\n",
    "\n",
    "testing_set = [element[0].split(\" \") for element in testing_set]"
   ]
  },
  {
   "cell_type": "code",
   "execution_count": 47,
   "metadata": {},
   "outputs": [
    {
     "data": {
      "application/vnd.jupyter.widget-view+json": {
       "model_id": "ba386be7164f432ab9f87429b28cb485",
       "version_major": 2,
       "version_minor": 0
      },
      "text/plain": [
       "HBox(children=(IntProgress(value=0, description='Computing transition probabilities', max=27684, style=Progres…"
      ]
     },
     "metadata": {},
     "output_type": "display_data"
    }
   ],
   "source": [
    "num_of_walks = 30\n",
    "walk_length = 10\n",
    "embedding_size = 16\n",
    "window_size = 3\n",
    "\n",
    "full_node2vec = Node2Vec(training_graph, dimensions=embedding_size, walk_length=walk_length,\n",
    "                    num_walks=num_of_walks, workers=8)\n",
    "# Embed nodes\n",
    "full_model = full_node2vec.fit(window=window_size, min_count=1, batch_words=4)"
   ]
  },
  {
   "cell_type": "code",
   "execution_count": 50,
   "metadata": {},
   "outputs": [],
   "source": [
    "#full_model.wv.save(\"full_graph_embedding.nodevectors\")"
   ]
  },
  {
   "cell_type": "code",
   "execution_count": 51,
   "metadata": {},
   "outputs": [],
   "source": [
    "wv = KeyedVectors.load(\"full_graph_embedding.nodevectors\", mmap='r')"
   ]
  },
  {
   "cell_type": "code",
   "execution_count": 52,
   "metadata": {
    "id": "YvpszBHEJ-3j"
   },
   "outputs": [
    {
     "data": {
      "application/vnd.jupyter.widget-view+json": {
       "model_id": "ff7715cbcd5a44b8b673c29674787fc2",
       "version_major": 2,
       "version_minor": 0
      },
      "text/plain": [
       "HBox(children=(IntProgress(value=0, max=32648), HTML(value='')))"
      ]
     },
     "metadata": {},
     "output_type": "display_data"
    },
    {
     "name": "stdout",
     "output_type": "stream",
     "text": [
      "\n",
      "Number of elements not found: 171/65296\n"
     ]
    }
   ],
   "source": [
    "test_graph_feat = feature_extractor_walk(G0, testing_set, wv, embedding_size)"
   ]
  },
  {
   "cell_type": "code",
   "execution_count": 53,
   "metadata": {},
   "outputs": [
    {
     "data": {
      "application/vnd.jupyter.widget-view+json": {
       "model_id": "927f6d5125c74f96ac91a0b35c816206",
       "version_major": 2,
       "version_minor": 0
      },
      "text/plain": [
       "HBox(children=(IntProgress(value=0, max=615512), HTML(value='')))"
      ]
     },
     "metadata": {},
     "output_type": "display_data"
    },
    {
     "name": "stdout",
     "output_type": "stream",
     "text": [
      "\n",
      "Number of elements not found: 1761/1231024\n"
     ]
    }
   ],
   "source": [
    "full_train_graph_feat = feature_extractor_walk(G0, training_set, wv, embedding_size)"
   ]
  },
  {
   "cell_type": "code",
   "execution_count": 54,
   "metadata": {
    "colab": {
     "base_uri": "https://localhost:8080/",
     "height": 86,
     "referenced_widgets": [
      "2209824eb28f49789eab388a08f540e4",
      "fd37db407cbc485590ceddc35ba161cd",
      "cd276d343cfe4ddf9f7793e12c4b1a1c",
      "2c7d6d2497564163835a1b72cc325fa4",
      "63bfeacf29c5450995c26beb755bd73d",
      "9a122080d1ca47bcb7aaf888fd3ae1e6",
      "d703fc1dd1904983b6e3ef9d99da67f4",
      "6db170f5b6aa4daf8dcad6581f14fa2b"
     ]
    },
    "id": "Bui_-QzmJ0Vq",
    "outputId": "55aedf26-f741-4ab3-dffa-93d5a360efff"
   },
   "outputs": [
    {
     "name": "stdout",
     "output_type": "stream",
     "text": [
      "degree centrality\n",
      "done!\n"
     ]
    },
    {
     "data": {
      "application/vnd.jupyter.widget-view+json": {
       "model_id": "83b49939937f43f8acdb123a391748a6",
       "version_major": 2,
       "version_minor": 0
      },
      "text/plain": [
       "HBox(children=(IntProgress(value=0, max=32648), HTML(value='')))"
      ]
     },
     "metadata": {},
     "output_type": "display_data"
    },
    {
     "name": "stdout",
     "output_type": "stream",
     "text": [
      "\n",
      "32648\n"
     ]
    }
   ],
   "source": [
    "training_graph_undirected = training_graph.to_undirected()\n",
    "print(\"degree centrality\")\n",
    "deg_centrality_full = nx.degree_centrality(training_graph_undirected)\n",
    "print(\"done!\")\n",
    "test_graph_undirected = feature_extractor_undirected(training_graph_undirected, testing_set, deg_centrality_full)"
   ]
  },
  {
   "cell_type": "code",
   "execution_count": 55,
   "metadata": {},
   "outputs": [
    {
     "data": {
      "application/vnd.jupyter.widget-view+json": {
       "model_id": "8c78fb8925d54860a8367fa89d19f772",
       "version_major": 2,
       "version_minor": 0
      },
      "text/plain": [
       "HBox(children=(IntProgress(value=0, max=615512), HTML(value='')))"
      ]
     },
     "metadata": {},
     "output_type": "display_data"
    },
    {
     "name": "stdout",
     "output_type": "stream",
     "text": [
      "\n",
      "615512\n"
     ]
    }
   ],
   "source": [
    "full_training_graph_undirected = feature_extractor_undirected(training_graph_undirected, training_set, deg_centrality_full)"
   ]
  },
  {
   "cell_type": "code",
   "execution_count": 56,
   "metadata": {
    "colab": {
     "base_uri": "https://localhost:8080/",
     "height": 67,
     "referenced_widgets": [
      "aae9b5ca6e154485881383c1fa36bd7f",
      "21e8865fa86c4d6283228aa6f10c0892",
      "29b112c26dee418aa37d2cfa62b5761c",
      "09659b16f7cc4f22971ff9e0ca90d427",
      "0db6d3c1dd23460a8e36d4cd9176e893",
      "c5ca7bf38c704ce5893cde257ffaad4f",
      "2644d7cbab7542da806cd40b02458211",
      "66dc95fec30a4843a4a4ff19b5938b7b"
     ]
    },
    "id": "NlsSWBvLJoVm",
    "outputId": "533773bd-c973-4a72-97df-a67feaeeb98a"
   },
   "outputs": [
    {
     "data": {
      "application/vnd.jupyter.widget-view+json": {
       "model_id": "ad2d22e24b8842e4bb21c042dc561c77",
       "version_major": 2,
       "version_minor": 0
      },
      "text/plain": [
       "HBox(children=(IntProgress(value=0, max=32648), HTML(value='')))"
      ]
     },
     "metadata": {},
     "output_type": "display_data"
    },
    {
     "name": "stdout",
     "output_type": "stream",
     "text": [
      "\n"
     ]
    },
    {
     "data": {
      "application/vnd.jupyter.widget-view+json": {
       "model_id": "699e285e7d3947579256d61acaaceac6",
       "version_major": 2,
       "version_minor": 0
      },
      "text/plain": [
       "HBox(children=(IntProgress(value=0, max=615512), HTML(value='')))"
      ]
     },
     "metadata": {},
     "output_type": "display_data"
    },
    {
     "name": "stdout",
     "output_type": "stream",
     "text": [
      "\n"
     ]
    }
   ],
   "source": [
    "test_text_feat = processing_info(testing_set)\n",
    "full_training_text_feat = processing_info(training_set)"
   ]
  },
  {
   "cell_type": "code",
   "execution_count": 57,
   "metadata": {
    "id": "AVNlrmn-KHBP"
   },
   "outputs": [],
   "source": [
    "test_feat = np.concatenate([test_graph_feat,test_graph_undirected,test_text_feat],axis=1)\n",
    "full_training_feat = np.concatenate([full_train_graph_feat,full_training_graph_undirected,full_training_text_feat],axis=1)"
   ]
  },
  {
   "cell_type": "code",
   "execution_count": 58,
   "metadata": {},
   "outputs": [],
   "source": [
    "full_training_labels = np.array([int(link[2]) for link in training_set])"
   ]
  },
  {
   "cell_type": "code",
   "execution_count": 59,
   "metadata": {},
   "outputs": [],
   "source": [
    "with open('full_train_test_set.npy','wb') as f:\n",
    "    np.save(f,full_training_feat)\n",
    "    np.save(f,full_training_labels)\n",
    "    np.save(f,test_feat)"
   ]
  },
  {
   "cell_type": "code",
   "execution_count": 61,
   "metadata": {},
   "outputs": [],
   "source": [
    "with open('full_train_test_set.npy','rb') as f:\n",
    "    full_training_feat = np.load(f)\n",
    "    full_training_labels = np.load(f)\n",
    "    test_feat = np.load(f)"
   ]
  },
  {
   "cell_type": "code",
   "execution_count": 69,
   "metadata": {},
   "outputs": [],
   "source": [
    "#Balnced dataset\n",
    "\n",
    "idx_0 = np.where(full_training_labels == 0)[0]\n",
    "idx_1 = np.where(full_training_labels == 1)[0]\n",
    "\n",
    "min_idx = min(len(idx_0),len(idx_1))\n",
    "\n",
    "new_idx = np.concatenate([idx_0[:min_idx],idx_1[:min_idx]])\n",
    "new_idx = np.random.shuffle(new_idx)\n",
    "\n",
    "balanced_training_feat = full_training_feat[new_idx][0]\n",
    "balanced_training_labels = full_training_labels[new_idx][0]"
   ]
  },
  {
   "cell_type": "code",
   "execution_count": 136,
   "metadata": {},
   "outputs": [],
   "source": [
    "#Best features\n",
    "balanced_training_feat = balanced_training_feat[:,best_idx]\n",
    "test_feat_filter = test_feat[:,best_idx]"
   ]
  },
  {
   "cell_type": "code",
   "execution_count": 132,
   "metadata": {},
   "outputs": [
    {
     "data": {
      "text/plain": [
       "(615512, 12)"
      ]
     },
     "execution_count": 132,
     "metadata": {},
     "output_type": "execute_result"
    }
   ],
   "source": [
    "balanced_training_feat.shape"
   ]
  },
  {
   "cell_type": "code",
   "execution_count": 70,
   "metadata": {},
   "outputs": [
    {
     "data": {
      "text/plain": [
       "RandomForestClassifier(n_jobs=-1)"
      ]
     },
     "execution_count": 70,
     "metadata": {},
     "output_type": "execute_result"
    }
   ],
   "source": [
    "clf = RandomForestClassifier(n_estimators=100, n_jobs = -1)\n",
    "#clf = xgb.XGBClassifier(n_estimators = 100, objective = 'binary:logistic', n_jobs = -1)\n",
    "clf.fit(balanced_training_feat,balanced_training_labels)"
   ]
  },
  {
   "cell_type": "code",
   "execution_count": 71,
   "metadata": {
    "id": "Lc6zdwteK1Kj"
   },
   "outputs": [],
   "source": [
    "predictions_rfc = list(clf.predict(test_feat))\n",
    "predictions_rfc = list(zip(range(len(testing_set)), predictions_rfc))\n",
    "\n",
    "prediction_rfc = pd.DataFrame(predictions_rfc,columns=['id','category'])"
   ]
  },
  {
   "cell_type": "code",
   "execution_count": 72,
   "metadata": {
    "id": "dVFpb8mYLSGQ"
   },
   "outputs": [],
   "source": [
    "prediction_rfc.to_csv('pred_rfc_100_balnced.csv',index=False)"
   ]
  },
  {
   "cell_type": "code",
   "execution_count": null,
   "metadata": {},
   "outputs": [],
   "source": []
  }
 ],
 "metadata": {
  "accelerator": "GPU",
  "colab": {
   "name": "MLNS - Kaggle.ipynb",
   "provenance": []
  },
  "kernelspec": {
   "display_name": "Python 3",
   "language": "python",
   "name": "python3"
  },
  "language_info": {
   "codemirror_mode": {
    "name": "ipython",
    "version": 3
   },
   "file_extension": ".py",
   "mimetype": "text/x-python",
   "name": "python",
   "nbconvert_exporter": "python",
   "pygments_lexer": "ipython3",
   "version": "3.7.3"
  },
  "widgets": {
   "application/vnd.jupyter.widget-state+json": {
    "005eefb7f4c84ba6925c4fd18837c05d": {
     "model_module": "@jupyter-widgets/base",
     "model_name": "LayoutModel",
     "state": {
      "_model_module": "@jupyter-widgets/base",
      "_model_module_version": "1.2.0",
      "_model_name": "LayoutModel",
      "_view_count": null,
      "_view_module": "@jupyter-widgets/base",
      "_view_module_version": "1.2.0",
      "_view_name": "LayoutView",
      "align_content": null,
      "align_items": null,
      "align_self": null,
      "border": null,
      "bottom": null,
      "display": null,
      "flex": null,
      "flex_flow": null,
      "grid_area": null,
      "grid_auto_columns": null,
      "grid_auto_flow": null,
      "grid_auto_rows": null,
      "grid_column": null,
      "grid_gap": null,
      "grid_row": null,
      "grid_template_areas": null,
      "grid_template_columns": null,
      "grid_template_rows": null,
      "height": null,
      "justify_content": null,
      "justify_items": null,
      "left": null,
      "margin": null,
      "max_height": null,
      "max_width": null,
      "min_height": null,
      "min_width": null,
      "object_fit": null,
      "object_position": null,
      "order": null,
      "overflow": null,
      "overflow_x": null,
      "overflow_y": null,
      "padding": null,
      "right": null,
      "top": null,
      "visibility": null,
      "width": null
     }
    },
    "031fad77a09d4d9ba80e2bbaca1693b3": {
     "model_module": "@jupyter-widgets/controls",
     "model_name": "DescriptionStyleModel",
     "state": {
      "_model_module": "@jupyter-widgets/controls",
      "_model_module_version": "1.5.0",
      "_model_name": "DescriptionStyleModel",
      "_view_count": null,
      "_view_module": "@jupyter-widgets/base",
      "_view_module_version": "1.2.0",
      "_view_name": "StyleView",
      "description_width": ""
     }
    },
    "03d75bdbf9d5421e804068fb976d42eb": {
     "model_module": "@jupyter-widgets/controls",
     "model_name": "HTMLModel",
     "state": {
      "_dom_classes": [],
      "_model_module": "@jupyter-widgets/controls",
      "_model_module_version": "1.5.0",
      "_model_name": "HTMLModel",
      "_view_count": null,
      "_view_module": "@jupyter-widgets/controls",
      "_view_module_version": "1.5.0",
      "_view_name": "HTMLView",
      "description": "",
      "description_tooltip": null,
      "layout": "IPY_MODEL_74db41183f324fb8b8c561dbe71b4ec7",
      "placeholder": "​",
      "style": "IPY_MODEL_ee854fcb0f3240f49b2c1dcbabad6a3a",
      "value": " 4499/22513 [01:06&lt;03:04, 97.76it/s]"
     }
    },
    "03e4f050a6204dc986f0b6ff3b629284": {
     "model_module": "@jupyter-widgets/base",
     "model_name": "LayoutModel",
     "state": {
      "_model_module": "@jupyter-widgets/base",
      "_model_module_version": "1.2.0",
      "_model_name": "LayoutModel",
      "_view_count": null,
      "_view_module": "@jupyter-widgets/base",
      "_view_module_version": "1.2.0",
      "_view_name": "LayoutView",
      "align_content": null,
      "align_items": null,
      "align_self": null,
      "border": null,
      "bottom": null,
      "display": null,
      "flex": null,
      "flex_flow": null,
      "grid_area": null,
      "grid_auto_columns": null,
      "grid_auto_flow": null,
      "grid_auto_rows": null,
      "grid_column": null,
      "grid_gap": null,
      "grid_row": null,
      "grid_template_areas": null,
      "grid_template_columns": null,
      "grid_template_rows": null,
      "height": null,
      "justify_content": null,
      "justify_items": null,
      "left": null,
      "margin": null,
      "max_height": null,
      "max_width": null,
      "min_height": null,
      "min_width": null,
      "object_fit": null,
      "object_position": null,
      "order": null,
      "overflow": null,
      "overflow_x": null,
      "overflow_y": null,
      "padding": null,
      "right": null,
      "top": null,
      "visibility": null,
      "width": null
     }
    },
    "06849ae5a4614e1899abbb0f40fbb8af": {
     "model_module": "@jupyter-widgets/controls",
     "model_name": "HBoxModel",
     "state": {
      "_dom_classes": [],
      "_model_module": "@jupyter-widgets/controls",
      "_model_module_version": "1.5.0",
      "_model_name": "HBoxModel",
      "_view_count": null,
      "_view_module": "@jupyter-widgets/controls",
      "_view_module_version": "1.5.0",
      "_view_name": "HBoxView",
      "box_style": "",
      "children": [
       "IPY_MODEL_470fbd63c5804f37a50fc8450a9d0beb",
       "IPY_MODEL_3f7eddf26fb14bbf8efab99f17ff50ca"
      ],
      "layout": "IPY_MODEL_8e319832ebae490abefc47b357965e3e"
     }
    },
    "086656ce691b43f58f58779598ffb280": {
     "model_module": "@jupyter-widgets/base",
     "model_name": "LayoutModel",
     "state": {
      "_model_module": "@jupyter-widgets/base",
      "_model_module_version": "1.2.0",
      "_model_name": "LayoutModel",
      "_view_count": null,
      "_view_module": "@jupyter-widgets/base",
      "_view_module_version": "1.2.0",
      "_view_name": "LayoutView",
      "align_content": null,
      "align_items": null,
      "align_self": null,
      "border": null,
      "bottom": null,
      "display": null,
      "flex": null,
      "flex_flow": null,
      "grid_area": null,
      "grid_auto_columns": null,
      "grid_auto_flow": null,
      "grid_auto_rows": null,
      "grid_column": null,
      "grid_gap": null,
      "grid_row": null,
      "grid_template_areas": null,
      "grid_template_columns": null,
      "grid_template_rows": null,
      "height": null,
      "justify_content": null,
      "justify_items": null,
      "left": null,
      "margin": null,
      "max_height": null,
      "max_width": null,
      "min_height": null,
      "min_width": null,
      "object_fit": null,
      "object_position": null,
      "order": null,
      "overflow": null,
      "overflow_x": null,
      "overflow_y": null,
      "padding": null,
      "right": null,
      "top": null,
      "visibility": null,
      "width": null
     }
    },
    "09659b16f7cc4f22971ff9e0ca90d427": {
     "model_module": "@jupyter-widgets/controls",
     "model_name": "HTMLModel",
     "state": {
      "_dom_classes": [],
      "_model_module": "@jupyter-widgets/controls",
      "_model_module_version": "1.5.0",
      "_model_name": "HTMLModel",
      "_view_count": null,
      "_view_module": "@jupyter-widgets/controls",
      "_view_module_version": "1.5.0",
      "_view_name": "HTMLView",
      "description": "",
      "description_tooltip": null,
      "layout": "IPY_MODEL_66dc95fec30a4843a4a4ff19b5938b7b",
      "placeholder": "​",
      "style": "IPY_MODEL_2644d7cbab7542da806cd40b02458211",
      "value": " 32648/32648 [03:06&lt;00:00, 174.97it/s]"
     }
    },
    "09d7e9318a4243b981639414d3bc609e": {
     "model_module": "@jupyter-widgets/controls",
     "model_name": "FloatProgressModel",
     "state": {
      "_dom_classes": [],
      "_model_module": "@jupyter-widgets/controls",
      "_model_module_version": "1.5.0",
      "_model_name": "FloatProgressModel",
      "_view_count": null,
      "_view_module": "@jupyter-widgets/controls",
      "_view_module_version": "1.5.0",
      "_view_name": "ProgressView",
      "bar_style": "success",
      "description": "100%",
      "description_tooltip": null,
      "layout": "IPY_MODEL_b1f2fd472ef84c09baf357e0d1edf35a",
      "max": 27770,
      "min": 0,
      "orientation": "horizontal",
      "style": "IPY_MODEL_5abf4b18d3904d388c39a9e0ad3b437a",
      "value": 27770
     }
    },
    "0a02cedd13974a31b17b54f2f29b22b9": {
     "model_module": "@jupyter-widgets/controls",
     "model_name": "HBoxModel",
     "state": {
      "_dom_classes": [],
      "_model_module": "@jupyter-widgets/controls",
      "_model_module_version": "1.5.0",
      "_model_name": "HBoxModel",
      "_view_count": null,
      "_view_module": "@jupyter-widgets/controls",
      "_view_module_version": "1.5.0",
      "_view_name": "HBoxView",
      "box_style": "",
      "children": [
       "IPY_MODEL_f0d3846b0bf34ca8b5446f895477b82c",
       "IPY_MODEL_14e83028659844ceb1b66b1693e12b14"
      ],
      "layout": "IPY_MODEL_6f81596c374d445c9dc30ac63c28d96f"
     }
    },
    "0db6d3c1dd23460a8e36d4cd9176e893": {
     "model_module": "@jupyter-widgets/controls",
     "model_name": "ProgressStyleModel",
     "state": {
      "_model_module": "@jupyter-widgets/controls",
      "_model_module_version": "1.5.0",
      "_model_name": "ProgressStyleModel",
      "_view_count": null,
      "_view_module": "@jupyter-widgets/base",
      "_view_module_version": "1.2.0",
      "_view_name": "StyleView",
      "bar_color": null,
      "description_width": "initial"
     }
    },
    "14e83028659844ceb1b66b1693e12b14": {
     "model_module": "@jupyter-widgets/controls",
     "model_name": "HTMLModel",
     "state": {
      "_dom_classes": [],
      "_model_module": "@jupyter-widgets/controls",
      "_model_module_version": "1.5.0",
      "_model_name": "HTMLModel",
      "_view_count": null,
      "_view_module": "@jupyter-widgets/controls",
      "_view_module_version": "1.5.0",
      "_view_name": "HTMLView",
      "description": "",
      "description_tooltip": null,
      "layout": "IPY_MODEL_3881d70ff51f475a9e9deeb8a5fe318e",
      "placeholder": "​",
      "style": "IPY_MODEL_031fad77a09d4d9ba80e2bbaca1693b3",
      "value": " 9004/9004 [01:07&lt;00:00, 132.89it/s]"
     }
    },
    "1747aa9b20bf4d9fa29013db4c766052": {
     "model_module": "@jupyter-widgets/base",
     "model_name": "LayoutModel",
     "state": {
      "_model_module": "@jupyter-widgets/base",
      "_model_module_version": "1.2.0",
      "_model_name": "LayoutModel",
      "_view_count": null,
      "_view_module": "@jupyter-widgets/base",
      "_view_module_version": "1.2.0",
      "_view_name": "LayoutView",
      "align_content": null,
      "align_items": null,
      "align_self": null,
      "border": null,
      "bottom": null,
      "display": null,
      "flex": null,
      "flex_flow": null,
      "grid_area": null,
      "grid_auto_columns": null,
      "grid_auto_flow": null,
      "grid_auto_rows": null,
      "grid_column": null,
      "grid_gap": null,
      "grid_row": null,
      "grid_template_areas": null,
      "grid_template_columns": null,
      "grid_template_rows": null,
      "height": null,
      "justify_content": null,
      "justify_items": null,
      "left": null,
      "margin": null,
      "max_height": null,
      "max_width": null,
      "min_height": null,
      "min_width": null,
      "object_fit": null,
      "object_position": null,
      "order": null,
      "overflow": null,
      "overflow_x": null,
      "overflow_y": null,
      "padding": null,
      "right": null,
      "top": null,
      "visibility": null,
      "width": null
     }
    },
    "185769ce1be042898871b7dc9723217e": {
     "model_module": "@jupyter-widgets/base",
     "model_name": "LayoutModel",
     "state": {
      "_model_module": "@jupyter-widgets/base",
      "_model_module_version": "1.2.0",
      "_model_name": "LayoutModel",
      "_view_count": null,
      "_view_module": "@jupyter-widgets/base",
      "_view_module_version": "1.2.0",
      "_view_name": "LayoutView",
      "align_content": null,
      "align_items": null,
      "align_self": null,
      "border": null,
      "bottom": null,
      "display": null,
      "flex": null,
      "flex_flow": null,
      "grid_area": null,
      "grid_auto_columns": null,
      "grid_auto_flow": null,
      "grid_auto_rows": null,
      "grid_column": null,
      "grid_gap": null,
      "grid_row": null,
      "grid_template_areas": null,
      "grid_template_columns": null,
      "grid_template_rows": null,
      "height": null,
      "justify_content": null,
      "justify_items": null,
      "left": null,
      "margin": null,
      "max_height": null,
      "max_width": null,
      "min_height": null,
      "min_width": null,
      "object_fit": null,
      "object_position": null,
      "order": null,
      "overflow": null,
      "overflow_x": null,
      "overflow_y": null,
      "padding": null,
      "right": null,
      "top": null,
      "visibility": null,
      "width": null
     }
    },
    "18fa501578e3425799e431dd6936298d": {
     "model_module": "@jupyter-widgets/controls",
     "model_name": "HTMLModel",
     "state": {
      "_dom_classes": [],
      "_model_module": "@jupyter-widgets/controls",
      "_model_module_version": "1.5.0",
      "_model_name": "HTMLModel",
      "_view_count": null,
      "_view_module": "@jupyter-widgets/controls",
      "_view_module_version": "1.5.0",
      "_view_name": "HTMLView",
      "description": "",
      "description_tooltip": null,
      "layout": "IPY_MODEL_185769ce1be042898871b7dc9723217e",
      "placeholder": "​",
      "style": "IPY_MODEL_bd9a339a53134301b8e1631392edf46f",
      "value": " 27770/27770 [15:17&lt;00:00, 30.27it/s]"
     }
    },
    "1962ea10445b479ab60dbb1020ee56d6": {
     "model_module": "@jupyter-widgets/base",
     "model_name": "LayoutModel",
     "state": {
      "_model_module": "@jupyter-widgets/base",
      "_model_module_version": "1.2.0",
      "_model_name": "LayoutModel",
      "_view_count": null,
      "_view_module": "@jupyter-widgets/base",
      "_view_module_version": "1.2.0",
      "_view_name": "LayoutView",
      "align_content": null,
      "align_items": null,
      "align_self": null,
      "border": null,
      "bottom": null,
      "display": null,
      "flex": null,
      "flex_flow": null,
      "grid_area": null,
      "grid_auto_columns": null,
      "grid_auto_flow": null,
      "grid_auto_rows": null,
      "grid_column": null,
      "grid_gap": null,
      "grid_row": null,
      "grid_template_areas": null,
      "grid_template_columns": null,
      "grid_template_rows": null,
      "height": null,
      "justify_content": null,
      "justify_items": null,
      "left": null,
      "margin": null,
      "max_height": null,
      "max_width": null,
      "min_height": null,
      "min_width": null,
      "object_fit": null,
      "object_position": null,
      "order": null,
      "overflow": null,
      "overflow_x": null,
      "overflow_y": null,
      "padding": null,
      "right": null,
      "top": null,
      "visibility": null,
      "width": null
     }
    },
    "209c9252c4cb415aa2381d44a50a66b6": {
     "model_module": "@jupyter-widgets/controls",
     "model_name": "DescriptionStyleModel",
     "state": {
      "_model_module": "@jupyter-widgets/controls",
      "_model_module_version": "1.5.0",
      "_model_name": "DescriptionStyleModel",
      "_view_count": null,
      "_view_module": "@jupyter-widgets/base",
      "_view_module_version": "1.2.0",
      "_view_name": "StyleView",
      "description_width": ""
     }
    },
    "21e8865fa86c4d6283228aa6f10c0892": {
     "model_module": "@jupyter-widgets/base",
     "model_name": "LayoutModel",
     "state": {
      "_model_module": "@jupyter-widgets/base",
      "_model_module_version": "1.2.0",
      "_model_name": "LayoutModel",
      "_view_count": null,
      "_view_module": "@jupyter-widgets/base",
      "_view_module_version": "1.2.0",
      "_view_name": "LayoutView",
      "align_content": null,
      "align_items": null,
      "align_self": null,
      "border": null,
      "bottom": null,
      "display": null,
      "flex": null,
      "flex_flow": null,
      "grid_area": null,
      "grid_auto_columns": null,
      "grid_auto_flow": null,
      "grid_auto_rows": null,
      "grid_column": null,
      "grid_gap": null,
      "grid_row": null,
      "grid_template_areas": null,
      "grid_template_columns": null,
      "grid_template_rows": null,
      "height": null,
      "justify_content": null,
      "justify_items": null,
      "left": null,
      "margin": null,
      "max_height": null,
      "max_width": null,
      "min_height": null,
      "min_width": null,
      "object_fit": null,
      "object_position": null,
      "order": null,
      "overflow": null,
      "overflow_x": null,
      "overflow_y": null,
      "padding": null,
      "right": null,
      "top": null,
      "visibility": null,
      "width": null
     }
    },
    "2209824eb28f49789eab388a08f540e4": {
     "model_module": "@jupyter-widgets/controls",
     "model_name": "HBoxModel",
     "state": {
      "_dom_classes": [],
      "_model_module": "@jupyter-widgets/controls",
      "_model_module_version": "1.5.0",
      "_model_name": "HBoxModel",
      "_view_count": null,
      "_view_module": "@jupyter-widgets/controls",
      "_view_module_version": "1.5.0",
      "_view_name": "HBoxView",
      "box_style": "",
      "children": [
       "IPY_MODEL_cd276d343cfe4ddf9f7793e12c4b1a1c",
       "IPY_MODEL_2c7d6d2497564163835a1b72cc325fa4"
      ],
      "layout": "IPY_MODEL_fd37db407cbc485590ceddc35ba161cd"
     }
    },
    "2644d7cbab7542da806cd40b02458211": {
     "model_module": "@jupyter-widgets/controls",
     "model_name": "DescriptionStyleModel",
     "state": {
      "_model_module": "@jupyter-widgets/controls",
      "_model_module_version": "1.5.0",
      "_model_name": "DescriptionStyleModel",
      "_view_count": null,
      "_view_module": "@jupyter-widgets/base",
      "_view_module_version": "1.2.0",
      "_view_name": "StyleView",
      "description_width": ""
     }
    },
    "29b112c26dee418aa37d2cfa62b5761c": {
     "model_module": "@jupyter-widgets/controls",
     "model_name": "FloatProgressModel",
     "state": {
      "_dom_classes": [],
      "_model_module": "@jupyter-widgets/controls",
      "_model_module_version": "1.5.0",
      "_model_name": "FloatProgressModel",
      "_view_count": null,
      "_view_module": "@jupyter-widgets/controls",
      "_view_module_version": "1.5.0",
      "_view_name": "ProgressView",
      "bar_style": "success",
      "description": "100%",
      "description_tooltip": null,
      "layout": "IPY_MODEL_c5ca7bf38c704ce5893cde257ffaad4f",
      "max": 32648,
      "min": 0,
      "orientation": "horizontal",
      "style": "IPY_MODEL_0db6d3c1dd23460a8e36d4cd9176e893",
      "value": 32648
     }
    },
    "2c7d6d2497564163835a1b72cc325fa4": {
     "model_module": "@jupyter-widgets/controls",
     "model_name": "HTMLModel",
     "state": {
      "_dom_classes": [],
      "_model_module": "@jupyter-widgets/controls",
      "_model_module_version": "1.5.0",
      "_model_name": "HTMLModel",
      "_view_count": null,
      "_view_module": "@jupyter-widgets/controls",
      "_view_module_version": "1.5.0",
      "_view_name": "HTMLView",
      "description": "",
      "description_tooltip": null,
      "layout": "IPY_MODEL_6db170f5b6aa4daf8dcad6581f14fa2b",
      "placeholder": "​",
      "style": "IPY_MODEL_d703fc1dd1904983b6e3ef9d99da67f4",
      "value": " 32648/32648 [00:33&lt;00:00, 971.59it/s]"
     }
    },
    "32817117ba3f42e48560f73379bb750f": {
     "model_module": "@jupyter-widgets/controls",
     "model_name": "FloatProgressModel",
     "state": {
      "_dom_classes": [],
      "_model_module": "@jupyter-widgets/controls",
      "_model_module_version": "1.5.0",
      "_model_name": "FloatProgressModel",
      "_view_count": null,
      "_view_module": "@jupyter-widgets/controls",
      "_view_module_version": "1.5.0",
      "_view_name": "ProgressView",
      "bar_style": "success",
      "description": "100%",
      "description_tooltip": null,
      "layout": "IPY_MODEL_1962ea10445b479ab60dbb1020ee56d6",
      "max": 9004,
      "min": 0,
      "orientation": "horizontal",
      "style": "IPY_MODEL_83907bc67b70492498af80a7ba2bf0d2",
      "value": 9004
     }
    },
    "3368cec0d9d64288a087323499dbfabd": {
     "model_module": "@jupyter-widgets/controls",
     "model_name": "ProgressStyleModel",
     "state": {
      "_model_module": "@jupyter-widgets/controls",
      "_model_module_version": "1.5.0",
      "_model_name": "ProgressStyleModel",
      "_view_count": null,
      "_view_module": "@jupyter-widgets/base",
      "_view_module_version": "1.2.0",
      "_view_name": "StyleView",
      "bar_color": null,
      "description_width": "initial"
     }
    },
    "3881d70ff51f475a9e9deeb8a5fe318e": {
     "model_module": "@jupyter-widgets/base",
     "model_name": "LayoutModel",
     "state": {
      "_model_module": "@jupyter-widgets/base",
      "_model_module_version": "1.2.0",
      "_model_name": "LayoutModel",
      "_view_count": null,
      "_view_module": "@jupyter-widgets/base",
      "_view_module_version": "1.2.0",
      "_view_name": "LayoutView",
      "align_content": null,
      "align_items": null,
      "align_self": null,
      "border": null,
      "bottom": null,
      "display": null,
      "flex": null,
      "flex_flow": null,
      "grid_area": null,
      "grid_auto_columns": null,
      "grid_auto_flow": null,
      "grid_auto_rows": null,
      "grid_column": null,
      "grid_gap": null,
      "grid_row": null,
      "grid_template_areas": null,
      "grid_template_columns": null,
      "grid_template_rows": null,
      "height": null,
      "justify_content": null,
      "justify_items": null,
      "left": null,
      "margin": null,
      "max_height": null,
      "max_width": null,
      "min_height": null,
      "min_width": null,
      "object_fit": null,
      "object_position": null,
      "order": null,
      "overflow": null,
      "overflow_x": null,
      "overflow_y": null,
      "padding": null,
      "right": null,
      "top": null,
      "visibility": null,
      "width": null
     }
    },
    "3f7eddf26fb14bbf8efab99f17ff50ca": {
     "model_module": "@jupyter-widgets/controls",
     "model_name": "HTMLModel",
     "state": {
      "_dom_classes": [],
      "_model_module": "@jupyter-widgets/controls",
      "_model_module_version": "1.5.0",
      "_model_name": "HTMLModel",
      "_view_count": null,
      "_view_module": "@jupyter-widgets/controls",
      "_view_module_version": "1.5.0",
      "_view_name": "HTMLView",
      "description": "",
      "description_tooltip": null,
      "layout": "IPY_MODEL_ff765f16596042b9a2bc413fc6d1d8c3",
      "placeholder": "​",
      "style": "IPY_MODEL_5bd1b7dbbc494ad19bfbdcac8167be54",
      "value": " 9004/9004 [00:06&lt;00:00, 1354.15it/s]"
     }
    },
    "44c6e5615f94499dae1679c674ef8d52": {
     "model_module": "@jupyter-widgets/controls",
     "model_name": "FloatProgressModel",
     "state": {
      "_dom_classes": [],
      "_model_module": "@jupyter-widgets/controls",
      "_model_module_version": "1.5.0",
      "_model_name": "FloatProgressModel",
      "_view_count": null,
      "_view_module": "@jupyter-widgets/controls",
      "_view_module_version": "1.5.0",
      "_view_name": "ProgressView",
      "bar_style": "danger",
      "description": " 20%",
      "description_tooltip": null,
      "layout": "IPY_MODEL_ae0e034ef5db443c80c908d1929008e1",
      "max": 22513,
      "min": 0,
      "orientation": "horizontal",
      "style": "IPY_MODEL_b3d42b2d5d6d43fd93875eef81d697fe",
      "value": 4499
     }
    },
    "46c649bab6a543ebbf576a9ced7eee35": {
     "model_module": "@jupyter-widgets/controls",
     "model_name": "DescriptionStyleModel",
     "state": {
      "_model_module": "@jupyter-widgets/controls",
      "_model_module_version": "1.5.0",
      "_model_name": "DescriptionStyleModel",
      "_view_count": null,
      "_view_module": "@jupyter-widgets/base",
      "_view_module_version": "1.2.0",
      "_view_name": "StyleView",
      "description_width": ""
     }
    },
    "470fbd63c5804f37a50fc8450a9d0beb": {
     "model_module": "@jupyter-widgets/controls",
     "model_name": "FloatProgressModel",
     "state": {
      "_dom_classes": [],
      "_model_module": "@jupyter-widgets/controls",
      "_model_module_version": "1.5.0",
      "_model_name": "FloatProgressModel",
      "_view_count": null,
      "_view_module": "@jupyter-widgets/controls",
      "_view_module_version": "1.5.0",
      "_view_name": "ProgressView",
      "bar_style": "success",
      "description": "100%",
      "description_tooltip": null,
      "layout": "IPY_MODEL_086656ce691b43f58f58779598ffb280",
      "max": 9004,
      "min": 0,
      "orientation": "horizontal",
      "style": "IPY_MODEL_7c4bd7ed935c47bab3a2fef31bec079c",
      "value": 9004
     }
    },
    "4c3927f7133041789a7f3458cf8fdc14": {
     "model_module": "@jupyter-widgets/base",
     "model_name": "LayoutModel",
     "state": {
      "_model_module": "@jupyter-widgets/base",
      "_model_module_version": "1.2.0",
      "_model_name": "LayoutModel",
      "_view_count": null,
      "_view_module": "@jupyter-widgets/base",
      "_view_module_version": "1.2.0",
      "_view_name": "LayoutView",
      "align_content": null,
      "align_items": null,
      "align_self": null,
      "border": null,
      "bottom": null,
      "display": null,
      "flex": null,
      "flex_flow": null,
      "grid_area": null,
      "grid_auto_columns": null,
      "grid_auto_flow": null,
      "grid_auto_rows": null,
      "grid_column": null,
      "grid_gap": null,
      "grid_row": null,
      "grid_template_areas": null,
      "grid_template_columns": null,
      "grid_template_rows": null,
      "height": null,
      "justify_content": null,
      "justify_items": null,
      "left": null,
      "margin": null,
      "max_height": null,
      "max_width": null,
      "min_height": null,
      "min_width": null,
      "object_fit": null,
      "object_position": null,
      "order": null,
      "overflow": null,
      "overflow_x": null,
      "overflow_y": null,
      "padding": null,
      "right": null,
      "top": null,
      "visibility": null,
      "width": null
     }
    },
    "517a163b6ddb492dba558e57f35744fc": {
     "model_module": "@jupyter-widgets/base",
     "model_name": "LayoutModel",
     "state": {
      "_model_module": "@jupyter-widgets/base",
      "_model_module_version": "1.2.0",
      "_model_name": "LayoutModel",
      "_view_count": null,
      "_view_module": "@jupyter-widgets/base",
      "_view_module_version": "1.2.0",
      "_view_name": "LayoutView",
      "align_content": null,
      "align_items": null,
      "align_self": null,
      "border": null,
      "bottom": null,
      "display": null,
      "flex": null,
      "flex_flow": null,
      "grid_area": null,
      "grid_auto_columns": null,
      "grid_auto_flow": null,
      "grid_auto_rows": null,
      "grid_column": null,
      "grid_gap": null,
      "grid_row": null,
      "grid_template_areas": null,
      "grid_template_columns": null,
      "grid_template_rows": null,
      "height": null,
      "justify_content": null,
      "justify_items": null,
      "left": null,
      "margin": null,
      "max_height": null,
      "max_width": null,
      "min_height": null,
      "min_width": null,
      "object_fit": null,
      "object_position": null,
      "order": null,
      "overflow": null,
      "overflow_x": null,
      "overflow_y": null,
      "padding": null,
      "right": null,
      "top": null,
      "visibility": null,
      "width": null
     }
    },
    "58d6769093114200b52f7c04e3df85c2": {
     "model_module": "@jupyter-widgets/controls",
     "model_name": "DescriptionStyleModel",
     "state": {
      "_model_module": "@jupyter-widgets/controls",
      "_model_module_version": "1.5.0",
      "_model_name": "DescriptionStyleModel",
      "_view_count": null,
      "_view_module": "@jupyter-widgets/base",
      "_view_module_version": "1.2.0",
      "_view_name": "StyleView",
      "description_width": ""
     }
    },
    "5abf4b18d3904d388c39a9e0ad3b437a": {
     "model_module": "@jupyter-widgets/controls",
     "model_name": "ProgressStyleModel",
     "state": {
      "_model_module": "@jupyter-widgets/controls",
      "_model_module_version": "1.5.0",
      "_model_name": "ProgressStyleModel",
      "_view_count": null,
      "_view_module": "@jupyter-widgets/base",
      "_view_module_version": "1.2.0",
      "_view_name": "StyleView",
      "bar_color": null,
      "description_width": "initial"
     }
    },
    "5b5313df4ddf439389f497bf506c6d26": {
     "model_module": "@jupyter-widgets/controls",
     "model_name": "ProgressStyleModel",
     "state": {
      "_model_module": "@jupyter-widgets/controls",
      "_model_module_version": "1.5.0",
      "_model_name": "ProgressStyleModel",
      "_view_count": null,
      "_view_module": "@jupyter-widgets/base",
      "_view_module_version": "1.2.0",
      "_view_name": "StyleView",
      "bar_color": null,
      "description_width": "initial"
     }
    },
    "5bd1b7dbbc494ad19bfbdcac8167be54": {
     "model_module": "@jupyter-widgets/controls",
     "model_name": "DescriptionStyleModel",
     "state": {
      "_model_module": "@jupyter-widgets/controls",
      "_model_module_version": "1.5.0",
      "_model_name": "DescriptionStyleModel",
      "_view_count": null,
      "_view_module": "@jupyter-widgets/base",
      "_view_module_version": "1.2.0",
      "_view_name": "StyleView",
      "description_width": ""
     }
    },
    "63bfeacf29c5450995c26beb755bd73d": {
     "model_module": "@jupyter-widgets/controls",
     "model_name": "ProgressStyleModel",
     "state": {
      "_model_module": "@jupyter-widgets/controls",
      "_model_module_version": "1.5.0",
      "_model_name": "ProgressStyleModel",
      "_view_count": null,
      "_view_module": "@jupyter-widgets/base",
      "_view_module_version": "1.2.0",
      "_view_name": "StyleView",
      "bar_color": null,
      "description_width": "initial"
     }
    },
    "656de581d4b543aaa3c6361d1d249901": {
     "model_module": "@jupyter-widgets/base",
     "model_name": "LayoutModel",
     "state": {
      "_model_module": "@jupyter-widgets/base",
      "_model_module_version": "1.2.0",
      "_model_name": "LayoutModel",
      "_view_count": null,
      "_view_module": "@jupyter-widgets/base",
      "_view_module_version": "1.2.0",
      "_view_name": "LayoutView",
      "align_content": null,
      "align_items": null,
      "align_self": null,
      "border": null,
      "bottom": null,
      "display": null,
      "flex": null,
      "flex_flow": null,
      "grid_area": null,
      "grid_auto_columns": null,
      "grid_auto_flow": null,
      "grid_auto_rows": null,
      "grid_column": null,
      "grid_gap": null,
      "grid_row": null,
      "grid_template_areas": null,
      "grid_template_columns": null,
      "grid_template_rows": null,
      "height": null,
      "justify_content": null,
      "justify_items": null,
      "left": null,
      "margin": null,
      "max_height": null,
      "max_width": null,
      "min_height": null,
      "min_width": null,
      "object_fit": null,
      "object_position": null,
      "order": null,
      "overflow": null,
      "overflow_x": null,
      "overflow_y": null,
      "padding": null,
      "right": null,
      "top": null,
      "visibility": null,
      "width": null
     }
    },
    "65beada69dd84ba3aad4b5bbc40f9a07": {
     "model_module": "@jupyter-widgets/controls",
     "model_name": "HBoxModel",
     "state": {
      "_dom_classes": [],
      "_model_module": "@jupyter-widgets/controls",
      "_model_module_version": "1.5.0",
      "_model_name": "HBoxModel",
      "_view_count": null,
      "_view_module": "@jupyter-widgets/controls",
      "_view_module_version": "1.5.0",
      "_view_name": "HBoxView",
      "box_style": "",
      "children": [
       "IPY_MODEL_6b7407a3bed042a182f8c102e7821a99",
       "IPY_MODEL_d4b860869c784c5387fc57ac9abd1b96"
      ],
      "layout": "IPY_MODEL_8cd304d9e43c4693bd0fd3bbfce3a442"
     }
    },
    "66dc95fec30a4843a4a4ff19b5938b7b": {
     "model_module": "@jupyter-widgets/base",
     "model_name": "LayoutModel",
     "state": {
      "_model_module": "@jupyter-widgets/base",
      "_model_module_version": "1.2.0",
      "_model_name": "LayoutModel",
      "_view_count": null,
      "_view_module": "@jupyter-widgets/base",
      "_view_module_version": "1.2.0",
      "_view_name": "LayoutView",
      "align_content": null,
      "align_items": null,
      "align_self": null,
      "border": null,
      "bottom": null,
      "display": null,
      "flex": null,
      "flex_flow": null,
      "grid_area": null,
      "grid_auto_columns": null,
      "grid_auto_flow": null,
      "grid_auto_rows": null,
      "grid_column": null,
      "grid_gap": null,
      "grid_row": null,
      "grid_template_areas": null,
      "grid_template_columns": null,
      "grid_template_rows": null,
      "height": null,
      "justify_content": null,
      "justify_items": null,
      "left": null,
      "margin": null,
      "max_height": null,
      "max_width": null,
      "min_height": null,
      "min_width": null,
      "object_fit": null,
      "object_position": null,
      "order": null,
      "overflow": null,
      "overflow_x": null,
      "overflow_y": null,
      "padding": null,
      "right": null,
      "top": null,
      "visibility": null,
      "width": null
     }
    },
    "6b7407a3bed042a182f8c102e7821a99": {
     "model_module": "@jupyter-widgets/controls",
     "model_name": "FloatProgressModel",
     "state": {
      "_dom_classes": [],
      "_model_module": "@jupyter-widgets/controls",
      "_model_module_version": "1.5.0",
      "_model_name": "FloatProgressModel",
      "_view_count": null,
      "_view_module": "@jupyter-widgets/controls",
      "_view_module_version": "1.5.0",
      "_view_name": "ProgressView",
      "bar_style": "success",
      "description": "100%",
      "description_tooltip": null,
      "layout": "IPY_MODEL_722e999cf9434118bddeb25fca1fe04a",
      "max": 36022,
      "min": 0,
      "orientation": "horizontal",
      "style": "IPY_MODEL_fa5df94547554810bde47391b61c8895",
      "value": 36022
     }
    },
    "6b9526f671974c9d863a7e5d93bf4804": {
     "model_module": "@jupyter-widgets/base",
     "model_name": "LayoutModel",
     "state": {
      "_model_module": "@jupyter-widgets/base",
      "_model_module_version": "1.2.0",
      "_model_name": "LayoutModel",
      "_view_count": null,
      "_view_module": "@jupyter-widgets/base",
      "_view_module_version": "1.2.0",
      "_view_name": "LayoutView",
      "align_content": null,
      "align_items": null,
      "align_self": null,
      "border": null,
      "bottom": null,
      "display": null,
      "flex": null,
      "flex_flow": null,
      "grid_area": null,
      "grid_auto_columns": null,
      "grid_auto_flow": null,
      "grid_auto_rows": null,
      "grid_column": null,
      "grid_gap": null,
      "grid_row": null,
      "grid_template_areas": null,
      "grid_template_columns": null,
      "grid_template_rows": null,
      "height": null,
      "justify_content": null,
      "justify_items": null,
      "left": null,
      "margin": null,
      "max_height": null,
      "max_width": null,
      "min_height": null,
      "min_width": null,
      "object_fit": null,
      "object_position": null,
      "order": null,
      "overflow": null,
      "overflow_x": null,
      "overflow_y": null,
      "padding": null,
      "right": null,
      "top": null,
      "visibility": null,
      "width": null
     }
    },
    "6cdfede614fa42ce9d26f35ef36bb179": {
     "model_module": "@jupyter-widgets/base",
     "model_name": "LayoutModel",
     "state": {
      "_model_module": "@jupyter-widgets/base",
      "_model_module_version": "1.2.0",
      "_model_name": "LayoutModel",
      "_view_count": null,
      "_view_module": "@jupyter-widgets/base",
      "_view_module_version": "1.2.0",
      "_view_name": "LayoutView",
      "align_content": null,
      "align_items": null,
      "align_self": null,
      "border": null,
      "bottom": null,
      "display": null,
      "flex": null,
      "flex_flow": null,
      "grid_area": null,
      "grid_auto_columns": null,
      "grid_auto_flow": null,
      "grid_auto_rows": null,
      "grid_column": null,
      "grid_gap": null,
      "grid_row": null,
      "grid_template_areas": null,
      "grid_template_columns": null,
      "grid_template_rows": null,
      "height": null,
      "justify_content": null,
      "justify_items": null,
      "left": null,
      "margin": null,
      "max_height": null,
      "max_width": null,
      "min_height": null,
      "min_width": null,
      "object_fit": null,
      "object_position": null,
      "order": null,
      "overflow": null,
      "overflow_x": null,
      "overflow_y": null,
      "padding": null,
      "right": null,
      "top": null,
      "visibility": null,
      "width": null
     }
    },
    "6d70d9f32c124343a94037f3215194ef": {
     "model_module": "@jupyter-widgets/controls",
     "model_name": "ProgressStyleModel",
     "state": {
      "_model_module": "@jupyter-widgets/controls",
      "_model_module_version": "1.5.0",
      "_model_name": "ProgressStyleModel",
      "_view_count": null,
      "_view_module": "@jupyter-widgets/base",
      "_view_module_version": "1.2.0",
      "_view_name": "StyleView",
      "bar_color": null,
      "description_width": "initial"
     }
    },
    "6db170f5b6aa4daf8dcad6581f14fa2b": {
     "model_module": "@jupyter-widgets/base",
     "model_name": "LayoutModel",
     "state": {
      "_model_module": "@jupyter-widgets/base",
      "_model_module_version": "1.2.0",
      "_model_name": "LayoutModel",
      "_view_count": null,
      "_view_module": "@jupyter-widgets/base",
      "_view_module_version": "1.2.0",
      "_view_name": "LayoutView",
      "align_content": null,
      "align_items": null,
      "align_self": null,
      "border": null,
      "bottom": null,
      "display": null,
      "flex": null,
      "flex_flow": null,
      "grid_area": null,
      "grid_auto_columns": null,
      "grid_auto_flow": null,
      "grid_auto_rows": null,
      "grid_column": null,
      "grid_gap": null,
      "grid_row": null,
      "grid_template_areas": null,
      "grid_template_columns": null,
      "grid_template_rows": null,
      "height": null,
      "justify_content": null,
      "justify_items": null,
      "left": null,
      "margin": null,
      "max_height": null,
      "max_width": null,
      "min_height": null,
      "min_width": null,
      "object_fit": null,
      "object_position": null,
      "order": null,
      "overflow": null,
      "overflow_x": null,
      "overflow_y": null,
      "padding": null,
      "right": null,
      "top": null,
      "visibility": null,
      "width": null
     }
    },
    "6f81596c374d445c9dc30ac63c28d96f": {
     "model_module": "@jupyter-widgets/base",
     "model_name": "LayoutModel",
     "state": {
      "_model_module": "@jupyter-widgets/base",
      "_model_module_version": "1.2.0",
      "_model_name": "LayoutModel",
      "_view_count": null,
      "_view_module": "@jupyter-widgets/base",
      "_view_module_version": "1.2.0",
      "_view_name": "LayoutView",
      "align_content": null,
      "align_items": null,
      "align_self": null,
      "border": null,
      "bottom": null,
      "display": null,
      "flex": null,
      "flex_flow": null,
      "grid_area": null,
      "grid_auto_columns": null,
      "grid_auto_flow": null,
      "grid_auto_rows": null,
      "grid_column": null,
      "grid_gap": null,
      "grid_row": null,
      "grid_template_areas": null,
      "grid_template_columns": null,
      "grid_template_rows": null,
      "height": null,
      "justify_content": null,
      "justify_items": null,
      "left": null,
      "margin": null,
      "max_height": null,
      "max_width": null,
      "min_height": null,
      "min_width": null,
      "object_fit": null,
      "object_position": null,
      "order": null,
      "overflow": null,
      "overflow_x": null,
      "overflow_y": null,
      "padding": null,
      "right": null,
      "top": null,
      "visibility": null,
      "width": null
     }
    },
    "6fa91fcbd9784ff09a850313c0e61353": {
     "model_module": "@jupyter-widgets/controls",
     "model_name": "HBoxModel",
     "state": {
      "_dom_classes": [],
      "_model_module": "@jupyter-widgets/controls",
      "_model_module_version": "1.5.0",
      "_model_name": "HBoxModel",
      "_view_count": null,
      "_view_module": "@jupyter-widgets/controls",
      "_view_module_version": "1.5.0",
      "_view_name": "HBoxView",
      "box_style": "",
      "children": [
       "IPY_MODEL_44c6e5615f94499dae1679c674ef8d52",
       "IPY_MODEL_03d75bdbf9d5421e804068fb976d42eb"
      ],
      "layout": "IPY_MODEL_e96536cbfc664880b5f8afcbafb71789"
     }
    },
    "722e999cf9434118bddeb25fca1fe04a": {
     "model_module": "@jupyter-widgets/base",
     "model_name": "LayoutModel",
     "state": {
      "_model_module": "@jupyter-widgets/base",
      "_model_module_version": "1.2.0",
      "_model_name": "LayoutModel",
      "_view_count": null,
      "_view_module": "@jupyter-widgets/base",
      "_view_module_version": "1.2.0",
      "_view_name": "LayoutView",
      "align_content": null,
      "align_items": null,
      "align_self": null,
      "border": null,
      "bottom": null,
      "display": null,
      "flex": null,
      "flex_flow": null,
      "grid_area": null,
      "grid_auto_columns": null,
      "grid_auto_flow": null,
      "grid_auto_rows": null,
      "grid_column": null,
      "grid_gap": null,
      "grid_row": null,
      "grid_template_areas": null,
      "grid_template_columns": null,
      "grid_template_rows": null,
      "height": null,
      "justify_content": null,
      "justify_items": null,
      "left": null,
      "margin": null,
      "max_height": null,
      "max_width": null,
      "min_height": null,
      "min_width": null,
      "object_fit": null,
      "object_position": null,
      "order": null,
      "overflow": null,
      "overflow_x": null,
      "overflow_y": null,
      "padding": null,
      "right": null,
      "top": null,
      "visibility": null,
      "width": null
     }
    },
    "74db41183f324fb8b8c561dbe71b4ec7": {
     "model_module": "@jupyter-widgets/base",
     "model_name": "LayoutModel",
     "state": {
      "_model_module": "@jupyter-widgets/base",
      "_model_module_version": "1.2.0",
      "_model_name": "LayoutModel",
      "_view_count": null,
      "_view_module": "@jupyter-widgets/base",
      "_view_module_version": "1.2.0",
      "_view_name": "LayoutView",
      "align_content": null,
      "align_items": null,
      "align_self": null,
      "border": null,
      "bottom": null,
      "display": null,
      "flex": null,
      "flex_flow": null,
      "grid_area": null,
      "grid_auto_columns": null,
      "grid_auto_flow": null,
      "grid_auto_rows": null,
      "grid_column": null,
      "grid_gap": null,
      "grid_row": null,
      "grid_template_areas": null,
      "grid_template_columns": null,
      "grid_template_rows": null,
      "height": null,
      "justify_content": null,
      "justify_items": null,
      "left": null,
      "margin": null,
      "max_height": null,
      "max_width": null,
      "min_height": null,
      "min_width": null,
      "object_fit": null,
      "object_position": null,
      "order": null,
      "overflow": null,
      "overflow_x": null,
      "overflow_y": null,
      "padding": null,
      "right": null,
      "top": null,
      "visibility": null,
      "width": null
     }
    },
    "7c4bd7ed935c47bab3a2fef31bec079c": {
     "model_module": "@jupyter-widgets/controls",
     "model_name": "ProgressStyleModel",
     "state": {
      "_model_module": "@jupyter-widgets/controls",
      "_model_module_version": "1.5.0",
      "_model_name": "ProgressStyleModel",
      "_view_count": null,
      "_view_module": "@jupyter-widgets/base",
      "_view_module_version": "1.2.0",
      "_view_name": "StyleView",
      "bar_color": null,
      "description_width": "initial"
     }
    },
    "821bd04f817c45e3945d923301c49a7e": {
     "model_module": "@jupyter-widgets/controls",
     "model_name": "HBoxModel",
     "state": {
      "_dom_classes": [],
      "_model_module": "@jupyter-widgets/controls",
      "_model_module_version": "1.5.0",
      "_model_name": "HBoxModel",
      "_view_count": null,
      "_view_module": "@jupyter-widgets/controls",
      "_view_module_version": "1.5.0",
      "_view_name": "HBoxView",
      "box_style": "",
      "children": [
       "IPY_MODEL_09d7e9318a4243b981639414d3bc609e",
       "IPY_MODEL_cbb14c4fc6f749169922dc096f671aec"
      ],
      "layout": "IPY_MODEL_94a3589504c14b1093944a04dab71e6c"
     }
    },
    "83907bc67b70492498af80a7ba2bf0d2": {
     "model_module": "@jupyter-widgets/controls",
     "model_name": "ProgressStyleModel",
     "state": {
      "_model_module": "@jupyter-widgets/controls",
      "_model_module_version": "1.5.0",
      "_model_name": "ProgressStyleModel",
      "_view_count": null,
      "_view_module": "@jupyter-widgets/base",
      "_view_module_version": "1.2.0",
      "_view_name": "StyleView",
      "bar_color": null,
      "description_width": "initial"
     }
    },
    "86d38e58a5a74c8e8831e036109689da": {
     "model_module": "@jupyter-widgets/controls",
     "model_name": "FloatProgressModel",
     "state": {
      "_dom_classes": [],
      "_model_module": "@jupyter-widgets/controls",
      "_model_module_version": "1.5.0",
      "_model_name": "FloatProgressModel",
      "_view_count": null,
      "_view_module": "@jupyter-widgets/controls",
      "_view_module_version": "1.5.0",
      "_view_name": "ProgressView",
      "bar_style": "success",
      "description": "Computing transition probabilities: 100%",
      "description_tooltip": null,
      "layout": "IPY_MODEL_1747aa9b20bf4d9fa29013db4c766052",
      "max": 3168,
      "min": 0,
      "orientation": "horizontal",
      "style": "IPY_MODEL_3368cec0d9d64288a087323499dbfabd",
      "value": 3168
     }
    },
    "8a0f3e819f04455fa6771222971304b8": {
     "model_module": "@jupyter-widgets/base",
     "model_name": "LayoutModel",
     "state": {
      "_model_module": "@jupyter-widgets/base",
      "_model_module_version": "1.2.0",
      "_model_name": "LayoutModel",
      "_view_count": null,
      "_view_module": "@jupyter-widgets/base",
      "_view_module_version": "1.2.0",
      "_view_name": "LayoutView",
      "align_content": null,
      "align_items": null,
      "align_self": null,
      "border": null,
      "bottom": null,
      "display": null,
      "flex": null,
      "flex_flow": null,
      "grid_area": null,
      "grid_auto_columns": null,
      "grid_auto_flow": null,
      "grid_auto_rows": null,
      "grid_column": null,
      "grid_gap": null,
      "grid_row": null,
      "grid_template_areas": null,
      "grid_template_columns": null,
      "grid_template_rows": null,
      "height": null,
      "justify_content": null,
      "justify_items": null,
      "left": null,
      "margin": null,
      "max_height": null,
      "max_width": null,
      "min_height": null,
      "min_width": null,
      "object_fit": null,
      "object_position": null,
      "order": null,
      "overflow": null,
      "overflow_x": null,
      "overflow_y": null,
      "padding": null,
      "right": null,
      "top": null,
      "visibility": null,
      "width": null
     }
    },
    "8a314bc4bca94559b17ca8800273873b": {
     "model_module": "@jupyter-widgets/controls",
     "model_name": "ProgressStyleModel",
     "state": {
      "_model_module": "@jupyter-widgets/controls",
      "_model_module_version": "1.5.0",
      "_model_name": "ProgressStyleModel",
      "_view_count": null,
      "_view_module": "@jupyter-widgets/base",
      "_view_module_version": "1.2.0",
      "_view_name": "StyleView",
      "bar_color": null,
      "description_width": "initial"
     }
    },
    "8cd304d9e43c4693bd0fd3bbfce3a442": {
     "model_module": "@jupyter-widgets/base",
     "model_name": "LayoutModel",
     "state": {
      "_model_module": "@jupyter-widgets/base",
      "_model_module_version": "1.2.0",
      "_model_name": "LayoutModel",
      "_view_count": null,
      "_view_module": "@jupyter-widgets/base",
      "_view_module_version": "1.2.0",
      "_view_name": "LayoutView",
      "align_content": null,
      "align_items": null,
      "align_self": null,
      "border": null,
      "bottom": null,
      "display": null,
      "flex": null,
      "flex_flow": null,
      "grid_area": null,
      "grid_auto_columns": null,
      "grid_auto_flow": null,
      "grid_auto_rows": null,
      "grid_column": null,
      "grid_gap": null,
      "grid_row": null,
      "grid_template_areas": null,
      "grid_template_columns": null,
      "grid_template_rows": null,
      "height": null,
      "justify_content": null,
      "justify_items": null,
      "left": null,
      "margin": null,
      "max_height": null,
      "max_width": null,
      "min_height": null,
      "min_width": null,
      "object_fit": null,
      "object_position": null,
      "order": null,
      "overflow": null,
      "overflow_x": null,
      "overflow_y": null,
      "padding": null,
      "right": null,
      "top": null,
      "visibility": null,
      "width": null
     }
    },
    "8df26d46101b4d56ad645defb6c76bec": {
     "model_module": "@jupyter-widgets/base",
     "model_name": "LayoutModel",
     "state": {
      "_model_module": "@jupyter-widgets/base",
      "_model_module_version": "1.2.0",
      "_model_name": "LayoutModel",
      "_view_count": null,
      "_view_module": "@jupyter-widgets/base",
      "_view_module_version": "1.2.0",
      "_view_name": "LayoutView",
      "align_content": null,
      "align_items": null,
      "align_self": null,
      "border": null,
      "bottom": null,
      "display": null,
      "flex": null,
      "flex_flow": null,
      "grid_area": null,
      "grid_auto_columns": null,
      "grid_auto_flow": null,
      "grid_auto_rows": null,
      "grid_column": null,
      "grid_gap": null,
      "grid_row": null,
      "grid_template_areas": null,
      "grid_template_columns": null,
      "grid_template_rows": null,
      "height": null,
      "justify_content": null,
      "justify_items": null,
      "left": null,
      "margin": null,
      "max_height": null,
      "max_width": null,
      "min_height": null,
      "min_width": null,
      "object_fit": null,
      "object_position": null,
      "order": null,
      "overflow": null,
      "overflow_x": null,
      "overflow_y": null,
      "padding": null,
      "right": null,
      "top": null,
      "visibility": null,
      "width": null
     }
    },
    "8e319832ebae490abefc47b357965e3e": {
     "model_module": "@jupyter-widgets/base",
     "model_name": "LayoutModel",
     "state": {
      "_model_module": "@jupyter-widgets/base",
      "_model_module_version": "1.2.0",
      "_model_name": "LayoutModel",
      "_view_count": null,
      "_view_module": "@jupyter-widgets/base",
      "_view_module_version": "1.2.0",
      "_view_name": "LayoutView",
      "align_content": null,
      "align_items": null,
      "align_self": null,
      "border": null,
      "bottom": null,
      "display": null,
      "flex": null,
      "flex_flow": null,
      "grid_area": null,
      "grid_auto_columns": null,
      "grid_auto_flow": null,
      "grid_auto_rows": null,
      "grid_column": null,
      "grid_gap": null,
      "grid_row": null,
      "grid_template_areas": null,
      "grid_template_columns": null,
      "grid_template_rows": null,
      "height": null,
      "justify_content": null,
      "justify_items": null,
      "left": null,
      "margin": null,
      "max_height": null,
      "max_width": null,
      "min_height": null,
      "min_width": null,
      "object_fit": null,
      "object_position": null,
      "order": null,
      "overflow": null,
      "overflow_x": null,
      "overflow_y": null,
      "padding": null,
      "right": null,
      "top": null,
      "visibility": null,
      "width": null
     }
    },
    "94a3589504c14b1093944a04dab71e6c": {
     "model_module": "@jupyter-widgets/base",
     "model_name": "LayoutModel",
     "state": {
      "_model_module": "@jupyter-widgets/base",
      "_model_module_version": "1.2.0",
      "_model_name": "LayoutModel",
      "_view_count": null,
      "_view_module": "@jupyter-widgets/base",
      "_view_module_version": "1.2.0",
      "_view_name": "LayoutView",
      "align_content": null,
      "align_items": null,
      "align_self": null,
      "border": null,
      "bottom": null,
      "display": null,
      "flex": null,
      "flex_flow": null,
      "grid_area": null,
      "grid_auto_columns": null,
      "grid_auto_flow": null,
      "grid_auto_rows": null,
      "grid_column": null,
      "grid_gap": null,
      "grid_row": null,
      "grid_template_areas": null,
      "grid_template_columns": null,
      "grid_template_rows": null,
      "height": null,
      "justify_content": null,
      "justify_items": null,
      "left": null,
      "margin": null,
      "max_height": null,
      "max_width": null,
      "min_height": null,
      "min_width": null,
      "object_fit": null,
      "object_position": null,
      "order": null,
      "overflow": null,
      "overflow_x": null,
      "overflow_y": null,
      "padding": null,
      "right": null,
      "top": null,
      "visibility": null,
      "width": null
     }
    },
    "99a95bf5bb064827ac404a825d2f482f": {
     "model_module": "@jupyter-widgets/base",
     "model_name": "LayoutModel",
     "state": {
      "_model_module": "@jupyter-widgets/base",
      "_model_module_version": "1.2.0",
      "_model_name": "LayoutModel",
      "_view_count": null,
      "_view_module": "@jupyter-widgets/base",
      "_view_module_version": "1.2.0",
      "_view_name": "LayoutView",
      "align_content": null,
      "align_items": null,
      "align_self": null,
      "border": null,
      "bottom": null,
      "display": null,
      "flex": null,
      "flex_flow": null,
      "grid_area": null,
      "grid_auto_columns": null,
      "grid_auto_flow": null,
      "grid_auto_rows": null,
      "grid_column": null,
      "grid_gap": null,
      "grid_row": null,
      "grid_template_areas": null,
      "grid_template_columns": null,
      "grid_template_rows": null,
      "height": null,
      "justify_content": null,
      "justify_items": null,
      "left": null,
      "margin": null,
      "max_height": null,
      "max_width": null,
      "min_height": null,
      "min_width": null,
      "object_fit": null,
      "object_position": null,
      "order": null,
      "overflow": null,
      "overflow_x": null,
      "overflow_y": null,
      "padding": null,
      "right": null,
      "top": null,
      "visibility": null,
      "width": null
     }
    },
    "9a122080d1ca47bcb7aaf888fd3ae1e6": {
     "model_module": "@jupyter-widgets/base",
     "model_name": "LayoutModel",
     "state": {
      "_model_module": "@jupyter-widgets/base",
      "_model_module_version": "1.2.0",
      "_model_name": "LayoutModel",
      "_view_count": null,
      "_view_module": "@jupyter-widgets/base",
      "_view_module_version": "1.2.0",
      "_view_name": "LayoutView",
      "align_content": null,
      "align_items": null,
      "align_self": null,
      "border": null,
      "bottom": null,
      "display": null,
      "flex": null,
      "flex_flow": null,
      "grid_area": null,
      "grid_auto_columns": null,
      "grid_auto_flow": null,
      "grid_auto_rows": null,
      "grid_column": null,
      "grid_gap": null,
      "grid_row": null,
      "grid_template_areas": null,
      "grid_template_columns": null,
      "grid_template_rows": null,
      "height": null,
      "justify_content": null,
      "justify_items": null,
      "left": null,
      "margin": null,
      "max_height": null,
      "max_width": null,
      "min_height": null,
      "min_width": null,
      "object_fit": null,
      "object_position": null,
      "order": null,
      "overflow": null,
      "overflow_x": null,
      "overflow_y": null,
      "padding": null,
      "right": null,
      "top": null,
      "visibility": null,
      "width": null
     }
    },
    "9a94cc24a812410790e202a73c7f71cb": {
     "model_module": "@jupyter-widgets/controls",
     "model_name": "HBoxModel",
     "state": {
      "_dom_classes": [],
      "_model_module": "@jupyter-widgets/controls",
      "_model_module_version": "1.5.0",
      "_model_name": "HBoxModel",
      "_view_count": null,
      "_view_module": "@jupyter-widgets/controls",
      "_view_module_version": "1.5.0",
      "_view_name": "HBoxView",
      "box_style": "",
      "children": [
       "IPY_MODEL_cf5b58ac6ef34d6bae5eecd94eb0ee3b",
       "IPY_MODEL_18fa501578e3425799e431dd6936298d"
      ],
      "layout": "IPY_MODEL_6cdfede614fa42ce9d26f35ef36bb179"
     }
    },
    "9ae76a6092304c0386692f918bacde17": {
     "model_module": "@jupyter-widgets/controls",
     "model_name": "DescriptionStyleModel",
     "state": {
      "_model_module": "@jupyter-widgets/controls",
      "_model_module_version": "1.5.0",
      "_model_name": "DescriptionStyleModel",
      "_view_count": null,
      "_view_module": "@jupyter-widgets/base",
      "_view_module_version": "1.2.0",
      "_view_name": "StyleView",
      "description_width": ""
     }
    },
    "a2e90b9ac4064d58bed0f84f51c1eb31": {
     "model_module": "@jupyter-widgets/controls",
     "model_name": "FloatProgressModel",
     "state": {
      "_dom_classes": [],
      "_model_module": "@jupyter-widgets/controls",
      "_model_module_version": "1.5.0",
      "_model_name": "FloatProgressModel",
      "_view_count": null,
      "_view_module": "@jupyter-widgets/controls",
      "_view_module_version": "1.5.0",
      "_view_name": "ProgressView",
      "bar_style": "success",
      "description": "100%",
      "description_tooltip": null,
      "layout": "IPY_MODEL_03e4f050a6204dc986f0b6ff3b629284",
      "max": 36022,
      "min": 0,
      "orientation": "horizontal",
      "style": "IPY_MODEL_6d70d9f32c124343a94037f3215194ef",
      "value": 36022
     }
    },
    "aae9b5ca6e154485881383c1fa36bd7f": {
     "model_module": "@jupyter-widgets/controls",
     "model_name": "HBoxModel",
     "state": {
      "_dom_classes": [],
      "_model_module": "@jupyter-widgets/controls",
      "_model_module_version": "1.5.0",
      "_model_name": "HBoxModel",
      "_view_count": null,
      "_view_module": "@jupyter-widgets/controls",
      "_view_module_version": "1.5.0",
      "_view_name": "HBoxView",
      "box_style": "",
      "children": [
       "IPY_MODEL_29b112c26dee418aa37d2cfa62b5761c",
       "IPY_MODEL_09659b16f7cc4f22971ff9e0ca90d427"
      ],
      "layout": "IPY_MODEL_21e8865fa86c4d6283228aa6f10c0892"
     }
    },
    "ae0e034ef5db443c80c908d1929008e1": {
     "model_module": "@jupyter-widgets/base",
     "model_name": "LayoutModel",
     "state": {
      "_model_module": "@jupyter-widgets/base",
      "_model_module_version": "1.2.0",
      "_model_name": "LayoutModel",
      "_view_count": null,
      "_view_module": "@jupyter-widgets/base",
      "_view_module_version": "1.2.0",
      "_view_name": "LayoutView",
      "align_content": null,
      "align_items": null,
      "align_self": null,
      "border": null,
      "bottom": null,
      "display": null,
      "flex": null,
      "flex_flow": null,
      "grid_area": null,
      "grid_auto_columns": null,
      "grid_auto_flow": null,
      "grid_auto_rows": null,
      "grid_column": null,
      "grid_gap": null,
      "grid_row": null,
      "grid_template_areas": null,
      "grid_template_columns": null,
      "grid_template_rows": null,
      "height": null,
      "justify_content": null,
      "justify_items": null,
      "left": null,
      "margin": null,
      "max_height": null,
      "max_width": null,
      "min_height": null,
      "min_width": null,
      "object_fit": null,
      "object_position": null,
      "order": null,
      "overflow": null,
      "overflow_x": null,
      "overflow_y": null,
      "padding": null,
      "right": null,
      "top": null,
      "visibility": null,
      "width": null
     }
    },
    "b1f2fd472ef84c09baf357e0d1edf35a": {
     "model_module": "@jupyter-widgets/base",
     "model_name": "LayoutModel",
     "state": {
      "_model_module": "@jupyter-widgets/base",
      "_model_module_version": "1.2.0",
      "_model_name": "LayoutModel",
      "_view_count": null,
      "_view_module": "@jupyter-widgets/base",
      "_view_module_version": "1.2.0",
      "_view_name": "LayoutView",
      "align_content": null,
      "align_items": null,
      "align_self": null,
      "border": null,
      "bottom": null,
      "display": null,
      "flex": null,
      "flex_flow": null,
      "grid_area": null,
      "grid_auto_columns": null,
      "grid_auto_flow": null,
      "grid_auto_rows": null,
      "grid_column": null,
      "grid_gap": null,
      "grid_row": null,
      "grid_template_areas": null,
      "grid_template_columns": null,
      "grid_template_rows": null,
      "height": null,
      "justify_content": null,
      "justify_items": null,
      "left": null,
      "margin": null,
      "max_height": null,
      "max_width": null,
      "min_height": null,
      "min_width": null,
      "object_fit": null,
      "object_position": null,
      "order": null,
      "overflow": null,
      "overflow_x": null,
      "overflow_y": null,
      "padding": null,
      "right": null,
      "top": null,
      "visibility": null,
      "width": null
     }
    },
    "b3d42b2d5d6d43fd93875eef81d697fe": {
     "model_module": "@jupyter-widgets/controls",
     "model_name": "ProgressStyleModel",
     "state": {
      "_model_module": "@jupyter-widgets/controls",
      "_model_module_version": "1.5.0",
      "_model_name": "ProgressStyleModel",
      "_view_count": null,
      "_view_module": "@jupyter-widgets/base",
      "_view_module_version": "1.2.0",
      "_view_name": "StyleView",
      "bar_color": null,
      "description_width": "initial"
     }
    },
    "b6704505ad36411f8d395f24f7f00fed": {
     "model_module": "@jupyter-widgets/controls",
     "model_name": "DescriptionStyleModel",
     "state": {
      "_model_module": "@jupyter-widgets/controls",
      "_model_module_version": "1.5.0",
      "_model_name": "DescriptionStyleModel",
      "_view_count": null,
      "_view_module": "@jupyter-widgets/base",
      "_view_module_version": "1.2.0",
      "_view_name": "StyleView",
      "description_width": ""
     }
    },
    "bd9a339a53134301b8e1631392edf46f": {
     "model_module": "@jupyter-widgets/controls",
     "model_name": "DescriptionStyleModel",
     "state": {
      "_model_module": "@jupyter-widgets/controls",
      "_model_module_version": "1.5.0",
      "_model_name": "DescriptionStyleModel",
      "_view_count": null,
      "_view_module": "@jupyter-widgets/base",
      "_view_module_version": "1.2.0",
      "_view_name": "StyleView",
      "description_width": ""
     }
    },
    "c5ca7bf38c704ce5893cde257ffaad4f": {
     "model_module": "@jupyter-widgets/base",
     "model_name": "LayoutModel",
     "state": {
      "_model_module": "@jupyter-widgets/base",
      "_model_module_version": "1.2.0",
      "_model_name": "LayoutModel",
      "_view_count": null,
      "_view_module": "@jupyter-widgets/base",
      "_view_module_version": "1.2.0",
      "_view_name": "LayoutView",
      "align_content": null,
      "align_items": null,
      "align_self": null,
      "border": null,
      "bottom": null,
      "display": null,
      "flex": null,
      "flex_flow": null,
      "grid_area": null,
      "grid_auto_columns": null,
      "grid_auto_flow": null,
      "grid_auto_rows": null,
      "grid_column": null,
      "grid_gap": null,
      "grid_row": null,
      "grid_template_areas": null,
      "grid_template_columns": null,
      "grid_template_rows": null,
      "height": null,
      "justify_content": null,
      "justify_items": null,
      "left": null,
      "margin": null,
      "max_height": null,
      "max_width": null,
      "min_height": null,
      "min_width": null,
      "object_fit": null,
      "object_position": null,
      "order": null,
      "overflow": null,
      "overflow_x": null,
      "overflow_y": null,
      "padding": null,
      "right": null,
      "top": null,
      "visibility": null,
      "width": null
     }
    },
    "cbb14c4fc6f749169922dc096f671aec": {
     "model_module": "@jupyter-widgets/controls",
     "model_name": "HTMLModel",
     "state": {
      "_dom_classes": [],
      "_model_module": "@jupyter-widgets/controls",
      "_model_module_version": "1.5.0",
      "_model_name": "HTMLModel",
      "_view_count": null,
      "_view_module": "@jupyter-widgets/controls",
      "_view_module_version": "1.5.0",
      "_view_name": "HTMLView",
      "description": "",
      "description_tooltip": null,
      "layout": "IPY_MODEL_4c3927f7133041789a7f3458cf8fdc14",
      "placeholder": "​",
      "style": "IPY_MODEL_58d6769093114200b52f7c04e3df85c2",
      "value": " 27770/27770 [27:42&lt;00:00, 16.70it/s]"
     }
    },
    "cd276d343cfe4ddf9f7793e12c4b1a1c": {
     "model_module": "@jupyter-widgets/controls",
     "model_name": "FloatProgressModel",
     "state": {
      "_dom_classes": [],
      "_model_module": "@jupyter-widgets/controls",
      "_model_module_version": "1.5.0",
      "_model_name": "FloatProgressModel",
      "_view_count": null,
      "_view_module": "@jupyter-widgets/controls",
      "_view_module_version": "1.5.0",
      "_view_name": "ProgressView",
      "bar_style": "success",
      "description": "100%",
      "description_tooltip": null,
      "layout": "IPY_MODEL_9a122080d1ca47bcb7aaf888fd3ae1e6",
      "max": 32648,
      "min": 0,
      "orientation": "horizontal",
      "style": "IPY_MODEL_63bfeacf29c5450995c26beb755bd73d",
      "value": 32648
     }
    },
    "cdc30b36a0af4f0bb82d788b97f413ea": {
     "model_module": "@jupyter-widgets/controls",
     "model_name": "HBoxModel",
     "state": {
      "_dom_classes": [],
      "_model_module": "@jupyter-widgets/controls",
      "_model_module_version": "1.5.0",
      "_model_name": "HBoxModel",
      "_view_count": null,
      "_view_module": "@jupyter-widgets/controls",
      "_view_module_version": "1.5.0",
      "_view_name": "HBoxView",
      "box_style": "",
      "children": [
       "IPY_MODEL_32817117ba3f42e48560f73379bb750f",
       "IPY_MODEL_d4520fa39f6f46dfa7664eb8c86c51a8"
      ],
      "layout": "IPY_MODEL_8df26d46101b4d56ad645defb6c76bec"
     }
    },
    "ce08a22c5b2e4c269c85dc045c0fb1d5": {
     "model_module": "@jupyter-widgets/controls",
     "model_name": "HTMLModel",
     "state": {
      "_dom_classes": [],
      "_model_module": "@jupyter-widgets/controls",
      "_model_module_version": "1.5.0",
      "_model_name": "HTMLModel",
      "_view_count": null,
      "_view_module": "@jupyter-widgets/controls",
      "_view_module_version": "1.5.0",
      "_view_name": "HTMLView",
      "description": "",
      "description_tooltip": null,
      "layout": "IPY_MODEL_517a163b6ddb492dba558e57f35744fc",
      "placeholder": "​",
      "style": "IPY_MODEL_209c9252c4cb415aa2381d44a50a66b6",
      "value": " 36022/36022 [01:23&lt;00:00, 432.11it/s]"
     }
    },
    "cf5b58ac6ef34d6bae5eecd94eb0ee3b": {
     "model_module": "@jupyter-widgets/controls",
     "model_name": "FloatProgressModel",
     "state": {
      "_dom_classes": [],
      "_model_module": "@jupyter-widgets/controls",
      "_model_module_version": "1.5.0",
      "_model_name": "FloatProgressModel",
      "_view_count": null,
      "_view_module": "@jupyter-widgets/controls",
      "_view_module_version": "1.5.0",
      "_view_name": "ProgressView",
      "bar_style": "success",
      "description": "100%",
      "description_tooltip": null,
      "layout": "IPY_MODEL_005eefb7f4c84ba6925c4fd18837c05d",
      "max": 27770,
      "min": 0,
      "orientation": "horizontal",
      "style": "IPY_MODEL_8a314bc4bca94559b17ca8800273873b",
      "value": 27770
     }
    },
    "d4520fa39f6f46dfa7664eb8c86c51a8": {
     "model_module": "@jupyter-widgets/controls",
     "model_name": "HTMLModel",
     "state": {
      "_dom_classes": [],
      "_model_module": "@jupyter-widgets/controls",
      "_model_module_version": "1.5.0",
      "_model_name": "HTMLModel",
      "_view_count": null,
      "_view_module": "@jupyter-widgets/controls",
      "_view_module_version": "1.5.0",
      "_view_name": "HTMLView",
      "description": "",
      "description_tooltip": null,
      "layout": "IPY_MODEL_de9571d5fc7447208dcb3ee26a8096b9",
      "placeholder": "​",
      "style": "IPY_MODEL_9ae76a6092304c0386692f918bacde17",
      "value": " 9004/9004 [00:14&lt;00:00, 625.45it/s]"
     }
    },
    "d4b860869c784c5387fc57ac9abd1b96": {
     "model_module": "@jupyter-widgets/controls",
     "model_name": "HTMLModel",
     "state": {
      "_dom_classes": [],
      "_model_module": "@jupyter-widgets/controls",
      "_model_module_version": "1.5.0",
      "_model_name": "HTMLModel",
      "_view_count": null,
      "_view_module": "@jupyter-widgets/controls",
      "_view_module_version": "1.5.0",
      "_view_name": "HTMLView",
      "description": "",
      "description_tooltip": null,
      "layout": "IPY_MODEL_fdc5986ec8eb46b59d55f676b47bb22e",
      "placeholder": "​",
      "style": "IPY_MODEL_b6704505ad36411f8d395f24f7f00fed",
      "value": " 36022/36022 [00:44&lt;00:00, 811.00it/s]"
     }
    },
    "d4c4be18e8e6420bb8c1b052bbf6e789": {
     "model_module": "@jupyter-widgets/controls",
     "model_name": "HBoxModel",
     "state": {
      "_dom_classes": [],
      "_model_module": "@jupyter-widgets/controls",
      "_model_module_version": "1.5.0",
      "_model_name": "HBoxModel",
      "_view_count": null,
      "_view_module": "@jupyter-widgets/controls",
      "_view_module_version": "1.5.0",
      "_view_name": "HBoxView",
      "box_style": "",
      "children": [
       "IPY_MODEL_86d38e58a5a74c8e8831e036109689da",
       "IPY_MODEL_f0d15917add14db9a1f269b4ddeb137b"
      ],
      "layout": "IPY_MODEL_656de581d4b543aaa3c6361d1d249901"
     }
    },
    "d703fc1dd1904983b6e3ef9d99da67f4": {
     "model_module": "@jupyter-widgets/controls",
     "model_name": "DescriptionStyleModel",
     "state": {
      "_model_module": "@jupyter-widgets/controls",
      "_model_module_version": "1.5.0",
      "_model_name": "DescriptionStyleModel",
      "_view_count": null,
      "_view_module": "@jupyter-widgets/base",
      "_view_module_version": "1.2.0",
      "_view_name": "StyleView",
      "description_width": ""
     }
    },
    "d7af7933b5fb4e259d34af914f5103ae": {
     "model_module": "@jupyter-widgets/controls",
     "model_name": "HBoxModel",
     "state": {
      "_dom_classes": [],
      "_model_module": "@jupyter-widgets/controls",
      "_model_module_version": "1.5.0",
      "_model_name": "HBoxModel",
      "_view_count": null,
      "_view_module": "@jupyter-widgets/controls",
      "_view_module_version": "1.5.0",
      "_view_name": "HBoxView",
      "box_style": "",
      "children": [
       "IPY_MODEL_a2e90b9ac4064d58bed0f84f51c1eb31",
       "IPY_MODEL_ce08a22c5b2e4c269c85dc045c0fb1d5"
      ],
      "layout": "IPY_MODEL_6b9526f671974c9d863a7e5d93bf4804"
     }
    },
    "de9571d5fc7447208dcb3ee26a8096b9": {
     "model_module": "@jupyter-widgets/base",
     "model_name": "LayoutModel",
     "state": {
      "_model_module": "@jupyter-widgets/base",
      "_model_module_version": "1.2.0",
      "_model_name": "LayoutModel",
      "_view_count": null,
      "_view_module": "@jupyter-widgets/base",
      "_view_module_version": "1.2.0",
      "_view_name": "LayoutView",
      "align_content": null,
      "align_items": null,
      "align_self": null,
      "border": null,
      "bottom": null,
      "display": null,
      "flex": null,
      "flex_flow": null,
      "grid_area": null,
      "grid_auto_columns": null,
      "grid_auto_flow": null,
      "grid_auto_rows": null,
      "grid_column": null,
      "grid_gap": null,
      "grid_row": null,
      "grid_template_areas": null,
      "grid_template_columns": null,
      "grid_template_rows": null,
      "height": null,
      "justify_content": null,
      "justify_items": null,
      "left": null,
      "margin": null,
      "max_height": null,
      "max_width": null,
      "min_height": null,
      "min_width": null,
      "object_fit": null,
      "object_position": null,
      "order": null,
      "overflow": null,
      "overflow_x": null,
      "overflow_y": null,
      "padding": null,
      "right": null,
      "top": null,
      "visibility": null,
      "width": null
     }
    },
    "e96536cbfc664880b5f8afcbafb71789": {
     "model_module": "@jupyter-widgets/base",
     "model_name": "LayoutModel",
     "state": {
      "_model_module": "@jupyter-widgets/base",
      "_model_module_version": "1.2.0",
      "_model_name": "LayoutModel",
      "_view_count": null,
      "_view_module": "@jupyter-widgets/base",
      "_view_module_version": "1.2.0",
      "_view_name": "LayoutView",
      "align_content": null,
      "align_items": null,
      "align_self": null,
      "border": null,
      "bottom": null,
      "display": null,
      "flex": null,
      "flex_flow": null,
      "grid_area": null,
      "grid_auto_columns": null,
      "grid_auto_flow": null,
      "grid_auto_rows": null,
      "grid_column": null,
      "grid_gap": null,
      "grid_row": null,
      "grid_template_areas": null,
      "grid_template_columns": null,
      "grid_template_rows": null,
      "height": null,
      "justify_content": null,
      "justify_items": null,
      "left": null,
      "margin": null,
      "max_height": null,
      "max_width": null,
      "min_height": null,
      "min_width": null,
      "object_fit": null,
      "object_position": null,
      "order": null,
      "overflow": null,
      "overflow_x": null,
      "overflow_y": null,
      "padding": null,
      "right": null,
      "top": null,
      "visibility": null,
      "width": null
     }
    },
    "ee854fcb0f3240f49b2c1dcbabad6a3a": {
     "model_module": "@jupyter-widgets/controls",
     "model_name": "DescriptionStyleModel",
     "state": {
      "_model_module": "@jupyter-widgets/controls",
      "_model_module_version": "1.5.0",
      "_model_name": "DescriptionStyleModel",
      "_view_count": null,
      "_view_module": "@jupyter-widgets/base",
      "_view_module_version": "1.2.0",
      "_view_name": "StyleView",
      "description_width": ""
     }
    },
    "f0d15917add14db9a1f269b4ddeb137b": {
     "model_module": "@jupyter-widgets/controls",
     "model_name": "HTMLModel",
     "state": {
      "_dom_classes": [],
      "_model_module": "@jupyter-widgets/controls",
      "_model_module_version": "1.5.0",
      "_model_name": "HTMLModel",
      "_view_count": null,
      "_view_module": "@jupyter-widgets/controls",
      "_view_module_version": "1.5.0",
      "_view_name": "HTMLView",
      "description": "",
      "description_tooltip": null,
      "layout": "IPY_MODEL_8a0f3e819f04455fa6771222971304b8",
      "placeholder": "​",
      "style": "IPY_MODEL_46c649bab6a543ebbf576a9ced7eee35",
      "value": " 3168/3168 [04:02&lt;00:00, 13.05it/s]"
     }
    },
    "f0d3846b0bf34ca8b5446f895477b82c": {
     "model_module": "@jupyter-widgets/controls",
     "model_name": "FloatProgressModel",
     "state": {
      "_dom_classes": [],
      "_model_module": "@jupyter-widgets/controls",
      "_model_module_version": "1.5.0",
      "_model_name": "FloatProgressModel",
      "_view_count": null,
      "_view_module": "@jupyter-widgets/controls",
      "_view_module_version": "1.5.0",
      "_view_name": "ProgressView",
      "bar_style": "success",
      "description": "100%",
      "description_tooltip": null,
      "layout": "IPY_MODEL_99a95bf5bb064827ac404a825d2f482f",
      "max": 9004,
      "min": 0,
      "orientation": "horizontal",
      "style": "IPY_MODEL_5b5313df4ddf439389f497bf506c6d26",
      "value": 9004
     }
    },
    "fa5df94547554810bde47391b61c8895": {
     "model_module": "@jupyter-widgets/controls",
     "model_name": "ProgressStyleModel",
     "state": {
      "_model_module": "@jupyter-widgets/controls",
      "_model_module_version": "1.5.0",
      "_model_name": "ProgressStyleModel",
      "_view_count": null,
      "_view_module": "@jupyter-widgets/base",
      "_view_module_version": "1.2.0",
      "_view_name": "StyleView",
      "bar_color": null,
      "description_width": "initial"
     }
    },
    "fd37db407cbc485590ceddc35ba161cd": {
     "model_module": "@jupyter-widgets/base",
     "model_name": "LayoutModel",
     "state": {
      "_model_module": "@jupyter-widgets/base",
      "_model_module_version": "1.2.0",
      "_model_name": "LayoutModel",
      "_view_count": null,
      "_view_module": "@jupyter-widgets/base",
      "_view_module_version": "1.2.0",
      "_view_name": "LayoutView",
      "align_content": null,
      "align_items": null,
      "align_self": null,
      "border": null,
      "bottom": null,
      "display": null,
      "flex": null,
      "flex_flow": null,
      "grid_area": null,
      "grid_auto_columns": null,
      "grid_auto_flow": null,
      "grid_auto_rows": null,
      "grid_column": null,
      "grid_gap": null,
      "grid_row": null,
      "grid_template_areas": null,
      "grid_template_columns": null,
      "grid_template_rows": null,
      "height": null,
      "justify_content": null,
      "justify_items": null,
      "left": null,
      "margin": null,
      "max_height": null,
      "max_width": null,
      "min_height": null,
      "min_width": null,
      "object_fit": null,
      "object_position": null,
      "order": null,
      "overflow": null,
      "overflow_x": null,
      "overflow_y": null,
      "padding": null,
      "right": null,
      "top": null,
      "visibility": null,
      "width": null
     }
    },
    "fdc5986ec8eb46b59d55f676b47bb22e": {
     "model_module": "@jupyter-widgets/base",
     "model_name": "LayoutModel",
     "state": {
      "_model_module": "@jupyter-widgets/base",
      "_model_module_version": "1.2.0",
      "_model_name": "LayoutModel",
      "_view_count": null,
      "_view_module": "@jupyter-widgets/base",
      "_view_module_version": "1.2.0",
      "_view_name": "LayoutView",
      "align_content": null,
      "align_items": null,
      "align_self": null,
      "border": null,
      "bottom": null,
      "display": null,
      "flex": null,
      "flex_flow": null,
      "grid_area": null,
      "grid_auto_columns": null,
      "grid_auto_flow": null,
      "grid_auto_rows": null,
      "grid_column": null,
      "grid_gap": null,
      "grid_row": null,
      "grid_template_areas": null,
      "grid_template_columns": null,
      "grid_template_rows": null,
      "height": null,
      "justify_content": null,
      "justify_items": null,
      "left": null,
      "margin": null,
      "max_height": null,
      "max_width": null,
      "min_height": null,
      "min_width": null,
      "object_fit": null,
      "object_position": null,
      "order": null,
      "overflow": null,
      "overflow_x": null,
      "overflow_y": null,
      "padding": null,
      "right": null,
      "top": null,
      "visibility": null,
      "width": null
     }
    },
    "ff765f16596042b9a2bc413fc6d1d8c3": {
     "model_module": "@jupyter-widgets/base",
     "model_name": "LayoutModel",
     "state": {
      "_model_module": "@jupyter-widgets/base",
      "_model_module_version": "1.2.0",
      "_model_name": "LayoutModel",
      "_view_count": null,
      "_view_module": "@jupyter-widgets/base",
      "_view_module_version": "1.2.0",
      "_view_name": "LayoutView",
      "align_content": null,
      "align_items": null,
      "align_self": null,
      "border": null,
      "bottom": null,
      "display": null,
      "flex": null,
      "flex_flow": null,
      "grid_area": null,
      "grid_auto_columns": null,
      "grid_auto_flow": null,
      "grid_auto_rows": null,
      "grid_column": null,
      "grid_gap": null,
      "grid_row": null,
      "grid_template_areas": null,
      "grid_template_columns": null,
      "grid_template_rows": null,
      "height": null,
      "justify_content": null,
      "justify_items": null,
      "left": null,
      "margin": null,
      "max_height": null,
      "max_width": null,
      "min_height": null,
      "min_width": null,
      "object_fit": null,
      "object_position": null,
      "order": null,
      "overflow": null,
      "overflow_x": null,
      "overflow_y": null,
      "padding": null,
      "right": null,
      "top": null,
      "visibility": null,
      "width": null
     }
    }
   }
  }
 },
 "nbformat": 4,
 "nbformat_minor": 1
}
