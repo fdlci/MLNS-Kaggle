{
 "metadata": {
  "language_info": {
   "codemirror_mode": {
    "name": "ipython",
    "version": 3
   },
   "file_extension": ".py",
   "mimetype": "text/x-python",
   "name": "python",
   "nbconvert_exporter": "python",
   "pygments_lexer": "ipython3",
   "version": "3.8.0-final"
  },
  "orig_nbformat": 2,
  "kernelspec": {
   "name": "python3",
   "display_name": "Python 3.8.0 64-bit",
   "metadata": {
    "interpreter": {
     "hash": "ecbb290622efe6a108e88b8a5dccb3aa582d66a3ed03b3b3ca754b0c02090994"
    }
   }
  }
 },
 "nbformat": 4,
 "nbformat_minor": 2,
 "cells": [
  {
   "cell_type": "code",
   "execution_count": 1,
   "metadata": {},
   "outputs": [],
   "source": [
    "import csv\n",
    "import pandas as pd\n",
    "import networkx as nx\n",
    "import numpy as np\n",
    "import random\n",
    "import numpy as np\n",
    "from sklearn import svm\n",
    "from sklearn.feature_extraction.text import TfidfVectorizer\n",
    "from sklearn.metrics.pairwise import linear_kernel\n",
    "from sklearn import preprocessing\n",
    "import nltk"
   ]
  },
  {
   "source": [
    "# Making the training set into a graph"
   ],
   "cell_type": "markdown",
   "metadata": {}
  },
  {
   "cell_type": "code",
   "execution_count": 31,
   "metadata": {},
   "outputs": [],
   "source": [
    "def get_training_graph(csv_file, colmun_names=['source', 'target', 'connected']):\n",
    "\n",
    "    # Pandas dataframe\n",
    "    df = pd.read_csv(csv_file, sep=' ', names=column_names)\n",
    "    edges = df.loc[training['connected'] == 1]\n",
    "\n",
    "    # Number of edges\n",
    "    print(f'There are {len(edges)} edges and {len(df) - len(edges)} non edges')\n",
    "\n",
    "    # networkx graph\n",
    "    Graphtype = nx.DiGraph()\n",
    "    G = nx.from_pandas_edgelist(edges, create_using=Graphtype)\n",
    "    \n",
    "    return G"
   ]
  },
  {
   "cell_type": "code",
   "execution_count": 27,
   "metadata": {},
   "outputs": [
    {
     "output_type": "stream",
     "name": "stdout",
     "text": [
      "There are 335130 edges and 280382 non edges\n"
     ]
    }
   ],
   "source": [
    "training_graph = get_training_graph('training_set.txt')"
   ]
  },
  {
   "cell_type": "code",
   "execution_count": 28,
   "metadata": {},
   "outputs": [
    {
     "output_type": "execute_result",
     "data": {
      "text/plain": [
       "<networkx.classes.digraph.DiGraph at 0x2b17c457c70>"
      ]
     },
     "metadata": {},
     "execution_count": 28
    }
   ],
   "source": [
    "training_graph"
   ]
  },
  {
   "cell_type": "code",
   "execution_count": 30,
   "metadata": {},
   "outputs": [
    {
     "output_type": "stream",
     "name": "stdout",
     "text": [
      "Number of nodes: 27684\nNumber of edges: 335130\nMin. degree: 1\nMax. degree: 2346\nMean degree: 24.211096662332032\nMedian degree: 14.0\nDensity: 0.0004372917794735403\n"
     ]
    }
   ],
   "source": [
    "def compute_network_characteristics(graph):\n",
    "    prop = {}\n",
    "    prop['N'] =  graph.number_of_nodes() # number of nodes\n",
    "    prop['M'] = graph.number_of_edges() # number of edges\n",
    "    degrees = [degree for node, degree in graph.degree()] # degree list\n",
    "    prop['min_degree'] =  np.min(degrees) # minimum degree\n",
    "    prop['max_degree'] =  np.max(degrees) # maximum degree\n",
    "    prop['mean_degree'] = np.mean(degrees) # mean of node degrees\n",
    "    prop['median_degree'] = np.median(degrees) # median of node degrees\n",
    "    prop['density'] =  nx.density(graph) # density of the graph\n",
    "\n",
    "    return prop\n",
    "\n",
    "###################################################################\n",
    "prop = compute_network_characteristics(graph=training_graph)\n",
    "print(\"Number of nodes: {}\".format(prop['N']))\n",
    "print(\"Number of edges: {}\".format(prop['M']))\n",
    "print(\"Min. degree: {}\".format(prop['min_degree']))\n",
    "print(\"Max. degree: {}\".format(prop['max_degree']))\n",
    "print(\"Mean degree: {}\".format(prop['mean_degree']))\n",
    "print(\"Median degree: {}\".format(prop['median_degree']))\n",
    "print(\"Density: {}\".format(prop['density']))"
   ]
  },
  {
   "source": [
    "# Looking at the data"
   ],
   "cell_type": "markdown",
   "metadata": {}
  },
  {
   "cell_type": "code",
   "execution_count": 2,
   "metadata": {},
   "outputs": [],
   "source": [
    "with open(\"training_set.txt\", \"r\") as f:\n",
    "    reader = csv.reader(f)\n",
    "    training_set  = list(reader)\n",
    "\n",
    "training_set = [element[0].split(\" \") for element in training_set]"
   ]
  },
  {
   "cell_type": "code",
   "execution_count": 3,
   "metadata": {
    "tags": []
   },
   "outputs": [],
   "source": [
    "# 1 if there is an edge between two nodes, 0 else\n",
    "# print(training_set)"
   ]
  },
  {
   "cell_type": "code",
   "execution_count": 4,
   "metadata": {},
   "outputs": [],
   "source": [
    "column_names = ['id', 'year', 'title', 'authors', 'journal', 'abstract']\n",
    "info = pd.read_csv('node_information.csv', sep=',', names=column_names)"
   ]
  },
  {
   "cell_type": "code",
   "execution_count": 5,
   "metadata": {},
   "outputs": [
    {
     "output_type": "execute_result",
     "data": {
      "text/plain": [
       "     id  year                                              title  \\\n",
       "0  1001  2000              compactification geometry and duality   \n",
       "1  1002  2000  domain walls and massive gauged supergravity p...   \n",
       "2  1003  2000     comment on metric fluctuations in brane worlds   \n",
       "3  1004  2000         moving mirrors and thermodynamic paradoxes   \n",
       "4  1005  2000  bundles of chiral blocks and boundary conditio...   \n",
       "\n",
       "                       authors            journal  \\\n",
       "0            Paul S. Aspinwall                NaN   \n",
       "1  M. Cvetic, H. Lu, C.N. Pope  Class.Quant.Grav.   \n",
       "2     Y.S. Myung, Gungwon Kang                NaN   \n",
       "3               Adam D. Helfer          Phys.Rev.   \n",
       "4      J. Fuchs, C. Schweigert                NaN   \n",
       "\n",
       "                                            abstract  \n",
       "0  these are notes based on lectures given at tas...  \n",
       "1  we point out that massive gauged supergravity ...  \n",
       "2  recently ivanov and volovich hep-th 9912242 cl...  \n",
       "3  quantum fields responding to moving mirrors ha...  \n",
       "4  proceedings of lie iii clausthal july 1999 var...  "
      ],
      "text/html": "<div>\n<style scoped>\n    .dataframe tbody tr th:only-of-type {\n        vertical-align: middle;\n    }\n\n    .dataframe tbody tr th {\n        vertical-align: top;\n    }\n\n    .dataframe thead th {\n        text-align: right;\n    }\n</style>\n<table border=\"1\" class=\"dataframe\">\n  <thead>\n    <tr style=\"text-align: right;\">\n      <th></th>\n      <th>id</th>\n      <th>year</th>\n      <th>title</th>\n      <th>authors</th>\n      <th>journal</th>\n      <th>abstract</th>\n    </tr>\n  </thead>\n  <tbody>\n    <tr>\n      <th>0</th>\n      <td>1001</td>\n      <td>2000</td>\n      <td>compactification geometry and duality</td>\n      <td>Paul S. Aspinwall</td>\n      <td>NaN</td>\n      <td>these are notes based on lectures given at tas...</td>\n    </tr>\n    <tr>\n      <th>1</th>\n      <td>1002</td>\n      <td>2000</td>\n      <td>domain walls and massive gauged supergravity p...</td>\n      <td>M. Cvetic, H. Lu, C.N. Pope</td>\n      <td>Class.Quant.Grav.</td>\n      <td>we point out that massive gauged supergravity ...</td>\n    </tr>\n    <tr>\n      <th>2</th>\n      <td>1003</td>\n      <td>2000</td>\n      <td>comment on metric fluctuations in brane worlds</td>\n      <td>Y.S. Myung, Gungwon Kang</td>\n      <td>NaN</td>\n      <td>recently ivanov and volovich hep-th 9912242 cl...</td>\n    </tr>\n    <tr>\n      <th>3</th>\n      <td>1004</td>\n      <td>2000</td>\n      <td>moving mirrors and thermodynamic paradoxes</td>\n      <td>Adam D. Helfer</td>\n      <td>Phys.Rev.</td>\n      <td>quantum fields responding to moving mirrors ha...</td>\n    </tr>\n    <tr>\n      <th>4</th>\n      <td>1005</td>\n      <td>2000</td>\n      <td>bundles of chiral blocks and boundary conditio...</td>\n      <td>J. Fuchs, C. Schweigert</td>\n      <td>NaN</td>\n      <td>proceedings of lie iii clausthal july 1999 var...</td>\n    </tr>\n  </tbody>\n</table>\n</div>"
     },
     "metadata": {},
     "execution_count": 5
    }
   ],
   "source": [
    "info.head()"
   ]
  },
  {
   "cell_type": "code",
   "execution_count": 6,
   "metadata": {},
   "outputs": [],
   "source": [
    "year_columns = pd.get_dummies(info.year, prefix='year')\n",
    "info = pd.concat([info, year_columns], axis=1)\n",
    "info = info.drop(columns = ['year'])"
   ]
  },
  {
   "cell_type": "code",
   "execution_count": 7,
   "metadata": {},
   "outputs": [
    {
     "output_type": "execute_result",
     "data": {
      "text/plain": [
       "     id                                              title  \\\n",
       "0  1001              compactification geometry and duality   \n",
       "1  1002  domain walls and massive gauged supergravity p...   \n",
       "2  1003     comment on metric fluctuations in brane worlds   \n",
       "3  1004         moving mirrors and thermodynamic paradoxes   \n",
       "4  1005  bundles of chiral blocks and boundary conditio...   \n",
       "\n",
       "                       authors            journal  \\\n",
       "0            Paul S. Aspinwall                NaN   \n",
       "1  M. Cvetic, H. Lu, C.N. Pope  Class.Quant.Grav.   \n",
       "2     Y.S. Myung, Gungwon Kang                NaN   \n",
       "3               Adam D. Helfer          Phys.Rev.   \n",
       "4      J. Fuchs, C. Schweigert                NaN   \n",
       "\n",
       "                                            abstract  year_1992  year_1993  \\\n",
       "0  these are notes based on lectures given at tas...          0          0   \n",
       "1  we point out that massive gauged supergravity ...          0          0   \n",
       "2  recently ivanov and volovich hep-th 9912242 cl...          0          0   \n",
       "3  quantum fields responding to moving mirrors ha...          0          0   \n",
       "4  proceedings of lie iii clausthal july 1999 var...          0          0   \n",
       "\n",
       "   year_1994  year_1995  year_1996  year_1997  year_1998  year_1999  \\\n",
       "0          0          0          0          0          0          0   \n",
       "1          0          0          0          0          0          0   \n",
       "2          0          0          0          0          0          0   \n",
       "3          0          0          0          0          0          0   \n",
       "4          0          0          0          0          0          0   \n",
       "\n",
       "   year_2000  year_2001  year_2002  year_2003  \n",
       "0          1          0          0          0  \n",
       "1          1          0          0          0  \n",
       "2          1          0          0          0  \n",
       "3          1          0          0          0  \n",
       "4          1          0          0          0  "
      ],
      "text/html": "<div>\n<style scoped>\n    .dataframe tbody tr th:only-of-type {\n        vertical-align: middle;\n    }\n\n    .dataframe tbody tr th {\n        vertical-align: top;\n    }\n\n    .dataframe thead th {\n        text-align: right;\n    }\n</style>\n<table border=\"1\" class=\"dataframe\">\n  <thead>\n    <tr style=\"text-align: right;\">\n      <th></th>\n      <th>id</th>\n      <th>title</th>\n      <th>authors</th>\n      <th>journal</th>\n      <th>abstract</th>\n      <th>year_1992</th>\n      <th>year_1993</th>\n      <th>year_1994</th>\n      <th>year_1995</th>\n      <th>year_1996</th>\n      <th>year_1997</th>\n      <th>year_1998</th>\n      <th>year_1999</th>\n      <th>year_2000</th>\n      <th>year_2001</th>\n      <th>year_2002</th>\n      <th>year_2003</th>\n    </tr>\n  </thead>\n  <tbody>\n    <tr>\n      <th>0</th>\n      <td>1001</td>\n      <td>compactification geometry and duality</td>\n      <td>Paul S. Aspinwall</td>\n      <td>NaN</td>\n      <td>these are notes based on lectures given at tas...</td>\n      <td>0</td>\n      <td>0</td>\n      <td>0</td>\n      <td>0</td>\n      <td>0</td>\n      <td>0</td>\n      <td>0</td>\n      <td>0</td>\n      <td>1</td>\n      <td>0</td>\n      <td>0</td>\n      <td>0</td>\n    </tr>\n    <tr>\n      <th>1</th>\n      <td>1002</td>\n      <td>domain walls and massive gauged supergravity p...</td>\n      <td>M. Cvetic, H. Lu, C.N. Pope</td>\n      <td>Class.Quant.Grav.</td>\n      <td>we point out that massive gauged supergravity ...</td>\n      <td>0</td>\n      <td>0</td>\n      <td>0</td>\n      <td>0</td>\n      <td>0</td>\n      <td>0</td>\n      <td>0</td>\n      <td>0</td>\n      <td>1</td>\n      <td>0</td>\n      <td>0</td>\n      <td>0</td>\n    </tr>\n    <tr>\n      <th>2</th>\n      <td>1003</td>\n      <td>comment on metric fluctuations in brane worlds</td>\n      <td>Y.S. Myung, Gungwon Kang</td>\n      <td>NaN</td>\n      <td>recently ivanov and volovich hep-th 9912242 cl...</td>\n      <td>0</td>\n      <td>0</td>\n      <td>0</td>\n      <td>0</td>\n      <td>0</td>\n      <td>0</td>\n      <td>0</td>\n      <td>0</td>\n      <td>1</td>\n      <td>0</td>\n      <td>0</td>\n      <td>0</td>\n    </tr>\n    <tr>\n      <th>3</th>\n      <td>1004</td>\n      <td>moving mirrors and thermodynamic paradoxes</td>\n      <td>Adam D. Helfer</td>\n      <td>Phys.Rev.</td>\n      <td>quantum fields responding to moving mirrors ha...</td>\n      <td>0</td>\n      <td>0</td>\n      <td>0</td>\n      <td>0</td>\n      <td>0</td>\n      <td>0</td>\n      <td>0</td>\n      <td>0</td>\n      <td>1</td>\n      <td>0</td>\n      <td>0</td>\n      <td>0</td>\n    </tr>\n    <tr>\n      <th>4</th>\n      <td>1005</td>\n      <td>bundles of chiral blocks and boundary conditio...</td>\n      <td>J. Fuchs, C. Schweigert</td>\n      <td>NaN</td>\n      <td>proceedings of lie iii clausthal july 1999 var...</td>\n      <td>0</td>\n      <td>0</td>\n      <td>0</td>\n      <td>0</td>\n      <td>0</td>\n      <td>0</td>\n      <td>0</td>\n      <td>0</td>\n      <td>1</td>\n      <td>0</td>\n      <td>0</td>\n      <td>0</td>\n    </tr>\n  </tbody>\n</table>\n</div>"
     },
     "metadata": {},
     "execution_count": 7
    }
   ],
   "source": [
    "info.head()"
   ]
  },
  {
   "cell_type": "code",
   "execution_count": 8,
   "metadata": {},
   "outputs": [],
   "source": [
    "vect = TfidfVectorizer(stop_words=\"english\")\n",
    "abstract_vectorized = vect.fit_transform(info['abstract'])"
   ]
  },
  {
   "cell_type": "code",
   "execution_count": 10,
   "metadata": {},
   "outputs": [],
   "source": [
    "abstract_vec = abstract_vectorized.todense()\n",
    "vec_abs = pd.DataFrame(abstract_vec, columns=vect.get_feature_names())"
   ]
  },
  {
   "cell_type": "code",
   "execution_count": 11,
   "metadata": {},
   "outputs": [],
   "source": [
    "info = pd.concat([info, vec_abs], axis=1)"
   ]
  },
  {
   "cell_type": "code",
   "execution_count": 13,
   "metadata": {},
   "outputs": [
    {
     "output_type": "execute_result",
     "data": {
      "text/plain": [
       "     id                                              title  \\\n",
       "0  1001              compactification geometry and duality   \n",
       "1  1002  domain walls and massive gauged supergravity p...   \n",
       "2  1003     comment on metric fluctuations in brane worlds   \n",
       "3  1004         moving mirrors and thermodynamic paradoxes   \n",
       "4  1005  bundles of chiral blocks and boundary conditio...   \n",
       "\n",
       "                       authors            journal  year_1992  year_1993  \\\n",
       "0            Paul S. Aspinwall                NaN          0          0   \n",
       "1  M. Cvetic, H. Lu, C.N. Pope  Class.Quant.Grav.          0          0   \n",
       "2     Y.S. Myung, Gungwon Kang                NaN          0          0   \n",
       "3               Adam D. Helfer          Phys.Rev.          0          0   \n",
       "4      J. Fuchs, C. Schweigert                NaN          0          0   \n",
       "\n",
       "   year_1994  year_1995  year_1996  year_1997  ...  zweibach  zweibein  \\\n",
       "0          0          0          0          0  ...       0.0       0.0   \n",
       "1          0          0          0          0  ...       0.0       0.0   \n",
       "2          0          0          0          0  ...       0.0       0.0   \n",
       "3          0          0          0          0  ...       0.0       0.0   \n",
       "4          0          0          0          0  ...       0.0       0.0   \n",
       "\n",
       "   zweibeine  zweibeins  zweibiens  zwiebach  zwirner  zynda  zyserman   zz  \n",
       "0        0.0        0.0        0.0       0.0      0.0    0.0       0.0  0.0  \n",
       "1        0.0        0.0        0.0       0.0      0.0    0.0       0.0  0.0  \n",
       "2        0.0        0.0        0.0       0.0      0.0    0.0       0.0  0.0  \n",
       "3        0.0        0.0        0.0       0.0      0.0    0.0       0.0  0.0  \n",
       "4        0.0        0.0        0.0       0.0      0.0    0.0       0.0  0.0  \n",
       "\n",
       "[5 rows x 25058 columns]"
      ],
      "text/html": "<div>\n<style scoped>\n    .dataframe tbody tr th:only-of-type {\n        vertical-align: middle;\n    }\n\n    .dataframe tbody tr th {\n        vertical-align: top;\n    }\n\n    .dataframe thead th {\n        text-align: right;\n    }\n</style>\n<table border=\"1\" class=\"dataframe\">\n  <thead>\n    <tr style=\"text-align: right;\">\n      <th></th>\n      <th>id</th>\n      <th>title</th>\n      <th>authors</th>\n      <th>journal</th>\n      <th>year_1992</th>\n      <th>year_1993</th>\n      <th>year_1994</th>\n      <th>year_1995</th>\n      <th>year_1996</th>\n      <th>year_1997</th>\n      <th>...</th>\n      <th>zweibach</th>\n      <th>zweibein</th>\n      <th>zweibeine</th>\n      <th>zweibeins</th>\n      <th>zweibiens</th>\n      <th>zwiebach</th>\n      <th>zwirner</th>\n      <th>zynda</th>\n      <th>zyserman</th>\n      <th>zz</th>\n    </tr>\n  </thead>\n  <tbody>\n    <tr>\n      <th>0</th>\n      <td>1001</td>\n      <td>compactification geometry and duality</td>\n      <td>Paul S. Aspinwall</td>\n      <td>NaN</td>\n      <td>0</td>\n      <td>0</td>\n      <td>0</td>\n      <td>0</td>\n      <td>0</td>\n      <td>0</td>\n      <td>...</td>\n      <td>0.0</td>\n      <td>0.0</td>\n      <td>0.0</td>\n      <td>0.0</td>\n      <td>0.0</td>\n      <td>0.0</td>\n      <td>0.0</td>\n      <td>0.0</td>\n      <td>0.0</td>\n      <td>0.0</td>\n    </tr>\n    <tr>\n      <th>1</th>\n      <td>1002</td>\n      <td>domain walls and massive gauged supergravity p...</td>\n      <td>M. Cvetic, H. Lu, C.N. Pope</td>\n      <td>Class.Quant.Grav.</td>\n      <td>0</td>\n      <td>0</td>\n      <td>0</td>\n      <td>0</td>\n      <td>0</td>\n      <td>0</td>\n      <td>...</td>\n      <td>0.0</td>\n      <td>0.0</td>\n      <td>0.0</td>\n      <td>0.0</td>\n      <td>0.0</td>\n      <td>0.0</td>\n      <td>0.0</td>\n      <td>0.0</td>\n      <td>0.0</td>\n      <td>0.0</td>\n    </tr>\n    <tr>\n      <th>2</th>\n      <td>1003</td>\n      <td>comment on metric fluctuations in brane worlds</td>\n      <td>Y.S. Myung, Gungwon Kang</td>\n      <td>NaN</td>\n      <td>0</td>\n      <td>0</td>\n      <td>0</td>\n      <td>0</td>\n      <td>0</td>\n      <td>0</td>\n      <td>...</td>\n      <td>0.0</td>\n      <td>0.0</td>\n      <td>0.0</td>\n      <td>0.0</td>\n      <td>0.0</td>\n      <td>0.0</td>\n      <td>0.0</td>\n      <td>0.0</td>\n      <td>0.0</td>\n      <td>0.0</td>\n    </tr>\n    <tr>\n      <th>3</th>\n      <td>1004</td>\n      <td>moving mirrors and thermodynamic paradoxes</td>\n      <td>Adam D. Helfer</td>\n      <td>Phys.Rev.</td>\n      <td>0</td>\n      <td>0</td>\n      <td>0</td>\n      <td>0</td>\n      <td>0</td>\n      <td>0</td>\n      <td>...</td>\n      <td>0.0</td>\n      <td>0.0</td>\n      <td>0.0</td>\n      <td>0.0</td>\n      <td>0.0</td>\n      <td>0.0</td>\n      <td>0.0</td>\n      <td>0.0</td>\n      <td>0.0</td>\n      <td>0.0</td>\n    </tr>\n    <tr>\n      <th>4</th>\n      <td>1005</td>\n      <td>bundles of chiral blocks and boundary conditio...</td>\n      <td>J. Fuchs, C. Schweigert</td>\n      <td>NaN</td>\n      <td>0</td>\n      <td>0</td>\n      <td>0</td>\n      <td>0</td>\n      <td>0</td>\n      <td>0</td>\n      <td>...</td>\n      <td>0.0</td>\n      <td>0.0</td>\n      <td>0.0</td>\n      <td>0.0</td>\n      <td>0.0</td>\n      <td>0.0</td>\n      <td>0.0</td>\n      <td>0.0</td>\n      <td>0.0</td>\n      <td>0.0</td>\n    </tr>\n  </tbody>\n</table>\n<p>5 rows × 25058 columns</p>\n</div>"
     },
     "metadata": {},
     "execution_count": 13
    }
   ],
   "source": [
    "info = info.drop(columns = ['abstract'])\n",
    "info.head()"
   ]
  },
  {
   "cell_type": "code",
   "execution_count": 16,
   "metadata": {},
   "outputs": [],
   "source": [
    "vect = TfidfVectorizer(stop_words=\"english\")\n",
    "title_vectorized = vect.fit_transform(info['title'])\n",
    "title_vec = title_vectorized.todense()\n",
    "vec_title = pd.DataFrame(title_vec, columns=vect.get_feature_names())"
   ]
  },
  {
   "cell_type": "code",
   "execution_count": 17,
   "metadata": {},
   "outputs": [],
   "source": [
    "info = pd.concat([info, vec_title], axis=1)"
   ]
  },
  {
   "cell_type": "code",
   "execution_count": 18,
   "metadata": {},
   "outputs": [
    {
     "output_type": "execute_result",
     "data": {
      "text/plain": [
       "     id                      authors            journal  year_1992  year_1993  \\\n",
       "0  1001            Paul S. Aspinwall                NaN          0          0   \n",
       "1  1002  M. Cvetic, H. Lu, C.N. Pope  Class.Quant.Grav.          0          0   \n",
       "2  1003     Y.S. Myung, Gungwon Kang                NaN          0          0   \n",
       "3  1004               Adam D. Helfer          Phys.Rev.          0          0   \n",
       "4  1005      J. Fuchs, C. Schweigert                NaN          0          0   \n",
       "\n",
       "   year_1994  year_1995  year_1996  year_1997  year_1998  ...  zweibach  \\\n",
       "0          0          0          0          0          0  ...       0.0   \n",
       "1          0          0          0          0          0  ...       0.0   \n",
       "2          0          0          0          0          0  ...       0.0   \n",
       "3          0          0          0          0          0  ...       0.0   \n",
       "4          0          0          0          0          0  ...       0.0   \n",
       "\n",
       "   zweibein  zweibeine  zweibeins  zweibiens  zwiebach  zwirner  zynda  \\\n",
       "0       0.0        0.0        0.0        0.0       0.0      0.0    0.0   \n",
       "1       0.0        0.0        0.0        0.0       0.0      0.0    0.0   \n",
       "2       0.0        0.0        0.0        0.0       0.0      0.0    0.0   \n",
       "3       0.0        0.0        0.0        0.0       0.0      0.0    0.0   \n",
       "4       0.0        0.0        0.0        0.0       0.0      0.0    0.0   \n",
       "\n",
       "   zyserman   zz  \n",
       "0       0.0  0.0  \n",
       "1       0.0  0.0  \n",
       "2       0.0  0.0  \n",
       "3       0.0  0.0  \n",
       "4       0.0  0.0  \n",
       "\n",
       "[5 rows x 25056 columns]"
      ],
      "text/html": "<div>\n<style scoped>\n    .dataframe tbody tr th:only-of-type {\n        vertical-align: middle;\n    }\n\n    .dataframe tbody tr th {\n        vertical-align: top;\n    }\n\n    .dataframe thead th {\n        text-align: right;\n    }\n</style>\n<table border=\"1\" class=\"dataframe\">\n  <thead>\n    <tr style=\"text-align: right;\">\n      <th></th>\n      <th>id</th>\n      <th>authors</th>\n      <th>journal</th>\n      <th>year_1992</th>\n      <th>year_1993</th>\n      <th>year_1994</th>\n      <th>year_1995</th>\n      <th>year_1996</th>\n      <th>year_1997</th>\n      <th>year_1998</th>\n      <th>...</th>\n      <th>zweibach</th>\n      <th>zweibein</th>\n      <th>zweibeine</th>\n      <th>zweibeins</th>\n      <th>zweibiens</th>\n      <th>zwiebach</th>\n      <th>zwirner</th>\n      <th>zynda</th>\n      <th>zyserman</th>\n      <th>zz</th>\n    </tr>\n  </thead>\n  <tbody>\n    <tr>\n      <th>0</th>\n      <td>1001</td>\n      <td>Paul S. Aspinwall</td>\n      <td>NaN</td>\n      <td>0</td>\n      <td>0</td>\n      <td>0</td>\n      <td>0</td>\n      <td>0</td>\n      <td>0</td>\n      <td>0</td>\n      <td>...</td>\n      <td>0.0</td>\n      <td>0.0</td>\n      <td>0.0</td>\n      <td>0.0</td>\n      <td>0.0</td>\n      <td>0.0</td>\n      <td>0.0</td>\n      <td>0.0</td>\n      <td>0.0</td>\n      <td>0.0</td>\n    </tr>\n    <tr>\n      <th>1</th>\n      <td>1002</td>\n      <td>M. Cvetic, H. Lu, C.N. Pope</td>\n      <td>Class.Quant.Grav.</td>\n      <td>0</td>\n      <td>0</td>\n      <td>0</td>\n      <td>0</td>\n      <td>0</td>\n      <td>0</td>\n      <td>0</td>\n      <td>...</td>\n      <td>0.0</td>\n      <td>0.0</td>\n      <td>0.0</td>\n      <td>0.0</td>\n      <td>0.0</td>\n      <td>0.0</td>\n      <td>0.0</td>\n      <td>0.0</td>\n      <td>0.0</td>\n      <td>0.0</td>\n    </tr>\n    <tr>\n      <th>2</th>\n      <td>1003</td>\n      <td>Y.S. Myung, Gungwon Kang</td>\n      <td>NaN</td>\n      <td>0</td>\n      <td>0</td>\n      <td>0</td>\n      <td>0</td>\n      <td>0</td>\n      <td>0</td>\n      <td>0</td>\n      <td>...</td>\n      <td>0.0</td>\n      <td>0.0</td>\n      <td>0.0</td>\n      <td>0.0</td>\n      <td>0.0</td>\n      <td>0.0</td>\n      <td>0.0</td>\n      <td>0.0</td>\n      <td>0.0</td>\n      <td>0.0</td>\n    </tr>\n    <tr>\n      <th>3</th>\n      <td>1004</td>\n      <td>Adam D. Helfer</td>\n      <td>Phys.Rev.</td>\n      <td>0</td>\n      <td>0</td>\n      <td>0</td>\n      <td>0</td>\n      <td>0</td>\n      <td>0</td>\n      <td>0</td>\n      <td>...</td>\n      <td>0.0</td>\n      <td>0.0</td>\n      <td>0.0</td>\n      <td>0.0</td>\n      <td>0.0</td>\n      <td>0.0</td>\n      <td>0.0</td>\n      <td>0.0</td>\n      <td>0.0</td>\n      <td>0.0</td>\n    </tr>\n    <tr>\n      <th>4</th>\n      <td>1005</td>\n      <td>J. Fuchs, C. Schweigert</td>\n      <td>NaN</td>\n      <td>0</td>\n      <td>0</td>\n      <td>0</td>\n      <td>0</td>\n      <td>0</td>\n      <td>0</td>\n      <td>0</td>\n      <td>...</td>\n      <td>0.0</td>\n      <td>0.0</td>\n      <td>0.0</td>\n      <td>0.0</td>\n      <td>0.0</td>\n      <td>0.0</td>\n      <td>0.0</td>\n      <td>0.0</td>\n      <td>0.0</td>\n      <td>0.0</td>\n    </tr>\n  </tbody>\n</table>\n<p>5 rows × 25056 columns</p>\n</div>"
     },
     "metadata": {},
     "execution_count": 18
    }
   ],
   "source": [
    "info = info.drop(columns = ['title'])\n",
    "info.head()"
   ]
  },
  {
   "cell_type": "code",
   "execution_count": 20,
   "metadata": {},
   "outputs": [
    {
     "output_type": "stream",
     "name": "stdout",
     "text": [
      "<class 'pandas.core.frame.DataFrame'>\nRangeIndex: 27770 entries, 0 to 27769\nColumns: 25056 entries, id to zz\ndtypes: float64(25041), int64(1), object(2), uint8(12)\nmemory usage: 5.2+ GB\n"
     ]
    }
   ],
   "source": [
    "info.info()"
   ]
  },
  {
   "cell_type": "code",
   "execution_count": null,
   "metadata": {},
   "outputs": [],
   "source": []
  }
 ]
}