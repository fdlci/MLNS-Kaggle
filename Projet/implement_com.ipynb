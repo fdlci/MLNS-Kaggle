{
 "metadata": {
  "language_info": {
   "codemirror_mode": {
    "name": "ipython",
    "version": 3
   },
   "file_extension": ".py",
   "mimetype": "text/x-python",
   "name": "python",
   "nbconvert_exporter": "python",
   "pygments_lexer": "ipython3",
   "version": "3.8.0-final"
  },
  "orig_nbformat": 2,
  "kernelspec": {
   "name": "python3",
   "display_name": "Python 3.8.0 64-bit",
   "metadata": {
    "interpreter": {
     "hash": "ecbb290622efe6a108e88b8a5dccb3aa582d66a3ed03b3b3ca754b0c02090994"
    }
   }
  }
 },
 "nbformat": 4,
 "nbformat_minor": 2,
 "cells": [
  {
   "cell_type": "code",
   "execution_count": 1,
   "metadata": {},
   "outputs": [],
   "source": [
    "%matplotlib inline\n",
    "import os\n",
    "import networkx as nx\n",
    "import numpy as np\n",
    "import matplotlib.pyplot as plt\n",
    "from scipy.sparse import *\n",
    "from sklearn.linear_model import LogisticRegression\n",
    "from sklearn.metrics import roc_auc_score, roc_curve, auc\n",
    "import pandas as pd\n",
    "import csv\n",
    "from sklearn import svm\n",
    "from sklearn.feature_extraction.text import TfidfVectorizer\n",
    "from sklearn.metrics.pairwise import linear_kernel\n",
    "from sklearn import preprocessing\n",
    "from sklearn.metrics.pairwise import cosine_similarity\n",
    "import nltk\n",
    "import random\n",
    "from sklearn.metrics import accuracy_score, f1_score\n",
    "from tqdm.notebook import tqdm\n",
    "from copy import deepcopy\n",
    "import networkx.algorithms.community.quality as nxq\n",
    "import community as community_louvain"
   ]
  },
  {
   "cell_type": "code",
   "execution_count": null,
   "metadata": {},
   "outputs": [],
   "source": [
    "# inconvénient de l'implémentation: les labels des nodes doivent commencer à 0"
   ]
  },
  {
   "source": [
    "# Leiden Community detection algorithm"
   ],
   "cell_type": "markdown",
   "metadata": {}
  },
  {
   "cell_type": "code",
   "execution_count": 87,
   "metadata": {},
   "outputs": [
    {
     "output_type": "stream",
     "name": "stdout",
     "text": [
      "There are 34 nodes and 78 edges\n"
     ]
    }
   ],
   "source": [
    "G = nx.karate_club_graph()\n",
    "print(f'There are {len(G.nodes())} nodes and {len(G.edges())} edges')"
   ]
  },
  {
   "cell_type": "code",
   "execution_count": 88,
   "metadata": {},
   "outputs": [
    {
     "output_type": "stream",
     "name": "stdout",
     "text": [
      "[0, 1, 2, 3, 4, 5, 6, 7, 8, 9, 10, 11, 12, 13, 14, 15, 16, 17, 18, 19, 20, 21, 22, 23, 24, 25, 26, 27, 28, 29, 30, 31, 32, 33]\n"
     ]
    }
   ],
   "source": [
    "print(G.nodes())"
   ]
  },
  {
   "source": [
    "## Phase 1"
   ],
   "cell_type": "markdown",
   "metadata": {}
  },
  {
   "cell_type": "code",
   "execution_count": 3,
   "metadata": {},
   "outputs": [],
   "source": [
    "def community_to_dict(communities):\n",
    "    commu = {}\n",
    "    for i, com in enumerate(communities):\n",
    "        for node in com:\n",
    "            commu[node] = i\n",
    "    return commu"
   ]
  },
  {
   "cell_type": "code",
   "execution_count": 4,
   "metadata": {},
   "outputs": [],
   "source": [
    "community = [{0, 1, 6, 8}, {2, 3, 4, 5, 7}]"
   ]
  },
  {
   "cell_type": "code",
   "execution_count": 5,
   "metadata": {},
   "outputs": [],
   "source": [
    "def find_community_i(community, i):\n",
    "    for ind, com in enumerate(community):\n",
    "        if i in com:\n",
    "            return ind"
   ]
  },
  {
   "cell_type": "code",
   "execution_count": 6,
   "metadata": {},
   "outputs": [
    {
     "output_type": "execute_result",
     "data": {
      "text/plain": [
       "0"
      ]
     },
     "metadata": {},
     "execution_count": 6
    }
   ],
   "source": [
    "find_community_i(community, 8)"
   ]
  },
  {
   "cell_type": "code",
   "execution_count": 7,
   "metadata": {},
   "outputs": [],
   "source": [
    "def delete_from_com(community, ind, i):\n",
    "    com = deepcopy(community)\n",
    "    com[ind].remove(i)\n",
    "    return com"
   ]
  },
  {
   "cell_type": "code",
   "execution_count": 8,
   "metadata": {},
   "outputs": [
    {
     "output_type": "execute_result",
     "data": {
      "text/plain": [
       "[{0, 1, 6}, {2, 3, 4, 5, 7}]"
      ]
     },
     "metadata": {},
     "execution_count": 8
    }
   ],
   "source": [
    "delete_from_com(community, 0, 8)"
   ]
  },
  {
   "cell_type": "code",
   "execution_count": 9,
   "metadata": {},
   "outputs": [],
   "source": [
    "def add_to_community(community, ind, i):\n",
    "    com = deepcopy(community)\n",
    "    com[ind].add(i)\n",
    "    return com"
   ]
  },
  {
   "cell_type": "code",
   "execution_count": 10,
   "metadata": {},
   "outputs": [
    {
     "output_type": "execute_result",
     "data": {
      "text/plain": [
       "[{0, 1, 6, 8}, {2, 3, 4, 5, 7}]"
      ]
     },
     "metadata": {},
     "execution_count": 10
    }
   ],
   "source": [
    "add_to_community(community, 0, 8)"
   ]
  },
  {
   "cell_type": "code",
   "execution_count": 165,
   "metadata": {},
   "outputs": [],
   "source": [
    "def phase1(graph):\n",
    "\n",
    "    # initialize the communities: each node in a different community\n",
    "    communities = []\n",
    "    for node in graph.nodes():\n",
    "        communities.append({node})\n",
    "\n",
    "    best_mod = nxq.modularity(graph, communities, weight='weight')\n",
    "    best_community = communities\n",
    "\n",
    "    count = 0\n",
    "    while 1:\n",
    "        count += 1\n",
    "        for node in graph.nodes():\n",
    "            com = deepcopy(best_community)\n",
    "            ind_node = find_community_i(com, node)\n",
    "            neigh_node = graph.neighbors(node)\n",
    "            for neigh in neigh_node:\n",
    "                com_bis = deepcopy(com)\n",
    "                ind_neigh = find_community_i(com_bis, neigh)\n",
    "                com_bis = delete_from_com(com_bis, ind_node, node)\n",
    "                com_bis = add_to_community(com_bis, ind_neigh, node)\n",
    "                com_bis = [s for s in com_bis if s != set()]\n",
    "                mod = nxq.modularity(graph, com_bis, weight='weight') # Attention ca doit etre le gain de modularité\n",
    "                if mod > best_mod:\n",
    "                    best_mod = mod\n",
    "                    best_community = com_bis.copy()\n",
    "        if com == best_community:\n",
    "            break\n",
    "    best_community = [s for s in best_community if s != set()]\n",
    "    return best_community, best_mod\n",
    "    "
   ]
  },
  {
   "cell_type": "code",
   "execution_count": 18,
   "metadata": {},
   "outputs": [],
   "source": [
    "def size_link_between_com(com1, com2, graph):\n",
    "\n",
    "    link = 0\n",
    "    for node1 in com1:\n",
    "        for node2 in com2:\n",
    "            data = graph.get_edge_data(node1, node2)\n",
    "            if data != None:\n",
    "                if data != {}:\n",
    "                    link += data['weight']\n",
    "                else:\n",
    "                    link += 1\n",
    "    return link"
   ]
  },
  {
   "cell_type": "code",
   "execution_count": 46,
   "metadata": {},
   "outputs": [],
   "source": [
    "def phase2(communities, graph):\n",
    "\n",
    "    nodes = graph.nodes()\n",
    "    edges = graph.edges()\n",
    "\n",
    "    new_nodes = [i for i in range(len(communities))]\n",
    "    new_edges = []\n",
    "\n",
    "    new_graph = nx.Graph()\n",
    "    new_graph.add_nodes_from([i for i in range(len(communities))])\n",
    "\n",
    "\n",
    "    for i, com1 in enumerate(communities):\n",
    "        for j, com2 in enumerate(communities):\n",
    "            if i >= j:\n",
    "                if i == j:\n",
    "                    # self_loops\n",
    "                    nodes_in_com = [node for node in com1]\n",
    "                    subGraph = graph.subgraph(nodes_in_com)\n",
    "                    new_edges.append((i,i, {'weight':subGraph.size(weight='weight')}))\n",
    "                else:\n",
    "                    link = size_link_between_com(com1, com2, graph)\n",
    "                    if link > 0:\n",
    "                        new_edges.append((i,j, {'weight':link}))\n",
    "\n",
    "    new_graph.add_edges_from(new_edges)\n",
    "    return new_graph"
   ]
  },
  {
   "cell_type": "code",
   "execution_count": 47,
   "metadata": {},
   "outputs": [],
   "source": [
    "new_graph = phase2(best_community, G)"
   ]
  },
  {
   "cell_type": "code",
   "execution_count": 72,
   "metadata": {},
   "outputs": [],
   "source": [
    "def merge_communities(communities, best_communities):\n",
    "\n",
    "    new_communities = []\n",
    "\n",
    "    for com in best_communities:\n",
    "        uni = set()\n",
    "        for element in com:\n",
    "            uni = uni.union(communities[element])\n",
    "        new_communities.append(uni)\n",
    "    return new_communities      "
   ]
  },
  {
   "cell_type": "code",
   "execution_count": 76,
   "metadata": {},
   "outputs": [],
   "source": [
    "new_communities = merge_communities(best_community, b_communities)"
   ]
  },
  {
   "cell_type": "code",
   "execution_count": 126,
   "metadata": {},
   "outputs": [],
   "source": [
    "def load_graph(file_path):\n",
    "    assert ('txt' in file_path), 'Please choose a graph file of type txt'\n",
    "\n",
    "    G = nx.read_edgelist(file_path,create_using=nx.Graph(), nodetype = int)\n",
    "    return G"
   ]
  },
  {
   "cell_type": "code",
   "execution_count": 166,
   "metadata": {},
   "outputs": [],
   "source": [
    "def louvain_algorithm(G):\n",
    "\n",
    "    prev_best_community, prev_best_mod = None, None\n",
    "    communities = []\n",
    "    for i, node in enumerate(G.nodes()):\n",
    "        communities.append({i})\n",
    "\n",
    "    while 1:\n",
    "\n",
    "        print('phase1')\n",
    "        best_communities, best_mod = phase1(G)\n",
    "\n",
    "        print('phase2')\n",
    "        G = phase2(best_communities, G)\n",
    "\n",
    "        if best_mod == prev_best_mod:\n",
    "            break\n",
    "        else:\n",
    "            prev_best_community, prev_best_mod = best_communities, best_mod\n",
    "\n",
    "        communities = merge_communities(communities, best_communities)\n",
    "\n",
    "    return communities, best_mod"
   ]
  },
  {
   "cell_type": "code",
   "execution_count": 167,
   "metadata": {},
   "outputs": [
    {
     "output_type": "stream",
     "name": "stdout",
     "text": [
      "phase1\nphase2\nphase1\nphase2\nphase1\nphase2\n"
     ]
    }
   ],
   "source": [
    "G = load_graph('karate.txt')\n",
    "communities, best_mod = louvain_algorithm(G)"
   ]
  },
  {
   "cell_type": "code",
   "execution_count": 168,
   "metadata": {},
   "outputs": [
    {
     "output_type": "stream",
     "name": "stdout",
     "text": [
      "[{0, 33, 9, 15, 16, 19, 21, 23, 27, 30, 31}, {1, 2, 3, 4, 8, 10, 12, 13, 14, 18, 20, 22}, {17, 5, 6, 7, 11}, {32, 24, 25, 26, 28, 29}]\n0.42983639736886486\n"
     ]
    }
   ],
   "source": [
    "print(communities)\n",
    "print(best_mod)"
   ]
  },
  {
   "cell_type": "code",
   "execution_count": 105,
   "metadata": {},
   "outputs": [],
   "source": [
    "import unittest\n",
    "import math\n",
    "\n",
    "class PylouvainTest(unittest.TestCase):\n",
    "\n",
    "    def test_karate_club(self):\n",
    "        partition, q = louvain_algorithm('karate.txt')\n",
    "        q_ = q * 10000\n",
    "        self.assertEqual(4, len(partition))\n",
    "        self.assertEqual(4298, math.floor(q_))\n",
    "        self.assertEqual(4299, math.ceil(q_))"
   ]
  },
  {
   "cell_type": "code",
   "execution_count": 112,
   "metadata": {},
   "outputs": [],
   "source": [
    "com = community_to_dict(communities)"
   ]
  },
  {
   "cell_type": "code",
   "execution_count": 113,
   "metadata": {},
   "outputs": [
    {
     "output_type": "stream",
     "name": "stdout",
     "text": [
      "{1: 0, 2: 0, 3: 0, 4: 0, 8: 0, 10: 0, 12: 0, 13: 0, 14: 0, 18: 0, 20: 0, 22: 0, 17: 1, 5: 1, 6: 1, 7: 1, 11: 1, 32: 2, 24: 2, 25: 2, 26: 2, 28: 2, 29: 2, 0: 3, 33: 3, 9: 3, 15: 3, 16: 3, 19: 3, 21: 3, 23: 3, 27: 3, 30: 3, 31: 3}\n"
     ]
    }
   ],
   "source": [
    "print(com)"
   ]
  },
  {
   "cell_type": "code",
   "execution_count": 117,
   "metadata": {},
   "outputs": [
    {
     "output_type": "display_data",
     "data": {
      "text/plain": "<Figure size 432x288 with 1 Axes>",
      "image/svg+xml": "<?xml version=\"1.0\" encoding=\"utf-8\" standalone=\"no\"?>\r\n<!DOCTYPE svg PUBLIC \"-//W3C//DTD SVG 1.1//EN\"\r\n  \"http://www.w3.org/Graphics/SVG/1.1/DTD/svg11.dtd\">\r\n<!-- Created with matplotlib (https://matplotlib.org/) -->\r\n<svg height=\"231.84pt\" version=\"1.1\" viewBox=\"0 0 349.2 231.84\" width=\"349.2pt\" xmlns=\"http://www.w3.org/2000/svg\" xmlns:xlink=\"http://www.w3.org/1999/xlink\">\r\n <metadata>\r\n  <rdf:RDF xmlns:cc=\"http://creativecommons.org/ns#\" xmlns:dc=\"http://purl.org/dc/elements/1.1/\" xmlns:rdf=\"http://www.w3.org/1999/02/22-rdf-syntax-ns#\">\r\n   <cc:Work>\r\n    <dc:type rdf:resource=\"http://purl.org/dc/dcmitype/StillImage\"/>\r\n    <dc:date>2021-03-20T18:26:26.522185</dc:date>\r\n    <dc:format>image/svg+xml</dc:format>\r\n    <dc:creator>\r\n     <cc:Agent>\r\n      <dc:title>Matplotlib v3.3.2, https://matplotlib.org/</dc:title>\r\n     </cc:Agent>\r\n    </dc:creator>\r\n   </cc:Work>\r\n  </rdf:RDF>\r\n </metadata>\r\n <defs>\r\n  <style type=\"text/css\">*{stroke-linecap:butt;stroke-linejoin:round;}</style>\r\n </defs>\r\n <g id=\"figure_1\">\r\n  <g id=\"patch_1\">\r\n   <path d=\"M 0 231.84 \r\nL 349.2 231.84 \r\nL 349.2 0 \r\nL 0 0 \r\nz\r\n\" style=\"fill:none;\"/>\r\n  </g>\r\n  <g id=\"axes_1\">\r\n   <g id=\"patch_2\">\r\n    <path d=\"M 7.2 224.64 \r\nL 342 224.64 \r\nL 342 7.2 \r\nL 7.2 7.2 \r\nz\r\n\" style=\"fill:#ffffff;\"/>\r\n   </g>\r\n   <g id=\"LineCollection_1\">\r\n    <path clip-path=\"url(#pc2063d88c5)\" d=\"M 123.688273 67.363245 \r\nL 148.653674 104.369957 \r\n\" style=\"fill:none;stroke:#000000;stroke-opacity:0.5;\"/>\r\n    <path clip-path=\"url(#pc2063d88c5)\" d=\"M 123.688273 67.363245 \r\nL 140.225396 126.183168 \r\n\" style=\"fill:none;stroke:#000000;stroke-opacity:0.5;\"/>\r\n    <path clip-path=\"url(#pc2063d88c5)\" d=\"M 123.688273 67.363245 \r\nL 183.973957 50.870895 \r\n\" style=\"fill:none;stroke:#000000;stroke-opacity:0.5;\"/>\r\n    <path clip-path=\"url(#pc2063d88c5)\" d=\"M 123.688273 67.363245 \r\nL 113.932964 29.311034 \r\n\" style=\"fill:none;stroke:#000000;stroke-opacity:0.5;\"/>\r\n    <path clip-path=\"url(#pc2063d88c5)\" d=\"M 123.688273 67.363245 \r\nL 156.828912 27.233161 \r\n\" style=\"fill:none;stroke:#000000;stroke-opacity:0.5;\"/>\r\n    <path clip-path=\"url(#pc2063d88c5)\" d=\"M 123.688273 67.363245 \r\nL 173.889827 115.737363 \r\n\" style=\"fill:none;stroke:#000000;stroke-opacity:0.5;\"/>\r\n    <path clip-path=\"url(#pc2063d88c5)\" d=\"M 123.688273 67.363245 \r\nL 134.909458 24.754215 \r\n\" style=\"fill:none;stroke:#000000;stroke-opacity:0.5;\"/>\r\n    <path clip-path=\"url(#pc2063d88c5)\" d=\"M 123.688273 67.363245 \r\nL 171.735725 37.797393 \r\n\" style=\"fill:none;stroke:#000000;stroke-opacity:0.5;\"/>\r\n    <path clip-path=\"url(#pc2063d88c5)\" d=\"M 123.688273 67.363245 \r\nL 70.923714 57.105289 \r\n\" style=\"fill:none;stroke:#000000;stroke-opacity:0.5;\"/>\r\n    <path clip-path=\"url(#pc2063d88c5)\" d=\"M 123.688273 67.363245 \r\nL 79.586847 17.083636 \r\n\" style=\"fill:none;stroke:#000000;stroke-opacity:0.5;\"/>\r\n    <path clip-path=\"url(#pc2063d88c5)\" d=\"M 123.688273 67.363245 \r\nL 65.254403 85.74421 \r\n\" style=\"fill:none;stroke:#000000;stroke-opacity:0.5;\"/>\r\n    <path clip-path=\"url(#pc2063d88c5)\" d=\"M 123.688273 67.363245 \r\nL 76.01332 101.969596 \r\n\" style=\"fill:none;stroke:#000000;stroke-opacity:0.5;\"/>\r\n    <path clip-path=\"url(#pc2063d88c5)\" d=\"M 123.688273 67.363245 \r\nL 87.949071 37.524173 \r\n\" style=\"fill:none;stroke:#000000;stroke-opacity:0.5;\"/>\r\n    <path clip-path=\"url(#pc2063d88c5)\" d=\"M 123.688273 67.363245 \r\nL 165.686037 91.877288 \r\n\" style=\"fill:none;stroke:#000000;stroke-opacity:0.5;\"/>\r\n    <path clip-path=\"url(#pc2063d88c5)\" d=\"M 123.688273 67.363245 \r\nL 98.715452 100.365172 \r\n\" style=\"fill:none;stroke:#000000;stroke-opacity:0.5;\"/>\r\n    <path clip-path=\"url(#pc2063d88c5)\" d=\"M 123.688273 67.363245 \r\nL 133.97669 63.527205 \r\n\" style=\"fill:none;stroke:#000000;stroke-opacity:0.5;\"/>\r\n    <path clip-path=\"url(#pc2063d88c5)\" d=\"M 148.653674 104.369957 \r\nL 180.308722 158.313516 \r\n\" style=\"fill:none;stroke:#000000;stroke-opacity:0.5;\"/>\r\n    <path clip-path=\"url(#pc2063d88c5)\" d=\"M 148.653674 104.369957 \r\nL 112.056508 127.011688 \r\n\" style=\"fill:none;stroke:#000000;stroke-opacity:0.5;\"/>\r\n    <path clip-path=\"url(#pc2063d88c5)\" d=\"M 148.653674 104.369957 \r\nL 165.686037 91.877288 \r\n\" style=\"fill:none;stroke:#000000;stroke-opacity:0.5;\"/>\r\n    <path clip-path=\"url(#pc2063d88c5)\" d=\"M 148.653674 104.369957 \r\nL 133.97669 63.527205 \r\n\" style=\"fill:none;stroke:#000000;stroke-opacity:0.5;\"/>\r\n    <path clip-path=\"url(#pc2063d88c5)\" d=\"M 140.225396 126.183168 \r\nL 180.308722 158.313516 \r\n\" style=\"fill:none;stroke:#000000;stroke-opacity:0.5;\"/>\r\n    <path clip-path=\"url(#pc2063d88c5)\" d=\"M 140.225396 126.183168 \r\nL 161.12305 144.747628 \r\n\" style=\"fill:none;stroke:#000000;stroke-opacity:0.5;\"/>\r\n    <path clip-path=\"url(#pc2063d88c5)\" d=\"M 140.225396 126.183168 \r\nL 112.056508 127.011688 \r\n\" style=\"fill:none;stroke:#000000;stroke-opacity:0.5;\"/>\r\n    <path clip-path=\"url(#pc2063d88c5)\" d=\"M 140.225396 126.183168 \r\nL 125.362382 159.191137 \r\n\" style=\"fill:none;stroke:#000000;stroke-opacity:0.5;\"/>\r\n    <path clip-path=\"url(#pc2063d88c5)\" d=\"M 183.973957 50.870895 \r\nL 133.97669 63.527205 \r\n\" style=\"fill:none;stroke:#000000;stroke-opacity:0.5;\"/>\r\n    <path clip-path=\"url(#pc2063d88c5)\" d=\"M 113.932964 29.311034 \r\nL 133.97669 63.527205 \r\n\" style=\"fill:none;stroke:#000000;stroke-opacity:0.5;\"/>\r\n    <path clip-path=\"url(#pc2063d88c5)\" d=\"M 156.828912 27.233161 \r\nL 133.97669 63.527205 \r\n\" style=\"fill:none;stroke:#000000;stroke-opacity:0.5;\"/>\r\n    <path clip-path=\"url(#pc2063d88c5)\" d=\"M 173.889827 115.737363 \r\nL 180.308722 158.313516 \r\n\" style=\"fill:none;stroke:#000000;stroke-opacity:0.5;\"/>\r\n    <path clip-path=\"url(#pc2063d88c5)\" d=\"M 173.889827 115.737363 \r\nL 161.12305 144.747628 \r\n\" style=\"fill:none;stroke:#000000;stroke-opacity:0.5;\"/>\r\n    <path clip-path=\"url(#pc2063d88c5)\" d=\"M 134.909458 24.754215 \r\nL 133.97669 63.527205 \r\n\" style=\"fill:none;stroke:#000000;stroke-opacity:0.5;\"/>\r\n    <path clip-path=\"url(#pc2063d88c5)\" d=\"M 171.735725 37.797393 \r\nL 133.97669 63.527205 \r\n\" style=\"fill:none;stroke:#000000;stroke-opacity:0.5;\"/>\r\n    <path clip-path=\"url(#pc2063d88c5)\" d=\"M 70.923714 57.105289 \r\nL 29.150651 73.846016 \r\n\" style=\"fill:none;stroke:#000000;stroke-opacity:0.5;\"/>\r\n    <path clip-path=\"url(#pc2063d88c5)\" d=\"M 70.923714 57.105289 \r\nL 65.254403 85.74421 \r\n\" style=\"fill:none;stroke:#000000;stroke-opacity:0.5;\"/>\r\n    <path clip-path=\"url(#pc2063d88c5)\" d=\"M 70.923714 57.105289 \r\nL 87.949071 37.524173 \r\n\" style=\"fill:none;stroke:#000000;stroke-opacity:0.5;\"/>\r\n    <path clip-path=\"url(#pc2063d88c5)\" d=\"M 70.923714 57.105289 \r\nL 133.97669 63.527205 \r\n\" style=\"fill:none;stroke:#000000;stroke-opacity:0.5;\"/>\r\n    <path clip-path=\"url(#pc2063d88c5)\" d=\"M 79.586847 17.083636 \r\nL 87.949071 37.524173 \r\n\" style=\"fill:none;stroke:#000000;stroke-opacity:0.5;\"/>\r\n    <path clip-path=\"url(#pc2063d88c5)\" d=\"M 65.254403 85.74421 \r\nL 112.056508 127.011688 \r\n\" style=\"fill:none;stroke:#000000;stroke-opacity:0.5;\"/>\r\n    <path clip-path=\"url(#pc2063d88c5)\" d=\"M 65.254403 85.74421 \r\nL 22.418182 93.850868 \r\n\" style=\"fill:none;stroke:#000000;stroke-opacity:0.5;\"/>\r\n    <path clip-path=\"url(#pc2063d88c5)\" d=\"M 76.01332 101.969596 \r\nL 112.056508 127.011688 \r\n\" style=\"fill:none;stroke:#000000;stroke-opacity:0.5;\"/>\r\n    <path clip-path=\"url(#pc2063d88c5)\" d=\"M 76.01332 101.969596 \r\nL 98.715452 100.365172 \r\n\" style=\"fill:none;stroke:#000000;stroke-opacity:0.5;\"/>\r\n    <path clip-path=\"url(#pc2063d88c5)\" d=\"M 87.949071 37.524173 \r\nL 133.97669 63.527205 \r\n\" style=\"fill:none;stroke:#000000;stroke-opacity:0.5;\"/>\r\n    <path clip-path=\"url(#pc2063d88c5)\" d=\"M 165.686037 91.877288 \r\nL 161.12305 144.747628 \r\n\" style=\"fill:none;stroke:#000000;stroke-opacity:0.5;\"/>\r\n    <path clip-path=\"url(#pc2063d88c5)\" d=\"M 165.686037 91.877288 \r\nL 133.97669 63.527205 \r\n\" style=\"fill:none;stroke:#000000;stroke-opacity:0.5;\"/>\r\n    <path clip-path=\"url(#pc2063d88c5)\" d=\"M 98.715452 100.365172 \r\nL 180.308722 158.313516 \r\n\" style=\"fill:none;stroke:#000000;stroke-opacity:0.5;\"/>\r\n    <path clip-path=\"url(#pc2063d88c5)\" d=\"M 98.715452 100.365172 \r\nL 22.418182 93.850868 \r\n\" style=\"fill:none;stroke:#000000;stroke-opacity:0.5;\"/>\r\n    <path clip-path=\"url(#pc2063d88c5)\" d=\"M 98.715452 100.365172 \r\nL 29.150651 73.846016 \r\n\" style=\"fill:none;stroke:#000000;stroke-opacity:0.5;\"/>\r\n    <path clip-path=\"url(#pc2063d88c5)\" d=\"M 98.715452 100.365172 \r\nL 133.97669 63.527205 \r\n\" style=\"fill:none;stroke:#000000;stroke-opacity:0.5;\"/>\r\n    <path clip-path=\"url(#pc2063d88c5)\" d=\"M 133.97669 63.527205 \r\nL 112.056508 127.011688 \r\n\" style=\"fill:none;stroke:#000000;stroke-opacity:0.5;\"/>\r\n    <path clip-path=\"url(#pc2063d88c5)\" d=\"M 161.12305 144.747628 \r\nL 180.308722 158.313516 \r\n\" style=\"fill:none;stroke:#000000;stroke-opacity:0.5;\"/>\r\n    <path clip-path=\"url(#pc2063d88c5)\" d=\"M 161.12305 144.747628 \r\nL 112.056508 127.011688 \r\n\" style=\"fill:none;stroke:#000000;stroke-opacity:0.5;\"/>\r\n    <path clip-path=\"url(#pc2063d88c5)\" d=\"M 161.12305 144.747628 \r\nL 125.362382 159.191137 \r\n\" style=\"fill:none;stroke:#000000;stroke-opacity:0.5;\"/>\r\n    <path clip-path=\"url(#pc2063d88c5)\" d=\"M 161.12305 144.747628 \r\nL 136.798227 166.427466 \r\n\" style=\"fill:none;stroke:#000000;stroke-opacity:0.5;\"/>\r\n    <path clip-path=\"url(#pc2063d88c5)\" d=\"M 161.12305 144.747628 \r\nL 169.458678 187.263048 \r\n\" style=\"fill:none;stroke:#000000;stroke-opacity:0.5;\"/>\r\n    <path clip-path=\"url(#pc2063d88c5)\" d=\"M 161.12305 144.747628 \r\nL 201.374267 174.77574 \r\n\" style=\"fill:none;stroke:#000000;stroke-opacity:0.5;\"/>\r\n    <path clip-path=\"url(#pc2063d88c5)\" d=\"M 180.308722 158.313516 \r\nL 112.056508 127.011688 \r\n\" style=\"fill:none;stroke:#000000;stroke-opacity:0.5;\"/>\r\n    <path clip-path=\"url(#pc2063d88c5)\" d=\"M 180.308722 158.313516 \r\nL 125.362382 159.191137 \r\n\" style=\"fill:none;stroke:#000000;stroke-opacity:0.5;\"/>\r\n    <path clip-path=\"url(#pc2063d88c5)\" d=\"M 180.308722 158.313516 \r\nL 236.855931 196.349374 \r\n\" style=\"fill:none;stroke:#000000;stroke-opacity:0.5;\"/>\r\n    <path clip-path=\"url(#pc2063d88c5)\" d=\"M 180.308722 158.313516 \r\nL 274.276901 170.758144 \r\n\" style=\"fill:none;stroke:#000000;stroke-opacity:0.5;\"/>\r\n    <path clip-path=\"url(#pc2063d88c5)\" d=\"M 180.308722 158.313516 \r\nL 268.950174 187.025186 \r\n\" style=\"fill:none;stroke:#000000;stroke-opacity:0.5;\"/>\r\n    <path clip-path=\"url(#pc2063d88c5)\" d=\"M 180.308722 158.313516 \r\nL 136.798227 166.427466 \r\n\" style=\"fill:none;stroke:#000000;stroke-opacity:0.5;\"/>\r\n    <path clip-path=\"url(#pc2063d88c5)\" d=\"M 180.308722 158.313516 \r\nL 244.3977 176.163915 \r\n\" style=\"fill:none;stroke:#000000;stroke-opacity:0.5;\"/>\r\n    <path clip-path=\"url(#pc2063d88c5)\" d=\"M 180.308722 158.313516 \r\nL 190.888578 214.756364 \r\n\" style=\"fill:none;stroke:#000000;stroke-opacity:0.5;\"/>\r\n    <path clip-path=\"url(#pc2063d88c5)\" d=\"M 180.308722 158.313516 \r\nL 130.455335 194.799785 \r\n\" style=\"fill:none;stroke:#000000;stroke-opacity:0.5;\"/>\r\n    <path clip-path=\"url(#pc2063d88c5)\" d=\"M 180.308722 158.313516 \r\nL 169.458678 187.263048 \r\n\" style=\"fill:none;stroke:#000000;stroke-opacity:0.5;\"/>\r\n    <path clip-path=\"url(#pc2063d88c5)\" d=\"M 180.308722 158.313516 \r\nL 201.374267 174.77574 \r\n\" style=\"fill:none;stroke:#000000;stroke-opacity:0.5;\"/>\r\n    <path clip-path=\"url(#pc2063d88c5)\" d=\"M 112.056508 127.011688 \r\nL 125.362382 159.191137 \r\n\" style=\"fill:none;stroke:#000000;stroke-opacity:0.5;\"/>\r\n    <path clip-path=\"url(#pc2063d88c5)\" d=\"M 112.056508 127.011688 \r\nL 136.798227 166.427466 \r\n\" style=\"fill:none;stroke:#000000;stroke-opacity:0.5;\"/>\r\n    <path clip-path=\"url(#pc2063d88c5)\" d=\"M 112.056508 127.011688 \r\nL 40.748346 155.818631 \r\n\" style=\"fill:none;stroke:#000000;stroke-opacity:0.5;\"/>\r\n    <path clip-path=\"url(#pc2063d88c5)\" d=\"M 125.362382 159.191137 \r\nL 136.798227 166.427466 \r\n\" style=\"fill:none;stroke:#000000;stroke-opacity:0.5;\"/>\r\n    <path clip-path=\"url(#pc2063d88c5)\" d=\"M 125.362382 159.191137 \r\nL 130.455335 194.799785 \r\n\" style=\"fill:none;stroke:#000000;stroke-opacity:0.5;\"/>\r\n    <path clip-path=\"url(#pc2063d88c5)\" d=\"M 236.855931 196.349374 \r\nL 268.950174 187.025186 \r\n\" style=\"fill:none;stroke:#000000;stroke-opacity:0.5;\"/>\r\n    <path clip-path=\"url(#pc2063d88c5)\" d=\"M 236.855931 196.349374 \r\nL 244.3977 176.163915 \r\n\" style=\"fill:none;stroke:#000000;stroke-opacity:0.5;\"/>\r\n    <path clip-path=\"url(#pc2063d88c5)\" d=\"M 274.276901 170.758144 \r\nL 268.950174 187.025186 \r\n\" style=\"fill:none;stroke:#000000;stroke-opacity:0.5;\"/>\r\n    <path clip-path=\"url(#pc2063d88c5)\" d=\"M 274.276901 170.758144 \r\nL 244.3977 176.163915 \r\n\" style=\"fill:none;stroke:#000000;stroke-opacity:0.5;\"/>\r\n    <path clip-path=\"url(#pc2063d88c5)\" d=\"M 274.276901 170.758144 \r\nL 326.781818 189.30843 \r\n\" style=\"fill:none;stroke:#000000;stroke-opacity:0.5;\"/>\r\n    <path clip-path=\"url(#pc2063d88c5)\" d=\"M 268.950174 187.025186 \r\nL 326.781818 189.30843 \r\n\" style=\"fill:none;stroke:#000000;stroke-opacity:0.5;\"/>\r\n    <path clip-path=\"url(#pc2063d88c5)\" d=\"M 29.150651 73.846016 \r\nL 22.418182 93.850868 \r\n\" style=\"fill:none;stroke:#000000;stroke-opacity:0.5;\"/>\r\n   </g>\r\n   <g id=\"matplotlib.axis_1\">\r\n    <g id=\"xtick_1\"/>\r\n    <g id=\"xtick_2\"/>\r\n    <g id=\"xtick_3\"/>\r\n    <g id=\"xtick_4\"/>\r\n    <g id=\"xtick_5\"/>\r\n    <g id=\"xtick_6\"/>\r\n    <g id=\"xtick_7\"/>\r\n    <g id=\"xtick_8\"/>\r\n   </g>\r\n   <g id=\"matplotlib.axis_2\">\r\n    <g id=\"ytick_1\"/>\r\n    <g id=\"ytick_2\"/>\r\n    <g id=\"ytick_3\"/>\r\n    <g id=\"ytick_4\"/>\r\n    <g id=\"ytick_5\"/>\r\n    <g id=\"ytick_6\"/>\r\n    <g id=\"ytick_7\"/>\r\n   </g>\r\n   <g id=\"PathCollection_1\">\r\n    <defs>\r\n     <path d=\"M 0 3.162278 \r\nC 0.838646 3.162278 1.643056 2.82908 2.236068 2.236068 \r\nC 2.82908 1.643056 3.162278 0.838646 3.162278 -0 \r\nC 3.162278 -0.838646 2.82908 -1.643056 2.236068 -2.236068 \r\nC 1.643056 -2.82908 0.838646 -3.162278 0 -3.162278 \r\nC -0.838646 -3.162278 -1.643056 -2.82908 -2.236068 -2.236068 \r\nC -2.82908 -1.643056 -3.162278 -0.838646 -3.162278 0 \r\nC -3.162278 0.838646 -2.82908 1.643056 -2.236068 2.236068 \r\nC -1.643056 2.82908 -0.838646 3.162278 0 3.162278 \r\nz\r\n\" id=\"C0_0_5b1da75df5\"/>\r\n    </defs>\r\n    <g clip-path=\"url(#pc2063d88c5)\">\r\n     <use style=\"fill:#440154;stroke:#440154;\" x=\"180.308722\" xlink:href=\"#C0_0_5b1da75df5\" y=\"158.313516\"/>\r\n    </g>\r\n    <g clip-path=\"url(#pc2063d88c5)\">\r\n     <use style=\"fill:#440154;stroke:#440154;\" x=\"161.12305\" xlink:href=\"#C0_0_5b1da75df5\" y=\"144.747628\"/>\r\n    </g>\r\n    <g clip-path=\"url(#pc2063d88c5)\">\r\n     <use style=\"fill:#440154;stroke:#440154;\" x=\"112.056508\" xlink:href=\"#C0_0_5b1da75df5\" y=\"127.011688\"/>\r\n    </g>\r\n    <g clip-path=\"url(#pc2063d88c5)\">\r\n     <use style=\"fill:#440154;stroke:#440154;\" x=\"125.362382\" xlink:href=\"#C0_0_5b1da75df5\" y=\"159.191137\"/>\r\n    </g>\r\n    <g clip-path=\"url(#pc2063d88c5)\">\r\n     <use style=\"fill:#440154;stroke:#440154;\" x=\"136.798227\" xlink:href=\"#C0_0_5b1da75df5\" y=\"166.427466\"/>\r\n    </g>\r\n    <g clip-path=\"url(#pc2063d88c5)\">\r\n     <use style=\"fill:#440154;stroke:#440154;\" x=\"40.748346\" xlink:href=\"#C0_0_5b1da75df5\" y=\"155.818631\"/>\r\n    </g>\r\n    <g clip-path=\"url(#pc2063d88c5)\">\r\n     <use style=\"fill:#440154;stroke:#440154;\" x=\"190.888578\" xlink:href=\"#C0_0_5b1da75df5\" y=\"214.756364\"/>\r\n    </g>\r\n    <g clip-path=\"url(#pc2063d88c5)\">\r\n     <use style=\"fill:#440154;stroke:#440154;\" x=\"130.455335\" xlink:href=\"#C0_0_5b1da75df5\" y=\"194.799785\"/>\r\n    </g>\r\n    <g clip-path=\"url(#pc2063d88c5)\">\r\n     <use style=\"fill:#440154;stroke:#440154;\" x=\"140.225396\" xlink:href=\"#C0_0_5b1da75df5\" y=\"126.183168\"/>\r\n    </g>\r\n    <g clip-path=\"url(#pc2063d88c5)\">\r\n     <use style=\"fill:#440154;stroke:#440154;\" x=\"169.458678\" xlink:href=\"#C0_0_5b1da75df5\" y=\"187.263048\"/>\r\n    </g>\r\n    <g clip-path=\"url(#pc2063d88c5)\">\r\n     <use style=\"fill:#440154;stroke:#440154;\" x=\"173.889827\" xlink:href=\"#C0_0_5b1da75df5\" y=\"115.737363\"/>\r\n    </g>\r\n    <g clip-path=\"url(#pc2063d88c5)\">\r\n     <use style=\"fill:#440154;stroke:#440154;\" x=\"201.374267\" xlink:href=\"#C0_0_5b1da75df5\" y=\"174.77574\"/>\r\n    </g>\r\n    <g clip-path=\"url(#pc2063d88c5)\">\r\n     <use style=\"fill:#31688e;stroke:#31688e;\" x=\"326.781818\" xlink:href=\"#C0_0_5b1da75df5\" y=\"189.30843\"/>\r\n    </g>\r\n    <g clip-path=\"url(#pc2063d88c5)\">\r\n     <use style=\"fill:#31688e;stroke:#31688e;\" x=\"236.855931\" xlink:href=\"#C0_0_5b1da75df5\" y=\"196.349374\"/>\r\n    </g>\r\n    <g clip-path=\"url(#pc2063d88c5)\">\r\n     <use style=\"fill:#31688e;stroke:#31688e;\" x=\"274.276901\" xlink:href=\"#C0_0_5b1da75df5\" y=\"170.758144\"/>\r\n    </g>\r\n    <g clip-path=\"url(#pc2063d88c5)\">\r\n     <use style=\"fill:#31688e;stroke:#31688e;\" x=\"268.950174\" xlink:href=\"#C0_0_5b1da75df5\" y=\"187.025186\"/>\r\n    </g>\r\n    <g clip-path=\"url(#pc2063d88c5)\">\r\n     <use style=\"fill:#31688e;stroke:#31688e;\" x=\"244.3977\" xlink:href=\"#C0_0_5b1da75df5\" y=\"176.163915\"/>\r\n    </g>\r\n    <g clip-path=\"url(#pc2063d88c5)\">\r\n     <use style=\"fill:#35b779;stroke:#35b779;\" x=\"98.715452\" xlink:href=\"#C0_0_5b1da75df5\" y=\"100.365172\"/>\r\n    </g>\r\n    <g clip-path=\"url(#pc2063d88c5)\">\r\n     <use style=\"fill:#35b779;stroke:#35b779;\" x=\"70.923714\" xlink:href=\"#C0_0_5b1da75df5\" y=\"57.105289\"/>\r\n    </g>\r\n    <g clip-path=\"url(#pc2063d88c5)\">\r\n     <use style=\"fill:#35b779;stroke:#35b779;\" x=\"22.418182\" xlink:href=\"#C0_0_5b1da75df5\" y=\"93.850868\"/>\r\n    </g>\r\n    <g clip-path=\"url(#pc2063d88c5)\">\r\n     <use style=\"fill:#35b779;stroke:#35b779;\" x=\"29.150651\" xlink:href=\"#C0_0_5b1da75df5\" y=\"73.846016\"/>\r\n    </g>\r\n    <g clip-path=\"url(#pc2063d88c5)\">\r\n     <use style=\"fill:#35b779;stroke:#35b779;\" x=\"65.254403\" xlink:href=\"#C0_0_5b1da75df5\" y=\"85.74421\"/>\r\n    </g>\r\n    <g clip-path=\"url(#pc2063d88c5)\">\r\n     <use style=\"fill:#35b779;stroke:#35b779;\" x=\"76.01332\" xlink:href=\"#C0_0_5b1da75df5\" y=\"101.969596\"/>\r\n    </g>\r\n    <g clip-path=\"url(#pc2063d88c5)\">\r\n     <use style=\"fill:#fde725;stroke:#fde725;\" x=\"123.688273\" xlink:href=\"#C0_0_5b1da75df5\" y=\"67.363245\"/>\r\n    </g>\r\n    <g clip-path=\"url(#pc2063d88c5)\">\r\n     <use style=\"fill:#fde725;stroke:#fde725;\" x=\"133.97669\" xlink:href=\"#C0_0_5b1da75df5\" y=\"63.527205\"/>\r\n    </g>\r\n    <g clip-path=\"url(#pc2063d88c5)\">\r\n     <use style=\"fill:#fde725;stroke:#fde725;\" x=\"148.653674\" xlink:href=\"#C0_0_5b1da75df5\" y=\"104.369957\"/>\r\n    </g>\r\n    <g clip-path=\"url(#pc2063d88c5)\">\r\n     <use style=\"fill:#fde725;stroke:#fde725;\" x=\"183.973957\" xlink:href=\"#C0_0_5b1da75df5\" y=\"50.870895\"/>\r\n    </g>\r\n    <g clip-path=\"url(#pc2063d88c5)\">\r\n     <use style=\"fill:#fde725;stroke:#fde725;\" x=\"113.932964\" xlink:href=\"#C0_0_5b1da75df5\" y=\"29.311034\"/>\r\n    </g>\r\n    <g clip-path=\"url(#pc2063d88c5)\">\r\n     <use style=\"fill:#fde725;stroke:#fde725;\" x=\"156.828912\" xlink:href=\"#C0_0_5b1da75df5\" y=\"27.233161\"/>\r\n    </g>\r\n    <g clip-path=\"url(#pc2063d88c5)\">\r\n     <use style=\"fill:#fde725;stroke:#fde725;\" x=\"134.909458\" xlink:href=\"#C0_0_5b1da75df5\" y=\"24.754215\"/>\r\n    </g>\r\n    <g clip-path=\"url(#pc2063d88c5)\">\r\n     <use style=\"fill:#fde725;stroke:#fde725;\" x=\"171.735725\" xlink:href=\"#C0_0_5b1da75df5\" y=\"37.797393\"/>\r\n    </g>\r\n    <g clip-path=\"url(#pc2063d88c5)\">\r\n     <use style=\"fill:#fde725;stroke:#fde725;\" x=\"79.586847\" xlink:href=\"#C0_0_5b1da75df5\" y=\"17.083636\"/>\r\n    </g>\r\n    <g clip-path=\"url(#pc2063d88c5)\">\r\n     <use style=\"fill:#fde725;stroke:#fde725;\" x=\"87.949071\" xlink:href=\"#C0_0_5b1da75df5\" y=\"37.524173\"/>\r\n    </g>\r\n    <g clip-path=\"url(#pc2063d88c5)\">\r\n     <use style=\"fill:#fde725;stroke:#fde725;\" x=\"165.686037\" xlink:href=\"#C0_0_5b1da75df5\" y=\"91.877288\"/>\r\n    </g>\r\n   </g>\r\n   <g id=\"patch_3\">\r\n    <path d=\"M 7.2 224.64 \r\nL 7.2 7.2 \r\n\" style=\"fill:none;stroke:#000000;stroke-linecap:square;stroke-linejoin:miter;stroke-width:0.8;\"/>\r\n   </g>\r\n   <g id=\"patch_4\">\r\n    <path d=\"M 342 224.64 \r\nL 342 7.2 \r\n\" style=\"fill:none;stroke:#000000;stroke-linecap:square;stroke-linejoin:miter;stroke-width:0.8;\"/>\r\n   </g>\r\n   <g id=\"patch_5\">\r\n    <path d=\"M 7.2 224.64 \r\nL 342 224.64 \r\n\" style=\"fill:none;stroke:#000000;stroke-linecap:square;stroke-linejoin:miter;stroke-width:0.8;\"/>\r\n   </g>\r\n   <g id=\"patch_6\">\r\n    <path d=\"M 7.2 7.2 \r\nL 342 7.2 \r\n\" style=\"fill:none;stroke:#000000;stroke-linecap:square;stroke-linejoin:miter;stroke-width:0.8;\"/>\r\n   </g>\r\n  </g>\r\n </g>\r\n <defs>\r\n  <clipPath id=\"pc2063d88c5\">\r\n   <rect height=\"217.44\" width=\"334.8\" x=\"7.2\" y=\"7.2\"/>\r\n  </clipPath>\r\n </defs>\r\n</svg>\r\n",
      "image/png": "[encoded data removed]"
     },
     "metadata": {}
    }
   ],
   "source": [
    "import matplotlib.cm as cm\n",
    "\n",
    "# draw the graph\n",
    "pos = nx.spring_layout(G)\n",
    "# color the nodes according to their partition\n",
    "cmap = cm.get_cmap('viridis', max(com.values()) + 1)\n",
    "nx.draw_networkx_nodes(G, pos, com.keys(), node_size=40,\n",
    "                       cmap=cmap, node_color=list(com.values()))\n",
    "nx.draw_networkx_edges(G, pos, alpha=0.5)\n",
    "plt.show()"
   ]
  }
 ]
}