{
 "cells": [
  {
   "cell_type": "code",
   "execution_count": 5,
   "metadata": {},
   "outputs": [],
   "source": [
    "import community as community_louvain\n",
    "from time import time\n",
    "import math\n",
    "from tqdm.notebook import tqdm\n",
    "import networkx as nx\n",
    "import leidenalg\n",
    "import igraph"
   ]
  },
  {
   "cell_type": "code",
   "execution_count": 3,
   "metadata": {},
   "outputs": [],
   "source": [
    "# Defining the graph\n",
    "G = nx.read_edgelist('com-dblp.ungraph.txt',create_using=nx.Graph(), nodetype = int)\n",
    "nodes = list(G.nodes())"
   ]
  },
  {
   "cell_type": "code",
   "execution_count": 7,
   "metadata": {},
   "outputs": [],
   "source": [
    "def from_dict_to_list(partition):\n",
    "    \"\"\"Perfomrs the inverse operation of the community_to_dict function\"\"\"\n",
    "    num_part = max(partition.values())\n",
    "    part = [[] for i in range(num_part+1)]\n",
    "    for node in partition:\n",
    "        part[partition[node]].append(node)\n",
    "    return part"
   ]
  },
  {
   "cell_type": "code",
   "execution_count": 8,
   "metadata": {},
   "outputs": [],
   "source": [
    "def deg_best_result_of_N_Louvain(G, N):\n",
    "\n",
    "    best_mod = -math.inf\n",
    "    best_partition = None\n",
    "\n",
    "    for i in tqdm(range(N)):\n",
    "        partition = community_louvain.best_partition(G)\n",
    "        q = community_louvain.modularity(partition, G)\n",
    "        if q > best_mod:\n",
    "            best_mod = q\n",
    "            best_partition = partition\n",
    "    return best_partition, best_mod"
   ]
  },
  {
   "cell_type": "code",
   "execution_count": 9,
   "metadata": {},
   "outputs": [],
   "source": [
    "def deg_best_result_of_N_Leiden(G, N):\n",
    "\n",
    "    best_mod = -math.inf\n",
    "    best_partition = None\n",
    "    for i in tqdm(range(N)):\n",
    "        g = igraph.Graph.TupleList(G.edges(), directed=False)\n",
    "        part = leidenalg.find_partition(g, leidenalg.ModularityVertexPartition)\n",
    "        q = part.modularity\n",
    "        if q > best_mod:\n",
    "            best_mod = q\n",
    "            best_partition = partition\n",
    "    return best_partition, best_mod"
   ]
  },
  {
   "cell_type": "code",
   "execution_count": 4,
   "metadata": {},
   "outputs": [],
   "source": [
    "# 1%, 5%, 10%, 50%, 100%\n",
    "p = 0.01\n",
    "N = int(len(nodes)*p)\n",
    "G_sub = G.subgraph(nodes[0:N])"
   ]
  },
  {
   "source": [
    "# Louvain Open source"
   ],
   "cell_type": "markdown",
   "metadata": {}
  },
  {
   "cell_type": "code",
   "execution_count": 11,
   "metadata": {},
   "outputs": [
    {
     "output_type": "display_data",
     "data": {
      "text/plain": "HBox(children=(FloatProgress(value=0.0, max=10.0), HTML(value='')))",
      "application/vnd.jupyter.widget-view+json": {
       "version_major": 2,
       "version_minor": 0,
       "model_id": "329228b3a6d64f349973070246bcafe0"
      }
     },
     "metadata": {}
    },
    {
     "output_type": "stream",
     "name": "stdout",
     "text": [
      "\nTime: 8.15242624282837s\nModularity: 0.8560594589927064\n"
     ]
    }
   ],
   "source": [
    "t0 = time()\n",
    "partition, q = deg_best_result_of_N_Louvain(G_sub, N=10)\n",
    "print(f'Time: {time() - t0}s')\n",
    "print(f'Modularity: {q}')"
   ]
  },
  {
   "source": [
    "# Leiden Open Source"
   ],
   "cell_type": "markdown",
   "metadata": {}
  },
  {
   "cell_type": "code",
   "execution_count": 12,
   "metadata": {},
   "outputs": [
    {
     "output_type": "display_data",
     "data": {
      "text/plain": "HBox(children=(FloatProgress(value=0.0, max=10.0), HTML(value='')))",
      "application/vnd.jupyter.widget-view+json": {
       "version_major": 2,
       "version_minor": 0,
       "model_id": "83247a334e744bada0b1c417acc80451"
      }
     },
     "metadata": {}
    },
    {
     "output_type": "stream",
     "name": "stdout",
     "text": [
      "\nTime: 1.2022688388824463s\nModularity: 0.8577436584758474\n"
     ]
    }
   ],
   "source": [
    "t0 = time()\n",
    "partition, q = deg_best_result_of_N_Leiden(G_sub, N=10)\n",
    "print(f'Time: {time() - t0}s')\n",
    "print(f'Modularity: {q}')"
   ]
  }
 ],
 "metadata": {
  "kernelspec": {
   "display_name": "Python 3",
   "language": "python",
   "name": "python3"
  },
  "language_info": {
   "codemirror_mode": {
    "name": "ipython",
    "version": 3
   },
   "file_extension": ".py",
   "mimetype": "text/x-python",
   "name": "python",
   "nbconvert_exporter": "python",
   "pygments_lexer": "ipython3",
   "version": "3.8.3-final"
  }
 },
 "nbformat": 4,
 "nbformat_minor": 4
}